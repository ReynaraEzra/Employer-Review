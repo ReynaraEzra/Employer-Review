{
  "nbformat": 4,
  "nbformat_minor": 5,
  "metadata": {
    "accelerator": "GPU",
    "colab": {
      "name": "Employer_Review_Prediction_(For_Algoritma_ML_Industry).ipynb",
      "provenance": [],
      "collapsed_sections": [
        "628c0b56",
        "2312d137",
        "3d2dad27",
        "fbf861ed",
        "167e1824",
        "cebd3790",
        "13b65ba3",
        "a1886f28",
        "7fd04c32",
        "589ec56d",
        "e4e76bbf",
        "af4030e6",
        "41d15833",
        "815f3520",
        "e0615472",
        "645b8933",
        "f143c628",
        "e561386e",
        "73f2b91a",
        "921ea1ab",
        "63aa19fc",
        "850ae8d1"
      ]
    },
    "kernelspec": {
      "display_name": "Python 3",
      "name": "python3"
    },
    "language_info": {
      "name": "python"
    },
    "toc": {
      "base_numbering": 1,
      "nav_menu": {},
      "number_sections": true,
      "sideBar": true,
      "skip_h1_title": false,
      "title_cell": "Table of Contents",
      "title_sidebar": "Contents",
      "toc_cell": false,
      "toc_position": {},
      "toc_section_display": true,
      "toc_window_display": true
    },
    "varInspector": {
      "cols": {
        "lenName": 16,
        "lenType": 16,
        "lenVar": 40
      },
      "kernels_config": {
        "python": {
          "delete_cmd_postfix": "",
          "delete_cmd_prefix": "del ",
          "library": "var_list.py",
          "varRefreshCmd": "print(var_dic_list())"
        },
        "r": {
          "delete_cmd_postfix": ") ",
          "delete_cmd_prefix": "rm(",
          "library": "var_list.r",
          "varRefreshCmd": "cat(var_dic_list()) "
        }
      },
      "types_to_exclude": [
        "module",
        "function",
        "builtin_function_or_method",
        "instance",
        "_Feature"
      ],
      "window_display": false
    }
  },
  "cells": [
    {
      "cell_type": "markdown",
      "metadata": {
        "id": "063f65b3"
      },
      "source": [
        "# Employer Review Prediction"
      ],
      "id": "063f65b3"
    },
    {
      "cell_type": "markdown",
      "metadata": {
        "id": "a25c0b2d"
      },
      "source": [
        "By : Reynara Ezra Pratama"
      ],
      "id": "a25c0b2d"
    },
    {
      "cell_type": "markdown",
      "metadata": {
        "id": "358caa8b"
      },
      "source": [
        "# Background"
      ],
      "id": "358caa8b"
    },
    {
      "cell_type": "markdown",
      "metadata": {
        "id": "4142b567"
      },
      "source": [
        "![Indeed%20Review.png](attachment:Indeed%20Review.png)"
      ],
      "id": "4142b567"
    },
    {
      "cell_type": "markdown",
      "metadata": {
        "id": "8936f4d1"
      },
      "source": [
        "Source : [Indeed Image](https://rallyrecruitmentmarketing.com/2018/02/18-employer-review-sites-to-put-on-your-radar/)"
      ],
      "id": "8936f4d1"
    },
    {
      "cell_type": "markdown",
      "metadata": {
        "id": "b239c35d"
      },
      "source": [
        "*Employer Review* adalah sebuah bentuk yang mengacu pada konten yang ditulis oleh seorang *employer* atau karyawan terhadap perusahaannya yang dapat diunggah secara publik ataupun tidak. Setiap organisasi tentunya membutuhkan seseorang untuk menggerakkan organisasi tersebut. Oleh karenanya, setiap *review* yang diberikan terhadap suatu produk, jasa, atau terkait perusahaan tentunya akan berdampak terhadap perusahaan. Setiap *review* baik yang positif ataupun negatif akan memengaruhi keputusan orang atau sekelompok orang yang ingin bergabung, menggunakan jasa, atau membeli produk dari perusahaan tersebut. Dengan mengetahui bagaimana *review* yang diberikan oleh pegawai terhadap perusahaannya, diharapkan pihak perusahaan dapat melakukan evaluasi apabila terdapat banyak *review* negatif atau mempertahankan kinerja dan terus berinovasi apabila terdahap *review* positif."
      ],
      "id": "b239c35d"
    },
    {
      "cell_type": "markdown",
      "metadata": {
        "id": "11d1d94d"
      },
      "source": [
        "Oleh karena itu akan dilihat bagaimana *review* yang diberikan oleh pegawai terhadap suatu perusahaan berdasarkan data yang telah diperoleh. Selain itu, akan dibangun juga modle prediksi untuk melakukan klasifikasi *review* yang diberikan oleh pegawai untuk dikategorikan ke dalam *review* yang bersifat positif, netral, atau negatif."
      ],
      "id": "11d1d94d"
    },
    {
      "cell_type": "markdown",
      "metadata": {
        "id": "fc9ebcda"
      },
      "source": [
        "# Modelling Analysis"
      ],
      "id": "fc9ebcda"
    },
    {
      "cell_type": "markdown",
      "metadata": {
        "id": "fd355dcc"
      },
      "source": [
        "Data dikumpulkan pada situs [Indeed](https://id.indeed.com/?r=us) yang merupakan salah satu situs lowongan kerja no 1 di dunia dengan lebih dari 250 juta pengunjung unik2 setiap bulannya. Indeed berkomitmen untuk mengutamakan para pencari kerja, memberi mereka akses gratis untuk mencari pekerjaan, membuat CV, dan mencari tahu informasi tentang sebuah perusahaan. Setiap hari, Indeed menghubungkan jutaan orang dengan peluang-peluang baru.\n",
        "\n",
        "Adapun dataset yang akan digunakan dapat dilihat pada [Employer Review](https://www.kaggle.com/muhammedabdulazeem/employer-review-about-their-organization)"
      ],
      "id": "fd355dcc"
    },
    {
      "cell_type": "markdown",
      "metadata": {
        "id": "457511ba"
      },
      "source": [
        "## Import Library"
      ],
      "id": "457511ba"
    },
    {
      "cell_type": "code",
      "metadata": {
        "colab": {
          "base_uri": "https://localhost:8080/"
        },
        "id": "acd907d9",
        "outputId": "c56cca2a-abe5-4719-ffde-af85665f52a8"
      },
      "source": [
        "import itertools\n",
        "import collections\n",
        "\n",
        "import pandas as pd\n",
        "import numpy as np\n",
        "import matplotlib.pyplot as plt\n",
        "import seaborn as sns\n",
        "sns.set_theme()\n",
        "\n",
        "from sklearn.preprocessing import OneHotEncoder\n",
        "from sklearn.model_selection import train_test_split\n",
        "from sklearn.metrics import confusion_matrix\n",
        "from sklearn.metrics import accuracy_score\n",
        "from imblearn.over_sampling import RandomOverSampler\n",
        "\n",
        "import tensorflow as tf\n",
        "import nltk\n",
        "import re\n",
        "\n",
        "from tensorflow.keras.preprocessing.text import Tokenizer\n",
        "from tensorflow.keras.preprocessing.sequence import pad_sequences\n",
        "\n",
        "from nltk.corpus import stopwords\n",
        "from nltk.stem.porter import PorterStemmer\n",
        "nltk.download('stopwords')\n",
        "\n",
        "import warnings \n",
        "warnings.filterwarnings('ignore')"
      ],
      "id": "acd907d9",
      "execution_count": null,
      "outputs": [
        {
          "name": "stderr",
          "output_type": "stream",
          "text": [
            "/usr/local/lib/python3.7/dist-packages/sklearn/externals/six.py:31: FutureWarning: The module is deprecated in version 0.21 and will be removed in version 0.23 since we've dropped support for Python 2.7. Please rely on the official version of six (https://pypi.org/project/six/).\n",
            "  \"(https://pypi.org/project/six/).\", FutureWarning)\n",
            "/usr/local/lib/python3.7/dist-packages/sklearn/utils/deprecation.py:144: FutureWarning: The sklearn.neighbors.base module is  deprecated in version 0.22 and will be removed in version 0.24. The corresponding classes / functions should instead be imported from sklearn.neighbors. Anything that cannot be imported from sklearn.neighbors is now part of the private API.\n",
            "  warnings.warn(message, FutureWarning)\n"
          ]
        },
        {
          "name": "stdout",
          "output_type": "stream",
          "text": [
            "[nltk_data] Downloading package stopwords to /root/nltk_data...\n",
            "[nltk_data]   Unzipping corpora/stopwords.zip.\n"
          ]
        }
      ]
    },
    {
      "cell_type": "markdown",
      "metadata": {
        "id": "cd3e420b"
      },
      "source": [
        "## Import Data"
      ],
      "id": "cd3e420b"
    },
    {
      "cell_type": "markdown",
      "metadata": {
        "id": "e5629108"
      },
      "source": [
        "**Load Data From Github**"
      ],
      "id": "e5629108"
    },
    {
      "cell_type": "code",
      "metadata": {
        "id": "8a9ad1b5"
      },
      "source": [
        "url = \"https://raw.githubusercontent.com/ReynaraEzra/Employer-Review/main/data_input/results.json\"\n",
        "df = pd.read_json(url)"
      ],
      "id": "8a9ad1b5",
      "execution_count": null,
      "outputs": []
    },
    {
      "cell_type": "markdown",
      "metadata": {
        "id": "244cba15"
      },
      "source": [
        "**Load Data From Local File**"
      ],
      "id": "244cba15"
    },
    {
      "cell_type": "code",
      "metadata": {
        "id": "4e4c39e0"
      },
      "source": [
        "# df = pd.read_json('data_input/results.json')"
      ],
      "id": "4e4c39e0",
      "execution_count": null,
      "outputs": []
    },
    {
      "cell_type": "markdown",
      "metadata": {
        "id": "628c0b56"
      },
      "source": [
        "## Checking Data"
      ],
      "id": "628c0b56"
    },
    {
      "cell_type": "markdown",
      "metadata": {
        "id": "b54b3fc0"
      },
      "source": [
        "Pertama, kita akan mengecek ukuran dari data kita menggunakan attribut `.shape`."
      ],
      "id": "b54b3fc0"
    },
    {
      "cell_type": "code",
      "metadata": {
        "colab": {
          "base_uri": "https://localhost:8080/"
        },
        "id": "33ec1008",
        "outputId": "88fcbc88-1a98-4eb6-b89c-87d02f14766b"
      },
      "source": [
        "print('Number of Data : {}'.format(df.shape[0]))"
      ],
      "id": "33ec1008",
      "execution_count": null,
      "outputs": [
        {
          "name": "stdout",
          "output_type": "stream",
          "text": [
            "Number of Data : 145209\n"
          ]
        }
      ]
    },
    {
      "cell_type": "markdown",
      "metadata": {
        "id": "2524932b"
      },
      "source": [
        "Terlihat bahwa terdapat 145209 baris pada dataset."
      ],
      "id": "2524932b"
    },
    {
      "cell_type": "markdown",
      "metadata": {
        "id": "fe8d1a15"
      },
      "source": [
        "Akan dilihat 5 data teratas pada dataframe `df`."
      ],
      "id": "fe8d1a15"
    },
    {
      "cell_type": "code",
      "metadata": {
        "colab": {
          "base_uri": "https://localhost:8080/"
        },
        "id": "903ea7d5",
        "outputId": "bf6a6ca3-9c0b-47e1-d4ae-aad2d9cc95f8"
      },
      "source": [
        "df.head()"
      ],
      "id": "903ea7d5",
      "execution_count": null,
      "outputs": [
        {
          "data": {
            "text/html": [
              "<div>\n",
              "<style scoped>\n",
              "    .dataframe tbody tr th:only-of-type {\n",
              "        vertical-align: middle;\n",
              "    }\n",
              "\n",
              "    .dataframe tbody tr th {\n",
              "        vertical-align: top;\n",
              "    }\n",
              "\n",
              "    .dataframe thead th {\n",
              "        text-align: right;\n",
              "    }\n",
              "</style>\n",
              "<table border=\"1\" class=\"dataframe\">\n",
              "  <thead>\n",
              "    <tr style=\"text-align: right;\">\n",
              "      <th></th>\n",
              "      <th>ReviewTitle</th>\n",
              "      <th>CompleteReview</th>\n",
              "      <th>URL</th>\n",
              "      <th>Rating</th>\n",
              "      <th>ReviewDetails</th>\n",
              "    </tr>\n",
              "  </thead>\n",
              "  <tbody>\n",
              "    <tr>\n",
              "      <th>0</th>\n",
              "      <td>Productive</td>\n",
              "      <td>Good company, cool workplace, work load little...</td>\n",
              "      <td>https://in.indeed.com/cmp/Reliance-Industries-...</td>\n",
              "      <td>3</td>\n",
              "      <td>(Current Employee)  -  Ghansoli  -  August 30,...</td>\n",
              "    </tr>\n",
              "    <tr>\n",
              "      <th>1</th>\n",
              "      <td>Stressful</td>\n",
              "      <td>1. Need to work on boss's whims and fancies 2....</td>\n",
              "      <td>https://in.indeed.com/cmp/Reliance-Industries-...</td>\n",
              "      <td>3</td>\n",
              "      <td>(Former Employee)  -   -  August 26, 2021</td>\n",
              "    </tr>\n",
              "    <tr>\n",
              "      <th>2</th>\n",
              "      <td>Good Company for Every employee</td>\n",
              "      <td>Good company for every Engineers dream, Full M...</td>\n",
              "      <td>https://in.indeed.com/cmp/Reliance-Industries-...</td>\n",
              "      <td>5</td>\n",
              "      <td>(Former Employee)  -   -  August 17, 2021</td>\n",
              "    </tr>\n",
              "    <tr>\n",
              "      <th>3</th>\n",
              "      <td>Productive</td>\n",
              "      <td>I am just pass out bsc in chemistry Typical da...</td>\n",
              "      <td>https://in.indeed.com/cmp/Reliance-Industries-...</td>\n",
              "      <td>5</td>\n",
              "      <td>(Current Employee)  -   -  August 17, 2021</td>\n",
              "    </tr>\n",
              "    <tr>\n",
              "      <th>4</th>\n",
              "      <td>Non productive</td>\n",
              "      <td>Not so fun at work just blame games  Target pe...</td>\n",
              "      <td>https://in.indeed.com/cmp/Reliance-Industries-...</td>\n",
              "      <td>1</td>\n",
              "      <td>(Former Employee)  -   -  August 9, 2021</td>\n",
              "    </tr>\n",
              "  </tbody>\n",
              "</table>\n",
              "</div>"
            ],
            "text/plain": [
              "                       ReviewTitle  ...                                      ReviewDetails\n",
              "0                       Productive  ...  (Current Employee)  -  Ghansoli  -  August 30,...\n",
              "1                        Stressful  ...          (Former Employee)  -   -  August 26, 2021\n",
              "2  Good Company for Every employee  ...          (Former Employee)  -   -  August 17, 2021\n",
              "3                       Productive  ...         (Current Employee)  -   -  August 17, 2021\n",
              "4                   Non productive  ...           (Former Employee)  -   -  August 9, 2021\n",
              "\n",
              "[5 rows x 5 columns]"
            ]
          },
          "execution_count": 5,
          "metadata": {},
          "output_type": "execute_result"
        }
      ]
    },
    {
      "cell_type": "markdown",
      "metadata": {
        "id": "2312d137"
      },
      "source": [
        "## Description Data"
      ],
      "id": "2312d137"
    },
    {
      "cell_type": "markdown",
      "metadata": {
        "id": "9e895bfc"
      },
      "source": [
        "Terdapat 5 buah kolom pada data kita yaitu `ReviewTitle`, `CompleteReview`, `URL`, `Rating`, `ReviewDetails`.\n",
        "\n",
        "1. `ReviewTitle` : Topik dari *review*.\n",
        "2. `CompleteReview` : *Review* yang diberikan pegawai perusahaan.\n",
        "3. `URL` : *Uniform Resource Locator*.\n",
        "4. `Rating` : Penilaian yang diberikan pegawai perusahaan.\n",
        "5. `ReviewDetails` : Detail mengenai *review*."
      ],
      "id": "9e895bfc"
    },
    {
      "cell_type": "markdown",
      "metadata": {
        "id": "304a95ea"
      },
      "source": [
        "## Data Preparation"
      ],
      "id": "304a95ea"
    },
    {
      "cell_type": "markdown",
      "metadata": {
        "id": "3d2dad27"
      },
      "source": [
        "### Check Data Column and Info"
      ],
      "id": "3d2dad27"
    },
    {
      "cell_type": "code",
      "metadata": {
        "colab": {
          "base_uri": "https://localhost:8080/"
        },
        "id": "128b691a",
        "outputId": "c85b49f4-d124-4a0d-9b1e-58f3f3b33b27"
      },
      "source": [
        "df.columns"
      ],
      "id": "128b691a",
      "execution_count": null,
      "outputs": [
        {
          "data": {
            "text/plain": [
              "Index(['ReviewTitle', 'CompleteReview', 'URL', 'Rating', 'ReviewDetails'], dtype='object')"
            ]
          },
          "execution_count": 6,
          "metadata": {},
          "output_type": "execute_result"
        }
      ]
    },
    {
      "cell_type": "code",
      "metadata": {
        "colab": {
          "base_uri": "https://localhost:8080/"
        },
        "id": "cfb56839",
        "outputId": "d286e243-d459-4b17-c95b-81253d6f96d5"
      },
      "source": [
        "df.info()"
      ],
      "id": "cfb56839",
      "execution_count": null,
      "outputs": [
        {
          "name": "stdout",
          "output_type": "stream",
          "text": [
            "<class 'pandas.core.frame.DataFrame'>\n",
            "RangeIndex: 145209 entries, 0 to 145208\n",
            "Data columns (total 5 columns):\n",
            " #   Column          Non-Null Count   Dtype \n",
            "---  ------          --------------   ----- \n",
            " 0   ReviewTitle     145209 non-null  object\n",
            " 1   CompleteReview  145209 non-null  object\n",
            " 2   URL             145209 non-null  object\n",
            " 3   Rating          145209 non-null  int64 \n",
            " 4   ReviewDetails   145209 non-null  object\n",
            "dtypes: int64(1), object(4)\n",
            "memory usage: 5.5+ MB\n"
          ]
        }
      ]
    },
    {
      "cell_type": "markdown",
      "metadata": {
        "id": "b176e0df"
      },
      "source": [
        "Terdapat 1 kolom yang bertipe integer dan 4 kolom yang bertipe object."
      ],
      "id": "b176e0df"
    },
    {
      "cell_type": "markdown",
      "metadata": {
        "id": "fbf861ed"
      },
      "source": [
        "### Check Null and Duplicate Data"
      ],
      "id": "fbf861ed"
    },
    {
      "cell_type": "markdown",
      "metadata": {
        "id": "763f600c"
      },
      "source": [
        "Untuk melihat apakah terdapat data yang kosong, kita dapat menggunakan `.isnull()` dan `.sum()`."
      ],
      "id": "763f600c"
    },
    {
      "cell_type": "code",
      "metadata": {
        "colab": {
          "base_uri": "https://localhost:8080/"
        },
        "id": "55e5f2ab",
        "outputId": "c983a7d5-4d16-41a6-d593-cec7e66971ff"
      },
      "source": [
        "df.isnull().sum()"
      ],
      "id": "55e5f2ab",
      "execution_count": null,
      "outputs": [
        {
          "data": {
            "text/plain": [
              "ReviewTitle       0\n",
              "CompleteReview    0\n",
              "URL               0\n",
              "Rating            0\n",
              "ReviewDetails     0\n",
              "dtype: int64"
            ]
          },
          "execution_count": 8,
          "metadata": {},
          "output_type": "execute_result"
        }
      ]
    },
    {
      "cell_type": "markdown",
      "metadata": {
        "id": "c4135400"
      },
      "source": [
        "Tidak ada data yang kosong."
      ],
      "id": "c4135400"
    },
    {
      "cell_type": "markdown",
      "metadata": {
        "id": "56dc3138"
      },
      "source": [
        "Untuk membuang data duplikat, dapat digunakan `.drop_duplicates()`."
      ],
      "id": "56dc3138"
    },
    {
      "cell_type": "code",
      "metadata": {
        "colab": {
          "base_uri": "https://localhost:8080/"
        },
        "id": "f3ffdda8",
        "outputId": "0ecbe3d3-941d-4735-b6af-886d652c01b4"
      },
      "source": [
        "print('Ukuran data sebelum drop duplicate :', df.shape)\n",
        "df = df.drop_duplicates(keep='first')\n",
        "df.reset_index(drop=True, inplace=True)\n",
        "print('Ukuran data setelah drop duplicate :', df.shape)"
      ],
      "id": "f3ffdda8",
      "execution_count": null,
      "outputs": [
        {
          "name": "stdout",
          "output_type": "stream",
          "text": [
            "Ukuran data sebelum drop duplicate : (145209, 5)\n",
            "Ukuran data setelah drop duplicate : (145191, 5)\n"
          ]
        }
      ]
    },
    {
      "cell_type": "markdown",
      "metadata": {
        "id": "69103a7c"
      },
      "source": [
        "Jumlah data setelah dibuang data duplikat adalah 145191 baris."
      ],
      "id": "69103a7c"
    },
    {
      "cell_type": "markdown",
      "metadata": {
        "id": "167e1824"
      },
      "source": [
        "### Summary Data"
      ],
      "id": "167e1824"
    },
    {
      "cell_type": "code",
      "metadata": {
        "colab": {
          "base_uri": "https://localhost:8080/"
        },
        "id": "e5c5ea2b",
        "outputId": "c3287291-8e46-4e0a-a0ef-663dc9900b24"
      },
      "source": [
        "df.describe()"
      ],
      "id": "e5c5ea2b",
      "execution_count": null,
      "outputs": [
        {
          "data": {
            "text/html": [
              "<div>\n",
              "<style scoped>\n",
              "    .dataframe tbody tr th:only-of-type {\n",
              "        vertical-align: middle;\n",
              "    }\n",
              "\n",
              "    .dataframe tbody tr th {\n",
              "        vertical-align: top;\n",
              "    }\n",
              "\n",
              "    .dataframe thead th {\n",
              "        text-align: right;\n",
              "    }\n",
              "</style>\n",
              "<table border=\"1\" class=\"dataframe\">\n",
              "  <thead>\n",
              "    <tr style=\"text-align: right;\">\n",
              "      <th></th>\n",
              "      <th>Rating</th>\n",
              "    </tr>\n",
              "  </thead>\n",
              "  <tbody>\n",
              "    <tr>\n",
              "      <th>count</th>\n",
              "      <td>145191.000000</td>\n",
              "    </tr>\n",
              "    <tr>\n",
              "      <th>mean</th>\n",
              "      <td>4.053605</td>\n",
              "    </tr>\n",
              "    <tr>\n",
              "      <th>std</th>\n",
              "      <td>0.925825</td>\n",
              "    </tr>\n",
              "    <tr>\n",
              "      <th>min</th>\n",
              "      <td>1.000000</td>\n",
              "    </tr>\n",
              "    <tr>\n",
              "      <th>25%</th>\n",
              "      <td>4.000000</td>\n",
              "    </tr>\n",
              "    <tr>\n",
              "      <th>50%</th>\n",
              "      <td>4.000000</td>\n",
              "    </tr>\n",
              "    <tr>\n",
              "      <th>75%</th>\n",
              "      <td>5.000000</td>\n",
              "    </tr>\n",
              "    <tr>\n",
              "      <th>max</th>\n",
              "      <td>5.000000</td>\n",
              "    </tr>\n",
              "  </tbody>\n",
              "</table>\n",
              "</div>"
            ],
            "text/plain": [
              "              Rating\n",
              "count  145191.000000\n",
              "mean        4.053605\n",
              "std         0.925825\n",
              "min         1.000000\n",
              "25%         4.000000\n",
              "50%         4.000000\n",
              "75%         5.000000\n",
              "max         5.000000"
            ]
          },
          "execution_count": 10,
          "metadata": {},
          "output_type": "execute_result"
        }
      ]
    },
    {
      "cell_type": "markdown",
      "metadata": {
        "id": "b3dd4afa"
      },
      "source": [
        "Berdasarkan statistika deskriptif di atas, terlihat untuk rataan Rating yang diberikan oleh pegawai terhadap organisasi atau perusahaannya adalah 4,053."
      ],
      "id": "b3dd4afa"
    },
    {
      "cell_type": "markdown",
      "metadata": {
        "id": "cebd3790"
      },
      "source": [
        "## Feature Extraction"
      ],
      "id": "cebd3790"
    },
    {
      "cell_type": "markdown",
      "metadata": {
        "id": "e308439a"
      },
      "source": [
        "Dikarenakan jumlah kolom atau *feature* yang kita miliki masih sedikit, akan sulit untuk melakukan tahapan eksplorasi pada data kita. Oleh karena itu, akan dibentuk *feature* atau kolom baru berdasarkan kolom yang telah ada."
      ],
      "id": "e308439a"
    },
    {
      "cell_type": "markdown",
      "metadata": {
        "id": "13b65ba3"
      },
      "source": [
        "### Create a `Company Name` Column"
      ],
      "id": "13b65ba3"
    },
    {
      "cell_type": "markdown",
      "metadata": {
        "id": "011cbc1d"
      },
      "source": [
        "Pada kolom `URL`, dapat diperoleh informasi terkait nama perusahaan yang diberikan *review* oleh pegawainya. Untuk dapat mengambil nama, dapat dilakukan proses *slicing* data menggunakan acessor `.str` yang dapat digunakan untuk data bertipe string/object dan method `.split()` dengan parameter `/`. Kolom yang memuat nama perusahaan tersebut akan kita simpan ke dalam `Company Name`."
      ],
      "id": "011cbc1d"
    },
    {
      "cell_type": "code",
      "metadata": {
        "colab": {
          "base_uri": "https://localhost:8080/"
        },
        "id": "038e16a9",
        "outputId": "23ac2c67-2eb6-402d-9df8-d21cdcd50260"
      },
      "source": [
        "df['Company Name'] = df['URL'].str.split('/')\n",
        "df['Company Name'] = df['Company Name'].str[4]\n",
        "df['Company Name'].unique()"
      ],
      "id": "038e16a9",
      "execution_count": null,
      "outputs": [
        {
          "data": {
            "text/plain": [
              "array(['Reliance-Industries-Ltd', 'Mphasis', 'Kpmg', 'Yes-Bank',\n",
              "       'Sutherland', 'Marriott-International,-Inc.', 'DHL', 'Jio',\n",
              "       'Vodafoneziggo', 'HP', 'Maersk', 'Ride.swiggy', 'Jll', 'Alstom',\n",
              "       'UnitedHealth-Group', 'Tata-Consultancy-Services-(tcs)',\n",
              "       'Capgemini', 'Teleperformance', 'Cognizant-Technology-Solutions',\n",
              "       'Mahindra-&-Mahindra-Ltd', 'L&T-Technology-Services-Ltd.',\n",
              "       'Bharti-Airtel-Limited', 'Indeed', 'Hyatt',\n",
              "       'Icici-Prudential-Life-Insurance', 'Accenture', 'Honeywell',\n",
              "       'Standard-Chartered-Bank', 'Nokia', 'Apollo-Hospitals',\n",
              "       'Tata-Aia-Life', 'Hdfc-Bank', 'Bosch', 'Deloitte', 'Ey',\n",
              "       'Microsoft', 'Barclays', 'JPMorgan-Chase', 'Muthoot-Finance',\n",
              "       'Wns-Global-Services', 'Kotak-Mahindra-Bank', 'Infosys', 'Oracle',\n",
              "       \"Byju's\", 'Deutsche-Bank', 'Hinduja-Global-Solutions', 'Ericsson',\n",
              "       'Axis-Bank', 'IBM', 'Concentrix', 'Wells-Fargo', 'Google',\n",
              "       'Dell-Technologies', 'Facebook', 'Amazon.com', 'Flipkart.com',\n",
              "       'American-Express', 'Citi', 'HSBC'], dtype=object)"
            ]
          },
          "execution_count": 11,
          "metadata": {},
          "output_type": "execute_result"
        }
      ]
    },
    {
      "cell_type": "markdown",
      "metadata": {
        "id": "98d10608"
      },
      "source": [
        "Terlihat nama perusahaan yang ada pada dataset kita setelah dilakukan proses *slicing*."
      ],
      "id": "98d10608"
    },
    {
      "cell_type": "code",
      "metadata": {
        "colab": {
          "base_uri": "https://localhost:8080/"
        },
        "id": "b6c72716",
        "outputId": "cdcd6bb4-60bd-43de-b1b4-f41484b6e8f0"
      },
      "source": [
        "df.head()"
      ],
      "id": "b6c72716",
      "execution_count": null,
      "outputs": [
        {
          "data": {
            "text/html": [
              "<div>\n",
              "<style scoped>\n",
              "    .dataframe tbody tr th:only-of-type {\n",
              "        vertical-align: middle;\n",
              "    }\n",
              "\n",
              "    .dataframe tbody tr th {\n",
              "        vertical-align: top;\n",
              "    }\n",
              "\n",
              "    .dataframe thead th {\n",
              "        text-align: right;\n",
              "    }\n",
              "</style>\n",
              "<table border=\"1\" class=\"dataframe\">\n",
              "  <thead>\n",
              "    <tr style=\"text-align: right;\">\n",
              "      <th></th>\n",
              "      <th>ReviewTitle</th>\n",
              "      <th>CompleteReview</th>\n",
              "      <th>URL</th>\n",
              "      <th>Rating</th>\n",
              "      <th>ReviewDetails</th>\n",
              "      <th>Company Name</th>\n",
              "    </tr>\n",
              "  </thead>\n",
              "  <tbody>\n",
              "    <tr>\n",
              "      <th>0</th>\n",
              "      <td>Productive</td>\n",
              "      <td>Good company, cool workplace, work load little...</td>\n",
              "      <td>https://in.indeed.com/cmp/Reliance-Industries-...</td>\n",
              "      <td>3</td>\n",
              "      <td>(Current Employee)  -  Ghansoli  -  August 30,...</td>\n",
              "      <td>Reliance-Industries-Ltd</td>\n",
              "    </tr>\n",
              "    <tr>\n",
              "      <th>1</th>\n",
              "      <td>Stressful</td>\n",
              "      <td>1. Need to work on boss's whims and fancies 2....</td>\n",
              "      <td>https://in.indeed.com/cmp/Reliance-Industries-...</td>\n",
              "      <td>3</td>\n",
              "      <td>(Former Employee)  -   -  August 26, 2021</td>\n",
              "      <td>Reliance-Industries-Ltd</td>\n",
              "    </tr>\n",
              "    <tr>\n",
              "      <th>2</th>\n",
              "      <td>Good Company for Every employee</td>\n",
              "      <td>Good company for every Engineers dream, Full M...</td>\n",
              "      <td>https://in.indeed.com/cmp/Reliance-Industries-...</td>\n",
              "      <td>5</td>\n",
              "      <td>(Former Employee)  -   -  August 17, 2021</td>\n",
              "      <td>Reliance-Industries-Ltd</td>\n",
              "    </tr>\n",
              "    <tr>\n",
              "      <th>3</th>\n",
              "      <td>Productive</td>\n",
              "      <td>I am just pass out bsc in chemistry Typical da...</td>\n",
              "      <td>https://in.indeed.com/cmp/Reliance-Industries-...</td>\n",
              "      <td>5</td>\n",
              "      <td>(Current Employee)  -   -  August 17, 2021</td>\n",
              "      <td>Reliance-Industries-Ltd</td>\n",
              "    </tr>\n",
              "    <tr>\n",
              "      <th>4</th>\n",
              "      <td>Non productive</td>\n",
              "      <td>Not so fun at work just blame games  Target pe...</td>\n",
              "      <td>https://in.indeed.com/cmp/Reliance-Industries-...</td>\n",
              "      <td>1</td>\n",
              "      <td>(Former Employee)  -   -  August 9, 2021</td>\n",
              "      <td>Reliance-Industries-Ltd</td>\n",
              "    </tr>\n",
              "  </tbody>\n",
              "</table>\n",
              "</div>"
            ],
            "text/plain": [
              "                       ReviewTitle  ...             Company Name\n",
              "0                       Productive  ...  Reliance-Industries-Ltd\n",
              "1                        Stressful  ...  Reliance-Industries-Ltd\n",
              "2  Good Company for Every employee  ...  Reliance-Industries-Ltd\n",
              "3                       Productive  ...  Reliance-Industries-Ltd\n",
              "4                   Non productive  ...  Reliance-Industries-Ltd\n",
              "\n",
              "[5 rows x 6 columns]"
            ]
          },
          "execution_count": 12,
          "metadata": {},
          "output_type": "execute_result"
        }
      ]
    },
    {
      "cell_type": "markdown",
      "metadata": {
        "id": "a1886f28"
      },
      "source": [
        "### Create a `Date` Column"
      ],
      "id": "a1886f28"
    },
    {
      "cell_type": "markdown",
      "metadata": {
        "id": "5a187999"
      },
      "source": [
        "Selain membuat kolom `Company Name`, akan dibuat juga kolom `Date` yang memuat tanggal *review* diberikan. Untuk mendapatkan tanggal, dapat dilakukan proses *slicing* pada kolom `ReviewDetails` menggunakan acessor `.str` dan method `.split()`."
      ],
      "id": "5a187999"
    },
    {
      "cell_type": "code",
      "metadata": {
        "id": "e60e37d7"
      },
      "source": [
        "df['Date'] = df['ReviewDetails'].str.split('-', expand=True)[2]"
      ],
      "id": "e60e37d7",
      "execution_count": null,
      "outputs": []
    },
    {
      "cell_type": "code",
      "metadata": {
        "colab": {
          "base_uri": "https://localhost:8080/"
        },
        "id": "d239437d",
        "outputId": "78da16ae-df46-410b-e84f-45c8dbc08d36"
      },
      "source": [
        "df.head()"
      ],
      "id": "d239437d",
      "execution_count": null,
      "outputs": [
        {
          "data": {
            "text/html": [
              "<div>\n",
              "<style scoped>\n",
              "    .dataframe tbody tr th:only-of-type {\n",
              "        vertical-align: middle;\n",
              "    }\n",
              "\n",
              "    .dataframe tbody tr th {\n",
              "        vertical-align: top;\n",
              "    }\n",
              "\n",
              "    .dataframe thead th {\n",
              "        text-align: right;\n",
              "    }\n",
              "</style>\n",
              "<table border=\"1\" class=\"dataframe\">\n",
              "  <thead>\n",
              "    <tr style=\"text-align: right;\">\n",
              "      <th></th>\n",
              "      <th>ReviewTitle</th>\n",
              "      <th>CompleteReview</th>\n",
              "      <th>URL</th>\n",
              "      <th>Rating</th>\n",
              "      <th>ReviewDetails</th>\n",
              "      <th>Company Name</th>\n",
              "      <th>Date</th>\n",
              "    </tr>\n",
              "  </thead>\n",
              "  <tbody>\n",
              "    <tr>\n",
              "      <th>0</th>\n",
              "      <td>Productive</td>\n",
              "      <td>Good company, cool workplace, work load little...</td>\n",
              "      <td>https://in.indeed.com/cmp/Reliance-Industries-...</td>\n",
              "      <td>3</td>\n",
              "      <td>(Current Employee)  -  Ghansoli  -  August 30,...</td>\n",
              "      <td>Reliance-Industries-Ltd</td>\n",
              "      <td>August 30, 2021</td>\n",
              "    </tr>\n",
              "    <tr>\n",
              "      <th>1</th>\n",
              "      <td>Stressful</td>\n",
              "      <td>1. Need to work on boss's whims and fancies 2....</td>\n",
              "      <td>https://in.indeed.com/cmp/Reliance-Industries-...</td>\n",
              "      <td>3</td>\n",
              "      <td>(Former Employee)  -   -  August 26, 2021</td>\n",
              "      <td>Reliance-Industries-Ltd</td>\n",
              "      <td>August 26, 2021</td>\n",
              "    </tr>\n",
              "    <tr>\n",
              "      <th>2</th>\n",
              "      <td>Good Company for Every employee</td>\n",
              "      <td>Good company for every Engineers dream, Full M...</td>\n",
              "      <td>https://in.indeed.com/cmp/Reliance-Industries-...</td>\n",
              "      <td>5</td>\n",
              "      <td>(Former Employee)  -   -  August 17, 2021</td>\n",
              "      <td>Reliance-Industries-Ltd</td>\n",
              "      <td>August 17, 2021</td>\n",
              "    </tr>\n",
              "    <tr>\n",
              "      <th>3</th>\n",
              "      <td>Productive</td>\n",
              "      <td>I am just pass out bsc in chemistry Typical da...</td>\n",
              "      <td>https://in.indeed.com/cmp/Reliance-Industries-...</td>\n",
              "      <td>5</td>\n",
              "      <td>(Current Employee)  -   -  August 17, 2021</td>\n",
              "      <td>Reliance-Industries-Ltd</td>\n",
              "      <td>August 17, 2021</td>\n",
              "    </tr>\n",
              "    <tr>\n",
              "      <th>4</th>\n",
              "      <td>Non productive</td>\n",
              "      <td>Not so fun at work just blame games  Target pe...</td>\n",
              "      <td>https://in.indeed.com/cmp/Reliance-Industries-...</td>\n",
              "      <td>1</td>\n",
              "      <td>(Former Employee)  -   -  August 9, 2021</td>\n",
              "      <td>Reliance-Industries-Ltd</td>\n",
              "      <td>August 9, 2021</td>\n",
              "    </tr>\n",
              "  </tbody>\n",
              "</table>\n",
              "</div>"
            ],
            "text/plain": [
              "                       ReviewTitle  ...               Date\n",
              "0                       Productive  ...    August 30, 2021\n",
              "1                        Stressful  ...    August 26, 2021\n",
              "2  Good Company for Every employee  ...    August 17, 2021\n",
              "3                       Productive  ...    August 17, 2021\n",
              "4                   Non productive  ...     August 9, 2021\n",
              "\n",
              "[5 rows x 7 columns]"
            ]
          },
          "execution_count": 14,
          "metadata": {},
          "output_type": "execute_result"
        }
      ]
    },
    {
      "cell_type": "markdown",
      "metadata": {
        "id": "7fd04c32"
      },
      "source": [
        "### Create `Year`, `Month`, `Day` Column"
      ],
      "id": "7fd04c32"
    },
    {
      "cell_type": "markdown",
      "metadata": {
        "id": "d1819789"
      },
      "source": [
        "Dilakukan proses pembentukan kolom `Year`, `Month`, dan `Day` yang memuat tahun, bulan, dan tanggal *review* diberikan."
      ],
      "id": "d1819789"
    },
    {
      "cell_type": "code",
      "metadata": {
        "id": "75b3e69b"
      },
      "source": [
        "df['Year'] = df['Date'].str.split(',', expand=True)[1]\n",
        "df['Month'] = df['Date'].str.split(' ', expand=True)[2]\n",
        "df['Day'] = df['Date'].str.split(' ', expand=True)[3]\n",
        "df['Day'] = df['Day'].str.replace(',','')"
      ],
      "id": "75b3e69b",
      "execution_count": null,
      "outputs": []
    },
    {
      "cell_type": "markdown",
      "metadata": {
        "id": "589ec56d"
      },
      "source": [
        "#### Check `Year` Column"
      ],
      "id": "589ec56d"
    },
    {
      "cell_type": "code",
      "metadata": {
        "colab": {
          "base_uri": "https://localhost:8080/"
        },
        "id": "19a40b71",
        "outputId": "471d4bf7-674b-4460-c931-5c477b3b5f35"
      },
      "source": [
        "df['Year'].unique()"
      ],
      "id": "19a40b71",
      "execution_count": null,
      "outputs": [
        {
          "data": {
            "text/plain": [
              "array([' 2021', ' 2020', ' 2019', ' 2018', ' 2017', ' 2016', None,\n",
              "       ' 2015', ' 2014', ' 2013', ' 2012', ' 2011',\n",
              "       ' GWAL PAHARI GURGAON  ', ' airoli  ', ' Malad west  ',\n",
              "       ' Sp Infocity & Quadra ', ' New Delhi', ' Tamil nadu  ',\n",
              "       'Gurgaon  '], dtype=object)"
            ]
          },
          "execution_count": 16,
          "metadata": {},
          "output_type": "execute_result"
        }
      ]
    },
    {
      "cell_type": "markdown",
      "metadata": {
        "id": "aa0ba3b1"
      },
      "source": [
        "Ketika kita mengecek kolom `Year`, terlihat bahwa terdapat beberapa nilai yang tidak sesuai. Oleh karenanya itu kita akan membuang beberapa nilai yang bukanlah tahun dimana *review* diberikan."
      ],
      "id": "aa0ba3b1"
    },
    {
      "cell_type": "code",
      "metadata": {
        "id": "f012ee4a"
      },
      "source": [
        "df['Year'] = df['Year'].str.replace(' ','')"
      ],
      "id": "f012ee4a",
      "execution_count": null,
      "outputs": []
    },
    {
      "cell_type": "code",
      "metadata": {
        "colab": {
          "base_uri": "https://localhost:8080/"
        },
        "id": "818e9991",
        "outputId": "7686ae79-f7de-40f2-c576-f41269162461"
      },
      "source": [
        "df['Year'].unique()"
      ],
      "id": "818e9991",
      "execution_count": null,
      "outputs": [
        {
          "data": {
            "text/plain": [
              "array(['2021', '2020', '2019', '2018', '2017', '2016', None, '2015',\n",
              "       '2014', '2013', '2012', '2011', 'GWALPAHARIGURGAON', 'airoli',\n",
              "       'Maladwest', 'SpInfocity&Quadra', 'NewDelhi', 'Tamilnadu',\n",
              "       'Gurgaon'], dtype=object)"
            ]
          },
          "execution_count": 18,
          "metadata": {},
          "output_type": "execute_result"
        }
      ]
    },
    {
      "cell_type": "code",
      "metadata": {
        "colab": {
          "base_uri": "https://localhost:8080/"
        },
        "id": "c95c3bde",
        "outputId": "a63ad727-e484-40c5-f955-cafd0e6b4b28"
      },
      "source": [
        "df['Year'].value_counts(sort=False)"
      ],
      "id": "c95c3bde",
      "execution_count": null,
      "outputs": [
        {
          "data": {
            "text/plain": [
              "2015                 13664\n",
              "2019                 16985\n",
              "Gurgaon                  1\n",
              "2016                 15295\n",
              "2011                    38\n",
              "airoli                   1\n",
              "2014                 15016\n",
              "Maladwest                1\n",
              "NewDelhi                 1\n",
              "2013                 11140\n",
              "2018                 15782\n",
              "SpInfocity&Quadra        1\n",
              "GWALPAHARIGURGAON        1\n",
              "2021                  2967\n",
              "2012                  4153\n",
              "Tamilnadu                1\n",
              "2020                 12674\n",
              "2017                 37335\n",
              "Name: Year, dtype: int64"
            ]
          },
          "execution_count": 19,
          "metadata": {},
          "output_type": "execute_result"
        }
      ]
    },
    {
      "cell_type": "code",
      "metadata": {
        "id": "3ee600c0"
      },
      "source": [
        "valid_year = ['2011', '2012', '2013', '2014', '2014', '2015', \n",
        "               '2016', '2017', '2018', '2019', '2020', '2021']\n",
        "df['Year'] = df['Year'].apply(lambda x:x if x in valid_year else np.nan)"
      ],
      "id": "3ee600c0",
      "execution_count": null,
      "outputs": []
    },
    {
      "cell_type": "code",
      "metadata": {
        "colab": {
          "base_uri": "https://localhost:8080/"
        },
        "id": "a4a7c4a4",
        "outputId": "1792251b-ad27-420d-d357-f5260b3e7e1c"
      },
      "source": [
        "df['Year'].value_counts()"
      ],
      "id": "a4a7c4a4",
      "execution_count": null,
      "outputs": [
        {
          "data": {
            "text/plain": [
              "2017    37335\n",
              "2019    16985\n",
              "2018    15782\n",
              "2016    15295\n",
              "2014    15016\n",
              "2015    13664\n",
              "2020    12674\n",
              "2013    11140\n",
              "2012     4153\n",
              "2021     2967\n",
              "2011       38\n",
              "Name: Year, dtype: int64"
            ]
          },
          "execution_count": 21,
          "metadata": {},
          "output_type": "execute_result"
        }
      ]
    },
    {
      "cell_type": "markdown",
      "metadata": {
        "id": "d9d3288d"
      },
      "source": [
        "Nilai pada kolom `Year` sudah sesuai."
      ],
      "id": "d9d3288d"
    },
    {
      "cell_type": "markdown",
      "metadata": {
        "id": "e4e76bbf"
      },
      "source": [
        "#### Check `Month` Column"
      ],
      "id": "e4e76bbf"
    },
    {
      "cell_type": "code",
      "metadata": {
        "colab": {
          "base_uri": "https://localhost:8080/"
        },
        "id": "dc1a1db0",
        "outputId": "486c0f40-15c5-43d5-eb71-6d9855063318"
      },
      "source": [
        "df['Month'].unique()"
      ],
      "id": "dc1a1db0",
      "execution_count": null,
      "outputs": [
        {
          "data": {
            "text/plain": [
              "array(['August', 'July', 'September', 'May', 'June', 'April', 'March',\n",
              "       'February', 'January', 'December', 'November', 'October', '',\n",
              "       'Africa', 'bagh', 'Consultant', 'Road', '9', '.CLUSTER', '(west)',\n",
              "       'West', 'PAHARI', 'mumbai', None, 'west', 'Ramannagar', 'West.',\n",
              "       'Raman', 'park', 'Technohub', 'Solutions', 'Office', 'Estate',\n",
              "       'Infocity', 'Nagar', 'Delhi,', 'Tamil', 'parel', ')', 'Locatino',\n",
              "       'complex'], dtype=object)"
            ]
          },
          "execution_count": 22,
          "metadata": {},
          "output_type": "execute_result"
        }
      ]
    },
    {
      "cell_type": "markdown",
      "metadata": {
        "id": "721f455d"
      },
      "source": [
        "Pada kolom `Month` juga memuat beberapa nilai yang tidak merupakan nama bulan, sama seperti sebelumnya, akan dibuang beberapa nilai."
      ],
      "id": "721f455d"
    },
    {
      "cell_type": "code",
      "metadata": {
        "colab": {
          "base_uri": "https://localhost:8080/"
        },
        "id": "b6fbb431",
        "outputId": "7678067b-60ee-48c0-ca81-e0cf7601a2b7"
      },
      "source": [
        "df['Month'].value_counts()"
      ],
      "id": "b6fbb431",
      "execution_count": null,
      "outputs": [
        {
          "data": {
            "text/plain": [
              "March         15438\n",
              "January       12626\n",
              "June          12573\n",
              "July          12214\n",
              "September     12090\n",
              "February      12008\n",
              "May           11848\n",
              "April         11667\n",
              "August        11635\n",
              "November      11397\n",
              "October       10945\n",
              "December      10608\n",
              "                114\n",
              "Delhi,            1\n",
              ".CLUSTER          1\n",
              "Locatino          1\n",
              "(west)            1\n",
              "Solutions         1\n",
              "West              1\n",
              "park              1\n",
              "Technohub         1\n",
              "parel             1\n",
              "mumbai            1\n",
              "Africa            1\n",
              "West.             1\n",
              "bagh              1\n",
              "west              1\n",
              "Ramannagar        1\n",
              "Road              1\n",
              "9                 1\n",
              "Nagar             1\n",
              "Consultant        1\n",
              "Raman             1\n",
              "Infocity          1\n",
              "complex           1\n",
              "Estate            1\n",
              "Office            1\n",
              "Tamil             1\n",
              ")                 1\n",
              "PAHARI            1\n",
              "Name: Month, dtype: int64"
            ]
          },
          "execution_count": 23,
          "metadata": {},
          "output_type": "execute_result"
        }
      ]
    },
    {
      "cell_type": "code",
      "metadata": {
        "id": "298d30cb"
      },
      "source": [
        "valid_month = ['January', 'February', 'March', 'April', 'May', 'June',\n",
        "               'July', 'August', 'September', 'October', 'November', 'December']\n",
        "df['Month'] = df['Month'].apply(lambda x:x if x in valid_month else np.nan)"
      ],
      "id": "298d30cb",
      "execution_count": null,
      "outputs": []
    },
    {
      "cell_type": "code",
      "metadata": {
        "colab": {
          "base_uri": "https://localhost:8080/"
        },
        "id": "f588d08c",
        "outputId": "77e2d7fa-ffd0-44c8-9b55-be1bf10bce18"
      },
      "source": [
        "df['Month'].value_counts()"
      ],
      "id": "f588d08c",
      "execution_count": null,
      "outputs": [
        {
          "data": {
            "text/plain": [
              "March        15438\n",
              "January      12626\n",
              "June         12573\n",
              "July         12214\n",
              "September    12090\n",
              "February     12008\n",
              "May          11848\n",
              "April        11667\n",
              "August       11635\n",
              "November     11397\n",
              "October      10945\n",
              "December     10608\n",
              "Name: Month, dtype: int64"
            ]
          },
          "execution_count": 25,
          "metadata": {},
          "output_type": "execute_result"
        }
      ]
    },
    {
      "cell_type": "markdown",
      "metadata": {
        "id": "c2ae2945"
      },
      "source": [
        "Nilai pada kolom `Month` sudah sesuai."
      ],
      "id": "c2ae2945"
    },
    {
      "cell_type": "markdown",
      "metadata": {
        "id": "af4030e6"
      },
      "source": [
        "#### Check `Day` Column"
      ],
      "id": "af4030e6"
    },
    {
      "cell_type": "code",
      "metadata": {
        "colab": {
          "base_uri": "https://localhost:8080/"
        },
        "id": "f7d1e0fd",
        "outputId": "2ef81dea-2862-4e4c-91d8-a641d9f21c6a"
      },
      "source": [
        "df['Day'].unique()"
      ],
      "id": "f7d1e0fd",
      "execution_count": null,
      "outputs": [
        {
          "data": {
            "text/plain": [
              "array(['30', '26', '17', '9', '22', '18', '7', '8', '5', '3', '15', '6',\n",
              "       '20', '2', '16', '10', '31', '23', '11', '28', '24', '21', '19',\n",
              "       '13', '1', '4', '25', '12', '27', '29', '14', None, '',\n",
              "       'chandigarh', '&', 'GURGAON', 'Nagar', 'malad', 'India', 'nadu'],\n",
              "      dtype=object)"
            ]
          },
          "execution_count": 26,
          "metadata": {},
          "output_type": "execute_result"
        }
      ]
    },
    {
      "cell_type": "markdown",
      "metadata": {
        "id": "11c0cf07"
      },
      "source": [
        "Pada kolom `Day` juga terdapat nilai yang bukan merupakan tanggal. Dilakukan proses serupa seperti pada kolom `Year` dan `Month`."
      ],
      "id": "11c0cf07"
    },
    {
      "cell_type": "code",
      "metadata": {
        "colab": {
          "base_uri": "https://localhost:8080/"
        },
        "id": "e679fd96",
        "outputId": "9dfaaec5-7fc8-4e5c-dc04-f19579a16059"
      },
      "source": [
        "df['Day'].value_counts()"
      ],
      "id": "e679fd96",
      "execution_count": null,
      "outputs": [
        {
          "data": {
            "text/plain": [
              "5             5159\n",
              "2             4992\n",
              "4             4969\n",
              "21            4929\n",
              "9             4920\n",
              "8             4910\n",
              "3             4910\n",
              "7             4881\n",
              "17            4864\n",
              "12            4842\n",
              "6             4829\n",
              "22            4828\n",
              "20            4825\n",
              "23            4824\n",
              "18            4823\n",
              "16            4812\n",
              "11            4793\n",
              "19            4721\n",
              "25            4709\n",
              "24            4705\n",
              "28            4691\n",
              "26            4684\n",
              "10            4680\n",
              "15            4664\n",
              "27            4660\n",
              "13            4572\n",
              "1             4557\n",
              "14            4466\n",
              "29            4311\n",
              "30            4138\n",
              "31            2381\n",
              "                80\n",
              "&                2\n",
              "GURGAON          1\n",
              "India            1\n",
              "chandigarh       1\n",
              "malad            1\n",
              "Nagar            1\n",
              "nadu             1\n",
              "Name: Day, dtype: int64"
            ]
          },
          "execution_count": 27,
          "metadata": {},
          "output_type": "execute_result"
        }
      ]
    },
    {
      "cell_type": "code",
      "metadata": {
        "id": "eef33e8e"
      },
      "source": [
        "valid_day = ['1', '2', '3', '4', '5', '6', '7', '8', '9', '10', '11',\n",
        "             '12', '13', '14', '15', '16', '17', '18', '19', '20', '21',\n",
        "             '22', '23', '24', '25', '26', '27', '28', '29', '30', '31']\n",
        "df['Day'] = df['Day'].apply(lambda x:x if x in valid_day else np.nan)"
      ],
      "id": "eef33e8e",
      "execution_count": null,
      "outputs": []
    },
    {
      "cell_type": "code",
      "metadata": {
        "colab": {
          "base_uri": "https://localhost:8080/"
        },
        "id": "23a75bd9",
        "outputId": "dfebe955-b564-4c4e-8849-b2d817eadde5"
      },
      "source": [
        "df['Day'].value_counts()"
      ],
      "id": "23a75bd9",
      "execution_count": null,
      "outputs": [
        {
          "data": {
            "text/plain": [
              "5     5159\n",
              "2     4992\n",
              "4     4969\n",
              "21    4929\n",
              "9     4920\n",
              "3     4910\n",
              "8     4910\n",
              "7     4881\n",
              "17    4864\n",
              "12    4842\n",
              "6     4829\n",
              "22    4828\n",
              "20    4825\n",
              "23    4824\n",
              "18    4823\n",
              "16    4812\n",
              "11    4793\n",
              "19    4721\n",
              "25    4709\n",
              "24    4705\n",
              "28    4691\n",
              "26    4684\n",
              "10    4680\n",
              "15    4664\n",
              "27    4660\n",
              "13    4572\n",
              "1     4557\n",
              "14    4466\n",
              "29    4311\n",
              "30    4138\n",
              "31    2381\n",
              "Name: Day, dtype: int64"
            ]
          },
          "execution_count": 29,
          "metadata": {},
          "output_type": "execute_result"
        }
      ]
    },
    {
      "cell_type": "markdown",
      "metadata": {
        "id": "f2dadf22"
      },
      "source": [
        "Nilai pada kolom `Day` sudah sesuai."
      ],
      "id": "f2dadf22"
    },
    {
      "cell_type": "markdown",
      "metadata": {
        "id": "41d15833"
      },
      "source": [
        "#### Check Missing Value"
      ],
      "id": "41d15833"
    },
    {
      "cell_type": "code",
      "metadata": {
        "colab": {
          "base_uri": "https://localhost:8080/"
        },
        "id": "12b667ec",
        "outputId": "8eb7879a-6da6-4fd3-c274-8ead74611d50"
      },
      "source": [
        "df.isnull().sum()"
      ],
      "id": "12b667ec",
      "execution_count": null,
      "outputs": [
        {
          "data": {
            "text/plain": [
              "ReviewTitle         0\n",
              "CompleteReview      0\n",
              "URL                 0\n",
              "Rating              0\n",
              "ReviewDetails       0\n",
              "Company Name        0\n",
              "Date                0\n",
              "Year              142\n",
              "Month             142\n",
              "Day               142\n",
              "dtype: int64"
            ]
          },
          "execution_count": 30,
          "metadata": {},
          "output_type": "execute_result"
        }
      ]
    },
    {
      "cell_type": "markdown",
      "metadata": {
        "id": "b377dc44"
      },
      "source": [
        "Terlihat bahwa terdapat missing value pada kolom `Year`, `Month`, dan `Day`."
      ],
      "id": "b377dc44"
    },
    {
      "cell_type": "code",
      "metadata": {
        "colab": {
          "base_uri": "https://localhost:8080/"
        },
        "id": "2f3d8be3",
        "outputId": "fbf1a9e6-3a29-4ee5-a68c-1c26bb3e4dc6"
      },
      "source": [
        "print('Ukuran data sebelum drop missing value :', df.shape)\n",
        "df = df.dropna()\n",
        "print('Ukuran data setelah drop missing value :', df.shape)"
      ],
      "id": "2f3d8be3",
      "execution_count": null,
      "outputs": [
        {
          "name": "stdout",
          "output_type": "stream",
          "text": [
            "Ukuran data sebelum drop missing value : (145191, 10)\n",
            "Ukuran data setelah drop missing value : (145049, 10)\n"
          ]
        }
      ]
    },
    {
      "cell_type": "markdown",
      "metadata": {
        "id": "815f3520"
      },
      "source": [
        "### Create `Date` Column"
      ],
      "id": "815f3520"
    },
    {
      "cell_type": "markdown",
      "metadata": {
        "id": "9e2bbec6"
      },
      "source": [
        "Akan diubah tipe data pada kolom `Date` menjadi *datetime* untuk memudahkan proses pada tahap eksplorasi data."
      ],
      "id": "9e2bbec6"
    },
    {
      "cell_type": "code",
      "metadata": {
        "id": "a34806de"
      },
      "source": [
        "df['Date'] = df['Year']+df['Month']+df['Day']\n",
        "df['Date'] = pd.to_datetime(df['Date'], format='%Y%B%d')"
      ],
      "id": "a34806de",
      "execution_count": null,
      "outputs": []
    },
    {
      "cell_type": "code",
      "metadata": {
        "colab": {
          "base_uri": "https://localhost:8080/"
        },
        "id": "c5561d10",
        "outputId": "cebe58c7-8f0b-4991-a09e-68ccb966e54b"
      },
      "source": [
        "df.head()"
      ],
      "id": "c5561d10",
      "execution_count": null,
      "outputs": [
        {
          "data": {
            "text/html": [
              "<div>\n",
              "<style scoped>\n",
              "    .dataframe tbody tr th:only-of-type {\n",
              "        vertical-align: middle;\n",
              "    }\n",
              "\n",
              "    .dataframe tbody tr th {\n",
              "        vertical-align: top;\n",
              "    }\n",
              "\n",
              "    .dataframe thead th {\n",
              "        text-align: right;\n",
              "    }\n",
              "</style>\n",
              "<table border=\"1\" class=\"dataframe\">\n",
              "  <thead>\n",
              "    <tr style=\"text-align: right;\">\n",
              "      <th></th>\n",
              "      <th>ReviewTitle</th>\n",
              "      <th>CompleteReview</th>\n",
              "      <th>URL</th>\n",
              "      <th>Rating</th>\n",
              "      <th>ReviewDetails</th>\n",
              "      <th>Company Name</th>\n",
              "      <th>Date</th>\n",
              "      <th>Year</th>\n",
              "      <th>Month</th>\n",
              "      <th>Day</th>\n",
              "    </tr>\n",
              "  </thead>\n",
              "  <tbody>\n",
              "    <tr>\n",
              "      <th>0</th>\n",
              "      <td>Productive</td>\n",
              "      <td>Good company, cool workplace, work load little...</td>\n",
              "      <td>https://in.indeed.com/cmp/Reliance-Industries-...</td>\n",
              "      <td>3</td>\n",
              "      <td>(Current Employee)  -  Ghansoli  -  August 30,...</td>\n",
              "      <td>Reliance-Industries-Ltd</td>\n",
              "      <td>2021-08-30</td>\n",
              "      <td>2021</td>\n",
              "      <td>August</td>\n",
              "      <td>30</td>\n",
              "    </tr>\n",
              "    <tr>\n",
              "      <th>1</th>\n",
              "      <td>Stressful</td>\n",
              "      <td>1. Need to work on boss's whims and fancies 2....</td>\n",
              "      <td>https://in.indeed.com/cmp/Reliance-Industries-...</td>\n",
              "      <td>3</td>\n",
              "      <td>(Former Employee)  -   -  August 26, 2021</td>\n",
              "      <td>Reliance-Industries-Ltd</td>\n",
              "      <td>2021-08-26</td>\n",
              "      <td>2021</td>\n",
              "      <td>August</td>\n",
              "      <td>26</td>\n",
              "    </tr>\n",
              "    <tr>\n",
              "      <th>2</th>\n",
              "      <td>Good Company for Every employee</td>\n",
              "      <td>Good company for every Engineers dream, Full M...</td>\n",
              "      <td>https://in.indeed.com/cmp/Reliance-Industries-...</td>\n",
              "      <td>5</td>\n",
              "      <td>(Former Employee)  -   -  August 17, 2021</td>\n",
              "      <td>Reliance-Industries-Ltd</td>\n",
              "      <td>2021-08-17</td>\n",
              "      <td>2021</td>\n",
              "      <td>August</td>\n",
              "      <td>17</td>\n",
              "    </tr>\n",
              "    <tr>\n",
              "      <th>3</th>\n",
              "      <td>Productive</td>\n",
              "      <td>I am just pass out bsc in chemistry Typical da...</td>\n",
              "      <td>https://in.indeed.com/cmp/Reliance-Industries-...</td>\n",
              "      <td>5</td>\n",
              "      <td>(Current Employee)  -   -  August 17, 2021</td>\n",
              "      <td>Reliance-Industries-Ltd</td>\n",
              "      <td>2021-08-17</td>\n",
              "      <td>2021</td>\n",
              "      <td>August</td>\n",
              "      <td>17</td>\n",
              "    </tr>\n",
              "    <tr>\n",
              "      <th>4</th>\n",
              "      <td>Non productive</td>\n",
              "      <td>Not so fun at work just blame games  Target pe...</td>\n",
              "      <td>https://in.indeed.com/cmp/Reliance-Industries-...</td>\n",
              "      <td>1</td>\n",
              "      <td>(Former Employee)  -   -  August 9, 2021</td>\n",
              "      <td>Reliance-Industries-Ltd</td>\n",
              "      <td>2021-08-09</td>\n",
              "      <td>2021</td>\n",
              "      <td>August</td>\n",
              "      <td>9</td>\n",
              "    </tr>\n",
              "  </tbody>\n",
              "</table>\n",
              "</div>"
            ],
            "text/plain": [
              "                       ReviewTitle  ... Day\n",
              "0                       Productive  ...  30\n",
              "1                        Stressful  ...  26\n",
              "2  Good Company for Every employee  ...  17\n",
              "3                       Productive  ...  17\n",
              "4                   Non productive  ...   9\n",
              "\n",
              "[5 rows x 10 columns]"
            ]
          },
          "execution_count": 33,
          "metadata": {},
          "output_type": "execute_result"
        }
      ]
    },
    {
      "cell_type": "markdown",
      "metadata": {
        "id": "e0615472"
      },
      "source": [
        "### Create a `Employee Status` Column"
      ],
      "id": "e0615472"
    },
    {
      "cell_type": "markdown",
      "metadata": {
        "id": "105e9648"
      },
      "source": [
        "Dibentuk kolom baru yaitu `Employee Status` yang memuat status pegawai terhadap perusahaannya saat ia memberikan *review*."
      ],
      "id": "105e9648"
    },
    {
      "cell_type": "code",
      "metadata": {
        "colab": {
          "base_uri": "https://localhost:8080/"
        },
        "id": "b289192e",
        "outputId": "a7e05850-3ebb-4ac3-f2ef-88f672405aed"
      },
      "source": [
        "df['Employee Status'] = df['ReviewDetails'].str.split('-', expand=True)[0]\n",
        "df['Employee Status'].unique()"
      ],
      "id": "b289192e",
      "execution_count": null,
      "outputs": [
        {
          "data": {
            "text/plain": [
              "array(['(Current Employee)  ', '(Former Employee)  ',\n",
              "       'Training   (Former Employee)  ', 'Officer   (Former Employee)  ',\n",
              "       'Leader   (Current Employee)  ',\n",
              "       'health care   (Current Employee)  ',\n",
              "       'Good team worker   (Former Employee)  ',\n",
              "       'Officer   (Current Employee)  ',\n",
              "       'Sr.G.M.Engineering and projects .   (Former Employee)  ',\n",
              "       'Hospitality   (Former Employee)  ',\n",
              "       'Employee   (Current Employee)  ',\n",
              "       'Employee   (Former Employee)  ', 'Worker   (Former Employee)  ',\n",
              "       'SBI PR outbound    (Current Employee)  ',\n",
              "       'PR in SBI outbound    (Current Employee)  ',\n",
              "       'SBI PR    (Former Employee)  ', 'Senior   (Former Employee)  ',\n",
              "       'Sbi inbound    (Current Employee)  ',\n",
              "       'KOTAK CARD    (Current Employee)  ',\n",
              "       'Marketing   (Current Employee)  ', 'Yes   (Current Employee)  ',\n",
              "       'Kotak cardit card    (Current Employee)  ',\n",
              "       'Kotak cards    (Current Employee)  ',\n",
              "       'OFFICER   (Current Employee)  ',\n",
              "       'Marketing   (Former Employee)  ',\n",
              "       'Ocwen, loan verification process    (Current Employee)  ',\n",
              "       'Accounts   (Former Employee)  ', 'officer   (Former Employee)  ',\n",
              "       'Ocwen process    (Current Employee)  ',\n",
              "       'officer   (Current Employee)  ',\n",
              "       'Communications   (Current Employee)  ',\n",
              "       'N/A   (Former Employee)  ', 'SA   (Current Employee)  ',\n",
              "       'Store   (Former Employee)  ', 'Generalist   (Former Employee)  ',\n",
              "       'part time job   (Current Employee)  ',\n",
              "       'Handle the Corportae clients for Sim activations.   (Former Employee)  ',\n",
              "       'training   (Former Employee)  ', 'TRAINING   (Former Employee)  ',\n",
              "       'Inbound process    (Current Employee)  ',\n",
              "       'excellent    (Current Employee)  ',\n",
              "       'health care   (Former Employee)  ',\n",
              "       'Student   (Former Employee)  ', 'yes   (Current Employee)  ',\n",
              "       'hospitality   (Former Employee)  ',\n",
              "       'Good team worker   (Current Employee)  ',\n",
              "       'New Joining    (Current Employee)  ',\n",
              "       'Customer   (Current Employee)  ',\n",
              "       'Applicant   (Current Employee)  ',\n",
              "       'Scenior Transaction Processing Officer.   (Former Employee)  ',\n",
              "       'Expert   (Former Employee)  ', 'Vitality    (Current Employee)  ',\n",
              "       'any job   (Former Employee)  ', 'Support   (Former Employee)  ',\n",
              "       'Yes bank    (Current Employee)  ',\n",
              "       'senior   (Current Employee)  ',\n",
              "       'contracted employee   (Former Employee)  ',\n",
              "       'Floater   (Current Employee)  ', 'Senior   (Current Employee)  ',\n",
              "       'SENIOR   (Current Employee)  ',\n",
              "       'Service Department   (Current Employee)  ',\n",
              "       'work from home   (Former Employee)  ',\n",
              "       'Resident   (Former Employee)  ',\n",
              "       'Serco BPO Pvt. Ltd.   (Current Employee)  ',\n",
              "       'Trainee, Shared Access Distribution Dept.   (Former Employee)  ',\n",
              "       'anonymous   (Former Employee)  ',\n",
              "       'Health care   (Current Employee)  ',\n",
              "       'https://www.indeed.co.in/   (Former Employee)  ',\n",
              "       'Intership   (Former Employee)  ',\n",
              "       'marketing   (Former Employee)  ',\n",
              "       'customer satisfaction offcier, credit cards    (Former Employee)  ',\n",
              "       'contract employee   (Current Employee)  ',\n",
              "       'employee   (Former Employee)  ',\n",
              "       'Training   (Current Employee)  ',\n",
              "       'During B COM.   (Former Employee)  ',\n",
              "       'Team Worker   (Current Employee)  ',\n",
              "       'Leader   (Former Employee)  ',\n",
              "       'Confidential   (Current Employee)  ',\n",
              "       'Current Employee   (Current Employee)  ',\n",
              "       'Anonymous   (Former Employee)  ',\n",
              "       'Sr.Technician ( Mech).   (Former Employee)  ',\n",
              "       'A.F.S.M.   (Current Employee)  ',\n",
              "       'Migrate the project from iway to software AG.   (Former Employee)  ',\n",
              "       'Head   (Former Employee)  ', 'SA   (Former Employee)  ',\n",
              "       'Administration CCO.   (Former Employee)  ',\n",
              "       'Nokia India Pvt Ltd.,   (Current Employee)  ',\n",
              "       'Job seeker for accountancy and fnance fields.   (Current Employee)  ',\n",
              "       'active member   (Former Employee)  ',\n",
              "       'Anonymous   (Current Employee)  ',\n",
              "       'Expert   (Current Employee)  ',\n",
              "       'Gold loan company.   (Former Employee)  ',\n",
              "       'finance   (Former Employee)  ',\n",
              "       'sr T. P.O.   (Current Employee)  ',\n",
              "       'Member   (Current Employee)  ', 'worker   (Former Employee)  ',\n",
              "       'ANY   (Current Employee)  ',\n",
              "       'AS A CSO IN SBI PROCESS    (Current Employee)  ',\n",
              "       'Contract employee   (Former Employee)  ',\n",
              "       'Specialised Infrastructure Er.   (Current Employee)  ',\n",
              "       'Network   (Current Employee)  ', 'any job   (Current Employee)  ',\n",
              "       'N/A   (Current Employee)  ', 'good work    (Former Employee)  ',\n",
              "       'airtel broad bond,   (Former Employee)  ',\n",
              "       'part time   (Current Employee)  ',\n",
              "       'MARKETING   (Former Employee)  ', 'Project   (Former Employee)  ',\n",
              "       'ACCOUNTS   (Current Employee)  ', 'G.A.   (Former Employee)  ',\n",
              "       'part time job   (Former Employee)  ',\n",
              "       'Lead    (Former Employee)  ',\n",
              "       'work from home   (Current Employee)  ',\n",
              "       'L3 level    (Former Employee)  ',\n",
              "       'ANY JOB   (Current Employee)  ',\n",
              "       'Projects   (Current Employee)  ', 'yes   (Former Employee)  ',\n",
              "       'worker   (Current Employee)  ',\n",
              "       'Contract Employee   (Current Employee)  ',\n",
              "       'Alaknanda Hydro Power Co. Ltd.   (Former Employee)  ',\n",
              "       'Part time   (Former Employee)  ',\n",
              "       'Transaction Processing spc.   (Current Employee)  ',\n",
              "       'Worked for the Bank Procurement and customers across the UK.   (Former Employee)  ',\n",
              "       'Aanlyst    (Current Employee)  ', '.   (Current Employee)  ',\n",
              "       'Accounts   (Current Employee)  ',\n",
              "       'I have experience with Transport.   (Current Employee)  ',\n",
              "       'Sr.Technical Sup.(Rotary/Static Equipt.).   (Former Employee)  ',\n",
              "       'Training new staff   (Current Employee)  ',\n",
              "       'DIA (Digital Interactive Advisor).   (Former Employee)  ',\n",
              "       'enthusiastically doing work taking challenges etc.   (Former Employee)  ',\n",
              "       'Former Employee   (Former Employee)  ',\n",
              "       'Test   (Current Employee)  ',\n",
              "       'Oracle Apps Technical    (Current Employee)  ',\n",
              "       'Work Experience   (Current Employee)  ',\n",
              "       'Service   (Former Employee)  ',\n",
              "       'Technology   (Former Employee)  ', 'Staff   (Former Employee)  ',\n",
              "       'confidential   (Former Employee)  ',\n",
              "       'finance   (Current Employee)  ',\n",
              "       'Contract Employee   (Former Employee)  ',\n",
              "       'Head   (Current Employee)  ', 'OFFICER   (Former Employee)  ',\n",
              "       'Middleware Admin MQ/MB/WAS/   (Current Employee)  ',\n",
              "       'Looking for jobs.   (Former Employee)  ',\n",
              "       'head   (Former Employee)  ',\n",
              "       'claims processing excutive    (Former Employee)  ',\n",
              "       'Accenture Solutions Pvt. Ltd.   (Former Employee)  ',\n",
              "       'scanning   (Former Employee)  ',\n",
              "       'HUB ACCOUNT OPERATION ( FOR 89 DAYS ).   (Former Employee)  ',\n",
              "       'Finance department   (Former Employee)  ',\n",
              "       'coex liab.   (Former Employee)  ',\n",
              "       'Admin Dept.   (Former Employee)  ',\n",
              "       'C.P.A.   (Current Employee)  ',\n",
              "       'Full Time Employee   (Current Employee)  ',\n",
              "       'Project ,Change, Major Incident ,Problem.   (Former Employee)  ',\n",
              "       'acting   (Current Employee)  ',\n",
              "       'Health care   (Former Employee)  ',\n",
              "       'operation    (Current Employee)  ',\n",
              "       'Co. Ex.   (Current Employee)  ',\n",
              "       'it is good co. and i learned many thing .   (Current Employee)  ',\n",
              "       'Center of excellence, Quality.   (Current Employee)  ',\n",
              "       'contract employee   (Former Employee)  ',\n",
              "       'I have resigned my job.   (Former Employee)  ',\n",
              "       'member   (Former Employee)  ',\n",
              "       'Full Time Employee   (Former Employee)  ',\n",
              "       'Juniour SAP Support.   (Current Employee)  ',\n",
              "       'Worked as an CSE in IBM concentrix for One Year.   (Former Employee)  ',\n",
              "       'Regular Employee   (Current Employee)  ',\n",
              "       'any jobs   (Former Employee)  ',\n",
              "       'finance department   (Former Employee)  ',\n",
              "       '3+ years of experience in Java Technologies.   (Current Employee)  ',\n",
              "       'SSE , testing    (Current Employee)  ',\n",
              "       'System Egg.   (Former Employee)  ',\n",
              "       'Senior Telecom Engr.   (Current Employee)  ',\n",
              "       'WORKER   (Current Employee)  ',\n",
              "       'Various Positions   (Current Employee)  ',\n",
              "       'Airline Fares and GDS.   (Current Employee)  ',\n",
              "       'QUALITY   (Former Employee)  ',\n",
              "       'PROGRAMER .........   (Former Employee)  '], dtype=object)"
            ]
          },
          "execution_count": 34,
          "metadata": {},
          "output_type": "execute_result"
        }
      ]
    },
    {
      "cell_type": "markdown",
      "metadata": {
        "id": "d0e39bbe"
      },
      "source": [
        "Dikarenakan pada kolom `Employee Status` memuat banyak nilai data yang beragam, akan dilakukan proses simplifikasi kategori ke dalam dua buah kategori yaitu *Former Employee* dan *Current Employee*."
      ],
      "id": "d0e39bbe"
    },
    {
      "cell_type": "code",
      "metadata": {
        "id": "d1e2cc9b"
      },
      "source": [
        "def get_status_employee(row_value):\n",
        "    return 'Former Employee' if 'Former Employee' in row_value else 'Current Employee'\n",
        "df['Employee Status'] = df.apply(lambda x: get_status_employee(x['Employee Status']), axis=1)"
      ],
      "id": "d1e2cc9b",
      "execution_count": null,
      "outputs": []
    },
    {
      "cell_type": "code",
      "metadata": {
        "colab": {
          "base_uri": "https://localhost:8080/"
        },
        "id": "0158862f",
        "outputId": "3773b3b9-ad53-43fd-e867-f1eac942e880"
      },
      "source": [
        "df.head()"
      ],
      "id": "0158862f",
      "execution_count": null,
      "outputs": [
        {
          "data": {
            "text/html": [
              "<div>\n",
              "<style scoped>\n",
              "    .dataframe tbody tr th:only-of-type {\n",
              "        vertical-align: middle;\n",
              "    }\n",
              "\n",
              "    .dataframe tbody tr th {\n",
              "        vertical-align: top;\n",
              "    }\n",
              "\n",
              "    .dataframe thead th {\n",
              "        text-align: right;\n",
              "    }\n",
              "</style>\n",
              "<table border=\"1\" class=\"dataframe\">\n",
              "  <thead>\n",
              "    <tr style=\"text-align: right;\">\n",
              "      <th></th>\n",
              "      <th>ReviewTitle</th>\n",
              "      <th>CompleteReview</th>\n",
              "      <th>URL</th>\n",
              "      <th>Rating</th>\n",
              "      <th>ReviewDetails</th>\n",
              "      <th>Company Name</th>\n",
              "      <th>Date</th>\n",
              "      <th>Year</th>\n",
              "      <th>Month</th>\n",
              "      <th>Day</th>\n",
              "      <th>Employee Status</th>\n",
              "    </tr>\n",
              "  </thead>\n",
              "  <tbody>\n",
              "    <tr>\n",
              "      <th>0</th>\n",
              "      <td>Productive</td>\n",
              "      <td>Good company, cool workplace, work load little...</td>\n",
              "      <td>https://in.indeed.com/cmp/Reliance-Industries-...</td>\n",
              "      <td>3</td>\n",
              "      <td>(Current Employee)  -  Ghansoli  -  August 30,...</td>\n",
              "      <td>Reliance-Industries-Ltd</td>\n",
              "      <td>2021-08-30</td>\n",
              "      <td>2021</td>\n",
              "      <td>August</td>\n",
              "      <td>30</td>\n",
              "      <td>Current Employee</td>\n",
              "    </tr>\n",
              "    <tr>\n",
              "      <th>1</th>\n",
              "      <td>Stressful</td>\n",
              "      <td>1. Need to work on boss's whims and fancies 2....</td>\n",
              "      <td>https://in.indeed.com/cmp/Reliance-Industries-...</td>\n",
              "      <td>3</td>\n",
              "      <td>(Former Employee)  -   -  August 26, 2021</td>\n",
              "      <td>Reliance-Industries-Ltd</td>\n",
              "      <td>2021-08-26</td>\n",
              "      <td>2021</td>\n",
              "      <td>August</td>\n",
              "      <td>26</td>\n",
              "      <td>Former Employee</td>\n",
              "    </tr>\n",
              "    <tr>\n",
              "      <th>2</th>\n",
              "      <td>Good Company for Every employee</td>\n",
              "      <td>Good company for every Engineers dream, Full M...</td>\n",
              "      <td>https://in.indeed.com/cmp/Reliance-Industries-...</td>\n",
              "      <td>5</td>\n",
              "      <td>(Former Employee)  -   -  August 17, 2021</td>\n",
              "      <td>Reliance-Industries-Ltd</td>\n",
              "      <td>2021-08-17</td>\n",
              "      <td>2021</td>\n",
              "      <td>August</td>\n",
              "      <td>17</td>\n",
              "      <td>Former Employee</td>\n",
              "    </tr>\n",
              "    <tr>\n",
              "      <th>3</th>\n",
              "      <td>Productive</td>\n",
              "      <td>I am just pass out bsc in chemistry Typical da...</td>\n",
              "      <td>https://in.indeed.com/cmp/Reliance-Industries-...</td>\n",
              "      <td>5</td>\n",
              "      <td>(Current Employee)  -   -  August 17, 2021</td>\n",
              "      <td>Reliance-Industries-Ltd</td>\n",
              "      <td>2021-08-17</td>\n",
              "      <td>2021</td>\n",
              "      <td>August</td>\n",
              "      <td>17</td>\n",
              "      <td>Current Employee</td>\n",
              "    </tr>\n",
              "    <tr>\n",
              "      <th>4</th>\n",
              "      <td>Non productive</td>\n",
              "      <td>Not so fun at work just blame games  Target pe...</td>\n",
              "      <td>https://in.indeed.com/cmp/Reliance-Industries-...</td>\n",
              "      <td>1</td>\n",
              "      <td>(Former Employee)  -   -  August 9, 2021</td>\n",
              "      <td>Reliance-Industries-Ltd</td>\n",
              "      <td>2021-08-09</td>\n",
              "      <td>2021</td>\n",
              "      <td>August</td>\n",
              "      <td>9</td>\n",
              "      <td>Former Employee</td>\n",
              "    </tr>\n",
              "  </tbody>\n",
              "</table>\n",
              "</div>"
            ],
            "text/plain": [
              "                       ReviewTitle  ...   Employee Status\n",
              "0                       Productive  ...  Current Employee\n",
              "1                        Stressful  ...   Former Employee\n",
              "2  Good Company for Every employee  ...   Former Employee\n",
              "3                       Productive  ...  Current Employee\n",
              "4                   Non productive  ...   Former Employee\n",
              "\n",
              "[5 rows x 11 columns]"
            ]
          },
          "execution_count": 36,
          "metadata": {},
          "output_type": "execute_result"
        }
      ]
    },
    {
      "cell_type": "markdown",
      "metadata": {
        "id": "645b8933"
      },
      "source": [
        "## Exploratory Data Analysis"
      ],
      "id": "645b8933"
    },
    {
      "cell_type": "markdown",
      "metadata": {
        "id": "c4130c4e"
      },
      "source": [
        "Definisikan beberapa fungsi yang dapat memudahkan dalam membuat plot pada saat mengeksplor data."
      ],
      "id": "c4130c4e"
    },
    {
      "cell_type": "code",
      "metadata": {
        "id": "543211d6"
      },
      "source": [
        "def make_count_plot(data, xlabel, size_x, size_y):\n",
        "    plt.figure(figsize=(size_x, size_y))\n",
        "    sns.countplot(data)\n",
        "    plt.xlabel(xlabel, fontsize=12)\n",
        "    plt.ylabel('Frequency', fontsize=12)\n",
        "    plt.title(f'Number of Reviews Based on {xlabel}', fontsize=15)\n",
        "    plt.show()\n",
        "\n",
        "def make_count_plot_hue(data, xlabel, size_x, size_y, hue):\n",
        "    plt.figure(figsize=(size_x, size_y))\n",
        "    sns.countplot(data, hue=hue)\n",
        "    plt.xlabel(xlabel, fontsize=12)\n",
        "    plt.ylabel('Frequency', fontsize=12)\n",
        "    plt.title(f'Number of Reviews Based on {xlabel}', fontsize=15)\n",
        "    plt.show()\n",
        "\n",
        "def make_count_plot_order(data, xlabel, size_x, size_y, order):\n",
        "    plt.figure(figsize=(size_x, size_y))\n",
        "    sns.countplot(data, order=order)\n",
        "    plt.xlabel(xlabel, fontsize=12)\n",
        "    plt.ylabel('Frequency', fontsize=12)\n",
        "    plt.title(f'Number of Reviews Based on {xlabel}', fontsize=15)\n",
        "    plt.show()"
      ],
      "id": "543211d6",
      "execution_count": null,
      "outputs": []
    },
    {
      "cell_type": "markdown",
      "metadata": {
        "id": "f143c628"
      },
      "source": [
        "### Status Employee"
      ],
      "id": "f143c628"
    },
    {
      "cell_type": "code",
      "metadata": {
        "colab": {
          "base_uri": "https://localhost:8080/"
        },
        "id": "d35692ab",
        "outputId": "205a6227-63e1-4a2f-832e-3e8b1a7bb424"
      },
      "source": [
        "make_count_plot(df['Employee Status'], 'Employee Status', 6, 6)"
      ],
      "id": "d35692ab",
      "execution_count": null,
      "outputs": [
        {
          "data": {
            "image/png": "[encoded data removed]",
            "text/plain": [
              "<Figure size 432x432 with 1 Axes>"
            ]
          },
          "metadata": {},
          "output_type": "display_data"
        }
      ]
    },
    {
      "cell_type": "code",
      "metadata": {
        "colab": {
          "base_uri": "https://localhost:8080/"
        },
        "id": "3294e49d",
        "outputId": "3df4a3d2-8a4f-4c67-f101-25856e89ab9b"
      },
      "source": [
        "print('Jumlah Review dari Current Employee : {}'.format(sum(df['Employee Status']=='Current Employee')))\n",
        "print('Jumlah Review dari Former Employee : {}'.format(sum(df['Employee Status']=='Former Employee')))\n",
        "print('')\n",
        "print('Persentase Review dari Current Employee : {:.2f}%'.format(sum(df['Employee Status']=='Current Employee')/df.shape[0]*100))\n",
        "print('Persentase Review dari Current Employee : {:.2f}%'.format(sum(df['Employee Status']=='Former Employee')/df.shape[0]*100))"
      ],
      "id": "3294e49d",
      "execution_count": null,
      "outputs": [
        {
          "name": "stdout",
          "output_type": "stream",
          "text": [
            "Jumlah Review dari Current Employee : 65672\n",
            "Jumlah Review dari Former Employee : 79377\n",
            "\n",
            "Persentase Review dari Current Employee : 45.28%\n",
            "Persentase Review dari Current Employee : 54.72%\n"
          ]
        }
      ]
    },
    {
      "cell_type": "markdown",
      "metadata": {
        "id": "6c2cc802"
      },
      "source": [
        "Berdasarkan gambar di atas, terlihat bahwa dari semua *review* yang diberikan oleh pegawai terhadap perusahaannya, jumlah *review* yang diberikan oleh *Former Employee* lebih banyak dibandingkan dengan *Current Employee*."
      ],
      "id": "6c2cc802"
    },
    {
      "cell_type": "markdown",
      "metadata": {
        "id": "39cda917"
      },
      "source": [
        "### Based on Year"
      ],
      "id": "39cda917"
    },
    {
      "cell_type": "code",
      "metadata": {
        "colab": {
          "base_uri": "https://localhost:8080/"
        },
        "id": "8022cf50",
        "outputId": "e4af4ec3-d446-417d-f0eb-98016fba508f"
      },
      "source": [
        "make_count_plot_order(df['Year'], 'Year', 16, 5, valid_year)"
      ],
      "id": "8022cf50",
      "execution_count": null,
      "outputs": [
        {
          "data": {
            "image/png": "[encoded data removed]",
            "text/plain": [
              "<Figure size 1152x360 with 1 Axes>"
            ]
          },
          "metadata": {},
          "output_type": "display_data"
        }
      ]
    },
    {
      "cell_type": "markdown",
      "metadata": {
        "id": "47086bcc"
      },
      "source": [
        "Berdasarkan gambar di atas, terlihat bahwa tahun dengan jumlah review terbanyak yang diberikan pegawai terhadap perusahaannya adalah tahun 2017."
      ],
      "id": "47086bcc"
    },
    {
      "cell_type": "markdown",
      "metadata": {
        "id": "89787633"
      },
      "source": [
        "### Based on Month"
      ],
      "id": "89787633"
    },
    {
      "cell_type": "code",
      "metadata": {
        "colab": {
          "base_uri": "https://localhost:8080/"
        },
        "id": "7aa04970",
        "outputId": "0e29d9fc-ea6a-4be2-8996-26dbb10c3eac"
      },
      "source": [
        "make_count_plot_order(df['Month'], 'Month', 16, 5, valid_month)"
      ],
      "id": "7aa04970",
      "execution_count": null,
      "outputs": [
        {
          "data": {
            "image/png": "[encoded data removed]",
            "text/plain": [
              "<Figure size 1152x360 with 1 Axes>"
            ]
          },
          "metadata": {},
          "output_type": "display_data"
        }
      ]
    },
    {
      "cell_type": "markdown",
      "metadata": {
        "id": "04993bb1"
      },
      "source": [
        "Berdasarkan gambar di atas, terlihat bahwa bulan dengan jumlah review terbanyak yang diberikan pegawai terhadap perusahaannya adalah bulan Maret."
      ],
      "id": "04993bb1"
    },
    {
      "cell_type": "markdown",
      "metadata": {
        "id": "ff3069e4"
      },
      "source": [
        "### Rating"
      ],
      "id": "ff3069e4"
    },
    {
      "cell_type": "code",
      "metadata": {
        "colab": {
          "base_uri": "https://localhost:8080/"
        },
        "id": "ae5a33da",
        "outputId": "771d337b-6231-485c-be30-2b6c6befce0e"
      },
      "source": [
        "make_count_plot(df['Rating'], 'Rating', 16, 5)"
      ],
      "id": "ae5a33da",
      "execution_count": null,
      "outputs": [
        {
          "data": {
            "image/png": "[encoded data removed]",
            "text/plain": [
              "<Figure size 1152x360 with 1 Axes>"
            ]
          },
          "metadata": {},
          "output_type": "display_data"
        }
      ]
    },
    {
      "cell_type": "markdown",
      "metadata": {
        "id": "12850c53"
      },
      "source": [
        "Berdasarkan rating yang diberikan, rating dengan jumlah review terbanyak adalah 4 kemudian disusul oleh 5. Hal ini menandakan bahwa rata-rata pegawai memberikan nilai rating yang cukup tinggi terhadap perusahannya."
      ],
      "id": "12850c53"
    },
    {
      "cell_type": "markdown",
      "metadata": {
        "id": "4479d2e2"
      },
      "source": [
        "### Company Name"
      ],
      "id": "4479d2e2"
    },
    {
      "cell_type": "code",
      "metadata": {
        "colab": {
          "base_uri": "https://localhost:8080/"
        },
        "id": "f3bde8db",
        "outputId": "fb26ad43-697e-4e70-a394-7db253ed784f"
      },
      "source": [
        "plt.figure(figsize=(16,5))\n",
        "df_company = df['Company Name'].value_counts().head(10)\n",
        "sns.barplot(x=df_company,\n",
        "            y=df_company.index)\n",
        "plt.xlabel('Frequency', fontsize=12)\n",
        "plt.title('Top 10 Company With The Most Number of Reviews', fontsize=15)\n",
        "plt.show()"
      ],
      "id": "f3bde8db",
      "execution_count": null,
      "outputs": [
        {
          "data": {
            "image/png": "[encoded data removed]",
            "text/plain": [
              "<Figure size 1152x360 with 1 Axes>"
            ]
          },
          "metadata": {},
          "output_type": "display_data"
        }
      ]
    },
    {
      "cell_type": "markdown",
      "metadata": {
        "id": "62fe2ce8"
      },
      "source": [
        "### Rating Based on Employee Status"
      ],
      "id": "62fe2ce8"
    },
    {
      "cell_type": "code",
      "metadata": {
        "colab": {
          "base_uri": "https://localhost:8080/"
        },
        "id": "99644d64",
        "outputId": "5d160591-da8f-432b-dcb2-d841b3e9580b"
      },
      "source": [
        "make_count_plot_hue(df['Rating'], 'Rating', 16, 5, hue=df['Employee Status'])"
      ],
      "id": "99644d64",
      "execution_count": null,
      "outputs": [
        {
          "data": {
            "image/png": "[encoded data removed]",
            "text/plain": [
              "<Figure size 1152x360 with 1 Axes>"
            ]
          },
          "metadata": {},
          "output_type": "display_data"
        }
      ]
    },
    {
      "cell_type": "markdown",
      "metadata": {
        "id": "d627ed0b"
      },
      "source": [
        "Berdasarkan gambar di atas, terlihat bahwa untuk pegawai dengan status *Former Employee* memberikan nilai *rating* tinggi lebih banyak dibandingkan dengan pegawai dengan status *Current Employee*."
      ],
      "id": "d627ed0b"
    },
    {
      "cell_type": "markdown",
      "metadata": {
        "id": "092bb801"
      },
      "source": [
        "## Building Model"
      ],
      "id": "092bb801"
    },
    {
      "cell_type": "markdown",
      "metadata": {
        "id": "6476cd97"
      },
      "source": [
        "Definisikan target variabel dengan kolom `Category` yang memuat kategori dari *review* yang diberikan pegawai. Untuk *review* dengan nilai rating sebesar 1 atau 2 akan dikelompokkan ke dalam kategori *Negative*, 3 ke dalam kategori *Neutral*, 4 dan 5 ke dalam kategori *Positive*."
      ],
      "id": "6476cd97"
    },
    {
      "cell_type": "code",
      "metadata": {
        "colab": {
          "base_uri": "https://localhost:8080/",
          "height": 261
        },
        "id": "f71bfd3a",
        "outputId": "dc584736-4292-4f33-d432-d9a2200f9ace"
      },
      "source": [
        "df['Category'] = df['Rating'].replace({1:'Negative', 2:'Negative', 3:'Neutral', 4:'Positive', 5:'Positive'})\n",
        "df = df.reset_index(drop=True)\n",
        "df.head(3)"
      ],
      "id": "f71bfd3a",
      "execution_count": null,
      "outputs": [
        {
          "data": {
            "text/html": [
              "<div>\n",
              "<style scoped>\n",
              "    .dataframe tbody tr th:only-of-type {\n",
              "        vertical-align: middle;\n",
              "    }\n",
              "\n",
              "    .dataframe tbody tr th {\n",
              "        vertical-align: top;\n",
              "    }\n",
              "\n",
              "    .dataframe thead th {\n",
              "        text-align: right;\n",
              "    }\n",
              "</style>\n",
              "<table border=\"1\" class=\"dataframe\">\n",
              "  <thead>\n",
              "    <tr style=\"text-align: right;\">\n",
              "      <th></th>\n",
              "      <th>ReviewTitle</th>\n",
              "      <th>CompleteReview</th>\n",
              "      <th>URL</th>\n",
              "      <th>Rating</th>\n",
              "      <th>ReviewDetails</th>\n",
              "      <th>Company Name</th>\n",
              "      <th>Date</th>\n",
              "      <th>Year</th>\n",
              "      <th>Month</th>\n",
              "      <th>Day</th>\n",
              "      <th>Employee Status</th>\n",
              "      <th>Category</th>\n",
              "    </tr>\n",
              "  </thead>\n",
              "  <tbody>\n",
              "    <tr>\n",
              "      <th>0</th>\n",
              "      <td>Productive</td>\n",
              "      <td>Good company, cool workplace, work load little...</td>\n",
              "      <td>https://in.indeed.com/cmp/Reliance-Industries-...</td>\n",
              "      <td>3</td>\n",
              "      <td>(Current Employee)  -  Ghansoli  -  August 30,...</td>\n",
              "      <td>Reliance-Industries-Ltd</td>\n",
              "      <td>2021-08-30</td>\n",
              "      <td>2021</td>\n",
              "      <td>August</td>\n",
              "      <td>30</td>\n",
              "      <td>Current Employee</td>\n",
              "      <td>Neutral</td>\n",
              "    </tr>\n",
              "    <tr>\n",
              "      <th>1</th>\n",
              "      <td>Stressful</td>\n",
              "      <td>1. Need to work on boss's whims and fancies 2....</td>\n",
              "      <td>https://in.indeed.com/cmp/Reliance-Industries-...</td>\n",
              "      <td>3</td>\n",
              "      <td>(Former Employee)  -   -  August 26, 2021</td>\n",
              "      <td>Reliance-Industries-Ltd</td>\n",
              "      <td>2021-08-26</td>\n",
              "      <td>2021</td>\n",
              "      <td>August</td>\n",
              "      <td>26</td>\n",
              "      <td>Former Employee</td>\n",
              "      <td>Neutral</td>\n",
              "    </tr>\n",
              "    <tr>\n",
              "      <th>2</th>\n",
              "      <td>Good Company for Every employee</td>\n",
              "      <td>Good company for every Engineers dream, Full M...</td>\n",
              "      <td>https://in.indeed.com/cmp/Reliance-Industries-...</td>\n",
              "      <td>5</td>\n",
              "      <td>(Former Employee)  -   -  August 17, 2021</td>\n",
              "      <td>Reliance-Industries-Ltd</td>\n",
              "      <td>2021-08-17</td>\n",
              "      <td>2021</td>\n",
              "      <td>August</td>\n",
              "      <td>17</td>\n",
              "      <td>Former Employee</td>\n",
              "      <td>Positive</td>\n",
              "    </tr>\n",
              "  </tbody>\n",
              "</table>\n",
              "</div>"
            ],
            "text/plain": [
              "                       ReviewTitle  ...  Category\n",
              "0                       Productive  ...   Neutral\n",
              "1                        Stressful  ...   Neutral\n",
              "2  Good Company for Every employee  ...  Positive\n",
              "\n",
              "[3 rows x 12 columns]"
            ]
          },
          "execution_count": 45,
          "metadata": {},
          "output_type": "execute_result"
        }
      ]
    },
    {
      "cell_type": "code",
      "metadata": {
        "colab": {
          "base_uri": "https://localhost:8080/",
          "height": 412
        },
        "id": "66c03a93",
        "outputId": "04a474f2-5bbd-4b7d-b358-b984328d3984"
      },
      "source": [
        "plt.figure(figsize=(6,6))\n",
        "sns.barplot(x=df['Category'].value_counts().index, \n",
        "            y=df['Category'].value_counts())\n",
        "plt.xlabel('Class', fontsize=12)\n",
        "plt.ylabel('Frequency', fontsize=12)\n",
        "plt.title('Number of Reviews based on class', fontsize=15)\n",
        "plt.show()"
      ],
      "id": "66c03a93",
      "execution_count": null,
      "outputs": [
        {
          "data": {
            "image/png": "[encoded data removed]",
            "text/plain": [
              "<Figure size 432x432 with 1 Axes>"
            ]
          },
          "metadata": {},
          "output_type": "display_data"
        }
      ]
    },
    {
      "cell_type": "markdown",
      "metadata": {
        "id": "28f7eef7"
      },
      "source": [
        "Berdasarkan gambar di atas, review dengan kategori Positive adalah review dengan jumlah terbanyak dengan total lebih dari 4x lipat dibandingkan review dengan kategori Neutral. Oleh karena itu, kita akan membangun dua buah jenis model yaitu model tanpa dilakukan proses *upsampling/oversampling* dan model dengan proses *upsampling/oversampling*."
      ],
      "id": "28f7eef7"
    },
    {
      "cell_type": "markdown",
      "metadata": {
        "id": "5e3e92f2"
      },
      "source": [
        "### Model Without Oversampling"
      ],
      "id": "5e3e92f2"
    },
    {
      "cell_type": "code",
      "metadata": {
        "colab": {
          "base_uri": "https://localhost:8080/",
          "height": 142
        },
        "id": "599b0587",
        "outputId": "d7e6eb4a-c453-4d56-b931-7b3f025b0b9e"
      },
      "source": [
        "df_not_over = df[['CompleteReview', 'Category']].copy()\n",
        "df_not_over.head(3)"
      ],
      "id": "599b0587",
      "execution_count": null,
      "outputs": [
        {
          "data": {
            "text/html": [
              "<div>\n",
              "<style scoped>\n",
              "    .dataframe tbody tr th:only-of-type {\n",
              "        vertical-align: middle;\n",
              "    }\n",
              "\n",
              "    .dataframe tbody tr th {\n",
              "        vertical-align: top;\n",
              "    }\n",
              "\n",
              "    .dataframe thead th {\n",
              "        text-align: right;\n",
              "    }\n",
              "</style>\n",
              "<table border=\"1\" class=\"dataframe\">\n",
              "  <thead>\n",
              "    <tr style=\"text-align: right;\">\n",
              "      <th></th>\n",
              "      <th>CompleteReview</th>\n",
              "      <th>Category</th>\n",
              "    </tr>\n",
              "  </thead>\n",
              "  <tbody>\n",
              "    <tr>\n",
              "      <th>0</th>\n",
              "      <td>Good company, cool workplace, work load little...</td>\n",
              "      <td>Neutral</td>\n",
              "    </tr>\n",
              "    <tr>\n",
              "      <th>1</th>\n",
              "      <td>1. Need to work on boss's whims and fancies 2....</td>\n",
              "      <td>Neutral</td>\n",
              "    </tr>\n",
              "    <tr>\n",
              "      <th>2</th>\n",
              "      <td>Good company for every Engineers dream, Full M...</td>\n",
              "      <td>Positive</td>\n",
              "    </tr>\n",
              "  </tbody>\n",
              "</table>\n",
              "</div>"
            ],
            "text/plain": [
              "                                      CompleteReview  Category\n",
              "0  Good company, cool workplace, work load little...   Neutral\n",
              "1  1. Need to work on boss's whims and fancies 2....   Neutral\n",
              "2  Good company for every Engineers dream, Full M...  Positive"
            ]
          },
          "execution_count": 47,
          "metadata": {},
          "output_type": "execute_result"
        }
      ]
    },
    {
      "cell_type": "markdown",
      "metadata": {
        "id": "b7449198"
      },
      "source": [
        "Saat kita melihat data pada kolom `CompleteReview`, kita melihat bahwa *review* yang diberikan oleh pegawai mengandung unsur seperti angka, tanda baca, dan banyak mengandung *stop word*. Secara umum *stop word* adalah kata umum yang biasanya muncul dalam jumlah yang besar dan dianggap tidak memiliki makna. Adapun contoh *stop word* dalam kamus Bahasa Inggris adalah \"the\", \"a\", \"an\", dan \"in\". Selain membuang angka, tanda baca, dan *stop word*, kita juga perlu melakukan *stemming* pada kalimat yang akan kita olah. *Stemming* adalah salah satu proses untuk menentukan kata dasar dari suatu kata. Misalnya terdapat kata \"likes\", \"liked\", \"likely\", dan \"liking\" yang setelah dilakukan *stemming* akan berubah menjadi kata dasarnya yaitu \"like\". Untuk melakukan itu semua, kita dapat menggunakan 2 buah library yaitu `Regular Expression` dan `NLTK (Natural Language Toolkit)`. Untuk melihat prosesnya, dapat dilihat pada bagian *example*."
      ],
      "id": "b7449198"
    },
    {
      "cell_type": "markdown",
      "metadata": {
        "id": "f275e9ed"
      },
      "source": [
        "**Example**"
      ],
      "id": "f275e9ed"
    },
    {
      "cell_type": "markdown",
      "metadata": {
        "id": "1b71b86b"
      },
      "source": [
        "Pertama akan dibangun sebuah objek `example` yang menyimpan *review* pada baris kedua."
      ],
      "id": "1b71b86b"
    },
    {
      "cell_type": "code",
      "metadata": {
        "colab": {
          "base_uri": "https://localhost:8080/",
          "height": 69
        },
        "id": "e02ad1ff",
        "outputId": "84501f2d-6679-461a-ccd1-7fd3a31089bf"
      },
      "source": [
        "example = df_not_over['CompleteReview'].copy()[1]\n",
        "example"
      ],
      "id": "e02ad1ff",
      "execution_count": null,
      "outputs": [
        {
          "data": {
            "application/vnd.google.colaboratory.intrinsic+json": {
              "type": "string"
            },
            "text/plain": [
              "\"1. Need to work on boss's whims and fancies 2. Priorities keep changing 3. No regards for work life balance 4. Completing the work before time is stressed too much than completing it well. Involves lots of reworking, blame games; etc. 5. No job boundaries, you will be asked to do any work depending on the requirements.\""
            ]
          },
          "execution_count": 48,
          "metadata": {},
          "output_type": "execute_result"
        }
      ]
    },
    {
      "cell_type": "markdown",
      "metadata": {
        "id": "ee229f0c"
      },
      "source": [
        "Untuk melakukan proses *stemming* dan membuat daftar *stop word*, dapat digunakan `PorterStemmer()` untuk melakukan *stem* dan mendownload daftar *stop word* untuk Bahasa Inggris menggunakan `stopwords.words('english')`."
      ],
      "id": "ee229f0c"
    },
    {
      "cell_type": "code",
      "metadata": {
        "id": "271901db"
      },
      "source": [
        "ps = PorterStemmer()\n",
        "stop_en = stopwords.words('english')"
      ],
      "id": "271901db",
      "execution_count": null,
      "outputs": []
    },
    {
      "cell_type": "markdown",
      "metadata": {
        "id": "1b9af936"
      },
      "source": [
        "Untuk membuang angka dan tanda baca dapat digunakan `re.sub()` dan dilakukan proses *chaining* dengan method `lower()` untuk mengubah seluruh huruf menjadi *lower case* dan method `split()` untuk memisahkan kata."
      ],
      "id": "1b9af936"
    },
    {
      "cell_type": "code",
      "metadata": {
        "colab": {
          "base_uri": "https://localhost:8080/"
        },
        "id": "0a617365",
        "outputId": "c3be547e-3cff-4ba3-bfe2-508baf800887"
      },
      "source": [
        "text_process = re.sub('[^a-zA-Z]', ' ', example).lower().split()\n",
        "text_process[:5]"
      ],
      "id": "0a617365",
      "execution_count": null,
      "outputs": [
        {
          "data": {
            "text/plain": [
              "['need', 'to', 'work', 'on', 'boss']"
            ]
          },
          "execution_count": 50,
          "metadata": {},
          "output_type": "execute_result"
        }
      ]
    },
    {
      "cell_type": "markdown",
      "metadata": {
        "id": "4c59f6c8"
      },
      "source": [
        "Setelah itu dapat dilakukan pengecekan untuk tiap kata apakah termasuk ke dalam daftar *stop word* atau tidak."
      ],
      "id": "4c59f6c8"
    },
    {
      "cell_type": "code",
      "metadata": {
        "colab": {
          "base_uri": "https://localhost:8080/"
        },
        "id": "5aea31cf",
        "outputId": "1dea0984-b0e3-4a3b-8fb7-c44b2555ecec"
      },
      "source": [
        "text_process = [word for word in text_process if not word in stop_en]\n",
        "text_process[:5]"
      ],
      "id": "5aea31cf",
      "execution_count": null,
      "outputs": [
        {
          "data": {
            "text/plain": [
              "['need', 'work', 'boss', 'whims', 'fancies']"
            ]
          },
          "execution_count": 51,
          "metadata": {},
          "output_type": "execute_result"
        }
      ]
    },
    {
      "cell_type": "markdown",
      "metadata": {
        "id": "42b99bd3"
      },
      "source": [
        "Setelah itu dapat dilakukan proses *stemming* untuk tiap kata yang ada."
      ],
      "id": "42b99bd3"
    },
    {
      "cell_type": "code",
      "metadata": {
        "colab": {
          "base_uri": "https://localhost:8080/"
        },
        "id": "45f5736e",
        "outputId": "0543446e-a015-478c-c574-0c1fea447467"
      },
      "source": [
        "text_process = [ps.stem(word) for word in text_process]\n",
        "text_process[:5]"
      ],
      "id": "45f5736e",
      "execution_count": null,
      "outputs": [
        {
          "data": {
            "text/plain": [
              "['need', 'work', 'boss', 'whim', 'fanci']"
            ]
          },
          "execution_count": 52,
          "metadata": {},
          "output_type": "execute_result"
        }
      ]
    },
    {
      "cell_type": "code",
      "metadata": {
        "colab": {
          "base_uri": "https://localhost:8080/",
          "height": 52
        },
        "id": "605fdf48",
        "outputId": "72178fa9-8e04-45fe-96bf-e1fcc8332975"
      },
      "source": [
        "combined = ''\n",
        "for text in text_process:\n",
        "    combined = combined + text + ' '\n",
        "combined"
      ],
      "id": "605fdf48",
      "execution_count": null,
      "outputs": [
        {
          "data": {
            "application/vnd.google.colaboratory.intrinsic+json": {
              "type": "string"
            },
            "text/plain": [
              "'need work boss whim fanci prioriti keep chang regard work life balanc complet work time stress much complet well involv lot rework blame game etc job boundari ask work depend requir '"
            ]
          },
          "execution_count": 53,
          "metadata": {},
          "output_type": "execute_result"
        }
      ]
    },
    {
      "cell_type": "markdown",
      "metadata": {
        "id": "db256ff0"
      },
      "source": [
        "Terlihat setelah dilakukan proses di atas, kalimat *review* pada baris kedua telah berubah."
      ],
      "id": "db256ff0"
    },
    {
      "cell_type": "markdown",
      "metadata": {
        "id": "3719f846"
      },
      "source": [
        "**Create Function for Text Processing**"
      ],
      "id": "3719f846"
    },
    {
      "cell_type": "markdown",
      "metadata": {
        "id": "4601c2f9"
      },
      "source": [
        "Setelah kita melihat pada data, akan dibangun dua buah tipe untuk model tanpa proses *oversampling*. Pertama adalah model tanpa dilakukan penghapusan *stopwords* dan model dengan dilakukan penghapusan *stopwords*. Hal ini dikarenakan beberapa *stopwords* seperti '*no*' dapat merubah makna dari suatu *review*. Definisikan fungsi `text_preprocessing_withstop` untuk melakukan *processing* pada teks dengan penghapusan *stopwords* dan fungsi `text_preprocessing` untuk melakukan *preprocessing* pada teks tanpa penghapusan *stopwords*."
      ],
      "id": "4601c2f9"
    },
    {
      "cell_type": "code",
      "metadata": {
        "id": "937c0fd7"
      },
      "source": [
        "def text_preprocessing_withstop(texts):\n",
        "    text_list = []\n",
        "    for i in range(len(texts)):\n",
        "        text_process = re.sub('[^a-zA-Z]', ' ', texts[i]).lower().split()\n",
        "        text_process = [word for word in text_process if not word in stop_en]\n",
        "        text_process = [ps.stem(word) for word in text_process]\n",
        "        combined = ''\n",
        "        for text in text_process:\n",
        "            combined = combined + text + ' '\n",
        "        text_list.append(combined)\n",
        "    return text_list"
      ],
      "id": "937c0fd7",
      "execution_count": null,
      "outputs": []
    },
    {
      "cell_type": "code",
      "metadata": {
        "id": "cfe536af"
      },
      "source": [
        "def text_preprocessing(texts):\n",
        "    text_list = []\n",
        "    for i in range(len(texts)):\n",
        "        text_process = re.sub('[^a-zA-Z]', ' ', texts[i]).lower().split()\n",
        "        text_process = [ps.stem(word) for word in text_process]\n",
        "        combined = ''\n",
        "        for text in text_process:\n",
        "            combined = combined + text + ' '\n",
        "        text_list.append(combined)\n",
        "    return text_list"
      ],
      "id": "cfe536af",
      "execution_count": null,
      "outputs": []
    },
    {
      "cell_type": "code",
      "metadata": {
        "id": "5cc16a18"
      },
      "source": [
        "review = df_not_over['CompleteReview']\n",
        "target = df_not_over['Category']"
      ],
      "id": "5cc16a18",
      "execution_count": null,
      "outputs": []
    },
    {
      "cell_type": "code",
      "metadata": {
        "id": "72cdc895"
      },
      "source": [
        "review_without_stopword = text_preprocessing(review)\n",
        "review_with_stopword = text_preprocessing_withstop(review)"
      ],
      "id": "72cdc895",
      "execution_count": null,
      "outputs": []
    },
    {
      "cell_type": "markdown",
      "metadata": {
        "id": "7b3d6875"
      },
      "source": [
        "Definisikan fungsi untuk menggabungkan semua list menjadi satu."
      ],
      "id": "7b3d6875"
    },
    {
      "cell_type": "code",
      "metadata": {
        "id": "c8a35a0f"
      },
      "source": [
        "def combine_list(list_text):\n",
        "    all_list = []\n",
        "    for i in range(len(list_text)):\n",
        "        all_list += list_text[i].split()\n",
        "    return all_list"
      ],
      "id": "c8a35a0f",
      "execution_count": null,
      "outputs": []
    },
    {
      "cell_type": "markdown",
      "metadata": {
        "id": "be97e037"
      },
      "source": [
        "#### Model Without Oversampling (Without Removing Stopword)"
      ],
      "id": "be97e037"
    },
    {
      "cell_type": "markdown",
      "metadata": {
        "id": "2c04eec3"
      },
      "source": [
        "Bangun model pertama tanpa melakukan proses oversamping dan tanpa menghapus *stopwords*."
      ],
      "id": "2c04eec3"
    },
    {
      "cell_type": "markdown",
      "metadata": {
        "id": "83ca0627"
      },
      "source": [
        "**Split into Train and Test Data**"
      ],
      "id": "83ca0627"
    },
    {
      "cell_type": "markdown",
      "metadata": {
        "id": "d9ad3159"
      },
      "source": [
        "Sebelum membangun model, akan dibagi dataset kita ke dalam *train data* dan *test data* dengan proporsi *train data* sebanyak 80% dan *test data* sebanyak 20%."
      ],
      "id": "d9ad3159"
    },
    {
      "cell_type": "code",
      "metadata": {
        "id": "54616a2f"
      },
      "source": [
        "X_train_1, X_test_1, y_train_1, y_test_1 = train_test_split(review_without_stopword, \n",
        "                                                            target, \n",
        "                                                            test_size=0.2, \n",
        "                                                            random_state=0)"
      ],
      "id": "54616a2f",
      "execution_count": null,
      "outputs": []
    },
    {
      "cell_type": "code",
      "metadata": {
        "id": "720c530d"
      },
      "source": [
        "ohe = OneHotEncoder(sparse=False, handle_unknown='ignore')\n",
        "y_train_1 = ohe.fit_transform(pd.DataFrame(y_train_1))\n",
        "y_test_1 = ohe.transform(pd.DataFrame(y_test_1))"
      ],
      "id": "720c530d",
      "execution_count": null,
      "outputs": []
    },
    {
      "cell_type": "markdown",
      "metadata": {
        "id": "433f0c7b"
      },
      "source": [
        "Setelah membagi dataset ke dalam *train data* dan *test data*, definisikan objek `tokenizer` yang akan melakukan proses *Tokenizer* atau tokenisasi. Tokenisasi adalah proses pemisahan kata dari sebuah teks untuk kemudian dianalisa lebih lanjut. Tokenisasi diperlukan untuk menghindari kompleksitas langsung dari teks asal dan sebagai salah satu cara untuk merubah *unstructured* data menjadi terstruktur. Dalam *class* `Tokenizer` akan menerima parameter `num_words` yang merupakan jumlah maksimum kata yang akan diubah menjadi token atau bilangan numerik. Selain parameter `num_words`, terdapat juga parameter `oov_token` yang akan mengganti kata-kata yang tidak dilakukan proses tokenisasi. Dalam praktiknya, tentunya akan lebih baik untuk mengganti kata yang tidak dikenakan proses tokenisasi dengan suatu kata tertentu dibandingkan melewatkannya."
      ],
      "id": "433f0c7b"
    },
    {
      "cell_type": "markdown",
      "metadata": {
        "id": "bc197f77"
      },
      "source": [
        "Setelah dilakukan pendefinisian tokenisasi, perlu dilakukan method `.fit_on_texts()` untuk melakukan tokenisasi pada objek `tokenizer` dan teks sebagai argumennya. Selanjutnya dapat digunakan `texts_to_sequences()` untuk mengubah teks sebelumnya ke dalam bentuk *sequence*. Setelah mengubah ke dalam bentuk *sequence*, tentunya setiap baris pada teks akan mempunyai panjang yang berbeda. Dalam mengatasi hal ini, perlu dilakukan proses *padding* agar panjang setiap kalimat pada teks mempunyai panjang yang sama. Untuk melakukan *padding*, dapat digunakan `pad_sequence()`."
      ],
      "id": "bc197f77"
    },
    {
      "cell_type": "markdown",
      "metadata": {
        "id": "8bec555b"
      },
      "source": [
        "Permasalahan yang muncul adalah, bagaimana cara kita untuk menentukan parameter `num_words` pada `Tokenizer` yang efektif ?. Untuk itu kita perlu melihat frekuensi dari tiap kata yang muncul pada *review* kita."
      ],
      "id": "8bec555b"
    },
    {
      "cell_type": "code",
      "metadata": {
        "colab": {
          "base_uri": "https://localhost:8080/",
          "height": 204
        },
        "id": "b8b0babb",
        "outputId": "02c61c9c-3219-4463-b6d5-4ec097ab666d"
      },
      "source": [
        "list_without_stopword = combine_list(review_without_stopword)\n",
        "count_dict_without_stopword = collections.Counter(list_without_stopword)\n",
        "count_freq_without_stopword = pd.DataFrame.from_dict(\n",
        "    count_dict_without_stopword, orient='index').reset_index().rename(\n",
        "    columns={'index':'Word', 0:'Frequency'}\n",
        ")\n",
        "count_freq_without_stopword.head()"
      ],
      "id": "b8b0babb",
      "execution_count": null,
      "outputs": [
        {
          "data": {
            "text/html": [
              "<div>\n",
              "<style scoped>\n",
              "    .dataframe tbody tr th:only-of-type {\n",
              "        vertical-align: middle;\n",
              "    }\n",
              "\n",
              "    .dataframe tbody tr th {\n",
              "        vertical-align: top;\n",
              "    }\n",
              "\n",
              "    .dataframe thead th {\n",
              "        text-align: right;\n",
              "    }\n",
              "</style>\n",
              "<table border=\"1\" class=\"dataframe\">\n",
              "  <thead>\n",
              "    <tr style=\"text-align: right;\">\n",
              "      <th></th>\n",
              "      <th>Word</th>\n",
              "      <th>Frequency</th>\n",
              "    </tr>\n",
              "  </thead>\n",
              "  <tbody>\n",
              "    <tr>\n",
              "      <th>0</th>\n",
              "      <td>good</td>\n",
              "      <td>117869</td>\n",
              "    </tr>\n",
              "    <tr>\n",
              "      <th>1</th>\n",
              "      <td>compani</td>\n",
              "      <td>51987</td>\n",
              "    </tr>\n",
              "    <tr>\n",
              "      <th>2</th>\n",
              "      <td>cool</td>\n",
              "      <td>1031</td>\n",
              "    </tr>\n",
              "    <tr>\n",
              "      <th>3</th>\n",
              "      <td>workplac</td>\n",
              "      <td>6234</td>\n",
              "    </tr>\n",
              "    <tr>\n",
              "      <th>4</th>\n",
              "      <td>work</td>\n",
              "      <td>183478</td>\n",
              "    </tr>\n",
              "  </tbody>\n",
              "</table>\n",
              "</div>"
            ],
            "text/plain": [
              "       Word  Frequency\n",
              "0      good     117869\n",
              "1   compani      51987\n",
              "2      cool       1031\n",
              "3  workplac       6234\n",
              "4      work     183478"
            ]
          },
          "execution_count": 61,
          "metadata": {},
          "output_type": "execute_result"
        }
      ]
    },
    {
      "cell_type": "code",
      "metadata": {
        "colab": {
          "base_uri": "https://localhost:8080/",
          "height": 357
        },
        "id": "fb95a1f8",
        "outputId": "36353f06-6421-4774-fc00-590bb5832f78"
      },
      "source": [
        "plt.figure(figsize=(16,5))\n",
        "top_15_word_1 = count_freq_without_stopword.sort_values(by='Frequency', ascending=False).head(15)\n",
        "sns.barplot(y=top_15_word_1['Word'],\n",
        "            x=top_15_word_1['Frequency'],\n",
        "            color=\"b\")\n",
        "plt.xlabel('Frequency', fontsize=12)\n",
        "plt.title('Top 15 Common Words in Review Without Oversampling (Without Removing Stopword)', fontsize=15)\n",
        "plt.show()"
      ],
      "id": "fb95a1f8",
      "execution_count": null,
      "outputs": [
        {
          "data": {
            "image/png": "[encoded data removed]",
            "text/plain": [
              "<Figure size 1152x360 with 1 Axes>"
            ]
          },
          "metadata": {},
          "output_type": "display_data"
        }
      ]
    },
    {
      "cell_type": "markdown",
      "metadata": {
        "id": "443b44a4"
      },
      "source": [
        "Berdasarkan gambar di atas, terlihat bahwa kata *and* dan *to* adalah dua kata dengan jumlah frekuensi terbanyak. Selanjutnya, kita akan melihat jumlah kata yang memiliki frekuensi kemunculan lebih dari 10."
      ],
      "id": "443b44a4"
    },
    {
      "cell_type": "code",
      "metadata": {
        "colab": {
          "base_uri": "https://localhost:8080/"
        },
        "id": "078b6f68",
        "outputId": "039355b5-c4fc-4b95-e5f8-b70fa96b83e5"
      },
      "source": [
        "number_words_1 = len(count_freq_without_stopword[count_freq_without_stopword['Frequency']>10])\n",
        "print('Jumlah kata dengan frekuensi kemunculan lebih dari 10 :', number_words_1)"
      ],
      "id": "078b6f68",
      "execution_count": null,
      "outputs": [
        {
          "name": "stdout",
          "output_type": "stream",
          "text": [
            "Jumlah kata dengan frekuensi kemunculan lebih dari 10 : 5614\n"
          ]
        }
      ]
    },
    {
      "cell_type": "markdown",
      "metadata": {
        "id": "4e843bb7"
      },
      "source": [
        "Terdapat 5614 kata dengan jumlah frekuensi kemunculan lebih dari 10. Oleh karena itu, akan kita berikan nilai paramete `num_words` sebesar 5614."
      ],
      "id": "4e843bb7"
    },
    {
      "cell_type": "markdown",
      "metadata": {
        "id": "a74f48ab"
      },
      "source": [
        "**Tokenizer**"
      ],
      "id": "a74f48ab"
    },
    {
      "cell_type": "code",
      "metadata": {
        "id": "4610c34e"
      },
      "source": [
        "tokenizer_1 = Tokenizer(num_words=number_words_1, oov_token='-')\n",
        "tokenizer_1.fit_on_texts(X_train_1)\n",
        "\n",
        "sequence_train_1 = tokenizer_1.texts_to_sequences(X_train_1)\n",
        "sequence_test_1 = tokenizer_1.texts_to_sequences(X_test_1)\n",
        "\n",
        "pad_train_1 = pad_sequences(sequence_train_1)\n",
        "pad_test_1 = pad_sequences(sequence_test_1)"
      ],
      "id": "4610c34e",
      "execution_count": null,
      "outputs": []
    },
    {
      "cell_type": "markdown",
      "metadata": {
        "id": "a89981c2"
      },
      "source": [
        "**Create Sequential Model**"
      ],
      "id": "a89981c2"
    },
    {
      "cell_type": "markdown",
      "metadata": {
        "id": "0002e102"
      },
      "source": [
        "Definisikan arsitektur *neural network* yang akan kita gunakan sebagai model *sequential*. Pada klasifikasi teks, hal yang paling utama adalah melakukan proses *embedding*. *Embedding* memungkinkan model memahami makna yang terkandung pada setiap kata dan akan mengelompokkan kata yang memiliki makna yang mirip. Pengelompokkan ini dilakukan dengan memetakan setiap kata ke dalam sebuah vektor dan untuk kata yang memiliki makna yang berdekatan akan memiliki nilai vektor yang mirip. Dalam `Embedding()` dapat diberikan parameter `input_dim` berupa total kata yang dilakukan proses tokenisasi dan `output_dim` berupa dimensi *embedding* yang diinginkan."
      ],
      "id": "0002e102"
    },
    {
      "cell_type": "markdown",
      "metadata": {
        "id": "b599f37f"
      },
      "source": [
        "Selain melakukan proses *embedding* untuk mengelompokkan kata yang memiliki makna yang mirip, model yang ada belum bisa memahami sebuah kalimat berdasarkan kata-katanya saja. Beberapa kalimat seperti \"Saya suka belajar *Machine Learning*\" dan \"Saya tidak suka belajar *Machine Learning*\" akan mempunyai kata-kata yang mirip namun mempunyai makna yang berlawanan. Oleh karena itu, urutan dari suatu kata dapat memengaruhi makna yang ada dalam suatu kalimat. LSTM atau *Long Short Term Memory* adalah salah satu dari jenis *Recurrent Neural Network (RNN)* dan dilakukan modifikasi untuk menambahkan *memory cell* yang dapat menyimpan informasi dalam waktu yang lama. Proses ini adalah cara yang digunakan untuk mengenali makna dari suatu kalimat berdasarkan urutan kata pada kalimat kita. Penempatan *layer* LSTM dapat dilakukan setelah *layer embedding* dan sebelum *layer dense*. Pada *layer dense* kita akan menggunakan fungsi aktivasi *relu* dan pada *layer output* akan berisi 3 unit yang mewakilkan jumlah kelas pada klasifikasi teks kita berupa *Negative*, *Neutral*, dan *Positive* dengan fungsi aktivasi *softmax* yang akan mengembalikan nilai peluang dari ketiga kelas tersebut."
      ],
      "id": "b599f37f"
    },
    {
      "cell_type": "code",
      "metadata": {
        "id": "371f6eef"
      },
      "source": [
        "model_1 = tf.keras.models.Sequential([\n",
        "    tf.keras.layers.Embedding(input_dim=number_words_1, output_dim=64),\n",
        "    tf.keras.layers.Dropout(0.4),\n",
        "    tf.keras.layers.LSTM(64),\n",
        "    tf.keras.layers.Dropout(0.3),\n",
        "    tf.keras.layers.Dense(64, activation='relu'),\n",
        "    tf.keras.layers.Dropout(0.2),\n",
        "    tf.keras.layers.Dense(64, activation='relu'),\n",
        "    tf.keras.layers.Dense(3, activation='softmax')\n",
        "])"
      ],
      "id": "371f6eef",
      "execution_count": null,
      "outputs": []
    },
    {
      "cell_type": "code",
      "metadata": {
        "colab": {
          "base_uri": "https://localhost:8080/"
        },
        "id": "3cf936bd",
        "outputId": "30550255-a163-4abd-8e98-c3baebf1a9a4"
      },
      "source": [
        "model_1.summary()"
      ],
      "id": "3cf936bd",
      "execution_count": null,
      "outputs": [
        {
          "name": "stdout",
          "output_type": "stream",
          "text": [
            "Model: \"sequential\"\n",
            "_________________________________________________________________\n",
            "Layer (type)                 Output Shape              Param #   \n",
            "=================================================================\n",
            "embedding (Embedding)        (None, None, 64)          359296    \n",
            "_________________________________________________________________\n",
            "dropout (Dropout)            (None, None, 64)          0         \n",
            "_________________________________________________________________\n",
            "lstm (LSTM)                  (None, 64)                33024     \n",
            "_________________________________________________________________\n",
            "dropout_1 (Dropout)          (None, 64)                0         \n",
            "_________________________________________________________________\n",
            "dense (Dense)                (None, 64)                4160      \n",
            "_________________________________________________________________\n",
            "dropout_2 (Dropout)          (None, 64)                0         \n",
            "_________________________________________________________________\n",
            "dense_1 (Dense)              (None, 64)                4160      \n",
            "_________________________________________________________________\n",
            "dense_2 (Dense)              (None, 3)                 195       \n",
            "=================================================================\n",
            "Total params: 400,835\n",
            "Trainable params: 400,835\n",
            "Non-trainable params: 0\n",
            "_________________________________________________________________\n"
          ]
        }
      ]
    },
    {
      "cell_type": "markdown",
      "metadata": {
        "id": "386b01fa"
      },
      "source": [
        "Pada proses `.compile()`, digunakan *optimizer* berupa `Adam`, dengan *loss function* berupa *categorical_crossentropy* dikarenakan kelas yang kita miliki lebih dari dua, dan penggunaaan *metrics* berupa *accuracy* untuk melihat seberapa baik model kita melakukan klasifikasi pada teks."
      ],
      "id": "386b01fa"
    },
    {
      "cell_type": "code",
      "metadata": {
        "id": "fLr2oMa1uMl8"
      },
      "source": [
        "model_1.compile(\n",
        "    optimizer='Adam',\n",
        "    loss = 'categorical_crossentropy',\n",
        "    metrics = ['accuracy']\n",
        ")"
      ],
      "id": "fLr2oMa1uMl8",
      "execution_count": null,
      "outputs": []
    },
    {
      "cell_type": "markdown",
      "metadata": {
        "id": "6ac65b57"
      },
      "source": [
        "Lakukan `.fit()` untuk melakukan proses *training* pada model. Definisikan parameter `epochs` sebanyak 10 dan `batch_size` sebesar 32."
      ],
      "id": "6ac65b57"
    },
    {
      "cell_type": "code",
      "metadata": {
        "colab": {
          "base_uri": "https://localhost:8080/"
        },
        "id": "t6c6npjsue-L",
        "outputId": "6ed98605-b817-4183-ce4e-745a5dc12e71"
      },
      "source": [
        "history_1 = model_1.fit(\n",
        "    pad_train_1,\n",
        "    y_train_1,\n",
        "    epochs = 10,\n",
        "    batch_size = 32,\n",
        "    validation_data = (pad_test_1, y_test_1),\n",
        "    verbose = 1\n",
        ")"
      ],
      "id": "t6c6npjsue-L",
      "execution_count": null,
      "outputs": [
        {
          "name": "stdout",
          "output_type": "stream",
          "text": [
            "Epoch 1/10\n",
            "3627/3627 [==============================] - 280s 75ms/step - loss: 0.5930 - accuracy: 0.7728 - val_loss: 0.5743 - val_accuracy: 0.7793\n",
            "Epoch 2/10\n",
            "3627/3627 [==============================] - 271s 75ms/step - loss: 0.5605 - accuracy: 0.7824 - val_loss: 0.5665 - val_accuracy: 0.7827\n",
            "Epoch 3/10\n",
            "3627/3627 [==============================] - 272s 75ms/step - loss: 0.5497 - accuracy: 0.7866 - val_loss: 0.5678 - val_accuracy: 0.7807\n",
            "Epoch 4/10\n",
            "3627/3627 [==============================] - 269s 74ms/step - loss: 0.5388 - accuracy: 0.7906 - val_loss: 0.5719 - val_accuracy: 0.7778\n",
            "Epoch 5/10\n",
            "3627/3627 [==============================] - 268s 74ms/step - loss: 0.5285 - accuracy: 0.7937 - val_loss: 0.5696 - val_accuracy: 0.7819\n",
            "Epoch 6/10\n",
            "3627/3627 [==============================] - 270s 74ms/step - loss: 0.5180 - accuracy: 0.7971 - val_loss: 0.5732 - val_accuracy: 0.7802\n",
            "Epoch 7/10\n",
            "3627/3627 [==============================] - 273s 75ms/step - loss: 0.5090 - accuracy: 0.8007 - val_loss: 0.5902 - val_accuracy: 0.7714\n",
            "Epoch 8/10\n",
            "3627/3627 [==============================] - 274s 76ms/step - loss: 0.5005 - accuracy: 0.8044 - val_loss: 0.5856 - val_accuracy: 0.7731\n",
            "Epoch 9/10\n",
            "3627/3627 [==============================] - 274s 76ms/step - loss: 0.4926 - accuracy: 0.8073 - val_loss: 0.5881 - val_accuracy: 0.7771\n",
            "Epoch 10/10\n",
            "3627/3627 [==============================] - 275s 76ms/step - loss: 0.4827 - accuracy: 0.8120 - val_loss: 0.6038 - val_accuracy: 0.7753\n"
          ]
        }
      ]
    },
    {
      "cell_type": "markdown",
      "metadata": {
        "id": "010e0272"
      },
      "source": [
        "Simpan model ke dalam `Model Without Oversampling (Without Stopwords).h5`."
      ],
      "id": "010e0272"
    },
    {
      "cell_type": "code",
      "metadata": {
        "id": "_8AQMubwwSXy"
      },
      "source": [
        "model_1.save('Model Without Oversampling (Without Removing Stopwords).h5')"
      ],
      "id": "_8AQMubwwSXy",
      "execution_count": null,
      "outputs": []
    },
    {
      "cell_type": "markdown",
      "metadata": {
        "id": "v65HenJ-uliE"
      },
      "source": [
        "**Plot Accuracy and Loss Function**"
      ],
      "id": "v65HenJ-uliE"
    },
    {
      "cell_type": "markdown",
      "metadata": {
        "id": "a1166c45"
      },
      "source": [
        "Definisikan fungsi untuk melakukan plot *accuracy* dan *loss* dari model yang telah dilakukan proses *training*."
      ],
      "id": "a1166c45"
    },
    {
      "cell_type": "code",
      "metadata": {
        "id": "JNpLkUXBuqnM"
      },
      "source": [
        "def plot_accuracy(history):\n",
        "    plt.figure(figsize=(18,5))\n",
        "    acc = history.history['accuracy']\n",
        "    val_acc = history.history['val_accuracy']\n",
        "    epochs = range(len(acc))\n",
        "    plot_acc = plt.plot(epochs, acc, 'red', label='Training Accuracy')\n",
        "    plot_val_acc = plt.plot(epochs, val_acc, 'blue', label='Validation Accuracy')\n",
        "    plt.xlabel('Epoch', fontsize=15)\n",
        "    plt.ylabel('Accuracy', fontsize=15)\n",
        "    plt.title('Training and Validation Accuracy', fontsize=25)\n",
        "    plt.legend(bbox_to_anchor=(1,1), loc='best')\n",
        "    plt.grid()\n",
        "    plt.show()\n",
        "\n",
        "def plot_loss(history):\n",
        "    plt.figure(figsize=(18,5))\n",
        "    loss = history.history['loss']\n",
        "    val_loss = history.history['val_loss']\n",
        "    epochs = range(len(loss))\n",
        "    plot_loss = plt.plot(epochs, loss, 'red', label='Training Loss')\n",
        "    plot_val_loss = plt.plot(epochs, val_loss, 'blue', label='Validation Loss')\n",
        "    plt.xlabel('Epoch', fontsize=15)\n",
        "    plt.ylabel('Loss', fontsize=15)\n",
        "    plt.title('Training and Validation Loss', fontsize=25)\n",
        "    plt.legend(bbox_to_anchor=(1,1), loc='best')\n",
        "    plt.grid()\n",
        "    plt.show()"
      ],
      "id": "JNpLkUXBuqnM",
      "execution_count": null,
      "outputs": []
    },
    {
      "cell_type": "code",
      "metadata": {
        "colab": {
          "base_uri": "https://localhost:8080/",
          "height": 366
        },
        "id": "RZyEnSJ_wFSe",
        "outputId": "e919e831-0022-4ec0-9042-e454a2781db0"
      },
      "source": [
        "plot_accuracy(history_1)"
      ],
      "id": "RZyEnSJ_wFSe",
      "execution_count": null,
      "outputs": [
        {
          "data": {
            "image/png": "[encoded data removed]",
            "text/plain": [
              "<Figure size 1296x360 with 1 Axes>"
            ]
          },
          "metadata": {},
          "output_type": "display_data"
        }
      ]
    },
    {
      "cell_type": "code",
      "metadata": {
        "colab": {
          "base_uri": "https://localhost:8080/",
          "height": 366
        },
        "id": "iP0BQj2wwFVQ",
        "outputId": "498d0c90-9eb4-4cc8-815b-e3cceb86a007"
      },
      "source": [
        "plot_loss(history_1)"
      ],
      "id": "iP0BQj2wwFVQ",
      "execution_count": null,
      "outputs": [
        {
          "data": {
            "image/png": "[encoded data removed]",
            "text/plain": [
              "<Figure size 1296x360 with 1 Axes>"
            ]
          },
          "metadata": {},
          "output_type": "display_data"
        }
      ]
    },
    {
      "cell_type": "markdown",
      "metadata": {
        "id": "f0476212"
      },
      "source": [
        "Melihat pada dua gambar di atas, terlihat bahwa model yang telah dibangun akan mengalami tingkat kenaikan *accuracy* pada *training data* dan mengalami penurunan *accuary* pada *testing/validation data*. Selain itu, untuk grafik *loss*, model mengalami penurunan *loss* pada *training data* dan kenaikan *loss* pada *testing/validation* data."
      ],
      "id": "f0476212"
    },
    {
      "cell_type": "markdown",
      "metadata": {
        "id": "Z0ZEi936wHgj"
      },
      "source": [
        "**Evaluate**"
      ],
      "id": "Z0ZEi936wHgj"
    },
    {
      "cell_type": "code",
      "metadata": {
        "id": "xSrYIbdcwJJD"
      },
      "source": [
        "y_pred_1 = model_1.predict(pad_test_1)"
      ],
      "id": "xSrYIbdcwJJD",
      "execution_count": null,
      "outputs": []
    },
    {
      "cell_type": "code",
      "metadata": {
        "id": "qhDE7U4g2TKF"
      },
      "source": [
        "def make_confusion_matrix(y_pred, y_test):\n",
        "    cam = confusion_matrix(np.argmax(y_test, axis=1), np.argmax(y_pred,axis=1))\n",
        "    sns.heatmap(cam, annot=True, cmap='viridis', \n",
        "                xticklabels=['Negative', 'Neutral', 'Positive'],\n",
        "                yticklabels=['Negative', 'Neutral', 'Positive'],\n",
        "                fmt=\"d\")\n",
        "    plt.xlabel('Predicted Label')\n",
        "    plt.ylabel('True Label')\n",
        "    plt.title('Confusion Matrix')\n",
        "    plt.show()"
      ],
      "id": "qhDE7U4g2TKF",
      "execution_count": null,
      "outputs": []
    },
    {
      "cell_type": "code",
      "metadata": {
        "colab": {
          "base_uri": "https://localhost:8080/",
          "height": 301
        },
        "id": "r2OCS3Lv2u3c",
        "outputId": "d79ea9fa-2047-484b-efbd-56b60ffae50d"
      },
      "source": [
        "make_confusion_matrix(y_pred_1, y_test_1)"
      ],
      "id": "r2OCS3Lv2u3c",
      "execution_count": null,
      "outputs": [
        {
          "data": {
            "image/png": "[encoded data removed]",
            "text/plain": [
              "<Figure size 432x288 with 2 Axes>"
            ]
          },
          "metadata": {},
          "output_type": "display_data"
        }
      ]
    },
    {
      "cell_type": "code",
      "metadata": {
        "colab": {
          "base_uri": "https://localhost:8080/"
        },
        "id": "5pQ1QFi5wJOF",
        "outputId": "c5c8232e-e9b4-4fa5-89a9-b50f2a5a8962"
      },
      "source": [
        "print('Accuracy Model :', accuracy_score(np.argmax(y_test_1, axis=1), np.argmax(y_pred_1, axis=1)))"
      ],
      "id": "5pQ1QFi5wJOF",
      "execution_count": null,
      "outputs": [
        {
          "name": "stdout",
          "output_type": "stream",
          "text": [
            "Accuracy Model : 0.7753188555670458\n"
          ]
        }
      ]
    },
    {
      "cell_type": "markdown",
      "metadata": {
        "id": "6330cd46"
      },
      "source": [
        "Nilai *accuracy* pada model pertama sebesar 77,49%."
      ],
      "id": "6330cd46"
    },
    {
      "cell_type": "markdown",
      "metadata": {
        "id": "818dbc75"
      },
      "source": [
        "#### Model Without Oversampling (With Stopword)"
      ],
      "id": "818dbc75"
    },
    {
      "cell_type": "markdown",
      "metadata": {
        "id": "6f453b7f"
      },
      "source": [
        "Bangun model kedua tanpa melakukan proses oversamping dan melakukan proses penghapusan *stopwords*."
      ],
      "id": "6f453b7f"
    },
    {
      "cell_type": "code",
      "metadata": {
        "id": "c_s3yCpgwOWt"
      },
      "source": [
        "X_train_2, X_test_2, y_train_2, y_test_2 = train_test_split(review_with_stopword, \n",
        "                                                            target, \n",
        "                                                            test_size=0.2, \n",
        "                                                            random_state=0)"
      ],
      "id": "c_s3yCpgwOWt",
      "execution_count": null,
      "outputs": []
    },
    {
      "cell_type": "code",
      "metadata": {
        "id": "OFsGX_l1wOWx"
      },
      "source": [
        "ohe = OneHotEncoder(sparse=False, handle_unknown='ignore')\n",
        "y_train_2 = ohe.fit_transform(pd.DataFrame(y_train_2))\n",
        "y_test_2 = ohe.transform(pd.DataFrame(y_test_2))"
      ],
      "id": "OFsGX_l1wOWx",
      "execution_count": null,
      "outputs": []
    },
    {
      "cell_type": "code",
      "metadata": {
        "colab": {
          "base_uri": "https://localhost:8080/",
          "height": 204
        },
        "id": "QZ7A_lq0wefR",
        "outputId": "81714511-449c-4c77-ba41-088dc372424a"
      },
      "source": [
        "list_with_stopword = combine_list(review_with_stopword)\n",
        "count_dict_with_stopword = collections.Counter(list_with_stopword)\n",
        "count_freq_with_stopword = pd.DataFrame.from_dict(\n",
        "    count_dict_with_stopword, orient='index').reset_index().rename(\n",
        "    columns={'index':'Word', 0:'Frequency'}\n",
        ")\n",
        "count_freq_with_stopword.head()"
      ],
      "id": "QZ7A_lq0wefR",
      "execution_count": null,
      "outputs": [
        {
          "data": {
            "text/html": [
              "<div>\n",
              "<style scoped>\n",
              "    .dataframe tbody tr th:only-of-type {\n",
              "        vertical-align: middle;\n",
              "    }\n",
              "\n",
              "    .dataframe tbody tr th {\n",
              "        vertical-align: top;\n",
              "    }\n",
              "\n",
              "    .dataframe thead th {\n",
              "        text-align: right;\n",
              "    }\n",
              "</style>\n",
              "<table border=\"1\" class=\"dataframe\">\n",
              "  <thead>\n",
              "    <tr style=\"text-align: right;\">\n",
              "      <th></th>\n",
              "      <th>Word</th>\n",
              "      <th>Frequency</th>\n",
              "    </tr>\n",
              "  </thead>\n",
              "  <tbody>\n",
              "    <tr>\n",
              "      <th>0</th>\n",
              "      <td>good</td>\n",
              "      <td>117869</td>\n",
              "    </tr>\n",
              "    <tr>\n",
              "      <th>1</th>\n",
              "      <td>compani</td>\n",
              "      <td>51987</td>\n",
              "    </tr>\n",
              "    <tr>\n",
              "      <th>2</th>\n",
              "      <td>cool</td>\n",
              "      <td>1031</td>\n",
              "    </tr>\n",
              "    <tr>\n",
              "      <th>3</th>\n",
              "      <td>workplac</td>\n",
              "      <td>6234</td>\n",
              "    </tr>\n",
              "    <tr>\n",
              "      <th>4</th>\n",
              "      <td>work</td>\n",
              "      <td>183478</td>\n",
              "    </tr>\n",
              "  </tbody>\n",
              "</table>\n",
              "</div>"
            ],
            "text/plain": [
              "       Word  Frequency\n",
              "0      good     117869\n",
              "1   compani      51987\n",
              "2      cool       1031\n",
              "3  workplac       6234\n",
              "4      work     183478"
            ]
          },
          "execution_count": 79,
          "metadata": {},
          "output_type": "execute_result"
        }
      ]
    },
    {
      "cell_type": "code",
      "metadata": {
        "colab": {
          "base_uri": "https://localhost:8080/",
          "height": 357
        },
        "id": "xk7m0wm_wefY",
        "outputId": "d3ecd6bc-59e2-400e-914a-a63eaf6619ff"
      },
      "source": [
        "plt.figure(figsize=(16,5))\n",
        "top_15_word_2 = count_freq_with_stopword.sort_values(by='Frequency', ascending=False).head(15)\n",
        "sns.barplot(y=top_15_word_2['Word'],\n",
        "            x=top_15_word_2['Frequency'],\n",
        "            color=\"b\")\n",
        "plt.xlabel('Frequency', fontsize=12)\n",
        "plt.title('Top 15 Common Words in Review Without Oversampling (With Removing Stopword)', fontsize=15)\n",
        "plt.show()"
      ],
      "id": "xk7m0wm_wefY",
      "execution_count": null,
      "outputs": [
        {
          "data": {
            "image/png": "[encoded data removed]",
            "text/plain": [
              "<Figure size 1152x360 with 1 Axes>"
            ]
          },
          "metadata": {},
          "output_type": "display_data"
        }
      ]
    },
    {
      "cell_type": "markdown",
      "metadata": {
        "id": "I_XGo9vzwefY"
      },
      "source": [
        "Berdasarkan gambar di atas, terlihat bahwa kata *work* dan *good* adalah dua kata dengan jumlah frekuensi terbanyak. Selanjutnya, kita akan melihat jumlah kata yang memiliki frekuensi kemunculan lebih dari 10."
      ],
      "id": "I_XGo9vzwefY"
    },
    {
      "cell_type": "code",
      "metadata": {
        "colab": {
          "base_uri": "https://localhost:8080/"
        },
        "id": "wQ05wTkBwefZ",
        "outputId": "de0bbe92-c0b5-4ff0-871a-f2dacc236a83"
      },
      "source": [
        "number_words_2 = len(count_freq_with_stopword[count_freq_with_stopword['Frequency']>10])\n",
        "print('Jumlah kata dengan frekuensi kemunculan lebih dari 10 :', number_words_2)"
      ],
      "id": "wQ05wTkBwefZ",
      "execution_count": null,
      "outputs": [
        {
          "name": "stdout",
          "output_type": "stream",
          "text": [
            "Jumlah kata dengan frekuensi kemunculan lebih dari 10 : 5500\n"
          ]
        }
      ]
    },
    {
      "cell_type": "markdown",
      "metadata": {
        "id": "wLsfkMP8wefZ"
      },
      "source": [
        "Terdapat 5500 kata dengan jumlah frekuensi kemunculan lebih dari 10. Oleh karena itu, akan kita berikan nilai paramete `num_words` sebesar 5500."
      ],
      "id": "wLsfkMP8wefZ"
    },
    {
      "cell_type": "markdown",
      "metadata": {
        "id": "Ruecsa-lw7_i"
      },
      "source": [
        "**Tokenizer**"
      ],
      "id": "Ruecsa-lw7_i"
    },
    {
      "cell_type": "code",
      "metadata": {
        "id": "RPQ-mt-tw7_i"
      },
      "source": [
        "tokenizer_2 = Tokenizer(num_words=number_words_2, oov_token='-')\n",
        "tokenizer_2.fit_on_texts(X_train_2)\n",
        "\n",
        "sequence_train_2 = tokenizer_2.texts_to_sequences(X_train_2)\n",
        "sequence_test_2 = tokenizer_2.texts_to_sequences(X_test_2)\n",
        "\n",
        "pad_train_2 = pad_sequences(sequence_train_2)\n",
        "pad_test_2 = pad_sequences(sequence_test_2)"
      ],
      "id": "RPQ-mt-tw7_i",
      "execution_count": null,
      "outputs": []
    },
    {
      "cell_type": "markdown",
      "metadata": {
        "id": "2hWE7A2Yw7_j"
      },
      "source": [
        "**Create Sequential Model**"
      ],
      "id": "2hWE7A2Yw7_j"
    },
    {
      "cell_type": "code",
      "metadata": {
        "id": "Ja1b4hLzw7_k"
      },
      "source": [
        "model_2 = tf.keras.models.Sequential([\n",
        "    tf.keras.layers.Embedding(input_dim=number_words_2, output_dim=64),\n",
        "    tf.keras.layers.Dropout(0.4),\n",
        "    tf.keras.layers.LSTM(64),\n",
        "    tf.keras.layers.Dropout(0.3),\n",
        "    tf.keras.layers.Dense(64, activation='relu'),\n",
        "    tf.keras.layers.Dropout(0.2),\n",
        "    tf.keras.layers.Dense(64, activation='relu'),\n",
        "    tf.keras.layers.Dense(3, activation='softmax')\n",
        "])"
      ],
      "id": "Ja1b4hLzw7_k",
      "execution_count": null,
      "outputs": []
    },
    {
      "cell_type": "code",
      "metadata": {
        "colab": {
          "base_uri": "https://localhost:8080/"
        },
        "id": "xj1pUEdNw7_k",
        "outputId": "dde42a81-83df-40b4-e191-e6a74f48267d"
      },
      "source": [
        "model_2.summary()"
      ],
      "id": "xj1pUEdNw7_k",
      "execution_count": null,
      "outputs": [
        {
          "name": "stdout",
          "output_type": "stream",
          "text": [
            "Model: \"sequential_1\"\n",
            "_________________________________________________________________\n",
            "Layer (type)                 Output Shape              Param #   \n",
            "=================================================================\n",
            "embedding_1 (Embedding)      (None, None, 64)          352000    \n",
            "_________________________________________________________________\n",
            "dropout_3 (Dropout)          (None, None, 64)          0         \n",
            "_________________________________________________________________\n",
            "lstm_1 (LSTM)                (None, 64)                33024     \n",
            "_________________________________________________________________\n",
            "dropout_4 (Dropout)          (None, 64)                0         \n",
            "_________________________________________________________________\n",
            "dense_3 (Dense)              (None, 64)                4160      \n",
            "_________________________________________________________________\n",
            "dropout_5 (Dropout)          (None, 64)                0         \n",
            "_________________________________________________________________\n",
            "dense_4 (Dense)              (None, 64)                4160      \n",
            "_________________________________________________________________\n",
            "dense_5 (Dense)              (None, 3)                 195       \n",
            "=================================================================\n",
            "Total params: 393,539\n",
            "Trainable params: 393,539\n",
            "Non-trainable params: 0\n",
            "_________________________________________________________________\n"
          ]
        }
      ]
    },
    {
      "cell_type": "markdown",
      "metadata": {
        "id": "8wYVOBBww7_l"
      },
      "source": [
        "Pada proses `.compile()`, digunakan *optimizer* berupa `Adam`, dengan *loss function* berupa *categorical_crossentropy* dikarenakan kelas yang kita miliki lebih dari dua, dan penggunaaan *metrics* berupa *accuracy* untuk melihat seberapa baik model kita melakukan klasifikasi pada teks."
      ],
      "id": "8wYVOBBww7_l"
    },
    {
      "cell_type": "code",
      "metadata": {
        "id": "TnsgMBCiw7_l"
      },
      "source": [
        "model_2.compile(\n",
        "    optimizer='Adam',\n",
        "    loss = 'categorical_crossentropy',\n",
        "    metrics = ['accuracy']\n",
        ")"
      ],
      "id": "TnsgMBCiw7_l",
      "execution_count": null,
      "outputs": []
    },
    {
      "cell_type": "markdown",
      "metadata": {
        "id": "-zxgjlHmw7_m"
      },
      "source": [
        "Lakukan `.fit()` untuk melakukan proses *training* pada model. Definisikan parameter `epochs` sebanyak 30, `callback` dengan 2 fungsi *callback* yang telah didefinisikan sebelumnya."
      ],
      "id": "-zxgjlHmw7_m"
    },
    {
      "cell_type": "code",
      "metadata": {
        "colab": {
          "base_uri": "https://localhost:8080/"
        },
        "id": "RdyzH9n-w7_m",
        "outputId": "f5c34244-dde7-4ef7-af8f-4995f11c6699"
      },
      "source": [
        "history_2 = model_2.fit(\n",
        "    pad_train_2,\n",
        "    y_train_2,\n",
        "    epochs = 10,\n",
        "    batch_size = 32,\n",
        "    #callbacks = [reduce_LR, stop_early],\n",
        "    validation_data = (pad_test_2, y_test_2),\n",
        "    verbose = 1\n",
        ")"
      ],
      "id": "RdyzH9n-w7_m",
      "execution_count": null,
      "outputs": [
        {
          "name": "stdout",
          "output_type": "stream",
          "text": [
            "Epoch 1/10\n",
            "3627/3627 [==============================] - 155s 42ms/step - loss: 0.6068 - accuracy: 0.7706 - val_loss: 0.5873 - val_accuracy: 0.7758\n",
            "Epoch 2/10\n",
            "3627/3627 [==============================] - 151s 42ms/step - loss: 0.5751 - accuracy: 0.7786 - val_loss: 0.5853 - val_accuracy: 0.7766\n",
            "Epoch 3/10\n",
            "3627/3627 [==============================] - 151s 42ms/step - loss: 0.5614 - accuracy: 0.7819 - val_loss: 0.5860 - val_accuracy: 0.7770\n",
            "Epoch 4/10\n",
            "3627/3627 [==============================] - 151s 42ms/step - loss: 0.5505 - accuracy: 0.7853 - val_loss: 0.5888 - val_accuracy: 0.7766\n",
            "Epoch 5/10\n",
            "3627/3627 [==============================] - 152s 42ms/step - loss: 0.5402 - accuracy: 0.7902 - val_loss: 0.5932 - val_accuracy: 0.7776\n",
            "Epoch 6/10\n",
            "3627/3627 [==============================] - 151s 42ms/step - loss: 0.5307 - accuracy: 0.7927 - val_loss: 0.6048 - val_accuracy: 0.7758\n",
            "Epoch 7/10\n",
            "3627/3627 [==============================] - 150s 41ms/step - loss: 0.5215 - accuracy: 0.7967 - val_loss: 0.5990 - val_accuracy: 0.7756\n",
            "Epoch 8/10\n",
            "3627/3627 [==============================] - 151s 42ms/step - loss: 0.5114 - accuracy: 0.7999 - val_loss: 0.6201 - val_accuracy: 0.7682\n",
            "Epoch 9/10\n",
            "3627/3627 [==============================] - 151s 42ms/step - loss: 0.5036 - accuracy: 0.8029 - val_loss: 0.6290 - val_accuracy: 0.7666\n",
            "Epoch 10/10\n",
            "3627/3627 [==============================] - 151s 42ms/step - loss: 0.4932 - accuracy: 0.8070 - val_loss: 0.6307 - val_accuracy: 0.7670\n"
          ]
        }
      ]
    },
    {
      "cell_type": "markdown",
      "metadata": {
        "id": "IHGqS8Maw7_m"
      },
      "source": [
        "Simpan model ke dalam `Model Without Oversampling (With Removing Stopwords).h5`.\n",
        "\n"
      ],
      "id": "IHGqS8Maw7_m"
    },
    {
      "cell_type": "code",
      "metadata": {
        "id": "v_uV6zJIw7_m"
      },
      "source": [
        "model_2.save('Model Without Oversampling (With Removing Stopwords).h5')"
      ],
      "id": "v_uV6zJIw7_m",
      "execution_count": null,
      "outputs": []
    },
    {
      "cell_type": "code",
      "metadata": {
        "colab": {
          "base_uri": "https://localhost:8080/",
          "height": 366
        },
        "id": "ucowBLeQ-gFW",
        "outputId": "bf8fb1b8-5e4f-4ccd-b8a5-97e3000ba231"
      },
      "source": [
        "plot_accuracy(history_2)"
      ],
      "id": "ucowBLeQ-gFW",
      "execution_count": null,
      "outputs": [
        {
          "data": {
            "image/png": "[encoded data removed]",
            "text/plain": [
              "<Figure size 1296x360 with 1 Axes>"
            ]
          },
          "metadata": {},
          "output_type": "display_data"
        }
      ]
    },
    {
      "cell_type": "code",
      "metadata": {
        "colab": {
          "base_uri": "https://localhost:8080/",
          "height": 366
        },
        "id": "oQZEcq-C-gFd",
        "outputId": "7f478fb4-110a-4814-ce9e-d4e45ba880ef"
      },
      "source": [
        "plot_loss(history_2)"
      ],
      "id": "oQZEcq-C-gFd",
      "execution_count": null,
      "outputs": [
        {
          "data": {
            "image/png": "[encoded data removed]",
            "text/plain": [
              "<Figure size 1296x360 with 1 Axes>"
            ]
          },
          "metadata": {},
          "output_type": "display_data"
        }
      ]
    },
    {
      "cell_type": "markdown",
      "metadata": {
        "id": "NAzN1UfQ-gFd"
      },
      "source": [
        "Melihat pada dua gambar di atas, terlihat bahwa model yang telah dibangun akan mengalami tingkat kenaikan *accuracy* pada *training data* dan mengalami penurunan *accuary* pada *testing/validation data*. Selain itu, untuk grafik *loss*, model mengalami penurunan *loss* pada *training data* dan kenaikan *loss* pada *testing/validation* data."
      ],
      "id": "NAzN1UfQ-gFd"
    },
    {
      "cell_type": "markdown",
      "metadata": {
        "id": "k2Wjtr2X-gFe"
      },
      "source": [
        "**Evaluate**"
      ],
      "id": "k2Wjtr2X-gFe"
    },
    {
      "cell_type": "code",
      "metadata": {
        "id": "IvgPH4Wa-gFe"
      },
      "source": [
        "y_pred_2 = model_2.predict(pad_test_2)"
      ],
      "id": "IvgPH4Wa-gFe",
      "execution_count": null,
      "outputs": []
    },
    {
      "cell_type": "code",
      "metadata": {
        "colab": {
          "base_uri": "https://localhost:8080/",
          "height": 301
        },
        "id": "9dH7OTmw-gFf",
        "outputId": "7b6db825-1330-4f58-8362-3f07446c06db"
      },
      "source": [
        "make_confusion_matrix(y_pred_2, y_test_2)"
      ],
      "id": "9dH7OTmw-gFf",
      "execution_count": null,
      "outputs": [
        {
          "data": {
            "image/png": "[encoded data removed]",
            "text/plain": [
              "<Figure size 432x288 with 2 Axes>"
            ]
          },
          "metadata": {},
          "output_type": "display_data"
        }
      ]
    },
    {
      "cell_type": "code",
      "metadata": {
        "colab": {
          "base_uri": "https://localhost:8080/"
        },
        "id": "jyY_HVd1-gFf",
        "outputId": "e40bc47c-3b0f-4e6f-bddb-3c2467ab2973"
      },
      "source": [
        "print('Accuracy Model :', accuracy_score(np.argmax(y_test_2, axis=1), np.argmax(y_pred_2, axis=1)))"
      ],
      "id": "jyY_HVd1-gFf",
      "execution_count": null,
      "outputs": [
        {
          "name": "stdout",
          "output_type": "stream",
          "text": [
            "Accuracy Model : 0.7670458462599103\n"
          ]
        }
      ]
    },
    {
      "cell_type": "markdown",
      "metadata": {
        "id": "Cs8HzsxT-gFf"
      },
      "source": [
        "Nilai *accuracy* pada model kedua sebesar 77,61%."
      ],
      "id": "Cs8HzsxT-gFf"
    },
    {
      "cell_type": "markdown",
      "metadata": {
        "id": "e561386e"
      },
      "source": [
        "### Model With Oversampling"
      ],
      "id": "e561386e"
    },
    {
      "cell_type": "code",
      "metadata": {
        "colab": {
          "base_uri": "https://localhost:8080/",
          "height": 142
        },
        "id": "24ae77f8",
        "outputId": "c3fe23ec-1b34-4b72-98ce-9abb10a1621e"
      },
      "source": [
        "df_over = df[['CompleteReview', 'Category']].copy()\n",
        "df_over.head(3)"
      ],
      "id": "24ae77f8",
      "execution_count": null,
      "outputs": [
        {
          "data": {
            "text/html": [
              "<div>\n",
              "<style scoped>\n",
              "    .dataframe tbody tr th:only-of-type {\n",
              "        vertical-align: middle;\n",
              "    }\n",
              "\n",
              "    .dataframe tbody tr th {\n",
              "        vertical-align: top;\n",
              "    }\n",
              "\n",
              "    .dataframe thead th {\n",
              "        text-align: right;\n",
              "    }\n",
              "</style>\n",
              "<table border=\"1\" class=\"dataframe\">\n",
              "  <thead>\n",
              "    <tr style=\"text-align: right;\">\n",
              "      <th></th>\n",
              "      <th>CompleteReview</th>\n",
              "      <th>Category</th>\n",
              "    </tr>\n",
              "  </thead>\n",
              "  <tbody>\n",
              "    <tr>\n",
              "      <th>0</th>\n",
              "      <td>Good company, cool workplace, work load little...</td>\n",
              "      <td>Neutral</td>\n",
              "    </tr>\n",
              "    <tr>\n",
              "      <th>1</th>\n",
              "      <td>1. Need to work on boss's whims and fancies 2....</td>\n",
              "      <td>Neutral</td>\n",
              "    </tr>\n",
              "    <tr>\n",
              "      <th>2</th>\n",
              "      <td>Good company for every Engineers dream, Full M...</td>\n",
              "      <td>Positive</td>\n",
              "    </tr>\n",
              "  </tbody>\n",
              "</table>\n",
              "</div>"
            ],
            "text/plain": [
              "                                      CompleteReview  Category\n",
              "0  Good company, cool workplace, work load little...   Neutral\n",
              "1  1. Need to work on boss's whims and fancies 2....   Neutral\n",
              "2  Good company for every Engineers dream, Full M...  Positive"
            ]
          },
          "execution_count": 93,
          "metadata": {},
          "output_type": "execute_result"
        }
      ]
    },
    {
      "cell_type": "code",
      "metadata": {
        "id": "48cc098d"
      },
      "source": [
        "review_over = df_over['CompleteReview']\n",
        "target_over = df_over['Category']"
      ],
      "id": "48cc098d",
      "execution_count": null,
      "outputs": []
    },
    {
      "cell_type": "code",
      "metadata": {
        "id": "ffe24d92"
      },
      "source": [
        "review_over_without_stopword = text_preprocessing(review_over)\n",
        "review_over_with_stopword = text_preprocessing_withstop(review_over)"
      ],
      "id": "ffe24d92",
      "execution_count": null,
      "outputs": []
    },
    {
      "cell_type": "markdown",
      "metadata": {
        "id": "73f2b91a"
      },
      "source": [
        "#### Model With Oversampling (Without Removing Stopword)"
      ],
      "id": "73f2b91a"
    },
    {
      "cell_type": "markdown",
      "metadata": {
        "id": "cb49de9e"
      },
      "source": [
        "Bangun model ketiga dengan melakukan proses *oversampling* dan tanpa menghapus *stopwords*."
      ],
      "id": "cb49de9e"
    },
    {
      "cell_type": "markdown",
      "metadata": {
        "id": "229c82ee"
      },
      "source": [
        "**Train Test Split**"
      ],
      "id": "229c82ee"
    },
    {
      "cell_type": "markdown",
      "metadata": {
        "id": "cd3d44c4"
      },
      "source": [
        "Sebelum membangun model, akan dibagi dataset kita ke dalam *train data* dan *test data* dengan proporsi *train data* sebanyak 80% dan *test data* sebanyak 20%."
      ],
      "id": "cd3d44c4"
    },
    {
      "cell_type": "code",
      "metadata": {
        "id": "f32e045a"
      },
      "source": [
        "X_train_3, X_test_3, y_train_3, y_test_3 = train_test_split(review_over_without_stopword, \n",
        "                                                            target_over, \n",
        "                                                            test_size=0.2, \n",
        "                                                            random_state=0)"
      ],
      "id": "f32e045a",
      "execution_count": null,
      "outputs": []
    },
    {
      "cell_type": "markdown",
      "metadata": {
        "id": "610f6b3e"
      },
      "source": [
        "Kita akan melakukan proses *oversampling* pada *training data*. Oleh karena itu, definisikan fungsi `oversampling` yang akan melakukan proses *oversampling* pada `X_train` dan `y_train`."
      ],
      "id": "610f6b3e"
    },
    {
      "cell_type": "code",
      "metadata": {
        "id": "57a4044d"
      },
      "source": [
        "def oversampling(X_train, y_train):\n",
        "    temp = pd.DataFrame()\n",
        "    temp['Review'] = X_train\n",
        "    temp['Category'] = y_train.reset_index()['Category']\n",
        "    temp['Class'] = temp['Category'].replace({'Negative':0, 'Neutral':1, 'Positive':2})\n",
        "    \n",
        "    ros = RandomOverSampler(random_state=0)\n",
        "    X_over, y_over = ros.fit_resample(temp[['Review']], temp['Class'])\n",
        "    \n",
        "    df_over_new = pd.concat([pd.DataFrame(X_over), pd.DataFrame(y_over)], axis=1)\n",
        "    frac = len(X_train)/(pd.DataFrame(y_over).value_counts()[0]*3)\n",
        "    df_over_new.columns = ['Review', 'Class']\n",
        "    df_over_new = df_over_new.sample(len(X_train), random_state=0).reset_index()\n",
        "    df_over_new['Category'] = df_over_new['Class'].replace({0:'Negative', 1:'Neutral', 2:'Positive'})\n",
        "\n",
        "    X_train_over = df_over_new['Review']\n",
        "    y_train_over = df_over_new['Category']\n",
        "    return X_train_over, y_train_over"
      ],
      "id": "57a4044d",
      "execution_count": null,
      "outputs": []
    },
    {
      "cell_type": "code",
      "metadata": {
        "id": "2a70607f"
      },
      "source": [
        "X_train_3, y_train_3 = oversampling(X_train_3, y_train_3)"
      ],
      "id": "2a70607f",
      "execution_count": null,
      "outputs": []
    },
    {
      "cell_type": "code",
      "metadata": {
        "id": "077d0279"
      },
      "source": [
        "ohe = OneHotEncoder(sparse=False, handle_unknown='ignore')\n",
        "y_train_3 = ohe.fit_transform(pd.DataFrame(y_train_3))\n",
        "y_test_3 = ohe.transform(pd.DataFrame(y_test_3))"
      ],
      "id": "077d0279",
      "execution_count": null,
      "outputs": []
    },
    {
      "cell_type": "code",
      "metadata": {
        "colab": {
          "base_uri": "https://localhost:8080/",
          "height": 204
        },
        "id": "c6e0c447",
        "outputId": "850352a3-7eda-4286-e94d-979695b16de7"
      },
      "source": [
        "list_over_without_stopword = combine_list(list(X_train_3) + list(X_test_3))\n",
        "count_dict_over_without_stopword = collections.Counter(list_over_without_stopword)\n",
        "count_freq_over_without_stopword = pd.DataFrame.from_dict(\n",
        "    count_dict_over_without_stopword, orient='index').reset_index().rename(\n",
        "    columns={'index':'Word', 0:'Frequency'}\n",
        ")\n",
        "count_freq_over_without_stopword.head()"
      ],
      "id": "c6e0c447",
      "execution_count": null,
      "outputs": [
        {
          "data": {
            "text/html": [
              "<div>\n",
              "<style scoped>\n",
              "    .dataframe tbody tr th:only-of-type {\n",
              "        vertical-align: middle;\n",
              "    }\n",
              "\n",
              "    .dataframe tbody tr th {\n",
              "        vertical-align: top;\n",
              "    }\n",
              "\n",
              "    .dataframe thead th {\n",
              "        text-align: right;\n",
              "    }\n",
              "</style>\n",
              "<table border=\"1\" class=\"dataframe\">\n",
              "  <thead>\n",
              "    <tr style=\"text-align: right;\">\n",
              "      <th></th>\n",
              "      <th>Word</th>\n",
              "      <th>Frequency</th>\n",
              "    </tr>\n",
              "  </thead>\n",
              "  <tbody>\n",
              "    <tr>\n",
              "      <th>0</th>\n",
              "      <td>best</td>\n",
              "      <td>13459</td>\n",
              "    </tr>\n",
              "    <tr>\n",
              "      <th>1</th>\n",
              "      <td>place</td>\n",
              "      <td>30171</td>\n",
              "    </tr>\n",
              "    <tr>\n",
              "      <th>2</th>\n",
              "      <td>to</td>\n",
              "      <td>186045</td>\n",
              "    </tr>\n",
              "    <tr>\n",
              "      <th>3</th>\n",
              "      <td>work</td>\n",
              "      <td>174115</td>\n",
              "    </tr>\n",
              "    <tr>\n",
              "      <th>4</th>\n",
              "      <td>as</td>\n",
              "      <td>36837</td>\n",
              "    </tr>\n",
              "  </tbody>\n",
              "</table>\n",
              "</div>"
            ],
            "text/plain": [
              "    Word  Frequency\n",
              "0   best      13459\n",
              "1  place      30171\n",
              "2     to     186045\n",
              "3   work     174115\n",
              "4     as      36837"
            ]
          },
          "execution_count": 155,
          "metadata": {},
          "output_type": "execute_result"
        }
      ]
    },
    {
      "cell_type": "code",
      "metadata": {
        "colab": {
          "base_uri": "https://localhost:8080/",
          "height": 357
        },
        "id": "c7e67e14",
        "outputId": "96cb04a2-1a60-4b5e-877a-1a9ebc7db4f3"
      },
      "source": [
        "plt.figure(figsize=(16,5))\n",
        "top_15_word_3 = count_freq_over_without_stopword.sort_values(by='Frequency', ascending=False).head(15)\n",
        "sns.barplot(y=top_15_word_3['Word'],\n",
        "            x=top_15_word_3['Frequency'],\n",
        "            color=\"b\")\n",
        "plt.xlabel('Frequency', fontsize=12)\n",
        "plt.title('Top 15 Common Words in Review With Oversampling (Without Removing Stopword)', fontsize=15)\n",
        "plt.show()"
      ],
      "id": "c7e67e14",
      "execution_count": null,
      "outputs": [
        {
          "data": {
            "image/png": "[encoded data removed]",
            "text/plain": [
              "<Figure size 1152x360 with 1 Axes>"
            ]
          },
          "metadata": {},
          "output_type": "display_data"
        }
      ]
    },
    {
      "cell_type": "markdown",
      "metadata": {
        "id": "bcc54465"
      },
      "source": [
        "Berdasarkan gambar di atas, terlihat bahwa kata *and* dan *to* adalah dua kata dengan jumlah frekuensi terbanyak. Selanjutnya, kita akan melihat jumlah kata yang memiliki frekuensi kemunculan lebih dari 10."
      ],
      "id": "bcc54465"
    },
    {
      "cell_type": "code",
      "metadata": {
        "colab": {
          "base_uri": "https://localhost:8080/"
        },
        "id": "41e5988c",
        "outputId": "79e32a11-dae8-431e-975d-8ad9d6b6059b"
      },
      "source": [
        "number_words_3 = len(count_freq_over_without_stopword[count_freq_over_without_stopword['Frequency']>10])\n",
        "print('Jumlah kata dengan frekuensi kemunculan lebih dari 10 :', number_words_3)"
      ],
      "id": "41e5988c",
      "execution_count": null,
      "outputs": [
        {
          "name": "stdout",
          "output_type": "stream",
          "text": [
            "Jumlah kata dengan frekuensi kemunculan lebih dari 10 : 6169\n"
          ]
        }
      ]
    },
    {
      "cell_type": "markdown",
      "metadata": {
        "id": "879147bd"
      },
      "source": [
        "Terdapat 6169 kata dengan jumlah frekuensi kemunculan lebih dari 10. Oleh karena itu, akan kita berikan nilai paramete `num_words` sebesar 6169."
      ],
      "id": "879147bd"
    },
    {
      "cell_type": "markdown",
      "metadata": {
        "id": "30e7f175"
      },
      "source": [
        "**Tokenizer**"
      ],
      "id": "30e7f175"
    },
    {
      "cell_type": "code",
      "metadata": {
        "id": "013773ff"
      },
      "source": [
        "tokenizer_3 = Tokenizer(num_words=number_words_3, oov_token='-')\n",
        "tokenizer_3.fit_on_texts(X_train_3)\n",
        "\n",
        "sequence_train_3 = tokenizer_3.texts_to_sequences(X_train_3)\n",
        "sequence_test_3 = tokenizer_3.texts_to_sequences(X_test_3)\n",
        "\n",
        "pad_train_3 = pad_sequences(sequence_train_3)\n",
        "pad_test_3 = pad_sequences(sequence_test_3)"
      ],
      "id": "013773ff",
      "execution_count": null,
      "outputs": []
    },
    {
      "cell_type": "markdown",
      "metadata": {
        "id": "0565fd68"
      },
      "source": [
        "**Create Sequential Model**"
      ],
      "id": "0565fd68"
    },
    {
      "cell_type": "code",
      "metadata": {
        "id": "3c2c0289"
      },
      "source": [
        "model_3 = tf.keras.models.Sequential([\n",
        "    tf.keras.layers.Embedding(input_dim=number_words_3, output_dim=64),\n",
        "    tf.keras.layers.Dropout(0.4),\n",
        "    tf.keras.layers.LSTM(64),\n",
        "    tf.keras.layers.Dropout(0.3),\n",
        "    tf.keras.layers.Dense(64, activation='relu'),\n",
        "    tf.keras.layers.Dropout(0.2),\n",
        "    tf.keras.layers.Dense(64, activation='relu'),\n",
        "    tf.keras.layers.Dense(3, activation='softmax')\n",
        "])"
      ],
      "id": "3c2c0289",
      "execution_count": null,
      "outputs": []
    },
    {
      "cell_type": "code",
      "metadata": {
        "colab": {
          "base_uri": "https://localhost:8080/"
        },
        "id": "858e8c0a",
        "outputId": "57a5d89f-5634-467b-a743-04ee40d2534e"
      },
      "source": [
        "model_3.summary()"
      ],
      "id": "858e8c0a",
      "execution_count": null,
      "outputs": [
        {
          "name": "stdout",
          "output_type": "stream",
          "text": [
            "Model: \"sequential_3\"\n",
            "_________________________________________________________________\n",
            "Layer (type)                 Output Shape              Param #   \n",
            "=================================================================\n",
            "embedding_3 (Embedding)      (None, None, 64)          394816    \n",
            "_________________________________________________________________\n",
            "dropout_9 (Dropout)          (None, None, 64)          0         \n",
            "_________________________________________________________________\n",
            "lstm_3 (LSTM)                (None, 64)                33024     \n",
            "_________________________________________________________________\n",
            "dropout_10 (Dropout)         (None, 64)                0         \n",
            "_________________________________________________________________\n",
            "dense_9 (Dense)              (None, 64)                4160      \n",
            "_________________________________________________________________\n",
            "dropout_11 (Dropout)         (None, 64)                0         \n",
            "_________________________________________________________________\n",
            "dense_10 (Dense)             (None, 64)                4160      \n",
            "_________________________________________________________________\n",
            "dense_11 (Dense)             (None, 3)                 195       \n",
            "=================================================================\n",
            "Total params: 436,355\n",
            "Trainable params: 436,355\n",
            "Non-trainable params: 0\n",
            "_________________________________________________________________\n"
          ]
        }
      ]
    },
    {
      "cell_type": "markdown",
      "metadata": {
        "id": "4534ce30"
      },
      "source": [
        "Pada proses `.compile()`, digunakan optimizer berupa `Adam`, dengan *loss function* berupa `categorical_crossentropy` dikarenakan kelas yang kita miliki lebih dari dua, dan penggunaaan *metrics* berupa *accuracy* untuk melihat seberapa baik model kita melakukan klasifikasi pada teks."
      ],
      "id": "4534ce30"
    },
    {
      "cell_type": "code",
      "metadata": {
        "id": "5f30ad2f"
      },
      "source": [
        "model_3.compile(\n",
        "    optimizer='Adam',\n",
        "    loss = 'categorical_crossentropy',\n",
        "    metrics = ['accuracy']\n",
        ")"
      ],
      "id": "5f30ad2f",
      "execution_count": null,
      "outputs": []
    },
    {
      "cell_type": "markdown",
      "metadata": {
        "id": "a403bc4c"
      },
      "source": [
        "Lakukan `.fit()` untuk melakukan proses training pada model. Definisikan parameter epochs sebanyak 10 dan batch_size sebesar 32."
      ],
      "id": "a403bc4c"
    },
    {
      "cell_type": "code",
      "metadata": {
        "colab": {
          "background_save": true,
          "base_uri": "https://localhost:8080/"
        },
        "id": "4f0464ef",
        "outputId": "071903ec-6ec4-4978-ddac-cac020d923db"
      },
      "source": [
        "history_3 = model_3.fit(\n",
        "    pad_train_3,\n",
        "    y_train_3,\n",
        "    epochs = 10,\n",
        "    batch_size = 32,\n",
        "    validation_data = (pad_test_3, y_test_3),\n",
        "    verbose = 1\n",
        ")"
      ],
      "id": "4f0464ef",
      "execution_count": null,
      "outputs": [
        {
          "name": "stdout",
          "output_type": "stream",
          "text": [
            "Epoch 1/10\n",
            "3627/3627 [==============================] - 273s 75ms/step - loss: 0.8747 - accuracy: 0.5775 - val_loss: 0.7762 - val_accuracy: 0.6725\n",
            "Epoch 2/10\n",
            "3627/3627 [==============================] - 270s 74ms/step - loss: 0.7473 - accuracy: 0.6576 - val_loss: 0.8781 - val_accuracy: 0.5785\n",
            "Epoch 3/10\n",
            "3627/3627 [==============================] - 269s 74ms/step - loss: 0.6808 - accuracy: 0.6918 - val_loss: 0.8496 - val_accuracy: 0.6028\n",
            "Epoch 4/10\n",
            "3627/3627 [==============================] - 273s 75ms/step - loss: 0.6268 - accuracy: 0.7175 - val_loss: 0.8906 - val_accuracy: 0.6019\n",
            "Epoch 5/10\n",
            "3627/3627 [==============================] - 274s 75ms/step - loss: 0.5827 - accuracy: 0.7395 - val_loss: 0.8925 - val_accuracy: 0.6220\n",
            "Epoch 6/10\n",
            "3627/3627 [==============================] - 273s 75ms/step - loss: 0.5488 - accuracy: 0.7542 - val_loss: 0.9616 - val_accuracy: 0.5653\n",
            "Epoch 7/10\n",
            "3627/3627 [==============================] - 271s 75ms/step - loss: 0.5206 - accuracy: 0.7675 - val_loss: 0.9347 - val_accuracy: 0.6175\n",
            "Epoch 8/10\n",
            "3627/3627 [==============================] - 275s 76ms/step - loss: 0.4983 - accuracy: 0.7780 - val_loss: 0.9552 - val_accuracy: 0.6163\n",
            "Epoch 9/10\n",
            "3627/3627 [==============================] - 275s 76ms/step - loss: 0.4764 - accuracy: 0.7894 - val_loss: 0.9597 - val_accuracy: 0.6173\n",
            "Epoch 10/10\n",
            "3627/3627 [==============================] - 275s 76ms/step - loss: 0.4612 - accuracy: 0.7944 - val_loss: 0.9289 - val_accuracy: 0.6190\n"
          ]
        }
      ]
    },
    {
      "cell_type": "markdown",
      "metadata": {
        "id": "67a9c90d"
      },
      "source": [
        "Simpan model ke dalam `Model With Oversampling (Without Stopwords).h5`."
      ],
      "id": "67a9c90d"
    },
    {
      "cell_type": "code",
      "metadata": {
        "colab": {
          "background_save": true
        },
        "id": "1e1642d3"
      },
      "source": [
        "model_3.save('Model With Oversampling (Without Removing Stopwords).h5')"
      ],
      "id": "1e1642d3",
      "execution_count": null,
      "outputs": []
    },
    {
      "cell_type": "code",
      "metadata": {
        "colab": {
          "background_save": true,
          "base_uri": "https://localhost:8080/"
        },
        "id": "a4552162",
        "outputId": "715c47a7-6bbc-48b6-8f2a-1bc64a03bcdc"
      },
      "source": [
        "plot_accuracy(history_3)"
      ],
      "id": "a4552162",
      "execution_count": null,
      "outputs": [
        {
          "data": {
            "image/png": "[encoded data removed]",
            "text/plain": [
              "<Figure size 1296x360 with 1 Axes>"
            ]
          },
          "metadata": {},
          "output_type": "display_data"
        }
      ]
    },
    {
      "cell_type": "code",
      "metadata": {
        "colab": {
          "background_save": true,
          "base_uri": "https://localhost:8080/"
        },
        "id": "12b40f51",
        "outputId": "9f410fbc-1f0b-445d-968d-ef3c738550c0"
      },
      "source": [
        "plot_loss(history_3)"
      ],
      "id": "12b40f51",
      "execution_count": null,
      "outputs": [
        {
          "data": {
            "image/png": "[encoded data removed]",
            "text/plain": [
              "<Figure size 1296x360 with 1 Axes>"
            ]
          },
          "metadata": {},
          "output_type": "display_data"
        }
      ]
    },
    {
      "cell_type": "markdown",
      "metadata": {
        "id": "7d398cc3"
      },
      "source": [
        "**Evaluate**"
      ],
      "id": "7d398cc3"
    },
    {
      "cell_type": "code",
      "metadata": {
        "colab": {
          "background_save": true
        },
        "id": "25727cfe"
      },
      "source": [
        "y_pred_3 = model_3.predict(pad_test_3)"
      ],
      "id": "25727cfe",
      "execution_count": null,
      "outputs": []
    },
    {
      "cell_type": "code",
      "metadata": {
        "colab": {
          "background_save": true
        },
        "id": "fdb1ac30",
        "outputId": "222b44ee-fc71-4691-8f7a-ec375dd94e66"
      },
      "source": [
        "make_confusion_matrix(y_pred_3, y_test_3)"
      ],
      "id": "fdb1ac30",
      "execution_count": null,
      "outputs": [
        {
          "data": {
            "image/png": "[encoded data removed]",
            "text/plain": [
              "<Figure size 432x288 with 2 Axes>"
            ]
          },
          "metadata": {},
          "output_type": "display_data"
        }
      ]
    },
    {
      "cell_type": "code",
      "metadata": {
        "colab": {
          "background_save": true
        },
        "id": "c7d9b792",
        "outputId": "8b5b53c0-a7fc-45f4-eb51-00f006ef54c2"
      },
      "source": [
        "print('Accuracy Model :', accuracy_score(np.argmax(y_test_3, axis=1), np.argmax(y_pred_3, axis=1)))"
      ],
      "id": "c7d9b792",
      "execution_count": null,
      "outputs": [
        {
          "name": "stdout",
          "output_type": "stream",
          "text": [
            "Accuracy Model : 0.6190279214064116\n"
          ]
        }
      ]
    },
    {
      "cell_type": "markdown",
      "metadata": {
        "id": "921ea1ab"
      },
      "source": [
        "#### Model With Oversampling (With Removing Stopword)"
      ],
      "id": "921ea1ab"
    },
    {
      "cell_type": "markdown",
      "metadata": {
        "id": "87a4bf1a"
      },
      "source": [
        "Bangun model keempat dengan melakukan proses *oversampling* dan dengan menghapus *stopwords*."
      ],
      "id": "87a4bf1a"
    },
    {
      "cell_type": "markdown",
      "metadata": {
        "id": "b5e1bbe9"
      },
      "source": [
        "**Train Test Split**"
      ],
      "id": "b5e1bbe9"
    },
    {
      "cell_type": "markdown",
      "metadata": {
        "id": "dd73151a"
      },
      "source": [
        "Sebelum membangun model, akan dibagi dataset kita ke dalam *train data* dan *test data* dengan proporsi *train data* sebanyak 80% dan *test data* sebanyak 20%."
      ],
      "id": "dd73151a"
    },
    {
      "cell_type": "code",
      "metadata": {
        "colab": {
          "background_save": true
        },
        "id": "4afcd21d"
      },
      "source": [
        "X_train_4, X_test_4, y_train_4, y_test_4 = train_test_split(review_over_with_stopword, \n",
        "                                                            target_over, \n",
        "                                                            test_size=0.2, \n",
        "                                                            random_state=0)"
      ],
      "id": "4afcd21d",
      "execution_count": null,
      "outputs": []
    },
    {
      "cell_type": "code",
      "metadata": {
        "colab": {
          "background_save": true
        },
        "id": "ea78a2b9"
      },
      "source": [
        "X_train_4, y_train_4 = oversampling(X_train_4, y_train_4)"
      ],
      "id": "ea78a2b9",
      "execution_count": null,
      "outputs": []
    },
    {
      "cell_type": "code",
      "metadata": {
        "colab": {
          "background_save": true
        },
        "id": "22549b3b"
      },
      "source": [
        "ohe = OneHotEncoder(sparse=False, handle_unknown='ignore')\n",
        "y_train_4 = ohe.fit_transform(pd.DataFrame(y_train_4))\n",
        "y_test_4 = ohe.transform(pd.DataFrame(y_test_4))"
      ],
      "id": "22549b3b",
      "execution_count": null,
      "outputs": []
    },
    {
      "cell_type": "code",
      "metadata": {
        "colab": {
          "background_save": true
        },
        "id": "884e8a06",
        "outputId": "1697b765-c98e-4b77-dd96-d0321c88597a"
      },
      "source": [
        "list_over_with_stopword = combine_list(list(X_train_4) + list(X_test_4))\n",
        "count_dict_over_with_stopword = collections.Counter(list_over_with_stopword)\n",
        "count_freq_over_with_stopword = pd.DataFrame.from_dict(\n",
        "    count_dict_over_with_stopword, orient='index').reset_index().rename(\n",
        "    columns={'index':'Word', 0:'Frequency'}\n",
        ")\n",
        "count_freq_over_with_stopword.head()"
      ],
      "id": "884e8a06",
      "execution_count": null,
      "outputs": [
        {
          "data": {
            "text/html": [
              "<div>\n",
              "<style scoped>\n",
              "    .dataframe tbody tr th:only-of-type {\n",
              "        vertical-align: middle;\n",
              "    }\n",
              "\n",
              "    .dataframe tbody tr th {\n",
              "        vertical-align: top;\n",
              "    }\n",
              "\n",
              "    .dataframe thead th {\n",
              "        text-align: right;\n",
              "    }\n",
              "</style>\n",
              "<table border=\"1\" class=\"dataframe\">\n",
              "  <thead>\n",
              "    <tr style=\"text-align: right;\">\n",
              "      <th></th>\n",
              "      <th>Word</th>\n",
              "      <th>Frequency</th>\n",
              "    </tr>\n",
              "  </thead>\n",
              "  <tbody>\n",
              "    <tr>\n",
              "      <th>0</th>\n",
              "      <td>best</td>\n",
              "      <td>13459</td>\n",
              "    </tr>\n",
              "    <tr>\n",
              "      <th>1</th>\n",
              "      <td>place</td>\n",
              "      <td>30171</td>\n",
              "    </tr>\n",
              "    <tr>\n",
              "      <th>2</th>\n",
              "      <td>work</td>\n",
              "      <td>174115</td>\n",
              "    </tr>\n",
              "    <tr>\n",
              "      <th>3</th>\n",
              "      <td>profession</td>\n",
              "      <td>6687</td>\n",
              "    </tr>\n",
              "    <tr>\n",
              "      <th>4</th>\n",
              "      <td>environ</td>\n",
              "      <td>19134</td>\n",
              "    </tr>\n",
              "  </tbody>\n",
              "</table>\n",
              "</div>"
            ],
            "text/plain": [
              "         Word  Frequency\n",
              "0        best      13459\n",
              "1       place      30171\n",
              "2        work     174115\n",
              "3  profession       6687\n",
              "4     environ      19134"
            ]
          },
          "execution_count": null,
          "metadata": {},
          "output_type": "execute_result"
        }
      ]
    },
    {
      "cell_type": "code",
      "metadata": {
        "colab": {
          "background_save": true
        },
        "id": "e3ff6491",
        "outputId": "dced0465-ef53-42bd-a1a9-590a84bfcd6b"
      },
      "source": [
        "plt.figure(figsize=(16,5))\n",
        "top_15_word_4 = count_freq_over_with_stopword.sort_values(by='Frequency', ascending=False).head(15)\n",
        "sns.barplot(y=top_15_word_4['Word'],\n",
        "            x=top_15_word_4['Frequency'],\n",
        "            color=\"b\")\n",
        "plt.xlabel('Frequency', fontsize=12)\n",
        "plt.title('Top 15 Common Words in Review With Oversampling (With Removing Stopword)', fontsize=15)\n",
        "plt.show()"
      ],
      "id": "e3ff6491",
      "execution_count": null,
      "outputs": [
        {
          "data": {
            "image/png": "[encoded data removed]",
            "text/plain": [
              "<Figure size 1152x360 with 1 Axes>"
            ]
          },
          "metadata": {},
          "output_type": "display_data"
        }
      ]
    },
    {
      "cell_type": "markdown",
      "metadata": {
        "id": "211640b2"
      },
      "source": [
        "Berdasarkan gambar di atas, terlihat bahwa kata *work* dan *good* adalah dua kata dengan jumlah frekuensi terbanyak. Selanjutnya, kita akan melihat jumlah kata yang memiliki frekuensi kemunculan lebih dari 10."
      ],
      "id": "211640b2"
    },
    {
      "cell_type": "code",
      "metadata": {
        "colab": {
          "background_save": true
        },
        "id": "6a21178c",
        "outputId": "b4c70074-a09a-4648-fe13-5eeb7fc22c85"
      },
      "source": [
        "number_words_4 = len(count_freq_over_with_stopword[count_freq_over_with_stopword['Frequency']>10])\n",
        "print('Jumlah kata dengan frekuensi kemunculan lebih dari 10 :', number_words_4)"
      ],
      "id": "6a21178c",
      "execution_count": null,
      "outputs": [
        {
          "name": "stdout",
          "output_type": "stream",
          "text": [
            "Jumlah kata dengan frekuensi kemunculan lebih dari 10 : 6058\n"
          ]
        }
      ]
    },
    {
      "cell_type": "markdown",
      "metadata": {
        "id": "06381f84"
      },
      "source": [
        "Terdapat 6169 kata dengan jumlah frekuensi kemunculan lebih dari 10. Oleh karena itu, akan kita berikan nilai paramete `num_words` sebesar 6169."
      ],
      "id": "06381f84"
    },
    {
      "cell_type": "markdown",
      "metadata": {
        "id": "82364138"
      },
      "source": [
        "**Tokenizer**"
      ],
      "id": "82364138"
    },
    {
      "cell_type": "code",
      "metadata": {
        "colab": {
          "background_save": true
        },
        "id": "727c1d86"
      },
      "source": [
        "tokenizer_4 = Tokenizer(num_words=number_words_4, oov_token='-')\n",
        "tokenizer_4.fit_on_texts(X_train_4)\n",
        "\n",
        "sequence_train_4 = tokenizer_4.texts_to_sequences(X_train_4)\n",
        "sequence_test_4 = tokenizer_4.texts_to_sequences(X_test_4)\n",
        "\n",
        "pad_train_4 = pad_sequences(sequence_train_4)\n",
        "pad_test_4 = pad_sequences(sequence_test_4)"
      ],
      "id": "727c1d86",
      "execution_count": null,
      "outputs": []
    },
    {
      "cell_type": "markdown",
      "metadata": {
        "id": "d703e16e"
      },
      "source": [
        "**Create Sequential Model**"
      ],
      "id": "d703e16e"
    },
    {
      "cell_type": "code",
      "metadata": {
        "colab": {
          "background_save": true
        },
        "id": "c437ba1b"
      },
      "source": [
        "model_4 = tf.keras.models.Sequential([\n",
        "    tf.keras.layers.Embedding(input_dim=number_words_4, output_dim=64),\n",
        "    tf.keras.layers.Dropout(0.4),\n",
        "    tf.keras.layers.LSTM(64),\n",
        "    tf.keras.layers.Dropout(0.3),\n",
        "    tf.keras.layers.Dense(64, activation='relu'),\n",
        "    tf.keras.layers.Dropout(0.2),\n",
        "    tf.keras.layers.Dense(64, activation='relu'),\n",
        "    tf.keras.layers.Dense(3, activation='softmax')\n",
        "])"
      ],
      "id": "c437ba1b",
      "execution_count": null,
      "outputs": []
    },
    {
      "cell_type": "code",
      "metadata": {
        "colab": {
          "background_save": true
        },
        "id": "e448f7a0",
        "outputId": "3bda8c1e-7792-4c42-d981-5a7650485207"
      },
      "source": [
        "model_4.summary()"
      ],
      "id": "e448f7a0",
      "execution_count": null,
      "outputs": [
        {
          "name": "stdout",
          "output_type": "stream",
          "text": [
            "Model: \"sequential_4\"\n",
            "_________________________________________________________________\n",
            "Layer (type)                 Output Shape              Param #   \n",
            "=================================================================\n",
            "embedding_4 (Embedding)      (None, None, 64)          387712    \n",
            "_________________________________________________________________\n",
            "dropout_12 (Dropout)         (None, None, 64)          0         \n",
            "_________________________________________________________________\n",
            "lstm_4 (LSTM)                (None, 64)                33024     \n",
            "_________________________________________________________________\n",
            "dropout_13 (Dropout)         (None, 64)                0         \n",
            "_________________________________________________________________\n",
            "dense_12 (Dense)             (None, 64)                4160      \n",
            "_________________________________________________________________\n",
            "dropout_14 (Dropout)         (None, 64)                0         \n",
            "_________________________________________________________________\n",
            "dense_13 (Dense)             (None, 64)                4160      \n",
            "_________________________________________________________________\n",
            "dense_14 (Dense)             (None, 3)                 195       \n",
            "=================================================================\n",
            "Total params: 429,251\n",
            "Trainable params: 429,251\n",
            "Non-trainable params: 0\n",
            "_________________________________________________________________\n"
          ]
        }
      ]
    },
    {
      "cell_type": "markdown",
      "metadata": {
        "id": "f8bdb4a9"
      },
      "source": [
        "Pada proses `.compile()`, digunakan optimizer berupa `Adam`, dengan *loss function* berupa `categorical_crossentropy` dikarenakan kelas yang kita miliki lebih dari dua, dan penggunaaan *metrics* berupa *accuracy* untuk melihat seberapa baik model kita melakukan klasifikasi pada teks."
      ],
      "id": "f8bdb4a9"
    },
    {
      "cell_type": "code",
      "metadata": {
        "colab": {
          "background_save": true
        },
        "id": "7032e74a"
      },
      "source": [
        "model_4.compile(\n",
        "    optimizer='Adam',\n",
        "    loss = 'categorical_crossentropy',\n",
        "    metrics = ['accuracy']\n",
        ")"
      ],
      "id": "7032e74a",
      "execution_count": null,
      "outputs": []
    },
    {
      "cell_type": "markdown",
      "metadata": {
        "id": "5f093f6a"
      },
      "source": [
        "Lakukan `.fit()` untuk melakukan proses training pada model. Definisikan parameter epochs sebanyak 10 dan batch_size sebesar 32."
      ],
      "id": "5f093f6a"
    },
    {
      "cell_type": "code",
      "metadata": {
        "id": "7e1314cf",
        "outputId": "5bec0dc2-0faf-4b82-d3e2-0004382e3297",
        "colab": {
          "base_uri": "https://localhost:8080/"
        }
      },
      "source": [
        "history_4 = model_4.fit(\n",
        "    pad_train_4,\n",
        "    y_train_4,\n",
        "    epochs = 10,\n",
        "    batch_size = 32,\n",
        "    validation_data = (pad_test_4, y_test_4),\n",
        "    verbose = 1\n",
        ")"
      ],
      "id": "7e1314cf",
      "execution_count": null,
      "outputs": [
        {
          "metadata": {
            "tags": null
          },
          "name": "stdout",
          "output_type": "stream",
          "text": [
            "Epoch 1/10\n",
            "3627/3627 [==============================] - 158s 43ms/step - loss: 0.8871 - accuracy: 0.5706 - val_loss: 0.9309 - val_accuracy: 0.5442\n",
            "Epoch 2/10\n",
            " 733/3627 [=====>........................] - ETA: 1:54 - loss: 0.7770 - accuracy: 0.6391"
          ]
        }
      ]
    },
    {
      "cell_type": "markdown",
      "metadata": {
        "id": "50d7ef3b"
      },
      "source": [
        "Simpan model ke dalam `Model With Oversampling (With Removing Stopwords).h5`."
      ],
      "id": "50d7ef3b"
    },
    {
      "cell_type": "code",
      "metadata": {
        "id": "dd7f68d3"
      },
      "source": [
        "model_4.save('Model With Oversampling (With Removing Stopwords).h5')"
      ],
      "id": "dd7f68d3",
      "execution_count": null,
      "outputs": []
    },
    {
      "cell_type": "code",
      "metadata": {
        "id": "8e3e6d08"
      },
      "source": [
        "plot_accuracy(history_4)"
      ],
      "id": "8e3e6d08",
      "execution_count": null,
      "outputs": []
    },
    {
      "cell_type": "code",
      "metadata": {
        "id": "d207dbef"
      },
      "source": [
        "plot_loss(history_4)"
      ],
      "id": "d207dbef",
      "execution_count": null,
      "outputs": []
    },
    {
      "cell_type": "markdown",
      "metadata": {
        "id": "51337d32"
      },
      "source": [
        "**Evaluate**"
      ],
      "id": "51337d32"
    },
    {
      "cell_type": "code",
      "metadata": {
        "id": "73451f75"
      },
      "source": [
        "y_pred_4 = model_4.predict(pad_test_4)"
      ],
      "id": "73451f75",
      "execution_count": null,
      "outputs": []
    },
    {
      "cell_type": "code",
      "metadata": {
        "id": "812b1b00"
      },
      "source": [
        "make_confusion_matrix(y_pred_4, y_test_4)"
      ],
      "id": "812b1b00",
      "execution_count": null,
      "outputs": []
    },
    {
      "cell_type": "code",
      "metadata": {
        "id": "582d631e"
      },
      "source": [
        "print('Accuracy Model :', accuracy_score(np.argmax(y_test_4, axis=1), np.argmax(y_pred_4, axis=1)))"
      ],
      "id": "582d631e",
      "execution_count": null,
      "outputs": []
    },
    {
      "cell_type": "markdown",
      "metadata": {
        "id": "63aa19fc"
      },
      "source": [
        "## Comparing Model"
      ],
      "id": "63aa19fc"
    },
    {
      "cell_type": "code",
      "metadata": {
        "id": "583914ab"
      },
      "source": [
        "names = [\n",
        "    'Model Without Oversampling (Without Removing Stopwords)', \n",
        "    'Model Without Oversampling (With Removing Stopwords)',\n",
        "    'Model With Oversampling (Without Removing Stopwords)',\n",
        "    'Model With Oversampling (With Removing Stopwords)'\n",
        "]\n",
        "acc_score = [\n",
        "    accuracy_score(np.argmax(y_test_1, axis=1), np.argmax(y_pred_1, axis=1)),\n",
        "    accuracy_score(np.argmax(y_test_2, axis=1), np.argmax(y_pred_2, axis=1)),\n",
        "    accuracy_score(np.argmax(y_test_3, axis=1), np.argmax(y_pred_3, axis=1)),\n",
        "    accuracy_score(np.argmax(y_test_4, axis=1), np.argmax(y_pred_4, axis=1)),\n",
        "]"
      ],
      "id": "583914ab",
      "execution_count": null,
      "outputs": []
    },
    {
      "cell_type": "code",
      "metadata": {
        "id": "e8e81789"
      },
      "source": [
        "compare = pd.DataFrame()\n",
        "compare['Model'] = names\n",
        "compare['Accuracy Score'] = acc_score\n",
        "compare"
      ],
      "id": "e8e81789",
      "execution_count": null,
      "outputs": []
    },
    {
      "cell_type": "markdown",
      "metadata": {
        "id": "850ae8d1"
      },
      "source": [
        "## Predict Text"
      ],
      "id": "850ae8d1"
    },
    {
      "cell_type": "markdown",
      "metadata": {
        "id": "a0c451f6"
      },
      "source": [
        "Setelah membangun dua buah model yang akan digunakan untuk melakukan klasifikasi pada *review* yang diberikan pegawai terhadap perusahaannya. Kita melihat bahwa pada model pertama mempunyai nilai *accuracy* sebesar 77,61% dan 78,60% untuk model kedua. Oleh karena itu, kita akan menggunakan model kedua untuk melakukan klasifikasi pada *review* selanjutnya."
      ],
      "id": "a0c451f6"
    },
    {
      "cell_type": "markdown",
      "metadata": {
        "id": "AFAnreVmVkPX"
      },
      "source": [
        "**Create Function To Predict Text**"
      ],
      "id": "AFAnreVmVkPX"
    },
    {
      "cell_type": "markdown",
      "metadata": {
        "id": "fd5d0764"
      },
      "source": [
        "Definisikan fungsi `predict_text` untuk melakukan prediksi pada *review* yang diberikan pegawai."
      ],
      "id": "fd5d0764"
    },
    {
      "cell_type": "code",
      "metadata": {
        "id": "tdWwBnHUVnXt"
      },
      "source": [
        "def predict_text(sentence, model):\n",
        "    sentence = text_preprocessing(sentence)\n",
        "    seq = tokenizer_over.texts_to_sequences(sentence)\n",
        "    pad = pad_sequences(seq)\n",
        "    pred = model_over.predict(pad)\n",
        "    class_pred = np.argmax(pred, axis=1)\n",
        "    labels = []\n",
        "    for i in range(len(class_pred)):\n",
        "        if class_pred[i] == 0:\n",
        "            labels.append('Negative')\n",
        "        elif class_pred[i] == 1:\n",
        "            labels.append('Neutral')\n",
        "        else:\n",
        "            labels.append('Positive')\n",
        "    return labels "
      ],
      "id": "tdWwBnHUVnXt",
      "execution_count": null,
      "outputs": []
    },
    {
      "cell_type": "markdown",
      "metadata": {
        "id": "c40da0fe"
      },
      "source": [
        "Berikan 3 buah *review* baru untuk melihat bagaimana model yang telah dibangun dapat melakukan klasifikasi pada *review* tersebut."
      ],
      "id": "c40da0fe"
    },
    {
      "cell_type": "code",
      "metadata": {
        "id": "viwNlFxITWrF"
      },
      "source": [
        "data = pd.DataFrame([{'Review': \n",
        "                      '''\n",
        "                      Excellent work-life balance with top-notch benefits. \n",
        "                      The management team really seems to care about their employees. \n",
        "                      You may have to work late/from home sometimes when the company needs you to, \n",
        "                      but that is balanced with the ability to work from home when you need to; its a fair trade\n",
        "                      '''}, \n",
        "                     {'Review': \n",
        "                      '''\n",
        "                      No work life balance whatsoever for sales Division in head office. \n",
        "                      Everything have tight deadline and must be fulfilled. \n",
        "                      Multi tasking here is urgently required\n",
        "                      '''}, \n",
        "                     {'Review': \n",
        "                      '''\n",
        "                      Work life balance is not good in some departments. \n",
        "                      Career development is not as transparent.\n",
        "                      But good starting salary compared to other companies in Surabaya and the benefits is good as well.\n",
        "                      '''}])"
      ],
      "id": "viwNlFxITWrF",
      "execution_count": null,
      "outputs": []
    },
    {
      "cell_type": "code",
      "metadata": {
        "id": "iPmQWOi6YNiG"
      },
      "source": [
        "# label = predict_text(data['Review'], model_over)"
      ],
      "id": "iPmQWOi6YNiG",
      "execution_count": null,
      "outputs": []
    },
    {
      "cell_type": "code",
      "metadata": {
        "id": "muk9NufoVeJo"
      },
      "source": [
        "# data['Category'] = label"
      ],
      "id": "muk9NufoVeJo",
      "execution_count": null,
      "outputs": []
    },
    {
      "cell_type": "code",
      "metadata": {
        "id": "9AiTIRiOaJux"
      },
      "source": [
        "# data"
      ],
      "id": "9AiTIRiOaJux",
      "execution_count": null,
      "outputs": []
    },
    {
      "cell_type": "markdown",
      "metadata": {
        "id": "c7d0e83b"
      },
      "source": [
        "Terlihat bahwa untuk *review* pertama model mengklasifikasikan *review* tersebut ke dalam kelas *Positive*, *Negative* untuk *review* kedua, dan *Neutral* untuk *review* ketiga. Berdasarkan 3 contoh *review* yang diberikan, dapat dikatakan model dapat melakukan klasifikasi *review* dengan baik."
      ],
      "id": "c7d0e83b"
    },
    {
      "cell_type": "markdown",
      "metadata": {
        "id": "c5073cee"
      },
      "source": [
        "# Conclusion"
      ],
      "id": "c5073cee"
    },
    {
      "cell_type": "markdown",
      "metadata": {
        "id": "34c69fd8"
      },
      "source": [
        "Berdasarkan proses yang telah dilakukan, dapat diperoleh beberapa kesimpulan yang dapat menjawab permasalahan sebelumnya.\n",
        "\n",
        "1. Mengetahui review yang diberikan oleh pegawai terhadap perusahaan. <br>\n",
        "Jawab: <br>\n",
        "Setelah melakukan proses *Exploratory Data Analysis*, diperoleh rata-rata *rating* yang diberikan oleh pegawai terhadap perusahaan adalah **4,053/5** yang mengindikasikan bahwa mayoritas *review* yang diberikan adalah positif. Berdasarkan jenis pegawai, *review* lebih banyak diberikan oleh *Former Employee* yaitu sebanyak **79377** *review* dibandingkan dengan *Current Employee* dengan **65672** *review*. Berdasarkan tahunnya, tahun **2017** adalah tahun dengan jumlah *review* terbanyak dibandingkan tahun lainnya. Berdasarkan bulannya, bulan *Maret* adalah bulan dengan jumlah *review* terbanyak dibandingkan bulan lainnya. 5 Perusahaan dengan jumlah *review* terbanyak adalah **Tata-Consultancy-Service**, **IBM**, **Infosys**, **Accenture**, dan **Cognizant Technology Solutions** dengan jumlah *review* untuk tiap perusahaan melebihi 8000 *review*.\n",
        "Dilihat berdasarkan jenis pegawai, pegawai dengan status *Former Employee* memberikan nilai *rating* tinggi lebih banyak dibandingkan dengan pegawai dengan status *Current Employee*.\n",
        "\n",
        "    \n",
        "2. Memprediksi *review* yang diberikan dan mengkategorikannya ke dalam review yang bersifat positif, netral, atau negatif. <br>\n",
        "Jawab: <br>\n",
        "Proses prediksi *review* yang diberikan pegawai terhadap perusahaannya dapat diprediksi menggunakan proses *Deep Learning* dengan arsitektur *Neural Network*. Proses dilakukan dengan melakukan **Tokenizer** pada teks dan dilakukan proses *padding* untuk membuat panjang tiap kalimat sama. Kemudian pembuatan arsitektur *Neural Network* dilakukan dengan menggunakan layer **Embedding** untuk mengelompokkan kata yang memiliki makna yang mirip dan diberikan *layer* **Long Short Term Memory (LSTM)** untuk mengenali makna dari suatu kalimat berdasarkan urutan kata pada kalimat. Berdasarkan arsitektur *Neural Network* ini, dibangun 2 buah model yaitu `model` untuk model tanpa proses *oversampling* pada data dan `model_over` untuk model dengan proses *oversampling* pada data. Menggunakan dua model tersebut, diperoleh nilai *accuracy* sebesar **77,61%** untuk model `model` dan **78,60%** untuk model `model_over`. Sehingga, untuk melakukan prediksi dalam klasifikasi *review* selanjutnya, dapat digunakan `model_over`."
      ],
      "id": "34c69fd8"
    }
  ]
}