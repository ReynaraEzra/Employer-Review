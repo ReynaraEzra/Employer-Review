{
  "nbformat": 4,
  "nbformat_minor": 5,
  "metadata": {
    "kernelspec": {
      "display_name": "NLP",
      "language": "python",
      "name": "nlp"
    },
    "language_info": {
      "codemirror_mode": {
        "name": "ipython",
        "version": 3
      },
      "file_extension": ".py",
      "mimetype": "text/x-python",
      "name": "python",
      "nbconvert_exporter": "python",
      "pygments_lexer": "ipython3",
      "version": "3.8.11"
    },
    "toc": {
      "base_numbering": 1,
      "nav_menu": {},
      "number_sections": false,
      "sideBar": true,
      "skip_h1_title": false,
      "title_cell": "Table of Contents",
      "title_sidebar": "Contents",
      "toc_cell": false,
      "toc_position": {},
      "toc_section_display": true,
      "toc_window_display": false
    },
    "varInspector": {
      "cols": {
        "lenName": 16,
        "lenType": 16,
        "lenVar": 40
      },
      "kernels_config": {
        "python": {
          "delete_cmd_postfix": "",
          "delete_cmd_prefix": "del ",
          "library": "var_list.py",
          "varRefreshCmd": "print(var_dic_list())"
        },
        "r": {
          "delete_cmd_postfix": ") ",
          "delete_cmd_prefix": "rm(",
          "library": "var_list.r",
          "varRefreshCmd": "cat(var_dic_list()) "
        }
      },
      "types_to_exclude": [
        "module",
        "function",
        "builtin_function_or_method",
        "instance",
        "_Feature"
      ],
      "window_display": false
    },
    "colab": {
      "name": "Employer Review Prediction.ipynb",
      "provenance": []
    },
    "accelerator": "GPU"
  },
  "cells": [
    {
      "cell_type": "markdown",
      "metadata": {
        "id": "4bd2e5a9"
      },
      "source": [
        "# Employer Review Prediction\n",
        "## Reynara Ezra Pratama"
      ],
      "id": "4bd2e5a9"
    },
    {
      "cell_type": "markdown",
      "metadata": {
        "id": "cea14dc2"
      },
      "source": [
        "## Background"
      ],
      "id": "cea14dc2"
    },
    {
      "cell_type": "markdown",
      "metadata": {
        "id": "16bef603"
      },
      "source": [
        ""
      ],
      "id": "16bef603"
    },
    {
      "cell_type": "markdown",
      "metadata": {
        "id": "fbb2ecc8"
      },
      "source": [
        "## Business Understanding"
      ],
      "id": "fbb2ecc8"
    },
    {
      "cell_type": "markdown",
      "metadata": {
        "id": "7835786a"
      },
      "source": [
        "1. Mengetahui *review* yang diberikan oleh pegawai terhadap perusahaan.\n",
        "2. Memprediksi *review* yang diberikan dan mengkategorikannya ke dalam *review* yang bersifat positif, netral, atau negatif."
      ],
      "id": "7835786a"
    },
    {
      "cell_type": "markdown",
      "metadata": {
        "id": "9ce6765f"
      },
      "source": [
        "## Data Understanding"
      ],
      "id": "9ce6765f"
    },
    {
      "cell_type": "markdown",
      "metadata": {
        "id": "d6c2e1e6"
      },
      "source": [
        "1. `ReviewTitle` : Topik dari *review*.\n",
        "2. `CompleteReview` : *Review* yang diberikan pegawai perusahaan.\n",
        "3. `URL` : *Uniform Resource Locator*.\n",
        "4. `Rating` : Penilaian yang diberikan pegawai perusahaan.\n",
        "5. `ReviewDetails` : Detail mengenai *review*."
      ],
      "id": "d6c2e1e6"
    },
    {
      "cell_type": "markdown",
      "metadata": {
        "id": "e23e821e"
      },
      "source": [
        "## Import Library"
      ],
      "id": "e23e821e"
    },
    {
      "cell_type": "code",
      "metadata": {
        "ExecuteTime": {
          "end_time": "2021-09-30T05:59:29.990091Z",
          "start_time": "2021-09-30T05:59:29.981568Z"
        },
        "colab": {
          "base_uri": "https://localhost:8080/"
        },
        "id": "9748b717",
        "outputId": "10a7c4b9-df7a-44ac-8358-7039456d5430"
      },
      "source": [
        "import pandas as pd\n",
        "import numpy as np\n",
        "import matplotlib.pyplot as plt\n",
        "import seaborn as sns\n",
        "sns.set_theme()\n",
        "\n",
        "from sklearn.preprocessing import OneHotEncoder\n",
        "from sklearn.model_selection import train_test_split\n",
        "from sklearn.metrics import confusion_matrix\n",
        "from sklearn.metrics import accuracy_score\n",
        "from sklearn.metrics import recall_score\n",
        "from sklearn.metrics import precision_score\n",
        "from sklearn.metrics import f1_score\n",
        "\n",
        "import tensorflow as tf\n",
        "import nltk\n",
        "import re\n",
        "\n",
        "from tensorflow.keras.preprocessing.text import Tokenizer\n",
        "from tensorflow.keras.preprocessing.sequence import pad_sequences\n",
        "\n",
        "from nltk.corpus import stopwords\n",
        "from nltk.stem.porter import PorterStemmer\n",
        "nltk.download('stopwords')\n",
        "\n",
        "import warnings \n",
        "warnings.filterwarnings('ignore')"
      ],
      "id": "9748b717",
      "execution_count": 1,
      "outputs": [
        {
          "output_type": "stream",
          "name": "stdout",
          "text": [
            "[nltk_data] Downloading package stopwords to /root/nltk_data...\n",
            "[nltk_data]   Unzipping corpora/stopwords.zip.\n"
          ]
        }
      ]
    },
    {
      "cell_type": "markdown",
      "metadata": {
        "id": "e7c61f81"
      },
      "source": [
        "## Loading Dataset"
      ],
      "id": "e7c61f81"
    },
    {
      "cell_type": "markdown",
      "metadata": {
        "id": "e5629108"
      },
      "source": [
        "**Load Data From Github**"
      ],
      "id": "e5629108"
    },
    {
      "cell_type": "code",
      "metadata": {
        "ExecuteTime": {
          "end_time": "2021-09-30T03:39:21.959063Z",
          "start_time": "2021-09-30T03:39:21.956057Z"
        },
        "id": "8a9ad1b5"
      },
      "source": [
        "url = \"https://raw.githubusercontent.com/ReynaraEzra/Employer-Review/main/data_input/results.json\"\n",
        "df = pd.read_json(url)"
      ],
      "id": "8a9ad1b5",
      "execution_count": 2,
      "outputs": []
    },
    {
      "cell_type": "markdown",
      "metadata": {
        "id": "244cba15"
      },
      "source": [
        "**Load Data From Local File**"
      ],
      "id": "244cba15"
    },
    {
      "cell_type": "code",
      "metadata": {
        "ExecuteTime": {
          "end_time": "2021-09-30T03:39:23.857101Z",
          "start_time": "2021-09-30T03:39:21.961572Z"
        },
        "id": "4e4c39e0"
      },
      "source": [
        "# df = pd.read_json('data_input/results.json')"
      ],
      "id": "4e4c39e0",
      "execution_count": 3,
      "outputs": []
    },
    {
      "cell_type": "markdown",
      "metadata": {
        "id": "d9c301e5"
      },
      "source": [
        "## Checking Dataset"
      ],
      "id": "d9c301e5"
    },
    {
      "cell_type": "code",
      "metadata": {
        "ExecuteTime": {
          "end_time": "2021-09-30T03:39:24.115682Z",
          "start_time": "2021-09-30T03:39:23.860111Z"
        },
        "colab": {
          "base_uri": "https://localhost:8080/",
          "height": 289
        },
        "id": "d9532c99",
        "outputId": "608d3a4e-5f2e-4b62-afb8-df9b53f69d3a"
      },
      "source": [
        "df.head()"
      ],
      "id": "d9532c99",
      "execution_count": 4,
      "outputs": [
        {
          "output_type": "execute_result",
          "data": {
            "text/html": [
              "<div>\n",
              "<style scoped>\n",
              "    .dataframe tbody tr th:only-of-type {\n",
              "        vertical-align: middle;\n",
              "    }\n",
              "\n",
              "    .dataframe tbody tr th {\n",
              "        vertical-align: top;\n",
              "    }\n",
              "\n",
              "    .dataframe thead th {\n",
              "        text-align: right;\n",
              "    }\n",
              "</style>\n",
              "<table border=\"1\" class=\"dataframe\">\n",
              "  <thead>\n",
              "    <tr style=\"text-align: right;\">\n",
              "      <th></th>\n",
              "      <th>ReviewTitle</th>\n",
              "      <th>CompleteReview</th>\n",
              "      <th>URL</th>\n",
              "      <th>Rating</th>\n",
              "      <th>ReviewDetails</th>\n",
              "    </tr>\n",
              "  </thead>\n",
              "  <tbody>\n",
              "    <tr>\n",
              "      <th>0</th>\n",
              "      <td>Productive</td>\n",
              "      <td>Good company, cool workplace, work load little...</td>\n",
              "      <td>https://in.indeed.com/cmp/Reliance-Industries-...</td>\n",
              "      <td>3</td>\n",
              "      <td>(Current Employee)  -  Ghansoli  -  August 30,...</td>\n",
              "    </tr>\n",
              "    <tr>\n",
              "      <th>1</th>\n",
              "      <td>Stressful</td>\n",
              "      <td>1. Need to work on boss's whims and fancies 2....</td>\n",
              "      <td>https://in.indeed.com/cmp/Reliance-Industries-...</td>\n",
              "      <td>3</td>\n",
              "      <td>(Former Employee)  -   -  August 26, 2021</td>\n",
              "    </tr>\n",
              "    <tr>\n",
              "      <th>2</th>\n",
              "      <td>Good Company for Every employee</td>\n",
              "      <td>Good company for every Engineers dream, Full M...</td>\n",
              "      <td>https://in.indeed.com/cmp/Reliance-Industries-...</td>\n",
              "      <td>5</td>\n",
              "      <td>(Former Employee)  -   -  August 17, 2021</td>\n",
              "    </tr>\n",
              "    <tr>\n",
              "      <th>3</th>\n",
              "      <td>Productive</td>\n",
              "      <td>I am just pass out bsc in chemistry Typical da...</td>\n",
              "      <td>https://in.indeed.com/cmp/Reliance-Industries-...</td>\n",
              "      <td>5</td>\n",
              "      <td>(Current Employee)  -   -  August 17, 2021</td>\n",
              "    </tr>\n",
              "    <tr>\n",
              "      <th>4</th>\n",
              "      <td>Non productive</td>\n",
              "      <td>Not so fun at work just blame games  Target pe...</td>\n",
              "      <td>https://in.indeed.com/cmp/Reliance-Industries-...</td>\n",
              "      <td>1</td>\n",
              "      <td>(Former Employee)  -   -  August 9, 2021</td>\n",
              "    </tr>\n",
              "  </tbody>\n",
              "</table>\n",
              "</div>"
            ],
            "text/plain": [
              "                       ReviewTitle  ...                                      ReviewDetails\n",
              "0                       Productive  ...  (Current Employee)  -  Ghansoli  -  August 30,...\n",
              "1                        Stressful  ...          (Former Employee)  -   -  August 26, 2021\n",
              "2  Good Company for Every employee  ...          (Former Employee)  -   -  August 17, 2021\n",
              "3                       Productive  ...         (Current Employee)  -   -  August 17, 2021\n",
              "4                   Non productive  ...           (Former Employee)  -   -  August 9, 2021\n",
              "\n",
              "[5 rows x 5 columns]"
            ]
          },
          "metadata": {},
          "execution_count": 4
        }
      ]
    },
    {
      "cell_type": "code",
      "metadata": {
        "ExecuteTime": {
          "end_time": "2021-09-30T03:39:24.126776Z",
          "start_time": "2021-09-30T03:39:24.117647Z"
        },
        "colab": {
          "base_uri": "https://localhost:8080/",
          "height": 289
        },
        "id": "1e0bc3f9",
        "outputId": "e886931a-6cfa-4023-d72f-5f8b271e94b5"
      },
      "source": [
        "df.tail()"
      ],
      "id": "1e0bc3f9",
      "execution_count": 5,
      "outputs": [
        {
          "output_type": "execute_result",
          "data": {
            "text/html": [
              "<div>\n",
              "<style scoped>\n",
              "    .dataframe tbody tr th:only-of-type {\n",
              "        vertical-align: middle;\n",
              "    }\n",
              "\n",
              "    .dataframe tbody tr th {\n",
              "        vertical-align: top;\n",
              "    }\n",
              "\n",
              "    .dataframe thead th {\n",
              "        text-align: right;\n",
              "    }\n",
              "</style>\n",
              "<table border=\"1\" class=\"dataframe\">\n",
              "  <thead>\n",
              "    <tr style=\"text-align: right;\">\n",
              "      <th></th>\n",
              "      <th>ReviewTitle</th>\n",
              "      <th>CompleteReview</th>\n",
              "      <th>URL</th>\n",
              "      <th>Rating</th>\n",
              "      <th>ReviewDetails</th>\n",
              "    </tr>\n",
              "  </thead>\n",
              "  <tbody>\n",
              "    <tr>\n",
              "      <th>145204</th>\n",
              "      <td>Definitely very good place to work and can hav...</td>\n",
              "      <td>We get a lot to learn in the company. Very sys...</td>\n",
              "      <td>https://in.indeed.com/cmp/Tata-Consultancy-Ser...</td>\n",
              "      <td>4</td>\n",
              "      <td>(Former Employee)  -   -  January 20, 2012</td>\n",
              "    </tr>\n",
              "    <tr>\n",
              "      <th>145205</th>\n",
              "      <td>IT Services Company; Great scope for improvement.</td>\n",
              "      <td>Lot of scope to learn different technologies u...</td>\n",
              "      <td>https://in.indeed.com/cmp/Tata-Consultancy-Ser...</td>\n",
              "      <td>4</td>\n",
              "      <td>(Former Employee)  -   -  January 19, 2012</td>\n",
              "    </tr>\n",
              "    <tr>\n",
              "      <th>145206</th>\n",
              "      <td>Productive, fun to work, great place to do cer...</td>\n",
              "      <td>An overall positive experience, nice environme...</td>\n",
              "      <td>https://in.indeed.com/cmp/Tata-Consultancy-Ser...</td>\n",
              "      <td>4</td>\n",
              "      <td>(Former Employee)  -   -  January 19, 2012</td>\n",
              "    </tr>\n",
              "    <tr>\n",
              "      <th>145207</th>\n",
              "      <td>Great place to start the career.</td>\n",
              "      <td>Happy that I've started my career from such a ...</td>\n",
              "      <td>https://in.indeed.com/cmp/Tata-Consultancy-Ser...</td>\n",
              "      <td>3</td>\n",
              "      <td>(Former Employee)  -   -  January 7, 2012</td>\n",
              "    </tr>\n",
              "    <tr>\n",
              "      <th>145208</th>\n",
              "      <td>Nice place to work</td>\n",
              "      <td>Got good experience and knowledge about my wor...</td>\n",
              "      <td>https://in.indeed.com/cmp/Tata-Consultancy-Ser...</td>\n",
              "      <td>5</td>\n",
              "      <td>(Former Employee)  -   -  December 19, 2011</td>\n",
              "    </tr>\n",
              "  </tbody>\n",
              "</table>\n",
              "</div>"
            ],
            "text/plain": [
              "                                              ReviewTitle  ...                                ReviewDetails\n",
              "145204  Definitely very good place to work and can hav...  ...   (Former Employee)  -   -  January 20, 2012\n",
              "145205  IT Services Company; Great scope for improvement.  ...   (Former Employee)  -   -  January 19, 2012\n",
              "145206  Productive, fun to work, great place to do cer...  ...   (Former Employee)  -   -  January 19, 2012\n",
              "145207                   Great place to start the career.  ...    (Former Employee)  -   -  January 7, 2012\n",
              "145208                                 Nice place to work  ...  (Former Employee)  -   -  December 19, 2011\n",
              "\n",
              "[5 rows x 5 columns]"
            ]
          },
          "metadata": {},
          "execution_count": 5
        }
      ]
    },
    {
      "cell_type": "code",
      "metadata": {
        "ExecuteTime": {
          "end_time": "2021-09-30T03:39:24.553164Z",
          "start_time": "2021-09-30T03:39:24.129403Z"
        },
        "colab": {
          "base_uri": "https://localhost:8080/",
          "height": 289
        },
        "id": "9da0f684",
        "outputId": "fe5f6ae2-98ae-4081-cf09-e10f79200c5f"
      },
      "source": [
        "df.sample(5)"
      ],
      "id": "9da0f684",
      "execution_count": 6,
      "outputs": [
        {
          "output_type": "execute_result",
          "data": {
            "text/html": [
              "<div>\n",
              "<style scoped>\n",
              "    .dataframe tbody tr th:only-of-type {\n",
              "        vertical-align: middle;\n",
              "    }\n",
              "\n",
              "    .dataframe tbody tr th {\n",
              "        vertical-align: top;\n",
              "    }\n",
              "\n",
              "    .dataframe thead th {\n",
              "        text-align: right;\n",
              "    }\n",
              "</style>\n",
              "<table border=\"1\" class=\"dataframe\">\n",
              "  <thead>\n",
              "    <tr style=\"text-align: right;\">\n",
              "      <th></th>\n",
              "      <th>ReviewTitle</th>\n",
              "      <th>CompleteReview</th>\n",
              "      <th>URL</th>\n",
              "      <th>Rating</th>\n",
              "      <th>ReviewDetails</th>\n",
              "    </tr>\n",
              "  </thead>\n",
              "  <tbody>\n",
              "    <tr>\n",
              "      <th>83242</th>\n",
              "      <td>It's good</td>\n",
              "      <td>Overall ok..I can not say is good for work bec...</td>\n",
              "      <td>https://in.indeed.com/cmp/HSBC/reviews?start=620</td>\n",
              "      <td>3</td>\n",
              "      <td>(Former Employee)  -   -  July 26, 2018</td>\n",
              "    </tr>\n",
              "    <tr>\n",
              "      <th>20589</th>\n",
              "      <td>Hard working and happiest working place</td>\n",
              "      <td>Over all working culture at reliance is good a...</td>\n",
              "      <td>https://in.indeed.com/cmp/Reliance-Industries-...</td>\n",
              "      <td>4</td>\n",
              "      <td>(Current Employee)  -  Dehej, Gujarat  -  Marc...</td>\n",
              "    </tr>\n",
              "    <tr>\n",
              "      <th>29102</th>\n",
              "      <td>Productive and challenging</td>\n",
              "      <td>A person grows as professional with ample amou...</td>\n",
              "      <td>https://in.indeed.com/cmp/Deloitte/reviews?sta...</td>\n",
              "      <td>4</td>\n",
              "      <td>(Former Employee)  -   -  January 20, 2020</td>\n",
              "    </tr>\n",
              "    <tr>\n",
              "      <th>40336</th>\n",
              "      <td>A Heaven to work in</td>\n",
              "      <td>I would like to say that, it was my dream comp...</td>\n",
              "      <td>https://in.indeed.com/cmp/Infosys/reviews?star...</td>\n",
              "      <td>5</td>\n",
              "      <td>(Current Employee)  -   -  August 20, 2020</td>\n",
              "    </tr>\n",
              "    <tr>\n",
              "      <th>28515</th>\n",
              "      <td>Ideal workplace for an employee.</td>\n",
              "      <td>This company is one of the top companies in In...</td>\n",
              "      <td>https://in.indeed.com/cmp/Reliance-Industries-...</td>\n",
              "      <td>5</td>\n",
              "      <td>(Former Employee)  -   -  July 18, 2015</td>\n",
              "    </tr>\n",
              "  </tbody>\n",
              "</table>\n",
              "</div>"
            ],
            "text/plain": [
              "                                   ReviewTitle  ...                                      ReviewDetails\n",
              "83242                                It's good  ...            (Former Employee)  -   -  July 26, 2018\n",
              "20589  Hard working and happiest working place  ...  (Current Employee)  -  Dehej, Gujarat  -  Marc...\n",
              "29102               Productive and challenging  ...         (Former Employee)  -   -  January 20, 2020\n",
              "40336                      A Heaven to work in  ...         (Current Employee)  -   -  August 20, 2020\n",
              "28515         Ideal workplace for an employee.  ...            (Former Employee)  -   -  July 18, 2015\n",
              "\n",
              "[5 rows x 5 columns]"
            ]
          },
          "metadata": {},
          "execution_count": 6
        }
      ]
    },
    {
      "cell_type": "markdown",
      "metadata": {
        "id": "d2551457"
      },
      "source": [
        "## Check Characteristic Data"
      ],
      "id": "d2551457"
    },
    {
      "cell_type": "markdown",
      "metadata": {
        "id": "21b0d3e9"
      },
      "source": [
        "**Data Shape**"
      ],
      "id": "21b0d3e9"
    },
    {
      "cell_type": "code",
      "metadata": {
        "ExecuteTime": {
          "end_time": "2021-09-30T03:39:24.679083Z",
          "start_time": "2021-09-30T03:39:24.555170Z"
        },
        "colab": {
          "base_uri": "https://localhost:8080/"
        },
        "id": "4d278d52",
        "outputId": "a117bba9-a8bb-4bf7-f3bc-99de7ac7d31c"
      },
      "source": [
        "df.shape"
      ],
      "id": "4d278d52",
      "execution_count": 7,
      "outputs": [
        {
          "output_type": "execute_result",
          "data": {
            "text/plain": [
              "(145209, 5)"
            ]
          },
          "metadata": {},
          "execution_count": 7
        }
      ]
    },
    {
      "cell_type": "markdown",
      "metadata": {
        "id": "8bb6189e"
      },
      "source": [
        "**Data Columns**"
      ],
      "id": "8bb6189e"
    },
    {
      "cell_type": "code",
      "metadata": {
        "ExecuteTime": {
          "end_time": "2021-09-30T03:39:24.870514Z",
          "start_time": "2021-09-30T03:39:24.681590Z"
        },
        "colab": {
          "base_uri": "https://localhost:8080/"
        },
        "id": "f48b4037",
        "outputId": "e60946b1-7953-456e-9596-6aef8c3a9eac"
      },
      "source": [
        "df.columns"
      ],
      "id": "f48b4037",
      "execution_count": 8,
      "outputs": [
        {
          "output_type": "execute_result",
          "data": {
            "text/plain": [
              "Index(['ReviewTitle', 'CompleteReview', 'URL', 'Rating', 'ReviewDetails'], dtype='object')"
            ]
          },
          "metadata": {},
          "execution_count": 8
        }
      ]
    },
    {
      "cell_type": "markdown",
      "metadata": {
        "id": "0e054852"
      },
      "source": [
        "**Data Info**"
      ],
      "id": "0e054852"
    },
    {
      "cell_type": "code",
      "metadata": {
        "ExecuteTime": {
          "end_time": "2021-09-30T03:39:25.251381Z",
          "start_time": "2021-09-30T03:39:24.872521Z"
        },
        "colab": {
          "base_uri": "https://localhost:8080/"
        },
        "id": "4d040556",
        "outputId": "06cb14b1-0dcc-4c02-b826-11d2e2b0f1ee"
      },
      "source": [
        "df.info()"
      ],
      "id": "4d040556",
      "execution_count": 9,
      "outputs": [
        {
          "output_type": "stream",
          "name": "stdout",
          "text": [
            "<class 'pandas.core.frame.DataFrame'>\n",
            "RangeIndex: 145209 entries, 0 to 145208\n",
            "Data columns (total 5 columns):\n",
            " #   Column          Non-Null Count   Dtype \n",
            "---  ------          --------------   ----- \n",
            " 0   ReviewTitle     145209 non-null  object\n",
            " 1   CompleteReview  145209 non-null  object\n",
            " 2   URL             145209 non-null  object\n",
            " 3   Rating          145209 non-null  int64 \n",
            " 4   ReviewDetails   145209 non-null  object\n",
            "dtypes: int64(1), object(4)\n",
            "memory usage: 5.5+ MB\n"
          ]
        }
      ]
    },
    {
      "cell_type": "markdown",
      "metadata": {
        "id": "d9de53a1"
      },
      "source": [
        "**Descriptive Statistic**"
      ],
      "id": "d9de53a1"
    },
    {
      "cell_type": "code",
      "metadata": {
        "ExecuteTime": {
          "end_time": "2021-09-30T03:39:25.392796Z",
          "start_time": "2021-09-30T03:39:25.256396Z"
        },
        "colab": {
          "base_uri": "https://localhost:8080/",
          "height": 297
        },
        "id": "fc26453b",
        "outputId": "fe54dc59-5a87-4e05-8847-2906ecfd70d4"
      },
      "source": [
        "df.describe()"
      ],
      "id": "fc26453b",
      "execution_count": 10,
      "outputs": [
        {
          "output_type": "execute_result",
          "data": {
            "text/html": [
              "<div>\n",
              "<style scoped>\n",
              "    .dataframe tbody tr th:only-of-type {\n",
              "        vertical-align: middle;\n",
              "    }\n",
              "\n",
              "    .dataframe tbody tr th {\n",
              "        vertical-align: top;\n",
              "    }\n",
              "\n",
              "    .dataframe thead th {\n",
              "        text-align: right;\n",
              "    }\n",
              "</style>\n",
              "<table border=\"1\" class=\"dataframe\">\n",
              "  <thead>\n",
              "    <tr style=\"text-align: right;\">\n",
              "      <th></th>\n",
              "      <th>Rating</th>\n",
              "    </tr>\n",
              "  </thead>\n",
              "  <tbody>\n",
              "    <tr>\n",
              "      <th>count</th>\n",
              "      <td>145209.000000</td>\n",
              "    </tr>\n",
              "    <tr>\n",
              "      <th>mean</th>\n",
              "      <td>4.053661</td>\n",
              "    </tr>\n",
              "    <tr>\n",
              "      <th>std</th>\n",
              "      <td>0.925805</td>\n",
              "    </tr>\n",
              "    <tr>\n",
              "      <th>min</th>\n",
              "      <td>1.000000</td>\n",
              "    </tr>\n",
              "    <tr>\n",
              "      <th>25%</th>\n",
              "      <td>4.000000</td>\n",
              "    </tr>\n",
              "    <tr>\n",
              "      <th>50%</th>\n",
              "      <td>4.000000</td>\n",
              "    </tr>\n",
              "    <tr>\n",
              "      <th>75%</th>\n",
              "      <td>5.000000</td>\n",
              "    </tr>\n",
              "    <tr>\n",
              "      <th>max</th>\n",
              "      <td>5.000000</td>\n",
              "    </tr>\n",
              "  </tbody>\n",
              "</table>\n",
              "</div>"
            ],
            "text/plain": [
              "              Rating\n",
              "count  145209.000000\n",
              "mean        4.053661\n",
              "std         0.925805\n",
              "min         1.000000\n",
              "25%         4.000000\n",
              "50%         4.000000\n",
              "75%         5.000000\n",
              "max         5.000000"
            ]
          },
          "metadata": {},
          "execution_count": 10
        }
      ]
    },
    {
      "cell_type": "markdown",
      "metadata": {
        "id": "4925163d"
      },
      "source": [
        "**Check Missing Value**"
      ],
      "id": "4925163d"
    },
    {
      "cell_type": "code",
      "metadata": {
        "ExecuteTime": {
          "end_time": "2021-09-30T03:39:25.473375Z",
          "start_time": "2021-09-30T03:39:25.395303Z"
        },
        "colab": {
          "base_uri": "https://localhost:8080/"
        },
        "id": "a01554af",
        "outputId": "a4bcaf34-0ba1-492c-e883-f4265775ba94"
      },
      "source": [
        "df.isnull().sum()"
      ],
      "id": "a01554af",
      "execution_count": 11,
      "outputs": [
        {
          "output_type": "execute_result",
          "data": {
            "text/plain": [
              "ReviewTitle       0\n",
              "CompleteReview    0\n",
              "URL               0\n",
              "Rating            0\n",
              "ReviewDetails     0\n",
              "dtype: int64"
            ]
          },
          "metadata": {},
          "execution_count": 11
        }
      ]
    },
    {
      "cell_type": "markdown",
      "metadata": {
        "id": "6cac95ab"
      },
      "source": [
        "**Check and Drop Duplicate Data**"
      ],
      "id": "6cac95ab"
    },
    {
      "cell_type": "code",
      "metadata": {
        "ExecuteTime": {
          "end_time": "2021-09-30T03:39:25.865182Z",
          "start_time": "2021-09-30T03:39:25.475881Z"
        },
        "id": "8708b1af"
      },
      "source": [
        "df = df.drop_duplicates(keep='first')\n",
        "df.reset_index(drop=True, inplace=True)"
      ],
      "id": "8708b1af",
      "execution_count": 12,
      "outputs": []
    },
    {
      "cell_type": "code",
      "metadata": {
        "ExecuteTime": {
          "end_time": "2021-09-30T03:39:25.873203Z",
          "start_time": "2021-09-30T03:39:25.867187Z"
        },
        "colab": {
          "base_uri": "https://localhost:8080/"
        },
        "id": "ddce1445",
        "outputId": "3a23d436-14d1-4e3d-bd9f-b2eb40d7233e"
      },
      "source": [
        "df.shape"
      ],
      "id": "ddce1445",
      "execution_count": 13,
      "outputs": [
        {
          "output_type": "execute_result",
          "data": {
            "text/plain": [
              "(145191, 5)"
            ]
          },
          "metadata": {},
          "execution_count": 13
        }
      ]
    },
    {
      "cell_type": "markdown",
      "metadata": {
        "id": "080e9bf4"
      },
      "source": [
        "## Feature Extraction"
      ],
      "id": "080e9bf4"
    },
    {
      "cell_type": "code",
      "metadata": {
        "ExecuteTime": {
          "end_time": "2021-09-30T03:39:25.998084Z",
          "start_time": "2021-09-30T03:39:25.876212Z"
        },
        "colab": {
          "base_uri": "https://localhost:8080/",
          "height": 193
        },
        "id": "0028767a",
        "outputId": "cc577b9a-334d-49dc-db4e-baacb3025a9d"
      },
      "source": [
        "df.head(3)"
      ],
      "id": "0028767a",
      "execution_count": 14,
      "outputs": [
        {
          "output_type": "execute_result",
          "data": {
            "text/html": [
              "<div>\n",
              "<style scoped>\n",
              "    .dataframe tbody tr th:only-of-type {\n",
              "        vertical-align: middle;\n",
              "    }\n",
              "\n",
              "    .dataframe tbody tr th {\n",
              "        vertical-align: top;\n",
              "    }\n",
              "\n",
              "    .dataframe thead th {\n",
              "        text-align: right;\n",
              "    }\n",
              "</style>\n",
              "<table border=\"1\" class=\"dataframe\">\n",
              "  <thead>\n",
              "    <tr style=\"text-align: right;\">\n",
              "      <th></th>\n",
              "      <th>ReviewTitle</th>\n",
              "      <th>CompleteReview</th>\n",
              "      <th>URL</th>\n",
              "      <th>Rating</th>\n",
              "      <th>ReviewDetails</th>\n",
              "    </tr>\n",
              "  </thead>\n",
              "  <tbody>\n",
              "    <tr>\n",
              "      <th>0</th>\n",
              "      <td>Productive</td>\n",
              "      <td>Good company, cool workplace, work load little...</td>\n",
              "      <td>https://in.indeed.com/cmp/Reliance-Industries-...</td>\n",
              "      <td>3</td>\n",
              "      <td>(Current Employee)  -  Ghansoli  -  August 30,...</td>\n",
              "    </tr>\n",
              "    <tr>\n",
              "      <th>1</th>\n",
              "      <td>Stressful</td>\n",
              "      <td>1. Need to work on boss's whims and fancies 2....</td>\n",
              "      <td>https://in.indeed.com/cmp/Reliance-Industries-...</td>\n",
              "      <td>3</td>\n",
              "      <td>(Former Employee)  -   -  August 26, 2021</td>\n",
              "    </tr>\n",
              "    <tr>\n",
              "      <th>2</th>\n",
              "      <td>Good Company for Every employee</td>\n",
              "      <td>Good company for every Engineers dream, Full M...</td>\n",
              "      <td>https://in.indeed.com/cmp/Reliance-Industries-...</td>\n",
              "      <td>5</td>\n",
              "      <td>(Former Employee)  -   -  August 17, 2021</td>\n",
              "    </tr>\n",
              "  </tbody>\n",
              "</table>\n",
              "</div>"
            ],
            "text/plain": [
              "                       ReviewTitle  ...                                      ReviewDetails\n",
              "0                       Productive  ...  (Current Employee)  -  Ghansoli  -  August 30,...\n",
              "1                        Stressful  ...          (Former Employee)  -   -  August 26, 2021\n",
              "2  Good Company for Every employee  ...          (Former Employee)  -   -  August 17, 2021\n",
              "\n",
              "[3 rows x 5 columns]"
            ]
          },
          "metadata": {},
          "execution_count": 14
        }
      ]
    },
    {
      "cell_type": "markdown",
      "metadata": {
        "id": "5737277f"
      },
      "source": [
        "**Make Company Name Columns**"
      ],
      "id": "5737277f"
    },
    {
      "cell_type": "code",
      "metadata": {
        "ExecuteTime": {
          "end_time": "2021-09-30T03:39:26.646768Z",
          "start_time": "2021-09-30T03:39:26.000587Z"
        },
        "id": "abf25c2b"
      },
      "source": [
        "df['Company Name'] = df['URL'].str.split('/')\n",
        "df['Company Name'] = df['Company Name'].str[4]"
      ],
      "id": "abf25c2b",
      "execution_count": 15,
      "outputs": []
    },
    {
      "cell_type": "code",
      "metadata": {
        "ExecuteTime": {
          "end_time": "2021-09-30T03:39:26.656797Z",
          "start_time": "2021-09-30T03:39:26.648274Z"
        },
        "colab": {
          "base_uri": "https://localhost:8080/"
        },
        "id": "adc0fb20",
        "outputId": "2de54083-1fa0-4d5b-fb61-832b312ac4de"
      },
      "source": [
        "df['Company Name'].head()"
      ],
      "id": "adc0fb20",
      "execution_count": 16,
      "outputs": [
        {
          "output_type": "execute_result",
          "data": {
            "text/plain": [
              "0    Reliance-Industries-Ltd\n",
              "1    Reliance-Industries-Ltd\n",
              "2    Reliance-Industries-Ltd\n",
              "3    Reliance-Industries-Ltd\n",
              "4    Reliance-Industries-Ltd\n",
              "Name: Company Name, dtype: object"
            ]
          },
          "metadata": {},
          "execution_count": 16
        }
      ]
    },
    {
      "cell_type": "code",
      "metadata": {
        "ExecuteTime": {
          "end_time": "2021-09-30T03:39:26.797032Z",
          "start_time": "2021-09-30T03:39:26.659304Z"
        },
        "colab": {
          "base_uri": "https://localhost:8080/"
        },
        "id": "b0b573e0",
        "outputId": "a457ad2a-bab6-420d-8485-3babb130af44"
      },
      "source": [
        "df['Company Name'].unique()"
      ],
      "id": "b0b573e0",
      "execution_count": 17,
      "outputs": [
        {
          "output_type": "execute_result",
          "data": {
            "text/plain": [
              "array(['Reliance-Industries-Ltd', 'Mphasis', 'Kpmg', 'Yes-Bank',\n",
              "       'Sutherland', 'Marriott-International,-Inc.', 'DHL', 'Jio',\n",
              "       'Vodafoneziggo', 'HP', 'Maersk', 'Ride.swiggy', 'Jll', 'Alstom',\n",
              "       'UnitedHealth-Group', 'Tata-Consultancy-Services-(tcs)',\n",
              "       'Capgemini', 'Teleperformance', 'Cognizant-Technology-Solutions',\n",
              "       'Mahindra-&-Mahindra-Ltd', 'L&T-Technology-Services-Ltd.',\n",
              "       'Bharti-Airtel-Limited', 'Indeed', 'Hyatt',\n",
              "       'Icici-Prudential-Life-Insurance', 'Accenture', 'Honeywell',\n",
              "       'Standard-Chartered-Bank', 'Nokia', 'Apollo-Hospitals',\n",
              "       'Tata-Aia-Life', 'Hdfc-Bank', 'Bosch', 'Deloitte', 'Ey',\n",
              "       'Microsoft', 'Barclays', 'JPMorgan-Chase', 'Muthoot-Finance',\n",
              "       'Wns-Global-Services', 'Kotak-Mahindra-Bank', 'Infosys', 'Oracle',\n",
              "       \"Byju's\", 'Deutsche-Bank', 'Hinduja-Global-Solutions', 'Ericsson',\n",
              "       'Axis-Bank', 'IBM', 'Concentrix', 'Wells-Fargo', 'Google',\n",
              "       'Dell-Technologies', 'Facebook', 'Amazon.com', 'Flipkart.com',\n",
              "       'American-Express', 'Citi', 'HSBC'], dtype=object)"
            ]
          },
          "metadata": {},
          "execution_count": 17
        }
      ]
    },
    {
      "cell_type": "code",
      "metadata": {
        "ExecuteTime": {
          "end_time": "2021-09-30T03:39:26.908652Z",
          "start_time": "2021-09-30T03:39:26.799539Z"
        },
        "colab": {
          "base_uri": "https://localhost:8080/",
          "height": 289
        },
        "id": "02c2bf3c",
        "outputId": "aa22ab91-6065-4992-b96d-802e6fc21d85"
      },
      "source": [
        "df.head()"
      ],
      "id": "02c2bf3c",
      "execution_count": 18,
      "outputs": [
        {
          "output_type": "execute_result",
          "data": {
            "text/html": [
              "<div>\n",
              "<style scoped>\n",
              "    .dataframe tbody tr th:only-of-type {\n",
              "        vertical-align: middle;\n",
              "    }\n",
              "\n",
              "    .dataframe tbody tr th {\n",
              "        vertical-align: top;\n",
              "    }\n",
              "\n",
              "    .dataframe thead th {\n",
              "        text-align: right;\n",
              "    }\n",
              "</style>\n",
              "<table border=\"1\" class=\"dataframe\">\n",
              "  <thead>\n",
              "    <tr style=\"text-align: right;\">\n",
              "      <th></th>\n",
              "      <th>ReviewTitle</th>\n",
              "      <th>CompleteReview</th>\n",
              "      <th>URL</th>\n",
              "      <th>Rating</th>\n",
              "      <th>ReviewDetails</th>\n",
              "      <th>Company Name</th>\n",
              "    </tr>\n",
              "  </thead>\n",
              "  <tbody>\n",
              "    <tr>\n",
              "      <th>0</th>\n",
              "      <td>Productive</td>\n",
              "      <td>Good company, cool workplace, work load little...</td>\n",
              "      <td>https://in.indeed.com/cmp/Reliance-Industries-...</td>\n",
              "      <td>3</td>\n",
              "      <td>(Current Employee)  -  Ghansoli  -  August 30,...</td>\n",
              "      <td>Reliance-Industries-Ltd</td>\n",
              "    </tr>\n",
              "    <tr>\n",
              "      <th>1</th>\n",
              "      <td>Stressful</td>\n",
              "      <td>1. Need to work on boss's whims and fancies 2....</td>\n",
              "      <td>https://in.indeed.com/cmp/Reliance-Industries-...</td>\n",
              "      <td>3</td>\n",
              "      <td>(Former Employee)  -   -  August 26, 2021</td>\n",
              "      <td>Reliance-Industries-Ltd</td>\n",
              "    </tr>\n",
              "    <tr>\n",
              "      <th>2</th>\n",
              "      <td>Good Company for Every employee</td>\n",
              "      <td>Good company for every Engineers dream, Full M...</td>\n",
              "      <td>https://in.indeed.com/cmp/Reliance-Industries-...</td>\n",
              "      <td>5</td>\n",
              "      <td>(Former Employee)  -   -  August 17, 2021</td>\n",
              "      <td>Reliance-Industries-Ltd</td>\n",
              "    </tr>\n",
              "    <tr>\n",
              "      <th>3</th>\n",
              "      <td>Productive</td>\n",
              "      <td>I am just pass out bsc in chemistry Typical da...</td>\n",
              "      <td>https://in.indeed.com/cmp/Reliance-Industries-...</td>\n",
              "      <td>5</td>\n",
              "      <td>(Current Employee)  -   -  August 17, 2021</td>\n",
              "      <td>Reliance-Industries-Ltd</td>\n",
              "    </tr>\n",
              "    <tr>\n",
              "      <th>4</th>\n",
              "      <td>Non productive</td>\n",
              "      <td>Not so fun at work just blame games  Target pe...</td>\n",
              "      <td>https://in.indeed.com/cmp/Reliance-Industries-...</td>\n",
              "      <td>1</td>\n",
              "      <td>(Former Employee)  -   -  August 9, 2021</td>\n",
              "      <td>Reliance-Industries-Ltd</td>\n",
              "    </tr>\n",
              "  </tbody>\n",
              "</table>\n",
              "</div>"
            ],
            "text/plain": [
              "                       ReviewTitle  ...             Company Name\n",
              "0                       Productive  ...  Reliance-Industries-Ltd\n",
              "1                        Stressful  ...  Reliance-Industries-Ltd\n",
              "2  Good Company for Every employee  ...  Reliance-Industries-Ltd\n",
              "3                       Productive  ...  Reliance-Industries-Ltd\n",
              "4                   Non productive  ...  Reliance-Industries-Ltd\n",
              "\n",
              "[5 rows x 6 columns]"
            ]
          },
          "metadata": {},
          "execution_count": 18
        }
      ]
    },
    {
      "cell_type": "markdown",
      "metadata": {
        "id": "ba88c2d8"
      },
      "source": [
        "**Make Date Columns**"
      ],
      "id": "ba88c2d8"
    },
    {
      "cell_type": "code",
      "metadata": {
        "ExecuteTime": {
          "end_time": "2021-09-30T03:39:27.482106Z",
          "start_time": "2021-09-30T03:39:26.909949Z"
        },
        "id": "2d90f022"
      },
      "source": [
        "df['Date'] = df['ReviewDetails'].str.split('-', expand=True)[2]"
      ],
      "id": "2d90f022",
      "execution_count": 19,
      "outputs": []
    },
    {
      "cell_type": "code",
      "metadata": {
        "ExecuteTime": {
          "end_time": "2021-09-30T03:39:27.501491Z",
          "start_time": "2021-09-30T03:39:27.483942Z"
        },
        "colab": {
          "base_uri": "https://localhost:8080/",
          "height": 289
        },
        "id": "8a86ca08",
        "outputId": "0c781b5d-b676-4793-9f0d-b075299b0ff7"
      },
      "source": [
        "df.head()"
      ],
      "id": "8a86ca08",
      "execution_count": 20,
      "outputs": [
        {
          "output_type": "execute_result",
          "data": {
            "text/html": [
              "<div>\n",
              "<style scoped>\n",
              "    .dataframe tbody tr th:only-of-type {\n",
              "        vertical-align: middle;\n",
              "    }\n",
              "\n",
              "    .dataframe tbody tr th {\n",
              "        vertical-align: top;\n",
              "    }\n",
              "\n",
              "    .dataframe thead th {\n",
              "        text-align: right;\n",
              "    }\n",
              "</style>\n",
              "<table border=\"1\" class=\"dataframe\">\n",
              "  <thead>\n",
              "    <tr style=\"text-align: right;\">\n",
              "      <th></th>\n",
              "      <th>ReviewTitle</th>\n",
              "      <th>CompleteReview</th>\n",
              "      <th>URL</th>\n",
              "      <th>Rating</th>\n",
              "      <th>ReviewDetails</th>\n",
              "      <th>Company Name</th>\n",
              "      <th>Date</th>\n",
              "    </tr>\n",
              "  </thead>\n",
              "  <tbody>\n",
              "    <tr>\n",
              "      <th>0</th>\n",
              "      <td>Productive</td>\n",
              "      <td>Good company, cool workplace, work load little...</td>\n",
              "      <td>https://in.indeed.com/cmp/Reliance-Industries-...</td>\n",
              "      <td>3</td>\n",
              "      <td>(Current Employee)  -  Ghansoli  -  August 30,...</td>\n",
              "      <td>Reliance-Industries-Ltd</td>\n",
              "      <td>August 30, 2021</td>\n",
              "    </tr>\n",
              "    <tr>\n",
              "      <th>1</th>\n",
              "      <td>Stressful</td>\n",
              "      <td>1. Need to work on boss's whims and fancies 2....</td>\n",
              "      <td>https://in.indeed.com/cmp/Reliance-Industries-...</td>\n",
              "      <td>3</td>\n",
              "      <td>(Former Employee)  -   -  August 26, 2021</td>\n",
              "      <td>Reliance-Industries-Ltd</td>\n",
              "      <td>August 26, 2021</td>\n",
              "    </tr>\n",
              "    <tr>\n",
              "      <th>2</th>\n",
              "      <td>Good Company for Every employee</td>\n",
              "      <td>Good company for every Engineers dream, Full M...</td>\n",
              "      <td>https://in.indeed.com/cmp/Reliance-Industries-...</td>\n",
              "      <td>5</td>\n",
              "      <td>(Former Employee)  -   -  August 17, 2021</td>\n",
              "      <td>Reliance-Industries-Ltd</td>\n",
              "      <td>August 17, 2021</td>\n",
              "    </tr>\n",
              "    <tr>\n",
              "      <th>3</th>\n",
              "      <td>Productive</td>\n",
              "      <td>I am just pass out bsc in chemistry Typical da...</td>\n",
              "      <td>https://in.indeed.com/cmp/Reliance-Industries-...</td>\n",
              "      <td>5</td>\n",
              "      <td>(Current Employee)  -   -  August 17, 2021</td>\n",
              "      <td>Reliance-Industries-Ltd</td>\n",
              "      <td>August 17, 2021</td>\n",
              "    </tr>\n",
              "    <tr>\n",
              "      <th>4</th>\n",
              "      <td>Non productive</td>\n",
              "      <td>Not so fun at work just blame games  Target pe...</td>\n",
              "      <td>https://in.indeed.com/cmp/Reliance-Industries-...</td>\n",
              "      <td>1</td>\n",
              "      <td>(Former Employee)  -   -  August 9, 2021</td>\n",
              "      <td>Reliance-Industries-Ltd</td>\n",
              "      <td>August 9, 2021</td>\n",
              "    </tr>\n",
              "  </tbody>\n",
              "</table>\n",
              "</div>"
            ],
            "text/plain": [
              "                       ReviewTitle  ...               Date\n",
              "0                       Productive  ...    August 30, 2021\n",
              "1                        Stressful  ...    August 26, 2021\n",
              "2  Good Company for Every employee  ...    August 17, 2021\n",
              "3                       Productive  ...    August 17, 2021\n",
              "4                   Non productive  ...     August 9, 2021\n",
              "\n",
              "[5 rows x 7 columns]"
            ]
          },
          "metadata": {},
          "execution_count": 20
        }
      ]
    },
    {
      "cell_type": "markdown",
      "metadata": {
        "id": "932dbcca"
      },
      "source": [
        "**Make Year, Month, Day Columns**"
      ],
      "id": "932dbcca"
    },
    {
      "cell_type": "code",
      "metadata": {
        "ExecuteTime": {
          "end_time": "2021-09-30T03:39:27.998112Z",
          "start_time": "2021-09-30T03:39:27.504497Z"
        },
        "id": "75b3e69b"
      },
      "source": [
        "df['Year'] = df['Date'].str.split(',', expand=True)[1]"
      ],
      "id": "75b3e69b",
      "execution_count": 21,
      "outputs": []
    },
    {
      "cell_type": "code",
      "metadata": {
        "ExecuteTime": {
          "end_time": "2021-09-30T03:39:28.439186Z",
          "start_time": "2021-09-30T03:39:28.000124Z"
        },
        "id": "19c61624"
      },
      "source": [
        "df['Month'] = df['Date'].str.split(' ', expand=True)[2]"
      ],
      "id": "19c61624",
      "execution_count": 22,
      "outputs": []
    },
    {
      "cell_type": "code",
      "metadata": {
        "ExecuteTime": {
          "end_time": "2021-09-30T03:39:29.098547Z",
          "start_time": "2021-09-30T03:39:28.441297Z"
        },
        "id": "00f5ab15"
      },
      "source": [
        "df['Day'] = df['Date'].str.split(' ', expand=True)[3]\n",
        "df['Day'] = df['Day'].str.replace(',','')"
      ],
      "id": "00f5ab15",
      "execution_count": 23,
      "outputs": []
    },
    {
      "cell_type": "markdown",
      "metadata": {
        "id": "c2ff8759"
      },
      "source": [
        "**Check Columns**"
      ],
      "id": "c2ff8759"
    },
    {
      "cell_type": "markdown",
      "metadata": {
        "id": "31fcefd0"
      },
      "source": [
        "Column `Year`"
      ],
      "id": "31fcefd0"
    },
    {
      "cell_type": "code",
      "metadata": {
        "ExecuteTime": {
          "end_time": "2021-09-30T03:39:29.127675Z",
          "start_time": "2021-09-30T03:39:29.100604Z"
        },
        "colab": {
          "base_uri": "https://localhost:8080/"
        },
        "id": "40f19cfb",
        "outputId": "b9f1bd52-e46a-44f4-df0e-841791ca3a00"
      },
      "source": [
        "df['Year'].unique()"
      ],
      "id": "40f19cfb",
      "execution_count": 24,
      "outputs": [
        {
          "output_type": "execute_result",
          "data": {
            "text/plain": [
              "array([' 2021', ' 2020', ' 2019', ' 2018', ' 2017', ' 2016', None,\n",
              "       ' 2015', ' 2014', ' 2013', ' 2012', ' 2011',\n",
              "       ' GWAL PAHARI GURGAON  ', ' airoli  ', ' Malad west  ',\n",
              "       ' Sp Infocity & Quadra ', ' New Delhi', ' Tamil nadu  ',\n",
              "       'Gurgaon  '], dtype=object)"
            ]
          },
          "metadata": {},
          "execution_count": 24
        }
      ]
    },
    {
      "cell_type": "code",
      "metadata": {
        "ExecuteTime": {
          "end_time": "2021-09-30T03:39:29.354691Z",
          "start_time": "2021-09-30T03:39:29.130182Z"
        },
        "id": "45782d18"
      },
      "source": [
        "df['Year'] = df['Year'].str.replace(' ','')"
      ],
      "id": "45782d18",
      "execution_count": 25,
      "outputs": []
    },
    {
      "cell_type": "code",
      "metadata": {
        "ExecuteTime": {
          "end_time": "2021-09-30T03:39:29.455852Z",
          "start_time": "2021-09-30T03:39:29.356813Z"
        },
        "colab": {
          "base_uri": "https://localhost:8080/"
        },
        "id": "574ecfa5",
        "outputId": "7fb41dab-0476-4ea8-c9f1-68cddf35db4a"
      },
      "source": [
        "df['Year'].unique()"
      ],
      "id": "574ecfa5",
      "execution_count": 26,
      "outputs": [
        {
          "output_type": "execute_result",
          "data": {
            "text/plain": [
              "array(['2021', '2020', '2019', '2018', '2017', '2016', None, '2015',\n",
              "       '2014', '2013', '2012', '2011', 'GWALPAHARIGURGAON', 'airoli',\n",
              "       'Maladwest', 'SpInfocity&Quadra', 'NewDelhi', 'Tamilnadu',\n",
              "       'Gurgaon'], dtype=object)"
            ]
          },
          "metadata": {},
          "execution_count": 26
        }
      ]
    },
    {
      "cell_type": "code",
      "metadata": {
        "ExecuteTime": {
          "end_time": "2021-09-30T03:39:29.610423Z",
          "start_time": "2021-09-30T03:39:29.458634Z"
        },
        "colab": {
          "base_uri": "https://localhost:8080/"
        },
        "id": "73c2e9ba",
        "outputId": "9f18d1e2-c77d-4d82-e4ef-29fc44010ac2"
      },
      "source": [
        "df['Year'].value_counts(sort=False)"
      ],
      "id": "73c2e9ba",
      "execution_count": 27,
      "outputs": [
        {
          "output_type": "execute_result",
          "data": {
            "text/plain": [
              "2014                 15016\n",
              "GWALPAHARIGURGAON        1\n",
              "2016                 15295\n",
              "2018                 15782\n",
              "SpInfocity&Quadra        1\n",
              "2019                 16985\n",
              "2013                 11140\n",
              "2021                  2967\n",
              "2012                  4153\n",
              "airoli                   1\n",
              "Gurgaon                  1\n",
              "Tamilnadu                1\n",
              "2011                    38\n",
              "2020                 12674\n",
              "NewDelhi                 1\n",
              "2015                 13664\n",
              "Maladwest                1\n",
              "2017                 37335\n",
              "Name: Year, dtype: int64"
            ]
          },
          "metadata": {},
          "execution_count": 27
        }
      ]
    },
    {
      "cell_type": "code",
      "metadata": {
        "ExecuteTime": {
          "end_time": "2021-09-30T03:39:29.758723Z",
          "start_time": "2021-09-30T03:39:29.617439Z"
        },
        "colab": {
          "base_uri": "https://localhost:8080/"
        },
        "id": "4868a061",
        "outputId": "a1c5bb53-931a-435f-a6d6-dbecece8b51d"
      },
      "source": [
        "df['Year'].isnull().sum()"
      ],
      "id": "4868a061",
      "execution_count": 28,
      "outputs": [
        {
          "output_type": "execute_result",
          "data": {
            "text/plain": [
              "135"
            ]
          },
          "metadata": {},
          "execution_count": 28
        }
      ]
    },
    {
      "cell_type": "code",
      "metadata": {
        "ExecuteTime": {
          "end_time": "2021-09-30T03:39:29.955658Z",
          "start_time": "2021-09-30T03:39:29.760904Z"
        },
        "id": "577c3f03"
      },
      "source": [
        "valid_year = ['2011', '2012', '2013', '2014', '2014', '2015', \n",
        "               '2016', '2017', '2018', '2019', '2020', '2021']\n",
        "df['Year'] = df['Year'].apply(lambda x:x if x in valid_year else np.nan)"
      ],
      "id": "577c3f03",
      "execution_count": 29,
      "outputs": []
    },
    {
      "cell_type": "code",
      "metadata": {
        "ExecuteTime": {
          "end_time": "2021-09-30T03:39:30.152682Z",
          "start_time": "2021-09-30T03:39:29.957927Z"
        },
        "colab": {
          "base_uri": "https://localhost:8080/"
        },
        "id": "421ba2c0",
        "outputId": "0a025090-4f32-496e-c676-93117c52e2f2"
      },
      "source": [
        "df['Year'].value_counts()"
      ],
      "id": "421ba2c0",
      "execution_count": 30,
      "outputs": [
        {
          "output_type": "execute_result",
          "data": {
            "text/plain": [
              "2017    37335\n",
              "2019    16985\n",
              "2018    15782\n",
              "2016    15295\n",
              "2014    15016\n",
              "2015    13664\n",
              "2020    12674\n",
              "2013    11140\n",
              "2012     4153\n",
              "2021     2967\n",
              "2011       38\n",
              "Name: Year, dtype: int64"
            ]
          },
          "metadata": {},
          "execution_count": 30
        }
      ]
    },
    {
      "cell_type": "code",
      "metadata": {
        "ExecuteTime": {
          "end_time": "2021-09-30T03:39:31.616860Z",
          "start_time": "2021-09-30T03:39:30.155189Z"
        },
        "colab": {
          "base_uri": "https://localhost:8080/"
        },
        "id": "84ccc942",
        "outputId": "02517cd8-59a6-4153-85a2-e9abb92850fa"
      },
      "source": [
        "df['Year'].isnull().sum()"
      ],
      "id": "84ccc942",
      "execution_count": 31,
      "outputs": [
        {
          "output_type": "execute_result",
          "data": {
            "text/plain": [
              "142"
            ]
          },
          "metadata": {},
          "execution_count": 31
        }
      ]
    },
    {
      "cell_type": "markdown",
      "metadata": {
        "id": "de7588ac"
      },
      "source": [
        "Column `Month`"
      ],
      "id": "de7588ac"
    },
    {
      "cell_type": "code",
      "metadata": {
        "ExecuteTime": {
          "end_time": "2021-09-30T03:39:31.731666Z",
          "start_time": "2021-09-30T03:39:31.620371Z"
        },
        "colab": {
          "base_uri": "https://localhost:8080/"
        },
        "id": "145c8d55",
        "outputId": "858e7c0e-52fc-471c-97a3-29238dc64cae"
      },
      "source": [
        "df['Month'].unique()"
      ],
      "id": "145c8d55",
      "execution_count": 32,
      "outputs": [
        {
          "output_type": "execute_result",
          "data": {
            "text/plain": [
              "array(['August', 'July', 'September', 'May', 'June', 'April', 'March',\n",
              "       'February', 'January', 'December', 'November', 'October', '',\n",
              "       'Africa', 'bagh', 'Consultant', 'Road', '9', '.CLUSTER', '(west)',\n",
              "       'West', 'PAHARI', 'mumbai', None, 'west', 'Ramannagar', 'West.',\n",
              "       'Raman', 'park', 'Technohub', 'Solutions', 'Office', 'Estate',\n",
              "       'Infocity', 'Nagar', 'Delhi,', 'Tamil', 'parel', ')', 'Locatino',\n",
              "       'complex'], dtype=object)"
            ]
          },
          "metadata": {},
          "execution_count": 32
        }
      ]
    },
    {
      "cell_type": "code",
      "metadata": {
        "ExecuteTime": {
          "end_time": "2021-09-30T03:39:31.872088Z",
          "start_time": "2021-09-30T03:39:31.734676Z"
        },
        "colab": {
          "base_uri": "https://localhost:8080/"
        },
        "id": "4a44543e",
        "outputId": "49ebcc5e-5db9-4119-88b8-bd9de24543c4"
      },
      "source": [
        "df['Month'].value_counts()"
      ],
      "id": "4a44543e",
      "execution_count": 33,
      "outputs": [
        {
          "output_type": "execute_result",
          "data": {
            "text/plain": [
              "March         15438\n",
              "January       12626\n",
              "June          12573\n",
              "July          12214\n",
              "September     12090\n",
              "February      12008\n",
              "May           11848\n",
              "April         11667\n",
              "August        11635\n",
              "November      11397\n",
              "October       10945\n",
              "December      10608\n",
              "                114\n",
              "bagh              1\n",
              "West.             1\n",
              "parel             1\n",
              ".CLUSTER          1\n",
              "park              1\n",
              "mumbai            1\n",
              "Nagar             1\n",
              "Africa            1\n",
              "Consultant        1\n",
              "Raman             1\n",
              "9                 1\n",
              "West              1\n",
              "Tamil             1\n",
              "Technohub         1\n",
              "Road              1\n",
              "Delhi,            1\n",
              "west              1\n",
              "PAHARI            1\n",
              "Ramannagar        1\n",
              "(west)            1\n",
              "complex           1\n",
              "Solutions         1\n",
              "Locatino          1\n",
              "Infocity          1\n",
              "Estate            1\n",
              ")                 1\n",
              "Office            1\n",
              "Name: Month, dtype: int64"
            ]
          },
          "metadata": {},
          "execution_count": 33
        }
      ]
    },
    {
      "cell_type": "code",
      "metadata": {
        "ExecuteTime": {
          "end_time": "2021-09-30T03:39:32.016098Z",
          "start_time": "2021-09-30T03:39:31.874594Z"
        },
        "colab": {
          "base_uri": "https://localhost:8080/"
        },
        "id": "7a4f4119",
        "outputId": "38d8d79b-badb-4d13-9d94-b2d14424baa6"
      },
      "source": [
        "df['Month'].isnull().sum()"
      ],
      "id": "7a4f4119",
      "execution_count": 34,
      "outputs": [
        {
          "output_type": "execute_result",
          "data": {
            "text/plain": [
              "1"
            ]
          },
          "metadata": {},
          "execution_count": 34
        }
      ]
    },
    {
      "cell_type": "code",
      "metadata": {
        "ExecuteTime": {
          "end_time": "2021-09-30T03:39:32.355494Z",
          "start_time": "2021-09-30T03:39:32.018142Z"
        },
        "id": "7312a87f"
      },
      "source": [
        "valid_month = ['January', 'February', 'March', 'April', 'May', 'June',\n",
        "               'July', 'August', 'September', 'October', 'November', 'December']\n",
        "df['Month'] = df['Month'].apply(lambda x:x if x in valid_month else np.nan)"
      ],
      "id": "7312a87f",
      "execution_count": 35,
      "outputs": []
    },
    {
      "cell_type": "code",
      "metadata": {
        "ExecuteTime": {
          "end_time": "2021-09-30T03:39:32.511663Z",
          "start_time": "2021-09-30T03:39:32.357736Z"
        },
        "colab": {
          "base_uri": "https://localhost:8080/"
        },
        "id": "b46d4c0b",
        "outputId": "0e6c049f-7c66-4188-c585-8fd628c9887a"
      },
      "source": [
        "df['Month'].value_counts()"
      ],
      "id": "b46d4c0b",
      "execution_count": 36,
      "outputs": [
        {
          "output_type": "execute_result",
          "data": {
            "text/plain": [
              "March        15438\n",
              "January      12626\n",
              "June         12573\n",
              "July         12214\n",
              "September    12090\n",
              "February     12008\n",
              "May          11848\n",
              "April        11667\n",
              "August       11635\n",
              "November     11397\n",
              "October      10945\n",
              "December     10608\n",
              "Name: Month, dtype: int64"
            ]
          },
          "metadata": {},
          "execution_count": 36
        }
      ]
    },
    {
      "cell_type": "code",
      "metadata": {
        "ExecuteTime": {
          "end_time": "2021-09-30T03:39:32.673247Z",
          "start_time": "2021-09-30T03:39:32.515172Z"
        },
        "colab": {
          "base_uri": "https://localhost:8080/"
        },
        "id": "6da8ca0a",
        "outputId": "f552c4c4-62d7-462f-8635-4cf7525bc114"
      },
      "source": [
        "df['Month'].isnull().sum()"
      ],
      "id": "6da8ca0a",
      "execution_count": 37,
      "outputs": [
        {
          "output_type": "execute_result",
          "data": {
            "text/plain": [
              "142"
            ]
          },
          "metadata": {},
          "execution_count": 37
        }
      ]
    },
    {
      "cell_type": "markdown",
      "metadata": {
        "id": "93853548"
      },
      "source": [
        "Column `Day`"
      ],
      "id": "93853548"
    },
    {
      "cell_type": "code",
      "metadata": {
        "ExecuteTime": {
          "end_time": "2021-09-30T03:39:32.831874Z",
          "start_time": "2021-09-30T03:39:32.674751Z"
        },
        "colab": {
          "base_uri": "https://localhost:8080/"
        },
        "id": "183e1c52",
        "outputId": "7084524c-1e9e-483a-915d-56a332c3e252"
      },
      "source": [
        "df['Day'].unique()"
      ],
      "id": "183e1c52",
      "execution_count": 38,
      "outputs": [
        {
          "output_type": "execute_result",
          "data": {
            "text/plain": [
              "array(['30', '26', '17', '9', '22', '18', '7', '8', '5', '3', '15', '6',\n",
              "       '20', '2', '16', '10', '31', '23', '11', '28', '24', '21', '19',\n",
              "       '13', '1', '4', '25', '12', '27', '29', '14', None, '',\n",
              "       'chandigarh', '&', 'GURGAON', 'Nagar', 'malad', 'India', 'nadu'],\n",
              "      dtype=object)"
            ]
          },
          "metadata": {},
          "execution_count": 38
        }
      ]
    },
    {
      "cell_type": "code",
      "metadata": {
        "ExecuteTime": {
          "end_time": "2021-09-30T03:39:32.998969Z",
          "start_time": "2021-09-30T03:39:32.834382Z"
        },
        "colab": {
          "base_uri": "https://localhost:8080/"
        },
        "id": "bd78bc3a",
        "outputId": "4f07b778-3e44-480e-f4eb-fd6e75cf9b02"
      },
      "source": [
        "df['Day'].value_counts()"
      ],
      "id": "bd78bc3a",
      "execution_count": 39,
      "outputs": [
        {
          "output_type": "execute_result",
          "data": {
            "text/plain": [
              "5             5159\n",
              "2             4992\n",
              "4             4969\n",
              "21            4929\n",
              "9             4920\n",
              "8             4910\n",
              "3             4910\n",
              "7             4881\n",
              "17            4864\n",
              "12            4842\n",
              "6             4829\n",
              "22            4828\n",
              "20            4825\n",
              "23            4824\n",
              "18            4823\n",
              "16            4812\n",
              "11            4793\n",
              "19            4721\n",
              "25            4709\n",
              "24            4705\n",
              "28            4691\n",
              "26            4684\n",
              "10            4680\n",
              "15            4664\n",
              "27            4660\n",
              "13            4572\n",
              "1             4557\n",
              "14            4466\n",
              "29            4311\n",
              "30            4138\n",
              "31            2381\n",
              "                80\n",
              "&                2\n",
              "GURGAON          1\n",
              "Nagar            1\n",
              "chandigarh       1\n",
              "malad            1\n",
              "nadu             1\n",
              "India            1\n",
              "Name: Day, dtype: int64"
            ]
          },
          "metadata": {},
          "execution_count": 39
        }
      ]
    },
    {
      "cell_type": "code",
      "metadata": {
        "ExecuteTime": {
          "end_time": "2021-09-30T03:39:33.216048Z",
          "start_time": "2021-09-30T03:39:33.001476Z"
        },
        "id": "348f5fce"
      },
      "source": [
        "valid_day = ['1', '2', '3', '4', '5', '6', '7', '8', '9', '10', '11',\n",
        "             '12', '13', '14', '15', '16', '17', '18', '19', '20', '21',\n",
        "             '22', '23', '24', '25', '26', '27', '28', '29', '30', '31']\n",
        "df['Day'] = df['Day'].apply(lambda x:x if x in valid_day else np.nan)"
      ],
      "id": "348f5fce",
      "execution_count": 40,
      "outputs": []
    },
    {
      "cell_type": "code",
      "metadata": {
        "ExecuteTime": {
          "end_time": "2021-09-30T03:39:33.278894Z",
          "start_time": "2021-09-30T03:39:33.218015Z"
        },
        "colab": {
          "base_uri": "https://localhost:8080/"
        },
        "id": "b4d2aeff",
        "outputId": "5c2da4fa-6043-4be5-954c-4bad60bb9ec6"
      },
      "source": [
        "df['Day'].isnull().sum()"
      ],
      "id": "b4d2aeff",
      "execution_count": 41,
      "outputs": [
        {
          "output_type": "execute_result",
          "data": {
            "text/plain": [
              "142"
            ]
          },
          "metadata": {},
          "execution_count": 41
        }
      ]
    },
    {
      "cell_type": "markdown",
      "metadata": {
        "id": "8d8a8e22"
      },
      "source": [
        "**Check Missing Value**"
      ],
      "id": "8d8a8e22"
    },
    {
      "cell_type": "code",
      "metadata": {
        "ExecuteTime": {
          "end_time": "2021-09-30T03:39:33.481935Z",
          "start_time": "2021-09-30T03:39:33.281869Z"
        },
        "colab": {
          "base_uri": "https://localhost:8080/"
        },
        "id": "41932416",
        "outputId": "7f884a1f-476e-450b-b3ab-1da7e63ce56e"
      },
      "source": [
        "df.isnull().sum()"
      ],
      "id": "41932416",
      "execution_count": 42,
      "outputs": [
        {
          "output_type": "execute_result",
          "data": {
            "text/plain": [
              "ReviewTitle         0\n",
              "CompleteReview      0\n",
              "URL                 0\n",
              "Rating              0\n",
              "ReviewDetails       0\n",
              "Company Name        0\n",
              "Date                0\n",
              "Year              142\n",
              "Month             142\n",
              "Day               142\n",
              "dtype: int64"
            ]
          },
          "metadata": {},
          "execution_count": 42
        }
      ]
    },
    {
      "cell_type": "code",
      "metadata": {
        "ExecuteTime": {
          "end_time": "2021-09-30T03:39:33.559701Z",
          "start_time": "2021-09-30T03:39:33.484442Z"
        },
        "colab": {
          "base_uri": "https://localhost:8080/"
        },
        "id": "fa116825",
        "outputId": "ad06b35e-031d-49b9-9340-98f89690f2a0"
      },
      "source": [
        "df.shape"
      ],
      "id": "fa116825",
      "execution_count": 43,
      "outputs": [
        {
          "output_type": "execute_result",
          "data": {
            "text/plain": [
              "(145191, 10)"
            ]
          },
          "metadata": {},
          "execution_count": 43
        }
      ]
    },
    {
      "cell_type": "code",
      "metadata": {
        "ExecuteTime": {
          "end_time": "2021-09-30T03:39:33.953779Z",
          "start_time": "2021-09-30T03:39:33.562207Z"
        },
        "id": "308b5742"
      },
      "source": [
        "df = df.dropna()"
      ],
      "id": "308b5742",
      "execution_count": 44,
      "outputs": []
    },
    {
      "cell_type": "code",
      "metadata": {
        "ExecuteTime": {
          "end_time": "2021-09-30T03:39:33.971239Z",
          "start_time": "2021-09-30T03:39:33.955292Z"
        },
        "colab": {
          "base_uri": "https://localhost:8080/"
        },
        "id": "9404cdfd",
        "outputId": "cf3f41b7-a62a-45b8-f95e-91dd5420a595"
      },
      "source": [
        "df.shape"
      ],
      "id": "9404cdfd",
      "execution_count": 45,
      "outputs": [
        {
          "output_type": "execute_result",
          "data": {
            "text/plain": [
              "(145049, 10)"
            ]
          },
          "metadata": {},
          "execution_count": 45
        }
      ]
    },
    {
      "cell_type": "code",
      "metadata": {
        "ExecuteTime": {
          "end_time": "2021-09-30T03:39:34.212768Z",
          "start_time": "2021-09-30T03:39:33.973244Z"
        },
        "colab": {
          "base_uri": "https://localhost:8080/"
        },
        "id": "d12ca592",
        "outputId": "cd56c84e-8127-4e89-f638-20ea86b9f950"
      },
      "source": [
        "df.isnull().sum()"
      ],
      "id": "d12ca592",
      "execution_count": 46,
      "outputs": [
        {
          "output_type": "execute_result",
          "data": {
            "text/plain": [
              "ReviewTitle       0\n",
              "CompleteReview    0\n",
              "URL               0\n",
              "Rating            0\n",
              "ReviewDetails     0\n",
              "Company Name      0\n",
              "Date              0\n",
              "Year              0\n",
              "Month             0\n",
              "Day               0\n",
              "dtype: int64"
            ]
          },
          "metadata": {},
          "execution_count": 46
        }
      ]
    },
    {
      "cell_type": "markdown",
      "metadata": {
        "id": "52e367c6"
      },
      "source": [
        "**Create Date Columns**"
      ],
      "id": "52e367c6"
    },
    {
      "cell_type": "code",
      "metadata": {
        "ExecuteTime": {
          "end_time": "2021-09-30T03:39:34.846229Z",
          "start_time": "2021-09-30T03:39:34.215775Z"
        },
        "id": "eba7c9af"
      },
      "source": [
        "df['Date'] = df['Year']+df['Month']+df['Day']\n",
        "df['Date'] = pd.to_datetime(df['Date'], format='%Y%B%d')"
      ],
      "id": "eba7c9af",
      "execution_count": 47,
      "outputs": []
    },
    {
      "cell_type": "code",
      "metadata": {
        "ExecuteTime": {
          "end_time": "2021-09-30T03:39:34.931927Z",
          "start_time": "2021-09-30T03:39:34.848235Z"
        },
        "colab": {
          "base_uri": "https://localhost:8080/",
          "height": 289
        },
        "id": "fa8fc147",
        "outputId": "250c2738-1995-4a81-99d1-590031d8ed70"
      },
      "source": [
        "df.head()"
      ],
      "id": "fa8fc147",
      "execution_count": 48,
      "outputs": [
        {
          "output_type": "execute_result",
          "data": {
            "text/html": [
              "<div>\n",
              "<style scoped>\n",
              "    .dataframe tbody tr th:only-of-type {\n",
              "        vertical-align: middle;\n",
              "    }\n",
              "\n",
              "    .dataframe tbody tr th {\n",
              "        vertical-align: top;\n",
              "    }\n",
              "\n",
              "    .dataframe thead th {\n",
              "        text-align: right;\n",
              "    }\n",
              "</style>\n",
              "<table border=\"1\" class=\"dataframe\">\n",
              "  <thead>\n",
              "    <tr style=\"text-align: right;\">\n",
              "      <th></th>\n",
              "      <th>ReviewTitle</th>\n",
              "      <th>CompleteReview</th>\n",
              "      <th>URL</th>\n",
              "      <th>Rating</th>\n",
              "      <th>ReviewDetails</th>\n",
              "      <th>Company Name</th>\n",
              "      <th>Date</th>\n",
              "      <th>Year</th>\n",
              "      <th>Month</th>\n",
              "      <th>Day</th>\n",
              "    </tr>\n",
              "  </thead>\n",
              "  <tbody>\n",
              "    <tr>\n",
              "      <th>0</th>\n",
              "      <td>Productive</td>\n",
              "      <td>Good company, cool workplace, work load little...</td>\n",
              "      <td>https://in.indeed.com/cmp/Reliance-Industries-...</td>\n",
              "      <td>3</td>\n",
              "      <td>(Current Employee)  -  Ghansoli  -  August 30,...</td>\n",
              "      <td>Reliance-Industries-Ltd</td>\n",
              "      <td>2021-08-30</td>\n",
              "      <td>2021</td>\n",
              "      <td>August</td>\n",
              "      <td>30</td>\n",
              "    </tr>\n",
              "    <tr>\n",
              "      <th>1</th>\n",
              "      <td>Stressful</td>\n",
              "      <td>1. Need to work on boss's whims and fancies 2....</td>\n",
              "      <td>https://in.indeed.com/cmp/Reliance-Industries-...</td>\n",
              "      <td>3</td>\n",
              "      <td>(Former Employee)  -   -  August 26, 2021</td>\n",
              "      <td>Reliance-Industries-Ltd</td>\n",
              "      <td>2021-08-26</td>\n",
              "      <td>2021</td>\n",
              "      <td>August</td>\n",
              "      <td>26</td>\n",
              "    </tr>\n",
              "    <tr>\n",
              "      <th>2</th>\n",
              "      <td>Good Company for Every employee</td>\n",
              "      <td>Good company for every Engineers dream, Full M...</td>\n",
              "      <td>https://in.indeed.com/cmp/Reliance-Industries-...</td>\n",
              "      <td>5</td>\n",
              "      <td>(Former Employee)  -   -  August 17, 2021</td>\n",
              "      <td>Reliance-Industries-Ltd</td>\n",
              "      <td>2021-08-17</td>\n",
              "      <td>2021</td>\n",
              "      <td>August</td>\n",
              "      <td>17</td>\n",
              "    </tr>\n",
              "    <tr>\n",
              "      <th>3</th>\n",
              "      <td>Productive</td>\n",
              "      <td>I am just pass out bsc in chemistry Typical da...</td>\n",
              "      <td>https://in.indeed.com/cmp/Reliance-Industries-...</td>\n",
              "      <td>5</td>\n",
              "      <td>(Current Employee)  -   -  August 17, 2021</td>\n",
              "      <td>Reliance-Industries-Ltd</td>\n",
              "      <td>2021-08-17</td>\n",
              "      <td>2021</td>\n",
              "      <td>August</td>\n",
              "      <td>17</td>\n",
              "    </tr>\n",
              "    <tr>\n",
              "      <th>4</th>\n",
              "      <td>Non productive</td>\n",
              "      <td>Not so fun at work just blame games  Target pe...</td>\n",
              "      <td>https://in.indeed.com/cmp/Reliance-Industries-...</td>\n",
              "      <td>1</td>\n",
              "      <td>(Former Employee)  -   -  August 9, 2021</td>\n",
              "      <td>Reliance-Industries-Ltd</td>\n",
              "      <td>2021-08-09</td>\n",
              "      <td>2021</td>\n",
              "      <td>August</td>\n",
              "      <td>9</td>\n",
              "    </tr>\n",
              "  </tbody>\n",
              "</table>\n",
              "</div>"
            ],
            "text/plain": [
              "                       ReviewTitle  ... Day\n",
              "0                       Productive  ...  30\n",
              "1                        Stressful  ...  26\n",
              "2  Good Company for Every employee  ...  17\n",
              "3                       Productive  ...  17\n",
              "4                   Non productive  ...   9\n",
              "\n",
              "[5 rows x 10 columns]"
            ]
          },
          "metadata": {},
          "execution_count": 48
        }
      ]
    },
    {
      "cell_type": "markdown",
      "metadata": {
        "id": "f2b656c6"
      },
      "source": [
        "**Create Employee Status Columns**"
      ],
      "id": "f2b656c6"
    },
    {
      "cell_type": "code",
      "metadata": {
        "ExecuteTime": {
          "end_time": "2021-09-30T03:39:35.546908Z",
          "start_time": "2021-09-30T03:39:34.934434Z"
        },
        "id": "2d0a9204"
      },
      "source": [
        "df['Employee Status'] = df['ReviewDetails'].str.split('-', expand=True)[0]"
      ],
      "id": "2d0a9204",
      "execution_count": 49,
      "outputs": []
    },
    {
      "cell_type": "code",
      "metadata": {
        "ExecuteTime": {
          "end_time": "2021-09-30T03:39:35.582740Z",
          "start_time": "2021-09-30T03:39:35.549149Z"
        },
        "colab": {
          "base_uri": "https://localhost:8080/"
        },
        "id": "2838ef37",
        "outputId": "ff6aa207-7561-4462-c26b-f5739ce486a5"
      },
      "source": [
        "df['Employee Status'].unique()"
      ],
      "id": "2838ef37",
      "execution_count": 50,
      "outputs": [
        {
          "output_type": "execute_result",
          "data": {
            "text/plain": [
              "array(['(Current Employee)  ', '(Former Employee)  ',\n",
              "       'Training   (Former Employee)  ', 'Officer   (Former Employee)  ',\n",
              "       'Leader   (Current Employee)  ',\n",
              "       'health care   (Current Employee)  ',\n",
              "       'Good team worker   (Former Employee)  ',\n",
              "       'Officer   (Current Employee)  ',\n",
              "       'Sr.G.M.Engineering and projects .   (Former Employee)  ',\n",
              "       'Hospitality   (Former Employee)  ',\n",
              "       'Employee   (Current Employee)  ',\n",
              "       'Employee   (Former Employee)  ', 'Worker   (Former Employee)  ',\n",
              "       'SBI PR outbound    (Current Employee)  ',\n",
              "       'PR in SBI outbound    (Current Employee)  ',\n",
              "       'SBI PR    (Former Employee)  ', 'Senior   (Former Employee)  ',\n",
              "       'Sbi inbound    (Current Employee)  ',\n",
              "       'KOTAK CARD    (Current Employee)  ',\n",
              "       'Marketing   (Current Employee)  ', 'Yes   (Current Employee)  ',\n",
              "       'Kotak cardit card    (Current Employee)  ',\n",
              "       'Kotak cards    (Current Employee)  ',\n",
              "       'OFFICER   (Current Employee)  ',\n",
              "       'Marketing   (Former Employee)  ',\n",
              "       'Ocwen, loan verification process    (Current Employee)  ',\n",
              "       'Accounts   (Former Employee)  ', 'officer   (Former Employee)  ',\n",
              "       'Ocwen process    (Current Employee)  ',\n",
              "       'officer   (Current Employee)  ',\n",
              "       'Communications   (Current Employee)  ',\n",
              "       'N/A   (Former Employee)  ', 'SA   (Current Employee)  ',\n",
              "       'Store   (Former Employee)  ', 'Generalist   (Former Employee)  ',\n",
              "       'part time job   (Current Employee)  ',\n",
              "       'Handle the Corportae clients for Sim activations.   (Former Employee)  ',\n",
              "       'training   (Former Employee)  ', 'TRAINING   (Former Employee)  ',\n",
              "       'Inbound process    (Current Employee)  ',\n",
              "       'excellent    (Current Employee)  ',\n",
              "       'health care   (Former Employee)  ',\n",
              "       'Student   (Former Employee)  ', 'yes   (Current Employee)  ',\n",
              "       'hospitality   (Former Employee)  ',\n",
              "       'Good team worker   (Current Employee)  ',\n",
              "       'New Joining    (Current Employee)  ',\n",
              "       'Customer   (Current Employee)  ',\n",
              "       'Applicant   (Current Employee)  ',\n",
              "       'Scenior Transaction Processing Officer.   (Former Employee)  ',\n",
              "       'Expert   (Former Employee)  ', 'Vitality    (Current Employee)  ',\n",
              "       'any job   (Former Employee)  ', 'Support   (Former Employee)  ',\n",
              "       'Yes bank    (Current Employee)  ',\n",
              "       'senior   (Current Employee)  ',\n",
              "       'contracted employee   (Former Employee)  ',\n",
              "       'Floater   (Current Employee)  ', 'Senior   (Current Employee)  ',\n",
              "       'SENIOR   (Current Employee)  ',\n",
              "       'Service Department   (Current Employee)  ',\n",
              "       'work from home   (Former Employee)  ',\n",
              "       'Resident   (Former Employee)  ',\n",
              "       'Serco BPO Pvt. Ltd.   (Current Employee)  ',\n",
              "       'Trainee, Shared Access Distribution Dept.   (Former Employee)  ',\n",
              "       'anonymous   (Former Employee)  ',\n",
              "       'Health care   (Current Employee)  ',\n",
              "       'https://www.indeed.co.in/   (Former Employee)  ',\n",
              "       'Intership   (Former Employee)  ',\n",
              "       'marketing   (Former Employee)  ',\n",
              "       'customer satisfaction offcier, credit cards    (Former Employee)  ',\n",
              "       'contract employee   (Current Employee)  ',\n",
              "       'employee   (Former Employee)  ',\n",
              "       'Training   (Current Employee)  ',\n",
              "       'During B COM.   (Former Employee)  ',\n",
              "       'Team Worker   (Current Employee)  ',\n",
              "       'Leader   (Former Employee)  ',\n",
              "       'Confidential   (Current Employee)  ',\n",
              "       'Current Employee   (Current Employee)  ',\n",
              "       'Anonymous   (Former Employee)  ',\n",
              "       'Sr.Technician ( Mech).   (Former Employee)  ',\n",
              "       'A.F.S.M.   (Current Employee)  ',\n",
              "       'Migrate the project from iway to software AG.   (Former Employee)  ',\n",
              "       'Head   (Former Employee)  ', 'SA   (Former Employee)  ',\n",
              "       'Administration CCO.   (Former Employee)  ',\n",
              "       'Nokia India Pvt Ltd.,   (Current Employee)  ',\n",
              "       'Job seeker for accountancy and fnance fields.   (Current Employee)  ',\n",
              "       'active member   (Former Employee)  ',\n",
              "       'Anonymous   (Current Employee)  ',\n",
              "       'Expert   (Current Employee)  ',\n",
              "       'Gold loan company.   (Former Employee)  ',\n",
              "       'finance   (Former Employee)  ',\n",
              "       'sr T. P.O.   (Current Employee)  ',\n",
              "       'Member   (Current Employee)  ', 'worker   (Former Employee)  ',\n",
              "       'ANY   (Current Employee)  ',\n",
              "       'AS A CSO IN SBI PROCESS    (Current Employee)  ',\n",
              "       'Contract employee   (Former Employee)  ',\n",
              "       'Specialised Infrastructure Er.   (Current Employee)  ',\n",
              "       'Network   (Current Employee)  ', 'any job   (Current Employee)  ',\n",
              "       'N/A   (Current Employee)  ', 'good work    (Former Employee)  ',\n",
              "       'airtel broad bond,   (Former Employee)  ',\n",
              "       'part time   (Current Employee)  ',\n",
              "       'MARKETING   (Former Employee)  ', 'Project   (Former Employee)  ',\n",
              "       'ACCOUNTS   (Current Employee)  ', 'G.A.   (Former Employee)  ',\n",
              "       'part time job   (Former Employee)  ',\n",
              "       'Lead    (Former Employee)  ',\n",
              "       'work from home   (Current Employee)  ',\n",
              "       'L3 level    (Former Employee)  ',\n",
              "       'ANY JOB   (Current Employee)  ',\n",
              "       'Projects   (Current Employee)  ', 'yes   (Former Employee)  ',\n",
              "       'worker   (Current Employee)  ',\n",
              "       'Contract Employee   (Current Employee)  ',\n",
              "       'Alaknanda Hydro Power Co. Ltd.   (Former Employee)  ',\n",
              "       'Part time   (Former Employee)  ',\n",
              "       'Transaction Processing spc.   (Current Employee)  ',\n",
              "       'Worked for the Bank Procurement and customers across the UK.   (Former Employee)  ',\n",
              "       'Aanlyst    (Current Employee)  ', '.   (Current Employee)  ',\n",
              "       'Accounts   (Current Employee)  ',\n",
              "       'I have experience with Transport.   (Current Employee)  ',\n",
              "       'Sr.Technical Sup.(Rotary/Static Equipt.).   (Former Employee)  ',\n",
              "       'Training new staff   (Current Employee)  ',\n",
              "       'DIA (Digital Interactive Advisor).   (Former Employee)  ',\n",
              "       'enthusiastically doing work taking challenges etc.   (Former Employee)  ',\n",
              "       'Former Employee   (Former Employee)  ',\n",
              "       'Test   (Current Employee)  ',\n",
              "       'Oracle Apps Technical    (Current Employee)  ',\n",
              "       'Work Experience   (Current Employee)  ',\n",
              "       'Service   (Former Employee)  ',\n",
              "       'Technology   (Former Employee)  ', 'Staff   (Former Employee)  ',\n",
              "       'confidential   (Former Employee)  ',\n",
              "       'finance   (Current Employee)  ',\n",
              "       'Contract Employee   (Former Employee)  ',\n",
              "       'Head   (Current Employee)  ', 'OFFICER   (Former Employee)  ',\n",
              "       'Middleware Admin MQ/MB/WAS/   (Current Employee)  ',\n",
              "       'Looking for jobs.   (Former Employee)  ',\n",
              "       'head   (Former Employee)  ',\n",
              "       'claims processing excutive    (Former Employee)  ',\n",
              "       'Accenture Solutions Pvt. Ltd.   (Former Employee)  ',\n",
              "       'scanning   (Former Employee)  ',\n",
              "       'HUB ACCOUNT OPERATION ( FOR 89 DAYS ).   (Former Employee)  ',\n",
              "       'Finance department   (Former Employee)  ',\n",
              "       'coex liab.   (Former Employee)  ',\n",
              "       'Admin Dept.   (Former Employee)  ',\n",
              "       'C.P.A.   (Current Employee)  ',\n",
              "       'Full Time Employee   (Current Employee)  ',\n",
              "       'Project ,Change, Major Incident ,Problem.   (Former Employee)  ',\n",
              "       'acting   (Current Employee)  ',\n",
              "       'Health care   (Former Employee)  ',\n",
              "       'operation    (Current Employee)  ',\n",
              "       'Co. Ex.   (Current Employee)  ',\n",
              "       'it is good co. and i learned many thing .   (Current Employee)  ',\n",
              "       'Center of excellence, Quality.   (Current Employee)  ',\n",
              "       'contract employee   (Former Employee)  ',\n",
              "       'I have resigned my job.   (Former Employee)  ',\n",
              "       'member   (Former Employee)  ',\n",
              "       'Full Time Employee   (Former Employee)  ',\n",
              "       'Juniour SAP Support.   (Current Employee)  ',\n",
              "       'Worked as an CSE in IBM concentrix for One Year.   (Former Employee)  ',\n",
              "       'Regular Employee   (Current Employee)  ',\n",
              "       'any jobs   (Former Employee)  ',\n",
              "       'finance department   (Former Employee)  ',\n",
              "       '3+ years of experience in Java Technologies.   (Current Employee)  ',\n",
              "       'SSE , testing    (Current Employee)  ',\n",
              "       'System Egg.   (Former Employee)  ',\n",
              "       'Senior Telecom Engr.   (Current Employee)  ',\n",
              "       'WORKER   (Current Employee)  ',\n",
              "       'Various Positions   (Current Employee)  ',\n",
              "       'Airline Fares and GDS.   (Current Employee)  ',\n",
              "       'QUALITY   (Former Employee)  ',\n",
              "       'PROGRAMER .........   (Former Employee)  '], dtype=object)"
            ]
          },
          "metadata": {},
          "execution_count": 50
        }
      ]
    },
    {
      "cell_type": "code",
      "metadata": {
        "ExecuteTime": {
          "end_time": "2021-09-30T03:39:35.698822Z",
          "start_time": "2021-09-30T03:39:35.585245Z"
        },
        "colab": {
          "base_uri": "https://localhost:8080/"
        },
        "id": "fe45ca9c",
        "outputId": "68b995cd-d438-4793-aae3-f9ec5e1832bb"
      },
      "source": [
        "df['Employee Status']"
      ],
      "id": "fe45ca9c",
      "execution_count": 51,
      "outputs": [
        {
          "output_type": "execute_result",
          "data": {
            "text/plain": [
              "0         (Current Employee)  \n",
              "1          (Former Employee)  \n",
              "2          (Former Employee)  \n",
              "3         (Current Employee)  \n",
              "4          (Former Employee)  \n",
              "                  ...         \n",
              "145186     (Former Employee)  \n",
              "145187     (Former Employee)  \n",
              "145188     (Former Employee)  \n",
              "145189     (Former Employee)  \n",
              "145190     (Former Employee)  \n",
              "Name: Employee Status, Length: 145049, dtype: object"
            ]
          },
          "metadata": {},
          "execution_count": 51
        }
      ]
    },
    {
      "cell_type": "code",
      "metadata": {
        "ExecuteTime": {
          "end_time": "2021-09-30T03:39:35.847235Z",
          "start_time": "2021-09-30T03:39:35.701789Z"
        },
        "id": "2c0fe212"
      },
      "source": [
        "def get_status_employee(row_value):\n",
        "    return 'Former Employee' if 'Former Employee' in row_value else 'Current Employee'"
      ],
      "id": "2c0fe212",
      "execution_count": 52,
      "outputs": []
    },
    {
      "cell_type": "code",
      "metadata": {
        "ExecuteTime": {
          "end_time": "2021-09-30T03:39:38.818041Z",
          "start_time": "2021-09-30T03:39:35.849240Z"
        },
        "id": "d0fd844c"
      },
      "source": [
        "df['Employee Status'] = df.apply(lambda x: get_status_employee(x['Employee Status']), axis=1)"
      ],
      "id": "d0fd844c",
      "execution_count": 53,
      "outputs": []
    },
    {
      "cell_type": "code",
      "metadata": {
        "ExecuteTime": {
          "end_time": "2021-09-30T03:39:38.847622Z",
          "start_time": "2021-09-30T03:39:38.820048Z"
        },
        "colab": {
          "base_uri": "https://localhost:8080/",
          "height": 306
        },
        "id": "b88310a2",
        "outputId": "dad733fe-a68f-43cd-b21d-e36034a0e970"
      },
      "source": [
        "df.head()"
      ],
      "id": "b88310a2",
      "execution_count": 54,
      "outputs": [
        {
          "output_type": "execute_result",
          "data": {
            "text/html": [
              "<div>\n",
              "<style scoped>\n",
              "    .dataframe tbody tr th:only-of-type {\n",
              "        vertical-align: middle;\n",
              "    }\n",
              "\n",
              "    .dataframe tbody tr th {\n",
              "        vertical-align: top;\n",
              "    }\n",
              "\n",
              "    .dataframe thead th {\n",
              "        text-align: right;\n",
              "    }\n",
              "</style>\n",
              "<table border=\"1\" class=\"dataframe\">\n",
              "  <thead>\n",
              "    <tr style=\"text-align: right;\">\n",
              "      <th></th>\n",
              "      <th>ReviewTitle</th>\n",
              "      <th>CompleteReview</th>\n",
              "      <th>URL</th>\n",
              "      <th>Rating</th>\n",
              "      <th>ReviewDetails</th>\n",
              "      <th>Company Name</th>\n",
              "      <th>Date</th>\n",
              "      <th>Year</th>\n",
              "      <th>Month</th>\n",
              "      <th>Day</th>\n",
              "      <th>Employee Status</th>\n",
              "    </tr>\n",
              "  </thead>\n",
              "  <tbody>\n",
              "    <tr>\n",
              "      <th>0</th>\n",
              "      <td>Productive</td>\n",
              "      <td>Good company, cool workplace, work load little...</td>\n",
              "      <td>https://in.indeed.com/cmp/Reliance-Industries-...</td>\n",
              "      <td>3</td>\n",
              "      <td>(Current Employee)  -  Ghansoli  -  August 30,...</td>\n",
              "      <td>Reliance-Industries-Ltd</td>\n",
              "      <td>2021-08-30</td>\n",
              "      <td>2021</td>\n",
              "      <td>August</td>\n",
              "      <td>30</td>\n",
              "      <td>Current Employee</td>\n",
              "    </tr>\n",
              "    <tr>\n",
              "      <th>1</th>\n",
              "      <td>Stressful</td>\n",
              "      <td>1. Need to work on boss's whims and fancies 2....</td>\n",
              "      <td>https://in.indeed.com/cmp/Reliance-Industries-...</td>\n",
              "      <td>3</td>\n",
              "      <td>(Former Employee)  -   -  August 26, 2021</td>\n",
              "      <td>Reliance-Industries-Ltd</td>\n",
              "      <td>2021-08-26</td>\n",
              "      <td>2021</td>\n",
              "      <td>August</td>\n",
              "      <td>26</td>\n",
              "      <td>Former Employee</td>\n",
              "    </tr>\n",
              "    <tr>\n",
              "      <th>2</th>\n",
              "      <td>Good Company for Every employee</td>\n",
              "      <td>Good company for every Engineers dream, Full M...</td>\n",
              "      <td>https://in.indeed.com/cmp/Reliance-Industries-...</td>\n",
              "      <td>5</td>\n",
              "      <td>(Former Employee)  -   -  August 17, 2021</td>\n",
              "      <td>Reliance-Industries-Ltd</td>\n",
              "      <td>2021-08-17</td>\n",
              "      <td>2021</td>\n",
              "      <td>August</td>\n",
              "      <td>17</td>\n",
              "      <td>Former Employee</td>\n",
              "    </tr>\n",
              "    <tr>\n",
              "      <th>3</th>\n",
              "      <td>Productive</td>\n",
              "      <td>I am just pass out bsc in chemistry Typical da...</td>\n",
              "      <td>https://in.indeed.com/cmp/Reliance-Industries-...</td>\n",
              "      <td>5</td>\n",
              "      <td>(Current Employee)  -   -  August 17, 2021</td>\n",
              "      <td>Reliance-Industries-Ltd</td>\n",
              "      <td>2021-08-17</td>\n",
              "      <td>2021</td>\n",
              "      <td>August</td>\n",
              "      <td>17</td>\n",
              "      <td>Current Employee</td>\n",
              "    </tr>\n",
              "    <tr>\n",
              "      <th>4</th>\n",
              "      <td>Non productive</td>\n",
              "      <td>Not so fun at work just blame games  Target pe...</td>\n",
              "      <td>https://in.indeed.com/cmp/Reliance-Industries-...</td>\n",
              "      <td>1</td>\n",
              "      <td>(Former Employee)  -   -  August 9, 2021</td>\n",
              "      <td>Reliance-Industries-Ltd</td>\n",
              "      <td>2021-08-09</td>\n",
              "      <td>2021</td>\n",
              "      <td>August</td>\n",
              "      <td>9</td>\n",
              "      <td>Former Employee</td>\n",
              "    </tr>\n",
              "  </tbody>\n",
              "</table>\n",
              "</div>"
            ],
            "text/plain": [
              "                       ReviewTitle  ...   Employee Status\n",
              "0                       Productive  ...  Current Employee\n",
              "1                        Stressful  ...   Former Employee\n",
              "2  Good Company for Every employee  ...   Former Employee\n",
              "3                       Productive  ...  Current Employee\n",
              "4                   Non productive  ...   Former Employee\n",
              "\n",
              "[5 rows x 11 columns]"
            ]
          },
          "metadata": {},
          "execution_count": 54
        }
      ]
    },
    {
      "cell_type": "markdown",
      "metadata": {
        "id": "394a3db6"
      },
      "source": [
        "## Exploratory Data Analysis (EDA)"
      ],
      "id": "394a3db6"
    },
    {
      "cell_type": "code",
      "metadata": {
        "ExecuteTime": {
          "end_time": "2021-09-30T03:39:39.069238Z",
          "start_time": "2021-09-30T03:39:38.850129Z"
        },
        "id": "7eaf4d31"
      },
      "source": [
        "def make_count_plot(data, xlabel, size_x, size_y):\n",
        "    plt.figure(figsize=(size_x, size_y))\n",
        "    sns.countplot(data)\n",
        "    plt.xlabel(xlabel, fontsize=12)\n",
        "    plt.ylabel('Frequency', fontsize=12)\n",
        "    plt.title(f'Number of Reviews Based on {xlabel}', fontsize=15)\n",
        "    plt.show()"
      ],
      "id": "7eaf4d31",
      "execution_count": 55,
      "outputs": []
    },
    {
      "cell_type": "code",
      "metadata": {
        "ExecuteTime": {
          "end_time": "2021-09-30T03:39:39.281782Z",
          "start_time": "2021-09-30T03:39:39.071242Z"
        },
        "id": "e404eacb"
      },
      "source": [
        "def make_count_plot_hue(data, xlabel, size_x, size_y, hue):\n",
        "    plt.figure(figsize=(size_x, size_y))\n",
        "    sns.countplot(data, hue=hue)\n",
        "    plt.xlabel(xlabel, fontsize=12)\n",
        "    plt.ylabel('Frequency', fontsize=12)\n",
        "    plt.title(f'Number of Reviews Based on {xlabel}', fontsize=15)\n",
        "    plt.show()"
      ],
      "id": "e404eacb",
      "execution_count": 56,
      "outputs": []
    },
    {
      "cell_type": "code",
      "metadata": {
        "ExecuteTime": {
          "end_time": "2021-09-30T03:39:39.483572Z",
          "start_time": "2021-09-30T03:39:39.284288Z"
        },
        "id": "2321ebb9"
      },
      "source": [
        "def make_count_plot_order(data, xlabel, size_x, size_y, order):\n",
        "    plt.figure(figsize=(size_x, size_y))\n",
        "    sns.countplot(data, order=order)\n",
        "    plt.xlabel(xlabel, fontsize=12)\n",
        "    plt.ylabel('Frequency', fontsize=12)\n",
        "    plt.title(f'Number of Reviews Based on {xlabel}', fontsize=15)\n",
        "    plt.show()"
      ],
      "id": "2321ebb9",
      "execution_count": 57,
      "outputs": []
    },
    {
      "cell_type": "markdown",
      "metadata": {
        "id": "3cef8a4b"
      },
      "source": [
        "**Status Employee**"
      ],
      "id": "3cef8a4b"
    },
    {
      "cell_type": "code",
      "metadata": {
        "ExecuteTime": {
          "end_time": "2021-09-30T03:39:41.723010Z",
          "start_time": "2021-09-30T03:39:39.485577Z"
        },
        "colab": {
          "base_uri": "https://localhost:8080/",
          "height": 0
        },
        "id": "7cecd88c",
        "outputId": "bd7216b4-ffaa-482b-f6b2-168125ce4073"
      },
      "source": [
        "make_count_plot(df['Employee Status'], 'Employee Status', 6, 6)"
      ],
      "id": "7cecd88c",
      "execution_count": 58,
      "outputs": [
        {
          "output_type": "display_data",
          "data": {
            "image/png": "[encoded data removed]",
            "text/plain": [
              "<Figure size 432x432 with 1 Axes>"
            ]
          },
          "metadata": {
            "needs_background": "light"
          }
        }
      ]
    },
    {
      "cell_type": "markdown",
      "metadata": {
        "id": "d5ef4964"
      },
      "source": [
        "**Based on Year**"
      ],
      "id": "d5ef4964"
    },
    {
      "cell_type": "code",
      "metadata": {
        "ExecuteTime": {
          "end_time": "2021-09-30T03:39:42.069648Z",
          "start_time": "2021-09-30T03:39:41.725516Z"
        },
        "colab": {
          "base_uri": "https://localhost:8080/",
          "height": 0
        },
        "id": "f28709f6",
        "outputId": "0ba9b034-2652-4792-c264-e9eb633443bb"
      },
      "source": [
        "make_count_plot_order(df['Year'], 'Year', 16, 5, valid_year)"
      ],
      "id": "f28709f6",
      "execution_count": 59,
      "outputs": [
        {
          "output_type": "display_data",
          "data": {
            "image/png": "[encoded data removed]",
            "text/plain": [
              "<Figure size 1152x360 with 1 Axes>"
            ]
          },
          "metadata": {
            "needs_background": "light"
          }
        }
      ]
    },
    {
      "cell_type": "markdown",
      "metadata": {
        "id": "2d28f403"
      },
      "source": [
        "**Based on Month**"
      ],
      "id": "2d28f403"
    },
    {
      "cell_type": "code",
      "metadata": {
        "ExecuteTime": {
          "end_time": "2021-09-30T03:39:42.469902Z",
          "start_time": "2021-09-30T03:39:42.072153Z"
        },
        "colab": {
          "base_uri": "https://localhost:8080/",
          "height": 0
        },
        "id": "6f9c1e5d",
        "outputId": "8357fbce-cbb5-493c-bede-65715f36854c"
      },
      "source": [
        "make_count_plot_order(df['Month'], 'Month', 16, 5, valid_month)"
      ],
      "id": "6f9c1e5d",
      "execution_count": 60,
      "outputs": [
        {
          "output_type": "display_data",
          "data": {
            "image/png": "[encoded data removed]",
            "text/plain": [
              "<Figure size 1152x360 with 1 Axes>"
            ]
          },
          "metadata": {
            "needs_background": "light"
          }
        }
      ]
    },
    {
      "cell_type": "markdown",
      "metadata": {
        "id": "55c2f569"
      },
      "source": [
        "**Rating**"
      ],
      "id": "55c2f569"
    },
    {
      "cell_type": "code",
      "metadata": {
        "ExecuteTime": {
          "end_time": "2021-09-30T03:39:42.658518Z",
          "start_time": "2021-09-30T03:39:42.472410Z"
        },
        "colab": {
          "base_uri": "https://localhost:8080/",
          "height": 0
        },
        "id": "86b45e49",
        "outputId": "808b9a1b-4b1d-4f30-e4cb-27abbba1c0e8"
      },
      "source": [
        "make_count_plot(df['Rating'], 'Rating', 16, 5)"
      ],
      "id": "86b45e49",
      "execution_count": 61,
      "outputs": [
        {
          "output_type": "display_data",
          "data": {
            "image/png": "[encoded data removed]",
            "text/plain": [
              "<Figure size 1152x360 with 1 Axes>"
            ]
          },
          "metadata": {
            "needs_background": "light"
          }
        }
      ]
    },
    {
      "cell_type": "markdown",
      "metadata": {
        "id": "2a50d931"
      },
      "source": [
        "**Company Name**"
      ],
      "id": "2a50d931"
    },
    {
      "cell_type": "code",
      "metadata": {
        "ExecuteTime": {
          "end_time": "2021-09-30T03:39:44.760930Z",
          "start_time": "2021-09-30T03:39:42.661026Z"
        },
        "colab": {
          "base_uri": "https://localhost:8080/",
          "height": 0
        },
        "id": "55b261a4",
        "outputId": "146e40e1-5a24-4b89-ada6-2e0fc9907db6"
      },
      "source": [
        "plt.figure(figsize=(16,5))\n",
        "df_company = df['Company Name'].value_counts()\n",
        "sns.barplot(x=df_company.index,\n",
        "            y=df_company)\n",
        "plt.xticks(rotation=90)\n",
        "plt.show()"
      ],
      "id": "55b261a4",
      "execution_count": 62,
      "outputs": [
        {
          "output_type": "display_data",
          "data": {
            "image/png": "[encoded data removed]",
            "text/plain": [
              "<Figure size 1152x360 with 1 Axes>"
            ]
          },
          "metadata": {
            "needs_background": "light"
          }
        }
      ]
    },
    {
      "cell_type": "markdown",
      "metadata": {
        "id": "16025e6d"
      },
      "source": [
        "**Rating Based on Employee Status**"
      ],
      "id": "16025e6d"
    },
    {
      "cell_type": "code",
      "metadata": {
        "ExecuteTime": {
          "end_time": "2021-09-30T03:39:45.171796Z",
          "start_time": "2021-09-30T03:39:44.763902Z"
        },
        "colab": {
          "base_uri": "https://localhost:8080/",
          "height": 0
        },
        "id": "252c5c94",
        "outputId": "15a20836-8835-4505-941e-0e0c3a4e0f06"
      },
      "source": [
        "make_count_plot_hue(df['Rating'], 'Rating', 16, 5, hue=df['Employee Status'])"
      ],
      "id": "252c5c94",
      "execution_count": 63,
      "outputs": [
        {
          "output_type": "display_data",
          "data": {
            "image/png": "[encoded data removed]",
            "text/plain": [
              "<Figure size 1152x360 with 1 Axes>"
            ]
          },
          "metadata": {
            "needs_background": "light"
          }
        }
      ]
    },
    {
      "cell_type": "markdown",
      "metadata": {
        "id": "e787a527"
      },
      "source": [
        "## Build Model"
      ],
      "id": "e787a527"
    },
    {
      "cell_type": "code",
      "metadata": {
        "ExecuteTime": {
          "end_time": "2021-09-30T03:39:45.217552Z",
          "start_time": "2021-09-30T03:39:45.173802Z"
        },
        "id": "b934b683"
      },
      "source": [
        "df['Category'] = df['Rating'].replace({1:'Negative', 2:'Negative', 3:'Neutral', 4:'Positive', 5:'Positive'})"
      ],
      "id": "b934b683",
      "execution_count": 64,
      "outputs": []
    },
    {
      "cell_type": "code",
      "metadata": {
        "ExecuteTime": {
          "end_time": "2021-09-30T03:39:45.592501Z",
          "start_time": "2021-09-30T03:39:45.219057Z"
        },
        "id": "986631d1"
      },
      "source": [
        "df = df.reset_index(drop=True)"
      ],
      "id": "986631d1",
      "execution_count": 65,
      "outputs": []
    },
    {
      "cell_type": "code",
      "metadata": {
        "ExecuteTime": {
          "end_time": "2021-09-30T03:39:45.646089Z",
          "start_time": "2021-09-30T03:39:45.594755Z"
        },
        "colab": {
          "base_uri": "https://localhost:8080/",
          "height": 261
        },
        "id": "8db90a32",
        "outputId": "38792f6a-130a-4e87-92f7-49c811e4de35"
      },
      "source": [
        "df.head(3)"
      ],
      "id": "8db90a32",
      "execution_count": 66,
      "outputs": [
        {
          "output_type": "execute_result",
          "data": {
            "text/html": [
              "<div>\n",
              "<style scoped>\n",
              "    .dataframe tbody tr th:only-of-type {\n",
              "        vertical-align: middle;\n",
              "    }\n",
              "\n",
              "    .dataframe tbody tr th {\n",
              "        vertical-align: top;\n",
              "    }\n",
              "\n",
              "    .dataframe thead th {\n",
              "        text-align: right;\n",
              "    }\n",
              "</style>\n",
              "<table border=\"1\" class=\"dataframe\">\n",
              "  <thead>\n",
              "    <tr style=\"text-align: right;\">\n",
              "      <th></th>\n",
              "      <th>ReviewTitle</th>\n",
              "      <th>CompleteReview</th>\n",
              "      <th>URL</th>\n",
              "      <th>Rating</th>\n",
              "      <th>ReviewDetails</th>\n",
              "      <th>Company Name</th>\n",
              "      <th>Date</th>\n",
              "      <th>Year</th>\n",
              "      <th>Month</th>\n",
              "      <th>Day</th>\n",
              "      <th>Employee Status</th>\n",
              "      <th>Category</th>\n",
              "    </tr>\n",
              "  </thead>\n",
              "  <tbody>\n",
              "    <tr>\n",
              "      <th>0</th>\n",
              "      <td>Productive</td>\n",
              "      <td>Good company, cool workplace, work load little...</td>\n",
              "      <td>https://in.indeed.com/cmp/Reliance-Industries-...</td>\n",
              "      <td>3</td>\n",
              "      <td>(Current Employee)  -  Ghansoli  -  August 30,...</td>\n",
              "      <td>Reliance-Industries-Ltd</td>\n",
              "      <td>2021-08-30</td>\n",
              "      <td>2021</td>\n",
              "      <td>August</td>\n",
              "      <td>30</td>\n",
              "      <td>Current Employee</td>\n",
              "      <td>Neutral</td>\n",
              "    </tr>\n",
              "    <tr>\n",
              "      <th>1</th>\n",
              "      <td>Stressful</td>\n",
              "      <td>1. Need to work on boss's whims and fancies 2....</td>\n",
              "      <td>https://in.indeed.com/cmp/Reliance-Industries-...</td>\n",
              "      <td>3</td>\n",
              "      <td>(Former Employee)  -   -  August 26, 2021</td>\n",
              "      <td>Reliance-Industries-Ltd</td>\n",
              "      <td>2021-08-26</td>\n",
              "      <td>2021</td>\n",
              "      <td>August</td>\n",
              "      <td>26</td>\n",
              "      <td>Former Employee</td>\n",
              "      <td>Neutral</td>\n",
              "    </tr>\n",
              "    <tr>\n",
              "      <th>2</th>\n",
              "      <td>Good Company for Every employee</td>\n",
              "      <td>Good company for every Engineers dream, Full M...</td>\n",
              "      <td>https://in.indeed.com/cmp/Reliance-Industries-...</td>\n",
              "      <td>5</td>\n",
              "      <td>(Former Employee)  -   -  August 17, 2021</td>\n",
              "      <td>Reliance-Industries-Ltd</td>\n",
              "      <td>2021-08-17</td>\n",
              "      <td>2021</td>\n",
              "      <td>August</td>\n",
              "      <td>17</td>\n",
              "      <td>Former Employee</td>\n",
              "      <td>Positive</td>\n",
              "    </tr>\n",
              "  </tbody>\n",
              "</table>\n",
              "</div>"
            ],
            "text/plain": [
              "                       ReviewTitle  ...  Category\n",
              "0                       Productive  ...   Neutral\n",
              "1                        Stressful  ...   Neutral\n",
              "2  Good Company for Every employee  ...  Positive\n",
              "\n",
              "[3 rows x 12 columns]"
            ]
          },
          "metadata": {},
          "execution_count": 66
        }
      ]
    },
    {
      "cell_type": "code",
      "metadata": {
        "ExecuteTime": {
          "end_time": "2021-09-30T05:49:43.148494Z",
          "start_time": "2021-09-30T05:49:43.138004Z"
        },
        "id": "db5826af"
      },
      "source": [
        "df_grp_1 = df['Category'].value_counts()"
      ],
      "id": "db5826af",
      "execution_count": 67,
      "outputs": []
    },
    {
      "cell_type": "markdown",
      "metadata": {
        "id": "eb7a8646"
      },
      "source": [
        "## Build Model Without Oversampling"
      ],
      "id": "eb7a8646"
    },
    {
      "cell_type": "markdown",
      "metadata": {
        "id": "869bc979"
      },
      "source": [
        "### Number of Review"
      ],
      "id": "869bc979"
    },
    {
      "cell_type": "code",
      "metadata": {
        "ExecuteTime": {
          "end_time": "2021-09-30T05:52:02.313770Z",
          "start_time": "2021-09-30T05:52:01.987189Z"
        },
        "colab": {
          "base_uri": "https://localhost:8080/",
          "height": 518
        },
        "id": "b3eddc40",
        "outputId": "d88cbb30-aff7-461e-c8cf-2181681b9acc"
      },
      "source": [
        "plt.figure(figsize=(8,8))\n",
        "sns.barplot(x=df_grp_1.index, y=df_grp_1)\n",
        "plt.xlabel('Class')\n",
        "plt.ylabel('Frequency')\n",
        "plt.title('Number of Reviews based on class')\n",
        "plt.show()"
      ],
      "id": "b3eddc40",
      "execution_count": 68,
      "outputs": [
        {
          "output_type": "display_data",
          "data": {
            "image/png": "[encoded data removed]",
            "text/plain": [
              "<Figure size 576x576 with 1 Axes>"
            ]
          },
          "metadata": {
            "needs_background": "light"
          }
        }
      ]
    },
    {
      "cell_type": "markdown",
      "metadata": {
        "id": "1d6120d4"
      },
      "source": [
        "### Text Preprocessing"
      ],
      "id": "1d6120d4"
    },
    {
      "cell_type": "markdown",
      "metadata": {
        "id": "fd16558f"
      },
      "source": [
        "**One Hot Encoding**"
      ],
      "id": "fd16558f"
    },
    {
      "cell_type": "code",
      "metadata": {
        "ExecuteTime": {
          "end_time": "2021-09-30T05:53:36.743036Z",
          "start_time": "2021-09-30T05:53:36.595085Z"
        },
        "colab": {
          "base_uri": "https://localhost:8080/",
          "height": 204
        },
        "id": "4732c5be",
        "outputId": "4b4b722d-6fe7-44ed-911c-b0809a224afe"
      },
      "source": [
        "ohe = OneHotEncoder(sparse=False, handle_unknown='ignore')\n",
        "df_category = pd.DataFrame(ohe.fit_transform(df[['Category']]))\n",
        "df_category.columns = df['Category'].sort_values().unique()\n",
        "df_category = df_category.astype('int64')\n",
        "df_category.head()"
      ],
      "id": "4732c5be",
      "execution_count": 69,
      "outputs": [
        {
          "output_type": "execute_result",
          "data": {
            "text/html": [
              "<div>\n",
              "<style scoped>\n",
              "    .dataframe tbody tr th:only-of-type {\n",
              "        vertical-align: middle;\n",
              "    }\n",
              "\n",
              "    .dataframe tbody tr th {\n",
              "        vertical-align: top;\n",
              "    }\n",
              "\n",
              "    .dataframe thead th {\n",
              "        text-align: right;\n",
              "    }\n",
              "</style>\n",
              "<table border=\"1\" class=\"dataframe\">\n",
              "  <thead>\n",
              "    <tr style=\"text-align: right;\">\n",
              "      <th></th>\n",
              "      <th>Negative</th>\n",
              "      <th>Neutral</th>\n",
              "      <th>Positive</th>\n",
              "    </tr>\n",
              "  </thead>\n",
              "  <tbody>\n",
              "    <tr>\n",
              "      <th>0</th>\n",
              "      <td>0</td>\n",
              "      <td>1</td>\n",
              "      <td>0</td>\n",
              "    </tr>\n",
              "    <tr>\n",
              "      <th>1</th>\n",
              "      <td>0</td>\n",
              "      <td>1</td>\n",
              "      <td>0</td>\n",
              "    </tr>\n",
              "    <tr>\n",
              "      <th>2</th>\n",
              "      <td>0</td>\n",
              "      <td>0</td>\n",
              "      <td>1</td>\n",
              "    </tr>\n",
              "    <tr>\n",
              "      <th>3</th>\n",
              "      <td>0</td>\n",
              "      <td>0</td>\n",
              "      <td>1</td>\n",
              "    </tr>\n",
              "    <tr>\n",
              "      <th>4</th>\n",
              "      <td>1</td>\n",
              "      <td>0</td>\n",
              "      <td>0</td>\n",
              "    </tr>\n",
              "  </tbody>\n",
              "</table>\n",
              "</div>"
            ],
            "text/plain": [
              "   Negative  Neutral  Positive\n",
              "0         0        1         0\n",
              "1         0        1         0\n",
              "2         0        0         1\n",
              "3         0        0         1\n",
              "4         1        0         0"
            ]
          },
          "metadata": {},
          "execution_count": 69
        }
      ]
    },
    {
      "cell_type": "markdown",
      "metadata": {
        "id": "b1a88f80"
      },
      "source": [
        "**Create New Dataframe**"
      ],
      "id": "b1a88f80"
    },
    {
      "cell_type": "code",
      "metadata": {
        "ExecuteTime": {
          "end_time": "2021-09-30T05:53:46.301429Z",
          "start_time": "2021-09-30T05:53:42.197677Z"
        },
        "id": "355a1cb8"
      },
      "source": [
        "df_new = pd.concat([df['CompleteReview'], df_category], axis=1)"
      ],
      "id": "355a1cb8",
      "execution_count": 70,
      "outputs": []
    },
    {
      "cell_type": "code",
      "metadata": {
        "ExecuteTime": {
          "end_time": "2021-09-30T05:53:48.110536Z",
          "start_time": "2021-09-30T05:53:48.096999Z"
        },
        "colab": {
          "base_uri": "https://localhost:8080/",
          "height": 419
        },
        "id": "d726b9e5",
        "outputId": "081ef2fc-5171-4840-d1b9-727d9acc5a89"
      },
      "source": [
        "df_new"
      ],
      "id": "d726b9e5",
      "execution_count": 71,
      "outputs": [
        {
          "output_type": "execute_result",
          "data": {
            "text/html": [
              "<div>\n",
              "<style scoped>\n",
              "    .dataframe tbody tr th:only-of-type {\n",
              "        vertical-align: middle;\n",
              "    }\n",
              "\n",
              "    .dataframe tbody tr th {\n",
              "        vertical-align: top;\n",
              "    }\n",
              "\n",
              "    .dataframe thead th {\n",
              "        text-align: right;\n",
              "    }\n",
              "</style>\n",
              "<table border=\"1\" class=\"dataframe\">\n",
              "  <thead>\n",
              "    <tr style=\"text-align: right;\">\n",
              "      <th></th>\n",
              "      <th>CompleteReview</th>\n",
              "      <th>Negative</th>\n",
              "      <th>Neutral</th>\n",
              "      <th>Positive</th>\n",
              "    </tr>\n",
              "  </thead>\n",
              "  <tbody>\n",
              "    <tr>\n",
              "      <th>0</th>\n",
              "      <td>Good company, cool workplace, work load little...</td>\n",
              "      <td>0</td>\n",
              "      <td>1</td>\n",
              "      <td>0</td>\n",
              "    </tr>\n",
              "    <tr>\n",
              "      <th>1</th>\n",
              "      <td>1. Need to work on boss's whims and fancies 2....</td>\n",
              "      <td>0</td>\n",
              "      <td>1</td>\n",
              "      <td>0</td>\n",
              "    </tr>\n",
              "    <tr>\n",
              "      <th>2</th>\n",
              "      <td>Good company for every Engineers dream, Full M...</td>\n",
              "      <td>0</td>\n",
              "      <td>0</td>\n",
              "      <td>1</td>\n",
              "    </tr>\n",
              "    <tr>\n",
              "      <th>3</th>\n",
              "      <td>I am just pass out bsc in chemistry Typical da...</td>\n",
              "      <td>0</td>\n",
              "      <td>0</td>\n",
              "      <td>1</td>\n",
              "    </tr>\n",
              "    <tr>\n",
              "      <th>4</th>\n",
              "      <td>Not so fun at work just blame games  Target pe...</td>\n",
              "      <td>1</td>\n",
              "      <td>0</td>\n",
              "      <td>0</td>\n",
              "    </tr>\n",
              "    <tr>\n",
              "      <th>...</th>\n",
              "      <td>...</td>\n",
              "      <td>...</td>\n",
              "      <td>...</td>\n",
              "      <td>...</td>\n",
              "    </tr>\n",
              "    <tr>\n",
              "      <th>145044</th>\n",
              "      <td>We get a lot to learn in the company. Very sys...</td>\n",
              "      <td>0</td>\n",
              "      <td>0</td>\n",
              "      <td>1</td>\n",
              "    </tr>\n",
              "    <tr>\n",
              "      <th>145045</th>\n",
              "      <td>Lot of scope to learn different technologies u...</td>\n",
              "      <td>0</td>\n",
              "      <td>0</td>\n",
              "      <td>1</td>\n",
              "    </tr>\n",
              "    <tr>\n",
              "      <th>145046</th>\n",
              "      <td>An overall positive experience, nice environme...</td>\n",
              "      <td>0</td>\n",
              "      <td>0</td>\n",
              "      <td>1</td>\n",
              "    </tr>\n",
              "    <tr>\n",
              "      <th>145047</th>\n",
              "      <td>Happy that I've started my career from such a ...</td>\n",
              "      <td>0</td>\n",
              "      <td>1</td>\n",
              "      <td>0</td>\n",
              "    </tr>\n",
              "    <tr>\n",
              "      <th>145048</th>\n",
              "      <td>Got good experience and knowledge about my wor...</td>\n",
              "      <td>0</td>\n",
              "      <td>0</td>\n",
              "      <td>1</td>\n",
              "    </tr>\n",
              "  </tbody>\n",
              "</table>\n",
              "<p>145049 rows × 4 columns</p>\n",
              "</div>"
            ],
            "text/plain": [
              "                                           CompleteReview  ...  Positive\n",
              "0       Good company, cool workplace, work load little...  ...         0\n",
              "1       1. Need to work on boss's whims and fancies 2....  ...         0\n",
              "2       Good company for every Engineers dream, Full M...  ...         1\n",
              "3       I am just pass out bsc in chemistry Typical da...  ...         1\n",
              "4       Not so fun at work just blame games  Target pe...  ...         0\n",
              "...                                                   ...  ...       ...\n",
              "145044  We get a lot to learn in the company. Very sys...  ...         1\n",
              "145045  Lot of scope to learn different technologies u...  ...         1\n",
              "145046  An overall positive experience, nice environme...  ...         1\n",
              "145047  Happy that I've started my career from such a ...  ...         0\n",
              "145048  Got good experience and knowledge about my wor...  ...         1\n",
              "\n",
              "[145049 rows x 4 columns]"
            ]
          },
          "metadata": {},
          "execution_count": 71
        }
      ]
    },
    {
      "cell_type": "markdown",
      "metadata": {
        "id": "f275e9ed"
      },
      "source": [
        "**Example**"
      ],
      "id": "f275e9ed"
    },
    {
      "cell_type": "code",
      "metadata": {
        "ExecuteTime": {
          "end_time": "2021-09-30T07:41:59.142732Z",
          "start_time": "2021-09-30T07:41:59.074048Z"
        },
        "colab": {
          "base_uri": "https://localhost:8080/",
          "height": 69
        },
        "id": "e02ad1ff",
        "outputId": "c46382fa-1838-4267-8076-4379cbe22053"
      },
      "source": [
        "example = df_new['CompleteReview'].copy()[1]\n",
        "example"
      ],
      "id": "e02ad1ff",
      "execution_count": 72,
      "outputs": [
        {
          "output_type": "execute_result",
          "data": {
            "application/vnd.google.colaboratory.intrinsic+json": {
              "type": "string"
            },
            "text/plain": [
              "\"1. Need to work on boss's whims and fancies 2. Priorities keep changing 3. No regards for work life balance 4. Completing the work before time is stressed too much than completing it well. Involves lots of reworking, blame games; etc. 5. No job boundaries, you will be asked to do any work depending on the requirements.\""
            ]
          },
          "metadata": {},
          "execution_count": 72
        }
      ]
    },
    {
      "cell_type": "code",
      "metadata": {
        "ExecuteTime": {
          "end_time": "2021-09-30T07:36:55.129798Z",
          "start_time": "2021-09-30T07:36:54.944846Z"
        },
        "id": "271901db"
      },
      "source": [
        "ps = PorterStemmer()\n",
        "stop_en = stopwords.words('english')"
      ],
      "id": "271901db",
      "execution_count": 73,
      "outputs": []
    },
    {
      "cell_type": "code",
      "metadata": {
        "ExecuteTime": {
          "end_time": "2021-09-30T07:42:02.363700Z",
          "start_time": "2021-09-30T07:42:02.357684Z"
        },
        "colab": {
          "base_uri": "https://localhost:8080/"
        },
        "id": "0a617365",
        "outputId": "9b98bb0c-5ed1-41c2-9d27-aa3605eb13ab"
      },
      "source": [
        "text_process = re.sub('[^a-zA-Z]', ' ', example).lower().split()\n",
        "text_process[:5]"
      ],
      "id": "0a617365",
      "execution_count": 74,
      "outputs": [
        {
          "output_type": "execute_result",
          "data": {
            "text/plain": [
              "['need', 'to', 'work', 'on', 'boss']"
            ]
          },
          "metadata": {},
          "execution_count": 74
        }
      ]
    },
    {
      "cell_type": "code",
      "metadata": {
        "ExecuteTime": {
          "end_time": "2021-09-30T07:42:03.096468Z",
          "start_time": "2021-09-30T07:42:03.091455Z"
        },
        "colab": {
          "base_uri": "https://localhost:8080/"
        },
        "id": "5aea31cf",
        "outputId": "b93157a6-6e2c-43f3-ce1b-485f4fbc6283"
      },
      "source": [
        "text_process = [word for word in text_process if not word in stop_en]\n",
        "text_process[:5]"
      ],
      "id": "5aea31cf",
      "execution_count": 75,
      "outputs": [
        {
          "output_type": "execute_result",
          "data": {
            "text/plain": [
              "['need', 'work', 'boss', 'whims', 'fancies']"
            ]
          },
          "metadata": {},
          "execution_count": 75
        }
      ]
    },
    {
      "cell_type": "code",
      "metadata": {
        "ExecuteTime": {
          "end_time": "2021-09-30T07:42:03.680720Z",
          "start_time": "2021-09-30T07:42:03.674705Z"
        },
        "colab": {
          "base_uri": "https://localhost:8080/"
        },
        "id": "45f5736e",
        "outputId": "ee03e4f3-79a6-4e1b-ab8b-f20c2edcdea7"
      },
      "source": [
        "text_process = [ps.stem(word) for word in text_process]\n",
        "text_process[:5]"
      ],
      "id": "45f5736e",
      "execution_count": 76,
      "outputs": [
        {
          "output_type": "execute_result",
          "data": {
            "text/plain": [
              "['need', 'work', 'boss', 'whim', 'fanci']"
            ]
          },
          "metadata": {},
          "execution_count": 76
        }
      ]
    },
    {
      "cell_type": "code",
      "metadata": {
        "ExecuteTime": {
          "end_time": "2021-09-30T07:42:04.295102Z",
          "start_time": "2021-09-30T07:42:04.290589Z"
        },
        "colab": {
          "base_uri": "https://localhost:8080/",
          "height": 52
        },
        "id": "605fdf48",
        "outputId": "bb25ebe2-59b8-421f-b310-9644c00ee213"
      },
      "source": [
        "combined = ''\n",
        "for text in text_process:\n",
        "    combined = combined + text + ' '\n",
        "combined"
      ],
      "id": "605fdf48",
      "execution_count": 77,
      "outputs": [
        {
          "output_type": "execute_result",
          "data": {
            "application/vnd.google.colaboratory.intrinsic+json": {
              "type": "string"
            },
            "text/plain": [
              "'need work boss whim fanci prioriti keep chang regard work life balanc complet work time stress much complet well involv lot rework blame game etc job boundari ask work depend requir '"
            ]
          },
          "metadata": {},
          "execution_count": 77
        }
      ]
    },
    {
      "cell_type": "markdown",
      "metadata": {
        "id": "322de954"
      },
      "source": [
        "**Create Function for Text Processing**"
      ],
      "id": "322de954"
    },
    {
      "cell_type": "code",
      "metadata": {
        "ExecuteTime": {
          "end_time": "2021-09-30T07:44:55.095842Z",
          "start_time": "2021-09-30T07:44:54.931883Z"
        },
        "id": "f0226a78"
      },
      "source": [
        "def text_preprocessing(texts):\n",
        "    text_list = []\n",
        "    for i in range(len(texts)):\n",
        "        text_process = re.sub('[^a-zA-Z]', ' ', texts[i]).lower().split()\n",
        "        text_process = [word for word in text_process if not word in stop_en]\n",
        "        text_process = [ps.stem(word) for word in text_process]\n",
        "        combined = ''\n",
        "        for text in text_process:\n",
        "            combined = combined + text + ' '\n",
        "        text_list.append(combined)\n",
        "    return text_list"
      ],
      "id": "f0226a78",
      "execution_count": 78,
      "outputs": []
    },
    {
      "cell_type": "markdown",
      "metadata": {
        "id": "cMyo-kMasQLc"
      },
      "source": [
        "**Process Text**"
      ],
      "id": "cMyo-kMasQLc"
    },
    {
      "cell_type": "code",
      "metadata": {
        "id": "fW1A9_R3sWAk"
      },
      "source": [
        "review = df_new['CompleteReview'].copy()\n",
        "target = df_new[['Negative', 'Neutral', 'Positive']].copy()"
      ],
      "id": "fW1A9_R3sWAk",
      "execution_count": 80,
      "outputs": []
    },
    {
      "cell_type": "code",
      "metadata": {
        "id": "geb_f1O-sUh1"
      },
      "source": [
        "review = text_preprocessing(review)"
      ],
      "id": "geb_f1O-sUh1",
      "execution_count": 81,
      "outputs": []
    },
    {
      "cell_type": "code",
      "metadata": {
        "id": "uFkuu8-Ms8Ik"
      },
      "source": [
        "target = target.values"
      ],
      "id": "uFkuu8-Ms8Ik",
      "execution_count": 83,
      "outputs": []
    },
    {
      "cell_type": "code",
      "metadata": {
        "colab": {
          "base_uri": "https://localhost:8080/"
        },
        "id": "gVazWtWss8Lf",
        "outputId": "cb815167-3522-4d1d-f7ec-a57a6c58a8f1"
      },
      "source": [
        "review[:5]"
      ],
      "id": "gVazWtWss8Lf",
      "execution_count": 84,
      "outputs": [
        {
          "output_type": "execute_result",
          "data": {
            "text/plain": [
              "['good compani cool workplac work load littl bit higher clean environ disciplin good cantin big campu systemat workflow lenient reliabl firm ',\n",
              " 'need work boss whim fanci prioriti keep chang regard work life balanc complet work time stress much complet well involv lot rework blame game etc job boundari ask work depend requir ',\n",
              " 'good compani everi engin dream full mediclaim entir famili free transport servic compani locat home township cultur employe job secur ',\n",
              " 'pass bsc chemistri typic day work mangement work place good enjoy part job learn inform compani ',\n",
              " 'fun work blame game target peopl less target work paid less increment make feel low much stress one understand ']"
            ]
          },
          "metadata": {},
          "execution_count": 84
        }
      ]
    },
    {
      "cell_type": "code",
      "metadata": {
        "colab": {
          "base_uri": "https://localhost:8080/"
        },
        "id": "pkXBsrbRti6j",
        "outputId": "4db86adf-fd0c-4f63-a7e8-08ac21197c26"
      },
      "source": [
        "target[:5]"
      ],
      "id": "pkXBsrbRti6j",
      "execution_count": 85,
      "outputs": [
        {
          "output_type": "execute_result",
          "data": {
            "text/plain": [
              "array([[0, 1, 0],\n",
              "       [0, 1, 0],\n",
              "       [0, 0, 1],\n",
              "       [0, 0, 1],\n",
              "       [1, 0, 0]])"
            ]
          },
          "metadata": {},
          "execution_count": 85
        }
      ]
    },
    {
      "cell_type": "markdown",
      "metadata": {
        "id": "oNs6mEyHtn-a"
      },
      "source": [
        "**Build Model**"
      ],
      "id": "oNs6mEyHtn-a"
    },
    {
      "cell_type": "code",
      "metadata": {
        "id": "MPLdPDqjtnMk"
      },
      "source": [
        "X_train, X_test, y_train, y_test = train_test_split(review, target, test_size=0.2, random_state=0)"
      ],
      "id": "MPLdPDqjtnMk",
      "execution_count": 86,
      "outputs": []
    },
    {
      "cell_type": "code",
      "metadata": {
        "id": "Anej0EoZt15m"
      },
      "source": [
        "tokenizer = Tokenizer(num_words=10000, oov_token='-')\n",
        "tokenizer.fit_on_texts(X_train)\n",
        "tokenizer.fit_on_texts(X_test)\n",
        "\n",
        "sequence_train = tokenizer.texts_to_sequences(X_train)\n",
        "sequence_test = tokenizer.texts_to_sequences(X_test)\n",
        "\n",
        "pad_train = pad_sequences(sequence_train)\n",
        "pad_test = pad_sequences(sequence_test)"
      ],
      "id": "Anej0EoZt15m",
      "execution_count": 89,
      "outputs": []
    },
    {
      "cell_type": "markdown",
      "metadata": {
        "id": "gh_tFTqmuCVK"
      },
      "source": [
        "**Callback Function**"
      ],
      "id": "gh_tFTqmuCVK"
    },
    {
      "cell_type": "code",
      "metadata": {
        "id": "7aLESrIyuBt7"
      },
      "source": [
        "reduce_LR = tf.keras.callbacks.ReduceLROnPlateau(\n",
        "    monitor=\"val_loss\",\n",
        "    factor=0.15,\n",
        "    patience=5,\n",
        "    min_lr=2.e-5\n",
        ")\n",
        "\n",
        "stop_early = tf.keras.callbacks.EarlyStopping(\n",
        "    monitor=\"val_loss\",\n",
        "    min_delta=0,\n",
        "    patience=10,\n",
        "    verbose=0,\n",
        "    mode=\"auto\",\n",
        "    baseline=None,\n",
        "    restore_best_weights=True\n",
        ")"
      ],
      "id": "7aLESrIyuBt7",
      "execution_count": 90,
      "outputs": []
    },
    {
      "cell_type": "markdown",
      "metadata": {
        "id": "-jboZEIduIsb"
      },
      "source": [
        "**Create Sequential Model**"
      ],
      "id": "-jboZEIduIsb"
    },
    {
      "cell_type": "code",
      "metadata": {
        "id": "WTAPZX7iuMX7"
      },
      "source": [
        "model = tf.keras.models.Sequential([\n",
        "   tf.keras.layers.Embedding(input_dim=10000, output_dim=64),\n",
        "   tf.keras.layers.Dropout(0.4),\n",
        "   tf.keras.layers.LSTM(64),\n",
        "   tf.keras.layers.Dropout(0.3),\n",
        "   tf.keras.layers.Dense(64, activation='relu'),\n",
        "   tf.keras.layers.Dropout(0.2),\n",
        "   tf.keras.layers.Dense(64, activation='relu'),\n",
        "   tf.keras.layers.Dense(3, activation='softmax')\n",
        "])"
      ],
      "id": "WTAPZX7iuMX7",
      "execution_count": 91,
      "outputs": []
    },
    {
      "cell_type": "code",
      "metadata": {
        "colab": {
          "base_uri": "https://localhost:8080/"
        },
        "id": "-hE1QFC4uMjD",
        "outputId": "5d8a3908-2261-403a-bb26-dd8848d54f33"
      },
      "source": [
        "model.summary()"
      ],
      "id": "-hE1QFC4uMjD",
      "execution_count": 92,
      "outputs": [
        {
          "output_type": "stream",
          "name": "stdout",
          "text": [
            "Model: \"sequential\"\n",
            "_________________________________________________________________\n",
            "Layer (type)                 Output Shape              Param #   \n",
            "=================================================================\n",
            "embedding (Embedding)        (None, None, 64)          640000    \n",
            "_________________________________________________________________\n",
            "dropout (Dropout)            (None, None, 64)          0         \n",
            "_________________________________________________________________\n",
            "lstm (LSTM)                  (None, 64)                33024     \n",
            "_________________________________________________________________\n",
            "dropout_1 (Dropout)          (None, 64)                0         \n",
            "_________________________________________________________________\n",
            "dense (Dense)                (None, 64)                4160      \n",
            "_________________________________________________________________\n",
            "dropout_2 (Dropout)          (None, 64)                0         \n",
            "_________________________________________________________________\n",
            "dense_1 (Dense)              (None, 64)                4160      \n",
            "_________________________________________________________________\n",
            "dense_2 (Dense)              (None, 3)                 195       \n",
            "=================================================================\n",
            "Total params: 681,539\n",
            "Trainable params: 681,539\n",
            "Non-trainable params: 0\n",
            "_________________________________________________________________\n"
          ]
        }
      ]
    },
    {
      "cell_type": "code",
      "metadata": {
        "id": "fLr2oMa1uMl8"
      },
      "source": [
        "model.compile(\n",
        "    optimizer='Adam',\n",
        "    loss = 'categorical_crossentropy',\n",
        "    metrics = ['accuracy']\n",
        ")"
      ],
      "id": "fLr2oMa1uMl8",
      "execution_count": 93,
      "outputs": []
    },
    {
      "cell_type": "code",
      "metadata": {
        "colab": {
          "base_uri": "https://localhost:8080/"
        },
        "id": "t6c6npjsue-L",
        "outputId": "351de469-0f9d-4216-f91c-b7fe7954c8ac"
      },
      "source": [
        "history = model.fit(\n",
        "    pad_train,\n",
        "    y_train,\n",
        "    epochs = 30,\n",
        "    # steps_per_epoch = 3867,\n",
        "    callbacks = [reduce_LR, stop_early],\n",
        "    validation_data = (pad_test, y_test),\n",
        "    # validation_steps = 967,\n",
        "    verbose = 1\n",
        ")"
      ],
      "id": "t6c6npjsue-L",
      "execution_count": 94,
      "outputs": [
        {
          "output_type": "stream",
          "name": "stdout",
          "text": [
            "Epoch 1/30\n",
            "3627/3627 [==============================] - 161s 42ms/step - loss: 0.6054 - accuracy: 0.7701 - val_loss: 0.6001 - val_accuracy: 0.7732\n",
            "Epoch 2/30\n",
            "3627/3627 [==============================] - 152s 42ms/step - loss: 0.5727 - accuracy: 0.7780 - val_loss: 0.5918 - val_accuracy: 0.7762\n",
            "Epoch 3/30\n",
            "3627/3627 [==============================] - 151s 42ms/step - loss: 0.5570 - accuracy: 0.7831 - val_loss: 0.5923 - val_accuracy: 0.7781\n",
            "Epoch 4/30\n",
            "3627/3627 [==============================] - 150s 41ms/step - loss: 0.5442 - accuracy: 0.7865 - val_loss: 0.5984 - val_accuracy: 0.7762\n",
            "Epoch 5/30\n",
            "3627/3627 [==============================] - 149s 41ms/step - loss: 0.5319 - accuracy: 0.7918 - val_loss: 0.5959 - val_accuracy: 0.7755\n",
            "Epoch 6/30\n",
            "3627/3627 [==============================] - 149s 41ms/step - loss: 0.5183 - accuracy: 0.7971 - val_loss: 0.6058 - val_accuracy: 0.7732\n",
            "Epoch 7/30\n",
            "3627/3627 [==============================] - 149s 41ms/step - loss: 0.5070 - accuracy: 0.8008 - val_loss: 0.6111 - val_accuracy: 0.7709\n",
            "Epoch 8/30\n",
            "3627/3627 [==============================] - 149s 41ms/step - loss: 0.4743 - accuracy: 0.8135 - val_loss: 0.6469 - val_accuracy: 0.7630\n",
            "Epoch 9/30\n",
            "3627/3627 [==============================] - 149s 41ms/step - loss: 0.4688 - accuracy: 0.8160 - val_loss: 0.6581 - val_accuracy: 0.7636\n",
            "Epoch 10/30\n",
            "3627/3627 [==============================] - 149s 41ms/step - loss: 0.4631 - accuracy: 0.8181 - val_loss: 0.6528 - val_accuracy: 0.7661\n",
            "Epoch 11/30\n",
            "3627/3627 [==============================] - 149s 41ms/step - loss: 0.4603 - accuracy: 0.8202 - val_loss: 0.6662 - val_accuracy: 0.7616\n",
            "Epoch 12/30\n",
            "3627/3627 [==============================] - 149s 41ms/step - loss: 0.4565 - accuracy: 0.8201 - val_loss: 0.6700 - val_accuracy: 0.7578\n"
          ]
        }
      ]
    },
    {
      "cell_type": "code",
      "metadata": {
        "id": "_8AQMubwwSXy"
      },
      "source": [
        "model.save('model.h5')"
      ],
      "id": "_8AQMubwwSXy",
      "execution_count": 95,
      "outputs": []
    },
    {
      "cell_type": "markdown",
      "metadata": {
        "id": "v65HenJ-uliE"
      },
      "source": [
        "**Plot Accuracy and Loss Function**"
      ],
      "id": "v65HenJ-uliE"
    },
    {
      "cell_type": "code",
      "metadata": {
        "id": "JNpLkUXBuqnM"
      },
      "source": [
        "def plot_accuracy(history):\n",
        "    plt.figure(figsize=(18,5))\n",
        "    acc = history.history['accuracy']\n",
        "    val_acc = history.history['val_accuracy']\n",
        "    epochs = range(len(acc))\n",
        "    plot_acc = plt.plot(epochs, acc, 'red', label='Training Accuracy')\n",
        "    plot_val_acc = plt.plot(epochs, val_acc, 'blue', label='Validation Accuracy')\n",
        "    plt.xlabel('Epoch', fontsize=15)\n",
        "    plt.ylabel('Accuracy', fontsize=15)\n",
        "    plt.title('Training and Validation Accuracy', fontsize=25)\n",
        "    plt.legend(bbox_to_anchor=(1,1), loc='best')\n",
        "    plt.grid()\n",
        "    plt.show()\n",
        "\n",
        "def plot_loss(history):\n",
        "    plt.figure(figsize=(18,5))\n",
        "    loss = history.history['loss']\n",
        "    val_loss = history.history['val_loss']\n",
        "    epochs = range(len(loss))\n",
        "    plot_loss = plt.plot(epochs, loss, 'red', label='Training Loss')\n",
        "    plot_val_loss = plt.plot(epochs, val_loss, 'blue', label='Validation Loss')\n",
        "    plt.xlabel('Epoch', fontsize=15)\n",
        "    plt.ylabel('Loss', fontsize=15)\n",
        "    plt.title('Training and Validation Loss', fontsize=25)\n",
        "    plt.legend(bbox_to_anchor=(1,1), loc='best')\n",
        "    plt.grid()\n",
        "    plt.show()"
      ],
      "id": "JNpLkUXBuqnM",
      "execution_count": 96,
      "outputs": []
    },
    {
      "cell_type": "code",
      "metadata": {
        "colab": {
          "base_uri": "https://localhost:8080/",
          "height": 366
        },
        "id": "RZyEnSJ_wFSe",
        "outputId": "c222aa12-3b01-4aff-d1dc-a5b7e0bf6f61"
      },
      "source": [
        "plot_accuracy(history)"
      ],
      "id": "RZyEnSJ_wFSe",
      "execution_count": 97,
      "outputs": [
        {
          "output_type": "display_data",
          "data": {
            "image/png": "[encoded data removed]",
            "text/plain": [
              "<Figure size 1296x360 with 1 Axes>"
            ]
          },
          "metadata": {
            "needs_background": "light"
          }
        }
      ]
    },
    {
      "cell_type": "code",
      "metadata": {
        "colab": {
          "base_uri": "https://localhost:8080/",
          "height": 366
        },
        "id": "iP0BQj2wwFVQ",
        "outputId": "90985707-3a5f-4b48-fcb2-7e2f24031116"
      },
      "source": [
        "plot_loss(history)"
      ],
      "id": "iP0BQj2wwFVQ",
      "execution_count": 98,
      "outputs": [
        {
          "output_type": "display_data",
          "data": {
            "image/png": "[encoded data removed]",
            "text/plain": [
              "<Figure size 1296x360 with 1 Axes>"
            ]
          },
          "metadata": {
            "needs_background": "light"
          }
        }
      ]
    },
    {
      "cell_type": "markdown",
      "metadata": {
        "id": "Z0ZEi936wHgj"
      },
      "source": [
        "**Evaluate**"
      ],
      "id": "Z0ZEi936wHgj"
    },
    {
      "cell_type": "code",
      "metadata": {
        "id": "xSrYIbdcwJJD"
      },
      "source": [
        "y_pred = model.predict(pad_test)"
      ],
      "id": "xSrYIbdcwJJD",
      "execution_count": 99,
      "outputs": []
    },
    {
      "cell_type": "code",
      "metadata": {
        "id": "qhDE7U4g2TKF"
      },
      "source": [
        "def make_confusion_matrix(y_pred, y_test):\n",
        "    cam = confusion_matrix(np.argmax(y_test, axis=1), np.argmax(y_pred,axis=1))\n",
        "    sns.heatmap(cam, annot=True, cmap='viridis', \n",
        "                xticklabels=['Negative', 'Neutral', 'Positive'],\n",
        "                yticklabels=['Negative', 'Neutral', 'Positive'],\n",
        "                fmt=\"d\")\n",
        "    plt.xlabel('Predicted Label')\n",
        "    plt.ylabel('True Label')\n",
        "    plt.title('Confusion Matrix')\n",
        "    plt.show()"
      ],
      "id": "qhDE7U4g2TKF",
      "execution_count": 105,
      "outputs": []
    },
    {
      "cell_type": "code",
      "metadata": {
        "colab": {
          "base_uri": "https://localhost:8080/",
          "height": 301
        },
        "id": "r2OCS3Lv2u3c",
        "outputId": "73cfad6a-0c95-4256-ed2e-d3fbc920d161"
      },
      "source": [
        "make_confusion_matrix(y_pred, y_test)"
      ],
      "id": "r2OCS3Lv2u3c",
      "execution_count": 106,
      "outputs": [
        {
          "output_type": "display_data",
          "data": {
            "image/png": "[encoded data removed]",
            "text/plain": [
              "<Figure size 432x288 with 2 Axes>"
            ]
          },
          "metadata": {
            "needs_background": "light"
          }
        }
      ]
    },
    {
      "cell_type": "code",
      "metadata": {
        "colab": {
          "base_uri": "https://localhost:8080/"
        },
        "id": "5pQ1QFi5wJOF",
        "outputId": "6d062072-ba9a-4f67-e723-66b0920560b7"
      },
      "source": [
        "print('Accuracy Model :', accuracy_score(np.argmax(y_test, axis=1), np.argmax(y_pred,axis=1)))"
      ],
      "id": "5pQ1QFi5wJOF",
      "execution_count": 108,
      "outputs": [
        {
          "output_type": "stream",
          "name": "stdout",
          "text": [
            "Accuracy Model : 0.7761806273698725\n"
          ]
        }
      ]
    },
    {
      "cell_type": "code",
      "metadata": {
        "id": "NTTrRG4-3eXM"
      },
      "source": [
        ""
      ],
      "id": "NTTrRG4-3eXM",
      "execution_count": null,
      "outputs": []
    }
  ]
}