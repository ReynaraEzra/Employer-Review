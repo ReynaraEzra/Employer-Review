{
  "nbformat": 4,
  "nbformat_minor": 0,
  "metadata": {
    "colab": {
      "name": "Employer Review Prediction.ipynb",
      "provenance": [],
      "authorship_tag": "ABX9TyOxK/RpTYELu1ZAilSXhx4M"
    },
    "kernelspec": {
      "name": "python3",
      "display_name": "Python 3"
    },
    "language_info": {
      "name": "python"
    }
  },
  "cells": [
    {
      "cell_type": "markdown",
      "metadata": {
        "id": "25p2mkn3uk8G"
      },
      "source": [
        "# **Employer Review Prediction**\n",
        "## Reynara Ezra Pratama"
      ]
    },
    {
      "cell_type": "code",
      "metadata": {
        "id": "SS7Casw8uN6y"
      },
      "source": [
        "import pandas as pd\n",
        "import numpy as np\n",
        "import matplotlib.pyplot as plt\n",
        "import seaborn as sns\n",
        "\n",
        "import tensorflow as tf"
      ],
      "execution_count": 1,
      "outputs": []
    },
    {
      "cell_type": "code",
      "metadata": {
        "colab": {
          "base_uri": "https://localhost:8080/",
          "height": 289
        },
        "id": "anS3P4kSudBH",
        "outputId": "a67aeb2f-0239-4547-8357-8a09aa914999"
      },
      "source": [
        "url = \"https://raw.githubusercontent.com/ReynaraEzra/Employer-Review/main/data_input/results.json\"\n",
        "df = pd.read_json(url)\n",
        "df.head()"
      ],
      "execution_count": 2,
      "outputs": [
        {
          "output_type": "execute_result",
          "data": {
            "text/html": [
              "<div>\n",
              "<style scoped>\n",
              "    .dataframe tbody tr th:only-of-type {\n",
              "        vertical-align: middle;\n",
              "    }\n",
              "\n",
              "    .dataframe tbody tr th {\n",
              "        vertical-align: top;\n",
              "    }\n",
              "\n",
              "    .dataframe thead th {\n",
              "        text-align: right;\n",
              "    }\n",
              "</style>\n",
              "<table border=\"1\" class=\"dataframe\">\n",
              "  <thead>\n",
              "    <tr style=\"text-align: right;\">\n",
              "      <th></th>\n",
              "      <th>ReviewTitle</th>\n",
              "      <th>CompleteReview</th>\n",
              "      <th>URL</th>\n",
              "      <th>Rating</th>\n",
              "      <th>ReviewDetails</th>\n",
              "    </tr>\n",
              "  </thead>\n",
              "  <tbody>\n",
              "    <tr>\n",
              "      <th>0</th>\n",
              "      <td>Productive</td>\n",
              "      <td>Good company, cool workplace, work load little...</td>\n",
              "      <td>https://in.indeed.com/cmp/Reliance-Industries-...</td>\n",
              "      <td>3</td>\n",
              "      <td>(Current Employee)  -  Ghansoli  -  August 30,...</td>\n",
              "    </tr>\n",
              "    <tr>\n",
              "      <th>1</th>\n",
              "      <td>Stressful</td>\n",
              "      <td>1. Need to work on boss's whims and fancies 2....</td>\n",
              "      <td>https://in.indeed.com/cmp/Reliance-Industries-...</td>\n",
              "      <td>3</td>\n",
              "      <td>(Former Employee)  -   -  August 26, 2021</td>\n",
              "    </tr>\n",
              "    <tr>\n",
              "      <th>2</th>\n",
              "      <td>Good Company for Every employee</td>\n",
              "      <td>Good company for every Engineers dream, Full M...</td>\n",
              "      <td>https://in.indeed.com/cmp/Reliance-Industries-...</td>\n",
              "      <td>5</td>\n",
              "      <td>(Former Employee)  -   -  August 17, 2021</td>\n",
              "    </tr>\n",
              "    <tr>\n",
              "      <th>3</th>\n",
              "      <td>Productive</td>\n",
              "      <td>I am just pass out bsc in chemistry Typical da...</td>\n",
              "      <td>https://in.indeed.com/cmp/Reliance-Industries-...</td>\n",
              "      <td>5</td>\n",
              "      <td>(Current Employee)  -   -  August 17, 2021</td>\n",
              "    </tr>\n",
              "    <tr>\n",
              "      <th>4</th>\n",
              "      <td>Non productive</td>\n",
              "      <td>Not so fun at work just blame games  Target pe...</td>\n",
              "      <td>https://in.indeed.com/cmp/Reliance-Industries-...</td>\n",
              "      <td>1</td>\n",
              "      <td>(Former Employee)  -   -  August 9, 2021</td>\n",
              "    </tr>\n",
              "  </tbody>\n",
              "</table>\n",
              "</div>"
            ],
            "text/plain": [
              "                       ReviewTitle  ...                                      ReviewDetails\n",
              "0                       Productive  ...  (Current Employee)  -  Ghansoli  -  August 30,...\n",
              "1                        Stressful  ...          (Former Employee)  -   -  August 26, 2021\n",
              "2  Good Company for Every employee  ...          (Former Employee)  -   -  August 17, 2021\n",
              "3                       Productive  ...         (Current Employee)  -   -  August 17, 2021\n",
              "4                   Non productive  ...           (Former Employee)  -   -  August 9, 2021\n",
              "\n",
              "[5 rows x 5 columns]"
            ]
          },
          "metadata": {},
          "execution_count": 2
        }
      ]
    },
    {
      "cell_type": "code",
      "metadata": {
        "id": "mvnebTnDuiFk"
      },
      "source": [
        ""
      ],
      "execution_count": null,
      "outputs": []
    }
  ]
}