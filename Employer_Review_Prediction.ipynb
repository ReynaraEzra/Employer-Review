{
  "nbformat": 4,
  "nbformat_minor": 0,
  "metadata": {
    "colab": {
      "name": "Employer Review Prediction.ipynb",
<<<<<<< HEAD
      "provenance": []
=======
      "provenance": [],
      "authorship_tag": "ABX9TyNYw7gWY2mr4D6XqVFFGiBC"
>>>>>>> a0a202353516fdcc098d3cf0fd912e239f7a28d4
    },
    "kernelspec": {
      "name": "python3",
      "display_name": "Python 3"
    },
    "language_info": {
      "name": "python"
    }
  },
  "cells": [
    {
      "cell_type": "markdown",
      "metadata": {
        "id": "25p2mkn3uk8G"
      },
      "source": [
        "# **Employer Review Prediction**\n",
        "## **Reynara Ezra Pratama**"
      ]
    },
    {
      "cell_type": "markdown",
      "metadata": {
        "id": "jizFocEjwxyS"
      },
      "source": [
        "## **Background**"
      ]
    },
    {
      "cell_type": "markdown",
      "metadata": {
        "id": "VNRgRp6Kw1T3"
      },
      "source": [
        "Perusahan ..."
      ]
    },
    {
      "cell_type": "markdown",
      "metadata": {
        "id": "3Sj4yvPFw6gv"
      },
      "source": [
        "## **Business Understanding**"
      ]
    },
    {
      "cell_type": "markdown",
      "metadata": {
        "id": "K9A55JIrw99J"
      },
      "source": [
        ""
      ]
    },
    {
      "cell_type": "markdown",
      "metadata": {
        "id": "VdwiYk5jw-GP"
      },
      "source": [
        "## **Data Understanding**"
      ]
    },
    {
      "cell_type": "markdown",
      "metadata": {
        "id": "AWV1WlXdxKGW"
      },
      "source": [
        "1. `ReviewTitle` : Topik dari *review*.\n",
        "2. `CompleteReview` : *Review* yang diberikan pegawai perusahaan.\n",
        "3. `URL` : *Uniform Resource Locator*.\n",
        "4. `Rating` : Penilaian yang diberikan pegawai perusahaan.\n",
        "5. `ReviewDetails` : Detail mengenai *review*."
      ]
    },
    {
      "cell_type": "markdown",
      "metadata": {
        "id": "NcpMCYStvK4P"
      },
      "source": [
        "## **Import Library**"
      ]
    },
    {
      "cell_type": "code",
      "metadata": {
        "id": "SS7Casw8uN6y"
      },
      "source": [
        "import pandas as pd\n",
        "import numpy as np\n",
        "import matplotlib.pyplot as plt\n",
        "import seaborn as sns\n",
        "\n",
        "import tensorflow as tf"
      ],
      "execution_count": 1,
      "outputs": []
    },
    {
      "cell_type": "markdown",
      "metadata": {
        "id": "3I38CwWLvSyH"
      },
      "source": [
        "## **Loading Dataset**"
      ]
    },
    {
      "cell_type": "markdown",
      "metadata": {
        "id": "nZUogBOUvXso"
      },
      "source": [
        "**Load Data From Github**"
      ]
    },
    {
      "cell_type": "code",
      "metadata": {
        "id": "anS3P4kSudBH"
      },
      "source": [
        "url = \"https://raw.githubusercontent.com/ReynaraEzra/Employer-Review/main/data_input/results.json\"\n",
        "df = pd.read_json(url)"
      ],
      "execution_count": 3,
      "outputs": []
    },
    {
      "cell_type": "markdown",
      "metadata": {
        "id": "S3_FeTMTveq3"
      },
      "source": [
        "**Load Data From Local File**"
      ]
    },
    {
      "cell_type": "code",
      "metadata": {
        "id": "mvnebTnDuiFk"
      },
      "source": [
        "# df = pd.read_json('data_input/result.json')"
      ],
      "execution_count": 7,
      "outputs": []
    },
    {
      "cell_type": "markdown",
      "metadata": {
        "id": "idNZBLmSvyW_"
      },
      "source": [
        "## **Checking Dataset**"
      ]
    },
    {
      "cell_type": "code",
      "metadata": {
        "colab": {
          "base_uri": "https://localhost:8080/",
          "height": 289
        },
        "id": "1PdSiYX6v05d",
        "outputId": "08d9bd7f-8bed-4256-92bc-fbc36478c763"
      },
      "source": [
        "df.head()"
      ],
      "execution_count": 4,
      "outputs": [
        {
          "output_type": "execute_result",
          "data": {
            "text/html": [
              "<div>\n",
              "<style scoped>\n",
              "    .dataframe tbody tr th:only-of-type {\n",
              "        vertical-align: middle;\n",
              "    }\n",
              "\n",
              "    .dataframe tbody tr th {\n",
              "        vertical-align: top;\n",
              "    }\n",
              "\n",
              "    .dataframe thead th {\n",
              "        text-align: right;\n",
              "    }\n",
              "</style>\n",
              "<table border=\"1\" class=\"dataframe\">\n",
              "  <thead>\n",
              "    <tr style=\"text-align: right;\">\n",
              "      <th></th>\n",
              "      <th>ReviewTitle</th>\n",
              "      <th>CompleteReview</th>\n",
              "      <th>URL</th>\n",
              "      <th>Rating</th>\n",
              "      <th>ReviewDetails</th>\n",
              "    </tr>\n",
              "  </thead>\n",
              "  <tbody>\n",
              "    <tr>\n",
              "      <th>0</th>\n",
              "      <td>Productive</td>\n",
              "      <td>Good company, cool workplace, work load little...</td>\n",
              "      <td>https://in.indeed.com/cmp/Reliance-Industries-...</td>\n",
              "      <td>3</td>\n",
              "      <td>(Current Employee)  -  Ghansoli  -  August 30,...</td>\n",
              "    </tr>\n",
              "    <tr>\n",
              "      <th>1</th>\n",
              "      <td>Stressful</td>\n",
              "      <td>1. Need to work on boss's whims and fancies 2....</td>\n",
              "      <td>https://in.indeed.com/cmp/Reliance-Industries-...</td>\n",
              "      <td>3</td>\n",
              "      <td>(Former Employee)  -   -  August 26, 2021</td>\n",
              "    </tr>\n",
              "    <tr>\n",
              "      <th>2</th>\n",
              "      <td>Good Company for Every employee</td>\n",
              "      <td>Good company for every Engineers dream, Full M...</td>\n",
              "      <td>https://in.indeed.com/cmp/Reliance-Industries-...</td>\n",
              "      <td>5</td>\n",
              "      <td>(Former Employee)  -   -  August 17, 2021</td>\n",
              "    </tr>\n",
              "    <tr>\n",
              "      <th>3</th>\n",
              "      <td>Productive</td>\n",
              "      <td>I am just pass out bsc in chemistry Typical da...</td>\n",
              "      <td>https://in.indeed.com/cmp/Reliance-Industries-...</td>\n",
              "      <td>5</td>\n",
              "      <td>(Current Employee)  -   -  August 17, 2021</td>\n",
              "    </tr>\n",
              "    <tr>\n",
              "      <th>4</th>\n",
              "      <td>Non productive</td>\n",
              "      <td>Not so fun at work just blame games  Target pe...</td>\n",
              "      <td>https://in.indeed.com/cmp/Reliance-Industries-...</td>\n",
              "      <td>1</td>\n",
              "      <td>(Former Employee)  -   -  August 9, 2021</td>\n",
              "    </tr>\n",
              "  </tbody>\n",
              "</table>\n",
              "</div>"
            ],
            "text/plain": [
              "                       ReviewTitle  ...                                      ReviewDetails\n",
              "0                       Productive  ...  (Current Employee)  -  Ghansoli  -  August 30,...\n",
              "1                        Stressful  ...          (Former Employee)  -   -  August 26, 2021\n",
              "2  Good Company for Every employee  ...          (Former Employee)  -   -  August 17, 2021\n",
              "3                       Productive  ...         (Current Employee)  -   -  August 17, 2021\n",
              "4                   Non productive  ...           (Former Employee)  -   -  August 9, 2021\n",
              "\n",
              "[5 rows x 5 columns]"
            ]
          },
          "metadata": {},
          "execution_count": 4
        }
      ]
    },
    {
      "cell_type": "code",
      "metadata": {
        "colab": {
          "base_uri": "https://localhost:8080/",
          "height": 289
        },
        "id": "isaVz_QTv2YU",
        "outputId": "663137ee-ca6a-41d9-84bd-01bd027f57a8"
      },
      "source": [
        "df.tail()"
      ],
      "execution_count": 5,
      "outputs": [
        {
          "output_type": "execute_result",
          "data": {
            "text/html": [
              "<div>\n",
              "<style scoped>\n",
              "    .dataframe tbody tr th:only-of-type {\n",
              "        vertical-align: middle;\n",
              "    }\n",
              "\n",
              "    .dataframe tbody tr th {\n",
              "        vertical-align: top;\n",
              "    }\n",
              "\n",
              "    .dataframe thead th {\n",
              "        text-align: right;\n",
              "    }\n",
              "</style>\n",
              "<table border=\"1\" class=\"dataframe\">\n",
              "  <thead>\n",
              "    <tr style=\"text-align: right;\">\n",
              "      <th></th>\n",
              "      <th>ReviewTitle</th>\n",
              "      <th>CompleteReview</th>\n",
              "      <th>URL</th>\n",
              "      <th>Rating</th>\n",
              "      <th>ReviewDetails</th>\n",
              "    </tr>\n",
              "  </thead>\n",
              "  <tbody>\n",
              "    <tr>\n",
              "      <th>145204</th>\n",
              "      <td>Definitely very good place to work and can hav...</td>\n",
              "      <td>We get a lot to learn in the company. Very sys...</td>\n",
              "      <td>https://in.indeed.com/cmp/Tata-Consultancy-Ser...</td>\n",
              "      <td>4</td>\n",
              "      <td>(Former Employee)  -   -  January 20, 2012</td>\n",
              "    </tr>\n",
              "    <tr>\n",
              "      <th>145205</th>\n",
              "      <td>IT Services Company; Great scope for improvement.</td>\n",
              "      <td>Lot of scope to learn different technologies u...</td>\n",
              "      <td>https://in.indeed.com/cmp/Tata-Consultancy-Ser...</td>\n",
              "      <td>4</td>\n",
              "      <td>(Former Employee)  -   -  January 19, 2012</td>\n",
              "    </tr>\n",
              "    <tr>\n",
              "      <th>145206</th>\n",
              "      <td>Productive, fun to work, great place to do cer...</td>\n",
              "      <td>An overall positive experience, nice environme...</td>\n",
              "      <td>https://in.indeed.com/cmp/Tata-Consultancy-Ser...</td>\n",
              "      <td>4</td>\n",
              "      <td>(Former Employee)  -   -  January 19, 2012</td>\n",
              "    </tr>\n",
              "    <tr>\n",
              "      <th>145207</th>\n",
              "      <td>Great place to start the career.</td>\n",
              "      <td>Happy that I've started my career from such a ...</td>\n",
              "      <td>https://in.indeed.com/cmp/Tata-Consultancy-Ser...</td>\n",
              "      <td>3</td>\n",
              "      <td>(Former Employee)  -   -  January 7, 2012</td>\n",
              "    </tr>\n",
              "    <tr>\n",
              "      <th>145208</th>\n",
              "      <td>Nice place to work</td>\n",
              "      <td>Got good experience and knowledge about my wor...</td>\n",
              "      <td>https://in.indeed.com/cmp/Tata-Consultancy-Ser...</td>\n",
              "      <td>5</td>\n",
              "      <td>(Former Employee)  -   -  December 19, 2011</td>\n",
              "    </tr>\n",
              "  </tbody>\n",
              "</table>\n",
              "</div>"
            ],
            "text/plain": [
              "                                              ReviewTitle  ...                                ReviewDetails\n",
              "145204  Definitely very good place to work and can hav...  ...   (Former Employee)  -   -  January 20, 2012\n",
              "145205  IT Services Company; Great scope for improvement.  ...   (Former Employee)  -   -  January 19, 2012\n",
              "145206  Productive, fun to work, great place to do cer...  ...   (Former Employee)  -   -  January 19, 2012\n",
              "145207                   Great place to start the career.  ...    (Former Employee)  -   -  January 7, 2012\n",
              "145208                                 Nice place to work  ...  (Former Employee)  -   -  December 19, 2011\n",
              "\n",
              "[5 rows x 5 columns]"
            ]
          },
          "metadata": {},
          "execution_count": 5
        }
      ]
    },
    {
      "cell_type": "code",
      "metadata": {
        "colab": {
          "base_uri": "https://localhost:8080/",
          "height": 289
        },
        "id": "9Dmk32xRv3RI",
        "outputId": "2e3d333f-870e-4b77-828c-c3577d61a3bb"
      },
      "source": [
        "df.sample(5)"
      ],
      "execution_count": 6,
      "outputs": [
        {
          "output_type": "execute_result",
          "data": {
            "text/html": [
              "<div>\n",
              "<style scoped>\n",
              "    .dataframe tbody tr th:only-of-type {\n",
              "        vertical-align: middle;\n",
              "    }\n",
              "\n",
              "    .dataframe tbody tr th {\n",
              "        vertical-align: top;\n",
              "    }\n",
              "\n",
              "    .dataframe thead th {\n",
              "        text-align: right;\n",
              "    }\n",
              "</style>\n",
              "<table border=\"1\" class=\"dataframe\">\n",
              "  <thead>\n",
              "    <tr style=\"text-align: right;\">\n",
              "      <th></th>\n",
              "      <th>ReviewTitle</th>\n",
              "      <th>CompleteReview</th>\n",
              "      <th>URL</th>\n",
              "      <th>Rating</th>\n",
              "      <th>ReviewDetails</th>\n",
              "    </tr>\n",
              "  </thead>\n",
              "  <tbody>\n",
              "    <tr>\n",
              "      <th>48845</th>\n",
              "      <td>work</td>\n",
              "      <td>the work environment is good but it depends on...</td>\n",
              "      <td>https://in.indeed.com/cmp/Axis-Bank/reviews?st...</td>\n",
              "      <td>4</td>\n",
              "      <td>(Current Employee)  -   -  July 14, 2020</td>\n",
              "    </tr>\n",
              "    <tr>\n",
              "      <th>22984</th>\n",
              "      <td>Good</td>\n",
              "      <td>Good to work there good team and management ti...</td>\n",
              "      <td>https://in.indeed.com/cmp/Deloitte/reviews?sta...</td>\n",
              "      <td>5</td>\n",
              "      <td>(Former Employee)  -   -  October 14, 2020</td>\n",
              "    </tr>\n",
              "    <tr>\n",
              "      <th>89814</th>\n",
              "      <td>Fine place to work, work-life balance is also ok</td>\n",
              "      <td>I have been with Cognizant for more than 7.5 y...</td>\n",
              "      <td>https://in.indeed.com/cmp/Cognizant-Technology...</td>\n",
              "      <td>3</td>\n",
              "      <td>(Current Employee)  -   -  September 11, 2017</td>\n",
              "    </tr>\n",
              "    <tr>\n",
              "      <th>42881</th>\n",
              "      <td>A great place to learn</td>\n",
              "      <td>Barclays Bank is a great place to learn. It of...</td>\n",
              "      <td>https://in.indeed.com/cmp/Barclays/reviews?sta...</td>\n",
              "      <td>4</td>\n",
              "      <td>(Current Employee)  -   -  February 28, 2017</td>\n",
              "    </tr>\n",
              "    <tr>\n",
              "      <th>100434</th>\n",
              "      <td>Acompany everyone would dream of working with.</td>\n",
              "      <td>My first BPO job that I can never forget.\\r \\r...</td>\n",
              "      <td>https://in.indeed.com/cmp/Dell-Technologies/re...</td>\n",
              "      <td>5</td>\n",
              "      <td>(Current Employee)  -   -  July 26, 2014</td>\n",
              "    </tr>\n",
              "  </tbody>\n",
              "</table>\n",
              "</div>"
            ],
            "text/plain": [
              "                                             ReviewTitle  ...                                  ReviewDetails\n",
              "48845                                               work  ...       (Current Employee)  -   -  July 14, 2020\n",
              "22984                                               Good  ...     (Former Employee)  -   -  October 14, 2020\n",
              "89814   Fine place to work, work-life balance is also ok  ...  (Current Employee)  -   -  September 11, 2017\n",
              "42881                             A great place to learn  ...   (Current Employee)  -   -  February 28, 2017\n",
              "100434    Acompany everyone would dream of working with.  ...       (Current Employee)  -   -  July 26, 2014\n",
              "\n",
              "[5 rows x 5 columns]"
            ]
          },
          "metadata": {},
          "execution_count": 6
        }
      ]
    },
    {
      "cell_type": "markdown",
      "metadata": {
        "id": "S4EIZ6lxyAYB"
      },
      "source": [
        "## **Check Characteristic Data**"
      ]
    },
    {
      "cell_type": "markdown",
      "metadata": {
        "id": "qrmMRD7xyGYn"
      },
      "source": [
        "**Data Shape**"
      ]
    },
    {
      "cell_type": "code",
      "metadata": {
        "colab": {
          "base_uri": "https://localhost:8080/"
        },
        "id": "A-jSdDjZv3_J",
        "outputId": "bc72a56d-e2d4-42a8-c7f5-190d1963831d"
      },
      "source": [
        "df.shape"
      ],
      "execution_count": 8,
      "outputs": [
        {
          "output_type": "execute_result",
          "data": {
            "text/plain": [
              "(145209, 5)"
            ]
          },
          "metadata": {},
          "execution_count": 8
        }
      ]
    },
    {
      "cell_type": "markdown",
      "metadata": {
        "id": "UKSoAz2nFAbX"
      },
      "source": [
        "**Data Columns**"
      ]
    },
    {
      "cell_type": "code",
      "metadata": {
        "colab": {
          "base_uri": "https://localhost:8080/"
        },
        "id": "SAzyk5aTE_iO",
        "outputId": "e40b64d1-e205-4999-ac29-a50d98b4f3bc"
      },
      "source": [
        "df.columns"
      ],
      "execution_count": 9,
      "outputs": [
        {
          "output_type": "execute_result",
          "data": {
            "text/plain": [
              "Index(['ReviewTitle', 'CompleteReview', 'URL', 'Rating', 'ReviewDetails'], dtype='object')"
            ]
          },
          "metadata": {},
          "execution_count": 9
        }
      ]
    },
    {
      "cell_type": "markdown",
      "metadata": {
        "id": "Depq3JrHFIa-"
      },
      "source": [
        "**Data Info**"
      ]
    },
    {
      "cell_type": "code",
      "metadata": {
        "colab": {
          "base_uri": "https://localhost:8080/"
        },
        "id": "gmDFyM6hyJNc",
        "outputId": "95d3ab77-69ed-4013-94d5-b2108be3373b"
      },
      "source": [
        "df.info()"
      ],
      "execution_count": 10,
      "outputs": [
        {
          "output_type": "stream",
          "name": "stdout",
          "text": [
            "<class 'pandas.core.frame.DataFrame'>\n",
            "RangeIndex: 145209 entries, 0 to 145208\n",
            "Data columns (total 5 columns):\n",
            " #   Column          Non-Null Count   Dtype \n",
            "---  ------          --------------   ----- \n",
            " 0   ReviewTitle     145209 non-null  object\n",
            " 1   CompleteReview  145209 non-null  object\n",
            " 2   URL             145209 non-null  object\n",
            " 3   Rating          145209 non-null  int64 \n",
            " 4   ReviewDetails   145209 non-null  object\n",
            "dtypes: int64(1), object(4)\n",
            "memory usage: 5.5+ MB\n"
          ]
        }
      ]
    },
    {
      "cell_type": "markdown",
      "metadata": {
        "id": "jxi4RW2rFO-G"
      },
      "source": [
        "**Descriptive Statistic**"
      ]
    },
    {
      "cell_type": "code",
      "metadata": {
        "colab": {
          "base_uri": "https://localhost:8080/",
          "height": 297
        },
        "id": "WSPP69mAFKbj",
        "outputId": "25d1cab6-38a4-46f5-cc20-1a4c00460c73"
      },
      "source": [
        "df.describe()"
      ],
      "execution_count": 11,
      "outputs": [
        {
          "output_type": "execute_result",
          "data": {
            "text/html": [
              "<div>\n",
              "<style scoped>\n",
              "    .dataframe tbody tr th:only-of-type {\n",
              "        vertical-align: middle;\n",
              "    }\n",
              "\n",
              "    .dataframe tbody tr th {\n",
              "        vertical-align: top;\n",
              "    }\n",
              "\n",
              "    .dataframe thead th {\n",
              "        text-align: right;\n",
              "    }\n",
              "</style>\n",
              "<table border=\"1\" class=\"dataframe\">\n",
              "  <thead>\n",
              "    <tr style=\"text-align: right;\">\n",
              "      <th></th>\n",
              "      <th>Rating</th>\n",
              "    </tr>\n",
              "  </thead>\n",
              "  <tbody>\n",
              "    <tr>\n",
              "      <th>count</th>\n",
              "      <td>145209.000000</td>\n",
              "    </tr>\n",
              "    <tr>\n",
              "      <th>mean</th>\n",
              "      <td>4.053661</td>\n",
              "    </tr>\n",
              "    <tr>\n",
              "      <th>std</th>\n",
              "      <td>0.925805</td>\n",
              "    </tr>\n",
              "    <tr>\n",
              "      <th>min</th>\n",
              "      <td>1.000000</td>\n",
              "    </tr>\n",
              "    <tr>\n",
              "      <th>25%</th>\n",
              "      <td>4.000000</td>\n",
              "    </tr>\n",
              "    <tr>\n",
              "      <th>50%</th>\n",
              "      <td>4.000000</td>\n",
              "    </tr>\n",
              "    <tr>\n",
              "      <th>75%</th>\n",
              "      <td>5.000000</td>\n",
              "    </tr>\n",
              "    <tr>\n",
              "      <th>max</th>\n",
              "      <td>5.000000</td>\n",
              "    </tr>\n",
              "  </tbody>\n",
              "</table>\n",
              "</div>"
            ],
            "text/plain": [
              "              Rating\n",
              "count  145209.000000\n",
              "mean        4.053661\n",
              "std         0.925805\n",
              "min         1.000000\n",
              "25%         4.000000\n",
              "50%         4.000000\n",
              "75%         5.000000\n",
              "max         5.000000"
            ]
          },
          "metadata": {},
          "execution_count": 11
        }
      ]
    },
    {
      "cell_type": "markdown",
      "metadata": {
        "id": "F-6GWjrVFX5-"
      },
      "source": [
        "**Check Null Data**"
      ]
    },
    {
      "cell_type": "code",
      "metadata": {
        "colab": {
          "base_uri": "https://localhost:8080/"
        },
        "id": "WAnt3SmfFSWl",
        "outputId": "e446f56c-de15-4233-8a59-a019ec967992"
      },
      "source": [
        "df.isnull().sum()"
      ],
      "execution_count": 12,
      "outputs": [
        {
          "output_type": "execute_result",
          "data": {
            "text/plain": [
              "ReviewTitle       0\n",
              "CompleteReview    0\n",
              "URL               0\n",
              "Rating            0\n",
              "ReviewDetails     0\n",
              "dtype: int64"
            ]
          },
          "metadata": {},
          "execution_count": 12
        }
      ]
    },
    {
      "cell_type": "markdown",
      "metadata": {
        "id": "ZCV6i-uwFccQ"
      },
      "source": [
        "**Check Duplicate Data**"
      ]
    },
    {
      "cell_type": "code",
      "metadata": {
        "id": "E9kjiGcyFabO"
      },
      "source": [
        "df = df.drop_duplicates(keep='first')"
      ],
      "execution_count": 15,
      "outputs": []
    },
    {
      "cell_type": "code",
      "metadata": {
        "colab": {
          "base_uri": "https://localhost:8080/"
        },
        "id": "JZgEExjyFjH2",
        "outputId": "66f71b31-4201-4151-ea79-b0f81158d650"
      },
      "source": [
        "df.shape"
      ],
      "execution_count": 16,
      "outputs": [
        {
          "output_type": "execute_result",
          "data": {
            "text/plain": [
              "(145191, 5)"
            ]
          },
          "metadata": {},
          "execution_count": 16
        }
      ]
    },
    {
      "cell_type": "markdown",
      "metadata": {
        "id": "f37wmPXfG63f"
      },
      "source": [
        "## **Feature Extraction**"
      ]
    },
    {
      "cell_type": "code",
      "metadata": {
        "colab": {
          "base_uri": "https://localhost:8080/",
          "height": 193
        },
        "id": "b8uGVra_F0YT",
        "outputId": "7167d3d8-050e-4509-d52d-2ed0972cc8fd"
      },
      "source": [
        "df.head(3)"
      ],
      "execution_count": 18,
      "outputs": [
        {
          "output_type": "execute_result",
          "data": {
            "text/html": [
              "<div>\n",
              "<style scoped>\n",
              "    .dataframe tbody tr th:only-of-type {\n",
              "        vertical-align: middle;\n",
              "    }\n",
              "\n",
              "    .dataframe tbody tr th {\n",
              "        vertical-align: top;\n",
              "    }\n",
              "\n",
              "    .dataframe thead th {\n",
              "        text-align: right;\n",
              "    }\n",
              "</style>\n",
              "<table border=\"1\" class=\"dataframe\">\n",
              "  <thead>\n",
              "    <tr style=\"text-align: right;\">\n",
              "      <th></th>\n",
              "      <th>ReviewTitle</th>\n",
              "      <th>CompleteReview</th>\n",
              "      <th>URL</th>\n",
              "      <th>Rating</th>\n",
              "      <th>ReviewDetails</th>\n",
              "    </tr>\n",
              "  </thead>\n",
              "  <tbody>\n",
              "    <tr>\n",
              "      <th>0</th>\n",
              "      <td>Productive</td>\n",
              "      <td>Good company, cool workplace, work load little...</td>\n",
              "      <td>https://in.indeed.com/cmp/Reliance-Industries-...</td>\n",
              "      <td>3</td>\n",
              "      <td>(Current Employee)  -  Ghansoli  -  August 30,...</td>\n",
              "    </tr>\n",
              "    <tr>\n",
              "      <th>1</th>\n",
              "      <td>Stressful</td>\n",
              "      <td>1. Need to work on boss's whims and fancies 2....</td>\n",
              "      <td>https://in.indeed.com/cmp/Reliance-Industries-...</td>\n",
              "      <td>3</td>\n",
              "      <td>(Former Employee)  -   -  August 26, 2021</td>\n",
              "    </tr>\n",
              "    <tr>\n",
              "      <th>2</th>\n",
              "      <td>Good Company for Every employee</td>\n",
              "      <td>Good company for every Engineers dream, Full M...</td>\n",
              "      <td>https://in.indeed.com/cmp/Reliance-Industries-...</td>\n",
              "      <td>5</td>\n",
              "      <td>(Former Employee)  -   -  August 17, 2021</td>\n",
              "    </tr>\n",
              "  </tbody>\n",
              "</table>\n",
              "</div>"
            ],
            "text/plain": [
              "                       ReviewTitle  ...                                      ReviewDetails\n",
              "0                       Productive  ...  (Current Employee)  -  Ghansoli  -  August 30,...\n",
              "1                        Stressful  ...          (Former Employee)  -   -  August 26, 2021\n",
              "2  Good Company for Every employee  ...          (Former Employee)  -   -  August 17, 2021\n",
              "\n",
              "[3 rows x 5 columns]"
            ]
          },
          "metadata": {},
          "execution_count": 18
        }
      ]
    },
    {
      "cell_type": "code",
      "metadata": {
<<<<<<< HEAD
        "id": "akxYty0DQXca"
      },
      "source": [
        "dummy = df['URL'].str.split('/')[:]"
      ],
      "execution_count": 50,
      "outputs": []
    },
    {
      "cell_type": "code",
      "metadata": {
        "colab": {
          "base_uri": "https://localhost:8080/"
        },
        "id": "Xb2QUXvBQkkv",
        "outputId": "2d314115-ce24-4a49-9195-4d13109d3e1c"
      },
      "source": [
        "dummy.str[4]"
      ],
      "execution_count": 52,
      "outputs": [
        {
          "output_type": "execute_result",
          "data": {
            "text/plain": [
              "0                 Reliance-Industries-Ltd\n",
              "1                 Reliance-Industries-Ltd\n",
              "2                 Reliance-Industries-Ltd\n",
              "3                 Reliance-Industries-Ltd\n",
              "4                 Reliance-Industries-Ltd\n",
              "                       ...               \n",
              "145204    Tata-Consultancy-Services-(tcs)\n",
              "145205    Tata-Consultancy-Services-(tcs)\n",
              "145206    Tata-Consultancy-Services-(tcs)\n",
              "145207    Tata-Consultancy-Services-(tcs)\n",
              "145208    Tata-Consultancy-Services-(tcs)\n",
              "Name: URL, Length: 145191, dtype: object"
            ]
          },
          "metadata": {},
          "execution_count": 52
        }
      ]
    },
    {
      "cell_type": "code",
      "metadata": {
        "id": "xkNzYBv2G_9y"
      },
      "source": [
        "dummy = df['URL'].sample(5).str.split('/')"
      ],
      "execution_count": 32,
      "outputs": []
    },
    {
      "cell_type": "code",
      "metadata": {
        "id": "VU1kGB_dHkxG"
      },
      "source": [
        "dummy.reset_index(drop=True, inplace=True)"
      ],
      "execution_count": 37,
      "outputs": []
    },
    {
      "cell_type": "code",
      "metadata": {
        "colab": {
          "base_uri": "https://localhost:8080/"
        },
        "id": "IioeOjD5IZUJ",
        "outputId": "3c4cc297-1b29-4fd5-fa76-34fb55e911f3"
      },
      "source": [
        "dummy"
      ],
      "execution_count": 39,
      "outputs": [
        {
          "output_type": "execute_result",
          "data": {
            "text/plain": [
              "0    [https:, , in.indeed.com, cmp, Deloitte, revie...\n",
              "1    [https:, , in.indeed.com, cmp, Tata-Consultanc...\n",
              "2    [https:, , in.indeed.com, cmp, Infosys, review...\n",
              "3    [https:, , in.indeed.com, cmp, Infosys, review...\n",
              "4    [https:, , in.indeed.com, cmp, Teleperformance...\n",
              "Name: URL, dtype: object"
            ]
          },
          "metadata": {},
          "execution_count": 39
        }
      ]
    },
    {
      "cell_type": "code",
      "metadata": {
        "id": "CYhlkibRImb3"
      },
      "source": [
        "tes = dummy.copy()"
      ],
      "execution_count": 43,
      "outputs": []
    },
    {
      "cell_type": "code",
      "metadata": {
        "id": "km9h-PMtH3F7"
      },
      "source": [
        "for i in range(len(dummy)):\n",
        "    tes[i] = dummy[i][4]"
      ],
      "execution_count": 45,
      "outputs": []
    },
    {
      "cell_type": "code",
      "metadata": {
        "colab": {
          "base_uri": "https://localhost:8080/"
        },
        "id": "_pBmfVgaH47G",
        "outputId": "c829b06d-9103-49df-9982-44557a1c6547"
      },
      "source": [
        "tes"
      ],
      "execution_count": 46,
      "outputs": [
        {
          "output_type": "execute_result",
          "data": {
            "text/plain": [
              "0                           Deloitte\n",
              "1    Tata-Consultancy-Services-(tcs)\n",
              "2                            Infosys\n",
              "3                            Infosys\n",
              "4                    Teleperformance\n",
              "Name: URL, dtype: object"
            ]
          },
          "metadata": {},
          "execution_count": 46
        }
      ]
    },
    {
      "cell_type": "code",
      "metadata": {
        "id": "ucjuOeOtIq00"
      },
      "source": [
=======
        "id": "xkNzYBv2G_9y"
      },
      "source": [
>>>>>>> a0a202353516fdcc098d3cf0fd912e239f7a28d4
        ""
      ],
      "execution_count": null,
      "outputs": []
    }
  ]
}