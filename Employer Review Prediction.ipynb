{
 "cells": [
  {
   "cell_type": "markdown",
   "id": "4bd2e5a9",
   "metadata": {},
   "source": [
    "# Employer Review Prediction\n",
    "## Reynara Ezra Pratama"
   ]
  },
  {
   "cell_type": "markdown",
   "id": "cea14dc2",
   "metadata": {},
   "source": [
    "## Background"
   ]
  },
  {
   "cell_type": "markdown",
   "id": "16bef603",
   "metadata": {},
   "source": []
  },
  {
   "cell_type": "markdown",
   "id": "fbb2ecc8",
   "metadata": {},
   "source": [
    "## Business Understanding"
   ]
  },
  {
   "cell_type": "markdown",
   "id": "7835786a",
   "metadata": {},
   "source": [
    "1. Mengetahui *review* yang diberikan oleh pegawai terhadap perusahaan.\n",
    "2. Memprediksi *review* yang diberikan dan mengkategorikannya ke dalam *review* yang bersifat positif, netral, atau negatif."
   ]
  },
  {
   "cell_type": "markdown",
   "id": "9ce6765f",
   "metadata": {},
   "source": [
    "## Data Understanding"
   ]
  },
  {
   "cell_type": "markdown",
   "id": "d6c2e1e6",
   "metadata": {},
   "source": [
    "1. `ReviewTitle` : Topik dari *review*.\n",
    "2. `CompleteReview` : *Review* yang diberikan pegawai perusahaan.\n",
    "3. `URL` : *Uniform Resource Locator*.\n",
    "4. `Rating` : Penilaian yang diberikan pegawai perusahaan.\n",
    "5. `ReviewDetails` : Detail mengenai *review*."
   ]
  },
  {
   "cell_type": "markdown",
   "id": "e23e821e",
   "metadata": {},
   "source": [
    "## Import Library"
   ]
  },
  {
   "cell_type": "code",
   "execution_count": 147,
   "id": "9748b717",
   "metadata": {
    "ExecuteTime": {
     "end_time": "2021-09-27T14:50:13.457311Z",
     "start_time": "2021-09-27T14:50:13.144414Z"
    }
   },
   "outputs": [],
   "source": [
    "import pandas as pd\n",
    "import numpy as np\n",
    "import matplotlib.pyplot as plt\n",
    "import seaborn as sns\n",
    "sns.set_theme()\n",
    "\n",
    "from sklearn.preprocessing import OneHotEncoder\n",
    "\n",
    "from sklearn.model_selection import train_test_split\n",
    "\n",
    "from sklearn.metrics import confusion_matrix\n",
    "from sklearn.metrics import accuracy_score\n",
    "from sklearn.metrics import recall_score\n",
    "from sklearn.metrics import precision_score\n",
    "from sklearn.metrics import f1_score\n",
    "\n",
    "import tensorflow as tf\n",
    "import nltk\n",
    "\n",
    "from tensorflow.keras.preprocessing.text import Tokenizer\n",
    "from tensorflow.keras.preprocessing.sequence import pad_sequences\n",
    "\n",
    "import warnings \n",
    "warnings.filterwarnings('ignore')"
   ]
  },
  {
   "cell_type": "markdown",
   "id": "e7c61f81",
   "metadata": {},
   "source": [
    "## Loading Dataset"
   ]
  },
  {
   "cell_type": "markdown",
   "id": "e5629108",
   "metadata": {},
   "source": [
    "**Load Data From Github**"
   ]
  },
  {
   "cell_type": "code",
   "execution_count": 2,
   "id": "8a9ad1b5",
   "metadata": {
    "ExecuteTime": {
     "end_time": "2021-09-27T13:15:18.252959Z",
     "start_time": "2021-09-27T13:15:18.249490Z"
    }
   },
   "outputs": [],
   "source": [
    "# url = \"https://raw.githubusercontent.com/ReynaraEzra/Employer-Review/main/data_input/results.json\"\n",
    "# df = pd.read_json(url)"
   ]
  },
  {
   "cell_type": "markdown",
   "id": "244cba15",
   "metadata": {},
   "source": [
    "**Load Data From Local File**"
   ]
  },
  {
   "cell_type": "code",
   "execution_count": 3,
   "id": "4e4c39e0",
   "metadata": {
    "ExecuteTime": {
     "end_time": "2021-09-27T13:15:20.254277Z",
     "start_time": "2021-09-27T13:15:18.255466Z"
    }
   },
   "outputs": [],
   "source": [
    "df = pd.read_json('data_input/results.json')"
   ]
  },
  {
   "cell_type": "markdown",
   "id": "d9c301e5",
   "metadata": {},
   "source": [
    "## Checking Dataset"
   ]
  },
  {
   "cell_type": "code",
   "execution_count": 4,
   "id": "d9532c99",
   "metadata": {
    "ExecuteTime": {
     "end_time": "2021-09-27T13:15:20.687651Z",
     "start_time": "2021-09-27T13:15:20.256735Z"
    }
   },
   "outputs": [
    {
     "data": {
      "text/html": [
       "<div>\n",
       "<style scoped>\n",
       "    .dataframe tbody tr th:only-of-type {\n",
       "        vertical-align: middle;\n",
       "    }\n",
       "\n",
       "    .dataframe tbody tr th {\n",
       "        vertical-align: top;\n",
       "    }\n",
       "\n",
       "    .dataframe thead th {\n",
       "        text-align: right;\n",
       "    }\n",
       "</style>\n",
       "<table border=\"1\" class=\"dataframe\">\n",
       "  <thead>\n",
       "    <tr style=\"text-align: right;\">\n",
       "      <th></th>\n",
       "      <th>ReviewTitle</th>\n",
       "      <th>CompleteReview</th>\n",
       "      <th>URL</th>\n",
       "      <th>Rating</th>\n",
       "      <th>ReviewDetails</th>\n",
       "    </tr>\n",
       "  </thead>\n",
       "  <tbody>\n",
       "    <tr>\n",
       "      <th>0</th>\n",
       "      <td>Productive</td>\n",
       "      <td>Good company, cool workplace, work load little...</td>\n",
       "      <td>https://in.indeed.com/cmp/Reliance-Industries-...</td>\n",
       "      <td>3</td>\n",
       "      <td>(Current Employee)  -  Ghansoli  -  August 30,...</td>\n",
       "    </tr>\n",
       "    <tr>\n",
       "      <th>1</th>\n",
       "      <td>Stressful</td>\n",
       "      <td>1. Need to work on boss's whims and fancies 2....</td>\n",
       "      <td>https://in.indeed.com/cmp/Reliance-Industries-...</td>\n",
       "      <td>3</td>\n",
       "      <td>(Former Employee)  -   -  August 26, 2021</td>\n",
       "    </tr>\n",
       "    <tr>\n",
       "      <th>2</th>\n",
       "      <td>Good Company for Every employee</td>\n",
       "      <td>Good company for every Engineers dream, Full M...</td>\n",
       "      <td>https://in.indeed.com/cmp/Reliance-Industries-...</td>\n",
       "      <td>5</td>\n",
       "      <td>(Former Employee)  -   -  August 17, 2021</td>\n",
       "    </tr>\n",
       "    <tr>\n",
       "      <th>3</th>\n",
       "      <td>Productive</td>\n",
       "      <td>I am just pass out bsc in chemistry Typical da...</td>\n",
       "      <td>https://in.indeed.com/cmp/Reliance-Industries-...</td>\n",
       "      <td>5</td>\n",
       "      <td>(Current Employee)  -   -  August 17, 2021</td>\n",
       "    </tr>\n",
       "    <tr>\n",
       "      <th>4</th>\n",
       "      <td>Non productive</td>\n",
       "      <td>Not so fun at work just blame games  Target pe...</td>\n",
       "      <td>https://in.indeed.com/cmp/Reliance-Industries-...</td>\n",
       "      <td>1</td>\n",
       "      <td>(Former Employee)  -   -  August 9, 2021</td>\n",
       "    </tr>\n",
       "  </tbody>\n",
       "</table>\n",
       "</div>"
      ],
      "text/plain": [
       "                       ReviewTitle  \\\n",
       "0                       Productive   \n",
       "1                        Stressful   \n",
       "2  Good Company for Every employee   \n",
       "3                       Productive   \n",
       "4                   Non productive   \n",
       "\n",
       "                                      CompleteReview  \\\n",
       "0  Good company, cool workplace, work load little...   \n",
       "1  1. Need to work on boss's whims and fancies 2....   \n",
       "2  Good company for every Engineers dream, Full M...   \n",
       "3  I am just pass out bsc in chemistry Typical da...   \n",
       "4  Not so fun at work just blame games  Target pe...   \n",
       "\n",
       "                                                 URL  Rating  \\\n",
       "0  https://in.indeed.com/cmp/Reliance-Industries-...       3   \n",
       "1  https://in.indeed.com/cmp/Reliance-Industries-...       3   \n",
       "2  https://in.indeed.com/cmp/Reliance-Industries-...       5   \n",
       "3  https://in.indeed.com/cmp/Reliance-Industries-...       5   \n",
       "4  https://in.indeed.com/cmp/Reliance-Industries-...       1   \n",
       "\n",
       "                                       ReviewDetails  \n",
       "0  (Current Employee)  -  Ghansoli  -  August 30,...  \n",
       "1          (Former Employee)  -   -  August 26, 2021  \n",
       "2          (Former Employee)  -   -  August 17, 2021  \n",
       "3         (Current Employee)  -   -  August 17, 2021  \n",
       "4           (Former Employee)  -   -  August 9, 2021  "
      ]
     },
     "execution_count": 4,
     "metadata": {},
     "output_type": "execute_result"
    }
   ],
   "source": [
    "df.head()"
   ]
  },
  {
   "cell_type": "code",
   "execution_count": 5,
   "id": "1e0bc3f9",
   "metadata": {
    "ExecuteTime": {
     "end_time": "2021-09-27T13:15:20.705198Z",
     "start_time": "2021-09-27T13:15:20.690158Z"
    }
   },
   "outputs": [
    {
     "data": {
      "text/html": [
       "<div>\n",
       "<style scoped>\n",
       "    .dataframe tbody tr th:only-of-type {\n",
       "        vertical-align: middle;\n",
       "    }\n",
       "\n",
       "    .dataframe tbody tr th {\n",
       "        vertical-align: top;\n",
       "    }\n",
       "\n",
       "    .dataframe thead th {\n",
       "        text-align: right;\n",
       "    }\n",
       "</style>\n",
       "<table border=\"1\" class=\"dataframe\">\n",
       "  <thead>\n",
       "    <tr style=\"text-align: right;\">\n",
       "      <th></th>\n",
       "      <th>ReviewTitle</th>\n",
       "      <th>CompleteReview</th>\n",
       "      <th>URL</th>\n",
       "      <th>Rating</th>\n",
       "      <th>ReviewDetails</th>\n",
       "    </tr>\n",
       "  </thead>\n",
       "  <tbody>\n",
       "    <tr>\n",
       "      <th>145204</th>\n",
       "      <td>Definitely very good place to work and can hav...</td>\n",
       "      <td>We get a lot to learn in the company. Very sys...</td>\n",
       "      <td>https://in.indeed.com/cmp/Tata-Consultancy-Ser...</td>\n",
       "      <td>4</td>\n",
       "      <td>(Former Employee)  -   -  January 20, 2012</td>\n",
       "    </tr>\n",
       "    <tr>\n",
       "      <th>145205</th>\n",
       "      <td>IT Services Company; Great scope for improvement.</td>\n",
       "      <td>Lot of scope to learn different technologies u...</td>\n",
       "      <td>https://in.indeed.com/cmp/Tata-Consultancy-Ser...</td>\n",
       "      <td>4</td>\n",
       "      <td>(Former Employee)  -   -  January 19, 2012</td>\n",
       "    </tr>\n",
       "    <tr>\n",
       "      <th>145206</th>\n",
       "      <td>Productive, fun to work, great place to do cer...</td>\n",
       "      <td>An overall positive experience, nice environme...</td>\n",
       "      <td>https://in.indeed.com/cmp/Tata-Consultancy-Ser...</td>\n",
       "      <td>4</td>\n",
       "      <td>(Former Employee)  -   -  January 19, 2012</td>\n",
       "    </tr>\n",
       "    <tr>\n",
       "      <th>145207</th>\n",
       "      <td>Great place to start the career.</td>\n",
       "      <td>Happy that I've started my career from such a ...</td>\n",
       "      <td>https://in.indeed.com/cmp/Tata-Consultancy-Ser...</td>\n",
       "      <td>3</td>\n",
       "      <td>(Former Employee)  -   -  January 7, 2012</td>\n",
       "    </tr>\n",
       "    <tr>\n",
       "      <th>145208</th>\n",
       "      <td>Nice place to work</td>\n",
       "      <td>Got good experience and knowledge about my wor...</td>\n",
       "      <td>https://in.indeed.com/cmp/Tata-Consultancy-Ser...</td>\n",
       "      <td>5</td>\n",
       "      <td>(Former Employee)  -   -  December 19, 2011</td>\n",
       "    </tr>\n",
       "  </tbody>\n",
       "</table>\n",
       "</div>"
      ],
      "text/plain": [
       "                                              ReviewTitle  \\\n",
       "145204  Definitely very good place to work and can hav...   \n",
       "145205  IT Services Company; Great scope for improvement.   \n",
       "145206  Productive, fun to work, great place to do cer...   \n",
       "145207                   Great place to start the career.   \n",
       "145208                                 Nice place to work   \n",
       "\n",
       "                                           CompleteReview  \\\n",
       "145204  We get a lot to learn in the company. Very sys...   \n",
       "145205  Lot of scope to learn different technologies u...   \n",
       "145206  An overall positive experience, nice environme...   \n",
       "145207  Happy that I've started my career from such a ...   \n",
       "145208  Got good experience and knowledge about my wor...   \n",
       "\n",
       "                                                      URL  Rating  \\\n",
       "145204  https://in.indeed.com/cmp/Tata-Consultancy-Ser...       4   \n",
       "145205  https://in.indeed.com/cmp/Tata-Consultancy-Ser...       4   \n",
       "145206  https://in.indeed.com/cmp/Tata-Consultancy-Ser...       4   \n",
       "145207  https://in.indeed.com/cmp/Tata-Consultancy-Ser...       3   \n",
       "145208  https://in.indeed.com/cmp/Tata-Consultancy-Ser...       5   \n",
       "\n",
       "                                      ReviewDetails  \n",
       "145204   (Former Employee)  -   -  January 20, 2012  \n",
       "145205   (Former Employee)  -   -  January 19, 2012  \n",
       "145206   (Former Employee)  -   -  January 19, 2012  \n",
       "145207    (Former Employee)  -   -  January 7, 2012  \n",
       "145208  (Former Employee)  -   -  December 19, 2011  "
      ]
     },
     "execution_count": 5,
     "metadata": {},
     "output_type": "execute_result"
    }
   ],
   "source": [
    "df.tail()"
   ]
  },
  {
   "cell_type": "code",
   "execution_count": 6,
   "id": "9da0f684",
   "metadata": {
    "ExecuteTime": {
     "end_time": "2021-09-27T13:15:21.121608Z",
     "start_time": "2021-09-27T13:15:20.707704Z"
    }
   },
   "outputs": [
    {
     "data": {
      "text/html": [
       "<div>\n",
       "<style scoped>\n",
       "    .dataframe tbody tr th:only-of-type {\n",
       "        vertical-align: middle;\n",
       "    }\n",
       "\n",
       "    .dataframe tbody tr th {\n",
       "        vertical-align: top;\n",
       "    }\n",
       "\n",
       "    .dataframe thead th {\n",
       "        text-align: right;\n",
       "    }\n",
       "</style>\n",
       "<table border=\"1\" class=\"dataframe\">\n",
       "  <thead>\n",
       "    <tr style=\"text-align: right;\">\n",
       "      <th></th>\n",
       "      <th>ReviewTitle</th>\n",
       "      <th>CompleteReview</th>\n",
       "      <th>URL</th>\n",
       "      <th>Rating</th>\n",
       "      <th>ReviewDetails</th>\n",
       "    </tr>\n",
       "  </thead>\n",
       "  <tbody>\n",
       "    <tr>\n",
       "      <th>42735</th>\n",
       "      <td>Productive</td>\n",
       "      <td>Great place to learn. I worked under commercia...</td>\n",
       "      <td>https://in.indeed.com/cmp/Deutsche-Bank/review...</td>\n",
       "      <td>5</td>\n",
       "      <td>(Former Employee)  -   -  July 11, 2019</td>\n",
       "    </tr>\n",
       "    <tr>\n",
       "      <th>2038</th>\n",
       "      <td>Worst workplace</td>\n",
       "      <td>Worked as Accounts receivable associate and al...</td>\n",
       "      <td>https://in.indeed.com/cmp/Marriott-Internation...</td>\n",
       "      <td>2</td>\n",
       "      <td>(Former Employee)  -   -  December 24, 2019</td>\n",
       "    </tr>\n",
       "    <tr>\n",
       "      <th>38268</th>\n",
       "      <td>Attractive Compensation &amp; Benefits however too...</td>\n",
       "      <td>Good compensation structure. Company offers go...</td>\n",
       "      <td>https://in.indeed.com/cmp/Ey/reviews?start=460</td>\n",
       "      <td>4</td>\n",
       "      <td>(Current Employee)  -   -  March 7, 2019</td>\n",
       "    </tr>\n",
       "    <tr>\n",
       "      <th>119020</th>\n",
       "      <td>productive</td>\n",
       "      <td>very challenging work place and good work envi...</td>\n",
       "      <td>https://in.indeed.com/cmp/Accenture/reviews?st...</td>\n",
       "      <td>4</td>\n",
       "      <td>(Former Employee)  -   -  August 19, 2016</td>\n",
       "    </tr>\n",
       "    <tr>\n",
       "      <th>132197</th>\n",
       "      <td>Great Company to start your career</td>\n",
       "      <td>I worked at Infosys full-time (More than 3 yea...</td>\n",
       "      <td>https://in.indeed.com/cmp/Infosys/reviews?star...</td>\n",
       "      <td>4</td>\n",
       "      <td>(Former Employee)  -  India  -  June 18, 2015</td>\n",
       "    </tr>\n",
       "  </tbody>\n",
       "</table>\n",
       "</div>"
      ],
      "text/plain": [
       "                                              ReviewTitle  \\\n",
       "42735                                          Productive   \n",
       "2038                                      Worst workplace   \n",
       "38268   Attractive Compensation & Benefits however too...   \n",
       "119020                                         productive   \n",
       "132197                 Great Company to start your career   \n",
       "\n",
       "                                           CompleteReview  \\\n",
       "42735   Great place to learn. I worked under commercia...   \n",
       "2038    Worked as Accounts receivable associate and al...   \n",
       "38268   Good compensation structure. Company offers go...   \n",
       "119020  very challenging work place and good work envi...   \n",
       "132197  I worked at Infosys full-time (More than 3 yea...   \n",
       "\n",
       "                                                      URL  Rating  \\\n",
       "42735   https://in.indeed.com/cmp/Deutsche-Bank/review...       5   \n",
       "2038    https://in.indeed.com/cmp/Marriott-Internation...       2   \n",
       "38268      https://in.indeed.com/cmp/Ey/reviews?start=460       4   \n",
       "119020  https://in.indeed.com/cmp/Accenture/reviews?st...       4   \n",
       "132197  https://in.indeed.com/cmp/Infosys/reviews?star...       4   \n",
       "\n",
       "                                        ReviewDetails  \n",
       "42735         (Former Employee)  -   -  July 11, 2019  \n",
       "2038      (Former Employee)  -   -  December 24, 2019  \n",
       "38268        (Current Employee)  -   -  March 7, 2019  \n",
       "119020      (Former Employee)  -   -  August 19, 2016  \n",
       "132197  (Former Employee)  -  India  -  June 18, 2015  "
      ]
     },
     "execution_count": 6,
     "metadata": {},
     "output_type": "execute_result"
    }
   ],
   "source": [
    "df.sample(5)"
   ]
  },
  {
   "cell_type": "markdown",
   "id": "d2551457",
   "metadata": {},
   "source": [
    "## Check Characteristic Data"
   ]
  },
  {
   "cell_type": "markdown",
   "id": "21b0d3e9",
   "metadata": {},
   "source": [
    "**Data Shape**"
   ]
  },
  {
   "cell_type": "code",
   "execution_count": 7,
   "id": "4d278d52",
   "metadata": {
    "ExecuteTime": {
     "end_time": "2021-09-27T13:15:21.130598Z",
     "start_time": "2021-09-27T13:15:21.124084Z"
    }
   },
   "outputs": [
    {
     "data": {
      "text/plain": [
       "(145209, 5)"
      ]
     },
     "execution_count": 7,
     "metadata": {},
     "output_type": "execute_result"
    }
   ],
   "source": [
    "df.shape"
   ]
  },
  {
   "cell_type": "markdown",
   "id": "8bb6189e",
   "metadata": {},
   "source": [
    "**Data Columns**"
   ]
  },
  {
   "cell_type": "code",
   "execution_count": 8,
   "id": "f48b4037",
   "metadata": {
    "ExecuteTime": {
     "end_time": "2021-09-27T13:15:21.277750Z",
     "start_time": "2021-09-27T13:15:21.133103Z"
    }
   },
   "outputs": [
    {
     "data": {
      "text/plain": [
       "Index(['ReviewTitle', 'CompleteReview', 'URL', 'Rating', 'ReviewDetails'], dtype='object')"
      ]
     },
     "execution_count": 8,
     "metadata": {},
     "output_type": "execute_result"
    }
   ],
   "source": [
    "df.columns"
   ]
  },
  {
   "cell_type": "markdown",
   "id": "0e054852",
   "metadata": {},
   "source": [
    "**Data Info**"
   ]
  },
  {
   "cell_type": "code",
   "execution_count": 9,
   "id": "4d040556",
   "metadata": {
    "ExecuteTime": {
     "end_time": "2021-09-27T13:15:21.701541Z",
     "start_time": "2021-09-27T13:15:21.281257Z"
    }
   },
   "outputs": [
    {
     "name": "stdout",
     "output_type": "stream",
     "text": [
      "<class 'pandas.core.frame.DataFrame'>\n",
      "RangeIndex: 145209 entries, 0 to 145208\n",
      "Data columns (total 5 columns):\n",
      " #   Column          Non-Null Count   Dtype \n",
      "---  ------          --------------   ----- \n",
      " 0   ReviewTitle     145209 non-null  object\n",
      " 1   CompleteReview  145209 non-null  object\n",
      " 2   URL             145209 non-null  object\n",
      " 3   Rating          145209 non-null  int64 \n",
      " 4   ReviewDetails   145209 non-null  object\n",
      "dtypes: int64(1), object(4)\n",
      "memory usage: 5.5+ MB\n"
     ]
    }
   ],
   "source": [
    "df.info()"
   ]
  },
  {
   "cell_type": "markdown",
   "id": "d9de53a1",
   "metadata": {},
   "source": [
    "**Descriptive Statistic**"
   ]
  },
  {
   "cell_type": "code",
   "execution_count": 10,
   "id": "fc26453b",
   "metadata": {
    "ExecuteTime": {
     "end_time": "2021-09-27T13:15:21.847361Z",
     "start_time": "2021-09-27T13:15:21.706012Z"
    }
   },
   "outputs": [
    {
     "data": {
      "text/html": [
       "<div>\n",
       "<style scoped>\n",
       "    .dataframe tbody tr th:only-of-type {\n",
       "        vertical-align: middle;\n",
       "    }\n",
       "\n",
       "    .dataframe tbody tr th {\n",
       "        vertical-align: top;\n",
       "    }\n",
       "\n",
       "    .dataframe thead th {\n",
       "        text-align: right;\n",
       "    }\n",
       "</style>\n",
       "<table border=\"1\" class=\"dataframe\">\n",
       "  <thead>\n",
       "    <tr style=\"text-align: right;\">\n",
       "      <th></th>\n",
       "      <th>Rating</th>\n",
       "    </tr>\n",
       "  </thead>\n",
       "  <tbody>\n",
       "    <tr>\n",
       "      <th>count</th>\n",
       "      <td>145209.000000</td>\n",
       "    </tr>\n",
       "    <tr>\n",
       "      <th>mean</th>\n",
       "      <td>4.053661</td>\n",
       "    </tr>\n",
       "    <tr>\n",
       "      <th>std</th>\n",
       "      <td>0.925805</td>\n",
       "    </tr>\n",
       "    <tr>\n",
       "      <th>min</th>\n",
       "      <td>1.000000</td>\n",
       "    </tr>\n",
       "    <tr>\n",
       "      <th>25%</th>\n",
       "      <td>4.000000</td>\n",
       "    </tr>\n",
       "    <tr>\n",
       "      <th>50%</th>\n",
       "      <td>4.000000</td>\n",
       "    </tr>\n",
       "    <tr>\n",
       "      <th>75%</th>\n",
       "      <td>5.000000</td>\n",
       "    </tr>\n",
       "    <tr>\n",
       "      <th>max</th>\n",
       "      <td>5.000000</td>\n",
       "    </tr>\n",
       "  </tbody>\n",
       "</table>\n",
       "</div>"
      ],
      "text/plain": [
       "              Rating\n",
       "count  145209.000000\n",
       "mean        4.053661\n",
       "std         0.925805\n",
       "min         1.000000\n",
       "25%         4.000000\n",
       "50%         4.000000\n",
       "75%         5.000000\n",
       "max         5.000000"
      ]
     },
     "execution_count": 10,
     "metadata": {},
     "output_type": "execute_result"
    }
   ],
   "source": [
    "df.describe()"
   ]
  },
  {
   "cell_type": "markdown",
   "id": "4925163d",
   "metadata": {},
   "source": [
    "**Check Missing Value**"
   ]
  },
  {
   "cell_type": "code",
   "execution_count": 11,
   "id": "a01554af",
   "metadata": {
    "ExecuteTime": {
     "end_time": "2021-09-27T13:15:21.924886Z",
     "start_time": "2021-09-27T13:15:21.849830Z"
    }
   },
   "outputs": [
    {
     "data": {
      "text/plain": [
       "ReviewTitle       0\n",
       "CompleteReview    0\n",
       "URL               0\n",
       "Rating            0\n",
       "ReviewDetails     0\n",
       "dtype: int64"
      ]
     },
     "execution_count": 11,
     "metadata": {},
     "output_type": "execute_result"
    }
   ],
   "source": [
    "df.isnull().sum()"
   ]
  },
  {
   "cell_type": "markdown",
   "id": "6cac95ab",
   "metadata": {},
   "source": [
    "**Check and Drop Duplicate Data**"
   ]
  },
  {
   "cell_type": "code",
   "execution_count": 12,
   "id": "8708b1af",
   "metadata": {
    "ExecuteTime": {
     "end_time": "2021-09-27T13:15:22.375487Z",
     "start_time": "2021-09-27T13:15:21.926853Z"
    }
   },
   "outputs": [],
   "source": [
    "df = df.drop_duplicates(keep='first')\n",
    "df.reset_index(drop=True, inplace=True)"
   ]
  },
  {
   "cell_type": "code",
   "execution_count": 13,
   "id": "ddce1445",
   "metadata": {
    "ExecuteTime": {
     "end_time": "2021-09-27T13:15:22.384455Z",
     "start_time": "2021-09-27T13:15:22.378941Z"
    }
   },
   "outputs": [
    {
     "data": {
      "text/plain": [
       "(145191, 5)"
      ]
     },
     "execution_count": 13,
     "metadata": {},
     "output_type": "execute_result"
    }
   ],
   "source": [
    "df.shape"
   ]
  },
  {
   "cell_type": "markdown",
   "id": "080e9bf4",
   "metadata": {},
   "source": [
    "## Feature Extraction"
   ]
  },
  {
   "cell_type": "code",
   "execution_count": 14,
   "id": "0028767a",
   "metadata": {
    "ExecuteTime": {
     "end_time": "2021-09-27T13:15:22.521343Z",
     "start_time": "2021-09-27T13:15:22.387465Z"
    }
   },
   "outputs": [
    {
     "data": {
      "text/html": [
       "<div>\n",
       "<style scoped>\n",
       "    .dataframe tbody tr th:only-of-type {\n",
       "        vertical-align: middle;\n",
       "    }\n",
       "\n",
       "    .dataframe tbody tr th {\n",
       "        vertical-align: top;\n",
       "    }\n",
       "\n",
       "    .dataframe thead th {\n",
       "        text-align: right;\n",
       "    }\n",
       "</style>\n",
       "<table border=\"1\" class=\"dataframe\">\n",
       "  <thead>\n",
       "    <tr style=\"text-align: right;\">\n",
       "      <th></th>\n",
       "      <th>ReviewTitle</th>\n",
       "      <th>CompleteReview</th>\n",
       "      <th>URL</th>\n",
       "      <th>Rating</th>\n",
       "      <th>ReviewDetails</th>\n",
       "    </tr>\n",
       "  </thead>\n",
       "  <tbody>\n",
       "    <tr>\n",
       "      <th>0</th>\n",
       "      <td>Productive</td>\n",
       "      <td>Good company, cool workplace, work load little...</td>\n",
       "      <td>https://in.indeed.com/cmp/Reliance-Industries-...</td>\n",
       "      <td>3</td>\n",
       "      <td>(Current Employee)  -  Ghansoli  -  August 30,...</td>\n",
       "    </tr>\n",
       "    <tr>\n",
       "      <th>1</th>\n",
       "      <td>Stressful</td>\n",
       "      <td>1. Need to work on boss's whims and fancies 2....</td>\n",
       "      <td>https://in.indeed.com/cmp/Reliance-Industries-...</td>\n",
       "      <td>3</td>\n",
       "      <td>(Former Employee)  -   -  August 26, 2021</td>\n",
       "    </tr>\n",
       "    <tr>\n",
       "      <th>2</th>\n",
       "      <td>Good Company for Every employee</td>\n",
       "      <td>Good company for every Engineers dream, Full M...</td>\n",
       "      <td>https://in.indeed.com/cmp/Reliance-Industries-...</td>\n",
       "      <td>5</td>\n",
       "      <td>(Former Employee)  -   -  August 17, 2021</td>\n",
       "    </tr>\n",
       "  </tbody>\n",
       "</table>\n",
       "</div>"
      ],
      "text/plain": [
       "                       ReviewTitle  \\\n",
       "0                       Productive   \n",
       "1                        Stressful   \n",
       "2  Good Company for Every employee   \n",
       "\n",
       "                                      CompleteReview  \\\n",
       "0  Good company, cool workplace, work load little...   \n",
       "1  1. Need to work on boss's whims and fancies 2....   \n",
       "2  Good company for every Engineers dream, Full M...   \n",
       "\n",
       "                                                 URL  Rating  \\\n",
       "0  https://in.indeed.com/cmp/Reliance-Industries-...       3   \n",
       "1  https://in.indeed.com/cmp/Reliance-Industries-...       3   \n",
       "2  https://in.indeed.com/cmp/Reliance-Industries-...       5   \n",
       "\n",
       "                                       ReviewDetails  \n",
       "0  (Current Employee)  -  Ghansoli  -  August 30,...  \n",
       "1          (Former Employee)  -   -  August 26, 2021  \n",
       "2          (Former Employee)  -   -  August 17, 2021  "
      ]
     },
     "execution_count": 14,
     "metadata": {},
     "output_type": "execute_result"
    }
   ],
   "source": [
    "df.head(3)"
   ]
  },
  {
   "cell_type": "markdown",
   "id": "5737277f",
   "metadata": {},
   "source": [
    "**Make Company Name Columns**"
   ]
  },
  {
   "cell_type": "code",
   "execution_count": 15,
   "id": "abf25c2b",
   "metadata": {
    "ExecuteTime": {
     "end_time": "2021-09-27T13:15:23.169645Z",
     "start_time": "2021-09-27T13:15:22.523852Z"
    }
   },
   "outputs": [],
   "source": [
    "df['Company Name'] = df['URL'].str.split('/')\n",
    "df['Company Name'] = df['Company Name'].str[4]"
   ]
  },
  {
   "cell_type": "code",
   "execution_count": 16,
   "id": "adc0fb20",
   "metadata": {
    "ExecuteTime": {
     "end_time": "2021-09-27T13:15:23.179675Z",
     "start_time": "2021-09-27T13:15:23.171692Z"
    }
   },
   "outputs": [
    {
     "data": {
      "text/plain": [
       "0    Reliance-Industries-Ltd\n",
       "1    Reliance-Industries-Ltd\n",
       "2    Reliance-Industries-Ltd\n",
       "3    Reliance-Industries-Ltd\n",
       "4    Reliance-Industries-Ltd\n",
       "Name: Company Name, dtype: object"
      ]
     },
     "execution_count": 16,
     "metadata": {},
     "output_type": "execute_result"
    }
   ],
   "source": [
    "df['Company Name'].head()"
   ]
  },
  {
   "cell_type": "code",
   "execution_count": 17,
   "id": "b0b573e0",
   "metadata": {
    "ExecuteTime": {
     "end_time": "2021-09-27T13:15:23.328246Z",
     "start_time": "2021-09-27T13:15:23.182683Z"
    }
   },
   "outputs": [
    {
     "data": {
      "text/plain": [
       "array(['Reliance-Industries-Ltd', 'Mphasis', 'Kpmg', 'Yes-Bank',\n",
       "       'Sutherland', 'Marriott-International,-Inc.', 'DHL', 'Jio',\n",
       "       'Vodafoneziggo', 'HP', 'Maersk', 'Ride.swiggy', 'Jll', 'Alstom',\n",
       "       'UnitedHealth-Group', 'Tata-Consultancy-Services-(tcs)',\n",
       "       'Capgemini', 'Teleperformance', 'Cognizant-Technology-Solutions',\n",
       "       'Mahindra-&-Mahindra-Ltd', 'L&T-Technology-Services-Ltd.',\n",
       "       'Bharti-Airtel-Limited', 'Indeed', 'Hyatt',\n",
       "       'Icici-Prudential-Life-Insurance', 'Accenture', 'Honeywell',\n",
       "       'Standard-Chartered-Bank', 'Nokia', 'Apollo-Hospitals',\n",
       "       'Tata-Aia-Life', 'Hdfc-Bank', 'Bosch', 'Deloitte', 'Ey',\n",
       "       'Microsoft', 'Barclays', 'JPMorgan-Chase', 'Muthoot-Finance',\n",
       "       'Wns-Global-Services', 'Kotak-Mahindra-Bank', 'Infosys', 'Oracle',\n",
       "       \"Byju's\", 'Deutsche-Bank', 'Hinduja-Global-Solutions', 'Ericsson',\n",
       "       'Axis-Bank', 'IBM', 'Concentrix', 'Wells-Fargo', 'Google',\n",
       "       'Dell-Technologies', 'Facebook', 'Amazon.com', 'Flipkart.com',\n",
       "       'American-Express', 'Citi', 'HSBC'], dtype=object)"
      ]
     },
     "execution_count": 17,
     "metadata": {},
     "output_type": "execute_result"
    }
   ],
   "source": [
    "df['Company Name'].unique()"
   ]
  },
  {
   "cell_type": "code",
   "execution_count": 18,
   "id": "02c2bf3c",
   "metadata": {
    "ExecuteTime": {
     "end_time": "2021-09-27T13:15:23.425793Z",
     "start_time": "2021-09-27T13:15:23.331252Z"
    }
   },
   "outputs": [
    {
     "data": {
      "text/html": [
       "<div>\n",
       "<style scoped>\n",
       "    .dataframe tbody tr th:only-of-type {\n",
       "        vertical-align: middle;\n",
       "    }\n",
       "\n",
       "    .dataframe tbody tr th {\n",
       "        vertical-align: top;\n",
       "    }\n",
       "\n",
       "    .dataframe thead th {\n",
       "        text-align: right;\n",
       "    }\n",
       "</style>\n",
       "<table border=\"1\" class=\"dataframe\">\n",
       "  <thead>\n",
       "    <tr style=\"text-align: right;\">\n",
       "      <th></th>\n",
       "      <th>ReviewTitle</th>\n",
       "      <th>CompleteReview</th>\n",
       "      <th>URL</th>\n",
       "      <th>Rating</th>\n",
       "      <th>ReviewDetails</th>\n",
       "      <th>Company Name</th>\n",
       "    </tr>\n",
       "  </thead>\n",
       "  <tbody>\n",
       "    <tr>\n",
       "      <th>0</th>\n",
       "      <td>Productive</td>\n",
       "      <td>Good company, cool workplace, work load little...</td>\n",
       "      <td>https://in.indeed.com/cmp/Reliance-Industries-...</td>\n",
       "      <td>3</td>\n",
       "      <td>(Current Employee)  -  Ghansoli  -  August 30,...</td>\n",
       "      <td>Reliance-Industries-Ltd</td>\n",
       "    </tr>\n",
       "    <tr>\n",
       "      <th>1</th>\n",
       "      <td>Stressful</td>\n",
       "      <td>1. Need to work on boss's whims and fancies 2....</td>\n",
       "      <td>https://in.indeed.com/cmp/Reliance-Industries-...</td>\n",
       "      <td>3</td>\n",
       "      <td>(Former Employee)  -   -  August 26, 2021</td>\n",
       "      <td>Reliance-Industries-Ltd</td>\n",
       "    </tr>\n",
       "    <tr>\n",
       "      <th>2</th>\n",
       "      <td>Good Company for Every employee</td>\n",
       "      <td>Good company for every Engineers dream, Full M...</td>\n",
       "      <td>https://in.indeed.com/cmp/Reliance-Industries-...</td>\n",
       "      <td>5</td>\n",
       "      <td>(Former Employee)  -   -  August 17, 2021</td>\n",
       "      <td>Reliance-Industries-Ltd</td>\n",
       "    </tr>\n",
       "    <tr>\n",
       "      <th>3</th>\n",
       "      <td>Productive</td>\n",
       "      <td>I am just pass out bsc in chemistry Typical da...</td>\n",
       "      <td>https://in.indeed.com/cmp/Reliance-Industries-...</td>\n",
       "      <td>5</td>\n",
       "      <td>(Current Employee)  -   -  August 17, 2021</td>\n",
       "      <td>Reliance-Industries-Ltd</td>\n",
       "    </tr>\n",
       "    <tr>\n",
       "      <th>4</th>\n",
       "      <td>Non productive</td>\n",
       "      <td>Not so fun at work just blame games  Target pe...</td>\n",
       "      <td>https://in.indeed.com/cmp/Reliance-Industries-...</td>\n",
       "      <td>1</td>\n",
       "      <td>(Former Employee)  -   -  August 9, 2021</td>\n",
       "      <td>Reliance-Industries-Ltd</td>\n",
       "    </tr>\n",
       "  </tbody>\n",
       "</table>\n",
       "</div>"
      ],
      "text/plain": [
       "                       ReviewTitle  \\\n",
       "0                       Productive   \n",
       "1                        Stressful   \n",
       "2  Good Company for Every employee   \n",
       "3                       Productive   \n",
       "4                   Non productive   \n",
       "\n",
       "                                      CompleteReview  \\\n",
       "0  Good company, cool workplace, work load little...   \n",
       "1  1. Need to work on boss's whims and fancies 2....   \n",
       "2  Good company for every Engineers dream, Full M...   \n",
       "3  I am just pass out bsc in chemistry Typical da...   \n",
       "4  Not so fun at work just blame games  Target pe...   \n",
       "\n",
       "                                                 URL  Rating  \\\n",
       "0  https://in.indeed.com/cmp/Reliance-Industries-...       3   \n",
       "1  https://in.indeed.com/cmp/Reliance-Industries-...       3   \n",
       "2  https://in.indeed.com/cmp/Reliance-Industries-...       5   \n",
       "3  https://in.indeed.com/cmp/Reliance-Industries-...       5   \n",
       "4  https://in.indeed.com/cmp/Reliance-Industries-...       1   \n",
       "\n",
       "                                       ReviewDetails             Company Name  \n",
       "0  (Current Employee)  -  Ghansoli  -  August 30,...  Reliance-Industries-Ltd  \n",
       "1          (Former Employee)  -   -  August 26, 2021  Reliance-Industries-Ltd  \n",
       "2          (Former Employee)  -   -  August 17, 2021  Reliance-Industries-Ltd  \n",
       "3         (Current Employee)  -   -  August 17, 2021  Reliance-Industries-Ltd  \n",
       "4           (Former Employee)  -   -  August 9, 2021  Reliance-Industries-Ltd  "
      ]
     },
     "execution_count": 18,
     "metadata": {},
     "output_type": "execute_result"
    }
   ],
   "source": [
    "df.head()"
   ]
  },
  {
   "cell_type": "markdown",
   "id": "ba88c2d8",
   "metadata": {},
   "source": [
    "**Make Date Columns**"
   ]
  },
  {
   "cell_type": "code",
   "execution_count": 19,
   "id": "2d90f022",
   "metadata": {
    "ExecuteTime": {
     "end_time": "2021-09-27T13:15:23.994211Z",
     "start_time": "2021-09-27T13:15:23.429805Z"
    }
   },
   "outputs": [],
   "source": [
    "df['Date'] = df['ReviewDetails'].str.split('-', expand=True)[2]"
   ]
  },
  {
   "cell_type": "code",
   "execution_count": 20,
   "id": "8a86ca08",
   "metadata": {
    "ExecuteTime": {
     "end_time": "2021-09-27T13:15:24.011083Z",
     "start_time": "2021-09-27T13:15:23.997044Z"
    }
   },
   "outputs": [
    {
     "data": {
      "text/html": [
       "<div>\n",
       "<style scoped>\n",
       "    .dataframe tbody tr th:only-of-type {\n",
       "        vertical-align: middle;\n",
       "    }\n",
       "\n",
       "    .dataframe tbody tr th {\n",
       "        vertical-align: top;\n",
       "    }\n",
       "\n",
       "    .dataframe thead th {\n",
       "        text-align: right;\n",
       "    }\n",
       "</style>\n",
       "<table border=\"1\" class=\"dataframe\">\n",
       "  <thead>\n",
       "    <tr style=\"text-align: right;\">\n",
       "      <th></th>\n",
       "      <th>ReviewTitle</th>\n",
       "      <th>CompleteReview</th>\n",
       "      <th>URL</th>\n",
       "      <th>Rating</th>\n",
       "      <th>ReviewDetails</th>\n",
       "      <th>Company Name</th>\n",
       "      <th>Date</th>\n",
       "    </tr>\n",
       "  </thead>\n",
       "  <tbody>\n",
       "    <tr>\n",
       "      <th>0</th>\n",
       "      <td>Productive</td>\n",
       "      <td>Good company, cool workplace, work load little...</td>\n",
       "      <td>https://in.indeed.com/cmp/Reliance-Industries-...</td>\n",
       "      <td>3</td>\n",
       "      <td>(Current Employee)  -  Ghansoli  -  August 30,...</td>\n",
       "      <td>Reliance-Industries-Ltd</td>\n",
       "      <td>August 30, 2021</td>\n",
       "    </tr>\n",
       "    <tr>\n",
       "      <th>1</th>\n",
       "      <td>Stressful</td>\n",
       "      <td>1. Need to work on boss's whims and fancies 2....</td>\n",
       "      <td>https://in.indeed.com/cmp/Reliance-Industries-...</td>\n",
       "      <td>3</td>\n",
       "      <td>(Former Employee)  -   -  August 26, 2021</td>\n",
       "      <td>Reliance-Industries-Ltd</td>\n",
       "      <td>August 26, 2021</td>\n",
       "    </tr>\n",
       "    <tr>\n",
       "      <th>2</th>\n",
       "      <td>Good Company for Every employee</td>\n",
       "      <td>Good company for every Engineers dream, Full M...</td>\n",
       "      <td>https://in.indeed.com/cmp/Reliance-Industries-...</td>\n",
       "      <td>5</td>\n",
       "      <td>(Former Employee)  -   -  August 17, 2021</td>\n",
       "      <td>Reliance-Industries-Ltd</td>\n",
       "      <td>August 17, 2021</td>\n",
       "    </tr>\n",
       "    <tr>\n",
       "      <th>3</th>\n",
       "      <td>Productive</td>\n",
       "      <td>I am just pass out bsc in chemistry Typical da...</td>\n",
       "      <td>https://in.indeed.com/cmp/Reliance-Industries-...</td>\n",
       "      <td>5</td>\n",
       "      <td>(Current Employee)  -   -  August 17, 2021</td>\n",
       "      <td>Reliance-Industries-Ltd</td>\n",
       "      <td>August 17, 2021</td>\n",
       "    </tr>\n",
       "    <tr>\n",
       "      <th>4</th>\n",
       "      <td>Non productive</td>\n",
       "      <td>Not so fun at work just blame games  Target pe...</td>\n",
       "      <td>https://in.indeed.com/cmp/Reliance-Industries-...</td>\n",
       "      <td>1</td>\n",
       "      <td>(Former Employee)  -   -  August 9, 2021</td>\n",
       "      <td>Reliance-Industries-Ltd</td>\n",
       "      <td>August 9, 2021</td>\n",
       "    </tr>\n",
       "  </tbody>\n",
       "</table>\n",
       "</div>"
      ],
      "text/plain": [
       "                       ReviewTitle  \\\n",
       "0                       Productive   \n",
       "1                        Stressful   \n",
       "2  Good Company for Every employee   \n",
       "3                       Productive   \n",
       "4                   Non productive   \n",
       "\n",
       "                                      CompleteReview  \\\n",
       "0  Good company, cool workplace, work load little...   \n",
       "1  1. Need to work on boss's whims and fancies 2....   \n",
       "2  Good company for every Engineers dream, Full M...   \n",
       "3  I am just pass out bsc in chemistry Typical da...   \n",
       "4  Not so fun at work just blame games  Target pe...   \n",
       "\n",
       "                                                 URL  Rating  \\\n",
       "0  https://in.indeed.com/cmp/Reliance-Industries-...       3   \n",
       "1  https://in.indeed.com/cmp/Reliance-Industries-...       3   \n",
       "2  https://in.indeed.com/cmp/Reliance-Industries-...       5   \n",
       "3  https://in.indeed.com/cmp/Reliance-Industries-...       5   \n",
       "4  https://in.indeed.com/cmp/Reliance-Industries-...       1   \n",
       "\n",
       "                                       ReviewDetails             Company Name  \\\n",
       "0  (Current Employee)  -  Ghansoli  -  August 30,...  Reliance-Industries-Ltd   \n",
       "1          (Former Employee)  -   -  August 26, 2021  Reliance-Industries-Ltd   \n",
       "2          (Former Employee)  -   -  August 17, 2021  Reliance-Industries-Ltd   \n",
       "3         (Current Employee)  -   -  August 17, 2021  Reliance-Industries-Ltd   \n",
       "4           (Former Employee)  -   -  August 9, 2021  Reliance-Industries-Ltd   \n",
       "\n",
       "                Date  \n",
       "0    August 30, 2021  \n",
       "1    August 26, 2021  \n",
       "2    August 17, 2021  \n",
       "3    August 17, 2021  \n",
       "4     August 9, 2021  "
      ]
     },
     "execution_count": 20,
     "metadata": {},
     "output_type": "execute_result"
    }
   ],
   "source": [
    "df.head()"
   ]
  },
  {
   "cell_type": "markdown",
   "id": "932dbcca",
   "metadata": {},
   "source": [
    "**Make Year, Month, Day Columns**"
   ]
  },
  {
   "cell_type": "code",
   "execution_count": 21,
   "id": "75b3e69b",
   "metadata": {
    "ExecuteTime": {
     "end_time": "2021-09-27T13:15:24.594443Z",
     "start_time": "2021-09-27T13:15:24.014090Z"
    }
   },
   "outputs": [],
   "source": [
    "df['Year'] = df['Date'].str.split(',', expand=True)[1]"
   ]
  },
  {
   "cell_type": "code",
   "execution_count": 22,
   "id": "19c61624",
   "metadata": {
    "ExecuteTime": {
     "end_time": "2021-09-27T13:15:25.057340Z",
     "start_time": "2021-09-27T13:15:24.596951Z"
    }
   },
   "outputs": [],
   "source": [
    "df['Month'] = df['Date'].str.split(' ', expand=True)[2]"
   ]
  },
  {
   "cell_type": "code",
   "execution_count": 23,
   "id": "00f5ab15",
   "metadata": {
    "ExecuteTime": {
     "end_time": "2021-09-27T13:15:25.772238Z",
     "start_time": "2021-09-27T13:15:25.059364Z"
    }
   },
   "outputs": [],
   "source": [
    "df['Day'] = df['Date'].str.split(' ', expand=True)[3]\n",
    "df['Day'] = df['Day'].str.replace(',','')"
   ]
  },
  {
   "cell_type": "markdown",
   "id": "c2ff8759",
   "metadata": {},
   "source": [
    "**Check Columns**"
   ]
  },
  {
   "cell_type": "markdown",
   "id": "31fcefd0",
   "metadata": {},
   "source": [
    "Column `Year`"
   ]
  },
  {
   "cell_type": "code",
   "execution_count": 24,
   "id": "40f19cfb",
   "metadata": {
    "ExecuteTime": {
     "end_time": "2021-09-27T13:15:25.808782Z",
     "start_time": "2021-09-27T13:15:25.774188Z"
    }
   },
   "outputs": [
    {
     "data": {
      "text/plain": [
       "array([' 2021', ' 2020', ' 2019', ' 2018', ' 2017', ' 2016', None,\n",
       "       ' 2015', ' 2014', ' 2013', ' 2012', ' 2011',\n",
       "       ' GWAL PAHARI GURGAON  ', ' airoli  ', ' Malad west  ',\n",
       "       ' Sp Infocity & Quadra ', ' New Delhi', ' Tamil nadu  ',\n",
       "       'Gurgaon  '], dtype=object)"
      ]
     },
     "execution_count": 24,
     "metadata": {},
     "output_type": "execute_result"
    }
   ],
   "source": [
    "df['Year'].unique()"
   ]
  },
  {
   "cell_type": "code",
   "execution_count": 25,
   "id": "45782d18",
   "metadata": {
    "ExecuteTime": {
     "end_time": "2021-09-27T13:15:26.065024Z",
     "start_time": "2021-09-27T13:15:25.813293Z"
    }
   },
   "outputs": [],
   "source": [
    "df['Year'] = df['Year'].str.replace(' ','')"
   ]
  },
  {
   "cell_type": "code",
   "execution_count": 26,
   "id": "574ecfa5",
   "metadata": {
    "ExecuteTime": {
     "end_time": "2021-09-27T13:15:26.222147Z",
     "start_time": "2021-09-27T13:15:26.068536Z"
    }
   },
   "outputs": [
    {
     "data": {
      "text/plain": [
       "array(['2021', '2020', '2019', '2018', '2017', '2016', None, '2015',\n",
       "       '2014', '2013', '2012', '2011', 'GWALPAHARIGURGAON', 'airoli',\n",
       "       'Maladwest', 'SpInfocity&Quadra', 'NewDelhi', 'Tamilnadu',\n",
       "       'Gurgaon'], dtype=object)"
      ]
     },
     "execution_count": 26,
     "metadata": {},
     "output_type": "execute_result"
    }
   ],
   "source": [
    "df['Year'].unique()"
   ]
  },
  {
   "cell_type": "code",
   "execution_count": 27,
   "id": "73c2e9ba",
   "metadata": {
    "ExecuteTime": {
     "end_time": "2021-09-27T13:15:26.350753Z",
     "start_time": "2021-09-27T13:15:26.224654Z"
    }
   },
   "outputs": [
    {
     "data": {
      "text/plain": [
       "2021                  2967\n",
       "2020                 12674\n",
       "2019                 16985\n",
       "2018                 15782\n",
       "2017                 37335\n",
       "2016                 15295\n",
       "2015                 13664\n",
       "2014                 15016\n",
       "2013                 11140\n",
       "2012                  4153\n",
       "2011                    38\n",
       "GWALPAHARIGURGAON        1\n",
       "airoli                   1\n",
       "Maladwest                1\n",
       "SpInfocity&Quadra        1\n",
       "NewDelhi                 1\n",
       "Tamilnadu                1\n",
       "Gurgaon                  1\n",
       "Name: Year, dtype: int64"
      ]
     },
     "execution_count": 27,
     "metadata": {},
     "output_type": "execute_result"
    }
   ],
   "source": [
    "df['Year'].value_counts(sort=False)"
   ]
  },
  {
   "cell_type": "code",
   "execution_count": 28,
   "id": "4868a061",
   "metadata": {
    "ExecuteTime": {
     "end_time": "2021-09-27T13:15:26.520263Z",
     "start_time": "2021-09-27T13:15:26.357270Z"
    }
   },
   "outputs": [
    {
     "data": {
      "text/plain": [
       "135"
      ]
     },
     "execution_count": 28,
     "metadata": {},
     "output_type": "execute_result"
    }
   ],
   "source": [
    "df['Year'].isnull().sum()"
   ]
  },
  {
   "cell_type": "code",
   "execution_count": 29,
   "id": "577c3f03",
   "metadata": {
    "ExecuteTime": {
     "end_time": "2021-09-27T13:15:26.885667Z",
     "start_time": "2021-09-27T13:15:26.523771Z"
    }
   },
   "outputs": [],
   "source": [
    "valid_year = ['2011', '2012', '2013', '2014', '2014', '2015', \n",
    "               '2016', '2017', '2018', '2019', '2020', '2021']\n",
    "df['Year'] = df['Year'].apply(lambda x:x if x in valid_year else np.nan)"
   ]
  },
  {
   "cell_type": "code",
   "execution_count": 30,
   "id": "421ba2c0",
   "metadata": {
    "ExecuteTime": {
     "end_time": "2021-09-27T13:15:27.105027Z",
     "start_time": "2021-09-27T13:15:26.887674Z"
    }
   },
   "outputs": [
    {
     "data": {
      "text/plain": [
       "2017    37335\n",
       "2019    16985\n",
       "2018    15782\n",
       "2016    15295\n",
       "2014    15016\n",
       "2015    13664\n",
       "2020    12674\n",
       "2013    11140\n",
       "2012     4153\n",
       "2021     2967\n",
       "2011       38\n",
       "Name: Year, dtype: int64"
      ]
     },
     "execution_count": 30,
     "metadata": {},
     "output_type": "execute_result"
    }
   ],
   "source": [
    "df['Year'].value_counts()"
   ]
  },
  {
   "cell_type": "code",
   "execution_count": 31,
   "id": "84ccc942",
   "metadata": {
    "ExecuteTime": {
     "end_time": "2021-09-27T13:15:27.294476Z",
     "start_time": "2021-09-27T13:15:27.107534Z"
    }
   },
   "outputs": [
    {
     "data": {
      "text/plain": [
       "142"
      ]
     },
     "execution_count": 31,
     "metadata": {},
     "output_type": "execute_result"
    }
   ],
   "source": [
    "df['Year'].isnull().sum()"
   ]
  },
  {
   "cell_type": "markdown",
   "id": "de7588ac",
   "metadata": {},
   "source": [
    "Column `Month`"
   ]
  },
  {
   "cell_type": "code",
   "execution_count": 32,
   "id": "145c8d55",
   "metadata": {
    "ExecuteTime": {
     "end_time": "2021-09-27T13:15:27.458002Z",
     "start_time": "2021-09-27T13:15:27.299489Z"
    }
   },
   "outputs": [
    {
     "data": {
      "text/plain": [
       "array(['August', 'July', 'September', 'May', 'June', 'April', 'March',\n",
       "       'February', 'January', 'December', 'November', 'October', '',\n",
       "       'Africa', 'bagh', 'Consultant', 'Road', '9', '.CLUSTER', '(west)',\n",
       "       'West', 'PAHARI', 'mumbai', None, 'west', 'Ramannagar', 'West.',\n",
       "       'Raman', 'park', 'Technohub', 'Solutions', 'Office', 'Estate',\n",
       "       'Infocity', 'Nagar', 'Delhi,', 'Tamil', 'parel', ')', 'Locatino',\n",
       "       'complex'], dtype=object)"
      ]
     },
     "execution_count": 32,
     "metadata": {},
     "output_type": "execute_result"
    }
   ],
   "source": [
    "df['Month'].unique()"
   ]
  },
  {
   "cell_type": "code",
   "execution_count": 33,
   "id": "4a44543e",
   "metadata": {
    "ExecuteTime": {
     "end_time": "2021-09-27T13:15:27.609216Z",
     "start_time": "2021-09-27T13:15:27.460008Z"
    }
   },
   "outputs": [
    {
     "data": {
      "text/plain": [
       "March         15438\n",
       "January       12626\n",
       "June          12573\n",
       "July          12214\n",
       "September     12090\n",
       "February      12008\n",
       "May           11848\n",
       "April         11667\n",
       "August        11635\n",
       "November      11397\n",
       "October       10945\n",
       "December      10608\n",
       "                114\n",
       "Infocity          1\n",
       "Technohub         1\n",
       "Solutions         1\n",
       "Office            1\n",
       "Estate            1\n",
       "Locatino          1\n",
       "Nagar             1\n",
       "Delhi,            1\n",
       "Tamil             1\n",
       "parel             1\n",
       ")                 1\n",
       "Raman             1\n",
       "park              1\n",
       "West              1\n",
       "West.             1\n",
       "Ramannagar        1\n",
       "west              1\n",
       "mumbai            1\n",
       "PAHARI            1\n",
       "(west)            1\n",
       ".CLUSTER          1\n",
       "9                 1\n",
       "Road              1\n",
       "Consultant        1\n",
       "bagh              1\n",
       "Africa            1\n",
       "complex           1\n",
       "Name: Month, dtype: int64"
      ]
     },
     "execution_count": 33,
     "metadata": {},
     "output_type": "execute_result"
    }
   ],
   "source": [
    "df['Month'].value_counts()"
   ]
  },
  {
   "cell_type": "code",
   "execution_count": 34,
   "id": "7a4f4119",
   "metadata": {
    "ExecuteTime": {
     "end_time": "2021-09-27T13:15:27.710087Z",
     "start_time": "2021-09-27T13:15:27.614735Z"
    }
   },
   "outputs": [
    {
     "data": {
      "text/plain": [
       "1"
      ]
     },
     "execution_count": 34,
     "metadata": {},
     "output_type": "execute_result"
    }
   ],
   "source": [
    "df['Month'].isnull().sum()"
   ]
  },
  {
   "cell_type": "code",
   "execution_count": 35,
   "id": "7312a87f",
   "metadata": {
    "ExecuteTime": {
     "end_time": "2021-09-27T13:15:27.885943Z",
     "start_time": "2021-09-27T13:15:27.712594Z"
    }
   },
   "outputs": [],
   "source": [
    "valid_month = ['January', 'February', 'March', 'April', 'May', 'June',\n",
    "               'July', 'August', 'September', 'October', 'November', 'December']\n",
    "df['Month'] = df['Month'].apply(lambda x:x if x in valid_month else np.nan)"
   ]
  },
  {
   "cell_type": "code",
   "execution_count": 36,
   "id": "b46d4c0b",
   "metadata": {
    "ExecuteTime": {
     "end_time": "2021-09-27T13:15:27.984197Z",
     "start_time": "2021-09-27T13:15:27.887505Z"
    }
   },
   "outputs": [
    {
     "data": {
      "text/plain": [
       "March        15438\n",
       "January      12626\n",
       "June         12573\n",
       "July         12214\n",
       "September    12090\n",
       "February     12008\n",
       "May          11848\n",
       "April        11667\n",
       "August       11635\n",
       "November     11397\n",
       "October      10945\n",
       "December     10608\n",
       "Name: Month, dtype: int64"
      ]
     },
     "execution_count": 36,
     "metadata": {},
     "output_type": "execute_result"
    }
   ],
   "source": [
    "df['Month'].value_counts()"
   ]
  },
  {
   "cell_type": "code",
   "execution_count": 37,
   "id": "6da8ca0a",
   "metadata": {
    "ExecuteTime": {
     "end_time": "2021-09-27T13:15:28.121980Z",
     "start_time": "2021-09-27T13:15:27.986666Z"
    }
   },
   "outputs": [
    {
     "data": {
      "text/plain": [
       "142"
      ]
     },
     "execution_count": 37,
     "metadata": {},
     "output_type": "execute_result"
    }
   ],
   "source": [
    "df['Month'].isnull().sum()"
   ]
  },
  {
   "cell_type": "markdown",
   "id": "93853548",
   "metadata": {},
   "source": [
    "Column `Day`"
   ]
  },
  {
   "cell_type": "code",
   "execution_count": 38,
   "id": "183e1c52",
   "metadata": {
    "ExecuteTime": {
     "end_time": "2021-09-27T13:15:28.257886Z",
     "start_time": "2021-09-27T13:15:28.124486Z"
    }
   },
   "outputs": [
    {
     "data": {
      "text/plain": [
       "array(['30', '26', '17', '9', '22', '18', '7', '8', '5', '3', '15', '6',\n",
       "       '20', '2', '16', '10', '31', '23', '11', '28', '24', '21', '19',\n",
       "       '13', '1', '4', '25', '12', '27', '29', '14', None, '',\n",
       "       'chandigarh', '&', 'GURGAON', 'Nagar', 'malad', 'India', 'nadu'],\n",
       "      dtype=object)"
      ]
     },
     "execution_count": 38,
     "metadata": {},
     "output_type": "execute_result"
    }
   ],
   "source": [
    "df['Day'].unique()"
   ]
  },
  {
   "cell_type": "code",
   "execution_count": 39,
   "id": "bd78bc3a",
   "metadata": {
    "ExecuteTime": {
     "end_time": "2021-09-27T13:15:28.379168Z",
     "start_time": "2021-09-27T13:15:28.260354Z"
    }
   },
   "outputs": [
    {
     "data": {
      "text/plain": [
       "5             5159\n",
       "2             4992\n",
       "4             4969\n",
       "21            4929\n",
       "9             4920\n",
       "3             4910\n",
       "8             4910\n",
       "7             4881\n",
       "17            4864\n",
       "12            4842\n",
       "6             4829\n",
       "22            4828\n",
       "20            4825\n",
       "23            4824\n",
       "18            4823\n",
       "16            4812\n",
       "11            4793\n",
       "19            4721\n",
       "25            4709\n",
       "24            4705\n",
       "28            4691\n",
       "26            4684\n",
       "10            4680\n",
       "15            4664\n",
       "27            4660\n",
       "13            4572\n",
       "1             4557\n",
       "14            4466\n",
       "29            4311\n",
       "30            4138\n",
       "31            2381\n",
       "                80\n",
       "&                2\n",
       "chandigarh       1\n",
       "GURGAON          1\n",
       "Nagar            1\n",
       "malad            1\n",
       "India            1\n",
       "nadu             1\n",
       "Name: Day, dtype: int64"
      ]
     },
     "execution_count": 39,
     "metadata": {},
     "output_type": "execute_result"
    }
   ],
   "source": [
    "df['Day'].value_counts()"
   ]
  },
  {
   "cell_type": "code",
   "execution_count": 40,
   "id": "348f5fce",
   "metadata": {
    "ExecuteTime": {
     "end_time": "2021-09-27T13:15:28.578009Z",
     "start_time": "2021-09-27T13:15:28.381171Z"
    }
   },
   "outputs": [],
   "source": [
    "valid_day = ['1', '2', '3', '4', '5', '6', '7', '8', '9', '10', '11',\n",
    "             '12', '13', '14', '15', '16', '17', '18', '19', '20', '21',\n",
    "             '22', '23', '24', '25', '26', '27', '28', '29', '30', '31']\n",
    "df['Day'] = df['Day'].apply(lambda x:x if x in valid_day else np.nan)"
   ]
  },
  {
   "cell_type": "code",
   "execution_count": 41,
   "id": "b4d2aeff",
   "metadata": {
    "ExecuteTime": {
     "end_time": "2021-09-27T13:15:28.629230Z",
     "start_time": "2021-09-27T13:15:28.579784Z"
    }
   },
   "outputs": [
    {
     "data": {
      "text/plain": [
       "142"
      ]
     },
     "execution_count": 41,
     "metadata": {},
     "output_type": "execute_result"
    }
   ],
   "source": [
    "df['Day'].isnull().sum()"
   ]
  },
  {
   "cell_type": "markdown",
   "id": "8d8a8e22",
   "metadata": {},
   "source": [
    "**Check Missing Value**"
   ]
  },
  {
   "cell_type": "code",
   "execution_count": 42,
   "id": "41932416",
   "metadata": {
    "ExecuteTime": {
     "end_time": "2021-09-27T13:15:28.820417Z",
     "start_time": "2021-09-27T13:15:28.631197Z"
    }
   },
   "outputs": [
    {
     "data": {
      "text/plain": [
       "ReviewTitle         0\n",
       "CompleteReview      0\n",
       "URL                 0\n",
       "Rating              0\n",
       "ReviewDetails       0\n",
       "Company Name        0\n",
       "Date                0\n",
       "Year              142\n",
       "Month             142\n",
       "Day               142\n",
       "dtype: int64"
      ]
     },
     "execution_count": 42,
     "metadata": {},
     "output_type": "execute_result"
    }
   ],
   "source": [
    "df.isnull().sum()"
   ]
  },
  {
   "cell_type": "code",
   "execution_count": 43,
   "id": "fa116825",
   "metadata": {
    "ExecuteTime": {
     "end_time": "2021-09-27T13:15:28.876999Z",
     "start_time": "2021-09-27T13:15:28.822423Z"
    }
   },
   "outputs": [
    {
     "data": {
      "text/plain": [
       "(145191, 10)"
      ]
     },
     "execution_count": 43,
     "metadata": {},
     "output_type": "execute_result"
    }
   ],
   "source": [
    "df.shape"
   ]
  },
  {
   "cell_type": "code",
   "execution_count": 44,
   "id": "308b5742",
   "metadata": {
    "ExecuteTime": {
     "end_time": "2021-09-27T13:15:29.274558Z",
     "start_time": "2021-09-27T13:15:28.880009Z"
    }
   },
   "outputs": [],
   "source": [
    "df = df.dropna()"
   ]
  },
  {
   "cell_type": "code",
   "execution_count": 45,
   "id": "9404cdfd",
   "metadata": {
    "ExecuteTime": {
     "end_time": "2021-09-27T13:15:29.282579Z",
     "start_time": "2021-09-27T13:15:29.276565Z"
    }
   },
   "outputs": [
    {
     "data": {
      "text/plain": [
       "(145049, 10)"
      ]
     },
     "execution_count": 45,
     "metadata": {},
     "output_type": "execute_result"
    }
   ],
   "source": [
    "df.shape"
   ]
  },
  {
   "cell_type": "code",
   "execution_count": 46,
   "id": "d12ca592",
   "metadata": {
    "ExecuteTime": {
     "end_time": "2021-09-27T13:15:29.559056Z",
     "start_time": "2021-09-27T13:15:29.285086Z"
    }
   },
   "outputs": [
    {
     "data": {
      "text/plain": [
       "ReviewTitle       0\n",
       "CompleteReview    0\n",
       "URL               0\n",
       "Rating            0\n",
       "ReviewDetails     0\n",
       "Company Name      0\n",
       "Date              0\n",
       "Year              0\n",
       "Month             0\n",
       "Day               0\n",
       "dtype: int64"
      ]
     },
     "execution_count": 46,
     "metadata": {},
     "output_type": "execute_result"
    }
   ],
   "source": [
    "df.isnull().sum()"
   ]
  },
  {
   "cell_type": "markdown",
   "id": "52e367c6",
   "metadata": {},
   "source": [
    "**Create Date Columns**"
   ]
  },
  {
   "cell_type": "code",
   "execution_count": 47,
   "id": "eba7c9af",
   "metadata": {
    "ExecuteTime": {
     "end_time": "2021-09-27T13:15:30.001315Z",
     "start_time": "2021-09-27T13:15:29.565574Z"
    }
   },
   "outputs": [],
   "source": [
    "df['Date'] = df['Year']+df['Month']+df['Day']\n",
    "df['Date'] = pd.to_datetime(df['Date'], format='%Y%B%d')"
   ]
  },
  {
   "cell_type": "code",
   "execution_count": 48,
   "id": "fa8fc147",
   "metadata": {
    "ExecuteTime": {
     "end_time": "2021-09-27T13:15:30.025985Z",
     "start_time": "2021-09-27T13:15:30.003059Z"
    }
   },
   "outputs": [
    {
     "data": {
      "text/html": [
       "<div>\n",
       "<style scoped>\n",
       "    .dataframe tbody tr th:only-of-type {\n",
       "        vertical-align: middle;\n",
       "    }\n",
       "\n",
       "    .dataframe tbody tr th {\n",
       "        vertical-align: top;\n",
       "    }\n",
       "\n",
       "    .dataframe thead th {\n",
       "        text-align: right;\n",
       "    }\n",
       "</style>\n",
       "<table border=\"1\" class=\"dataframe\">\n",
       "  <thead>\n",
       "    <tr style=\"text-align: right;\">\n",
       "      <th></th>\n",
       "      <th>ReviewTitle</th>\n",
       "      <th>CompleteReview</th>\n",
       "      <th>URL</th>\n",
       "      <th>Rating</th>\n",
       "      <th>ReviewDetails</th>\n",
       "      <th>Company Name</th>\n",
       "      <th>Date</th>\n",
       "      <th>Year</th>\n",
       "      <th>Month</th>\n",
       "      <th>Day</th>\n",
       "    </tr>\n",
       "  </thead>\n",
       "  <tbody>\n",
       "    <tr>\n",
       "      <th>0</th>\n",
       "      <td>Productive</td>\n",
       "      <td>Good company, cool workplace, work load little...</td>\n",
       "      <td>https://in.indeed.com/cmp/Reliance-Industries-...</td>\n",
       "      <td>3</td>\n",
       "      <td>(Current Employee)  -  Ghansoli  -  August 30,...</td>\n",
       "      <td>Reliance-Industries-Ltd</td>\n",
       "      <td>2021-08-30</td>\n",
       "      <td>2021</td>\n",
       "      <td>August</td>\n",
       "      <td>30</td>\n",
       "    </tr>\n",
       "    <tr>\n",
       "      <th>1</th>\n",
       "      <td>Stressful</td>\n",
       "      <td>1. Need to work on boss's whims and fancies 2....</td>\n",
       "      <td>https://in.indeed.com/cmp/Reliance-Industries-...</td>\n",
       "      <td>3</td>\n",
       "      <td>(Former Employee)  -   -  August 26, 2021</td>\n",
       "      <td>Reliance-Industries-Ltd</td>\n",
       "      <td>2021-08-26</td>\n",
       "      <td>2021</td>\n",
       "      <td>August</td>\n",
       "      <td>26</td>\n",
       "    </tr>\n",
       "    <tr>\n",
       "      <th>2</th>\n",
       "      <td>Good Company for Every employee</td>\n",
       "      <td>Good company for every Engineers dream, Full M...</td>\n",
       "      <td>https://in.indeed.com/cmp/Reliance-Industries-...</td>\n",
       "      <td>5</td>\n",
       "      <td>(Former Employee)  -   -  August 17, 2021</td>\n",
       "      <td>Reliance-Industries-Ltd</td>\n",
       "      <td>2021-08-17</td>\n",
       "      <td>2021</td>\n",
       "      <td>August</td>\n",
       "      <td>17</td>\n",
       "    </tr>\n",
       "    <tr>\n",
       "      <th>3</th>\n",
       "      <td>Productive</td>\n",
       "      <td>I am just pass out bsc in chemistry Typical da...</td>\n",
       "      <td>https://in.indeed.com/cmp/Reliance-Industries-...</td>\n",
       "      <td>5</td>\n",
       "      <td>(Current Employee)  -   -  August 17, 2021</td>\n",
       "      <td>Reliance-Industries-Ltd</td>\n",
       "      <td>2021-08-17</td>\n",
       "      <td>2021</td>\n",
       "      <td>August</td>\n",
       "      <td>17</td>\n",
       "    </tr>\n",
       "    <tr>\n",
       "      <th>4</th>\n",
       "      <td>Non productive</td>\n",
       "      <td>Not so fun at work just blame games  Target pe...</td>\n",
       "      <td>https://in.indeed.com/cmp/Reliance-Industries-...</td>\n",
       "      <td>1</td>\n",
       "      <td>(Former Employee)  -   -  August 9, 2021</td>\n",
       "      <td>Reliance-Industries-Ltd</td>\n",
       "      <td>2021-08-09</td>\n",
       "      <td>2021</td>\n",
       "      <td>August</td>\n",
       "      <td>9</td>\n",
       "    </tr>\n",
       "  </tbody>\n",
       "</table>\n",
       "</div>"
      ],
      "text/plain": [
       "                       ReviewTitle  \\\n",
       "0                       Productive   \n",
       "1                        Stressful   \n",
       "2  Good Company for Every employee   \n",
       "3                       Productive   \n",
       "4                   Non productive   \n",
       "\n",
       "                                      CompleteReview  \\\n",
       "0  Good company, cool workplace, work load little...   \n",
       "1  1. Need to work on boss's whims and fancies 2....   \n",
       "2  Good company for every Engineers dream, Full M...   \n",
       "3  I am just pass out bsc in chemistry Typical da...   \n",
       "4  Not so fun at work just blame games  Target pe...   \n",
       "\n",
       "                                                 URL  Rating  \\\n",
       "0  https://in.indeed.com/cmp/Reliance-Industries-...       3   \n",
       "1  https://in.indeed.com/cmp/Reliance-Industries-...       3   \n",
       "2  https://in.indeed.com/cmp/Reliance-Industries-...       5   \n",
       "3  https://in.indeed.com/cmp/Reliance-Industries-...       5   \n",
       "4  https://in.indeed.com/cmp/Reliance-Industries-...       1   \n",
       "\n",
       "                                       ReviewDetails             Company Name  \\\n",
       "0  (Current Employee)  -  Ghansoli  -  August 30,...  Reliance-Industries-Ltd   \n",
       "1          (Former Employee)  -   -  August 26, 2021  Reliance-Industries-Ltd   \n",
       "2          (Former Employee)  -   -  August 17, 2021  Reliance-Industries-Ltd   \n",
       "3         (Current Employee)  -   -  August 17, 2021  Reliance-Industries-Ltd   \n",
       "4           (Former Employee)  -   -  August 9, 2021  Reliance-Industries-Ltd   \n",
       "\n",
       "        Date  Year   Month Day  \n",
       "0 2021-08-30  2021  August  30  \n",
       "1 2021-08-26  2021  August  26  \n",
       "2 2021-08-17  2021  August  17  \n",
       "3 2021-08-17  2021  August  17  \n",
       "4 2021-08-09  2021  August   9  "
      ]
     },
     "execution_count": 48,
     "metadata": {},
     "output_type": "execute_result"
    }
   ],
   "source": [
    "df.head()"
   ]
  },
  {
   "cell_type": "markdown",
   "id": "f2b656c6",
   "metadata": {},
   "source": [
    "**Create Employee Status Columns**"
   ]
  },
  {
   "cell_type": "code",
   "execution_count": 49,
   "id": "2d0a9204",
   "metadata": {
    "ExecuteTime": {
     "end_time": "2021-09-27T13:15:30.599819Z",
     "start_time": "2021-09-27T13:15:30.028454Z"
    }
   },
   "outputs": [],
   "source": [
    "df['Employee Status'] = df['ReviewDetails'].str.split('-', expand=True)[0]"
   ]
  },
  {
   "cell_type": "code",
   "execution_count": 50,
   "id": "2838ef37",
   "metadata": {
    "ExecuteTime": {
     "end_time": "2021-09-27T13:15:30.627839Z",
     "start_time": "2021-09-27T13:15:30.601768Z"
    }
   },
   "outputs": [
    {
     "data": {
      "text/plain": [
       "array(['(Current Employee)  ', '(Former Employee)  ',\n",
       "       'Training   (Former Employee)  ', 'Officer   (Former Employee)  ',\n",
       "       'Leader   (Current Employee)  ',\n",
       "       'health care   (Current Employee)  ',\n",
       "       'Good team worker   (Former Employee)  ',\n",
       "       'Officer   (Current Employee)  ',\n",
       "       'Sr.G.M.Engineering and projects .   (Former Employee)  ',\n",
       "       'Hospitality   (Former Employee)  ',\n",
       "       'Employee   (Current Employee)  ',\n",
       "       'Employee   (Former Employee)  ', 'Worker   (Former Employee)  ',\n",
       "       'SBI PR outbound    (Current Employee)  ',\n",
       "       'PR in SBI outbound    (Current Employee)  ',\n",
       "       'SBI PR    (Former Employee)  ', 'Senior   (Former Employee)  ',\n",
       "       'Sbi inbound    (Current Employee)  ',\n",
       "       'KOTAK CARD    (Current Employee)  ',\n",
       "       'Marketing   (Current Employee)  ', 'Yes   (Current Employee)  ',\n",
       "       'Kotak cardit card    (Current Employee)  ',\n",
       "       'Kotak cards    (Current Employee)  ',\n",
       "       'OFFICER   (Current Employee)  ',\n",
       "       'Marketing   (Former Employee)  ',\n",
       "       'Ocwen, loan verification process    (Current Employee)  ',\n",
       "       'Accounts   (Former Employee)  ', 'officer   (Former Employee)  ',\n",
       "       'Ocwen process    (Current Employee)  ',\n",
       "       'officer   (Current Employee)  ',\n",
       "       'Communications   (Current Employee)  ',\n",
       "       'N/A   (Former Employee)  ', 'SA   (Current Employee)  ',\n",
       "       'Store   (Former Employee)  ', 'Generalist   (Former Employee)  ',\n",
       "       'part time job   (Current Employee)  ',\n",
       "       'Handle the Corportae clients for Sim activations.   (Former Employee)  ',\n",
       "       'training   (Former Employee)  ', 'TRAINING   (Former Employee)  ',\n",
       "       'Inbound process    (Current Employee)  ',\n",
       "       'excellent    (Current Employee)  ',\n",
       "       'health care   (Former Employee)  ',\n",
       "       'Student   (Former Employee)  ', 'yes   (Current Employee)  ',\n",
       "       'hospitality   (Former Employee)  ',\n",
       "       'Good team worker   (Current Employee)  ',\n",
       "       'New Joining    (Current Employee)  ',\n",
       "       'Customer   (Current Employee)  ',\n",
       "       'Applicant   (Current Employee)  ',\n",
       "       'Scenior Transaction Processing Officer.   (Former Employee)  ',\n",
       "       'Expert   (Former Employee)  ', 'Vitality    (Current Employee)  ',\n",
       "       'any job   (Former Employee)  ', 'Support   (Former Employee)  ',\n",
       "       'Yes bank    (Current Employee)  ',\n",
       "       'senior   (Current Employee)  ',\n",
       "       'contracted employee   (Former Employee)  ',\n",
       "       'Floater   (Current Employee)  ', 'Senior   (Current Employee)  ',\n",
       "       'SENIOR   (Current Employee)  ',\n",
       "       'Service Department   (Current Employee)  ',\n",
       "       'work from home   (Former Employee)  ',\n",
       "       'Resident   (Former Employee)  ',\n",
       "       'Serco BPO Pvt. Ltd.   (Current Employee)  ',\n",
       "       'Trainee, Shared Access Distribution Dept.   (Former Employee)  ',\n",
       "       'anonymous   (Former Employee)  ',\n",
       "       'Health care   (Current Employee)  ',\n",
       "       'https://www.indeed.co.in/   (Former Employee)  ',\n",
       "       'Intership   (Former Employee)  ',\n",
       "       'marketing   (Former Employee)  ',\n",
       "       'customer satisfaction offcier, credit cards    (Former Employee)  ',\n",
       "       'contract employee   (Current Employee)  ',\n",
       "       'employee   (Former Employee)  ',\n",
       "       'Training   (Current Employee)  ',\n",
       "       'During B COM.   (Former Employee)  ',\n",
       "       'Team Worker   (Current Employee)  ',\n",
       "       'Leader   (Former Employee)  ',\n",
       "       'Confidential   (Current Employee)  ',\n",
       "       'Current Employee   (Current Employee)  ',\n",
       "       'Anonymous   (Former Employee)  ',\n",
       "       'Sr.Technician ( Mech).   (Former Employee)  ',\n",
       "       'A.F.S.M.   (Current Employee)  ',\n",
       "       'Migrate the project from iway to software AG.   (Former Employee)  ',\n",
       "       'Head   (Former Employee)  ', 'SA   (Former Employee)  ',\n",
       "       'Administration CCO.   (Former Employee)  ',\n",
       "       'Nokia India Pvt Ltd.,   (Current Employee)  ',\n",
       "       'Job seeker for accountancy and fnance fields.   (Current Employee)  ',\n",
       "       'active member   (Former Employee)  ',\n",
       "       'Anonymous   (Current Employee)  ',\n",
       "       'Expert   (Current Employee)  ',\n",
       "       'Gold loan company.   (Former Employee)  ',\n",
       "       'finance   (Former Employee)  ',\n",
       "       'sr T. P.O.   (Current Employee)  ',\n",
       "       'Member   (Current Employee)  ', 'worker   (Former Employee)  ',\n",
       "       'ANY   (Current Employee)  ',\n",
       "       'AS A CSO IN SBI PROCESS    (Current Employee)  ',\n",
       "       'Contract employee   (Former Employee)  ',\n",
       "       'Specialised Infrastructure Er.   (Current Employee)  ',\n",
       "       'Network   (Current Employee)  ', 'any job   (Current Employee)  ',\n",
       "       'N/A   (Current Employee)  ', 'good work    (Former Employee)  ',\n",
       "       'airtel broad bond,   (Former Employee)  ',\n",
       "       'part time   (Current Employee)  ',\n",
       "       'MARKETING   (Former Employee)  ', 'Project   (Former Employee)  ',\n",
       "       'ACCOUNTS   (Current Employee)  ', 'G.A.   (Former Employee)  ',\n",
       "       'part time job   (Former Employee)  ',\n",
       "       'Lead    (Former Employee)  ',\n",
       "       'work from home   (Current Employee)  ',\n",
       "       'L3 level    (Former Employee)  ',\n",
       "       'ANY JOB   (Current Employee)  ',\n",
       "       'Projects   (Current Employee)  ', 'yes   (Former Employee)  ',\n",
       "       'worker   (Current Employee)  ',\n",
       "       'Contract Employee   (Current Employee)  ',\n",
       "       'Alaknanda Hydro Power Co. Ltd.   (Former Employee)  ',\n",
       "       'Part time   (Former Employee)  ',\n",
       "       'Transaction Processing spc.   (Current Employee)  ',\n",
       "       'Worked for the Bank Procurement and customers across the UK.   (Former Employee)  ',\n",
       "       'Aanlyst    (Current Employee)  ', '.   (Current Employee)  ',\n",
       "       'Accounts   (Current Employee)  ',\n",
       "       'I have experience with Transport.   (Current Employee)  ',\n",
       "       'Sr.Technical Sup.(Rotary/Static Equipt.).   (Former Employee)  ',\n",
       "       'Training new staff   (Current Employee)  ',\n",
       "       'DIA (Digital Interactive Advisor).   (Former Employee)  ',\n",
       "       'enthusiastically doing work taking challenges etc.   (Former Employee)  ',\n",
       "       'Former Employee   (Former Employee)  ',\n",
       "       'Test   (Current Employee)  ',\n",
       "       'Oracle Apps Technical    (Current Employee)  ',\n",
       "       'Work Experience   (Current Employee)  ',\n",
       "       'Service   (Former Employee)  ',\n",
       "       'Technology   (Former Employee)  ', 'Staff   (Former Employee)  ',\n",
       "       'confidential   (Former Employee)  ',\n",
       "       'finance   (Current Employee)  ',\n",
       "       'Contract Employee   (Former Employee)  ',\n",
       "       'Head   (Current Employee)  ', 'OFFICER   (Former Employee)  ',\n",
       "       'Middleware Admin MQ/MB/WAS/   (Current Employee)  ',\n",
       "       'Looking for jobs.   (Former Employee)  ',\n",
       "       'head   (Former Employee)  ',\n",
       "       'claims processing excutive    (Former Employee)  ',\n",
       "       'Accenture Solutions Pvt. Ltd.   (Former Employee)  ',\n",
       "       'scanning   (Former Employee)  ',\n",
       "       'HUB ACCOUNT OPERATION ( FOR 89 DAYS ).   (Former Employee)  ',\n",
       "       'Finance department   (Former Employee)  ',\n",
       "       'coex liab.   (Former Employee)  ',\n",
       "       'Admin Dept.   (Former Employee)  ',\n",
       "       'C.P.A.   (Current Employee)  ',\n",
       "       'Full Time Employee   (Current Employee)  ',\n",
       "       'Project ,Change, Major Incident ,Problem.   (Former Employee)  ',\n",
       "       'acting   (Current Employee)  ',\n",
       "       'Health care   (Former Employee)  ',\n",
       "       'operation    (Current Employee)  ',\n",
       "       'Co. Ex.   (Current Employee)  ',\n",
       "       'it is good co. and i learned many thing .   (Current Employee)  ',\n",
       "       'Center of excellence, Quality.   (Current Employee)  ',\n",
       "       'contract employee   (Former Employee)  ',\n",
       "       'I have resigned my job.   (Former Employee)  ',\n",
       "       'member   (Former Employee)  ',\n",
       "       'Full Time Employee   (Former Employee)  ',\n",
       "       'Juniour SAP Support.   (Current Employee)  ',\n",
       "       'Worked as an CSE in IBM concentrix for One Year.   (Former Employee)  ',\n",
       "       'Regular Employee   (Current Employee)  ',\n",
       "       'any jobs   (Former Employee)  ',\n",
       "       'finance department   (Former Employee)  ',\n",
       "       '3+ years of experience in Java Technologies.   (Current Employee)  ',\n",
       "       'SSE , testing    (Current Employee)  ',\n",
       "       'System Egg.   (Former Employee)  ',\n",
       "       'Senior Telecom Engr.   (Current Employee)  ',\n",
       "       'WORKER   (Current Employee)  ',\n",
       "       'Various Positions   (Current Employee)  ',\n",
       "       'Airline Fares and GDS.   (Current Employee)  ',\n",
       "       'QUALITY   (Former Employee)  ',\n",
       "       'PROGRAMER .........   (Former Employee)  '], dtype=object)"
      ]
     },
     "execution_count": 50,
     "metadata": {},
     "output_type": "execute_result"
    }
   ],
   "source": [
    "df['Employee Status'].unique()"
   ]
  },
  {
   "cell_type": "code",
   "execution_count": 51,
   "id": "fe45ca9c",
   "metadata": {
    "ExecuteTime": {
     "end_time": "2021-09-27T13:15:30.803679Z",
     "start_time": "2021-09-27T13:15:30.630345Z"
    }
   },
   "outputs": [
    {
     "data": {
      "text/plain": [
       "0         (Current Employee)  \n",
       "1          (Former Employee)  \n",
       "2          (Former Employee)  \n",
       "3         (Current Employee)  \n",
       "4          (Former Employee)  \n",
       "                  ...         \n",
       "145186     (Former Employee)  \n",
       "145187     (Former Employee)  \n",
       "145188     (Former Employee)  \n",
       "145189     (Former Employee)  \n",
       "145190     (Former Employee)  \n",
       "Name: Employee Status, Length: 145049, dtype: object"
      ]
     },
     "execution_count": 51,
     "metadata": {},
     "output_type": "execute_result"
    }
   ],
   "source": [
    "df['Employee Status']"
   ]
  },
  {
   "cell_type": "code",
   "execution_count": 52,
   "id": "2c0fe212",
   "metadata": {
    "ExecuteTime": {
     "end_time": "2021-09-27T13:15:30.908287Z",
     "start_time": "2021-09-27T13:15:30.806686Z"
    }
   },
   "outputs": [],
   "source": [
    "def get_status_employee(row_value):\n",
    "    return 'Former Employee' if 'Former Employee' in row_value else 'Current Employee'"
   ]
  },
  {
   "cell_type": "code",
   "execution_count": 53,
   "id": "d0fd844c",
   "metadata": {
    "ExecuteTime": {
     "end_time": "2021-09-27T13:15:34.491315Z",
     "start_time": "2021-09-27T13:15:30.913250Z"
    }
   },
   "outputs": [],
   "source": [
    "df['Employee Status'] = df.apply(lambda x: get_status_employee(x['Employee Status']), axis=1)"
   ]
  },
  {
   "cell_type": "code",
   "execution_count": 54,
   "id": "b88310a2",
   "metadata": {
    "ExecuteTime": {
     "end_time": "2021-09-27T13:15:34.516381Z",
     "start_time": "2021-09-27T13:15:34.494326Z"
    }
   },
   "outputs": [
    {
     "data": {
      "text/html": [
       "<div>\n",
       "<style scoped>\n",
       "    .dataframe tbody tr th:only-of-type {\n",
       "        vertical-align: middle;\n",
       "    }\n",
       "\n",
       "    .dataframe tbody tr th {\n",
       "        vertical-align: top;\n",
       "    }\n",
       "\n",
       "    .dataframe thead th {\n",
       "        text-align: right;\n",
       "    }\n",
       "</style>\n",
       "<table border=\"1\" class=\"dataframe\">\n",
       "  <thead>\n",
       "    <tr style=\"text-align: right;\">\n",
       "      <th></th>\n",
       "      <th>ReviewTitle</th>\n",
       "      <th>CompleteReview</th>\n",
       "      <th>URL</th>\n",
       "      <th>Rating</th>\n",
       "      <th>ReviewDetails</th>\n",
       "      <th>Company Name</th>\n",
       "      <th>Date</th>\n",
       "      <th>Year</th>\n",
       "      <th>Month</th>\n",
       "      <th>Day</th>\n",
       "      <th>Employee Status</th>\n",
       "    </tr>\n",
       "  </thead>\n",
       "  <tbody>\n",
       "    <tr>\n",
       "      <th>0</th>\n",
       "      <td>Productive</td>\n",
       "      <td>Good company, cool workplace, work load little...</td>\n",
       "      <td>https://in.indeed.com/cmp/Reliance-Industries-...</td>\n",
       "      <td>3</td>\n",
       "      <td>(Current Employee)  -  Ghansoli  -  August 30,...</td>\n",
       "      <td>Reliance-Industries-Ltd</td>\n",
       "      <td>2021-08-30</td>\n",
       "      <td>2021</td>\n",
       "      <td>August</td>\n",
       "      <td>30</td>\n",
       "      <td>Current Employee</td>\n",
       "    </tr>\n",
       "    <tr>\n",
       "      <th>1</th>\n",
       "      <td>Stressful</td>\n",
       "      <td>1. Need to work on boss's whims and fancies 2....</td>\n",
       "      <td>https://in.indeed.com/cmp/Reliance-Industries-...</td>\n",
       "      <td>3</td>\n",
       "      <td>(Former Employee)  -   -  August 26, 2021</td>\n",
       "      <td>Reliance-Industries-Ltd</td>\n",
       "      <td>2021-08-26</td>\n",
       "      <td>2021</td>\n",
       "      <td>August</td>\n",
       "      <td>26</td>\n",
       "      <td>Former Employee</td>\n",
       "    </tr>\n",
       "    <tr>\n",
       "      <th>2</th>\n",
       "      <td>Good Company for Every employee</td>\n",
       "      <td>Good company for every Engineers dream, Full M...</td>\n",
       "      <td>https://in.indeed.com/cmp/Reliance-Industries-...</td>\n",
       "      <td>5</td>\n",
       "      <td>(Former Employee)  -   -  August 17, 2021</td>\n",
       "      <td>Reliance-Industries-Ltd</td>\n",
       "      <td>2021-08-17</td>\n",
       "      <td>2021</td>\n",
       "      <td>August</td>\n",
       "      <td>17</td>\n",
       "      <td>Former Employee</td>\n",
       "    </tr>\n",
       "    <tr>\n",
       "      <th>3</th>\n",
       "      <td>Productive</td>\n",
       "      <td>I am just pass out bsc in chemistry Typical da...</td>\n",
       "      <td>https://in.indeed.com/cmp/Reliance-Industries-...</td>\n",
       "      <td>5</td>\n",
       "      <td>(Current Employee)  -   -  August 17, 2021</td>\n",
       "      <td>Reliance-Industries-Ltd</td>\n",
       "      <td>2021-08-17</td>\n",
       "      <td>2021</td>\n",
       "      <td>August</td>\n",
       "      <td>17</td>\n",
       "      <td>Current Employee</td>\n",
       "    </tr>\n",
       "    <tr>\n",
       "      <th>4</th>\n",
       "      <td>Non productive</td>\n",
       "      <td>Not so fun at work just blame games  Target pe...</td>\n",
       "      <td>https://in.indeed.com/cmp/Reliance-Industries-...</td>\n",
       "      <td>1</td>\n",
       "      <td>(Former Employee)  -   -  August 9, 2021</td>\n",
       "      <td>Reliance-Industries-Ltd</td>\n",
       "      <td>2021-08-09</td>\n",
       "      <td>2021</td>\n",
       "      <td>August</td>\n",
       "      <td>9</td>\n",
       "      <td>Former Employee</td>\n",
       "    </tr>\n",
       "  </tbody>\n",
       "</table>\n",
       "</div>"
      ],
      "text/plain": [
       "                       ReviewTitle  \\\n",
       "0                       Productive   \n",
       "1                        Stressful   \n",
       "2  Good Company for Every employee   \n",
       "3                       Productive   \n",
       "4                   Non productive   \n",
       "\n",
       "                                      CompleteReview  \\\n",
       "0  Good company, cool workplace, work load little...   \n",
       "1  1. Need to work on boss's whims and fancies 2....   \n",
       "2  Good company for every Engineers dream, Full M...   \n",
       "3  I am just pass out bsc in chemistry Typical da...   \n",
       "4  Not so fun at work just blame games  Target pe...   \n",
       "\n",
       "                                                 URL  Rating  \\\n",
       "0  https://in.indeed.com/cmp/Reliance-Industries-...       3   \n",
       "1  https://in.indeed.com/cmp/Reliance-Industries-...       3   \n",
       "2  https://in.indeed.com/cmp/Reliance-Industries-...       5   \n",
       "3  https://in.indeed.com/cmp/Reliance-Industries-...       5   \n",
       "4  https://in.indeed.com/cmp/Reliance-Industries-...       1   \n",
       "\n",
       "                                       ReviewDetails             Company Name  \\\n",
       "0  (Current Employee)  -  Ghansoli  -  August 30,...  Reliance-Industries-Ltd   \n",
       "1          (Former Employee)  -   -  August 26, 2021  Reliance-Industries-Ltd   \n",
       "2          (Former Employee)  -   -  August 17, 2021  Reliance-Industries-Ltd   \n",
       "3         (Current Employee)  -   -  August 17, 2021  Reliance-Industries-Ltd   \n",
       "4           (Former Employee)  -   -  August 9, 2021  Reliance-Industries-Ltd   \n",
       "\n",
       "        Date  Year   Month Day   Employee Status  \n",
       "0 2021-08-30  2021  August  30  Current Employee  \n",
       "1 2021-08-26  2021  August  26   Former Employee  \n",
       "2 2021-08-17  2021  August  17   Former Employee  \n",
       "3 2021-08-17  2021  August  17  Current Employee  \n",
       "4 2021-08-09  2021  August   9   Former Employee  "
      ]
     },
     "execution_count": 54,
     "metadata": {},
     "output_type": "execute_result"
    }
   ],
   "source": [
    "df.head()"
   ]
  },
  {
   "cell_type": "markdown",
   "id": "394a3db6",
   "metadata": {},
   "source": [
    "## Exploratory Data Analysis (EDA)"
   ]
  },
  {
   "cell_type": "code",
   "execution_count": 70,
   "id": "7eaf4d31",
   "metadata": {
    "ExecuteTime": {
     "end_time": "2021-09-27T13:37:59.861580Z",
     "start_time": "2021-09-27T13:37:59.857068Z"
    }
   },
   "outputs": [],
   "source": [
    "def make_count_plot(data, xlabel, size_x, size_y):\n",
    "    plt.figure(figsize=(size_x, size_y))\n",
    "    sns.countplot(data)\n",
    "    plt.xlabel(xlabel, fontsize=12)\n",
    "    plt.ylabel('Frequency', fontsize=12)\n",
    "    plt.title(f'Number of Reviews Based on {xlabel}', fontsize=15)\n",
    "    plt.show()"
   ]
  },
  {
   "cell_type": "code",
   "execution_count": 71,
   "id": "e404eacb",
   "metadata": {
    "ExecuteTime": {
     "end_time": "2021-09-27T13:38:00.127193Z",
     "start_time": "2021-09-27T13:38:00.123179Z"
    }
   },
   "outputs": [],
   "source": [
    "def make_count_plot_hue(data, xlabel, size_x, size_y, hue):\n",
    "    plt.figure(figsize=(size_x, size_y))\n",
    "    sns.countplot(data, hue=hue)\n",
    "    plt.xlabel(xlabel, fontsize=12)\n",
    "    plt.ylabel('Frequency', fontsize=12)\n",
    "    plt.title(f'Number of Reviews Based on {xlabel}', fontsize=15)\n",
    "    plt.show()"
   ]
  },
  {
   "cell_type": "code",
   "execution_count": 72,
   "id": "2321ebb9",
   "metadata": {
    "ExecuteTime": {
     "end_time": "2021-09-27T13:38:00.486403Z",
     "start_time": "2021-09-27T13:38:00.480388Z"
    }
   },
   "outputs": [],
   "source": [
    "def make_count_plot_order(data, xlabel, size_x, size_y, order):\n",
    "    plt.figure(figsize=(size_x, size_y))\n",
    "    sns.countplot(data, order=order)\n",
    "    plt.xlabel(xlabel, fontsize=12)\n",
    "    plt.ylabel('Frequency', fontsize=12)\n",
    "    plt.title(f'Number of Reviews Based on {xlabel}', fontsize=15)\n",
    "    plt.show()"
   ]
  },
  {
   "cell_type": "markdown",
   "id": "3cef8a4b",
   "metadata": {},
   "source": [
    "**Status Employee**"
   ]
  },
  {
   "cell_type": "code",
   "execution_count": 73,
   "id": "7cecd88c",
   "metadata": {
    "ExecuteTime": {
     "end_time": "2021-09-27T13:38:03.125357Z",
     "start_time": "2021-09-27T13:38:02.912448Z"
    }
   },
   "outputs": [
    {
     "data": {
      "image/png": "[encoded data removed]",
      "text/plain": [
       "<Figure size 432x432 with 1 Axes>"
      ]
     },
     "metadata": {},
     "output_type": "display_data"
    }
   ],
   "source": [
    "make_count_plot(df['Employee Status'], 'Employee Status', 6, 6)"
   ]
  },
  {
   "cell_type": "markdown",
   "id": "d5ef4964",
   "metadata": {},
   "source": [
    "**Based on Year**"
   ]
  },
  {
   "cell_type": "code",
   "execution_count": 74,
   "id": "f28709f6",
   "metadata": {
    "ExecuteTime": {
     "end_time": "2021-09-27T13:38:13.150742Z",
     "start_time": "2021-09-27T13:38:12.817080Z"
    }
   },
   "outputs": [
    {
     "data": {
      "image/png": "[encoded data removed]",
      "text/plain": [
       "<Figure size 1152x360 with 1 Axes>"
      ]
     },
     "metadata": {},
     "output_type": "display_data"
    }
   ],
   "source": [
    "make_count_plot_order(df['Year'], 'Year', 16, 5, valid_year)"
   ]
  },
  {
   "cell_type": "markdown",
   "id": "2d28f403",
   "metadata": {},
   "source": [
    "**Based on Month**"
   ]
  },
  {
   "cell_type": "code",
   "execution_count": 75,
   "id": "6f9c1e5d",
   "metadata": {
    "ExecuteTime": {
     "end_time": "2021-09-27T13:38:28.733581Z",
     "start_time": "2021-09-27T13:38:28.382650Z"
    }
   },
   "outputs": [
    {
     "data": {
      "image/png": "[encoded data removed]",
      "text/plain": [
       "<Figure size 1152x360 with 1 Axes>"
      ]
     },
     "metadata": {},
     "output_type": "display_data"
    }
   ],
   "source": [
    "make_count_plot_order(df['Month'], 'Month', 16, 5, valid_month)"
   ]
  },
  {
   "cell_type": "markdown",
   "id": "55c2f569",
   "metadata": {},
   "source": [
    "**Rating**"
   ]
  },
  {
   "cell_type": "code",
   "execution_count": 76,
   "id": "86b45e49",
   "metadata": {
    "ExecuteTime": {
     "end_time": "2021-09-27T13:38:36.466905Z",
     "start_time": "2021-09-27T13:38:36.288794Z"
    }
   },
   "outputs": [
    {
     "data": {
      "image/png": "[encoded data removed]",
      "text/plain": [
       "<Figure size 1152x360 with 1 Axes>"
      ]
     },
     "metadata": {},
     "output_type": "display_data"
    }
   ],
   "source": [
    "make_count_plot(df['Rating'], 'Rating', 16, 5)"
   ]
  },
  {
   "cell_type": "markdown",
   "id": "2a50d931",
   "metadata": {},
   "source": [
    "**Company Name**"
   ]
  },
  {
   "cell_type": "code",
   "execution_count": 102,
   "id": "55b261a4",
   "metadata": {
    "ExecuteTime": {
     "end_time": "2021-09-27T14:09:59.412448Z",
     "start_time": "2021-09-27T14:09:56.946608Z"
    }
   },
   "outputs": [
    {
     "data": {
      "image/png": "[encoded data removed]",
      "text/plain": [
       "<Figure size 1152x360 with 1 Axes>"
      ]
     },
     "metadata": {},
     "output_type": "display_data"
    }
   ],
   "source": [
    "plt.figure(figsize=(16,5))\n",
    "df_company = df['Company Name'].value_counts()\n",
    "sns.barplot(x=df_company.index,\n",
    "            y=df_company)\n",
    "plt.xticks(rotation=90)\n",
    "plt.show()"
   ]
  },
  {
   "cell_type": "markdown",
   "id": "16025e6d",
   "metadata": {},
   "source": [
    "**Rating Based on Employee Status**"
   ]
  },
  {
   "cell_type": "code",
   "execution_count": 103,
   "id": "252c5c94",
   "metadata": {
    "ExecuteTime": {
     "end_time": "2021-09-27T14:15:04.102625Z",
     "start_time": "2021-09-27T14:15:02.996029Z"
    }
   },
   "outputs": [
    {
     "data": {
      "image/png": "[encoded data removed]",
      "text/plain": [
       "<Figure size 1152x360 with 1 Axes>"
      ]
     },
     "metadata": {},
     "output_type": "display_data"
    }
   ],
   "source": [
    "make_count_plot_hue(df['Rating'], 'Rating', 16, 5, hue=df['Employee Status'])"
   ]
  },
  {
   "cell_type": "markdown",
   "id": "e787a527",
   "metadata": {},
   "source": [
    "## Build Model"
   ]
  },
  {
   "cell_type": "code",
   "execution_count": 129,
   "id": "b934b683",
   "metadata": {
    "ExecuteTime": {
     "end_time": "2021-09-27T14:32:04.961917Z",
     "start_time": "2021-09-27T14:32:04.944871Z"
    }
   },
   "outputs": [],
   "source": [
    "df['Category'] = df['Rating'].replace({1:'Negative', 2:'Negative', 3:'Neutral', 4:'Positive', 5:'Positive'})"
   ]
  },
  {
   "cell_type": "code",
   "execution_count": 134,
   "id": "986631d1",
   "metadata": {
    "ExecuteTime": {
     "end_time": "2021-09-27T14:35:09.569875Z",
     "start_time": "2021-09-27T14:35:08.091301Z"
    }
   },
   "outputs": [],
   "source": [
    "df = df.reset_index(drop=True)"
   ]
  },
  {
   "cell_type": "code",
   "execution_count": 138,
   "id": "8db90a32",
   "metadata": {
    "ExecuteTime": {
     "end_time": "2021-09-27T14:35:28.561875Z",
     "start_time": "2021-09-27T14:35:28.516804Z"
    }
   },
   "outputs": [
    {
     "data": {
      "text/html": [
       "<div>\n",
       "<style scoped>\n",
       "    .dataframe tbody tr th:only-of-type {\n",
       "        vertical-align: middle;\n",
       "    }\n",
       "\n",
       "    .dataframe tbody tr th {\n",
       "        vertical-align: top;\n",
       "    }\n",
       "\n",
       "    .dataframe thead th {\n",
       "        text-align: right;\n",
       "    }\n",
       "</style>\n",
       "<table border=\"1\" class=\"dataframe\">\n",
       "  <thead>\n",
       "    <tr style=\"text-align: right;\">\n",
       "      <th></th>\n",
       "      <th>ReviewTitle</th>\n",
       "      <th>CompleteReview</th>\n",
       "      <th>URL</th>\n",
       "      <th>Rating</th>\n",
       "      <th>ReviewDetails</th>\n",
       "      <th>Company Name</th>\n",
       "      <th>Date</th>\n",
       "      <th>Year</th>\n",
       "      <th>Month</th>\n",
       "      <th>Day</th>\n",
       "      <th>Employee Status</th>\n",
       "      <th>Category</th>\n",
       "    </tr>\n",
       "  </thead>\n",
       "  <tbody>\n",
       "    <tr>\n",
       "      <th>0</th>\n",
       "      <td>Productive</td>\n",
       "      <td>Good company, cool workplace, work load little...</td>\n",
       "      <td>https://in.indeed.com/cmp/Reliance-Industries-...</td>\n",
       "      <td>3</td>\n",
       "      <td>(Current Employee)  -  Ghansoli  -  August 30,...</td>\n",
       "      <td>Reliance-Industries-Ltd</td>\n",
       "      <td>2021-08-30</td>\n",
       "      <td>2021</td>\n",
       "      <td>August</td>\n",
       "      <td>30</td>\n",
       "      <td>Current Employee</td>\n",
       "      <td>Neutral</td>\n",
       "    </tr>\n",
       "    <tr>\n",
       "      <th>1</th>\n",
       "      <td>Stressful</td>\n",
       "      <td>1. Need to work on boss's whims and fancies 2....</td>\n",
       "      <td>https://in.indeed.com/cmp/Reliance-Industries-...</td>\n",
       "      <td>3</td>\n",
       "      <td>(Former Employee)  -   -  August 26, 2021</td>\n",
       "      <td>Reliance-Industries-Ltd</td>\n",
       "      <td>2021-08-26</td>\n",
       "      <td>2021</td>\n",
       "      <td>August</td>\n",
       "      <td>26</td>\n",
       "      <td>Former Employee</td>\n",
       "      <td>Neutral</td>\n",
       "    </tr>\n",
       "    <tr>\n",
       "      <th>2</th>\n",
       "      <td>Good Company for Every employee</td>\n",
       "      <td>Good company for every Engineers dream, Full M...</td>\n",
       "      <td>https://in.indeed.com/cmp/Reliance-Industries-...</td>\n",
       "      <td>5</td>\n",
       "      <td>(Former Employee)  -   -  August 17, 2021</td>\n",
       "      <td>Reliance-Industries-Ltd</td>\n",
       "      <td>2021-08-17</td>\n",
       "      <td>2021</td>\n",
       "      <td>August</td>\n",
       "      <td>17</td>\n",
       "      <td>Former Employee</td>\n",
       "      <td>Positive</td>\n",
       "    </tr>\n",
       "  </tbody>\n",
       "</table>\n",
       "</div>"
      ],
      "text/plain": [
       "                       ReviewTitle  \\\n",
       "0                       Productive   \n",
       "1                        Stressful   \n",
       "2  Good Company for Every employee   \n",
       "\n",
       "                                      CompleteReview  \\\n",
       "0  Good company, cool workplace, work load little...   \n",
       "1  1. Need to work on boss's whims and fancies 2....   \n",
       "2  Good company for every Engineers dream, Full M...   \n",
       "\n",
       "                                                 URL  Rating  \\\n",
       "0  https://in.indeed.com/cmp/Reliance-Industries-...       3   \n",
       "1  https://in.indeed.com/cmp/Reliance-Industries-...       3   \n",
       "2  https://in.indeed.com/cmp/Reliance-Industries-...       5   \n",
       "\n",
       "                                       ReviewDetails             Company Name  \\\n",
       "0  (Current Employee)  -  Ghansoli  -  August 30,...  Reliance-Industries-Ltd   \n",
       "1          (Former Employee)  -   -  August 26, 2021  Reliance-Industries-Ltd   \n",
       "2          (Former Employee)  -   -  August 17, 2021  Reliance-Industries-Ltd   \n",
       "\n",
       "        Date  Year   Month Day   Employee Status  Category  \n",
       "0 2021-08-30  2021  August  30  Current Employee   Neutral  \n",
       "1 2021-08-26  2021  August  26   Former Employee   Neutral  \n",
       "2 2021-08-17  2021  August  17   Former Employee  Positive  "
      ]
     },
     "execution_count": 138,
     "metadata": {},
     "output_type": "execute_result"
    }
   ],
   "source": [
    "df.head(3)"
   ]
  },
  {
   "cell_type": "code",
   "execution_count": 143,
   "id": "db5826af",
   "metadata": {
    "ExecuteTime": {
     "end_time": "2021-09-27T14:36:35.837538Z",
     "start_time": "2021-09-27T14:36:35.820532Z"
    }
   },
   "outputs": [
    {
     "data": {
      "text/plain": [
       "Positive    110796\n",
       "Neutral      26465\n",
       "Negative      7788\n",
       "Name: Category, dtype: int64"
      ]
     },
     "execution_count": 143,
     "metadata": {},
     "output_type": "execute_result"
    }
   ],
   "source": [
    "df['Category'].value_counts()"
   ]
  },
  {
   "cell_type": "code",
   "execution_count": 139,
   "id": "8afcceea",
   "metadata": {
    "ExecuteTime": {
     "end_time": "2021-09-27T14:35:32.112802Z",
     "start_time": "2021-09-27T14:35:32.093752Z"
    }
   },
   "outputs": [],
   "source": [
    "df_category = pd.get_dummies(df['Category'])"
   ]
  },
  {
   "cell_type": "code",
   "execution_count": 140,
   "id": "e5af74b1",
   "metadata": {
    "ExecuteTime": {
     "end_time": "2021-09-27T14:35:34.827894Z",
     "start_time": "2021-09-27T14:35:34.816364Z"
    }
   },
   "outputs": [
    {
     "data": {
      "text/html": [
       "<div>\n",
       "<style scoped>\n",
       "    .dataframe tbody tr th:only-of-type {\n",
       "        vertical-align: middle;\n",
       "    }\n",
       "\n",
       "    .dataframe tbody tr th {\n",
       "        vertical-align: top;\n",
       "    }\n",
       "\n",
       "    .dataframe thead th {\n",
       "        text-align: right;\n",
       "    }\n",
       "</style>\n",
       "<table border=\"1\" class=\"dataframe\">\n",
       "  <thead>\n",
       "    <tr style=\"text-align: right;\">\n",
       "      <th></th>\n",
       "      <th>Negative</th>\n",
       "      <th>Neutral</th>\n",
       "      <th>Positive</th>\n",
       "    </tr>\n",
       "  </thead>\n",
       "  <tbody>\n",
       "    <tr>\n",
       "      <th>0</th>\n",
       "      <td>0</td>\n",
       "      <td>1</td>\n",
       "      <td>0</td>\n",
       "    </tr>\n",
       "    <tr>\n",
       "      <th>1</th>\n",
       "      <td>0</td>\n",
       "      <td>1</td>\n",
       "      <td>0</td>\n",
       "    </tr>\n",
       "    <tr>\n",
       "      <th>2</th>\n",
       "      <td>0</td>\n",
       "      <td>0</td>\n",
       "      <td>1</td>\n",
       "    </tr>\n",
       "    <tr>\n",
       "      <th>3</th>\n",
       "      <td>0</td>\n",
       "      <td>0</td>\n",
       "      <td>1</td>\n",
       "    </tr>\n",
       "    <tr>\n",
       "      <th>4</th>\n",
       "      <td>1</td>\n",
       "      <td>0</td>\n",
       "      <td>0</td>\n",
       "    </tr>\n",
       "    <tr>\n",
       "      <th>...</th>\n",
       "      <td>...</td>\n",
       "      <td>...</td>\n",
       "      <td>...</td>\n",
       "    </tr>\n",
       "    <tr>\n",
       "      <th>145044</th>\n",
       "      <td>0</td>\n",
       "      <td>0</td>\n",
       "      <td>1</td>\n",
       "    </tr>\n",
       "    <tr>\n",
       "      <th>145045</th>\n",
       "      <td>0</td>\n",
       "      <td>0</td>\n",
       "      <td>1</td>\n",
       "    </tr>\n",
       "    <tr>\n",
       "      <th>145046</th>\n",
       "      <td>0</td>\n",
       "      <td>0</td>\n",
       "      <td>1</td>\n",
       "    </tr>\n",
       "    <tr>\n",
       "      <th>145047</th>\n",
       "      <td>0</td>\n",
       "      <td>1</td>\n",
       "      <td>0</td>\n",
       "    </tr>\n",
       "    <tr>\n",
       "      <th>145048</th>\n",
       "      <td>0</td>\n",
       "      <td>0</td>\n",
       "      <td>1</td>\n",
       "    </tr>\n",
       "  </tbody>\n",
       "</table>\n",
       "<p>145049 rows × 3 columns</p>\n",
       "</div>"
      ],
      "text/plain": [
       "        Negative  Neutral  Positive\n",
       "0              0        1         0\n",
       "1              0        1         0\n",
       "2              0        0         1\n",
       "3              0        0         1\n",
       "4              1        0         0\n",
       "...          ...      ...       ...\n",
       "145044         0        0         1\n",
       "145045         0        0         1\n",
       "145046         0        0         1\n",
       "145047         0        1         0\n",
       "145048         0        0         1\n",
       "\n",
       "[145049 rows x 3 columns]"
      ]
     },
     "execution_count": 140,
     "metadata": {},
     "output_type": "execute_result"
    }
   ],
   "source": [
    "df_category"
   ]
  },
  {
   "cell_type": "code",
   "execution_count": 141,
   "id": "355a1cb8",
   "metadata": {
    "ExecuteTime": {
     "end_time": "2021-09-27T14:36:14.446573Z",
     "start_time": "2021-09-27T14:36:14.068819Z"
    }
   },
   "outputs": [],
   "source": [
    "df_new = pd.concat([df['CompleteReview'], df_category], axis=1)"
   ]
  },
  {
   "cell_type": "code",
   "execution_count": 142,
   "id": "d726b9e5",
   "metadata": {
    "ExecuteTime": {
     "end_time": "2021-09-27T14:36:16.131847Z",
     "start_time": "2021-09-27T14:36:16.119313Z"
    }
   },
   "outputs": [
    {
     "data": {
      "text/html": [
       "<div>\n",
       "<style scoped>\n",
       "    .dataframe tbody tr th:only-of-type {\n",
       "        vertical-align: middle;\n",
       "    }\n",
       "\n",
       "    .dataframe tbody tr th {\n",
       "        vertical-align: top;\n",
       "    }\n",
       "\n",
       "    .dataframe thead th {\n",
       "        text-align: right;\n",
       "    }\n",
       "</style>\n",
       "<table border=\"1\" class=\"dataframe\">\n",
       "  <thead>\n",
       "    <tr style=\"text-align: right;\">\n",
       "      <th></th>\n",
       "      <th>CompleteReview</th>\n",
       "      <th>Negative</th>\n",
       "      <th>Neutral</th>\n",
       "      <th>Positive</th>\n",
       "    </tr>\n",
       "  </thead>\n",
       "  <tbody>\n",
       "    <tr>\n",
       "      <th>0</th>\n",
       "      <td>Good company, cool workplace, work load little...</td>\n",
       "      <td>0</td>\n",
       "      <td>1</td>\n",
       "      <td>0</td>\n",
       "    </tr>\n",
       "    <tr>\n",
       "      <th>1</th>\n",
       "      <td>1. Need to work on boss's whims and fancies 2....</td>\n",
       "      <td>0</td>\n",
       "      <td>1</td>\n",
       "      <td>0</td>\n",
       "    </tr>\n",
       "    <tr>\n",
       "      <th>2</th>\n",
       "      <td>Good company for every Engineers dream, Full M...</td>\n",
       "      <td>0</td>\n",
       "      <td>0</td>\n",
       "      <td>1</td>\n",
       "    </tr>\n",
       "    <tr>\n",
       "      <th>3</th>\n",
       "      <td>I am just pass out bsc in chemistry Typical da...</td>\n",
       "      <td>0</td>\n",
       "      <td>0</td>\n",
       "      <td>1</td>\n",
       "    </tr>\n",
       "    <tr>\n",
       "      <th>4</th>\n",
       "      <td>Not so fun at work just blame games  Target pe...</td>\n",
       "      <td>1</td>\n",
       "      <td>0</td>\n",
       "      <td>0</td>\n",
       "    </tr>\n",
       "    <tr>\n",
       "      <th>...</th>\n",
       "      <td>...</td>\n",
       "      <td>...</td>\n",
       "      <td>...</td>\n",
       "      <td>...</td>\n",
       "    </tr>\n",
       "    <tr>\n",
       "      <th>145044</th>\n",
       "      <td>We get a lot to learn in the company. Very sys...</td>\n",
       "      <td>0</td>\n",
       "      <td>0</td>\n",
       "      <td>1</td>\n",
       "    </tr>\n",
       "    <tr>\n",
       "      <th>145045</th>\n",
       "      <td>Lot of scope to learn different technologies u...</td>\n",
       "      <td>0</td>\n",
       "      <td>0</td>\n",
       "      <td>1</td>\n",
       "    </tr>\n",
       "    <tr>\n",
       "      <th>145046</th>\n",
       "      <td>An overall positive experience, nice environme...</td>\n",
       "      <td>0</td>\n",
       "      <td>0</td>\n",
       "      <td>1</td>\n",
       "    </tr>\n",
       "    <tr>\n",
       "      <th>145047</th>\n",
       "      <td>Happy that I've started my career from such a ...</td>\n",
       "      <td>0</td>\n",
       "      <td>1</td>\n",
       "      <td>0</td>\n",
       "    </tr>\n",
       "    <tr>\n",
       "      <th>145048</th>\n",
       "      <td>Got good experience and knowledge about my wor...</td>\n",
       "      <td>0</td>\n",
       "      <td>0</td>\n",
       "      <td>1</td>\n",
       "    </tr>\n",
       "  </tbody>\n",
       "</table>\n",
       "<p>145049 rows × 4 columns</p>\n",
       "</div>"
      ],
      "text/plain": [
       "                                           CompleteReview  Negative  Neutral  \\\n",
       "0       Good company, cool workplace, work load little...         0        1   \n",
       "1       1. Need to work on boss's whims and fancies 2....         0        1   \n",
       "2       Good company for every Engineers dream, Full M...         0        0   \n",
       "3       I am just pass out bsc in chemistry Typical da...         0        0   \n",
       "4       Not so fun at work just blame games  Target pe...         1        0   \n",
       "...                                                   ...       ...      ...   \n",
       "145044  We get a lot to learn in the company. Very sys...         0        0   \n",
       "145045  Lot of scope to learn different technologies u...         0        0   \n",
       "145046  An overall positive experience, nice environme...         0        0   \n",
       "145047  Happy that I've started my career from such a ...         0        1   \n",
       "145048  Got good experience and knowledge about my wor...         0        0   \n",
       "\n",
       "        Positive  \n",
       "0              0  \n",
       "1              0  \n",
       "2              1  \n",
       "3              1  \n",
       "4              0  \n",
       "...          ...  \n",
       "145044         1  \n",
       "145045         1  \n",
       "145046         1  \n",
       "145047         0  \n",
       "145048         1  \n",
       "\n",
       "[145049 rows x 4 columns]"
      ]
     },
     "execution_count": 142,
     "metadata": {},
     "output_type": "execute_result"
    }
   ],
   "source": [
    "df_new"
   ]
  },
  {
   "cell_type": "markdown",
   "id": "e1c82653",
   "metadata": {},
   "source": [
    "## Build Model Without Oversampling"
   ]
  },
  {
   "cell_type": "code",
   "execution_count": 145,
   "id": "6ef5bca8",
   "metadata": {
    "ExecuteTime": {
     "end_time": "2021-09-27T14:47:23.133254Z",
     "start_time": "2021-09-27T14:47:23.026612Z"
    }
   },
   "outputs": [],
   "source": [
    "review = df_new['CompleteReview'].values\n",
    "category = df_new[['Negative', 'Neutral', 'Positive']].values"
   ]
  },
  {
   "cell_type": "code",
   "execution_count": 146,
   "id": "9bd0d58f",
   "metadata": {
    "ExecuteTime": {
     "end_time": "2021-09-27T14:49:38.967894Z",
     "start_time": "2021-09-27T14:49:38.683328Z"
    }
   },
   "outputs": [],
   "source": [
    "X_train, X_test, y_train, y_test = train_test_split(review, category, test_size=0.2, random_state=0)"
   ]
  },
  {
   "cell_type": "code",
   "execution_count": 148,
   "id": "fd886c8a",
   "metadata": {
    "ExecuteTime": {
     "end_time": "2021-09-27T14:51:56.776298Z",
     "start_time": "2021-09-27T14:51:39.547666Z"
    }
   },
   "outputs": [],
   "source": [
    "tokenizer = Tokenizer(num_words=50000, oov_token='-')\n",
    "tokenizer.fit_on_texts(X_train)\n",
    "tokenizer.fit_on_texts(X_test)\n",
    "\n",
    "sequence_train = tokenizer.texts_to_sequences(X_train)\n",
    "sequence_test = tokenizer.texts_to_sequences(X_train)\n",
    "\n",
    "pad_train = pad_sequences(sequence_train)\n",
    "pad_test = pad_sequences(sequence_test)"
   ]
  },
  {
   "cell_type": "markdown",
   "id": "3d7afbfc",
   "metadata": {},
   "source": [
    "**Callback**"
   ]
  },
  {
   "cell_type": "code",
   "execution_count": null,
   "id": "e52be599",
   "metadata": {},
   "outputs": [],
   "source": [
    "reduce_LR = tf.keras.callbacks.ReduceLROnPlateau(\n",
    "    monitor=\"val_loss\",\n",
    "    factor=0.15,\n",
    "    patience=5,\n",
    "    min_lr=2.e-5\n",
    ")\n",
    "\n",
    "stop_early = tf.keras.callbacks.EarlyStopping(\n",
    "    monitor=\"val_loss\",\n",
    "    min_delta=0,\n",
    "    patience=10,\n",
    "    verbose=0,\n",
    "    mode=\"auto\",\n",
    "    baseline=None,\n",
    "    restore_best_weights=True\n",
    ")"
   ]
  },
  {
   "cell_type": "markdown",
   "id": "656bf816",
   "metadata": {
    "ExecuteTime": {
     "end_time": "2021-09-27T14:52:36.318634Z",
     "start_time": "2021-09-27T14:52:36.313119Z"
    }
   },
   "source": [
    "**Create Sequential Model**"
   ]
  },
  {
   "cell_type": "code",
   "execution_count": null,
   "id": "67f6b474",
   "metadata": {},
   "outputs": [],
   "source": [
    "model = tf.keras.models.Sequential([\n",
    "   tf.keras.layers.Embedding(input_dim=50000, output_dim=64),\n",
    "   tf.keras.layers.Dropout(0.4),\n",
    "   tf.keras.layers.LSTM(64),\n",
    "   tf.keras.layers.Dropout(0.3),\n",
    "   tf.keras.layers.Dense(64, activation='relu'),\n",
    "   tf.keras.layers.Dropout(0.2),\n",
    "   tf.keras.layers.Dense(64, activation='relu'),\n",
    "   tf.keras.layers.Dense(6, activation='softmax')\n",
    "])"
   ]
  }
 ],
 "metadata": {
  "kernelspec": {
   "display_name": "NLP",
   "language": "python",
   "name": "nlp"
  },
  "language_info": {
   "codemirror_mode": {
    "name": "ipython",
    "version": 3
   },
   "file_extension": ".py",
   "mimetype": "text/x-python",
   "name": "python",
   "nbconvert_exporter": "python",
   "pygments_lexer": "ipython3",
   "version": "3.8.11"
  },
  "toc": {
   "base_numbering": 1,
   "nav_menu": {},
   "number_sections": false,
   "sideBar": true,
   "skip_h1_title": false,
   "title_cell": "Table of Contents",
   "title_sidebar": "Contents",
   "toc_cell": false,
   "toc_position": {},
   "toc_section_display": true,
   "toc_window_display": false
  },
  "varInspector": {
   "cols": {
    "lenName": 16,
    "lenType": 16,
    "lenVar": 40
   },
   "kernels_config": {
    "python": {
     "delete_cmd_postfix": "",
     "delete_cmd_prefix": "del ",
     "library": "var_list.py",
     "varRefreshCmd": "print(var_dic_list())"
    },
    "r": {
     "delete_cmd_postfix": ") ",
     "delete_cmd_prefix": "rm(",
     "library": "var_list.r",
     "varRefreshCmd": "cat(var_dic_list()) "
    }
   },
   "types_to_exclude": [
    "module",
    "function",
    "builtin_function_or_method",
    "instance",
    "_Feature"
   ],
   "window_display": false
  }
 },
 "nbformat": 4,
 "nbformat_minor": 5
}
