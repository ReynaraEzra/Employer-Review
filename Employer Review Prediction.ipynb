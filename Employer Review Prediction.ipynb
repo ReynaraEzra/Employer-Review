{
 "cells": [
  {
   "cell_type": "markdown",
   "id": "49fb471b",
   "metadata": {},
   "source": [
    "# Employer Review Prediction\n",
    "## Reynara Ezra Pratama"
   ]
  },
  {
   "cell_type": "markdown",
   "id": "cef00ba6",
   "metadata": {},
   "source": [
    "## Background"
   ]
  },
  {
   "cell_type": "markdown",
   "id": "e39e1d8f",
   "metadata": {},
   "source": []
  },
  {
   "cell_type": "markdown",
   "id": "4e5f8a11",
   "metadata": {},
   "source": [
    "## Business Understanding"
   ]
  },
  {
   "cell_type": "markdown",
   "id": "2d135b42",
   "metadata": {},
   "source": [
    "1. Mengetahui *review* yang diberikan oleh pegawai terhadap perusahaan.\n",
    "2. Memprediksi *review* yang diberikan dan mengkategorikannya ke dalam *review* yang bersifat positif, netral, atau negatif."
   ]
  },
  {
   "cell_type": "markdown",
   "id": "d8f3080c",
   "metadata": {},
   "source": [
    "## Data Understanding"
   ]
  },
  {
   "cell_type": "markdown",
   "id": "a1f5b8b4",
   "metadata": {},
   "source": [
    "1. `ReviewTitle` : Topik dari *review*.\n",
    "2. `CompleteReview` : *Review* yang diberikan pegawai perusahaan.\n",
    "3. `URL` : *Uniform Resource Locator*.\n",
    "4. `Rating` : Penilaian yang diberikan pegawai perusahaan.\n",
    "5. `ReviewDetails` : Detail mengenai *review*."
   ]
  },
  {
   "cell_type": "markdown",
   "id": "906bd1f9",
   "metadata": {},
   "source": [
    "## Import Library"
   ]
  },
  {
   "cell_type": "code",
   "execution_count": 1,
   "id": "6e4e5ad0",
   "metadata": {
    "ExecuteTime": {
     "end_time": "2021-09-23T06:59:40.814429Z",
     "start_time": "2021-09-23T06:58:17.067498Z"
    }
   },
   "outputs": [],
   "source": [
    "import pandas as pd\n",
    "import numpy as np\n",
    "import matplotlib.pyplot as plt\n",
    "import seaborn as sns\n",
    "\n",
    "import tensorflow as tf\n",
    "import nltk\n",
    "\n",
    "import warnings \n",
    "warnings.filterwarnings('ignore')"
   ]
  },
  {
   "cell_type": "markdown",
   "id": "82cc808b",
   "metadata": {},
   "source": [
    "## Loading Dataset"
   ]
  },
  {
   "cell_type": "markdown",
   "id": "b01d51b1",
   "metadata": {},
   "source": [
    "**Load Data From Github**"
   ]
  },
  {
   "cell_type": "code",
   "execution_count": 2,
   "id": "7b7f7b4c",
   "metadata": {
    "ExecuteTime": {
     "end_time": "2021-09-23T07:00:36.084131Z",
     "start_time": "2021-09-23T07:00:36.080621Z"
    }
   },
   "outputs": [],
   "source": [
    "# url = \"https://raw.githubusercontent.com/ReynaraEzra/Employer-Review/main/data_input/results.json\"\n",
    "# df = pd.read_json(url)"
   ]
  },
  {
   "cell_type": "markdown",
   "id": "03db9315",
   "metadata": {},
   "source": [
    "**Load Data From Local File**"
   ]
  },
  {
   "cell_type": "code",
   "execution_count": 4,
   "id": "40016622",
   "metadata": {
    "ExecuteTime": {
     "end_time": "2021-09-23T07:02:54.916154Z",
     "start_time": "2021-09-23T07:02:52.156428Z"
    }
   },
   "outputs": [],
   "source": [
    "df = pd.read_json('data_input/results.json')"
   ]
  },
  {
   "cell_type": "markdown",
   "id": "9c1800c1",
   "metadata": {},
   "source": [
    "## Checking Dataset"
   ]
  },
  {
   "cell_type": "code",
   "execution_count": 5,
   "id": "c6c56710",
   "metadata": {
    "ExecuteTime": {
     "end_time": "2021-09-23T07:04:00.413971Z",
     "start_time": "2021-09-23T07:04:00.292809Z"
    }
   },
   "outputs": [
    {
     "data": {
      "text/html": [
       "<div>\n",
       "<style scoped>\n",
       "    .dataframe tbody tr th:only-of-type {\n",
       "        vertical-align: middle;\n",
       "    }\n",
       "\n",
       "    .dataframe tbody tr th {\n",
       "        vertical-align: top;\n",
       "    }\n",
       "\n",
       "    .dataframe thead th {\n",
       "        text-align: right;\n",
       "    }\n",
       "</style>\n",
       "<table border=\"1\" class=\"dataframe\">\n",
       "  <thead>\n",
       "    <tr style=\"text-align: right;\">\n",
       "      <th></th>\n",
       "      <th>ReviewTitle</th>\n",
       "      <th>CompleteReview</th>\n",
       "      <th>URL</th>\n",
       "      <th>Rating</th>\n",
       "      <th>ReviewDetails</th>\n",
       "    </tr>\n",
       "  </thead>\n",
       "  <tbody>\n",
       "    <tr>\n",
       "      <th>0</th>\n",
       "      <td>Productive</td>\n",
       "      <td>Good company, cool workplace, work load little...</td>\n",
       "      <td>https://in.indeed.com/cmp/Reliance-Industries-...</td>\n",
       "      <td>3</td>\n",
       "      <td>(Current Employee)  -  Ghansoli  -  August 30,...</td>\n",
       "    </tr>\n",
       "    <tr>\n",
       "      <th>1</th>\n",
       "      <td>Stressful</td>\n",
       "      <td>1. Need to work on boss's whims and fancies 2....</td>\n",
       "      <td>https://in.indeed.com/cmp/Reliance-Industries-...</td>\n",
       "      <td>3</td>\n",
       "      <td>(Former Employee)  -   -  August 26, 2021</td>\n",
       "    </tr>\n",
       "    <tr>\n",
       "      <th>2</th>\n",
       "      <td>Good Company for Every employee</td>\n",
       "      <td>Good company for every Engineers dream, Full M...</td>\n",
       "      <td>https://in.indeed.com/cmp/Reliance-Industries-...</td>\n",
       "      <td>5</td>\n",
       "      <td>(Former Employee)  -   -  August 17, 2021</td>\n",
       "    </tr>\n",
       "    <tr>\n",
       "      <th>3</th>\n",
       "      <td>Productive</td>\n",
       "      <td>I am just pass out bsc in chemistry Typical da...</td>\n",
       "      <td>https://in.indeed.com/cmp/Reliance-Industries-...</td>\n",
       "      <td>5</td>\n",
       "      <td>(Current Employee)  -   -  August 17, 2021</td>\n",
       "    </tr>\n",
       "    <tr>\n",
       "      <th>4</th>\n",
       "      <td>Non productive</td>\n",
       "      <td>Not so fun at work just blame games  Target pe...</td>\n",
       "      <td>https://in.indeed.com/cmp/Reliance-Industries-...</td>\n",
       "      <td>1</td>\n",
       "      <td>(Former Employee)  -   -  August 9, 2021</td>\n",
       "    </tr>\n",
       "  </tbody>\n",
       "</table>\n",
       "</div>"
      ],
      "text/plain": [
       "                       ReviewTitle  \\\n",
       "0                       Productive   \n",
       "1                        Stressful   \n",
       "2  Good Company for Every employee   \n",
       "3                       Productive   \n",
       "4                   Non productive   \n",
       "\n",
       "                                      CompleteReview  \\\n",
       "0  Good company, cool workplace, work load little...   \n",
       "1  1. Need to work on boss's whims and fancies 2....   \n",
       "2  Good company for every Engineers dream, Full M...   \n",
       "3  I am just pass out bsc in chemistry Typical da...   \n",
       "4  Not so fun at work just blame games  Target pe...   \n",
       "\n",
       "                                                 URL  Rating  \\\n",
       "0  https://in.indeed.com/cmp/Reliance-Industries-...       3   \n",
       "1  https://in.indeed.com/cmp/Reliance-Industries-...       3   \n",
       "2  https://in.indeed.com/cmp/Reliance-Industries-...       5   \n",
       "3  https://in.indeed.com/cmp/Reliance-Industries-...       5   \n",
       "4  https://in.indeed.com/cmp/Reliance-Industries-...       1   \n",
       "\n",
       "                                       ReviewDetails  \n",
       "0  (Current Employee)  -  Ghansoli  -  August 30,...  \n",
       "1          (Former Employee)  -   -  August 26, 2021  \n",
       "2          (Former Employee)  -   -  August 17, 2021  \n",
       "3         (Current Employee)  -   -  August 17, 2021  \n",
       "4           (Former Employee)  -   -  August 9, 2021  "
      ]
     },
     "execution_count": 5,
     "metadata": {},
     "output_type": "execute_result"
    }
   ],
   "source": [
    "df.head()"
   ]
  },
  {
   "cell_type": "code",
   "execution_count": 6,
   "id": "985b0ec8",
   "metadata": {
    "ExecuteTime": {
     "end_time": "2021-09-23T07:04:03.868100Z",
     "start_time": "2021-09-23T07:04:03.855064Z"
    }
   },
   "outputs": [
    {
     "data": {
      "text/html": [
       "<div>\n",
       "<style scoped>\n",
       "    .dataframe tbody tr th:only-of-type {\n",
       "        vertical-align: middle;\n",
       "    }\n",
       "\n",
       "    .dataframe tbody tr th {\n",
       "        vertical-align: top;\n",
       "    }\n",
       "\n",
       "    .dataframe thead th {\n",
       "        text-align: right;\n",
       "    }\n",
       "</style>\n",
       "<table border=\"1\" class=\"dataframe\">\n",
       "  <thead>\n",
       "    <tr style=\"text-align: right;\">\n",
       "      <th></th>\n",
       "      <th>ReviewTitle</th>\n",
       "      <th>CompleteReview</th>\n",
       "      <th>URL</th>\n",
       "      <th>Rating</th>\n",
       "      <th>ReviewDetails</th>\n",
       "    </tr>\n",
       "  </thead>\n",
       "  <tbody>\n",
       "    <tr>\n",
       "      <th>145204</th>\n",
       "      <td>Definitely very good place to work and can hav...</td>\n",
       "      <td>We get a lot to learn in the company. Very sys...</td>\n",
       "      <td>https://in.indeed.com/cmp/Tata-Consultancy-Ser...</td>\n",
       "      <td>4</td>\n",
       "      <td>(Former Employee)  -   -  January 20, 2012</td>\n",
       "    </tr>\n",
       "    <tr>\n",
       "      <th>145205</th>\n",
       "      <td>IT Services Company; Great scope for improvement.</td>\n",
       "      <td>Lot of scope to learn different technologies u...</td>\n",
       "      <td>https://in.indeed.com/cmp/Tata-Consultancy-Ser...</td>\n",
       "      <td>4</td>\n",
       "      <td>(Former Employee)  -   -  January 19, 2012</td>\n",
       "    </tr>\n",
       "    <tr>\n",
       "      <th>145206</th>\n",
       "      <td>Productive, fun to work, great place to do cer...</td>\n",
       "      <td>An overall positive experience, nice environme...</td>\n",
       "      <td>https://in.indeed.com/cmp/Tata-Consultancy-Ser...</td>\n",
       "      <td>4</td>\n",
       "      <td>(Former Employee)  -   -  January 19, 2012</td>\n",
       "    </tr>\n",
       "    <tr>\n",
       "      <th>145207</th>\n",
       "      <td>Great place to start the career.</td>\n",
       "      <td>Happy that I've started my career from such a ...</td>\n",
       "      <td>https://in.indeed.com/cmp/Tata-Consultancy-Ser...</td>\n",
       "      <td>3</td>\n",
       "      <td>(Former Employee)  -   -  January 7, 2012</td>\n",
       "    </tr>\n",
       "    <tr>\n",
       "      <th>145208</th>\n",
       "      <td>Nice place to work</td>\n",
       "      <td>Got good experience and knowledge about my wor...</td>\n",
       "      <td>https://in.indeed.com/cmp/Tata-Consultancy-Ser...</td>\n",
       "      <td>5</td>\n",
       "      <td>(Former Employee)  -   -  December 19, 2011</td>\n",
       "    </tr>\n",
       "  </tbody>\n",
       "</table>\n",
       "</div>"
      ],
      "text/plain": [
       "                                              ReviewTitle  \\\n",
       "145204  Definitely very good place to work and can hav...   \n",
       "145205  IT Services Company; Great scope for improvement.   \n",
       "145206  Productive, fun to work, great place to do cer...   \n",
       "145207                   Great place to start the career.   \n",
       "145208                                 Nice place to work   \n",
       "\n",
       "                                           CompleteReview  \\\n",
       "145204  We get a lot to learn in the company. Very sys...   \n",
       "145205  Lot of scope to learn different technologies u...   \n",
       "145206  An overall positive experience, nice environme...   \n",
       "145207  Happy that I've started my career from such a ...   \n",
       "145208  Got good experience and knowledge about my wor...   \n",
       "\n",
       "                                                      URL  Rating  \\\n",
       "145204  https://in.indeed.com/cmp/Tata-Consultancy-Ser...       4   \n",
       "145205  https://in.indeed.com/cmp/Tata-Consultancy-Ser...       4   \n",
       "145206  https://in.indeed.com/cmp/Tata-Consultancy-Ser...       4   \n",
       "145207  https://in.indeed.com/cmp/Tata-Consultancy-Ser...       3   \n",
       "145208  https://in.indeed.com/cmp/Tata-Consultancy-Ser...       5   \n",
       "\n",
       "                                      ReviewDetails  \n",
       "145204   (Former Employee)  -   -  January 20, 2012  \n",
       "145205   (Former Employee)  -   -  January 19, 2012  \n",
       "145206   (Former Employee)  -   -  January 19, 2012  \n",
       "145207    (Former Employee)  -   -  January 7, 2012  \n",
       "145208  (Former Employee)  -   -  December 19, 2011  "
      ]
     },
     "execution_count": 6,
     "metadata": {},
     "output_type": "execute_result"
    }
   ],
   "source": [
    "df.tail()"
   ]
  },
  {
   "cell_type": "code",
   "execution_count": 7,
   "id": "94f4c508",
   "metadata": {
    "ExecuteTime": {
     "end_time": "2021-09-23T07:04:07.124395Z",
     "start_time": "2021-09-23T07:04:07.054668Z"
    }
   },
   "outputs": [
    {
     "data": {
      "text/html": [
       "<div>\n",
       "<style scoped>\n",
       "    .dataframe tbody tr th:only-of-type {\n",
       "        vertical-align: middle;\n",
       "    }\n",
       "\n",
       "    .dataframe tbody tr th {\n",
       "        vertical-align: top;\n",
       "    }\n",
       "\n",
       "    .dataframe thead th {\n",
       "        text-align: right;\n",
       "    }\n",
       "</style>\n",
       "<table border=\"1\" class=\"dataframe\">\n",
       "  <thead>\n",
       "    <tr style=\"text-align: right;\">\n",
       "      <th></th>\n",
       "      <th>ReviewTitle</th>\n",
       "      <th>CompleteReview</th>\n",
       "      <th>URL</th>\n",
       "      <th>Rating</th>\n",
       "      <th>ReviewDetails</th>\n",
       "    </tr>\n",
       "  </thead>\n",
       "  <tbody>\n",
       "    <tr>\n",
       "      <th>114481</th>\n",
       "      <td>Good place to work</td>\n",
       "      <td>It was a good place to work with friendly peop...</td>\n",
       "      <td>https://in.indeed.com/cmp/Cognizant-Technology...</td>\n",
       "      <td>4</td>\n",
       "      <td>(Former Employee)  -   -  January 5, 2017</td>\n",
       "    </tr>\n",
       "    <tr>\n",
       "      <th>50126</th>\n",
       "      <td>Management of the entire organisation was very...</td>\n",
       "      <td>HDFC is India's most successful private sector...</td>\n",
       "      <td>https://in.indeed.com/cmp/Hdfc-Bank/reviews?st...</td>\n",
       "      <td>4</td>\n",
       "      <td>(Former Employee)  -   -  April 13, 2019</td>\n",
       "    </tr>\n",
       "    <tr>\n",
       "      <th>32992</th>\n",
       "      <td>Great Research Groups at MSR</td>\n",
       "      <td>Was an intern at Microsoft Research India. Ver...</td>\n",
       "      <td>https://in.indeed.com/cmp/Microsoft/reviews?st...</td>\n",
       "      <td>5</td>\n",
       "      <td>(Current Employee)  -   -  November 15, 2018</td>\n",
       "    </tr>\n",
       "    <tr>\n",
       "      <th>11266</th>\n",
       "      <td>fun and challenging envoirment</td>\n",
       "      <td>Marriott Hyderabad have wonderful team with he...</td>\n",
       "      <td>https://in.indeed.com/cmp/Marriott-Internation...</td>\n",
       "      <td>5</td>\n",
       "      <td>(Current Employee)  -   -  October 17, 2016</td>\n",
       "    </tr>\n",
       "    <tr>\n",
       "      <th>54045</th>\n",
       "      <td>Productive and Fun</td>\n",
       "      <td>The job was well secured and paid well. Also t...</td>\n",
       "      <td>https://in.indeed.com/cmp/Wells-Fargo/reviews?...</td>\n",
       "      <td>4</td>\n",
       "      <td>(Former Employee)  -   -  April 12, 2020</td>\n",
       "    </tr>\n",
       "  </tbody>\n",
       "</table>\n",
       "</div>"
      ],
      "text/plain": [
       "                                              ReviewTitle  \\\n",
       "114481                                 Good place to work   \n",
       "50126   Management of the entire organisation was very...   \n",
       "32992                        Great Research Groups at MSR   \n",
       "11266                      fun and challenging envoirment   \n",
       "54045                                  Productive and Fun   \n",
       "\n",
       "                                           CompleteReview  \\\n",
       "114481  It was a good place to work with friendly peop...   \n",
       "50126   HDFC is India's most successful private sector...   \n",
       "32992   Was an intern at Microsoft Research India. Ver...   \n",
       "11266   Marriott Hyderabad have wonderful team with he...   \n",
       "54045   The job was well secured and paid well. Also t...   \n",
       "\n",
       "                                                      URL  Rating  \\\n",
       "114481  https://in.indeed.com/cmp/Cognizant-Technology...       4   \n",
       "50126   https://in.indeed.com/cmp/Hdfc-Bank/reviews?st...       4   \n",
       "32992   https://in.indeed.com/cmp/Microsoft/reviews?st...       5   \n",
       "11266   https://in.indeed.com/cmp/Marriott-Internation...       5   \n",
       "54045   https://in.indeed.com/cmp/Wells-Fargo/reviews?...       4   \n",
       "\n",
       "                                       ReviewDetails  \n",
       "114481     (Former Employee)  -   -  January 5, 2017  \n",
       "50126       (Former Employee)  -   -  April 13, 2019  \n",
       "32992   (Current Employee)  -   -  November 15, 2018  \n",
       "11266    (Current Employee)  -   -  October 17, 2016  \n",
       "54045       (Former Employee)  -   -  April 12, 2020  "
      ]
     },
     "execution_count": 7,
     "metadata": {},
     "output_type": "execute_result"
    }
   ],
   "source": [
    "df.sample(5)"
   ]
  },
  {
   "cell_type": "markdown",
   "id": "21953877",
   "metadata": {},
   "source": [
    "## Check Characteristic Data"
   ]
  },
  {
   "cell_type": "markdown",
   "id": "1a553121",
   "metadata": {},
   "source": [
    "**Data Shape**"
   ]
  },
  {
   "cell_type": "code",
   "execution_count": 8,
   "id": "f460b9bd",
   "metadata": {
    "ExecuteTime": {
     "end_time": "2021-09-23T07:04:36.918027Z",
     "start_time": "2021-09-23T07:04:36.912511Z"
    }
   },
   "outputs": [
    {
     "data": {
      "text/plain": [
       "(145209, 5)"
      ]
     },
     "execution_count": 8,
     "metadata": {},
     "output_type": "execute_result"
    }
   ],
   "source": [
    "df.shape"
   ]
  },
  {
   "cell_type": "markdown",
   "id": "b5587e2c",
   "metadata": {},
   "source": [
    "**Data Columns**"
   ]
  },
  {
   "cell_type": "code",
   "execution_count": 9,
   "id": "e33459ee",
   "metadata": {
    "ExecuteTime": {
     "end_time": "2021-09-23T07:04:50.325183Z",
     "start_time": "2021-09-23T07:04:50.320169Z"
    }
   },
   "outputs": [
    {
     "data": {
      "text/plain": [
       "Index(['ReviewTitle', 'CompleteReview', 'URL', 'Rating', 'ReviewDetails'], dtype='object')"
      ]
     },
     "execution_count": 9,
     "metadata": {},
     "output_type": "execute_result"
    }
   ],
   "source": [
    "df.columns"
   ]
  },
  {
   "cell_type": "markdown",
   "id": "cafea2e5",
   "metadata": {},
   "source": [
    "**Data Info**"
   ]
  },
  {
   "cell_type": "code",
   "execution_count": 10,
   "id": "13120fc7",
   "metadata": {
    "ExecuteTime": {
     "end_time": "2021-09-23T07:05:06.388147Z",
     "start_time": "2021-09-23T07:05:06.109427Z"
    }
   },
   "outputs": [
    {
     "name": "stdout",
     "output_type": "stream",
     "text": [
      "<class 'pandas.core.frame.DataFrame'>\n",
      "RangeIndex: 145209 entries, 0 to 145208\n",
      "Data columns (total 5 columns):\n",
      " #   Column          Non-Null Count   Dtype \n",
      "---  ------          --------------   ----- \n",
      " 0   ReviewTitle     145209 non-null  object\n",
      " 1   CompleteReview  145209 non-null  object\n",
      " 2   URL             145209 non-null  object\n",
      " 3   Rating          145209 non-null  int64 \n",
      " 4   ReviewDetails   145209 non-null  object\n",
      "dtypes: int64(1), object(4)\n",
      "memory usage: 5.5+ MB\n"
     ]
    }
   ],
   "source": [
    "df.info()"
   ]
  },
  {
   "cell_type": "markdown",
   "id": "67f89752",
   "metadata": {},
   "source": [
    "**Descriptive Statistic**"
   ]
  },
  {
   "cell_type": "code",
   "execution_count": 11,
   "id": "735afcc0",
   "metadata": {
    "ExecuteTime": {
     "end_time": "2021-09-23T07:05:24.949143Z",
     "start_time": "2021-09-23T07:05:24.792851Z"
    }
   },
   "outputs": [
    {
     "data": {
      "text/html": [
       "<div>\n",
       "<style scoped>\n",
       "    .dataframe tbody tr th:only-of-type {\n",
       "        vertical-align: middle;\n",
       "    }\n",
       "\n",
       "    .dataframe tbody tr th {\n",
       "        vertical-align: top;\n",
       "    }\n",
       "\n",
       "    .dataframe thead th {\n",
       "        text-align: right;\n",
       "    }\n",
       "</style>\n",
       "<table border=\"1\" class=\"dataframe\">\n",
       "  <thead>\n",
       "    <tr style=\"text-align: right;\">\n",
       "      <th></th>\n",
       "      <th>Rating</th>\n",
       "    </tr>\n",
       "  </thead>\n",
       "  <tbody>\n",
       "    <tr>\n",
       "      <th>count</th>\n",
       "      <td>145209.000000</td>\n",
       "    </tr>\n",
       "    <tr>\n",
       "      <th>mean</th>\n",
       "      <td>4.053661</td>\n",
       "    </tr>\n",
       "    <tr>\n",
       "      <th>std</th>\n",
       "      <td>0.925805</td>\n",
       "    </tr>\n",
       "    <tr>\n",
       "      <th>min</th>\n",
       "      <td>1.000000</td>\n",
       "    </tr>\n",
       "    <tr>\n",
       "      <th>25%</th>\n",
       "      <td>4.000000</td>\n",
       "    </tr>\n",
       "    <tr>\n",
       "      <th>50%</th>\n",
       "      <td>4.000000</td>\n",
       "    </tr>\n",
       "    <tr>\n",
       "      <th>75%</th>\n",
       "      <td>5.000000</td>\n",
       "    </tr>\n",
       "    <tr>\n",
       "      <th>max</th>\n",
       "      <td>5.000000</td>\n",
       "    </tr>\n",
       "  </tbody>\n",
       "</table>\n",
       "</div>"
      ],
      "text/plain": [
       "              Rating\n",
       "count  145209.000000\n",
       "mean        4.053661\n",
       "std         0.925805\n",
       "min         1.000000\n",
       "25%         4.000000\n",
       "50%         4.000000\n",
       "75%         5.000000\n",
       "max         5.000000"
      ]
     },
     "execution_count": 11,
     "metadata": {},
     "output_type": "execute_result"
    }
   ],
   "source": [
    "df.describe()"
   ]
  },
  {
   "cell_type": "markdown",
   "id": "fbbe802f",
   "metadata": {},
   "source": [
    "**Check Missing Value**"
   ]
  },
  {
   "cell_type": "code",
   "execution_count": 12,
   "id": "4961cb6c",
   "metadata": {
    "ExecuteTime": {
     "end_time": "2021-09-23T07:05:43.400338Z",
     "start_time": "2021-09-23T07:05:43.351210Z"
    }
   },
   "outputs": [
    {
     "data": {
      "text/plain": [
       "ReviewTitle       0\n",
       "CompleteReview    0\n",
       "URL               0\n",
       "Rating            0\n",
       "ReviewDetails     0\n",
       "dtype: int64"
      ]
     },
     "execution_count": 12,
     "metadata": {},
     "output_type": "execute_result"
    }
   ],
   "source": [
    "df.isnull().sum()"
   ]
  },
  {
   "cell_type": "markdown",
   "id": "e26c7263",
   "metadata": {},
   "source": [
    "**Check and Drop Duplicate Data**"
   ]
  },
  {
   "cell_type": "code",
   "execution_count": 14,
   "id": "f5acaa24",
   "metadata": {
    "ExecuteTime": {
     "end_time": "2021-09-23T07:08:11.962627Z",
     "start_time": "2021-09-23T07:08:11.703146Z"
    }
   },
   "outputs": [],
   "source": [
    "df = df.drop_duplicates(keep='first')"
   ]
  },
  {
   "cell_type": "code",
   "execution_count": 15,
   "id": "702da88c",
   "metadata": {
    "ExecuteTime": {
     "end_time": "2021-09-23T07:08:17.318810Z",
     "start_time": "2021-09-23T07:08:17.313329Z"
    }
   },
   "outputs": [
    {
     "data": {
      "text/plain": [
       "(145191, 5)"
      ]
     },
     "execution_count": 15,
     "metadata": {},
     "output_type": "execute_result"
    }
   ],
   "source": [
    "df.shape"
   ]
  },
  {
   "cell_type": "markdown",
   "id": "2e7aa3db",
   "metadata": {},
   "source": [
    "## Feature Extraction"
   ]
  },
  {
   "cell_type": "code",
   "execution_count": 16,
   "id": "f42317ff",
   "metadata": {
    "ExecuteTime": {
     "end_time": "2021-09-23T07:08:54.199343Z",
     "start_time": "2021-09-23T07:08:54.188276Z"
    }
   },
   "outputs": [
    {
     "data": {
      "text/html": [
       "<div>\n",
       "<style scoped>\n",
       "    .dataframe tbody tr th:only-of-type {\n",
       "        vertical-align: middle;\n",
       "    }\n",
       "\n",
       "    .dataframe tbody tr th {\n",
       "        vertical-align: top;\n",
       "    }\n",
       "\n",
       "    .dataframe thead th {\n",
       "        text-align: right;\n",
       "    }\n",
       "</style>\n",
       "<table border=\"1\" class=\"dataframe\">\n",
       "  <thead>\n",
       "    <tr style=\"text-align: right;\">\n",
       "      <th></th>\n",
       "      <th>ReviewTitle</th>\n",
       "      <th>CompleteReview</th>\n",
       "      <th>URL</th>\n",
       "      <th>Rating</th>\n",
       "      <th>ReviewDetails</th>\n",
       "    </tr>\n",
       "  </thead>\n",
       "  <tbody>\n",
       "    <tr>\n",
       "      <th>0</th>\n",
       "      <td>Productive</td>\n",
       "      <td>Good company, cool workplace, work load little...</td>\n",
       "      <td>https://in.indeed.com/cmp/Reliance-Industries-...</td>\n",
       "      <td>3</td>\n",
       "      <td>(Current Employee)  -  Ghansoli  -  August 30,...</td>\n",
       "    </tr>\n",
       "    <tr>\n",
       "      <th>1</th>\n",
       "      <td>Stressful</td>\n",
       "      <td>1. Need to work on boss's whims and fancies 2....</td>\n",
       "      <td>https://in.indeed.com/cmp/Reliance-Industries-...</td>\n",
       "      <td>3</td>\n",
       "      <td>(Former Employee)  -   -  August 26, 2021</td>\n",
       "    </tr>\n",
       "    <tr>\n",
       "      <th>2</th>\n",
       "      <td>Good Company for Every employee</td>\n",
       "      <td>Good company for every Engineers dream, Full M...</td>\n",
       "      <td>https://in.indeed.com/cmp/Reliance-Industries-...</td>\n",
       "      <td>5</td>\n",
       "      <td>(Former Employee)  -   -  August 17, 2021</td>\n",
       "    </tr>\n",
       "  </tbody>\n",
       "</table>\n",
       "</div>"
      ],
      "text/plain": [
       "                       ReviewTitle  \\\n",
       "0                       Productive   \n",
       "1                        Stressful   \n",
       "2  Good Company for Every employee   \n",
       "\n",
       "                                      CompleteReview  \\\n",
       "0  Good company, cool workplace, work load little...   \n",
       "1  1. Need to work on boss's whims and fancies 2....   \n",
       "2  Good company for every Engineers dream, Full M...   \n",
       "\n",
       "                                                 URL  Rating  \\\n",
       "0  https://in.indeed.com/cmp/Reliance-Industries-...       3   \n",
       "1  https://in.indeed.com/cmp/Reliance-Industries-...       3   \n",
       "2  https://in.indeed.com/cmp/Reliance-Industries-...       5   \n",
       "\n",
       "                                       ReviewDetails  \n",
       "0  (Current Employee)  -  Ghansoli  -  August 30,...  \n",
       "1          (Former Employee)  -   -  August 26, 2021  \n",
       "2          (Former Employee)  -   -  August 17, 2021  "
      ]
     },
     "execution_count": 16,
     "metadata": {},
     "output_type": "execute_result"
    }
   ],
   "source": [
    "df.head(3)"
   ]
  },
  {
   "cell_type": "code",
   "execution_count": 21,
   "id": "4cfab369",
   "metadata": {
    "ExecuteTime": {
     "end_time": "2021-09-23T07:17:31.547927Z",
     "start_time": "2021-09-23T07:17:31.258205Z"
    }
   },
   "outputs": [
    {
     "data": {
      "text/plain": [
       "0    [https:, , in.indeed.com, cmp, Reliance-Indust...\n",
       "1    [https:, , in.indeed.com, cmp, Reliance-Indust...\n",
       "2    [https:, , in.indeed.com, cmp, Reliance-Indust...\n",
       "3    [https:, , in.indeed.com, cmp, Reliance-Indust...\n",
       "4    [https:, , in.indeed.com, cmp, Reliance-Indust...\n",
       "Name: URL, dtype: object"
      ]
     },
     "execution_count": 21,
     "metadata": {},
     "output_type": "execute_result"
    }
   ],
   "source": [
    "dummy = df['URL'].str.split('/')\n",
    "dummy.head()"
   ]
  },
  {
   "cell_type": "code",
   "execution_count": 22,
   "id": "94afd0b5",
   "metadata": {
    "ExecuteTime": {
     "end_time": "2021-09-23T07:17:37.885585Z",
     "start_time": "2021-09-23T07:17:37.767359Z"
    }
   },
   "outputs": [
    {
     "data": {
      "text/plain": [
       "0    Reliance-Industries-Ltd\n",
       "1    Reliance-Industries-Ltd\n",
       "2    Reliance-Industries-Ltd\n",
       "3    Reliance-Industries-Ltd\n",
       "4    Reliance-Industries-Ltd\n",
       "Name: URL, dtype: object"
      ]
     },
     "execution_count": 22,
     "metadata": {},
     "output_type": "execute_result"
    }
   ],
   "source": [
    "dummy = dummy.str[4]\n",
    "dummy.head()"
   ]
  },
  {
   "cell_type": "code",
   "execution_count": null,
   "id": "c62c8b3c",
   "metadata": {},
   "outputs": [],
   "source": []
  },
  {
   "cell_type": "code",
   "execution_count": null,
   "id": "d67b0994",
   "metadata": {},
   "outputs": [],
   "source": []
  }
 ],
 "metadata": {
  "kernelspec": {
   "display_name": "NLP",
   "language": "python",
   "name": "nlp"
  },
  "language_info": {
   "codemirror_mode": {
    "name": "ipython",
    "version": 3
   },
   "file_extension": ".py",
   "mimetype": "text/x-python",
   "name": "python",
   "nbconvert_exporter": "python",
   "pygments_lexer": "ipython3",
   "version": "3.8.11"
  },
  "toc": {
   "base_numbering": 1,
   "nav_menu": {},
   "number_sections": false,
   "sideBar": true,
   "skip_h1_title": false,
   "title_cell": "Table of Contents",
   "title_sidebar": "Contents",
   "toc_cell": false,
   "toc_position": {},
   "toc_section_display": true,
   "toc_window_display": false
  },
  "varInspector": {
   "cols": {
    "lenName": 16,
    "lenType": 16,
    "lenVar": 40
   },
   "kernels_config": {
    "python": {
     "delete_cmd_postfix": "",
     "delete_cmd_prefix": "del ",
     "library": "var_list.py",
     "varRefreshCmd": "print(var_dic_list())"
    },
    "r": {
     "delete_cmd_postfix": ") ",
     "delete_cmd_prefix": "rm(",
     "library": "var_list.r",
     "varRefreshCmd": "cat(var_dic_list()) "
    }
   },
   "types_to_exclude": [
    "module",
    "function",
    "builtin_function_or_method",
    "instance",
    "_Feature"
   ],
   "window_display": false
  }
 },
 "nbformat": 4,
 "nbformat_minor": 5
}
