{
 "cells": [
  {
   "cell_type": "markdown",
   "id": "38fd3639",
   "metadata": {},
   "source": [
    "# Employer Review Prediction\n",
    "## Reynara Ezra Pratama"
   ]
  },
  {
   "cell_type": "markdown",
   "id": "06b36094",
   "metadata": {},
   "source": [
    "## Background"
   ]
  },
  {
   "cell_type": "markdown",
   "id": "aeeeaeea",
   "metadata": {},
   "source": [
    "## Business Understanding"
   ]
  },
  {
   "cell_type": "markdown",
   "id": "4e56a1c3",
   "metadata": {},
   "source": [
    "## Data Understanding"
   ]
  },
  {
   "cell_type": "markdown",
   "id": "8639c612",
   "metadata": {},
   "source": [
    "1. `ReviewTitle` : Topik dari *review*.\n",
    "2. `CompleteReview` : *Review* yang diberikan pegawai perusahaan.\n",
    "3. `URL` : *Uniform Resource Locator*.\n",
    "4. `Rating` : Penilaian yang diberikan pegawai perusahaan.\n",
    "5. `ReviewDetails` : Detail mengenai *review*."
   ]
  },
  {
   "cell_type": "markdown",
   "id": "8af8b12c",
   "metadata": {},
   "source": [
    "## Import Library"
   ]
  },
  {
   "cell_type": "code",
   "execution_count": 1,
   "id": "4f5a62ee",
   "metadata": {
    "ExecuteTime": {
     "end_time": "2021-09-23T06:59:40.814429Z",
     "start_time": "2021-09-23T06:58:17.067498Z"
    }
   },
   "outputs": [],
   "source": [
    "import pandas as pd\n",
    "import numpy as np\n",
    "import matplotlib.pyplot as plt\n",
    "import seaborn as sns\n",
    "\n",
    "import tensorflow as tf\n",
    "import nltk\n",
    "\n",
    "import warnings \n",
    "warnings.filterwarnings('ignore')"
   ]
  },
  {
   "cell_type": "markdown",
   "id": "94689ee6",
   "metadata": {},
   "source": [
    "## Loading Dataset"
   ]
  },
  {
   "cell_type": "markdown",
   "id": "e6df5e6e",
   "metadata": {},
   "source": [
    "**Load Data From Github**"
   ]
  },
  {
   "cell_type": "code",
   "execution_count": null,
   "id": "0e834ecc",
   "metadata": {},
   "outputs": [],
   "source": [
    "# url = \"https://raw.githubusercontent.com/ReynaraEzra/Employer-Review/main/data_input/results.json\"\n",
    "# df = pd.read_json(url)"
   ]
  },
  {
   "cell_type": "markdown",
   "id": "c2d6c426",
   "metadata": {},
   "source": [
    "**Load Data From Local File**"
   ]
  },
  {
   "cell_type": "code",
   "execution_count": null,
   "id": "bc269b64",
   "metadata": {},
   "outputs": [],
   "source": [
    "df = pd.read_json('data_input/result.json')"
   ]
  }
 ],
 "metadata": {
  "kernelspec": {
   "display_name": "NLP",
   "language": "python",
   "name": "nlp"
  },
  "language_info": {
   "codemirror_mode": {
    "name": "ipython",
    "version": 3
   },
   "file_extension": ".py",
   "mimetype": "text/x-python",
   "name": "python",
   "nbconvert_exporter": "python",
   "pygments_lexer": "ipython3",
   "version": "3.8.11"
  },
  "toc": {
   "base_numbering": 1,
   "nav_menu": {},
   "number_sections": false,
   "sideBar": true,
   "skip_h1_title": false,
   "title_cell": "Table of Contents",
   "title_sidebar": "Contents",
   "toc_cell": false,
   "toc_position": {},
   "toc_section_display": true,
   "toc_window_display": false
  },
  "varInspector": {
   "cols": {
    "lenName": 16,
    "lenType": 16,
    "lenVar": 40
   },
   "kernels_config": {
    "python": {
     "delete_cmd_postfix": "",
     "delete_cmd_prefix": "del ",
     "library": "var_list.py",
     "varRefreshCmd": "print(var_dic_list())"
    },
    "r": {
     "delete_cmd_postfix": ") ",
     "delete_cmd_prefix": "rm(",
     "library": "var_list.r",
     "varRefreshCmd": "cat(var_dic_list()) "
    }
   },
   "types_to_exclude": [
    "module",
    "function",
    "builtin_function_or_method",
    "instance",
    "_Feature"
   ],
   "window_display": false
  }
 },
 "nbformat": 4,
 "nbformat_minor": 5
}
