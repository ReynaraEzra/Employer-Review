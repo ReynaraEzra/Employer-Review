{
 "cells": [
  {
   "cell_type": "markdown",
   "id": "4bd2e5a9",
   "metadata": {},
   "source": [
    "# Employer Review Prediction\n",
    "## Reynara Ezra Pratama"
   ]
  },
  {
   "cell_type": "markdown",
   "id": "cea14dc2",
   "metadata": {},
   "source": [
    "## Background"
   ]
  },
  {
   "cell_type": "markdown",
   "id": "16bef603",
   "metadata": {},
   "source": []
  },
  {
   "cell_type": "markdown",
   "id": "fbb2ecc8",
   "metadata": {},
   "source": [
    "## Business Understanding"
   ]
  },
  {
   "cell_type": "markdown",
   "id": "7835786a",
   "metadata": {},
   "source": [
    "1. Mengetahui *review* yang diberikan oleh pegawai terhadap perusahaan.\n",
    "2. Memprediksi *review* yang diberikan dan mengkategorikannya ke dalam *review* yang bersifat positif, netral, atau negatif."
   ]
  },
  {
   "cell_type": "markdown",
   "id": "9ce6765f",
   "metadata": {},
   "source": [
    "## Data Understanding"
   ]
  },
  {
   "cell_type": "markdown",
   "id": "d6c2e1e6",
   "metadata": {},
   "source": [
    "1. `ReviewTitle` : Topik dari *review*.\n",
    "2. `CompleteReview` : *Review* yang diberikan pegawai perusahaan.\n",
    "3. `URL` : *Uniform Resource Locator*.\n",
    "4. `Rating` : Penilaian yang diberikan pegawai perusahaan.\n",
    "5. `ReviewDetails` : Detail mengenai *review*."
   ]
  },
  {
   "cell_type": "markdown",
   "id": "e23e821e",
   "metadata": {},
   "source": [
    "## Import Library"
   ]
  },
  {
   "cell_type": "code",
   "execution_count": 37,
   "id": "9748b717",
   "metadata": {
    "ExecuteTime": {
     "end_time": "2021-09-26T06:01:26.391996Z",
     "start_time": "2021-09-26T06:01:26.387483Z"
    }
   },
   "outputs": [],
   "source": [
    "import pandas as pd\n",
    "import numpy as np\n",
    "import matplotlib.pyplot as plt\n",
    "import seaborn as sns\n",
    "\n",
    "from sklearn.preprocessing import OneHotEncoder\n",
    "\n",
    "from sklearn.model_selection import train_test_split\n",
    "\n",
    "from sklearn.metrics import confusion_matrix\n",
    "from sklearn.metrics import accuracy_score\n",
    "from sklearn.metrics import recall_score\n",
    "from sklearn.metrics import precision_score\n",
    "from sklearn.metrics import f1_score\n",
    "\n",
    "import tensorflow as tf\n",
    "import nltk\n",
    "\n",
    "import warnings \n",
    "warnings.filterwarnings('ignore')"
   ]
  },
  {
   "cell_type": "markdown",
   "id": "e7c61f81",
   "metadata": {},
   "source": [
    "## Loading Dataset"
   ]
  },
  {
   "cell_type": "markdown",
   "id": "e5629108",
   "metadata": {},
   "source": [
    "**Load Data From Github**"
   ]
  },
  {
   "cell_type": "code",
   "execution_count": 2,
   "id": "8a9ad1b5",
   "metadata": {
    "ExecuteTime": {
     "end_time": "2021-09-26T05:35:36.396184Z",
     "start_time": "2021-09-26T05:35:36.392674Z"
    }
   },
   "outputs": [],
   "source": [
    "# url = \"https://raw.githubusercontent.com/ReynaraEzra/Employer-Review/main/data_input/results.json\"\n",
    "# df = pd.read_json(url)"
   ]
  },
  {
   "cell_type": "markdown",
   "id": "244cba15",
   "metadata": {},
   "source": [
    "**Load Data From Local File**"
   ]
  },
  {
   "cell_type": "code",
   "execution_count": 3,
   "id": "4e4c39e0",
   "metadata": {
    "ExecuteTime": {
     "end_time": "2021-09-26T05:35:38.272287Z",
     "start_time": "2021-09-26T05:35:36.399191Z"
    }
   },
   "outputs": [],
   "source": [
    "df = pd.read_json('data_input/results.json')"
   ]
  },
  {
   "cell_type": "markdown",
   "id": "d9c301e5",
   "metadata": {},
   "source": [
    "## Checking Dataset"
   ]
  },
  {
   "cell_type": "code",
   "execution_count": 4,
   "id": "d9532c99",
   "metadata": {
    "ExecuteTime": {
     "end_time": "2021-09-26T05:35:38.487663Z",
     "start_time": "2021-09-26T05:35:38.274746Z"
    }
   },
   "outputs": [
    {
     "data": {
      "text/html": [
       "<div>\n",
       "<style scoped>\n",
       "    .dataframe tbody tr th:only-of-type {\n",
       "        vertical-align: middle;\n",
       "    }\n",
       "\n",
       "    .dataframe tbody tr th {\n",
       "        vertical-align: top;\n",
       "    }\n",
       "\n",
       "    .dataframe thead th {\n",
       "        text-align: right;\n",
       "    }\n",
       "</style>\n",
       "<table border=\"1\" class=\"dataframe\">\n",
       "  <thead>\n",
       "    <tr style=\"text-align: right;\">\n",
       "      <th></th>\n",
       "      <th>ReviewTitle</th>\n",
       "      <th>CompleteReview</th>\n",
       "      <th>URL</th>\n",
       "      <th>Rating</th>\n",
       "      <th>ReviewDetails</th>\n",
       "    </tr>\n",
       "  </thead>\n",
       "  <tbody>\n",
       "    <tr>\n",
       "      <th>0</th>\n",
       "      <td>Productive</td>\n",
       "      <td>Good company, cool workplace, work load little...</td>\n",
       "      <td>https://in.indeed.com/cmp/Reliance-Industries-...</td>\n",
       "      <td>3</td>\n",
       "      <td>(Current Employee)  -  Ghansoli  -  August 30,...</td>\n",
       "    </tr>\n",
       "    <tr>\n",
       "      <th>1</th>\n",
       "      <td>Stressful</td>\n",
       "      <td>1. Need to work on boss's whims and fancies 2....</td>\n",
       "      <td>https://in.indeed.com/cmp/Reliance-Industries-...</td>\n",
       "      <td>3</td>\n",
       "      <td>(Former Employee)  -   -  August 26, 2021</td>\n",
       "    </tr>\n",
       "    <tr>\n",
       "      <th>2</th>\n",
       "      <td>Good Company for Every employee</td>\n",
       "      <td>Good company for every Engineers dream, Full M...</td>\n",
       "      <td>https://in.indeed.com/cmp/Reliance-Industries-...</td>\n",
       "      <td>5</td>\n",
       "      <td>(Former Employee)  -   -  August 17, 2021</td>\n",
       "    </tr>\n",
       "    <tr>\n",
       "      <th>3</th>\n",
       "      <td>Productive</td>\n",
       "      <td>I am just pass out bsc in chemistry Typical da...</td>\n",
       "      <td>https://in.indeed.com/cmp/Reliance-Industries-...</td>\n",
       "      <td>5</td>\n",
       "      <td>(Current Employee)  -   -  August 17, 2021</td>\n",
       "    </tr>\n",
       "    <tr>\n",
       "      <th>4</th>\n",
       "      <td>Non productive</td>\n",
       "      <td>Not so fun at work just blame games  Target pe...</td>\n",
       "      <td>https://in.indeed.com/cmp/Reliance-Industries-...</td>\n",
       "      <td>1</td>\n",
       "      <td>(Former Employee)  -   -  August 9, 2021</td>\n",
       "    </tr>\n",
       "  </tbody>\n",
       "</table>\n",
       "</div>"
      ],
      "text/plain": [
       "                       ReviewTitle  \\\n",
       "0                       Productive   \n",
       "1                        Stressful   \n",
       "2  Good Company for Every employee   \n",
       "3                       Productive   \n",
       "4                   Non productive   \n",
       "\n",
       "                                      CompleteReview  \\\n",
       "0  Good company, cool workplace, work load little...   \n",
       "1  1. Need to work on boss's whims and fancies 2....   \n",
       "2  Good company for every Engineers dream, Full M...   \n",
       "3  I am just pass out bsc in chemistry Typical da...   \n",
       "4  Not so fun at work just blame games  Target pe...   \n",
       "\n",
       "                                                 URL  Rating  \\\n",
       "0  https://in.indeed.com/cmp/Reliance-Industries-...       3   \n",
       "1  https://in.indeed.com/cmp/Reliance-Industries-...       3   \n",
       "2  https://in.indeed.com/cmp/Reliance-Industries-...       5   \n",
       "3  https://in.indeed.com/cmp/Reliance-Industries-...       5   \n",
       "4  https://in.indeed.com/cmp/Reliance-Industries-...       1   \n",
       "\n",
       "                                       ReviewDetails  \n",
       "0  (Current Employee)  -  Ghansoli  -  August 30,...  \n",
       "1          (Former Employee)  -   -  August 26, 2021  \n",
       "2          (Former Employee)  -   -  August 17, 2021  \n",
       "3         (Current Employee)  -   -  August 17, 2021  \n",
       "4           (Former Employee)  -   -  August 9, 2021  "
      ]
     },
     "execution_count": 4,
     "metadata": {},
     "output_type": "execute_result"
    }
   ],
   "source": [
    "df.head()"
   ]
  },
  {
   "cell_type": "code",
   "execution_count": 5,
   "id": "1e0bc3f9",
   "metadata": {
    "ExecuteTime": {
     "end_time": "2021-09-26T05:35:38.503169Z",
     "start_time": "2021-09-26T05:35:38.490634Z"
    }
   },
   "outputs": [
    {
     "data": {
      "text/html": [
       "<div>\n",
       "<style scoped>\n",
       "    .dataframe tbody tr th:only-of-type {\n",
       "        vertical-align: middle;\n",
       "    }\n",
       "\n",
       "    .dataframe tbody tr th {\n",
       "        vertical-align: top;\n",
       "    }\n",
       "\n",
       "    .dataframe thead th {\n",
       "        text-align: right;\n",
       "    }\n",
       "</style>\n",
       "<table border=\"1\" class=\"dataframe\">\n",
       "  <thead>\n",
       "    <tr style=\"text-align: right;\">\n",
       "      <th></th>\n",
       "      <th>ReviewTitle</th>\n",
       "      <th>CompleteReview</th>\n",
       "      <th>URL</th>\n",
       "      <th>Rating</th>\n",
       "      <th>ReviewDetails</th>\n",
       "    </tr>\n",
       "  </thead>\n",
       "  <tbody>\n",
       "    <tr>\n",
       "      <th>145204</th>\n",
       "      <td>Definitely very good place to work and can hav...</td>\n",
       "      <td>We get a lot to learn in the company. Very sys...</td>\n",
       "      <td>https://in.indeed.com/cmp/Tata-Consultancy-Ser...</td>\n",
       "      <td>4</td>\n",
       "      <td>(Former Employee)  -   -  January 20, 2012</td>\n",
       "    </tr>\n",
       "    <tr>\n",
       "      <th>145205</th>\n",
       "      <td>IT Services Company; Great scope for improvement.</td>\n",
       "      <td>Lot of scope to learn different technologies u...</td>\n",
       "      <td>https://in.indeed.com/cmp/Tata-Consultancy-Ser...</td>\n",
       "      <td>4</td>\n",
       "      <td>(Former Employee)  -   -  January 19, 2012</td>\n",
       "    </tr>\n",
       "    <tr>\n",
       "      <th>145206</th>\n",
       "      <td>Productive, fun to work, great place to do cer...</td>\n",
       "      <td>An overall positive experience, nice environme...</td>\n",
       "      <td>https://in.indeed.com/cmp/Tata-Consultancy-Ser...</td>\n",
       "      <td>4</td>\n",
       "      <td>(Former Employee)  -   -  January 19, 2012</td>\n",
       "    </tr>\n",
       "    <tr>\n",
       "      <th>145207</th>\n",
       "      <td>Great place to start the career.</td>\n",
       "      <td>Happy that I've started my career from such a ...</td>\n",
       "      <td>https://in.indeed.com/cmp/Tata-Consultancy-Ser...</td>\n",
       "      <td>3</td>\n",
       "      <td>(Former Employee)  -   -  January 7, 2012</td>\n",
       "    </tr>\n",
       "    <tr>\n",
       "      <th>145208</th>\n",
       "      <td>Nice place to work</td>\n",
       "      <td>Got good experience and knowledge about my wor...</td>\n",
       "      <td>https://in.indeed.com/cmp/Tata-Consultancy-Ser...</td>\n",
       "      <td>5</td>\n",
       "      <td>(Former Employee)  -   -  December 19, 2011</td>\n",
       "    </tr>\n",
       "  </tbody>\n",
       "</table>\n",
       "</div>"
      ],
      "text/plain": [
       "                                              ReviewTitle  \\\n",
       "145204  Definitely very good place to work and can hav...   \n",
       "145205  IT Services Company; Great scope for improvement.   \n",
       "145206  Productive, fun to work, great place to do cer...   \n",
       "145207                   Great place to start the career.   \n",
       "145208                                 Nice place to work   \n",
       "\n",
       "                                           CompleteReview  \\\n",
       "145204  We get a lot to learn in the company. Very sys...   \n",
       "145205  Lot of scope to learn different technologies u...   \n",
       "145206  An overall positive experience, nice environme...   \n",
       "145207  Happy that I've started my career from such a ...   \n",
       "145208  Got good experience and knowledge about my wor...   \n",
       "\n",
       "                                                      URL  Rating  \\\n",
       "145204  https://in.indeed.com/cmp/Tata-Consultancy-Ser...       4   \n",
       "145205  https://in.indeed.com/cmp/Tata-Consultancy-Ser...       4   \n",
       "145206  https://in.indeed.com/cmp/Tata-Consultancy-Ser...       4   \n",
       "145207  https://in.indeed.com/cmp/Tata-Consultancy-Ser...       3   \n",
       "145208  https://in.indeed.com/cmp/Tata-Consultancy-Ser...       5   \n",
       "\n",
       "                                      ReviewDetails  \n",
       "145204   (Former Employee)  -   -  January 20, 2012  \n",
       "145205   (Former Employee)  -   -  January 19, 2012  \n",
       "145206   (Former Employee)  -   -  January 19, 2012  \n",
       "145207    (Former Employee)  -   -  January 7, 2012  \n",
       "145208  (Former Employee)  -   -  December 19, 2011  "
      ]
     },
     "execution_count": 5,
     "metadata": {},
     "output_type": "execute_result"
    }
   ],
   "source": [
    "df.tail()"
   ]
  },
  {
   "cell_type": "code",
   "execution_count": 6,
   "id": "9da0f684",
   "metadata": {
    "ExecuteTime": {
     "end_time": "2021-09-26T05:35:38.704774Z",
     "start_time": "2021-09-26T05:35:38.506175Z"
    }
   },
   "outputs": [
    {
     "data": {
      "text/html": [
       "<div>\n",
       "<style scoped>\n",
       "    .dataframe tbody tr th:only-of-type {\n",
       "        vertical-align: middle;\n",
       "    }\n",
       "\n",
       "    .dataframe tbody tr th {\n",
       "        vertical-align: top;\n",
       "    }\n",
       "\n",
       "    .dataframe thead th {\n",
       "        text-align: right;\n",
       "    }\n",
       "</style>\n",
       "<table border=\"1\" class=\"dataframe\">\n",
       "  <thead>\n",
       "    <tr style=\"text-align: right;\">\n",
       "      <th></th>\n",
       "      <th>ReviewTitle</th>\n",
       "      <th>CompleteReview</th>\n",
       "      <th>URL</th>\n",
       "      <th>Rating</th>\n",
       "      <th>ReviewDetails</th>\n",
       "    </tr>\n",
       "  </thead>\n",
       "  <tbody>\n",
       "    <tr>\n",
       "      <th>68328</th>\n",
       "      <td>Nice place to work</td>\n",
       "      <td>Outstanding place to work for. Nice and fun fi...</td>\n",
       "      <td>https://in.indeed.com/cmp/Oracle/reviews?start...</td>\n",
       "      <td>5</td>\n",
       "      <td>(Current Employee)  -   -  August 19, 2016</td>\n",
       "    </tr>\n",
       "    <tr>\n",
       "      <th>88916</th>\n",
       "      <td>Good place to work. One of the best in India</td>\n",
       "      <td>Very good work environment. All facilities are...</td>\n",
       "      <td>https://in.indeed.com/cmp/Tata-Consultancy-Ser...</td>\n",
       "      <td>4</td>\n",
       "      <td>(Former Employee)  -   -  July 18, 2018</td>\n",
       "    </tr>\n",
       "    <tr>\n",
       "      <th>128938</th>\n",
       "      <td>Good learning experience</td>\n",
       "      <td>Got to work in WMB v8 for the first time in So...</td>\n",
       "      <td>https://in.indeed.com/cmp/Cognizant-Technology...</td>\n",
       "      <td>3</td>\n",
       "      <td>(Former Employee)  -   -  February 9, 2014</td>\n",
       "    </tr>\n",
       "    <tr>\n",
       "      <th>129475</th>\n",
       "      <td>good</td>\n",
       "      <td>Its a very good organization.Where i joined he...</td>\n",
       "      <td>https://in.indeed.com/cmp/IBM/reviews?start=6640</td>\n",
       "      <td>4</td>\n",
       "      <td>(Former Employee)  -   -  June 20, 2016</td>\n",
       "    </tr>\n",
       "    <tr>\n",
       "      <th>76178</th>\n",
       "      <td>Great place to work</td>\n",
       "      <td>If beginning is Good, End must be perfect”-tha...</td>\n",
       "      <td>https://in.indeed.com/cmp/Ericsson/reviews?sta...</td>\n",
       "      <td>4</td>\n",
       "      <td>Officer   (Current Employee)  -   -  April 26,...</td>\n",
       "    </tr>\n",
       "  </tbody>\n",
       "</table>\n",
       "</div>"
      ],
      "text/plain": [
       "                                         ReviewTitle  \\\n",
       "68328                             Nice place to work   \n",
       "88916   Good place to work. One of the best in India   \n",
       "128938                      Good learning experience   \n",
       "129475                                          good   \n",
       "76178                            Great place to work   \n",
       "\n",
       "                                           CompleteReview  \\\n",
       "68328   Outstanding place to work for. Nice and fun fi...   \n",
       "88916   Very good work environment. All facilities are...   \n",
       "128938  Got to work in WMB v8 for the first time in So...   \n",
       "129475  Its a very good organization.Where i joined he...   \n",
       "76178   If beginning is Good, End must be perfect”-tha...   \n",
       "\n",
       "                                                      URL  Rating  \\\n",
       "68328   https://in.indeed.com/cmp/Oracle/reviews?start...       5   \n",
       "88916   https://in.indeed.com/cmp/Tata-Consultancy-Ser...       4   \n",
       "128938  https://in.indeed.com/cmp/Cognizant-Technology...       3   \n",
       "129475   https://in.indeed.com/cmp/IBM/reviews?start=6640       4   \n",
       "76178   https://in.indeed.com/cmp/Ericsson/reviews?sta...       4   \n",
       "\n",
       "                                            ReviewDetails  \n",
       "68328          (Current Employee)  -   -  August 19, 2016  \n",
       "88916             (Former Employee)  -   -  July 18, 2018  \n",
       "128938         (Former Employee)  -   -  February 9, 2014  \n",
       "129475            (Former Employee)  -   -  June 20, 2016  \n",
       "76178   Officer   (Current Employee)  -   -  April 26,...  "
      ]
     },
     "execution_count": 6,
     "metadata": {},
     "output_type": "execute_result"
    }
   ],
   "source": [
    "df.sample(5)"
   ]
  },
  {
   "cell_type": "markdown",
   "id": "d2551457",
   "metadata": {},
   "source": [
    "## Check Characteristic Data"
   ]
  },
  {
   "cell_type": "markdown",
   "id": "21b0d3e9",
   "metadata": {},
   "source": [
    "**Data Shape**"
   ]
  },
  {
   "cell_type": "code",
   "execution_count": 7,
   "id": "4d278d52",
   "metadata": {
    "ExecuteTime": {
     "end_time": "2021-09-26T05:35:38.788683Z",
     "start_time": "2021-09-26T05:35:38.706230Z"
    }
   },
   "outputs": [
    {
     "data": {
      "text/plain": [
       "(145209, 5)"
      ]
     },
     "execution_count": 7,
     "metadata": {},
     "output_type": "execute_result"
    }
   ],
   "source": [
    "df.shape"
   ]
  },
  {
   "cell_type": "markdown",
   "id": "8bb6189e",
   "metadata": {},
   "source": [
    "**Data Columns**"
   ]
  },
  {
   "cell_type": "code",
   "execution_count": 8,
   "id": "f48b4037",
   "metadata": {
    "ExecuteTime": {
     "end_time": "2021-09-26T05:35:38.910243Z",
     "start_time": "2021-09-26T05:35:38.790654Z"
    }
   },
   "outputs": [
    {
     "data": {
      "text/plain": [
       "Index(['ReviewTitle', 'CompleteReview', 'URL', 'Rating', 'ReviewDetails'], dtype='object')"
      ]
     },
     "execution_count": 8,
     "metadata": {},
     "output_type": "execute_result"
    }
   ],
   "source": [
    "df.columns"
   ]
  },
  {
   "cell_type": "markdown",
   "id": "0e054852",
   "metadata": {},
   "source": [
    "**Data Info**"
   ]
  },
  {
   "cell_type": "code",
   "execution_count": 9,
   "id": "4d040556",
   "metadata": {
    "ExecuteTime": {
     "end_time": "2021-09-26T05:35:39.245193Z",
     "start_time": "2021-09-26T05:35:38.912751Z"
    }
   },
   "outputs": [
    {
     "name": "stdout",
     "output_type": "stream",
     "text": [
      "<class 'pandas.core.frame.DataFrame'>\n",
      "RangeIndex: 145209 entries, 0 to 145208\n",
      "Data columns (total 5 columns):\n",
      " #   Column          Non-Null Count   Dtype \n",
      "---  ------          --------------   ----- \n",
      " 0   ReviewTitle     145209 non-null  object\n",
      " 1   CompleteReview  145209 non-null  object\n",
      " 2   URL             145209 non-null  object\n",
      " 3   Rating          145209 non-null  int64 \n",
      " 4   ReviewDetails   145209 non-null  object\n",
      "dtypes: int64(1), object(4)\n",
      "memory usage: 5.5+ MB\n"
     ]
    }
   ],
   "source": [
    "df.info()"
   ]
  },
  {
   "cell_type": "markdown",
   "id": "d9de53a1",
   "metadata": {},
   "source": [
    "**Descriptive Statistic**"
   ]
  },
  {
   "cell_type": "code",
   "execution_count": 10,
   "id": "fc26453b",
   "metadata": {
    "ExecuteTime": {
     "end_time": "2021-09-26T05:35:39.445495Z",
     "start_time": "2021-09-26T05:35:39.250242Z"
    }
   },
   "outputs": [
    {
     "data": {
      "text/html": [
       "<div>\n",
       "<style scoped>\n",
       "    .dataframe tbody tr th:only-of-type {\n",
       "        vertical-align: middle;\n",
       "    }\n",
       "\n",
       "    .dataframe tbody tr th {\n",
       "        vertical-align: top;\n",
       "    }\n",
       "\n",
       "    .dataframe thead th {\n",
       "        text-align: right;\n",
       "    }\n",
       "</style>\n",
       "<table border=\"1\" class=\"dataframe\">\n",
       "  <thead>\n",
       "    <tr style=\"text-align: right;\">\n",
       "      <th></th>\n",
       "      <th>Rating</th>\n",
       "    </tr>\n",
       "  </thead>\n",
       "  <tbody>\n",
       "    <tr>\n",
       "      <th>count</th>\n",
       "      <td>145209.000000</td>\n",
       "    </tr>\n",
       "    <tr>\n",
       "      <th>mean</th>\n",
       "      <td>4.053661</td>\n",
       "    </tr>\n",
       "    <tr>\n",
       "      <th>std</th>\n",
       "      <td>0.925805</td>\n",
       "    </tr>\n",
       "    <tr>\n",
       "      <th>min</th>\n",
       "      <td>1.000000</td>\n",
       "    </tr>\n",
       "    <tr>\n",
       "      <th>25%</th>\n",
       "      <td>4.000000</td>\n",
       "    </tr>\n",
       "    <tr>\n",
       "      <th>50%</th>\n",
       "      <td>4.000000</td>\n",
       "    </tr>\n",
       "    <tr>\n",
       "      <th>75%</th>\n",
       "      <td>5.000000</td>\n",
       "    </tr>\n",
       "    <tr>\n",
       "      <th>max</th>\n",
       "      <td>5.000000</td>\n",
       "    </tr>\n",
       "  </tbody>\n",
       "</table>\n",
       "</div>"
      ],
      "text/plain": [
       "              Rating\n",
       "count  145209.000000\n",
       "mean        4.053661\n",
       "std         0.925805\n",
       "min         1.000000\n",
       "25%         4.000000\n",
       "50%         4.000000\n",
       "75%         5.000000\n",
       "max         5.000000"
      ]
     },
     "execution_count": 10,
     "metadata": {},
     "output_type": "execute_result"
    }
   ],
   "source": [
    "df.describe()"
   ]
  },
  {
   "cell_type": "markdown",
   "id": "4925163d",
   "metadata": {},
   "source": [
    "**Check Missing Value**"
   ]
  },
  {
   "cell_type": "code",
   "execution_count": 11,
   "id": "a01554af",
   "metadata": {
    "ExecuteTime": {
     "end_time": "2021-09-26T05:35:39.515964Z",
     "start_time": "2021-09-26T05:35:39.447965Z"
    }
   },
   "outputs": [
    {
     "data": {
      "text/plain": [
       "ReviewTitle       0\n",
       "CompleteReview    0\n",
       "URL               0\n",
       "Rating            0\n",
       "ReviewDetails     0\n",
       "dtype: int64"
      ]
     },
     "execution_count": 11,
     "metadata": {},
     "output_type": "execute_result"
    }
   ],
   "source": [
    "df.isnull().sum()"
   ]
  },
  {
   "cell_type": "markdown",
   "id": "6cac95ab",
   "metadata": {},
   "source": [
    "**Check and Drop Duplicate Data**"
   ]
  },
  {
   "cell_type": "code",
   "execution_count": 12,
   "id": "8708b1af",
   "metadata": {
    "ExecuteTime": {
     "end_time": "2021-09-26T05:35:39.904617Z",
     "start_time": "2021-09-26T05:35:39.517931Z"
    }
   },
   "outputs": [],
   "source": [
    "df = df.drop_duplicates(keep='first')\n",
    "df.reset_index(drop=True, inplace=True)"
   ]
  },
  {
   "cell_type": "code",
   "execution_count": 13,
   "id": "ddce1445",
   "metadata": {
    "ExecuteTime": {
     "end_time": "2021-09-26T05:35:39.912142Z",
     "start_time": "2021-09-26T05:35:39.906627Z"
    }
   },
   "outputs": [
    {
     "data": {
      "text/plain": [
       "(145191, 5)"
      ]
     },
     "execution_count": 13,
     "metadata": {},
     "output_type": "execute_result"
    }
   ],
   "source": [
    "df.shape"
   ]
  },
  {
   "cell_type": "markdown",
   "id": "080e9bf4",
   "metadata": {},
   "source": [
    "## Feature Extraction"
   ]
  },
  {
   "cell_type": "code",
   "execution_count": 14,
   "id": "0028767a",
   "metadata": {
    "ExecuteTime": {
     "end_time": "2021-09-26T05:35:40.015242Z",
     "start_time": "2021-09-26T05:35:39.915150Z"
    }
   },
   "outputs": [
    {
     "data": {
      "text/html": [
       "<div>\n",
       "<style scoped>\n",
       "    .dataframe tbody tr th:only-of-type {\n",
       "        vertical-align: middle;\n",
       "    }\n",
       "\n",
       "    .dataframe tbody tr th {\n",
       "        vertical-align: top;\n",
       "    }\n",
       "\n",
       "    .dataframe thead th {\n",
       "        text-align: right;\n",
       "    }\n",
       "</style>\n",
       "<table border=\"1\" class=\"dataframe\">\n",
       "  <thead>\n",
       "    <tr style=\"text-align: right;\">\n",
       "      <th></th>\n",
       "      <th>ReviewTitle</th>\n",
       "      <th>CompleteReview</th>\n",
       "      <th>URL</th>\n",
       "      <th>Rating</th>\n",
       "      <th>ReviewDetails</th>\n",
       "    </tr>\n",
       "  </thead>\n",
       "  <tbody>\n",
       "    <tr>\n",
       "      <th>0</th>\n",
       "      <td>Productive</td>\n",
       "      <td>Good company, cool workplace, work load little...</td>\n",
       "      <td>https://in.indeed.com/cmp/Reliance-Industries-...</td>\n",
       "      <td>3</td>\n",
       "      <td>(Current Employee)  -  Ghansoli  -  August 30,...</td>\n",
       "    </tr>\n",
       "    <tr>\n",
       "      <th>1</th>\n",
       "      <td>Stressful</td>\n",
       "      <td>1. Need to work on boss's whims and fancies 2....</td>\n",
       "      <td>https://in.indeed.com/cmp/Reliance-Industries-...</td>\n",
       "      <td>3</td>\n",
       "      <td>(Former Employee)  -   -  August 26, 2021</td>\n",
       "    </tr>\n",
       "    <tr>\n",
       "      <th>2</th>\n",
       "      <td>Good Company for Every employee</td>\n",
       "      <td>Good company for every Engineers dream, Full M...</td>\n",
       "      <td>https://in.indeed.com/cmp/Reliance-Industries-...</td>\n",
       "      <td>5</td>\n",
       "      <td>(Former Employee)  -   -  August 17, 2021</td>\n",
       "    </tr>\n",
       "  </tbody>\n",
       "</table>\n",
       "</div>"
      ],
      "text/plain": [
       "                       ReviewTitle  \\\n",
       "0                       Productive   \n",
       "1                        Stressful   \n",
       "2  Good Company for Every employee   \n",
       "\n",
       "                                      CompleteReview  \\\n",
       "0  Good company, cool workplace, work load little...   \n",
       "1  1. Need to work on boss's whims and fancies 2....   \n",
       "2  Good company for every Engineers dream, Full M...   \n",
       "\n",
       "                                                 URL  Rating  \\\n",
       "0  https://in.indeed.com/cmp/Reliance-Industries-...       3   \n",
       "1  https://in.indeed.com/cmp/Reliance-Industries-...       3   \n",
       "2  https://in.indeed.com/cmp/Reliance-Industries-...       5   \n",
       "\n",
       "                                       ReviewDetails  \n",
       "0  (Current Employee)  -  Ghansoli  -  August 30,...  \n",
       "1          (Former Employee)  -   -  August 26, 2021  \n",
       "2          (Former Employee)  -   -  August 17, 2021  "
      ]
     },
     "execution_count": 14,
     "metadata": {},
     "output_type": "execute_result"
    }
   ],
   "source": [
    "df.head(3)"
   ]
  },
  {
   "cell_type": "markdown",
   "id": "5737277f",
   "metadata": {},
   "source": [
    "**Make Company Name Columns**"
   ]
  },
  {
   "cell_type": "code",
   "execution_count": 15,
   "id": "abf25c2b",
   "metadata": {
    "ExecuteTime": {
     "end_time": "2021-09-26T05:35:40.662260Z",
     "start_time": "2021-09-26T05:35:40.017748Z"
    }
   },
   "outputs": [],
   "source": [
    "df['Company Name'] = df['URL'].str.split('/')\n",
    "df['Company Name'] = df['Company Name'].str[4]"
   ]
  },
  {
   "cell_type": "code",
   "execution_count": 16,
   "id": "adc0fb20",
   "metadata": {
    "ExecuteTime": {
     "end_time": "2021-09-26T05:35:40.672289Z",
     "start_time": "2021-09-26T05:35:40.664770Z"
    }
   },
   "outputs": [
    {
     "data": {
      "text/plain": [
       "0    Reliance-Industries-Ltd\n",
       "1    Reliance-Industries-Ltd\n",
       "2    Reliance-Industries-Ltd\n",
       "3    Reliance-Industries-Ltd\n",
       "4    Reliance-Industries-Ltd\n",
       "Name: Company Name, dtype: object"
      ]
     },
     "execution_count": 16,
     "metadata": {},
     "output_type": "execute_result"
    }
   ],
   "source": [
    "df['Company Name'].head()"
   ]
  },
  {
   "cell_type": "code",
   "execution_count": 17,
   "id": "b0b573e0",
   "metadata": {
    "ExecuteTime": {
     "end_time": "2021-09-26T05:35:40.839262Z",
     "start_time": "2021-09-26T05:35:40.676301Z"
    }
   },
   "outputs": [
    {
     "data": {
      "text/plain": [
       "array(['Reliance-Industries-Ltd', 'Mphasis', 'Kpmg', 'Yes-Bank',\n",
       "       'Sutherland', 'Marriott-International,-Inc.', 'DHL', 'Jio',\n",
       "       'Vodafoneziggo', 'HP', 'Maersk', 'Ride.swiggy', 'Jll', 'Alstom',\n",
       "       'UnitedHealth-Group', 'Tata-Consultancy-Services-(tcs)',\n",
       "       'Capgemini', 'Teleperformance', 'Cognizant-Technology-Solutions',\n",
       "       'Mahindra-&-Mahindra-Ltd', 'L&T-Technology-Services-Ltd.',\n",
       "       'Bharti-Airtel-Limited', 'Indeed', 'Hyatt',\n",
       "       'Icici-Prudential-Life-Insurance', 'Accenture', 'Honeywell',\n",
       "       'Standard-Chartered-Bank', 'Nokia', 'Apollo-Hospitals',\n",
       "       'Tata-Aia-Life', 'Hdfc-Bank', 'Bosch', 'Deloitte', 'Ey',\n",
       "       'Microsoft', 'Barclays', 'JPMorgan-Chase', 'Muthoot-Finance',\n",
       "       'Wns-Global-Services', 'Kotak-Mahindra-Bank', 'Infosys', 'Oracle',\n",
       "       \"Byju's\", 'Deutsche-Bank', 'Hinduja-Global-Solutions', 'Ericsson',\n",
       "       'Axis-Bank', 'IBM', 'Concentrix', 'Wells-Fargo', 'Google',\n",
       "       'Dell-Technologies', 'Facebook', 'Amazon.com', 'Flipkart.com',\n",
       "       'American-Express', 'Citi', 'HSBC'], dtype=object)"
      ]
     },
     "execution_count": 17,
     "metadata": {},
     "output_type": "execute_result"
    }
   ],
   "source": [
    "df['Company Name'].unique()"
   ]
  },
  {
   "cell_type": "code",
   "execution_count": 18,
   "id": "02c2bf3c",
   "metadata": {
    "ExecuteTime": {
     "end_time": "2021-09-26T05:35:40.947062Z",
     "start_time": "2021-09-26T05:35:40.841769Z"
    }
   },
   "outputs": [
    {
     "data": {
      "text/html": [
       "<div>\n",
       "<style scoped>\n",
       "    .dataframe tbody tr th:only-of-type {\n",
       "        vertical-align: middle;\n",
       "    }\n",
       "\n",
       "    .dataframe tbody tr th {\n",
       "        vertical-align: top;\n",
       "    }\n",
       "\n",
       "    .dataframe thead th {\n",
       "        text-align: right;\n",
       "    }\n",
       "</style>\n",
       "<table border=\"1\" class=\"dataframe\">\n",
       "  <thead>\n",
       "    <tr style=\"text-align: right;\">\n",
       "      <th></th>\n",
       "      <th>ReviewTitle</th>\n",
       "      <th>CompleteReview</th>\n",
       "      <th>URL</th>\n",
       "      <th>Rating</th>\n",
       "      <th>ReviewDetails</th>\n",
       "      <th>Company Name</th>\n",
       "    </tr>\n",
       "  </thead>\n",
       "  <tbody>\n",
       "    <tr>\n",
       "      <th>0</th>\n",
       "      <td>Productive</td>\n",
       "      <td>Good company, cool workplace, work load little...</td>\n",
       "      <td>https://in.indeed.com/cmp/Reliance-Industries-...</td>\n",
       "      <td>3</td>\n",
       "      <td>(Current Employee)  -  Ghansoli  -  August 30,...</td>\n",
       "      <td>Reliance-Industries-Ltd</td>\n",
       "    </tr>\n",
       "    <tr>\n",
       "      <th>1</th>\n",
       "      <td>Stressful</td>\n",
       "      <td>1. Need to work on boss's whims and fancies 2....</td>\n",
       "      <td>https://in.indeed.com/cmp/Reliance-Industries-...</td>\n",
       "      <td>3</td>\n",
       "      <td>(Former Employee)  -   -  August 26, 2021</td>\n",
       "      <td>Reliance-Industries-Ltd</td>\n",
       "    </tr>\n",
       "    <tr>\n",
       "      <th>2</th>\n",
       "      <td>Good Company for Every employee</td>\n",
       "      <td>Good company for every Engineers dream, Full M...</td>\n",
       "      <td>https://in.indeed.com/cmp/Reliance-Industries-...</td>\n",
       "      <td>5</td>\n",
       "      <td>(Former Employee)  -   -  August 17, 2021</td>\n",
       "      <td>Reliance-Industries-Ltd</td>\n",
       "    </tr>\n",
       "    <tr>\n",
       "      <th>3</th>\n",
       "      <td>Productive</td>\n",
       "      <td>I am just pass out bsc in chemistry Typical da...</td>\n",
       "      <td>https://in.indeed.com/cmp/Reliance-Industries-...</td>\n",
       "      <td>5</td>\n",
       "      <td>(Current Employee)  -   -  August 17, 2021</td>\n",
       "      <td>Reliance-Industries-Ltd</td>\n",
       "    </tr>\n",
       "    <tr>\n",
       "      <th>4</th>\n",
       "      <td>Non productive</td>\n",
       "      <td>Not so fun at work just blame games  Target pe...</td>\n",
       "      <td>https://in.indeed.com/cmp/Reliance-Industries-...</td>\n",
       "      <td>1</td>\n",
       "      <td>(Former Employee)  -   -  August 9, 2021</td>\n",
       "      <td>Reliance-Industries-Ltd</td>\n",
       "    </tr>\n",
       "  </tbody>\n",
       "</table>\n",
       "</div>"
      ],
      "text/plain": [
       "                       ReviewTitle  \\\n",
       "0                       Productive   \n",
       "1                        Stressful   \n",
       "2  Good Company for Every employee   \n",
       "3                       Productive   \n",
       "4                   Non productive   \n",
       "\n",
       "                                      CompleteReview  \\\n",
       "0  Good company, cool workplace, work load little...   \n",
       "1  1. Need to work on boss's whims and fancies 2....   \n",
       "2  Good company for every Engineers dream, Full M...   \n",
       "3  I am just pass out bsc in chemistry Typical da...   \n",
       "4  Not so fun at work just blame games  Target pe...   \n",
       "\n",
       "                                                 URL  Rating  \\\n",
       "0  https://in.indeed.com/cmp/Reliance-Industries-...       3   \n",
       "1  https://in.indeed.com/cmp/Reliance-Industries-...       3   \n",
       "2  https://in.indeed.com/cmp/Reliance-Industries-...       5   \n",
       "3  https://in.indeed.com/cmp/Reliance-Industries-...       5   \n",
       "4  https://in.indeed.com/cmp/Reliance-Industries-...       1   \n",
       "\n",
       "                                       ReviewDetails             Company Name  \n",
       "0  (Current Employee)  -  Ghansoli  -  August 30,...  Reliance-Industries-Ltd  \n",
       "1          (Former Employee)  -   -  August 26, 2021  Reliance-Industries-Ltd  \n",
       "2          (Former Employee)  -   -  August 17, 2021  Reliance-Industries-Ltd  \n",
       "3         (Current Employee)  -   -  August 17, 2021  Reliance-Industries-Ltd  \n",
       "4           (Former Employee)  -   -  August 9, 2021  Reliance-Industries-Ltd  "
      ]
     },
     "execution_count": 18,
     "metadata": {},
     "output_type": "execute_result"
    }
   ],
   "source": [
    "df.head()"
   ]
  },
  {
   "cell_type": "markdown",
   "id": "ba88c2d8",
   "metadata": {},
   "source": [
    "**Make Date Columns**"
   ]
  },
  {
   "cell_type": "code",
   "execution_count": 38,
   "id": "2d90f022",
   "metadata": {
    "ExecuteTime": {
     "end_time": "2021-09-26T08:27:56.977486Z",
     "start_time": "2021-09-26T08:27:55.118784Z"
    }
   },
   "outputs": [],
   "source": [
    "df['Date'] = df['ReviewDetails'].str.split('-', expand=True)[2]"
   ]
  },
  {
   "cell_type": "code",
   "execution_count": 39,
   "id": "b5a2bc46",
   "metadata": {
    "ExecuteTime": {
     "end_time": "2021-09-26T08:28:00.380596Z",
     "start_time": "2021-09-26T08:28:00.327523Z"
    }
   },
   "outputs": [
    {
     "data": {
      "text/html": [
       "<div>\n",
       "<style scoped>\n",
       "    .dataframe tbody tr th:only-of-type {\n",
       "        vertical-align: middle;\n",
       "    }\n",
       "\n",
       "    .dataframe tbody tr th {\n",
       "        vertical-align: top;\n",
       "    }\n",
       "\n",
       "    .dataframe thead th {\n",
       "        text-align: right;\n",
       "    }\n",
       "</style>\n",
       "<table border=\"1\" class=\"dataframe\">\n",
       "  <thead>\n",
       "    <tr style=\"text-align: right;\">\n",
       "      <th></th>\n",
       "      <th>ReviewTitle</th>\n",
       "      <th>CompleteReview</th>\n",
       "      <th>URL</th>\n",
       "      <th>Rating</th>\n",
       "      <th>ReviewDetails</th>\n",
       "      <th>Company Name</th>\n",
       "      <th>Date</th>\n",
       "    </tr>\n",
       "  </thead>\n",
       "  <tbody>\n",
       "    <tr>\n",
       "      <th>0</th>\n",
       "      <td>Productive</td>\n",
       "      <td>Good company, cool workplace, work load little...</td>\n",
       "      <td>https://in.indeed.com/cmp/Reliance-Industries-...</td>\n",
       "      <td>3</td>\n",
       "      <td>(Current Employee)  -  Ghansoli  -  August 30,...</td>\n",
       "      <td>Reliance-Industries-Ltd</td>\n",
       "      <td>August 30, 2021</td>\n",
       "    </tr>\n",
       "    <tr>\n",
       "      <th>1</th>\n",
       "      <td>Stressful</td>\n",
       "      <td>1. Need to work on boss's whims and fancies 2....</td>\n",
       "      <td>https://in.indeed.com/cmp/Reliance-Industries-...</td>\n",
       "      <td>3</td>\n",
       "      <td>(Former Employee)  -   -  August 26, 2021</td>\n",
       "      <td>Reliance-Industries-Ltd</td>\n",
       "      <td>August 26, 2021</td>\n",
       "    </tr>\n",
       "    <tr>\n",
       "      <th>2</th>\n",
       "      <td>Good Company for Every employee</td>\n",
       "      <td>Good company for every Engineers dream, Full M...</td>\n",
       "      <td>https://in.indeed.com/cmp/Reliance-Industries-...</td>\n",
       "      <td>5</td>\n",
       "      <td>(Former Employee)  -   -  August 17, 2021</td>\n",
       "      <td>Reliance-Industries-Ltd</td>\n",
       "      <td>August 17, 2021</td>\n",
       "    </tr>\n",
       "    <tr>\n",
       "      <th>3</th>\n",
       "      <td>Productive</td>\n",
       "      <td>I am just pass out bsc in chemistry Typical da...</td>\n",
       "      <td>https://in.indeed.com/cmp/Reliance-Industries-...</td>\n",
       "      <td>5</td>\n",
       "      <td>(Current Employee)  -   -  August 17, 2021</td>\n",
       "      <td>Reliance-Industries-Ltd</td>\n",
       "      <td>August 17, 2021</td>\n",
       "    </tr>\n",
       "    <tr>\n",
       "      <th>4</th>\n",
       "      <td>Non productive</td>\n",
       "      <td>Not so fun at work just blame games  Target pe...</td>\n",
       "      <td>https://in.indeed.com/cmp/Reliance-Industries-...</td>\n",
       "      <td>1</td>\n",
       "      <td>(Former Employee)  -   -  August 9, 2021</td>\n",
       "      <td>Reliance-Industries-Ltd</td>\n",
       "      <td>August 9, 2021</td>\n",
       "    </tr>\n",
       "  </tbody>\n",
       "</table>\n",
       "</div>"
      ],
      "text/plain": [
       "                       ReviewTitle  \\\n",
       "0                       Productive   \n",
       "1                        Stressful   \n",
       "2  Good Company for Every employee   \n",
       "3                       Productive   \n",
       "4                   Non productive   \n",
       "\n",
       "                                      CompleteReview  \\\n",
       "0  Good company, cool workplace, work load little...   \n",
       "1  1. Need to work on boss's whims and fancies 2....   \n",
       "2  Good company for every Engineers dream, Full M...   \n",
       "3  I am just pass out bsc in chemistry Typical da...   \n",
       "4  Not so fun at work just blame games  Target pe...   \n",
       "\n",
       "                                                 URL  Rating  \\\n",
       "0  https://in.indeed.com/cmp/Reliance-Industries-...       3   \n",
       "1  https://in.indeed.com/cmp/Reliance-Industries-...       3   \n",
       "2  https://in.indeed.com/cmp/Reliance-Industries-...       5   \n",
       "3  https://in.indeed.com/cmp/Reliance-Industries-...       5   \n",
       "4  https://in.indeed.com/cmp/Reliance-Industries-...       1   \n",
       "\n",
       "                                       ReviewDetails             Company Name  \\\n",
       "0  (Current Employee)  -  Ghansoli  -  August 30,...  Reliance-Industries-Ltd   \n",
       "1          (Former Employee)  -   -  August 26, 2021  Reliance-Industries-Ltd   \n",
       "2          (Former Employee)  -   -  August 17, 2021  Reliance-Industries-Ltd   \n",
       "3         (Current Employee)  -   -  August 17, 2021  Reliance-Industries-Ltd   \n",
       "4           (Former Employee)  -   -  August 9, 2021  Reliance-Industries-Ltd   \n",
       "\n",
       "                Date  \n",
       "0    August 30, 2021  \n",
       "1    August 26, 2021  \n",
       "2    August 17, 2021  \n",
       "3    August 17, 2021  \n",
       "4     August 9, 2021  "
      ]
     },
     "execution_count": 39,
     "metadata": {},
     "output_type": "execute_result"
    }
   ],
   "source": [
    "df.head()"
   ]
  },
  {
   "cell_type": "markdown",
   "id": "e94bb68b",
   "metadata": {},
   "source": [
    "**Make Year, Month, Day Columns**"
   ]
  },
  {
   "cell_type": "code",
   "execution_count": 48,
   "id": "cea3b926",
   "metadata": {
    "ExecuteTime": {
     "end_time": "2021-09-26T08:30:59.508914Z",
     "start_time": "2021-09-26T08:30:58.958379Z"
    }
   },
   "outputs": [],
   "source": [
    "df['Year'] = df['Date'].str.split(',', expand=True)[1]"
   ]
  },
  {
   "cell_type": "code",
   "execution_count": 55,
   "id": "b3169c53",
   "metadata": {
    "ExecuteTime": {
     "end_time": "2021-09-26T08:32:20.172142Z",
     "start_time": "2021-09-26T08:32:19.657761Z"
    }
   },
   "outputs": [],
   "source": [
    "df['Month'] = df['Date'].str.split(' ', expand=True)[2]"
   ]
  },
  {
   "cell_type": "code",
   "execution_count": 62,
   "id": "b5c69853",
   "metadata": {
    "ExecuteTime": {
     "end_time": "2021-09-26T08:33:51.062866Z",
     "start_time": "2021-09-26T08:33:50.428487Z"
    }
   },
   "outputs": [],
   "source": [
    "df['Day'] = df['Date'].str.split(' ', expand=True)[3]\n",
    "df['Day'] = df['Day'].str.replace(',','')"
   ]
  },
  {
   "cell_type": "markdown",
   "id": "7e6dab19",
   "metadata": {},
   "source": [
    "**Check Columns**"
   ]
  },
  {
   "cell_type": "markdown",
   "id": "4cc80cb0",
   "metadata": {},
   "source": [
    "Column `Year`"
   ]
  },
  {
   "cell_type": "code",
   "execution_count": 65,
   "id": "40f19cfb",
   "metadata": {
    "ExecuteTime": {
     "end_time": "2021-09-26T08:38:02.975583Z",
     "start_time": "2021-09-26T08:38:02.888575Z"
    }
   },
   "outputs": [
    {
     "data": {
      "text/plain": [
       "array([' 2021', ' 2020', ' 2019', ' 2018', ' 2017', ' 2016', None,\n",
       "       ' 2015', ' 2014', ' 2013', ' 2012', ' 2011',\n",
       "       ' GWAL PAHARI GURGAON  ', ' airoli  ', ' Malad west  ',\n",
       "       ' Sp Infocity & Quadra ', ' New Delhi', ' Tamil nadu  ',\n",
       "       'Gurgaon  '], dtype=object)"
      ]
     },
     "execution_count": 65,
     "metadata": {},
     "output_type": "execute_result"
    }
   ],
   "source": [
    "df['Year'].unique()"
   ]
  },
  {
   "cell_type": "code",
   "execution_count": 67,
   "id": "9324ae86",
   "metadata": {
    "ExecuteTime": {
     "end_time": "2021-09-26T08:46:54.029416Z",
     "start_time": "2021-09-26T08:46:53.930425Z"
    }
   },
   "outputs": [],
   "source": [
    "df['Year'] = df['Year'].str.replace(' ','')"
   ]
  },
  {
   "cell_type": "code",
   "execution_count": 68,
   "id": "e3042266",
   "metadata": {
    "ExecuteTime": {
     "end_time": "2021-09-26T08:46:59.819073Z",
     "start_time": "2021-09-26T08:46:59.787488Z"
    }
   },
   "outputs": [
    {
     "data": {
      "text/plain": [
       "array(['2021', '2020', '2019', '2018', '2017', '2016', None, '2015',\n",
       "       '2014', '2013', '2012', '2011', 'GWALPAHARIGURGAON', 'airoli',\n",
       "       'Maladwest', 'SpInfocity&Quadra', 'NewDelhi', 'Tamilnadu',\n",
       "       'Gurgaon'], dtype=object)"
      ]
     },
     "execution_count": 68,
     "metadata": {},
     "output_type": "execute_result"
    }
   ],
   "source": [
    "df['Year'].unique()"
   ]
  },
  {
   "cell_type": "code",
   "execution_count": 84,
   "id": "d0123353",
   "metadata": {
    "ExecuteTime": {
     "end_time": "2021-09-26T08:58:39.748817Z",
     "start_time": "2021-09-26T08:58:39.617651Z"
    }
   },
   "outputs": [
    {
     "data": {
      "text/plain": [
       "2021                  2967\n",
       "2020                 12674\n",
       "2019                 16985\n",
       "2018                 15782\n",
       "2017                 37335\n",
       "2016                 15295\n",
       "2015                 13664\n",
       "2014                 15016\n",
       "2013                 11140\n",
       "2012                  4153\n",
       "2011                    38\n",
       "GWALPAHARIGURGAON        1\n",
       "airoli                   1\n",
       "Maladwest                1\n",
       "SpInfocity&Quadra        1\n",
       "NewDelhi                 1\n",
       "Tamilnadu                1\n",
       "Gurgaon                  1\n",
       "Name: Year, dtype: int64"
      ]
     },
     "execution_count": 84,
     "metadata": {},
     "output_type": "execute_result"
    }
   ],
   "source": [
    "df['Year'].value_counts(sort=False)"
   ]
  },
  {
   "cell_type": "code",
   "execution_count": 91,
   "id": "ab3d0f43",
   "metadata": {
    "ExecuteTime": {
     "end_time": "2021-09-26T09:06:59.210099Z",
     "start_time": "2021-09-26T09:06:59.190548Z"
    }
   },
   "outputs": [
    {
     "data": {
      "text/plain": [
       "142"
      ]
     },
     "execution_count": 91,
     "metadata": {},
     "output_type": "execute_result"
    }
   ],
   "source": [
    "df['Year'].isnull().sum()"
   ]
  },
  {
   "cell_type": "code",
   "execution_count": 95,
   "id": "3a43feba",
   "metadata": {
    "ExecuteTime": {
     "end_time": "2021-09-26T09:09:45.110968Z",
     "start_time": "2021-09-26T09:09:45.013208Z"
    }
   },
   "outputs": [],
   "source": [
    "valid_year = ['2011', '2012', '2013', '2014', '2014', '2015', \n",
    "               '2016', '2017', '2018', '2019', '2020', '2021']\n",
    "df['Year'] = df['Year'].apply(lambda x:x if x in valid_year else np.nan)"
   ]
  },
  {
   "cell_type": "code",
   "execution_count": 96,
   "id": "7ca94872",
   "metadata": {
    "ExecuteTime": {
     "end_time": "2021-09-26T09:09:45.952945Z",
     "start_time": "2021-09-26T09:09:45.922120Z"
    }
   },
   "outputs": [
    {
     "data": {
      "text/plain": [
       "2017    37335\n",
       "2019    16985\n",
       "2018    15782\n",
       "2016    15295\n",
       "2014    15016\n",
       "2015    13664\n",
       "2020    12674\n",
       "2013    11140\n",
       "2012     4153\n",
       "2021     2967\n",
       "2011       38\n",
       "Name: Year, dtype: int64"
      ]
     },
     "execution_count": 96,
     "metadata": {},
     "output_type": "execute_result"
    }
   ],
   "source": [
    "df['Year'].value_counts()"
   ]
  },
  {
   "cell_type": "code",
   "execution_count": 92,
   "id": "ab2ea5b1",
   "metadata": {
    "ExecuteTime": {
     "end_time": "2021-09-26T09:07:07.918683Z",
     "start_time": "2021-09-26T09:07:07.899132Z"
    }
   },
   "outputs": [
    {
     "data": {
      "text/plain": [
       "142"
      ]
     },
     "execution_count": 92,
     "metadata": {},
     "output_type": "execute_result"
    }
   ],
   "source": [
    "df['Year'].isnull().sum()"
   ]
  },
  {
   "cell_type": "markdown",
   "id": "760d71ae",
   "metadata": {},
   "source": [
    "Column `Month`"
   ]
  },
  {
   "cell_type": "code",
   "execution_count": 80,
   "id": "5922ed19",
   "metadata": {
    "ExecuteTime": {
     "end_time": "2021-09-26T08:51:03.121393Z",
     "start_time": "2021-09-26T08:51:03.041107Z"
    }
   },
   "outputs": [
    {
     "data": {
      "text/plain": [
       "array(['August', 'July', 'September', 'May', 'June', 'April', 'March',\n",
       "       'February', 'January', 'December', 'November', 'October', '',\n",
       "       'Africa', 'bagh', 'Consultant', 'Road', '9', '.CLUSTER', '(west)',\n",
       "       'West', 'PAHARI', 'mumbai', None, 'west', 'Ramannagar', 'West.',\n",
       "       'Raman', 'park', 'Technohub', 'Solutions', 'Office', 'Estate',\n",
       "       'Infocity', 'Nagar', 'Delhi,', 'Tamil', 'parel', ')', 'Locatino',\n",
       "       'complex'], dtype=object)"
      ]
     },
     "execution_count": 80,
     "metadata": {},
     "output_type": "execute_result"
    }
   ],
   "source": [
    "df['Month'].unique()"
   ]
  },
  {
   "cell_type": "code",
   "execution_count": 94,
   "id": "946c5d17",
   "metadata": {
    "ExecuteTime": {
     "end_time": "2021-09-26T09:09:28.465352Z",
     "start_time": "2021-09-26T09:09:28.438782Z"
    }
   },
   "outputs": [
    {
     "data": {
      "text/plain": [
       "March         15438\n",
       "January       12626\n",
       "June          12573\n",
       "July          12214\n",
       "September     12090\n",
       "February      12008\n",
       "May           11848\n",
       "April         11667\n",
       "August        11635\n",
       "November      11397\n",
       "October       10945\n",
       "December      10608\n",
       "                114\n",
       "Infocity          1\n",
       "Technohub         1\n",
       "Solutions         1\n",
       "Office            1\n",
       "Estate            1\n",
       "Locatino          1\n",
       "Nagar             1\n",
       "Delhi,            1\n",
       "Tamil             1\n",
       "parel             1\n",
       ")                 1\n",
       "Raman             1\n",
       "park              1\n",
       "West              1\n",
       "West.             1\n",
       "Ramannagar        1\n",
       "west              1\n",
       "mumbai            1\n",
       "PAHARI            1\n",
       "(west)            1\n",
       ".CLUSTER          1\n",
       "9                 1\n",
       "Road              1\n",
       "Consultant        1\n",
       "bagh              1\n",
       "Africa            1\n",
       "complex           1\n",
       "Name: Month, dtype: int64"
      ]
     },
     "execution_count": 94,
     "metadata": {},
     "output_type": "execute_result"
    }
   ],
   "source": [
    "df['Month'].value_counts()"
   ]
  },
  {
   "cell_type": "code",
   "execution_count": 97,
   "id": "9d9526b7",
   "metadata": {
    "ExecuteTime": {
     "end_time": "2021-09-26T09:10:01.156365Z",
     "start_time": "2021-09-26T09:10:01.137314Z"
    }
   },
   "outputs": [
    {
     "data": {
      "text/plain": [
       "1"
      ]
     },
     "execution_count": 97,
     "metadata": {},
     "output_type": "execute_result"
    }
   ],
   "source": [
    "df['Month'].isnull().sum()"
   ]
  },
  {
   "cell_type": "code",
   "execution_count": 98,
   "id": "1b60d451",
   "metadata": {
    "ExecuteTime": {
     "end_time": "2021-09-26T09:11:49.693848Z",
     "start_time": "2021-09-26T09:11:49.536582Z"
    }
   },
   "outputs": [],
   "source": [
    "valid_month = ['January', 'February', 'March', 'April', 'May', 'June',\n",
    "               'July', 'August', 'September', 'October', 'November', 'December']\n",
    "df['Month'] = df['Month'].apply(lambda x:x if x in valid_month else np.nan)"
   ]
  },
  {
   "cell_type": "code",
   "execution_count": 99,
   "id": "cfd9eac1",
   "metadata": {
    "ExecuteTime": {
     "end_time": "2021-09-26T09:11:56.761422Z",
     "start_time": "2021-09-26T09:11:56.677260Z"
    }
   },
   "outputs": [
    {
     "data": {
      "text/plain": [
       "March        15438\n",
       "January      12626\n",
       "June         12573\n",
       "July         12214\n",
       "September    12090\n",
       "February     12008\n",
       "May          11848\n",
       "April        11667\n",
       "August       11635\n",
       "November     11397\n",
       "October      10945\n",
       "December     10608\n",
       "Name: Month, dtype: int64"
      ]
     },
     "execution_count": 99,
     "metadata": {},
     "output_type": "execute_result"
    }
   ],
   "source": [
    "df['Month'].value_counts()"
   ]
  },
  {
   "cell_type": "code",
   "execution_count": 100,
   "id": "467c534b",
   "metadata": {
    "ExecuteTime": {
     "end_time": "2021-09-26T09:12:12.346585Z",
     "start_time": "2021-09-26T09:12:12.328037Z"
    }
   },
   "outputs": [
    {
     "data": {
      "text/plain": [
       "142"
      ]
     },
     "execution_count": 100,
     "metadata": {},
     "output_type": "execute_result"
    }
   ],
   "source": [
    "df['Month'].isnull().sum()"
   ]
  },
  {
   "cell_type": "markdown",
   "id": "28273c10",
   "metadata": {},
   "source": [
    "Column `Day`"
   ]
  },
  {
   "cell_type": "code",
   "execution_count": 101,
   "id": "1a4d0db4",
   "metadata": {
    "ExecuteTime": {
     "end_time": "2021-09-26T09:22:31.393164Z",
     "start_time": "2021-09-26T09:22:30.476030Z"
    }
   },
   "outputs": [
    {
     "data": {
      "text/plain": [
       "array(['30', '26', '17', '9', '22', '18', '7', '8', '5', '3', '15', '6',\n",
       "       '20', '2', '16', '10', '31', '23', '11', '28', '24', '21', '19',\n",
       "       '13', '1', '4', '25', '12', '27', '29', '14', None, '',\n",
       "       'chandigarh', '&', 'GURGAON', 'Nagar', 'malad', 'India', 'nadu'],\n",
       "      dtype=object)"
      ]
     },
     "execution_count": 101,
     "metadata": {},
     "output_type": "execute_result"
    }
   ],
   "source": [
    "df['Day'].unique()"
   ]
  },
  {
   "cell_type": "code",
   "execution_count": 110,
   "id": "7306c56a",
   "metadata": {
    "ExecuteTime": {
     "end_time": "2021-09-26T09:30:32.689186Z",
     "start_time": "2021-09-26T09:30:32.610335Z"
    }
   },
   "outputs": [
    {
     "data": {
      "text/plain": [
       "5             5159\n",
       "2             4992\n",
       "4             4969\n",
       "21            4929\n",
       "9             4920\n",
       "3             4910\n",
       "8             4910\n",
       "7             4881\n",
       "17            4864\n",
       "12            4842\n",
       "6             4829\n",
       "22            4828\n",
       "20            4825\n",
       "23            4824\n",
       "18            4823\n",
       "16            4812\n",
       "11            4793\n",
       "19            4721\n",
       "25            4709\n",
       "24            4705\n",
       "28            4691\n",
       "26            4684\n",
       "10            4680\n",
       "15            4664\n",
       "27            4660\n",
       "13            4572\n",
       "1             4557\n",
       "14            4466\n",
       "29            4311\n",
       "30            4138\n",
       "31            2381\n",
       "                80\n",
       "&                2\n",
       "chandigarh       1\n",
       "GURGAON          1\n",
       "Nagar            1\n",
       "malad            1\n",
       "India            1\n",
       "nadu             1\n",
       "Name: Day, dtype: int64"
      ]
     },
     "execution_count": 110,
     "metadata": {},
     "output_type": "execute_result"
    }
   ],
   "source": [
    "df['Day'].value_counts()"
   ]
  },
  {
   "cell_type": "code",
   "execution_count": 111,
   "id": "e90395f9",
   "metadata": {
    "ExecuteTime": {
     "end_time": "2021-09-26T09:32:26.670385Z",
     "start_time": "2021-09-26T09:32:26.173423Z"
    }
   },
   "outputs": [],
   "source": [
    "valid_day = ['1', '2', '3', '4', '5', '6', '7', '8', '9', '10', '11',\n",
    "             '12', '13', '14', '15', '16', '17', '18', '19', '20', '21',\n",
    "             '22', '23', '24', '25', '26', '27', '28', '29', '30', '31']\n",
    "df['Day'] = df['Day'].apply(lambda x:x if x in valid_day else np.nan)"
   ]
  },
  {
   "cell_type": "code",
   "execution_count": 117,
   "id": "32a1997d",
   "metadata": {
    "ExecuteTime": {
     "end_time": "2021-09-26T09:33:22.417328Z",
     "start_time": "2021-09-26T09:33:22.402829Z"
    }
   },
   "outputs": [
    {
     "data": {
      "text/plain": [
       "142"
      ]
     },
     "execution_count": 117,
     "metadata": {},
     "output_type": "execute_result"
    }
   ],
   "source": [
    "df['Day'].isnull().sum()"
   ]
  },
  {
   "cell_type": "markdown",
   "id": "c1f61326",
   "metadata": {},
   "source": [
    "**Check Missing Value**"
   ]
  },
  {
   "cell_type": "code",
   "execution_count": 119,
   "id": "a88f0958",
   "metadata": {
    "ExecuteTime": {
     "end_time": "2021-09-26T09:33:59.885364Z",
     "start_time": "2021-09-26T09:33:59.621198Z"
    }
   },
   "outputs": [
    {
     "data": {
      "text/plain": [
       "ReviewTitle         0\n",
       "CompleteReview      0\n",
       "URL                 0\n",
       "Rating              0\n",
       "ReviewDetails       0\n",
       "Company Name        0\n",
       "Date                0\n",
       "Year              142\n",
       "Month             142\n",
       "Day               142\n",
       "dtype: int64"
      ]
     },
     "execution_count": 119,
     "metadata": {},
     "output_type": "execute_result"
    }
   ],
   "source": [
    "df.isnull().sum()"
   ]
  },
  {
   "cell_type": "code",
   "execution_count": 120,
   "id": "d4601f1d",
   "metadata": {
    "ExecuteTime": {
     "end_time": "2021-09-26T10:53:33.570914Z",
     "start_time": "2021-09-26T10:53:33.565435Z"
    }
   },
   "outputs": [
    {
     "data": {
      "text/plain": [
       "(145191, 10)"
      ]
     },
     "execution_count": 120,
     "metadata": {},
     "output_type": "execute_result"
    }
   ],
   "source": [
    "df.shape"
   ]
  },
  {
   "cell_type": "code",
   "execution_count": 122,
   "id": "b67b8400",
   "metadata": {
    "ExecuteTime": {
     "end_time": "2021-09-26T10:53:56.635764Z",
     "start_time": "2021-09-26T10:53:56.430455Z"
    }
   },
   "outputs": [],
   "source": [
    "df = df.dropna()"
   ]
  },
  {
   "cell_type": "code",
   "execution_count": 123,
   "id": "5a0fbaed",
   "metadata": {
    "ExecuteTime": {
     "end_time": "2021-09-26T10:54:00.254455Z",
     "start_time": "2021-09-26T10:54:00.249443Z"
    }
   },
   "outputs": [
    {
     "data": {
      "text/plain": [
       "(145049, 10)"
      ]
     },
     "execution_count": 123,
     "metadata": {},
     "output_type": "execute_result"
    }
   ],
   "source": [
    "df.shape"
   ]
  },
  {
   "cell_type": "code",
   "execution_count": 124,
   "id": "b65403fc",
   "metadata": {
    "ExecuteTime": {
     "end_time": "2021-09-26T10:54:07.359454Z",
     "start_time": "2021-09-26T10:54:07.209689Z"
    }
   },
   "outputs": [
    {
     "data": {
      "text/plain": [
       "ReviewTitle       0\n",
       "CompleteReview    0\n",
       "URL               0\n",
       "Rating            0\n",
       "ReviewDetails     0\n",
       "Company Name      0\n",
       "Date              0\n",
       "Year              0\n",
       "Month             0\n",
       "Day               0\n",
       "dtype: int64"
      ]
     },
     "execution_count": 124,
     "metadata": {},
     "output_type": "execute_result"
    }
   ],
   "source": [
    "df.isnull().sum()"
   ]
  },
  {
   "cell_type": "markdown",
   "id": "b9a74616",
   "metadata": {},
   "source": [
    "**Create Date Columns**"
   ]
  },
  {
   "cell_type": "code",
   "execution_count": 130,
   "id": "034ecc34",
   "metadata": {
    "ExecuteTime": {
     "end_time": "2021-09-26T10:58:51.128283Z",
     "start_time": "2021-09-26T10:58:50.899886Z"
    }
   },
   "outputs": [],
   "source": [
    "df['Date'] = df['Year']+df['Month']+df['Day']\n",
    "df['Date'] = pd.to_datetime(df['Date'], format='%Y%B%d')"
   ]
  },
  {
   "cell_type": "code",
   "execution_count": 131,
   "id": "a6d4dc1e",
   "metadata": {
    "ExecuteTime": {
     "end_time": "2021-09-26T10:58:56.929609Z",
     "start_time": "2021-09-26T10:58:56.913064Z"
    }
   },
   "outputs": [
    {
     "data": {
      "text/html": [
       "<div>\n",
       "<style scoped>\n",
       "    .dataframe tbody tr th:only-of-type {\n",
       "        vertical-align: middle;\n",
       "    }\n",
       "\n",
       "    .dataframe tbody tr th {\n",
       "        vertical-align: top;\n",
       "    }\n",
       "\n",
       "    .dataframe thead th {\n",
       "        text-align: right;\n",
       "    }\n",
       "</style>\n",
       "<table border=\"1\" class=\"dataframe\">\n",
       "  <thead>\n",
       "    <tr style=\"text-align: right;\">\n",
       "      <th></th>\n",
       "      <th>ReviewTitle</th>\n",
       "      <th>CompleteReview</th>\n",
       "      <th>URL</th>\n",
       "      <th>Rating</th>\n",
       "      <th>ReviewDetails</th>\n",
       "      <th>Company Name</th>\n",
       "      <th>Date</th>\n",
       "      <th>Year</th>\n",
       "      <th>Month</th>\n",
       "      <th>Day</th>\n",
       "    </tr>\n",
       "  </thead>\n",
       "  <tbody>\n",
       "    <tr>\n",
       "      <th>0</th>\n",
       "      <td>Productive</td>\n",
       "      <td>Good company, cool workplace, work load little...</td>\n",
       "      <td>https://in.indeed.com/cmp/Reliance-Industries-...</td>\n",
       "      <td>3</td>\n",
       "      <td>(Current Employee)  -  Ghansoli  -  August 30,...</td>\n",
       "      <td>Reliance-Industries-Ltd</td>\n",
       "      <td>2021-08-30</td>\n",
       "      <td>2021</td>\n",
       "      <td>August</td>\n",
       "      <td>30</td>\n",
       "    </tr>\n",
       "    <tr>\n",
       "      <th>1</th>\n",
       "      <td>Stressful</td>\n",
       "      <td>1. Need to work on boss's whims and fancies 2....</td>\n",
       "      <td>https://in.indeed.com/cmp/Reliance-Industries-...</td>\n",
       "      <td>3</td>\n",
       "      <td>(Former Employee)  -   -  August 26, 2021</td>\n",
       "      <td>Reliance-Industries-Ltd</td>\n",
       "      <td>2021-08-26</td>\n",
       "      <td>2021</td>\n",
       "      <td>August</td>\n",
       "      <td>26</td>\n",
       "    </tr>\n",
       "    <tr>\n",
       "      <th>2</th>\n",
       "      <td>Good Company for Every employee</td>\n",
       "      <td>Good company for every Engineers dream, Full M...</td>\n",
       "      <td>https://in.indeed.com/cmp/Reliance-Industries-...</td>\n",
       "      <td>5</td>\n",
       "      <td>(Former Employee)  -   -  August 17, 2021</td>\n",
       "      <td>Reliance-Industries-Ltd</td>\n",
       "      <td>2021-08-17</td>\n",
       "      <td>2021</td>\n",
       "      <td>August</td>\n",
       "      <td>17</td>\n",
       "    </tr>\n",
       "    <tr>\n",
       "      <th>3</th>\n",
       "      <td>Productive</td>\n",
       "      <td>I am just pass out bsc in chemistry Typical da...</td>\n",
       "      <td>https://in.indeed.com/cmp/Reliance-Industries-...</td>\n",
       "      <td>5</td>\n",
       "      <td>(Current Employee)  -   -  August 17, 2021</td>\n",
       "      <td>Reliance-Industries-Ltd</td>\n",
       "      <td>2021-08-17</td>\n",
       "      <td>2021</td>\n",
       "      <td>August</td>\n",
       "      <td>17</td>\n",
       "    </tr>\n",
       "    <tr>\n",
       "      <th>4</th>\n",
       "      <td>Non productive</td>\n",
       "      <td>Not so fun at work just blame games  Target pe...</td>\n",
       "      <td>https://in.indeed.com/cmp/Reliance-Industries-...</td>\n",
       "      <td>1</td>\n",
       "      <td>(Former Employee)  -   -  August 9, 2021</td>\n",
       "      <td>Reliance-Industries-Ltd</td>\n",
       "      <td>2021-08-09</td>\n",
       "      <td>2021</td>\n",
       "      <td>August</td>\n",
       "      <td>9</td>\n",
       "    </tr>\n",
       "  </tbody>\n",
       "</table>\n",
       "</div>"
      ],
      "text/plain": [
       "                       ReviewTitle  \\\n",
       "0                       Productive   \n",
       "1                        Stressful   \n",
       "2  Good Company for Every employee   \n",
       "3                       Productive   \n",
       "4                   Non productive   \n",
       "\n",
       "                                      CompleteReview  \\\n",
       "0  Good company, cool workplace, work load little...   \n",
       "1  1. Need to work on boss's whims and fancies 2....   \n",
       "2  Good company for every Engineers dream, Full M...   \n",
       "3  I am just pass out bsc in chemistry Typical da...   \n",
       "4  Not so fun at work just blame games  Target pe...   \n",
       "\n",
       "                                                 URL  Rating  \\\n",
       "0  https://in.indeed.com/cmp/Reliance-Industries-...       3   \n",
       "1  https://in.indeed.com/cmp/Reliance-Industries-...       3   \n",
       "2  https://in.indeed.com/cmp/Reliance-Industries-...       5   \n",
       "3  https://in.indeed.com/cmp/Reliance-Industries-...       5   \n",
       "4  https://in.indeed.com/cmp/Reliance-Industries-...       1   \n",
       "\n",
       "                                       ReviewDetails             Company Name  \\\n",
       "0  (Current Employee)  -  Ghansoli  -  August 30,...  Reliance-Industries-Ltd   \n",
       "1          (Former Employee)  -   -  August 26, 2021  Reliance-Industries-Ltd   \n",
       "2          (Former Employee)  -   -  August 17, 2021  Reliance-Industries-Ltd   \n",
       "3         (Current Employee)  -   -  August 17, 2021  Reliance-Industries-Ltd   \n",
       "4           (Former Employee)  -   -  August 9, 2021  Reliance-Industries-Ltd   \n",
       "\n",
       "        Date  Year   Month Day  \n",
       "0 2021-08-30  2021  August  30  \n",
       "1 2021-08-26  2021  August  26  \n",
       "2 2021-08-17  2021  August  17  \n",
       "3 2021-08-17  2021  August  17  \n",
       "4 2021-08-09  2021  August   9  "
      ]
     },
     "execution_count": 131,
     "metadata": {},
     "output_type": "execute_result"
    }
   ],
   "source": [
    "df.head()"
   ]
  },
  {
   "cell_type": "markdown",
   "id": "0199c101",
   "metadata": {},
   "source": [
    "**Create Employee Status Columns**"
   ]
  },
  {
   "cell_type": "code",
   "execution_count": 134,
   "id": "42fceb2b",
   "metadata": {
    "ExecuteTime": {
     "end_time": "2021-09-26T11:00:51.074637Z",
     "start_time": "2021-09-26T11:00:50.570353Z"
    }
   },
   "outputs": [],
   "source": [
    "df['Employee Status'] = df['ReviewDetails'].str.split('-', expand=True)[0]"
   ]
  },
  {
   "cell_type": "code",
   "execution_count": 135,
   "id": "f9fddd0d",
   "metadata": {
    "ExecuteTime": {
     "end_time": "2021-09-26T11:00:58.509590Z",
     "start_time": "2021-09-26T11:00:58.078366Z"
    }
   },
   "outputs": [
    {
     "data": {
      "text/plain": [
       "array(['(Current Employee)  ', '(Former Employee)  ',\n",
       "       'Training   (Former Employee)  ', 'Officer   (Former Employee)  ',\n",
       "       'Leader   (Current Employee)  ',\n",
       "       'health care   (Current Employee)  ',\n",
       "       'Good team worker   (Former Employee)  ',\n",
       "       'Officer   (Current Employee)  ',\n",
       "       'Sr.G.M.Engineering and projects .   (Former Employee)  ',\n",
       "       'Hospitality   (Former Employee)  ',\n",
       "       'Employee   (Current Employee)  ',\n",
       "       'Employee   (Former Employee)  ', 'Worker   (Former Employee)  ',\n",
       "       'SBI PR outbound    (Current Employee)  ',\n",
       "       'PR in SBI outbound    (Current Employee)  ',\n",
       "       'SBI PR    (Former Employee)  ', 'Senior   (Former Employee)  ',\n",
       "       'Sbi inbound    (Current Employee)  ',\n",
       "       'KOTAK CARD    (Current Employee)  ',\n",
       "       'Marketing   (Current Employee)  ', 'Yes   (Current Employee)  ',\n",
       "       'Kotak cardit card    (Current Employee)  ',\n",
       "       'Kotak cards    (Current Employee)  ',\n",
       "       'OFFICER   (Current Employee)  ',\n",
       "       'Marketing   (Former Employee)  ',\n",
       "       'Ocwen, loan verification process    (Current Employee)  ',\n",
       "       'Accounts   (Former Employee)  ', 'officer   (Former Employee)  ',\n",
       "       'Ocwen process    (Current Employee)  ',\n",
       "       'officer   (Current Employee)  ',\n",
       "       'Communications   (Current Employee)  ',\n",
       "       'N/A   (Former Employee)  ', 'SA   (Current Employee)  ',\n",
       "       'Store   (Former Employee)  ', 'Generalist   (Former Employee)  ',\n",
       "       'part time job   (Current Employee)  ',\n",
       "       'Handle the Corportae clients for Sim activations.   (Former Employee)  ',\n",
       "       'training   (Former Employee)  ', 'TRAINING   (Former Employee)  ',\n",
       "       'Inbound process    (Current Employee)  ',\n",
       "       'excellent    (Current Employee)  ',\n",
       "       'health care   (Former Employee)  ',\n",
       "       'Student   (Former Employee)  ', 'yes   (Current Employee)  ',\n",
       "       'hospitality   (Former Employee)  ',\n",
       "       'Good team worker   (Current Employee)  ',\n",
       "       'New Joining    (Current Employee)  ',\n",
       "       'Customer   (Current Employee)  ',\n",
       "       'Applicant   (Current Employee)  ',\n",
       "       'Scenior Transaction Processing Officer.   (Former Employee)  ',\n",
       "       'Expert   (Former Employee)  ', 'Vitality    (Current Employee)  ',\n",
       "       'any job   (Former Employee)  ', 'Support   (Former Employee)  ',\n",
       "       'Yes bank    (Current Employee)  ',\n",
       "       'senior   (Current Employee)  ',\n",
       "       'contracted employee   (Former Employee)  ',\n",
       "       'Floater   (Current Employee)  ', 'Senior   (Current Employee)  ',\n",
       "       'SENIOR   (Current Employee)  ',\n",
       "       'Service Department   (Current Employee)  ',\n",
       "       'work from home   (Former Employee)  ',\n",
       "       'Resident   (Former Employee)  ',\n",
       "       'Serco BPO Pvt. Ltd.   (Current Employee)  ',\n",
       "       'Trainee, Shared Access Distribution Dept.   (Former Employee)  ',\n",
       "       'anonymous   (Former Employee)  ',\n",
       "       'Health care   (Current Employee)  ',\n",
       "       'https://www.indeed.co.in/   (Former Employee)  ',\n",
       "       'Intership   (Former Employee)  ',\n",
       "       'marketing   (Former Employee)  ',\n",
       "       'customer satisfaction offcier, credit cards    (Former Employee)  ',\n",
       "       'contract employee   (Current Employee)  ',\n",
       "       'employee   (Former Employee)  ',\n",
       "       'Training   (Current Employee)  ',\n",
       "       'During B COM.   (Former Employee)  ',\n",
       "       'Team Worker   (Current Employee)  ',\n",
       "       'Leader   (Former Employee)  ',\n",
       "       'Confidential   (Current Employee)  ',\n",
       "       'Current Employee   (Current Employee)  ',\n",
       "       'Anonymous   (Former Employee)  ',\n",
       "       'Sr.Technician ( Mech).   (Former Employee)  ',\n",
       "       'A.F.S.M.   (Current Employee)  ',\n",
       "       'Migrate the project from iway to software AG.   (Former Employee)  ',\n",
       "       'Head   (Former Employee)  ', 'SA   (Former Employee)  ',\n",
       "       'Administration CCO.   (Former Employee)  ',\n",
       "       'Nokia India Pvt Ltd.,   (Current Employee)  ',\n",
       "       'Job seeker for accountancy and fnance fields.   (Current Employee)  ',\n",
       "       'active member   (Former Employee)  ',\n",
       "       'Anonymous   (Current Employee)  ',\n",
       "       'Expert   (Current Employee)  ',\n",
       "       'Gold loan company.   (Former Employee)  ',\n",
       "       'finance   (Former Employee)  ',\n",
       "       'sr T. P.O.   (Current Employee)  ',\n",
       "       'Member   (Current Employee)  ', 'worker   (Former Employee)  ',\n",
       "       'ANY   (Current Employee)  ',\n",
       "       'AS A CSO IN SBI PROCESS    (Current Employee)  ',\n",
       "       'Contract employee   (Former Employee)  ',\n",
       "       'Specialised Infrastructure Er.   (Current Employee)  ',\n",
       "       'Network   (Current Employee)  ', 'any job   (Current Employee)  ',\n",
       "       'N/A   (Current Employee)  ', 'good work    (Former Employee)  ',\n",
       "       'airtel broad bond,   (Former Employee)  ',\n",
       "       'part time   (Current Employee)  ',\n",
       "       'MARKETING   (Former Employee)  ', 'Project   (Former Employee)  ',\n",
       "       'ACCOUNTS   (Current Employee)  ', 'G.A.   (Former Employee)  ',\n",
       "       'part time job   (Former Employee)  ',\n",
       "       'Lead    (Former Employee)  ',\n",
       "       'work from home   (Current Employee)  ',\n",
       "       'L3 level    (Former Employee)  ',\n",
       "       'ANY JOB   (Current Employee)  ',\n",
       "       'Projects   (Current Employee)  ', 'yes   (Former Employee)  ',\n",
       "       'worker   (Current Employee)  ',\n",
       "       'Contract Employee   (Current Employee)  ',\n",
       "       'Alaknanda Hydro Power Co. Ltd.   (Former Employee)  ',\n",
       "       'Part time   (Former Employee)  ',\n",
       "       'Transaction Processing spc.   (Current Employee)  ',\n",
       "       'Worked for the Bank Procurement and customers across the UK.   (Former Employee)  ',\n",
       "       'Aanlyst    (Current Employee)  ', '.   (Current Employee)  ',\n",
       "       'Accounts   (Current Employee)  ',\n",
       "       'I have experience with Transport.   (Current Employee)  ',\n",
       "       'Sr.Technical Sup.(Rotary/Static Equipt.).   (Former Employee)  ',\n",
       "       'Training new staff   (Current Employee)  ',\n",
       "       'DIA (Digital Interactive Advisor).   (Former Employee)  ',\n",
       "       'enthusiastically doing work taking challenges etc.   (Former Employee)  ',\n",
       "       'Former Employee   (Former Employee)  ',\n",
       "       'Test   (Current Employee)  ',\n",
       "       'Oracle Apps Technical    (Current Employee)  ',\n",
       "       'Work Experience   (Current Employee)  ',\n",
       "       'Service   (Former Employee)  ',\n",
       "       'Technology   (Former Employee)  ', 'Staff   (Former Employee)  ',\n",
       "       'confidential   (Former Employee)  ',\n",
       "       'finance   (Current Employee)  ',\n",
       "       'Contract Employee   (Former Employee)  ',\n",
       "       'Head   (Current Employee)  ', 'OFFICER   (Former Employee)  ',\n",
       "       'Middleware Admin MQ/MB/WAS/   (Current Employee)  ',\n",
       "       'Looking for jobs.   (Former Employee)  ',\n",
       "       'head   (Former Employee)  ',\n",
       "       'claims processing excutive    (Former Employee)  ',\n",
       "       'Accenture Solutions Pvt. Ltd.   (Former Employee)  ',\n",
       "       'scanning   (Former Employee)  ',\n",
       "       'HUB ACCOUNT OPERATION ( FOR 89 DAYS ).   (Former Employee)  ',\n",
       "       'Finance department   (Former Employee)  ',\n",
       "       'coex liab.   (Former Employee)  ',\n",
       "       'Admin Dept.   (Former Employee)  ',\n",
       "       'C.P.A.   (Current Employee)  ',\n",
       "       'Full Time Employee   (Current Employee)  ',\n",
       "       'Project ,Change, Major Incident ,Problem.   (Former Employee)  ',\n",
       "       'acting   (Current Employee)  ',\n",
       "       'Health care   (Former Employee)  ',\n",
       "       'operation    (Current Employee)  ',\n",
       "       'Co. Ex.   (Current Employee)  ',\n",
       "       'it is good co. and i learned many thing .   (Current Employee)  ',\n",
       "       'Center of excellence, Quality.   (Current Employee)  ',\n",
       "       'contract employee   (Former Employee)  ',\n",
       "       'I have resigned my job.   (Former Employee)  ',\n",
       "       'member   (Former Employee)  ',\n",
       "       'Full Time Employee   (Former Employee)  ',\n",
       "       'Juniour SAP Support.   (Current Employee)  ',\n",
       "       'Worked as an CSE in IBM concentrix for One Year.   (Former Employee)  ',\n",
       "       'Regular Employee   (Current Employee)  ',\n",
       "       'any jobs   (Former Employee)  ',\n",
       "       'finance department   (Former Employee)  ',\n",
       "       '3+ years of experience in Java Technologies.   (Current Employee)  ',\n",
       "       'SSE , testing    (Current Employee)  ',\n",
       "       'System Egg.   (Former Employee)  ',\n",
       "       'Senior Telecom Engr.   (Current Employee)  ',\n",
       "       'WORKER   (Current Employee)  ',\n",
       "       'Various Positions   (Current Employee)  ',\n",
       "       'Airline Fares and GDS.   (Current Employee)  ',\n",
       "       'QUALITY   (Former Employee)  ',\n",
       "       'PROGRAMER .........   (Former Employee)  '], dtype=object)"
      ]
     },
     "execution_count": 135,
     "metadata": {},
     "output_type": "execute_result"
    }
   ],
   "source": [
    "df['Employee Status'].unique()"
   ]
  },
  {
   "cell_type": "code",
   "execution_count": 137,
   "id": "a78f1e9c",
   "metadata": {
    "ExecuteTime": {
     "end_time": "2021-09-26T11:06:12.638765Z",
     "start_time": "2021-09-26T11:06:12.619714Z"
    }
   },
   "outputs": [
    {
     "data": {
      "text/plain": [
       "0         (Current Employee)  \n",
       "1          (Former Employee)  \n",
       "2          (Former Employee)  \n",
       "3         (Current Employee)  \n",
       "4          (Former Employee)  \n",
       "                  ...         \n",
       "145186     (Former Employee)  \n",
       "145187     (Former Employee)  \n",
       "145188     (Former Employee)  \n",
       "145189     (Former Employee)  \n",
       "145190     (Former Employee)  \n",
       "Name: Employee Status, Length: 145049, dtype: object"
      ]
     },
     "execution_count": 137,
     "metadata": {},
     "output_type": "execute_result"
    }
   ],
   "source": [
    "df['Employee Status']"
   ]
  },
  {
   "cell_type": "code",
   "execution_count": 140,
   "id": "ffa0cf22",
   "metadata": {
    "ExecuteTime": {
     "end_time": "2021-09-26T11:10:13.000468Z",
     "start_time": "2021-09-26T11:10:12.894342Z"
    }
   },
   "outputs": [
    {
     "data": {
      "text/plain": [
       "0         Current Employee\n",
       "1         Current Employee\n",
       "2         Current Employee\n",
       "3         Current Employee\n",
       "4         Current Employee\n",
       "                ...       \n",
       "145186    Current Employee\n",
       "145187    Current Employee\n",
       "145188    Current Employee\n",
       "145189    Current Employee\n",
       "145190    Current Employee\n",
       "Name: Employee Status, Length: 145049, dtype: object"
      ]
     },
     "execution_count": 140,
     "metadata": {},
     "output_type": "execute_result"
    }
   ],
   "source": [
    "former = 'Former Employee'\n",
    "df['Employee Status'].apply(lambda x: 'Former Employee' if x in former else 'Current Employee')"
   ]
  },
  {
   "cell_type": "code",
   "execution_count": null,
   "id": "a0c359c1",
   "metadata": {},
   "outputs": [],
   "source": []
  }
 ],
 "metadata": {
  "kernelspec": {
   "display_name": "NLP",
   "language": "python",
   "name": "nlp"
  },
  "language_info": {
   "codemirror_mode": {
    "name": "ipython",
    "version": 3
   },
   "file_extension": ".py",
   "mimetype": "text/x-python",
   "name": "python",
   "nbconvert_exporter": "python",
   "pygments_lexer": "ipython3",
   "version": "3.8.11"
  },
  "toc": {
   "base_numbering": 1,
   "nav_menu": {},
   "number_sections": false,
   "sideBar": true,
   "skip_h1_title": false,
   "title_cell": "Table of Contents",
   "title_sidebar": "Contents",
   "toc_cell": false,
   "toc_position": {},
   "toc_section_display": true,
   "toc_window_display": false
  },
  "varInspector": {
   "cols": {
    "lenName": 16,
    "lenType": 16,
    "lenVar": 40
   },
   "kernels_config": {
    "python": {
     "delete_cmd_postfix": "",
     "delete_cmd_prefix": "del ",
     "library": "var_list.py",
     "varRefreshCmd": "print(var_dic_list())"
    },
    "r": {
     "delete_cmd_postfix": ") ",
     "delete_cmd_prefix": "rm(",
     "library": "var_list.r",
     "varRefreshCmd": "cat(var_dic_list()) "
    }
   },
   "types_to_exclude": [
    "module",
    "function",
    "builtin_function_or_method",
    "instance",
    "_Feature"
   ],
   "window_display": false
  }
 },
 "nbformat": 4,
 "nbformat_minor": 5
}
