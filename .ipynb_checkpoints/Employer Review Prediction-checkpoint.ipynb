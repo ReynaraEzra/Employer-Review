{
 "cells": [
  {
   "cell_type": "markdown",
   "id": "4bd2e5a9",
   "metadata": {},
   "source": [
    "# Employer Review Prediction\n",
    "## Reynara Ezra Pratama"
   ]
  },
  {
   "cell_type": "markdown",
   "id": "cea14dc2",
   "metadata": {},
   "source": [
    "## Background"
   ]
  },
  {
   "cell_type": "markdown",
   "id": "16bef603",
   "metadata": {},
   "source": []
  },
  {
   "cell_type": "markdown",
   "id": "fbb2ecc8",
   "metadata": {},
   "source": [
    "## Business Understanding"
   ]
  },
  {
   "cell_type": "markdown",
   "id": "7835786a",
   "metadata": {},
   "source": [
    "1. Mengetahui *review* yang diberikan oleh pegawai terhadap perusahaan.\n",
    "2. Memprediksi *review* yang diberikan dan mengkategorikannya ke dalam *review* yang bersifat positif, netral, atau negatif."
   ]
  },
  {
   "cell_type": "markdown",
   "id": "9ce6765f",
   "metadata": {},
   "source": [
    "## Data Understanding"
   ]
  },
  {
   "cell_type": "markdown",
   "id": "d6c2e1e6",
   "metadata": {},
   "source": [
    "1. `ReviewTitle` : Topik dari *review*.\n",
    "2. `CompleteReview` : *Review* yang diberikan pegawai perusahaan.\n",
    "3. `URL` : *Uniform Resource Locator*.\n",
    "4. `Rating` : Penilaian yang diberikan pegawai perusahaan.\n",
    "5. `ReviewDetails` : Detail mengenai *review*."
   ]
  },
  {
   "cell_type": "markdown",
   "id": "e23e821e",
   "metadata": {},
   "source": [
    "## Import Library"
   ]
  },
  {
   "cell_type": "code",
   "execution_count": 1,
   "id": "9748b717",
   "metadata": {
    "ExecuteTime": {
     "end_time": "2021-09-23T06:59:40.814429Z",
     "start_time": "2021-09-23T06:58:17.067498Z"
    }
   },
   "outputs": [],
   "source": [
    "import pandas as pd\n",
    "import numpy as np\n",
    "import matplotlib.pyplot as plt\n",
    "import seaborn as sns\n",
    "\n",
    "import tensorflow as tf\n",
    "import nltk\n",
    "\n",
    "import warnings \n",
    "warnings.filterwarnings('ignore')"
   ]
  },
  {
   "cell_type": "markdown",
   "id": "e7c61f81",
   "metadata": {},
   "source": [
    "## Loading Dataset"
   ]
  },
  {
   "cell_type": "markdown",
   "id": "e5629108",
   "metadata": {},
   "source": [
    "**Load Data From Github**"
   ]
  },
  {
   "cell_type": "code",
   "execution_count": 2,
   "id": "8a9ad1b5",
   "metadata": {
    "ExecuteTime": {
     "end_time": "2021-09-23T07:00:36.084131Z",
     "start_time": "2021-09-23T07:00:36.080621Z"
    }
   },
   "outputs": [],
   "source": [
    "# url = \"https://raw.githubusercontent.com/ReynaraEzra/Employer-Review/main/data_input/results.json\"\n",
    "# df = pd.read_json(url)"
   ]
  },
  {
   "cell_type": "markdown",
   "id": "244cba15",
   "metadata": {},
   "source": [
    "**Load Data From Local File**"
   ]
  },
  {
   "cell_type": "code",
   "execution_count": 4,
   "id": "4e4c39e0",
   "metadata": {
    "ExecuteTime": {
     "end_time": "2021-09-23T07:02:54.916154Z",
     "start_time": "2021-09-23T07:02:52.156428Z"
    }
   },
   "outputs": [],
   "source": [
    "df = pd.read_json('data_input/results.json')"
   ]
  },
  {
   "cell_type": "markdown",
   "id": "d9c301e5",
   "metadata": {},
   "source": [
    "## Checking Dataset"
   ]
  },
  {
   "cell_type": "code",
   "execution_count": 5,
   "id": "d9532c99",
   "metadata": {
    "ExecuteTime": {
     "end_time": "2021-09-23T07:04:00.413971Z",
     "start_time": "2021-09-23T07:04:00.292809Z"
    }
   },
   "outputs": [
    {
     "data": {
      "text/html": [
       "<div>\n",
       "<style scoped>\n",
       "    .dataframe tbody tr th:only-of-type {\n",
       "        vertical-align: middle;\n",
       "    }\n",
       "\n",
       "    .dataframe tbody tr th {\n",
       "        vertical-align: top;\n",
       "    }\n",
       "\n",
       "    .dataframe thead th {\n",
       "        text-align: right;\n",
       "    }\n",
       "</style>\n",
       "<table border=\"1\" class=\"dataframe\">\n",
       "  <thead>\n",
       "    <tr style=\"text-align: right;\">\n",
       "      <th></th>\n",
       "      <th>ReviewTitle</th>\n",
       "      <th>CompleteReview</th>\n",
       "      <th>URL</th>\n",
       "      <th>Rating</th>\n",
       "      <th>ReviewDetails</th>\n",
       "    </tr>\n",
       "  </thead>\n",
       "  <tbody>\n",
       "    <tr>\n",
       "      <th>0</th>\n",
       "      <td>Productive</td>\n",
       "      <td>Good company, cool workplace, work load little...</td>\n",
       "      <td>https://in.indeed.com/cmp/Reliance-Industries-...</td>\n",
       "      <td>3</td>\n",
       "      <td>(Current Employee)  -  Ghansoli  -  August 30,...</td>\n",
       "    </tr>\n",
       "    <tr>\n",
       "      <th>1</th>\n",
       "      <td>Stressful</td>\n",
       "      <td>1. Need to work on boss's whims and fancies 2....</td>\n",
       "      <td>https://in.indeed.com/cmp/Reliance-Industries-...</td>\n",
       "      <td>3</td>\n",
       "      <td>(Former Employee)  -   -  August 26, 2021</td>\n",
       "    </tr>\n",
       "    <tr>\n",
       "      <th>2</th>\n",
       "      <td>Good Company for Every employee</td>\n",
       "      <td>Good company for every Engineers dream, Full M...</td>\n",
       "      <td>https://in.indeed.com/cmp/Reliance-Industries-...</td>\n",
       "      <td>5</td>\n",
       "      <td>(Former Employee)  -   -  August 17, 2021</td>\n",
       "    </tr>\n",
       "    <tr>\n",
       "      <th>3</th>\n",
       "      <td>Productive</td>\n",
       "      <td>I am just pass out bsc in chemistry Typical da...</td>\n",
       "      <td>https://in.indeed.com/cmp/Reliance-Industries-...</td>\n",
       "      <td>5</td>\n",
       "      <td>(Current Employee)  -   -  August 17, 2021</td>\n",
       "    </tr>\n",
       "    <tr>\n",
       "      <th>4</th>\n",
       "      <td>Non productive</td>\n",
       "      <td>Not so fun at work just blame games  Target pe...</td>\n",
       "      <td>https://in.indeed.com/cmp/Reliance-Industries-...</td>\n",
       "      <td>1</td>\n",
       "      <td>(Former Employee)  -   -  August 9, 2021</td>\n",
       "    </tr>\n",
       "  </tbody>\n",
       "</table>\n",
       "</div>"
      ],
      "text/plain": [
       "                       ReviewTitle  \\\n",
       "0                       Productive   \n",
       "1                        Stressful   \n",
       "2  Good Company for Every employee   \n",
       "3                       Productive   \n",
       "4                   Non productive   \n",
       "\n",
       "                                      CompleteReview  \\\n",
       "0  Good company, cool workplace, work load little...   \n",
       "1  1. Need to work on boss's whims and fancies 2....   \n",
       "2  Good company for every Engineers dream, Full M...   \n",
       "3  I am just pass out bsc in chemistry Typical da...   \n",
       "4  Not so fun at work just blame games  Target pe...   \n",
       "\n",
       "                                                 URL  Rating  \\\n",
       "0  https://in.indeed.com/cmp/Reliance-Industries-...       3   \n",
       "1  https://in.indeed.com/cmp/Reliance-Industries-...       3   \n",
       "2  https://in.indeed.com/cmp/Reliance-Industries-...       5   \n",
       "3  https://in.indeed.com/cmp/Reliance-Industries-...       5   \n",
       "4  https://in.indeed.com/cmp/Reliance-Industries-...       1   \n",
       "\n",
       "                                       ReviewDetails  \n",
       "0  (Current Employee)  -  Ghansoli  -  August 30,...  \n",
       "1          (Former Employee)  -   -  August 26, 2021  \n",
       "2          (Former Employee)  -   -  August 17, 2021  \n",
       "3         (Current Employee)  -   -  August 17, 2021  \n",
       "4           (Former Employee)  -   -  August 9, 2021  "
      ]
     },
     "execution_count": 5,
     "metadata": {},
     "output_type": "execute_result"
    }
   ],
   "source": [
    "df.head()"
   ]
  },
  {
   "cell_type": "code",
   "execution_count": 6,
   "id": "1e0bc3f9",
   "metadata": {
    "ExecuteTime": {
     "end_time": "2021-09-23T07:04:03.868100Z",
     "start_time": "2021-09-23T07:04:03.855064Z"
    }
   },
   "outputs": [
    {
     "data": {
      "text/html": [
       "<div>\n",
       "<style scoped>\n",
       "    .dataframe tbody tr th:only-of-type {\n",
       "        vertical-align: middle;\n",
       "    }\n",
       "\n",
       "    .dataframe tbody tr th {\n",
       "        vertical-align: top;\n",
       "    }\n",
       "\n",
       "    .dataframe thead th {\n",
       "        text-align: right;\n",
       "    }\n",
       "</style>\n",
       "<table border=\"1\" class=\"dataframe\">\n",
       "  <thead>\n",
       "    <tr style=\"text-align: right;\">\n",
       "      <th></th>\n",
       "      <th>ReviewTitle</th>\n",
       "      <th>CompleteReview</th>\n",
       "      <th>URL</th>\n",
       "      <th>Rating</th>\n",
       "      <th>ReviewDetails</th>\n",
       "    </tr>\n",
       "  </thead>\n",
       "  <tbody>\n",
       "    <tr>\n",
       "      <th>145204</th>\n",
       "      <td>Definitely very good place to work and can hav...</td>\n",
       "      <td>We get a lot to learn in the company. Very sys...</td>\n",
       "      <td>https://in.indeed.com/cmp/Tata-Consultancy-Ser...</td>\n",
       "      <td>4</td>\n",
       "      <td>(Former Employee)  -   -  January 20, 2012</td>\n",
       "    </tr>\n",
       "    <tr>\n",
       "      <th>145205</th>\n",
       "      <td>IT Services Company; Great scope for improvement.</td>\n",
       "      <td>Lot of scope to learn different technologies u...</td>\n",
       "      <td>https://in.indeed.com/cmp/Tata-Consultancy-Ser...</td>\n",
       "      <td>4</td>\n",
       "      <td>(Former Employee)  -   -  January 19, 2012</td>\n",
       "    </tr>\n",
       "    <tr>\n",
       "      <th>145206</th>\n",
       "      <td>Productive, fun to work, great place to do cer...</td>\n",
       "      <td>An overall positive experience, nice environme...</td>\n",
       "      <td>https://in.indeed.com/cmp/Tata-Consultancy-Ser...</td>\n",
       "      <td>4</td>\n",
       "      <td>(Former Employee)  -   -  January 19, 2012</td>\n",
       "    </tr>\n",
       "    <tr>\n",
       "      <th>145207</th>\n",
       "      <td>Great place to start the career.</td>\n",
       "      <td>Happy that I've started my career from such a ...</td>\n",
       "      <td>https://in.indeed.com/cmp/Tata-Consultancy-Ser...</td>\n",
       "      <td>3</td>\n",
       "      <td>(Former Employee)  -   -  January 7, 2012</td>\n",
       "    </tr>\n",
       "    <tr>\n",
       "      <th>145208</th>\n",
       "      <td>Nice place to work</td>\n",
       "      <td>Got good experience and knowledge about my wor...</td>\n",
       "      <td>https://in.indeed.com/cmp/Tata-Consultancy-Ser...</td>\n",
       "      <td>5</td>\n",
       "      <td>(Former Employee)  -   -  December 19, 2011</td>\n",
       "    </tr>\n",
       "  </tbody>\n",
       "</table>\n",
       "</div>"
      ],
      "text/plain": [
       "                                              ReviewTitle  \\\n",
       "145204  Definitely very good place to work and can hav...   \n",
       "145205  IT Services Company; Great scope for improvement.   \n",
       "145206  Productive, fun to work, great place to do cer...   \n",
       "145207                   Great place to start the career.   \n",
       "145208                                 Nice place to work   \n",
       "\n",
       "                                           CompleteReview  \\\n",
       "145204  We get a lot to learn in the company. Very sys...   \n",
       "145205  Lot of scope to learn different technologies u...   \n",
       "145206  An overall positive experience, nice environme...   \n",
       "145207  Happy that I've started my career from such a ...   \n",
       "145208  Got good experience and knowledge about my wor...   \n",
       "\n",
       "                                                      URL  Rating  \\\n",
       "145204  https://in.indeed.com/cmp/Tata-Consultancy-Ser...       4   \n",
       "145205  https://in.indeed.com/cmp/Tata-Consultancy-Ser...       4   \n",
       "145206  https://in.indeed.com/cmp/Tata-Consultancy-Ser...       4   \n",
       "145207  https://in.indeed.com/cmp/Tata-Consultancy-Ser...       3   \n",
       "145208  https://in.indeed.com/cmp/Tata-Consultancy-Ser...       5   \n",
       "\n",
       "                                      ReviewDetails  \n",
       "145204   (Former Employee)  -   -  January 20, 2012  \n",
       "145205   (Former Employee)  -   -  January 19, 2012  \n",
       "145206   (Former Employee)  -   -  January 19, 2012  \n",
       "145207    (Former Employee)  -   -  January 7, 2012  \n",
       "145208  (Former Employee)  -   -  December 19, 2011  "
      ]
     },
     "execution_count": 6,
     "metadata": {},
     "output_type": "execute_result"
    }
   ],
   "source": [
    "df.tail()"
   ]
  },
  {
   "cell_type": "code",
   "execution_count": 7,
   "id": "9da0f684",
   "metadata": {
    "ExecuteTime": {
     "end_time": "2021-09-23T07:04:07.124395Z",
     "start_time": "2021-09-23T07:04:07.054668Z"
    }
   },
   "outputs": [
    {
     "data": {
      "text/html": [
       "<div>\n",
       "<style scoped>\n",
       "    .dataframe tbody tr th:only-of-type {\n",
       "        vertical-align: middle;\n",
       "    }\n",
       "\n",
       "    .dataframe tbody tr th {\n",
       "        vertical-align: top;\n",
       "    }\n",
       "\n",
       "    .dataframe thead th {\n",
       "        text-align: right;\n",
       "    }\n",
       "</style>\n",
       "<table border=\"1\" class=\"dataframe\">\n",
       "  <thead>\n",
       "    <tr style=\"text-align: right;\">\n",
       "      <th></th>\n",
       "      <th>ReviewTitle</th>\n",
       "      <th>CompleteReview</th>\n",
       "      <th>URL</th>\n",
       "      <th>Rating</th>\n",
       "      <th>ReviewDetails</th>\n",
       "    </tr>\n",
       "  </thead>\n",
       "  <tbody>\n",
       "    <tr>\n",
       "      <th>114481</th>\n",
       "      <td>Good place to work</td>\n",
       "      <td>It was a good place to work with friendly peop...</td>\n",
       "      <td>https://in.indeed.com/cmp/Cognizant-Technology...</td>\n",
       "      <td>4</td>\n",
       "      <td>(Former Employee)  -   -  January 5, 2017</td>\n",
       "    </tr>\n",
       "    <tr>\n",
       "      <th>50126</th>\n",
       "      <td>Management of the entire organisation was very...</td>\n",
       "      <td>HDFC is India's most successful private sector...</td>\n",
       "      <td>https://in.indeed.com/cmp/Hdfc-Bank/reviews?st...</td>\n",
       "      <td>4</td>\n",
       "      <td>(Former Employee)  -   -  April 13, 2019</td>\n",
       "    </tr>\n",
       "    <tr>\n",
       "      <th>32992</th>\n",
       "      <td>Great Research Groups at MSR</td>\n",
       "      <td>Was an intern at Microsoft Research India. Ver...</td>\n",
       "      <td>https://in.indeed.com/cmp/Microsoft/reviews?st...</td>\n",
       "      <td>5</td>\n",
       "      <td>(Current Employee)  -   -  November 15, 2018</td>\n",
       "    </tr>\n",
       "    <tr>\n",
       "      <th>11266</th>\n",
       "      <td>fun and challenging envoirment</td>\n",
       "      <td>Marriott Hyderabad have wonderful team with he...</td>\n",
       "      <td>https://in.indeed.com/cmp/Marriott-Internation...</td>\n",
       "      <td>5</td>\n",
       "      <td>(Current Employee)  -   -  October 17, 2016</td>\n",
       "    </tr>\n",
       "    <tr>\n",
       "      <th>54045</th>\n",
       "      <td>Productive and Fun</td>\n",
       "      <td>The job was well secured and paid well. Also t...</td>\n",
       "      <td>https://in.indeed.com/cmp/Wells-Fargo/reviews?...</td>\n",
       "      <td>4</td>\n",
       "      <td>(Former Employee)  -   -  April 12, 2020</td>\n",
       "    </tr>\n",
       "  </tbody>\n",
       "</table>\n",
       "</div>"
      ],
      "text/plain": [
       "                                              ReviewTitle  \\\n",
       "114481                                 Good place to work   \n",
       "50126   Management of the entire organisation was very...   \n",
       "32992                        Great Research Groups at MSR   \n",
       "11266                      fun and challenging envoirment   \n",
       "54045                                  Productive and Fun   \n",
       "\n",
       "                                           CompleteReview  \\\n",
       "114481  It was a good place to work with friendly peop...   \n",
       "50126   HDFC is India's most successful private sector...   \n",
       "32992   Was an intern at Microsoft Research India. Ver...   \n",
       "11266   Marriott Hyderabad have wonderful team with he...   \n",
       "54045   The job was well secured and paid well. Also t...   \n",
       "\n",
       "                                                      URL  Rating  \\\n",
       "114481  https://in.indeed.com/cmp/Cognizant-Technology...       4   \n",
       "50126   https://in.indeed.com/cmp/Hdfc-Bank/reviews?st...       4   \n",
       "32992   https://in.indeed.com/cmp/Microsoft/reviews?st...       5   \n",
       "11266   https://in.indeed.com/cmp/Marriott-Internation...       5   \n",
       "54045   https://in.indeed.com/cmp/Wells-Fargo/reviews?...       4   \n",
       "\n",
       "                                       ReviewDetails  \n",
       "114481     (Former Employee)  -   -  January 5, 2017  \n",
       "50126       (Former Employee)  -   -  April 13, 2019  \n",
       "32992   (Current Employee)  -   -  November 15, 2018  \n",
       "11266    (Current Employee)  -   -  October 17, 2016  \n",
       "54045       (Former Employee)  -   -  April 12, 2020  "
      ]
     },
     "execution_count": 7,
     "metadata": {},
     "output_type": "execute_result"
    }
   ],
   "source": [
    "df.sample(5)"
   ]
  },
  {
   "cell_type": "markdown",
   "id": "d2551457",
   "metadata": {},
   "source": [
    "## Check Characteristic Data"
   ]
  },
  {
   "cell_type": "markdown",
   "id": "21b0d3e9",
   "metadata": {},
   "source": [
    "**Data Shape**"
   ]
  },
  {
   "cell_type": "code",
   "execution_count": 8,
   "id": "4d278d52",
   "metadata": {
    "ExecuteTime": {
     "end_time": "2021-09-23T07:04:36.918027Z",
     "start_time": "2021-09-23T07:04:36.912511Z"
    }
   },
   "outputs": [
    {
     "data": {
      "text/plain": [
       "(145209, 5)"
      ]
     },
     "execution_count": 8,
     "metadata": {},
     "output_type": "execute_result"
    }
   ],
   "source": [
    "df.shape"
   ]
  },
  {
   "cell_type": "markdown",
   "id": "8bb6189e",
   "metadata": {},
   "source": [
    "**Data Columns**"
   ]
  },
  {
   "cell_type": "code",
   "execution_count": 9,
   "id": "f48b4037",
   "metadata": {
    "ExecuteTime": {
     "end_time": "2021-09-23T07:04:50.325183Z",
     "start_time": "2021-09-23T07:04:50.320169Z"
    }
   },
   "outputs": [
    {
     "data": {
      "text/plain": [
       "Index(['ReviewTitle', 'CompleteReview', 'URL', 'Rating', 'ReviewDetails'], dtype='object')"
      ]
     },
     "execution_count": 9,
     "metadata": {},
     "output_type": "execute_result"
    }
   ],
   "source": [
    "df.columns"
   ]
  },
  {
   "cell_type": "markdown",
   "id": "0e054852",
   "metadata": {},
   "source": [
    "**Data Info**"
   ]
  },
  {
   "cell_type": "code",
   "execution_count": 10,
   "id": "4d040556",
   "metadata": {
    "ExecuteTime": {
     "end_time": "2021-09-23T07:05:06.388147Z",
     "start_time": "2021-09-23T07:05:06.109427Z"
    }
   },
   "outputs": [
    {
     "name": "stdout",
     "output_type": "stream",
     "text": [
      "<class 'pandas.core.frame.DataFrame'>\n",
      "RangeIndex: 145209 entries, 0 to 145208\n",
      "Data columns (total 5 columns):\n",
      " #   Column          Non-Null Count   Dtype \n",
      "---  ------          --------------   ----- \n",
      " 0   ReviewTitle     145209 non-null  object\n",
      " 1   CompleteReview  145209 non-null  object\n",
      " 2   URL             145209 non-null  object\n",
      " 3   Rating          145209 non-null  int64 \n",
      " 4   ReviewDetails   145209 non-null  object\n",
      "dtypes: int64(1), object(4)\n",
      "memory usage: 5.5+ MB\n"
     ]
    }
   ],
   "source": [
    "df.info()"
   ]
  },
  {
   "cell_type": "markdown",
   "id": "d9de53a1",
   "metadata": {},
   "source": [
    "**Descriptive Statistic**"
   ]
  },
  {
   "cell_type": "code",
   "execution_count": 11,
   "id": "fc26453b",
   "metadata": {
    "ExecuteTime": {
     "end_time": "2021-09-23T07:05:24.949143Z",
     "start_time": "2021-09-23T07:05:24.792851Z"
    }
   },
   "outputs": [
    {
     "data": {
      "text/html": [
       "<div>\n",
       "<style scoped>\n",
       "    .dataframe tbody tr th:only-of-type {\n",
       "        vertical-align: middle;\n",
       "    }\n",
       "\n",
       "    .dataframe tbody tr th {\n",
       "        vertical-align: top;\n",
       "    }\n",
       "\n",
       "    .dataframe thead th {\n",
       "        text-align: right;\n",
       "    }\n",
       "</style>\n",
       "<table border=\"1\" class=\"dataframe\">\n",
       "  <thead>\n",
       "    <tr style=\"text-align: right;\">\n",
       "      <th></th>\n",
       "      <th>Rating</th>\n",
       "    </tr>\n",
       "  </thead>\n",
       "  <tbody>\n",
       "    <tr>\n",
       "      <th>count</th>\n",
       "      <td>145209.000000</td>\n",
       "    </tr>\n",
       "    <tr>\n",
       "      <th>mean</th>\n",
       "      <td>4.053661</td>\n",
       "    </tr>\n",
       "    <tr>\n",
       "      <th>std</th>\n",
       "      <td>0.925805</td>\n",
       "    </tr>\n",
       "    <tr>\n",
       "      <th>min</th>\n",
       "      <td>1.000000</td>\n",
       "    </tr>\n",
       "    <tr>\n",
       "      <th>25%</th>\n",
       "      <td>4.000000</td>\n",
       "    </tr>\n",
       "    <tr>\n",
       "      <th>50%</th>\n",
       "      <td>4.000000</td>\n",
       "    </tr>\n",
       "    <tr>\n",
       "      <th>75%</th>\n",
       "      <td>5.000000</td>\n",
       "    </tr>\n",
       "    <tr>\n",
       "      <th>max</th>\n",
       "      <td>5.000000</td>\n",
       "    </tr>\n",
       "  </tbody>\n",
       "</table>\n",
       "</div>"
      ],
      "text/plain": [
       "              Rating\n",
       "count  145209.000000\n",
       "mean        4.053661\n",
       "std         0.925805\n",
       "min         1.000000\n",
       "25%         4.000000\n",
       "50%         4.000000\n",
       "75%         5.000000\n",
       "max         5.000000"
      ]
     },
     "execution_count": 11,
     "metadata": {},
     "output_type": "execute_result"
    }
   ],
   "source": [
    "df.describe()"
   ]
  },
  {
   "cell_type": "markdown",
   "id": "4925163d",
   "metadata": {},
   "source": [
    "**Check Missing Value**"
   ]
  },
  {
   "cell_type": "code",
   "execution_count": 12,
   "id": "a01554af",
   "metadata": {
    "ExecuteTime": {
     "end_time": "2021-09-23T07:05:43.400338Z",
     "start_time": "2021-09-23T07:05:43.351210Z"
    }
   },
   "outputs": [
    {
     "data": {
      "text/plain": [
       "ReviewTitle       0\n",
       "CompleteReview    0\n",
       "URL               0\n",
       "Rating            0\n",
       "ReviewDetails     0\n",
       "dtype: int64"
      ]
     },
     "execution_count": 12,
     "metadata": {},
     "output_type": "execute_result"
    }
   ],
   "source": [
    "df.isnull().sum()"
   ]
  },
  {
   "cell_type": "markdown",
   "id": "6cac95ab",
   "metadata": {},
   "source": [
    "**Check and Drop Duplicate Data**"
   ]
  },
  {
   "cell_type": "code",
   "execution_count": 106,
   "id": "8708b1af",
   "metadata": {
    "ExecuteTime": {
     "end_time": "2021-09-23T08:45:46.316565Z",
     "start_time": "2021-09-23T08:45:45.988015Z"
    }
   },
   "outputs": [],
   "source": [
    "df = df.drop_duplicates(keep='first')\n",
    "df.reset_index(drop=True, inplace=True)"
   ]
  },
  {
   "cell_type": "code",
   "execution_count": 107,
   "id": "ddce1445",
   "metadata": {
    "ExecuteTime": {
     "end_time": "2021-09-23T08:45:46.883808Z",
     "start_time": "2021-09-23T08:45:46.879296Z"
    }
   },
   "outputs": [
    {
     "data": {
      "text/plain": [
       "(145191, 6)"
      ]
     },
     "execution_count": 107,
     "metadata": {},
     "output_type": "execute_result"
    }
   ],
   "source": [
    "df.shape"
   ]
  },
  {
   "cell_type": "markdown",
   "id": "080e9bf4",
   "metadata": {},
   "source": [
    "## Feature Extraction"
   ]
  },
  {
   "cell_type": "code",
   "execution_count": 108,
   "id": "0028767a",
   "metadata": {
    "ExecuteTime": {
     "end_time": "2021-09-23T08:45:47.853294Z",
     "start_time": "2021-09-23T08:45:47.839256Z"
    }
   },
   "outputs": [
    {
     "data": {
      "text/html": [
       "<div>\n",
       "<style scoped>\n",
       "    .dataframe tbody tr th:only-of-type {\n",
       "        vertical-align: middle;\n",
       "    }\n",
       "\n",
       "    .dataframe tbody tr th {\n",
       "        vertical-align: top;\n",
       "    }\n",
       "\n",
       "    .dataframe thead th {\n",
       "        text-align: right;\n",
       "    }\n",
       "</style>\n",
       "<table border=\"1\" class=\"dataframe\">\n",
       "  <thead>\n",
       "    <tr style=\"text-align: right;\">\n",
       "      <th></th>\n",
       "      <th>ReviewTitle</th>\n",
       "      <th>CompleteReview</th>\n",
       "      <th>URL</th>\n",
       "      <th>Rating</th>\n",
       "      <th>ReviewDetails</th>\n",
       "      <th>Company Name</th>\n",
       "    </tr>\n",
       "  </thead>\n",
       "  <tbody>\n",
       "    <tr>\n",
       "      <th>0</th>\n",
       "      <td>Productive</td>\n",
       "      <td>Good company, cool workplace, work load little...</td>\n",
       "      <td>https://in.indeed.com/cmp/Reliance-Industries-...</td>\n",
       "      <td>3</td>\n",
       "      <td>(Current Employee)  -  Ghansoli  -  August 30,...</td>\n",
       "      <td>Reliance-Industries-Ltd</td>\n",
       "    </tr>\n",
       "    <tr>\n",
       "      <th>1</th>\n",
       "      <td>Stressful</td>\n",
       "      <td>1. Need to work on boss's whims and fancies 2....</td>\n",
       "      <td>https://in.indeed.com/cmp/Reliance-Industries-...</td>\n",
       "      <td>3</td>\n",
       "      <td>(Former Employee)  -   -  August 26, 2021</td>\n",
       "      <td>Reliance-Industries-Ltd</td>\n",
       "    </tr>\n",
       "    <tr>\n",
       "      <th>2</th>\n",
       "      <td>Good Company for Every employee</td>\n",
       "      <td>Good company for every Engineers dream, Full M...</td>\n",
       "      <td>https://in.indeed.com/cmp/Reliance-Industries-...</td>\n",
       "      <td>5</td>\n",
       "      <td>(Former Employee)  -   -  August 17, 2021</td>\n",
       "      <td>Reliance-Industries-Ltd</td>\n",
       "    </tr>\n",
       "  </tbody>\n",
       "</table>\n",
       "</div>"
      ],
      "text/plain": [
       "                       ReviewTitle  \\\n",
       "0                       Productive   \n",
       "1                        Stressful   \n",
       "2  Good Company for Every employee   \n",
       "\n",
       "                                      CompleteReview  \\\n",
       "0  Good company, cool workplace, work load little...   \n",
       "1  1. Need to work on boss's whims and fancies 2....   \n",
       "2  Good company for every Engineers dream, Full M...   \n",
       "\n",
       "                                                 URL  Rating  \\\n",
       "0  https://in.indeed.com/cmp/Reliance-Industries-...       3   \n",
       "1  https://in.indeed.com/cmp/Reliance-Industries-...       3   \n",
       "2  https://in.indeed.com/cmp/Reliance-Industries-...       5   \n",
       "\n",
       "                                       ReviewDetails             Company Name  \n",
       "0  (Current Employee)  -  Ghansoli  -  August 30,...  Reliance-Industries-Ltd  \n",
       "1          (Former Employee)  -   -  August 26, 2021  Reliance-Industries-Ltd  \n",
       "2          (Former Employee)  -   -  August 17, 2021  Reliance-Industries-Ltd  "
      ]
     },
     "execution_count": 108,
     "metadata": {},
     "output_type": "execute_result"
    }
   ],
   "source": [
    "df.head(3)"
   ]
  },
  {
   "cell_type": "markdown",
   "id": "5737277f",
   "metadata": {},
   "source": [
    "**Make Company Name Columns**"
   ]
  },
  {
   "cell_type": "code",
   "execution_count": 109,
   "id": "abf25c2b",
   "metadata": {
    "ExecuteTime": {
     "end_time": "2021-09-23T08:45:49.101181Z",
     "start_time": "2021-09-23T08:45:48.761229Z"
    }
   },
   "outputs": [],
   "source": [
    "df['Company Name'] = df['URL'].str.split('/')\n",
    "df['Company Name'] = df['Company Name'].str[4]"
   ]
  },
  {
   "cell_type": "code",
   "execution_count": 110,
   "id": "adc0fb20",
   "metadata": {
    "ExecuteTime": {
     "end_time": "2021-09-23T08:45:49.593157Z",
     "start_time": "2021-09-23T08:45:49.585638Z"
    }
   },
   "outputs": [
    {
     "data": {
      "text/plain": [
       "0    Reliance-Industries-Ltd\n",
       "1    Reliance-Industries-Ltd\n",
       "2    Reliance-Industries-Ltd\n",
       "3    Reliance-Industries-Ltd\n",
       "4    Reliance-Industries-Ltd\n",
       "Name: Company Name, dtype: object"
      ]
     },
     "execution_count": 110,
     "metadata": {},
     "output_type": "execute_result"
    }
   ],
   "source": [
    "df['Company Name'].head()"
   ]
  },
  {
   "cell_type": "code",
   "execution_count": 180,
   "id": "b0b573e0",
   "metadata": {
    "ExecuteTime": {
     "end_time": "2021-09-23T09:05:41.754586Z",
     "start_time": "2021-09-23T09:05:38.323521Z"
    }
   },
   "outputs": [
    {
     "data": {
      "text/plain": [
       "array(['Reliance-Industries-Ltd', 'Mphasis', 'Kpmg', 'Yes-Bank',\n",
       "       'Sutherland', 'Marriott-International,-Inc.', 'DHL', 'Jio',\n",
       "       'Vodafoneziggo', 'HP', 'Maersk', 'Ride.swiggy', 'Jll', 'Alstom',\n",
       "       'UnitedHealth-Group', 'Tata-Consultancy-Services-(tcs)',\n",
       "       'Capgemini', 'Teleperformance', 'Cognizant-Technology-Solutions',\n",
       "       'Mahindra-&-Mahindra-Ltd', 'L&T-Technology-Services-Ltd.',\n",
       "       'Bharti-Airtel-Limited', 'Indeed', 'Hyatt',\n",
       "       'Icici-Prudential-Life-Insurance', 'Accenture', 'Honeywell',\n",
       "       'Standard-Chartered-Bank', 'Nokia', 'Apollo-Hospitals',\n",
       "       'Tata-Aia-Life', 'Hdfc-Bank', 'Bosch', 'Deloitte', 'Ey',\n",
       "       'Microsoft', 'Barclays', 'JPMorgan-Chase', 'Muthoot-Finance',\n",
       "       'Wns-Global-Services', 'Kotak-Mahindra-Bank', 'Infosys', 'Oracle',\n",
       "       \"Byju's\", 'Deutsche-Bank', 'Hinduja-Global-Solutions', 'Ericsson',\n",
       "       'Axis-Bank', 'IBM', 'Concentrix', 'Wells-Fargo', 'Google',\n",
       "       'Dell-Technologies', 'Facebook', 'Amazon.com', 'Flipkart.com',\n",
       "       'American-Express', 'Citi', 'HSBC'], dtype=object)"
      ]
     },
     "execution_count": 180,
     "metadata": {},
     "output_type": "execute_result"
    }
   ],
   "source": [
    "df['Company Name'].unique()"
   ]
  },
  {
   "cell_type": "code",
   "execution_count": 111,
   "id": "02c2bf3c",
   "metadata": {
    "ExecuteTime": {
     "end_time": "2021-09-23T08:45:50.309377Z",
     "start_time": "2021-09-23T08:45:50.296845Z"
    }
   },
   "outputs": [
    {
     "data": {
      "text/html": [
       "<div>\n",
       "<style scoped>\n",
       "    .dataframe tbody tr th:only-of-type {\n",
       "        vertical-align: middle;\n",
       "    }\n",
       "\n",
       "    .dataframe tbody tr th {\n",
       "        vertical-align: top;\n",
       "    }\n",
       "\n",
       "    .dataframe thead th {\n",
       "        text-align: right;\n",
       "    }\n",
       "</style>\n",
       "<table border=\"1\" class=\"dataframe\">\n",
       "  <thead>\n",
       "    <tr style=\"text-align: right;\">\n",
       "      <th></th>\n",
       "      <th>ReviewTitle</th>\n",
       "      <th>CompleteReview</th>\n",
       "      <th>URL</th>\n",
       "      <th>Rating</th>\n",
       "      <th>ReviewDetails</th>\n",
       "      <th>Company Name</th>\n",
       "    </tr>\n",
       "  </thead>\n",
       "  <tbody>\n",
       "    <tr>\n",
       "      <th>0</th>\n",
       "      <td>Productive</td>\n",
       "      <td>Good company, cool workplace, work load little...</td>\n",
       "      <td>https://in.indeed.com/cmp/Reliance-Industries-...</td>\n",
       "      <td>3</td>\n",
       "      <td>(Current Employee)  -  Ghansoli  -  August 30,...</td>\n",
       "      <td>Reliance-Industries-Ltd</td>\n",
       "    </tr>\n",
       "    <tr>\n",
       "      <th>1</th>\n",
       "      <td>Stressful</td>\n",
       "      <td>1. Need to work on boss's whims and fancies 2....</td>\n",
       "      <td>https://in.indeed.com/cmp/Reliance-Industries-...</td>\n",
       "      <td>3</td>\n",
       "      <td>(Former Employee)  -   -  August 26, 2021</td>\n",
       "      <td>Reliance-Industries-Ltd</td>\n",
       "    </tr>\n",
       "    <tr>\n",
       "      <th>2</th>\n",
       "      <td>Good Company for Every employee</td>\n",
       "      <td>Good company for every Engineers dream, Full M...</td>\n",
       "      <td>https://in.indeed.com/cmp/Reliance-Industries-...</td>\n",
       "      <td>5</td>\n",
       "      <td>(Former Employee)  -   -  August 17, 2021</td>\n",
       "      <td>Reliance-Industries-Ltd</td>\n",
       "    </tr>\n",
       "    <tr>\n",
       "      <th>3</th>\n",
       "      <td>Productive</td>\n",
       "      <td>I am just pass out bsc in chemistry Typical da...</td>\n",
       "      <td>https://in.indeed.com/cmp/Reliance-Industries-...</td>\n",
       "      <td>5</td>\n",
       "      <td>(Current Employee)  -   -  August 17, 2021</td>\n",
       "      <td>Reliance-Industries-Ltd</td>\n",
       "    </tr>\n",
       "    <tr>\n",
       "      <th>4</th>\n",
       "      <td>Non productive</td>\n",
       "      <td>Not so fun at work just blame games  Target pe...</td>\n",
       "      <td>https://in.indeed.com/cmp/Reliance-Industries-...</td>\n",
       "      <td>1</td>\n",
       "      <td>(Former Employee)  -   -  August 9, 2021</td>\n",
       "      <td>Reliance-Industries-Ltd</td>\n",
       "    </tr>\n",
       "  </tbody>\n",
       "</table>\n",
       "</div>"
      ],
      "text/plain": [
       "                       ReviewTitle  \\\n",
       "0                       Productive   \n",
       "1                        Stressful   \n",
       "2  Good Company for Every employee   \n",
       "3                       Productive   \n",
       "4                   Non productive   \n",
       "\n",
       "                                      CompleteReview  \\\n",
       "0  Good company, cool workplace, work load little...   \n",
       "1  1. Need to work on boss's whims and fancies 2....   \n",
       "2  Good company for every Engineers dream, Full M...   \n",
       "3  I am just pass out bsc in chemistry Typical da...   \n",
       "4  Not so fun at work just blame games  Target pe...   \n",
       "\n",
       "                                                 URL  Rating  \\\n",
       "0  https://in.indeed.com/cmp/Reliance-Industries-...       3   \n",
       "1  https://in.indeed.com/cmp/Reliance-Industries-...       3   \n",
       "2  https://in.indeed.com/cmp/Reliance-Industries-...       5   \n",
       "3  https://in.indeed.com/cmp/Reliance-Industries-...       5   \n",
       "4  https://in.indeed.com/cmp/Reliance-Industries-...       1   \n",
       "\n",
       "                                       ReviewDetails             Company Name  \n",
       "0  (Current Employee)  -  Ghansoli  -  August 30,...  Reliance-Industries-Ltd  \n",
       "1          (Former Employee)  -   -  August 26, 2021  Reliance-Industries-Ltd  \n",
       "2          (Former Employee)  -   -  August 17, 2021  Reliance-Industries-Ltd  \n",
       "3         (Current Employee)  -   -  August 17, 2021  Reliance-Industries-Ltd  \n",
       "4           (Former Employee)  -   -  August 9, 2021  Reliance-Industries-Ltd  "
      ]
     },
     "execution_count": 111,
     "metadata": {},
     "output_type": "execute_result"
    }
   ],
   "source": [
    "df.head()"
   ]
  },
  {
   "cell_type": "markdown",
   "id": "ba88c2d8",
   "metadata": {},
   "source": [
    "**Make Date Columns**"
   ]
  },
  {
   "cell_type": "code",
   "execution_count": 177,
   "id": "2d90f022",
   "metadata": {
    "ExecuteTime": {
     "end_time": "2021-09-23T09:04:38.381259Z",
     "start_time": "2021-09-23T09:04:36.706053Z"
    }
   },
   "outputs": [
    {
     "data": {
      "text/html": [
       "<div>\n",
       "<style scoped>\n",
       "    .dataframe tbody tr th:only-of-type {\n",
       "        vertical-align: middle;\n",
       "    }\n",
       "\n",
       "    .dataframe tbody tr th {\n",
       "        vertical-align: top;\n",
       "    }\n",
       "\n",
       "    .dataframe thead th {\n",
       "        text-align: right;\n",
       "    }\n",
       "</style>\n",
       "<table border=\"1\" class=\"dataframe\">\n",
       "  <thead>\n",
       "    <tr style=\"text-align: right;\">\n",
       "      <th></th>\n",
       "      <th>0</th>\n",
       "      <th>1</th>\n",
       "      <th>2</th>\n",
       "      <th>3</th>\n",
       "      <th>4</th>\n",
       "    </tr>\n",
       "  </thead>\n",
       "  <tbody>\n",
       "    <tr>\n",
       "      <th>99693</th>\n",
       "      <td>(Former Employee)</td>\n",
       "      <td></td>\n",
       "      <td>October 1, 2016</td>\n",
       "      <td>None</td>\n",
       "      <td>None</td>\n",
       "    </tr>\n",
       "    <tr>\n",
       "      <th>104508</th>\n",
       "      <td>(Former Employee)</td>\n",
       "      <td></td>\n",
       "      <td>October 13, 2013</td>\n",
       "      <td>None</td>\n",
       "      <td>None</td>\n",
       "    </tr>\n",
       "    <tr>\n",
       "      <th>63461</th>\n",
       "      <td>(Current Employee)</td>\n",
       "      <td></td>\n",
       "      <td>April 23, 2019</td>\n",
       "      <td>None</td>\n",
       "      <td>None</td>\n",
       "    </tr>\n",
       "    <tr>\n",
       "      <th>127297</th>\n",
       "      <td>(Current Employee)</td>\n",
       "      <td></td>\n",
       "      <td>February 4, 2015</td>\n",
       "      <td>None</td>\n",
       "      <td>None</td>\n",
       "    </tr>\n",
       "    <tr>\n",
       "      <th>40229</th>\n",
       "      <td>(Former Employee)</td>\n",
       "      <td></td>\n",
       "      <td>August 30, 2019</td>\n",
       "      <td>None</td>\n",
       "      <td>None</td>\n",
       "    </tr>\n",
       "    <tr>\n",
       "      <th>21254</th>\n",
       "      <td>(Former Employee)</td>\n",
       "      <td>Gujarat</td>\n",
       "      <td>October 2, 2017</td>\n",
       "      <td>None</td>\n",
       "      <td>None</td>\n",
       "    </tr>\n",
       "    <tr>\n",
       "      <th>74328</th>\n",
       "      <td>(Former Employee)</td>\n",
       "      <td></td>\n",
       "      <td>September 19, 2019</td>\n",
       "      <td>None</td>\n",
       "      <td>None</td>\n",
       "    </tr>\n",
       "    <tr>\n",
       "      <th>8691</th>\n",
       "      <td>(Current Employee)</td>\n",
       "      <td></td>\n",
       "      <td>May 3, 2018</td>\n",
       "      <td>None</td>\n",
       "      <td>None</td>\n",
       "    </tr>\n",
       "    <tr>\n",
       "      <th>79782</th>\n",
       "      <td>(Former Employee)</td>\n",
       "      <td>Haryana</td>\n",
       "      <td>April 4, 2018</td>\n",
       "      <td>None</td>\n",
       "      <td>None</td>\n",
       "    </tr>\n",
       "    <tr>\n",
       "      <th>118403</th>\n",
       "      <td>(Current Employee)</td>\n",
       "      <td></td>\n",
       "      <td>June 5, 2017</td>\n",
       "      <td>None</td>\n",
       "      <td>None</td>\n",
       "    </tr>\n",
       "  </tbody>\n",
       "</table>\n",
       "</div>"
      ],
      "text/plain": [
       "                           0            1                     2     3     4\n",
       "99693    (Former Employee)                      October 1, 2016  None  None\n",
       "104508   (Former Employee)                     October 13, 2013  None  None\n",
       "63461   (Current Employee)                       April 23, 2019  None  None\n",
       "127297  (Current Employee)                     February 4, 2015  None  None\n",
       "40229    (Former Employee)                      August 30, 2019  None  None\n",
       "21254    (Former Employee)      Gujarat         October 2, 2017  None  None\n",
       "74328    (Former Employee)                   September 19, 2019  None  None\n",
       "8691    (Current Employee)                          May 3, 2018  None  None\n",
       "79782    (Former Employee)      Haryana           April 4, 2018  None  None\n",
       "118403  (Current Employee)                         June 5, 2017  None  None"
      ]
     },
     "execution_count": 177,
     "metadata": {},
     "output_type": "execute_result"
    }
   ],
   "source": [
    "df['ReviewDetails'].str.split('-', expand=True).sample(10)"
   ]
  },
  {
   "cell_type": "code",
   "execution_count": 136,
   "id": "a030c012",
   "metadata": {
    "ExecuteTime": {
     "end_time": "2021-09-23T08:52:30.899027Z",
     "start_time": "2021-09-23T08:52:29.913259Z"
    }
   },
   "outputs": [
    {
     "data": {
      "text/html": [
       "<div>\n",
       "<style scoped>\n",
       "    .dataframe tbody tr th:only-of-type {\n",
       "        vertical-align: middle;\n",
       "    }\n",
       "\n",
       "    .dataframe tbody tr th {\n",
       "        vertical-align: top;\n",
       "    }\n",
       "\n",
       "    .dataframe thead th {\n",
       "        text-align: right;\n",
       "    }\n",
       "</style>\n",
       "<table border=\"1\" class=\"dataframe\">\n",
       "  <thead>\n",
       "    <tr style=\"text-align: right;\">\n",
       "      <th></th>\n",
       "      <th>0</th>\n",
       "      <th>1</th>\n",
       "      <th>2</th>\n",
       "      <th>3</th>\n",
       "      <th>4</th>\n",
       "      <th>5</th>\n",
       "      <th>6</th>\n",
       "      <th>7</th>\n",
       "    </tr>\n",
       "  </thead>\n",
       "  <tbody>\n",
       "    <tr>\n",
       "      <th>0</th>\n",
       "      <td></td>\n",
       "      <td></td>\n",
       "      <td>August</td>\n",
       "      <td>30</td>\n",
       "      <td>2021</td>\n",
       "      <td>None</td>\n",
       "      <td>None</td>\n",
       "      <td>None</td>\n",
       "    </tr>\n",
       "    <tr>\n",
       "      <th>1</th>\n",
       "      <td></td>\n",
       "      <td></td>\n",
       "      <td>August</td>\n",
       "      <td>26</td>\n",
       "      <td>2021</td>\n",
       "      <td>None</td>\n",
       "      <td>None</td>\n",
       "      <td>None</td>\n",
       "    </tr>\n",
       "    <tr>\n",
       "      <th>2</th>\n",
       "      <td></td>\n",
       "      <td></td>\n",
       "      <td>August</td>\n",
       "      <td>17</td>\n",
       "      <td>2021</td>\n",
       "      <td>None</td>\n",
       "      <td>None</td>\n",
       "      <td>None</td>\n",
       "    </tr>\n",
       "    <tr>\n",
       "      <th>3</th>\n",
       "      <td></td>\n",
       "      <td></td>\n",
       "      <td>August</td>\n",
       "      <td>17</td>\n",
       "      <td>2021</td>\n",
       "      <td>None</td>\n",
       "      <td>None</td>\n",
       "      <td>None</td>\n",
       "    </tr>\n",
       "    <tr>\n",
       "      <th>4</th>\n",
       "      <td></td>\n",
       "      <td></td>\n",
       "      <td>August</td>\n",
       "      <td>9</td>\n",
       "      <td>2021</td>\n",
       "      <td>None</td>\n",
       "      <td>None</td>\n",
       "      <td>None</td>\n",
       "    </tr>\n",
       "    <tr>\n",
       "      <th>...</th>\n",
       "      <td>...</td>\n",
       "      <td>...</td>\n",
       "      <td>...</td>\n",
       "      <td>...</td>\n",
       "      <td>...</td>\n",
       "      <td>...</td>\n",
       "      <td>...</td>\n",
       "      <td>...</td>\n",
       "    </tr>\n",
       "    <tr>\n",
       "      <th>145186</th>\n",
       "      <td></td>\n",
       "      <td></td>\n",
       "      <td>January</td>\n",
       "      <td>20</td>\n",
       "      <td>2012</td>\n",
       "      <td>None</td>\n",
       "      <td>None</td>\n",
       "      <td>None</td>\n",
       "    </tr>\n",
       "    <tr>\n",
       "      <th>145187</th>\n",
       "      <td></td>\n",
       "      <td></td>\n",
       "      <td>January</td>\n",
       "      <td>19</td>\n",
       "      <td>2012</td>\n",
       "      <td>None</td>\n",
       "      <td>None</td>\n",
       "      <td>None</td>\n",
       "    </tr>\n",
       "    <tr>\n",
       "      <th>145188</th>\n",
       "      <td></td>\n",
       "      <td></td>\n",
       "      <td>January</td>\n",
       "      <td>19</td>\n",
       "      <td>2012</td>\n",
       "      <td>None</td>\n",
       "      <td>None</td>\n",
       "      <td>None</td>\n",
       "    </tr>\n",
       "    <tr>\n",
       "      <th>145189</th>\n",
       "      <td></td>\n",
       "      <td></td>\n",
       "      <td>January</td>\n",
       "      <td>7</td>\n",
       "      <td>2012</td>\n",
       "      <td>None</td>\n",
       "      <td>None</td>\n",
       "      <td>None</td>\n",
       "    </tr>\n",
       "    <tr>\n",
       "      <th>145190</th>\n",
       "      <td></td>\n",
       "      <td></td>\n",
       "      <td>December</td>\n",
       "      <td>19</td>\n",
       "      <td>2011</td>\n",
       "      <td>None</td>\n",
       "      <td>None</td>\n",
       "      <td>None</td>\n",
       "    </tr>\n",
       "  </tbody>\n",
       "</table>\n",
       "<p>145191 rows × 8 columns</p>\n",
       "</div>"
      ],
      "text/plain": [
       "       0  1          2   3     4     5     6     7\n",
       "0               August  30  2021  None  None  None\n",
       "1               August  26  2021  None  None  None\n",
       "2               August  17  2021  None  None  None\n",
       "3               August  17  2021  None  None  None\n",
       "4               August   9  2021  None  None  None\n",
       "...    .. ..       ...  ..   ...   ...   ...   ...\n",
       "145186         January  20  2012  None  None  None\n",
       "145187         January  19  2012  None  None  None\n",
       "145188         January  19  2012  None  None  None\n",
       "145189         January   7  2012  None  None  None\n",
       "145190        December  19  2011  None  None  None\n",
       "\n",
       "[145191 rows x 8 columns]"
      ]
     },
     "execution_count": 136,
     "metadata": {},
     "output_type": "execute_result"
    }
   ],
   "source": [
    "dummy = df['ReviewDetails'].str.split('-', expand=True)\n",
    "dummy = dummy[2]\n",
    "dummy = dummy.str.replace(',','')\n",
    "dummy = dummy.str.split(' ', expand=True)\n",
    "dummy"
   ]
  },
  {
   "cell_type": "code",
   "execution_count": 178,
   "id": "3e5a905d",
   "metadata": {
    "ExecuteTime": {
     "end_time": "2021-09-23T09:04:54.450075Z",
     "start_time": "2021-09-23T09:04:54.425007Z"
    }
   },
   "outputs": [
    {
     "data": {
      "text/html": [
       "<div>\n",
       "<style scoped>\n",
       "    .dataframe tbody tr th:only-of-type {\n",
       "        vertical-align: middle;\n",
       "    }\n",
       "\n",
       "    .dataframe tbody tr th {\n",
       "        vertical-align: top;\n",
       "    }\n",
       "\n",
       "    .dataframe thead th {\n",
       "        text-align: right;\n",
       "    }\n",
       "</style>\n",
       "<table border=\"1\" class=\"dataframe\">\n",
       "  <thead>\n",
       "    <tr style=\"text-align: right;\">\n",
       "      <th></th>\n",
       "      <th>0</th>\n",
       "      <th>1</th>\n",
       "      <th>2</th>\n",
       "      <th>3</th>\n",
       "      <th>4</th>\n",
       "      <th>5</th>\n",
       "      <th>6</th>\n",
       "      <th>7</th>\n",
       "    </tr>\n",
       "  </thead>\n",
       "  <tbody>\n",
       "    <tr>\n",
       "      <th>21345</th>\n",
       "      <td></td>\n",
       "      <td></td>\n",
       "      <td>June</td>\n",
       "      <td>7</td>\n",
       "      <td>2017</td>\n",
       "      <td>None</td>\n",
       "      <td>None</td>\n",
       "      <td>None</td>\n",
       "    </tr>\n",
       "    <tr>\n",
       "      <th>120751</th>\n",
       "      <td></td>\n",
       "      <td></td>\n",
       "      <td>May</td>\n",
       "      <td>9</td>\n",
       "      <td>2016</td>\n",
       "      <td>None</td>\n",
       "      <td>None</td>\n",
       "      <td>None</td>\n",
       "    </tr>\n",
       "    <tr>\n",
       "      <th>24953</th>\n",
       "      <td></td>\n",
       "      <td></td>\n",
       "      <td>May</td>\n",
       "      <td>20</td>\n",
       "      <td>2017</td>\n",
       "      <td>None</td>\n",
       "      <td>None</td>\n",
       "      <td>None</td>\n",
       "    </tr>\n",
       "    <tr>\n",
       "      <th>19897</th>\n",
       "      <td></td>\n",
       "      <td></td>\n",
       "      <td>November</td>\n",
       "      <td>6</td>\n",
       "      <td>2019</td>\n",
       "      <td>None</td>\n",
       "      <td>None</td>\n",
       "      <td>None</td>\n",
       "    </tr>\n",
       "    <tr>\n",
       "      <th>58358</th>\n",
       "      <td></td>\n",
       "      <td></td>\n",
       "      <td>January</td>\n",
       "      <td>18</td>\n",
       "      <td>2020</td>\n",
       "      <td>None</td>\n",
       "      <td>None</td>\n",
       "      <td>None</td>\n",
       "    </tr>\n",
       "    <tr>\n",
       "      <th>61224</th>\n",
       "      <td></td>\n",
       "      <td></td>\n",
       "      <td>September</td>\n",
       "      <td>4</td>\n",
       "      <td>2019</td>\n",
       "      <td>None</td>\n",
       "      <td>None</td>\n",
       "      <td>None</td>\n",
       "    </tr>\n",
       "    <tr>\n",
       "      <th>28647</th>\n",
       "      <td></td>\n",
       "      <td></td>\n",
       "      <td>March</td>\n",
       "      <td>16</td>\n",
       "      <td>2017</td>\n",
       "      <td>None</td>\n",
       "      <td>None</td>\n",
       "      <td>None</td>\n",
       "    </tr>\n",
       "    <tr>\n",
       "      <th>117346</th>\n",
       "      <td></td>\n",
       "      <td></td>\n",
       "      <td>April</td>\n",
       "      <td>27</td>\n",
       "      <td>2017</td>\n",
       "      <td>None</td>\n",
       "      <td>None</td>\n",
       "      <td>None</td>\n",
       "    </tr>\n",
       "    <tr>\n",
       "      <th>43846</th>\n",
       "      <td></td>\n",
       "      <td></td>\n",
       "      <td>June</td>\n",
       "      <td>21</td>\n",
       "      <td>2019</td>\n",
       "      <td>None</td>\n",
       "      <td>None</td>\n",
       "      <td>None</td>\n",
       "    </tr>\n",
       "    <tr>\n",
       "      <th>79858</th>\n",
       "      <td></td>\n",
       "      <td></td>\n",
       "      <td>April</td>\n",
       "      <td>29</td>\n",
       "      <td>2015</td>\n",
       "      <td>None</td>\n",
       "      <td>None</td>\n",
       "      <td>None</td>\n",
       "    </tr>\n",
       "  </tbody>\n",
       "</table>\n",
       "</div>"
      ],
      "text/plain": [
       "       0 1          2   3     4     5     6     7\n",
       "21345            June   7  2017  None  None  None\n",
       "120751            May   9  2016  None  None  None\n",
       "24953             May  20  2017  None  None  None\n",
       "19897        November   6  2019  None  None  None\n",
       "58358         January  18  2020  None  None  None\n",
       "61224       September   4  2019  None  None  None\n",
       "28647           March  16  2017  None  None  None\n",
       "117346          April  27  2017  None  None  None\n",
       "43846            June  21  2019  None  None  None\n",
       "79858           April  29  2015  None  None  None"
      ]
     },
     "execution_count": 178,
     "metadata": {},
     "output_type": "execute_result"
    }
   ],
   "source": [
    "dummy.sample(10)"
   ]
  },
  {
   "cell_type": "code",
   "execution_count": 179,
   "id": "23a85596",
   "metadata": {
    "ExecuteTime": {
     "end_time": "2021-09-23T09:05:11.668756Z",
     "start_time": "2021-09-23T09:05:11.637672Z"
    }
   },
   "outputs": [
    {
     "data": {
      "text/plain": [
       "array(['August', 'July', 'September', 'May', 'June', 'April', 'March',\n",
       "       'February', 'January', 'December', 'November', 'October', '',\n",
       "       'Africa', 'bagh', 'Consultant', 'Road', '9', '.CLUSTER', '(west)',\n",
       "       'West', 'PAHARI', 'mumbai', None, 'west', 'Ramannagar', 'West.',\n",
       "       'Raman', 'park', 'Technohub', 'Solutions', 'Office', 'Estate',\n",
       "       'Infocity', 'Nagar', 'Delhi', 'Tamil', 'parel', ')', 'Locatino',\n",
       "       'complex'], dtype=object)"
      ]
     },
     "execution_count": 179,
     "metadata": {},
     "output_type": "execute_result"
    }
   ],
   "source": [
    "dummy[2].unique()"
   ]
  },
  {
   "cell_type": "code",
   "execution_count": 155,
   "id": "ef4a1df0",
   "metadata": {
    "ExecuteTime": {
     "end_time": "2021-09-23T08:59:15.802952Z",
     "start_time": "2021-09-23T08:59:15.799943Z"
    }
   },
   "outputs": [],
   "source": [
    "year = dummy[4]\n",
    "month = dummy[2]\n",
    "day = dummy[3]"
   ]
  },
  {
   "cell_type": "code",
   "execution_count": 157,
   "id": "5e7e6dbb",
   "metadata": {
    "ExecuteTime": {
     "end_time": "2021-09-23T08:59:27.047070Z",
     "start_time": "2021-09-23T08:59:27.001687Z"
    }
   },
   "outputs": [
    {
     "name": "stdout",
     "output_type": "stream",
     "text": [
      "54\n",
      "1\n",
      "115\n"
     ]
    }
   ],
   "source": [
    "cols = [day, month, year]\n",
    "\n",
    "for col in cols:\n",
    "    print(col.isnull().sum())"
   ]
  },
  {
   "cell_type": "code",
   "execution_count": 172,
   "id": "7906d63e",
   "metadata": {
    "ExecuteTime": {
     "end_time": "2021-09-23T09:02:31.479444Z",
     "start_time": "2021-09-23T09:02:31.442335Z"
    }
   },
   "outputs": [],
   "source": [
    "time = pd.DataFrame()\n",
    "time['Day'] = day\n",
    "time['Month'] = month\n",
    "time['Year'] = year"
   ]
  },
  {
   "cell_type": "code",
   "execution_count": 173,
   "id": "55f6a45b",
   "metadata": {
    "ExecuteTime": {
     "end_time": "2021-09-23T09:02:32.067687Z",
     "start_time": "2021-09-23T09:02:31.957404Z"
    }
   },
   "outputs": [
    {
     "data": {
      "text/html": [
       "<div>\n",
       "<style scoped>\n",
       "    .dataframe tbody tr th:only-of-type {\n",
       "        vertical-align: middle;\n",
       "    }\n",
       "\n",
       "    .dataframe tbody tr th {\n",
       "        vertical-align: top;\n",
       "    }\n",
       "\n",
       "    .dataframe thead th {\n",
       "        text-align: right;\n",
       "    }\n",
       "</style>\n",
       "<table border=\"1\" class=\"dataframe\">\n",
       "  <thead>\n",
       "    <tr style=\"text-align: right;\">\n",
       "      <th></th>\n",
       "      <th>Day</th>\n",
       "      <th>Month</th>\n",
       "      <th>Year</th>\n",
       "    </tr>\n",
       "  </thead>\n",
       "  <tbody>\n",
       "    <tr>\n",
       "      <th>0</th>\n",
       "      <td>30</td>\n",
       "      <td>August</td>\n",
       "      <td>2021</td>\n",
       "    </tr>\n",
       "    <tr>\n",
       "      <th>1</th>\n",
       "      <td>26</td>\n",
       "      <td>August</td>\n",
       "      <td>2021</td>\n",
       "    </tr>\n",
       "    <tr>\n",
       "      <th>2</th>\n",
       "      <td>17</td>\n",
       "      <td>August</td>\n",
       "      <td>2021</td>\n",
       "    </tr>\n",
       "    <tr>\n",
       "      <th>3</th>\n",
       "      <td>17</td>\n",
       "      <td>August</td>\n",
       "      <td>2021</td>\n",
       "    </tr>\n",
       "    <tr>\n",
       "      <th>4</th>\n",
       "      <td>9</td>\n",
       "      <td>August</td>\n",
       "      <td>2021</td>\n",
       "    </tr>\n",
       "    <tr>\n",
       "      <th>...</th>\n",
       "      <td>...</td>\n",
       "      <td>...</td>\n",
       "      <td>...</td>\n",
       "    </tr>\n",
       "    <tr>\n",
       "      <th>145186</th>\n",
       "      <td>20</td>\n",
       "      <td>January</td>\n",
       "      <td>2012</td>\n",
       "    </tr>\n",
       "    <tr>\n",
       "      <th>145187</th>\n",
       "      <td>19</td>\n",
       "      <td>January</td>\n",
       "      <td>2012</td>\n",
       "    </tr>\n",
       "    <tr>\n",
       "      <th>145188</th>\n",
       "      <td>19</td>\n",
       "      <td>January</td>\n",
       "      <td>2012</td>\n",
       "    </tr>\n",
       "    <tr>\n",
       "      <th>145189</th>\n",
       "      <td>7</td>\n",
       "      <td>January</td>\n",
       "      <td>2012</td>\n",
       "    </tr>\n",
       "    <tr>\n",
       "      <th>145190</th>\n",
       "      <td>19</td>\n",
       "      <td>December</td>\n",
       "      <td>2011</td>\n",
       "    </tr>\n",
       "  </tbody>\n",
       "</table>\n",
       "<p>145076 rows × 3 columns</p>\n",
       "</div>"
      ],
      "text/plain": [
       "       Day     Month  Year\n",
       "0       30    August  2021\n",
       "1       26    August  2021\n",
       "2       17    August  2021\n",
       "3       17    August  2021\n",
       "4        9    August  2021\n",
       "...     ..       ...   ...\n",
       "145186  20   January  2012\n",
       "145187  19   January  2012\n",
       "145188  19   January  2012\n",
       "145189   7   January  2012\n",
       "145190  19  December  2011\n",
       "\n",
       "[145076 rows x 3 columns]"
      ]
     },
     "execution_count": 173,
     "metadata": {},
     "output_type": "execute_result"
    }
   ],
   "source": [
    "time = time.dropna()\n",
    "time"
   ]
  },
  {
   "cell_type": "code",
   "execution_count": 175,
   "id": "fd99902a",
   "metadata": {
    "ExecuteTime": {
     "end_time": "2021-09-23T09:03:21.026050Z",
     "start_time": "2021-09-23T09:03:20.935535Z"
    }
   },
   "outputs": [
    {
     "data": {
      "text/plain": [
       "array(['30', '26', '17', '9', '22', '18', '7', '8', '5', '3', '15', '6',\n",
       "       '20', '2', '16', '10', '31', '23', '11', '28', '24', '21', '19',\n",
       "       '13', '1', '4', '25', '12', '27', '29', '14', '', 'chandigarh',\n",
       "       '&', 'GURGAON', 'Nagar', 'malad', 'India', 'nadu'], dtype=object)"
      ]
     },
     "execution_count": 175,
     "metadata": {},
     "output_type": "execute_result"
    }
   ],
   "source": [
    "time['Day'].unique()"
   ]
  },
  {
   "cell_type": "code",
   "execution_count": 169,
   "id": "2ad0f894",
   "metadata": {
    "ExecuteTime": {
     "end_time": "2021-09-23T09:01:20.949808Z",
     "start_time": "2021-09-23T09:01:18.390814Z"
    }
   },
   "outputs": [
    {
     "ename": "ParserError",
     "evalue": "Unknown string format: /Africa/",
     "output_type": "error",
     "traceback": [
      "\u001b[1;31m---------------------------------------------------------------------------\u001b[0m",
      "\u001b[1;31mTypeError\u001b[0m                                 Traceback (most recent call last)",
      "\u001b[1;32m~\\Anaconda3\\envs\\NLP\\lib\\site-packages\\pandas\\core\\arrays\\datetimes.py\u001b[0m in \u001b[0;36mobjects_to_datetime64ns\u001b[1;34m(data, dayfirst, yearfirst, utc, errors, require_iso8601, allow_object, allow_mixed)\u001b[0m\n\u001b[0;32m   2186\u001b[0m         \u001b[1;32mtry\u001b[0m\u001b[1;33m:\u001b[0m\u001b[1;33m\u001b[0m\u001b[1;33m\u001b[0m\u001b[0m\n\u001b[1;32m-> 2187\u001b[1;33m             \u001b[0mvalues\u001b[0m\u001b[1;33m,\u001b[0m \u001b[0mtz_parsed\u001b[0m \u001b[1;33m=\u001b[0m \u001b[0mconversion\u001b[0m\u001b[1;33m.\u001b[0m\u001b[0mdatetime_to_datetime64\u001b[0m\u001b[1;33m(\u001b[0m\u001b[0mdata\u001b[0m\u001b[1;33m.\u001b[0m\u001b[0mravel\u001b[0m\u001b[1;33m(\u001b[0m\u001b[1;34m\"K\"\u001b[0m\u001b[1;33m)\u001b[0m\u001b[1;33m)\u001b[0m\u001b[1;33m\u001b[0m\u001b[1;33m\u001b[0m\u001b[0m\n\u001b[0m\u001b[0;32m   2188\u001b[0m             \u001b[1;31m# If tzaware, these values represent unix timestamps, so we\u001b[0m\u001b[1;33m\u001b[0m\u001b[1;33m\u001b[0m\u001b[1;33m\u001b[0m\u001b[0m\n",
      "\u001b[1;32m~\\Anaconda3\\envs\\NLP\\lib\\site-packages\\pandas\\_libs\\tslibs\\conversion.pyx\u001b[0m in \u001b[0;36mpandas._libs.tslibs.conversion.datetime_to_datetime64\u001b[1;34m()\u001b[0m\n",
      "\u001b[1;31mTypeError\u001b[0m: Unrecognized value type: <class 'str'>",
      "\nDuring handling of the above exception, another exception occurred:\n",
      "\u001b[1;31mParserError\u001b[0m                               Traceback (most recent call last)",
      "\u001b[1;32m~\\AppData\\Local\\Temp/ipykernel_12388/3636499108.py\u001b[0m in \u001b[0;36m<module>\u001b[1;34m\u001b[0m\n\u001b[0;32m      1\u001b[0m \u001b[0mcols\u001b[0m\u001b[1;33m=\u001b[0m\u001b[1;33m[\u001b[0m\u001b[1;34m\"Year\"\u001b[0m\u001b[1;33m,\u001b[0m\u001b[1;34m\"Month\"\u001b[0m\u001b[1;33m,\u001b[0m\u001b[1;34m\"Day\"\u001b[0m\u001b[1;33m]\u001b[0m\u001b[1;33m\u001b[0m\u001b[1;33m\u001b[0m\u001b[0m\n\u001b[1;32m----> 2\u001b[1;33m \u001b[0mtime\u001b[0m\u001b[1;33m[\u001b[0m\u001b[1;34m'Date'\u001b[0m\u001b[1;33m]\u001b[0m \u001b[1;33m=\u001b[0m \u001b[0mpd\u001b[0m\u001b[1;33m.\u001b[0m\u001b[0mto_datetime\u001b[0m\u001b[1;33m(\u001b[0m\u001b[0mtime\u001b[0m\u001b[1;33m[\u001b[0m\u001b[0mcols\u001b[0m\u001b[1;33m]\u001b[0m\u001b[1;33m.\u001b[0m\u001b[0mapply\u001b[0m\u001b[1;33m(\u001b[0m\u001b[1;32mlambda\u001b[0m \u001b[0mx\u001b[0m\u001b[1;33m:\u001b[0m \u001b[1;34m'/'\u001b[0m\u001b[1;33m.\u001b[0m\u001b[0mjoin\u001b[0m\u001b[1;33m(\u001b[0m\u001b[0mx\u001b[0m\u001b[1;33m.\u001b[0m\u001b[0mvalues\u001b[0m\u001b[1;33m.\u001b[0m\u001b[0mastype\u001b[0m\u001b[1;33m(\u001b[0m\u001b[0mstr\u001b[0m\u001b[1;33m)\u001b[0m\u001b[1;33m)\u001b[0m\u001b[1;33m,\u001b[0m \u001b[0maxis\u001b[0m\u001b[1;33m=\u001b[0m\u001b[1;36m1\u001b[0m\u001b[1;33m)\u001b[0m\u001b[1;33m)\u001b[0m\u001b[1;33m\u001b[0m\u001b[1;33m\u001b[0m\u001b[0m\n\u001b[0m",
      "\u001b[1;32m~\\Anaconda3\\envs\\NLP\\lib\\site-packages\\pandas\\core\\tools\\datetimes.py\u001b[0m in \u001b[0;36mto_datetime\u001b[1;34m(arg, errors, dayfirst, yearfirst, utc, format, exact, unit, infer_datetime_format, origin, cache)\u001b[0m\n\u001b[0;32m    881\u001b[0m                 \u001b[0mresult\u001b[0m \u001b[1;33m=\u001b[0m \u001b[0mresult\u001b[0m\u001b[1;33m.\u001b[0m\u001b[0mtz_localize\u001b[0m\u001b[1;33m(\u001b[0m\u001b[0mtz\u001b[0m\u001b[1;33m)\u001b[0m  \u001b[1;31m# type: ignore[call-arg]\u001b[0m\u001b[1;33m\u001b[0m\u001b[1;33m\u001b[0m\u001b[0m\n\u001b[0;32m    882\u001b[0m     \u001b[1;32melif\u001b[0m \u001b[0misinstance\u001b[0m\u001b[1;33m(\u001b[0m\u001b[0marg\u001b[0m\u001b[1;33m,\u001b[0m \u001b[0mABCSeries\u001b[0m\u001b[1;33m)\u001b[0m\u001b[1;33m:\u001b[0m\u001b[1;33m\u001b[0m\u001b[1;33m\u001b[0m\u001b[0m\n\u001b[1;32m--> 883\u001b[1;33m         \u001b[0mcache_array\u001b[0m \u001b[1;33m=\u001b[0m \u001b[0m_maybe_cache\u001b[0m\u001b[1;33m(\u001b[0m\u001b[0marg\u001b[0m\u001b[1;33m,\u001b[0m \u001b[0mformat\u001b[0m\u001b[1;33m,\u001b[0m \u001b[0mcache\u001b[0m\u001b[1;33m,\u001b[0m \u001b[0mconvert_listlike\u001b[0m\u001b[1;33m)\u001b[0m\u001b[1;33m\u001b[0m\u001b[1;33m\u001b[0m\u001b[0m\n\u001b[0m\u001b[0;32m    884\u001b[0m         \u001b[1;32mif\u001b[0m \u001b[1;32mnot\u001b[0m \u001b[0mcache_array\u001b[0m\u001b[1;33m.\u001b[0m\u001b[0mempty\u001b[0m\u001b[1;33m:\u001b[0m\u001b[1;33m\u001b[0m\u001b[1;33m\u001b[0m\u001b[0m\n\u001b[0;32m    885\u001b[0m             \u001b[0mresult\u001b[0m \u001b[1;33m=\u001b[0m \u001b[0marg\u001b[0m\u001b[1;33m.\u001b[0m\u001b[0mmap\u001b[0m\u001b[1;33m(\u001b[0m\u001b[0mcache_array\u001b[0m\u001b[1;33m)\u001b[0m\u001b[1;33m\u001b[0m\u001b[1;33m\u001b[0m\u001b[0m\n",
      "\u001b[1;32m~\\Anaconda3\\envs\\NLP\\lib\\site-packages\\pandas\\core\\tools\\datetimes.py\u001b[0m in \u001b[0;36m_maybe_cache\u001b[1;34m(arg, format, cache, convert_listlike)\u001b[0m\n\u001b[0;32m    193\u001b[0m         \u001b[0munique_dates\u001b[0m \u001b[1;33m=\u001b[0m \u001b[0munique\u001b[0m\u001b[1;33m(\u001b[0m\u001b[0marg\u001b[0m\u001b[1;33m)\u001b[0m\u001b[1;33m\u001b[0m\u001b[1;33m\u001b[0m\u001b[0m\n\u001b[0;32m    194\u001b[0m         \u001b[1;32mif\u001b[0m \u001b[0mlen\u001b[0m\u001b[1;33m(\u001b[0m\u001b[0munique_dates\u001b[0m\u001b[1;33m)\u001b[0m \u001b[1;33m<\u001b[0m \u001b[0mlen\u001b[0m\u001b[1;33m(\u001b[0m\u001b[0marg\u001b[0m\u001b[1;33m)\u001b[0m\u001b[1;33m:\u001b[0m\u001b[1;33m\u001b[0m\u001b[1;33m\u001b[0m\u001b[0m\n\u001b[1;32m--> 195\u001b[1;33m             \u001b[0mcache_dates\u001b[0m \u001b[1;33m=\u001b[0m \u001b[0mconvert_listlike\u001b[0m\u001b[1;33m(\u001b[0m\u001b[0munique_dates\u001b[0m\u001b[1;33m,\u001b[0m \u001b[0mformat\u001b[0m\u001b[1;33m)\u001b[0m\u001b[1;33m\u001b[0m\u001b[1;33m\u001b[0m\u001b[0m\n\u001b[0m\u001b[0;32m    196\u001b[0m             \u001b[0mcache_array\u001b[0m \u001b[1;33m=\u001b[0m \u001b[0mSeries\u001b[0m\u001b[1;33m(\u001b[0m\u001b[0mcache_dates\u001b[0m\u001b[1;33m,\u001b[0m \u001b[0mindex\u001b[0m\u001b[1;33m=\u001b[0m\u001b[0munique_dates\u001b[0m\u001b[1;33m)\u001b[0m\u001b[1;33m\u001b[0m\u001b[1;33m\u001b[0m\u001b[0m\n\u001b[0;32m    197\u001b[0m             \u001b[1;31m# GH#39882 and GH#35888 in case of None and NaT we get duplicates\u001b[0m\u001b[1;33m\u001b[0m\u001b[1;33m\u001b[0m\u001b[1;33m\u001b[0m\u001b[0m\n",
      "\u001b[1;32m~\\Anaconda3\\envs\\NLP\\lib\\site-packages\\pandas\\core\\tools\\datetimes.py\u001b[0m in \u001b[0;36m_convert_listlike_datetimes\u001b[1;34m(arg, format, name, tz, unit, errors, infer_datetime_format, dayfirst, yearfirst, exact)\u001b[0m\n\u001b[0;32m    399\u001b[0m     \u001b[1;32massert\u001b[0m \u001b[0mformat\u001b[0m \u001b[1;32mis\u001b[0m \u001b[1;32mNone\u001b[0m \u001b[1;32mor\u001b[0m \u001b[0minfer_datetime_format\u001b[0m\u001b[1;33m\u001b[0m\u001b[1;33m\u001b[0m\u001b[0m\n\u001b[0;32m    400\u001b[0m     \u001b[0mutc\u001b[0m \u001b[1;33m=\u001b[0m \u001b[0mtz\u001b[0m \u001b[1;33m==\u001b[0m \u001b[1;34m\"utc\"\u001b[0m\u001b[1;33m\u001b[0m\u001b[1;33m\u001b[0m\u001b[0m\n\u001b[1;32m--> 401\u001b[1;33m     result, tz_parsed = objects_to_datetime64ns(\n\u001b[0m\u001b[0;32m    402\u001b[0m         \u001b[0marg\u001b[0m\u001b[1;33m,\u001b[0m\u001b[1;33m\u001b[0m\u001b[1;33m\u001b[0m\u001b[0m\n\u001b[0;32m    403\u001b[0m         \u001b[0mdayfirst\u001b[0m\u001b[1;33m=\u001b[0m\u001b[0mdayfirst\u001b[0m\u001b[1;33m,\u001b[0m\u001b[1;33m\u001b[0m\u001b[1;33m\u001b[0m\u001b[0m\n",
      "\u001b[1;32m~\\Anaconda3\\envs\\NLP\\lib\\site-packages\\pandas\\core\\arrays\\datetimes.py\u001b[0m in \u001b[0;36mobjects_to_datetime64ns\u001b[1;34m(data, dayfirst, yearfirst, utc, errors, require_iso8601, allow_object, allow_mixed)\u001b[0m\n\u001b[0;32m   2191\u001b[0m             \u001b[1;32mreturn\u001b[0m \u001b[0mvalues\u001b[0m\u001b[1;33m.\u001b[0m\u001b[0mview\u001b[0m\u001b[1;33m(\u001b[0m\u001b[1;34m\"i8\"\u001b[0m\u001b[1;33m)\u001b[0m\u001b[1;33m,\u001b[0m \u001b[0mtz_parsed\u001b[0m\u001b[1;33m\u001b[0m\u001b[1;33m\u001b[0m\u001b[0m\n\u001b[0;32m   2192\u001b[0m         \u001b[1;32mexcept\u001b[0m \u001b[1;33m(\u001b[0m\u001b[0mValueError\u001b[0m\u001b[1;33m,\u001b[0m \u001b[0mTypeError\u001b[0m\u001b[1;33m)\u001b[0m\u001b[1;33m:\u001b[0m\u001b[1;33m\u001b[0m\u001b[1;33m\u001b[0m\u001b[0m\n\u001b[1;32m-> 2193\u001b[1;33m             \u001b[1;32mraise\u001b[0m \u001b[0merr\u001b[0m\u001b[1;33m\u001b[0m\u001b[1;33m\u001b[0m\u001b[0m\n\u001b[0m\u001b[0;32m   2194\u001b[0m \u001b[1;33m\u001b[0m\u001b[0m\n\u001b[0;32m   2195\u001b[0m     \u001b[1;32mif\u001b[0m \u001b[0mtz_parsed\u001b[0m \u001b[1;32mis\u001b[0m \u001b[1;32mnot\u001b[0m \u001b[1;32mNone\u001b[0m\u001b[1;33m:\u001b[0m\u001b[1;33m\u001b[0m\u001b[1;33m\u001b[0m\u001b[0m\n",
      "\u001b[1;32m~\\Anaconda3\\envs\\NLP\\lib\\site-packages\\pandas\\core\\arrays\\datetimes.py\u001b[0m in \u001b[0;36mobjects_to_datetime64ns\u001b[1;34m(data, dayfirst, yearfirst, utc, errors, require_iso8601, allow_object, allow_mixed)\u001b[0m\n\u001b[0;32m   2173\u001b[0m     \u001b[0morder\u001b[0m\u001b[1;33m:\u001b[0m \u001b[0mLiteral\u001b[0m\u001b[1;33m[\u001b[0m\u001b[1;34m\"F\"\u001b[0m\u001b[1;33m,\u001b[0m \u001b[1;34m\"C\"\u001b[0m\u001b[1;33m]\u001b[0m \u001b[1;33m=\u001b[0m \u001b[1;34m\"F\"\u001b[0m \u001b[1;32mif\u001b[0m \u001b[0mflags\u001b[0m\u001b[1;33m.\u001b[0m\u001b[0mf_contiguous\u001b[0m \u001b[1;32melse\u001b[0m \u001b[1;34m\"C\"\u001b[0m\u001b[1;33m\u001b[0m\u001b[1;33m\u001b[0m\u001b[0m\n\u001b[0;32m   2174\u001b[0m     \u001b[1;32mtry\u001b[0m\u001b[1;33m:\u001b[0m\u001b[1;33m\u001b[0m\u001b[1;33m\u001b[0m\u001b[0m\n\u001b[1;32m-> 2175\u001b[1;33m         result, tz_parsed = tslib.array_to_datetime(\n\u001b[0m\u001b[0;32m   2176\u001b[0m             \u001b[0mdata\u001b[0m\u001b[1;33m.\u001b[0m\u001b[0mravel\u001b[0m\u001b[1;33m(\u001b[0m\u001b[1;34m\"K\"\u001b[0m\u001b[1;33m)\u001b[0m\u001b[1;33m,\u001b[0m\u001b[1;33m\u001b[0m\u001b[1;33m\u001b[0m\u001b[0m\n\u001b[0;32m   2177\u001b[0m             \u001b[0merrors\u001b[0m\u001b[1;33m=\u001b[0m\u001b[0merrors\u001b[0m\u001b[1;33m,\u001b[0m\u001b[1;33m\u001b[0m\u001b[1;33m\u001b[0m\u001b[0m\n",
      "\u001b[1;32m~\\Anaconda3\\envs\\NLP\\lib\\site-packages\\pandas\\_libs\\tslib.pyx\u001b[0m in \u001b[0;36mpandas._libs.tslib.array_to_datetime\u001b[1;34m()\u001b[0m\n",
      "\u001b[1;32m~\\Anaconda3\\envs\\NLP\\lib\\site-packages\\pandas\\_libs\\tslib.pyx\u001b[0m in \u001b[0;36mpandas._libs.tslib.array_to_datetime\u001b[1;34m()\u001b[0m\n",
      "\u001b[1;32m~\\Anaconda3\\envs\\NLP\\lib\\site-packages\\pandas\\_libs\\tslib.pyx\u001b[0m in \u001b[0;36mpandas._libs.tslib._array_to_datetime_object\u001b[1;34m()\u001b[0m\n",
      "\u001b[1;32m~\\Anaconda3\\envs\\NLP\\lib\\site-packages\\pandas\\_libs\\tslib.pyx\u001b[0m in \u001b[0;36mpandas._libs.tslib._array_to_datetime_object\u001b[1;34m()\u001b[0m\n",
      "\u001b[1;32m~\\Anaconda3\\envs\\NLP\\lib\\site-packages\\pandas\\_libs\\tslibs\\parsing.pyx\u001b[0m in \u001b[0;36mpandas._libs.tslibs.parsing.parse_datetime_string\u001b[1;34m()\u001b[0m\n",
      "\u001b[1;32m~\\Anaconda3\\envs\\NLP\\lib\\site-packages\\dateutil\\parser\\_parser.py\u001b[0m in \u001b[0;36mparse\u001b[1;34m(timestr, parserinfo, **kwargs)\u001b[0m\n\u001b[0;32m   1366\u001b[0m         \u001b[1;32mreturn\u001b[0m \u001b[0mparser\u001b[0m\u001b[1;33m(\u001b[0m\u001b[0mparserinfo\u001b[0m\u001b[1;33m)\u001b[0m\u001b[1;33m.\u001b[0m\u001b[0mparse\u001b[0m\u001b[1;33m(\u001b[0m\u001b[0mtimestr\u001b[0m\u001b[1;33m,\u001b[0m \u001b[1;33m**\u001b[0m\u001b[0mkwargs\u001b[0m\u001b[1;33m)\u001b[0m\u001b[1;33m\u001b[0m\u001b[1;33m\u001b[0m\u001b[0m\n\u001b[0;32m   1367\u001b[0m     \u001b[1;32melse\u001b[0m\u001b[1;33m:\u001b[0m\u001b[1;33m\u001b[0m\u001b[1;33m\u001b[0m\u001b[0m\n\u001b[1;32m-> 1368\u001b[1;33m         \u001b[1;32mreturn\u001b[0m \u001b[0mDEFAULTPARSER\u001b[0m\u001b[1;33m.\u001b[0m\u001b[0mparse\u001b[0m\u001b[1;33m(\u001b[0m\u001b[0mtimestr\u001b[0m\u001b[1;33m,\u001b[0m \u001b[1;33m**\u001b[0m\u001b[0mkwargs\u001b[0m\u001b[1;33m)\u001b[0m\u001b[1;33m\u001b[0m\u001b[1;33m\u001b[0m\u001b[0m\n\u001b[0m\u001b[0;32m   1369\u001b[0m \u001b[1;33m\u001b[0m\u001b[0m\n\u001b[0;32m   1370\u001b[0m \u001b[1;33m\u001b[0m\u001b[0m\n",
      "\u001b[1;32m~\\Anaconda3\\envs\\NLP\\lib\\site-packages\\dateutil\\parser\\_parser.py\u001b[0m in \u001b[0;36mparse\u001b[1;34m(self, timestr, default, ignoretz, tzinfos, **kwargs)\u001b[0m\n\u001b[0;32m    641\u001b[0m \u001b[1;33m\u001b[0m\u001b[0m\n\u001b[0;32m    642\u001b[0m         \u001b[1;32mif\u001b[0m \u001b[0mres\u001b[0m \u001b[1;32mis\u001b[0m \u001b[1;32mNone\u001b[0m\u001b[1;33m:\u001b[0m\u001b[1;33m\u001b[0m\u001b[1;33m\u001b[0m\u001b[0m\n\u001b[1;32m--> 643\u001b[1;33m             \u001b[1;32mraise\u001b[0m \u001b[0mParserError\u001b[0m\u001b[1;33m(\u001b[0m\u001b[1;34m\"Unknown string format: %s\"\u001b[0m\u001b[1;33m,\u001b[0m \u001b[0mtimestr\u001b[0m\u001b[1;33m)\u001b[0m\u001b[1;33m\u001b[0m\u001b[1;33m\u001b[0m\u001b[0m\n\u001b[0m\u001b[0;32m    644\u001b[0m \u001b[1;33m\u001b[0m\u001b[0m\n\u001b[0;32m    645\u001b[0m         \u001b[1;32mif\u001b[0m \u001b[0mlen\u001b[0m\u001b[1;33m(\u001b[0m\u001b[0mres\u001b[0m\u001b[1;33m)\u001b[0m \u001b[1;33m==\u001b[0m \u001b[1;36m0\u001b[0m\u001b[1;33m:\u001b[0m\u001b[1;33m\u001b[0m\u001b[1;33m\u001b[0m\u001b[0m\n",
      "\u001b[1;31mParserError\u001b[0m: Unknown string format: /Africa/"
     ]
    }
   ],
   "source": [
    "cols=[\"Year\",\"Month\",\"Day\"]\n",
    "time['Date'] = pd.to_datetime(time[cols].apply(lambda x: '/'.join(x.values.astype(str)), axis=1))"
   ]
  },
  {
   "cell_type": "code",
   "execution_count": 171,
   "id": "1807cdff",
   "metadata": {
    "ExecuteTime": {
     "end_time": "2021-09-23T09:02:04.576995Z",
     "start_time": "2021-09-23T09:02:04.516332Z"
    }
   },
   "outputs": [
    {
     "data": {
      "text/html": [
       "<div>\n",
       "<style scoped>\n",
       "    .dataframe tbody tr th:only-of-type {\n",
       "        vertical-align: middle;\n",
       "    }\n",
       "\n",
       "    .dataframe tbody tr th {\n",
       "        vertical-align: top;\n",
       "    }\n",
       "\n",
       "    .dataframe thead th {\n",
       "        text-align: right;\n",
       "    }\n",
       "</style>\n",
       "<table border=\"1\" class=\"dataframe\">\n",
       "  <thead>\n",
       "    <tr style=\"text-align: right;\">\n",
       "      <th></th>\n",
       "      <th>Day</th>\n",
       "      <th>Month</th>\n",
       "      <th>Year</th>\n",
       "      <th>Date</th>\n",
       "    </tr>\n",
       "  </thead>\n",
       "  <tbody>\n",
       "    <tr>\n",
       "      <th>1437</th>\n",
       "      <td></td>\n",
       "      <td>Africa</td>\n",
       "      <td></td>\n",
       "      <td>/Africa/</td>\n",
       "    </tr>\n",
       "  </tbody>\n",
       "</table>\n",
       "</div>"
      ],
      "text/plain": [
       "     Day   Month Year      Date\n",
       "1437      Africa       /Africa/"
      ]
     },
     "execution_count": 171,
     "metadata": {},
     "output_type": "execute_result"
    }
   ],
   "source": [
    "time[time['Date']=='/Africa/']"
   ]
  },
  {
   "cell_type": "code",
   "execution_count": 166,
   "id": "3abc2442",
   "metadata": {
    "ExecuteTime": {
     "end_time": "2021-09-23T09:00:35.451265Z",
     "start_time": "2021-09-23T09:00:35.443396Z"
    }
   },
   "outputs": [
    {
     "data": {
      "text/plain": [
       "0           2021/August/30\n",
       "1           2021/August/26\n",
       "2           2021/August/17\n",
       "3           2021/August/17\n",
       "4            2021/August/9\n",
       "                ...       \n",
       "145186     2012/January/20\n",
       "145187     2012/January/19\n",
       "145188     2012/January/19\n",
       "145189      2012/January/7\n",
       "145190    2011/December/19\n",
       "Name: Date, Length: 145076, dtype: object"
      ]
     },
     "execution_count": 166,
     "metadata": {},
     "output_type": "execute_result"
    }
   ],
   "source": [
    "time['Date']"
   ]
  },
  {
   "cell_type": "code",
   "execution_count": 168,
   "id": "a974eae0",
   "metadata": {
    "ExecuteTime": {
     "end_time": "2021-09-23T09:00:48.637999Z",
     "start_time": "2021-09-23T09:00:48.568219Z"
    }
   },
   "outputs": [
    {
     "ename": "ValueError",
     "evalue": "time data '/Africa/' does not match format '%Y/%B/%d' (match)",
     "output_type": "error",
     "traceback": [
      "\u001b[1;31m---------------------------------------------------------------------------\u001b[0m",
      "\u001b[1;31mTypeError\u001b[0m                                 Traceback (most recent call last)",
      "\u001b[1;32m~\\Anaconda3\\envs\\NLP\\lib\\site-packages\\pandas\\core\\tools\\datetimes.py\u001b[0m in \u001b[0;36m_to_datetime_with_format\u001b[1;34m(arg, orig_arg, name, tz, fmt, exact, errors, infer_datetime_format)\u001b[0m\n\u001b[0;32m    508\u001b[0m         \u001b[1;32mtry\u001b[0m\u001b[1;33m:\u001b[0m\u001b[1;33m\u001b[0m\u001b[1;33m\u001b[0m\u001b[0m\n\u001b[1;32m--> 509\u001b[1;33m             \u001b[0mvalues\u001b[0m\u001b[1;33m,\u001b[0m \u001b[0mtz\u001b[0m \u001b[1;33m=\u001b[0m \u001b[0mconversion\u001b[0m\u001b[1;33m.\u001b[0m\u001b[0mdatetime_to_datetime64\u001b[0m\u001b[1;33m(\u001b[0m\u001b[0marg\u001b[0m\u001b[1;33m)\u001b[0m\u001b[1;33m\u001b[0m\u001b[1;33m\u001b[0m\u001b[0m\n\u001b[0m\u001b[0;32m    510\u001b[0m             \u001b[0mdta\u001b[0m \u001b[1;33m=\u001b[0m \u001b[0mDatetimeArray\u001b[0m\u001b[1;33m(\u001b[0m\u001b[0mvalues\u001b[0m\u001b[1;33m,\u001b[0m \u001b[0mdtype\u001b[0m\u001b[1;33m=\u001b[0m\u001b[0mtz_to_dtype\u001b[0m\u001b[1;33m(\u001b[0m\u001b[0mtz\u001b[0m\u001b[1;33m)\u001b[0m\u001b[1;33m)\u001b[0m\u001b[1;33m\u001b[0m\u001b[1;33m\u001b[0m\u001b[0m\n",
      "\u001b[1;32m~\\Anaconda3\\envs\\NLP\\lib\\site-packages\\pandas\\_libs\\tslibs\\conversion.pyx\u001b[0m in \u001b[0;36mpandas._libs.tslibs.conversion.datetime_to_datetime64\u001b[1;34m()\u001b[0m\n",
      "\u001b[1;31mTypeError\u001b[0m: Unrecognized value type: <class 'str'>",
      "\nDuring handling of the above exception, another exception occurred:\n",
      "\u001b[1;31mValueError\u001b[0m                                Traceback (most recent call last)",
      "\u001b[1;32m~\\AppData\\Local\\Temp/ipykernel_12388/2104341442.py\u001b[0m in \u001b[0;36m<module>\u001b[1;34m\u001b[0m\n\u001b[1;32m----> 1\u001b[1;33m \u001b[0mpd\u001b[0m\u001b[1;33m.\u001b[0m\u001b[0mto_datetime\u001b[0m\u001b[1;33m(\u001b[0m\u001b[0mtime\u001b[0m\u001b[1;33m[\u001b[0m\u001b[1;34m'Date'\u001b[0m\u001b[1;33m]\u001b[0m\u001b[1;33m,\u001b[0m \u001b[0mformat\u001b[0m\u001b[1;33m=\u001b[0m\u001b[1;34m\"%Y/%B/%d\"\u001b[0m\u001b[1;33m)\u001b[0m\u001b[1;33m\u001b[0m\u001b[1;33m\u001b[0m\u001b[0m\n\u001b[0m",
      "\u001b[1;32m~\\Anaconda3\\envs\\NLP\\lib\\site-packages\\pandas\\core\\tools\\datetimes.py\u001b[0m in \u001b[0;36mto_datetime\u001b[1;34m(arg, errors, dayfirst, yearfirst, utc, format, exact, unit, infer_datetime_format, origin, cache)\u001b[0m\n\u001b[0;32m    881\u001b[0m                 \u001b[0mresult\u001b[0m \u001b[1;33m=\u001b[0m \u001b[0mresult\u001b[0m\u001b[1;33m.\u001b[0m\u001b[0mtz_localize\u001b[0m\u001b[1;33m(\u001b[0m\u001b[0mtz\u001b[0m\u001b[1;33m)\u001b[0m  \u001b[1;31m# type: ignore[call-arg]\u001b[0m\u001b[1;33m\u001b[0m\u001b[1;33m\u001b[0m\u001b[0m\n\u001b[0;32m    882\u001b[0m     \u001b[1;32melif\u001b[0m \u001b[0misinstance\u001b[0m\u001b[1;33m(\u001b[0m\u001b[0marg\u001b[0m\u001b[1;33m,\u001b[0m \u001b[0mABCSeries\u001b[0m\u001b[1;33m)\u001b[0m\u001b[1;33m:\u001b[0m\u001b[1;33m\u001b[0m\u001b[1;33m\u001b[0m\u001b[0m\n\u001b[1;32m--> 883\u001b[1;33m         \u001b[0mcache_array\u001b[0m \u001b[1;33m=\u001b[0m \u001b[0m_maybe_cache\u001b[0m\u001b[1;33m(\u001b[0m\u001b[0marg\u001b[0m\u001b[1;33m,\u001b[0m \u001b[0mformat\u001b[0m\u001b[1;33m,\u001b[0m \u001b[0mcache\u001b[0m\u001b[1;33m,\u001b[0m \u001b[0mconvert_listlike\u001b[0m\u001b[1;33m)\u001b[0m\u001b[1;33m\u001b[0m\u001b[1;33m\u001b[0m\u001b[0m\n\u001b[0m\u001b[0;32m    884\u001b[0m         \u001b[1;32mif\u001b[0m \u001b[1;32mnot\u001b[0m \u001b[0mcache_array\u001b[0m\u001b[1;33m.\u001b[0m\u001b[0mempty\u001b[0m\u001b[1;33m:\u001b[0m\u001b[1;33m\u001b[0m\u001b[1;33m\u001b[0m\u001b[0m\n\u001b[0;32m    885\u001b[0m             \u001b[0mresult\u001b[0m \u001b[1;33m=\u001b[0m \u001b[0marg\u001b[0m\u001b[1;33m.\u001b[0m\u001b[0mmap\u001b[0m\u001b[1;33m(\u001b[0m\u001b[0mcache_array\u001b[0m\u001b[1;33m)\u001b[0m\u001b[1;33m\u001b[0m\u001b[1;33m\u001b[0m\u001b[0m\n",
      "\u001b[1;32m~\\Anaconda3\\envs\\NLP\\lib\\site-packages\\pandas\\core\\tools\\datetimes.py\u001b[0m in \u001b[0;36m_maybe_cache\u001b[1;34m(arg, format, cache, convert_listlike)\u001b[0m\n\u001b[0;32m    193\u001b[0m         \u001b[0munique_dates\u001b[0m \u001b[1;33m=\u001b[0m \u001b[0munique\u001b[0m\u001b[1;33m(\u001b[0m\u001b[0marg\u001b[0m\u001b[1;33m)\u001b[0m\u001b[1;33m\u001b[0m\u001b[1;33m\u001b[0m\u001b[0m\n\u001b[0;32m    194\u001b[0m         \u001b[1;32mif\u001b[0m \u001b[0mlen\u001b[0m\u001b[1;33m(\u001b[0m\u001b[0munique_dates\u001b[0m\u001b[1;33m)\u001b[0m \u001b[1;33m<\u001b[0m \u001b[0mlen\u001b[0m\u001b[1;33m(\u001b[0m\u001b[0marg\u001b[0m\u001b[1;33m)\u001b[0m\u001b[1;33m:\u001b[0m\u001b[1;33m\u001b[0m\u001b[1;33m\u001b[0m\u001b[0m\n\u001b[1;32m--> 195\u001b[1;33m             \u001b[0mcache_dates\u001b[0m \u001b[1;33m=\u001b[0m \u001b[0mconvert_listlike\u001b[0m\u001b[1;33m(\u001b[0m\u001b[0munique_dates\u001b[0m\u001b[1;33m,\u001b[0m \u001b[0mformat\u001b[0m\u001b[1;33m)\u001b[0m\u001b[1;33m\u001b[0m\u001b[1;33m\u001b[0m\u001b[0m\n\u001b[0m\u001b[0;32m    196\u001b[0m             \u001b[0mcache_array\u001b[0m \u001b[1;33m=\u001b[0m \u001b[0mSeries\u001b[0m\u001b[1;33m(\u001b[0m\u001b[0mcache_dates\u001b[0m\u001b[1;33m,\u001b[0m \u001b[0mindex\u001b[0m\u001b[1;33m=\u001b[0m\u001b[0munique_dates\u001b[0m\u001b[1;33m)\u001b[0m\u001b[1;33m\u001b[0m\u001b[1;33m\u001b[0m\u001b[0m\n\u001b[0;32m    197\u001b[0m             \u001b[1;31m# GH#39882 and GH#35888 in case of None and NaT we get duplicates\u001b[0m\u001b[1;33m\u001b[0m\u001b[1;33m\u001b[0m\u001b[1;33m\u001b[0m\u001b[0m\n",
      "\u001b[1;32m~\\Anaconda3\\envs\\NLP\\lib\\site-packages\\pandas\\core\\tools\\datetimes.py\u001b[0m in \u001b[0;36m_convert_listlike_datetimes\u001b[1;34m(arg, format, name, tz, unit, errors, infer_datetime_format, dayfirst, yearfirst, exact)\u001b[0m\n\u001b[0;32m    391\u001b[0m \u001b[1;33m\u001b[0m\u001b[0m\n\u001b[0;32m    392\u001b[0m     \u001b[1;32mif\u001b[0m \u001b[0mformat\u001b[0m \u001b[1;32mis\u001b[0m \u001b[1;32mnot\u001b[0m \u001b[1;32mNone\u001b[0m\u001b[1;33m:\u001b[0m\u001b[1;33m\u001b[0m\u001b[1;33m\u001b[0m\u001b[0m\n\u001b[1;32m--> 393\u001b[1;33m         res = _to_datetime_with_format(\n\u001b[0m\u001b[0;32m    394\u001b[0m             \u001b[0marg\u001b[0m\u001b[1;33m,\u001b[0m \u001b[0morig_arg\u001b[0m\u001b[1;33m,\u001b[0m \u001b[0mname\u001b[0m\u001b[1;33m,\u001b[0m \u001b[0mtz\u001b[0m\u001b[1;33m,\u001b[0m \u001b[0mformat\u001b[0m\u001b[1;33m,\u001b[0m \u001b[0mexact\u001b[0m\u001b[1;33m,\u001b[0m \u001b[0merrors\u001b[0m\u001b[1;33m,\u001b[0m \u001b[0minfer_datetime_format\u001b[0m\u001b[1;33m\u001b[0m\u001b[1;33m\u001b[0m\u001b[0m\n\u001b[0;32m    395\u001b[0m         )\n",
      "\u001b[1;32m~\\Anaconda3\\envs\\NLP\\lib\\site-packages\\pandas\\core\\tools\\datetimes.py\u001b[0m in \u001b[0;36m_to_datetime_with_format\u001b[1;34m(arg, orig_arg, name, tz, fmt, exact, errors, infer_datetime_format)\u001b[0m\n\u001b[0;32m    511\u001b[0m             \u001b[1;32mreturn\u001b[0m \u001b[0mDatetimeIndex\u001b[0m\u001b[1;33m.\u001b[0m\u001b[0m_simple_new\u001b[0m\u001b[1;33m(\u001b[0m\u001b[0mdta\u001b[0m\u001b[1;33m,\u001b[0m \u001b[0mname\u001b[0m\u001b[1;33m=\u001b[0m\u001b[0mname\u001b[0m\u001b[1;33m)\u001b[0m\u001b[1;33m\u001b[0m\u001b[1;33m\u001b[0m\u001b[0m\n\u001b[0;32m    512\u001b[0m         \u001b[1;32mexcept\u001b[0m \u001b[1;33m(\u001b[0m\u001b[0mValueError\u001b[0m\u001b[1;33m,\u001b[0m \u001b[0mTypeError\u001b[0m\u001b[1;33m)\u001b[0m\u001b[1;33m:\u001b[0m\u001b[1;33m\u001b[0m\u001b[1;33m\u001b[0m\u001b[0m\n\u001b[1;32m--> 513\u001b[1;33m             \u001b[1;32mraise\u001b[0m \u001b[0merr\u001b[0m\u001b[1;33m\u001b[0m\u001b[1;33m\u001b[0m\u001b[0m\n\u001b[0m\u001b[0;32m    514\u001b[0m \u001b[1;33m\u001b[0m\u001b[0m\n\u001b[0;32m    515\u001b[0m \u001b[1;33m\u001b[0m\u001b[0m\n",
      "\u001b[1;32m~\\Anaconda3\\envs\\NLP\\lib\\site-packages\\pandas\\core\\tools\\datetimes.py\u001b[0m in \u001b[0;36m_to_datetime_with_format\u001b[1;34m(arg, orig_arg, name, tz, fmt, exact, errors, infer_datetime_format)\u001b[0m\n\u001b[0;32m    498\u001b[0m \u001b[1;33m\u001b[0m\u001b[0m\n\u001b[0;32m    499\u001b[0m         \u001b[1;31m# fallback\u001b[0m\u001b[1;33m\u001b[0m\u001b[1;33m\u001b[0m\u001b[1;33m\u001b[0m\u001b[0m\n\u001b[1;32m--> 500\u001b[1;33m         res = _array_strptime_with_fallback(\n\u001b[0m\u001b[0;32m    501\u001b[0m             \u001b[0marg\u001b[0m\u001b[1;33m,\u001b[0m \u001b[0mname\u001b[0m\u001b[1;33m,\u001b[0m \u001b[0mtz\u001b[0m\u001b[1;33m,\u001b[0m \u001b[0mfmt\u001b[0m\u001b[1;33m,\u001b[0m \u001b[0mexact\u001b[0m\u001b[1;33m,\u001b[0m \u001b[0merrors\u001b[0m\u001b[1;33m,\u001b[0m \u001b[0minfer_datetime_format\u001b[0m\u001b[1;33m\u001b[0m\u001b[1;33m\u001b[0m\u001b[0m\n\u001b[0;32m    502\u001b[0m         )\n",
      "\u001b[1;32m~\\Anaconda3\\envs\\NLP\\lib\\site-packages\\pandas\\core\\tools\\datetimes.py\u001b[0m in \u001b[0;36m_array_strptime_with_fallback\u001b[1;34m(arg, name, tz, fmt, exact, errors, infer_datetime_format)\u001b[0m\n\u001b[0;32m    434\u001b[0m \u001b[1;33m\u001b[0m\u001b[0m\n\u001b[0;32m    435\u001b[0m     \u001b[1;32mtry\u001b[0m\u001b[1;33m:\u001b[0m\u001b[1;33m\u001b[0m\u001b[1;33m\u001b[0m\u001b[0m\n\u001b[1;32m--> 436\u001b[1;33m         \u001b[0mresult\u001b[0m\u001b[1;33m,\u001b[0m \u001b[0mtimezones\u001b[0m \u001b[1;33m=\u001b[0m \u001b[0marray_strptime\u001b[0m\u001b[1;33m(\u001b[0m\u001b[0marg\u001b[0m\u001b[1;33m,\u001b[0m \u001b[0mfmt\u001b[0m\u001b[1;33m,\u001b[0m \u001b[0mexact\u001b[0m\u001b[1;33m=\u001b[0m\u001b[0mexact\u001b[0m\u001b[1;33m,\u001b[0m \u001b[0merrors\u001b[0m\u001b[1;33m=\u001b[0m\u001b[0merrors\u001b[0m\u001b[1;33m)\u001b[0m\u001b[1;33m\u001b[0m\u001b[1;33m\u001b[0m\u001b[0m\n\u001b[0m\u001b[0;32m    437\u001b[0m         \u001b[1;32mif\u001b[0m \u001b[1;34m\"%Z\"\u001b[0m \u001b[1;32min\u001b[0m \u001b[0mfmt\u001b[0m \u001b[1;32mor\u001b[0m \u001b[1;34m\"%z\"\u001b[0m \u001b[1;32min\u001b[0m \u001b[0mfmt\u001b[0m\u001b[1;33m:\u001b[0m\u001b[1;33m\u001b[0m\u001b[1;33m\u001b[0m\u001b[0m\n\u001b[0;32m    438\u001b[0m             \u001b[1;32mreturn\u001b[0m \u001b[0m_return_parsed_timezone_results\u001b[0m\u001b[1;33m(\u001b[0m\u001b[0mresult\u001b[0m\u001b[1;33m,\u001b[0m \u001b[0mtimezones\u001b[0m\u001b[1;33m,\u001b[0m \u001b[0mtz\u001b[0m\u001b[1;33m,\u001b[0m \u001b[0mname\u001b[0m\u001b[1;33m)\u001b[0m\u001b[1;33m\u001b[0m\u001b[1;33m\u001b[0m\u001b[0m\n",
      "\u001b[1;32m~\\Anaconda3\\envs\\NLP\\lib\\site-packages\\pandas\\_libs\\tslibs\\strptime.pyx\u001b[0m in \u001b[0;36mpandas._libs.tslibs.strptime.array_strptime\u001b[1;34m()\u001b[0m\n",
      "\u001b[1;31mValueError\u001b[0m: time data '/Africa/' does not match format '%Y/%B/%d' (match)"
     ]
    }
   ],
   "source": [
    "pd.to_datetime(time['Date'], format=\"%Y/%B/%d\")"
   ]
  },
  {
   "cell_type": "code",
   "execution_count": null,
   "id": "40f19cfb",
   "metadata": {},
   "outputs": [],
   "source": []
  }
 ],
 "metadata": {
  "kernelspec": {
   "display_name": "NLP",
   "language": "python",
   "name": "nlp"
  },
  "language_info": {
   "codemirror_mode": {
    "name": "ipython",
    "version": 3
   },
   "file_extension": ".py",
   "mimetype": "text/x-python",
   "name": "python",
   "nbconvert_exporter": "python",
   "pygments_lexer": "ipython3",
   "version": "3.8.11"
  },
  "toc": {
   "base_numbering": 1,
   "nav_menu": {},
   "number_sections": false,
   "sideBar": true,
   "skip_h1_title": false,
   "title_cell": "Table of Contents",
   "title_sidebar": "Contents",
   "toc_cell": false,
   "toc_position": {},
   "toc_section_display": true,
   "toc_window_display": false
  },
  "varInspector": {
   "cols": {
    "lenName": 16,
    "lenType": 16,
    "lenVar": 40
   },
   "kernels_config": {
    "python": {
     "delete_cmd_postfix": "",
     "delete_cmd_prefix": "del ",
     "library": "var_list.py",
     "varRefreshCmd": "print(var_dic_list())"
    },
    "r": {
     "delete_cmd_postfix": ") ",
     "delete_cmd_prefix": "rm(",
     "library": "var_list.r",
     "varRefreshCmd": "cat(var_dic_list()) "
    }
   },
   "types_to_exclude": [
    "module",
    "function",
    "builtin_function_or_method",
    "instance",
    "_Feature"
   ],
   "window_display": false
  }
 },
 "nbformat": 4,
 "nbformat_minor": 5
}
