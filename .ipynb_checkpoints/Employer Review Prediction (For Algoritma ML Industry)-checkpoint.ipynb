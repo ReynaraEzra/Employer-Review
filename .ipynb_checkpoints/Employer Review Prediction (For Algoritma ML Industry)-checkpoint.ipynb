{
 "cells": [
  {
   "cell_type": "markdown",
   "id": "063f65b3",
   "metadata": {
    "id": "063f65b3"
   },
   "source": [
    "# Employer Review Prediction"
   ]
  },
  {
   "cell_type": "markdown",
   "id": "a25c0b2d",
   "metadata": {
    "id": "a25c0b2d"
   },
   "source": [
    "By : Reynara Ezra Pratama"
   ]
  },
  {
   "cell_type": "markdown",
   "id": "358caa8b",
   "metadata": {
    "id": "358caa8b"
   },
   "source": [
    "# Background"
   ]
  },
  {
   "cell_type": "markdown",
   "id": "4142b567",
   "metadata": {
    "id": "4142b567"
   },
   "source": [
    "<img src=\"https://raw.githubusercontent.com/ReynaraEzra/Employer-Review/main/images/Indeed%20Review.png\" width=\"850\">"
   ]
  },
  {
   "cell_type": "markdown",
   "id": "8936f4d1",
   "metadata": {
    "id": "8936f4d1"
   },
   "source": [
    "Source : [Indeed Image](https://rallyrecruitmentmarketing.com/2018/02/18-employer-review-sites-to-put-on-your-radar/)"
   ]
  },
  {
   "cell_type": "markdown",
   "id": "b239c35d",
   "metadata": {
    "id": "b239c35d"
   },
   "source": [
    "*Employer Review* adalah sebuah bentuk yang mengacu pada konten yang ditulis oleh seorang *employer* atau karyawan terhadap perusahaannya yang dapat diunggah secara publik ataupun tidak. Setiap organisasi tentunya membutuhkan seseorang untuk menggerakkan organisasi tersebut. Oleh karenanya, setiap *review* yang diberikan terhadap suatu produk, jasa, atau terkait perusahaan tentunya akan berdampak terhadap perusahaan. Setiap *review* baik yang positif ataupun negatif akan memengaruhi keputusan orang atau sekelompok orang yang ingin bergabung, menggunakan jasa, atau membeli produk dari perusahaan tersebut. Dengan mengetahui bagaimana *review* yang diberikan oleh pegawai terhadap perusahaannya, diharapkan pihak perusahaan dapat melakukan evaluasi apabila terdapat banyak *review* negatif atau mempertahankan kinerja dan terus berinovasi apabila terdahap *review* positif."
   ]
  },
  {
   "cell_type": "markdown",
   "id": "11d1d94d",
   "metadata": {
    "id": "11d1d94d"
   },
   "source": [
    "Oleh karena itu akan dilihat bagaimana *review* yang diberikan oleh pegawai terhadap suatu perusahaan berdasarkan data yang telah diperoleh. Selain itu, akan dibangun juga modle prediksi untuk melakukan klasifikasi *review* yang diberikan oleh pegawai untuk dikategorikan ke dalam *review* yang bersifat positif, netral, atau negatif."
   ]
  },
  {
   "cell_type": "markdown",
   "id": "fc9ebcda",
   "metadata": {
    "id": "fc9ebcda"
   },
   "source": [
    "# Modelling Analysis"
   ]
  },
  {
   "cell_type": "markdown",
   "id": "fd355dcc",
   "metadata": {
    "id": "fd355dcc"
   },
   "source": [
    "Data dikumpulkan pada situs [Indeed](https://id.indeed.com/?r=us) yang merupakan salah satu situs lowongan kerja no 1 di dunia dengan lebih dari 250 juta pengunjung unik2 setiap bulannya. Indeed berkomitmen untuk mengutamakan para pencari kerja, memberi mereka akses gratis untuk mencari pekerjaan, membuat CV, dan mencari tahu informasi tentang sebuah perusahaan. Setiap hari, Indeed menghubungkan jutaan orang dengan peluang-peluang baru.\n",
    "\n",
    "Adapun dataset yang akan digunakan dapat dilihat pada [Employer Review](https://www.kaggle.com/muhammedabdulazeem/employer-review-about-their-organization)"
   ]
  },
  {
   "cell_type": "markdown",
   "id": "457511ba",
   "metadata": {
    "id": "457511ba"
   },
   "source": [
    "## Import Library"
   ]
  },
  {
   "cell_type": "code",
   "execution_count": 1,
   "id": "acd907d9",
   "metadata": {
    "ExecuteTime": {
     "end_time": "2021-11-03T04:38:50.340465Z",
     "start_time": "2021-11-03T04:36:44.850181Z"
    },
    "colab": {
     "base_uri": "https://localhost:8080/"
    },
    "id": "acd907d9",
    "outputId": "5a2e8e17-43d7-49f2-fb6f-60fd8add841b"
   },
   "outputs": [
    {
     "name": "stderr",
     "output_type": "stream",
     "text": [
      "[nltk_data] Downloading package stopwords to\n",
      "[nltk_data]     C:\\Users\\Admin\\AppData\\Roaming\\nltk_data...\n",
      "[nltk_data]   Package stopwords is already up-to-date!\n"
     ]
    }
   ],
   "source": [
    "import itertools\n",
    "import collections\n",
    "\n",
    "import pandas as pd\n",
    "import numpy as np\n",
    "import matplotlib.pyplot as plt\n",
    "import seaborn as sns\n",
    "sns.set_theme()\n",
    "\n",
    "from sklearn.preprocessing import OneHotEncoder\n",
    "from sklearn.model_selection import train_test_split\n",
    "from sklearn.metrics import confusion_matrix\n",
    "from sklearn.metrics import accuracy_score\n",
    "from imblearn.over_sampling import RandomOverSampler\n",
    "\n",
    "import tensorflow as tf\n",
    "import nltk\n",
    "import re\n",
    "\n",
    "from tensorflow.keras.preprocessing.text import Tokenizer\n",
    "from tensorflow.keras.preprocessing.sequence import pad_sequences\n",
    "\n",
    "from nltk.corpus import stopwords\n",
    "from nltk.stem.porter import PorterStemmer\n",
    "nltk.download('stopwords')\n",
    "\n",
    "import warnings \n",
    "warnings.filterwarnings('ignore')"
   ]
  },
  {
   "cell_type": "markdown",
   "id": "cd3e420b",
   "metadata": {
    "id": "cd3e420b"
   },
   "source": [
    "## Import Data"
   ]
  },
  {
   "cell_type": "code",
   "execution_count": 2,
   "id": "4e4c39e0",
   "metadata": {
    "ExecuteTime": {
     "end_time": "2021-11-03T04:38:52.626103Z",
     "start_time": "2021-11-03T04:38:50.342933Z"
    },
    "id": "4e4c39e0"
   },
   "outputs": [],
   "source": [
    "df = pd.read_json('data_input/results.json')"
   ]
  },
  {
   "cell_type": "markdown",
   "id": "628c0b56",
   "metadata": {
    "id": "628c0b56"
   },
   "source": [
    "## Checking Data"
   ]
  },
  {
   "cell_type": "markdown",
   "id": "b54b3fc0",
   "metadata": {
    "id": "b54b3fc0"
   },
   "source": [
    "Pertama, kita akan mengecek ukuran dari data kita menggunakan attribut `.shape`."
   ]
  },
  {
   "cell_type": "code",
   "execution_count": 3,
   "id": "33ec1008",
   "metadata": {
    "ExecuteTime": {
     "end_time": "2021-11-03T04:38:52.633123Z",
     "start_time": "2021-11-03T04:38:52.628109Z"
    },
    "colab": {
     "base_uri": "https://localhost:8080/"
    },
    "id": "33ec1008",
    "outputId": "6afee2b5-d62b-4ec2-bacb-ba3c95ff9313"
   },
   "outputs": [
    {
     "name": "stdout",
     "output_type": "stream",
     "text": [
      "Number of Data : 145209\n"
     ]
    }
   ],
   "source": [
    "print('Number of Data : {}'.format(df.shape[0]))"
   ]
  },
  {
   "cell_type": "markdown",
   "id": "2524932b",
   "metadata": {
    "id": "2524932b"
   },
   "source": [
    "Terlihat bahwa terdapat 145209 baris pada dataset."
   ]
  },
  {
   "cell_type": "markdown",
   "id": "fe8d1a15",
   "metadata": {
    "id": "fe8d1a15"
   },
   "source": [
    "Akan dilihat 5 data teratas pada dataframe `df`."
   ]
  },
  {
   "cell_type": "code",
   "execution_count": 4,
   "id": "903ea7d5",
   "metadata": {
    "ExecuteTime": {
     "end_time": "2021-11-03T04:38:53.961953Z",
     "start_time": "2021-11-03T04:38:52.635630Z"
    },
    "colab": {
     "base_uri": "https://localhost:8080/",
     "height": 0
    },
    "id": "903ea7d5",
    "outputId": "2601459f-74c6-4196-f6e7-bfcbe1e4cadb"
   },
   "outputs": [
    {
     "data": {
      "text/html": [
       "<div>\n",
       "<style scoped>\n",
       "    .dataframe tbody tr th:only-of-type {\n",
       "        vertical-align: middle;\n",
       "    }\n",
       "\n",
       "    .dataframe tbody tr th {\n",
       "        vertical-align: top;\n",
       "    }\n",
       "\n",
       "    .dataframe thead th {\n",
       "        text-align: right;\n",
       "    }\n",
       "</style>\n",
       "<table border=\"1\" class=\"dataframe\">\n",
       "  <thead>\n",
       "    <tr style=\"text-align: right;\">\n",
       "      <th></th>\n",
       "      <th>ReviewTitle</th>\n",
       "      <th>CompleteReview</th>\n",
       "      <th>URL</th>\n",
       "      <th>Rating</th>\n",
       "      <th>ReviewDetails</th>\n",
       "    </tr>\n",
       "  </thead>\n",
       "  <tbody>\n",
       "    <tr>\n",
       "      <th>0</th>\n",
       "      <td>Productive</td>\n",
       "      <td>Good company, cool workplace, work load little...</td>\n",
       "      <td>https://in.indeed.com/cmp/Reliance-Industries-...</td>\n",
       "      <td>3</td>\n",
       "      <td>(Current Employee)  -  Ghansoli  -  August 30,...</td>\n",
       "    </tr>\n",
       "    <tr>\n",
       "      <th>1</th>\n",
       "      <td>Stressful</td>\n",
       "      <td>1. Need to work on boss's whims and fancies 2....</td>\n",
       "      <td>https://in.indeed.com/cmp/Reliance-Industries-...</td>\n",
       "      <td>3</td>\n",
       "      <td>(Former Employee)  -   -  August 26, 2021</td>\n",
       "    </tr>\n",
       "    <tr>\n",
       "      <th>2</th>\n",
       "      <td>Good Company for Every employee</td>\n",
       "      <td>Good company for every Engineers dream, Full M...</td>\n",
       "      <td>https://in.indeed.com/cmp/Reliance-Industries-...</td>\n",
       "      <td>5</td>\n",
       "      <td>(Former Employee)  -   -  August 17, 2021</td>\n",
       "    </tr>\n",
       "    <tr>\n",
       "      <th>3</th>\n",
       "      <td>Productive</td>\n",
       "      <td>I am just pass out bsc in chemistry Typical da...</td>\n",
       "      <td>https://in.indeed.com/cmp/Reliance-Industries-...</td>\n",
       "      <td>5</td>\n",
       "      <td>(Current Employee)  -   -  August 17, 2021</td>\n",
       "    </tr>\n",
       "    <tr>\n",
       "      <th>4</th>\n",
       "      <td>Non productive</td>\n",
       "      <td>Not so fun at work just blame games  Target pe...</td>\n",
       "      <td>https://in.indeed.com/cmp/Reliance-Industries-...</td>\n",
       "      <td>1</td>\n",
       "      <td>(Former Employee)  -   -  August 9, 2021</td>\n",
       "    </tr>\n",
       "  </tbody>\n",
       "</table>\n",
       "</div>"
      ],
      "text/plain": [
       "                       ReviewTitle  \\\n",
       "0                       Productive   \n",
       "1                        Stressful   \n",
       "2  Good Company for Every employee   \n",
       "3                       Productive   \n",
       "4                   Non productive   \n",
       "\n",
       "                                      CompleteReview  \\\n",
       "0  Good company, cool workplace, work load little...   \n",
       "1  1. Need to work on boss's whims and fancies 2....   \n",
       "2  Good company for every Engineers dream, Full M...   \n",
       "3  I am just pass out bsc in chemistry Typical da...   \n",
       "4  Not so fun at work just blame games  Target pe...   \n",
       "\n",
       "                                                 URL  Rating  \\\n",
       "0  https://in.indeed.com/cmp/Reliance-Industries-...       3   \n",
       "1  https://in.indeed.com/cmp/Reliance-Industries-...       3   \n",
       "2  https://in.indeed.com/cmp/Reliance-Industries-...       5   \n",
       "3  https://in.indeed.com/cmp/Reliance-Industries-...       5   \n",
       "4  https://in.indeed.com/cmp/Reliance-Industries-...       1   \n",
       "\n",
       "                                       ReviewDetails  \n",
       "0  (Current Employee)  -  Ghansoli  -  August 30,...  \n",
       "1          (Former Employee)  -   -  August 26, 2021  \n",
       "2          (Former Employee)  -   -  August 17, 2021  \n",
       "3         (Current Employee)  -   -  August 17, 2021  \n",
       "4           (Former Employee)  -   -  August 9, 2021  "
      ]
     },
     "execution_count": 4,
     "metadata": {},
     "output_type": "execute_result"
    }
   ],
   "source": [
    "df.head()"
   ]
  },
  {
   "cell_type": "markdown",
   "id": "2312d137",
   "metadata": {
    "id": "2312d137"
   },
   "source": [
    "## Description Data"
   ]
  },
  {
   "cell_type": "markdown",
   "id": "9e895bfc",
   "metadata": {
    "id": "9e895bfc"
   },
   "source": [
    "Terdapat 5 buah kolom pada data kita yaitu `ReviewTitle`, `CompleteReview`, `URL`, `Rating`, `ReviewDetails`.\n",
    "\n",
    "1. `ReviewTitle` : Topik dari *review*.\n",
    "2. `CompleteReview` : *Review* yang diberikan pegawai perusahaan.\n",
    "3. `URL` : *Uniform Resource Locator*.\n",
    "4. `Rating` : Penilaian yang diberikan pegawai perusahaan.\n",
    "5. `ReviewDetails` : Detail mengenai *review*."
   ]
  },
  {
   "cell_type": "markdown",
   "id": "304a95ea",
   "metadata": {
    "id": "304a95ea"
   },
   "source": [
    "## Data Preparation"
   ]
  },
  {
   "cell_type": "markdown",
   "id": "3d2dad27",
   "metadata": {
    "id": "3d2dad27"
   },
   "source": [
    "### Check Data Column and Info"
   ]
  },
  {
   "cell_type": "code",
   "execution_count": 5,
   "id": "128b691a",
   "metadata": {
    "ExecuteTime": {
     "end_time": "2021-11-03T04:38:53.972481Z",
     "start_time": "2021-11-03T04:38:53.966466Z"
    },
    "colab": {
     "base_uri": "https://localhost:8080/"
    },
    "id": "128b691a",
    "outputId": "7b00c364-0ba5-4ad0-8883-eb856e984c1e"
   },
   "outputs": [
    {
     "data": {
      "text/plain": [
       "Index(['ReviewTitle', 'CompleteReview', 'URL', 'Rating', 'ReviewDetails'], dtype='object')"
      ]
     },
     "execution_count": 5,
     "metadata": {},
     "output_type": "execute_result"
    }
   ],
   "source": [
    "df.columns"
   ]
  },
  {
   "cell_type": "code",
   "execution_count": 6,
   "id": "cfb56839",
   "metadata": {
    "ExecuteTime": {
     "end_time": "2021-11-03T04:38:55.010833Z",
     "start_time": "2021-11-03T04:38:53.975490Z"
    },
    "colab": {
     "base_uri": "https://localhost:8080/"
    },
    "id": "cfb56839",
    "outputId": "91ecae7f-180a-4b09-b281-a2e39d6ffeab"
   },
   "outputs": [
    {
     "name": "stdout",
     "output_type": "stream",
     "text": [
      "<class 'pandas.core.frame.DataFrame'>\n",
      "RangeIndex: 145209 entries, 0 to 145208\n",
      "Data columns (total 5 columns):\n",
      " #   Column          Non-Null Count   Dtype \n",
      "---  ------          --------------   ----- \n",
      " 0   ReviewTitle     145209 non-null  object\n",
      " 1   CompleteReview  145209 non-null  object\n",
      " 2   URL             145209 non-null  object\n",
      " 3   Rating          145209 non-null  int64 \n",
      " 4   ReviewDetails   145209 non-null  object\n",
      "dtypes: int64(1), object(4)\n",
      "memory usage: 5.5+ MB\n"
     ]
    }
   ],
   "source": [
    "df.info()"
   ]
  },
  {
   "cell_type": "markdown",
   "id": "b176e0df",
   "metadata": {
    "id": "b176e0df"
   },
   "source": [
    "Terdapat 1 kolom yang bertipe integer dan 4 kolom yang bertipe object."
   ]
  },
  {
   "cell_type": "markdown",
   "id": "fbf861ed",
   "metadata": {
    "id": "fbf861ed"
   },
   "source": [
    "### Check Null and Duplicate Data"
   ]
  },
  {
   "cell_type": "markdown",
   "id": "763f600c",
   "metadata": {
    "id": "763f600c"
   },
   "source": [
    "Untuk melihat apakah terdapat data yang kosong, kita dapat menggunakan `.isnull()` dan `.sum()`."
   ]
  },
  {
   "cell_type": "code",
   "execution_count": 7,
   "id": "55e5f2ab",
   "metadata": {
    "ExecuteTime": {
     "end_time": "2021-11-03T04:38:55.075005Z",
     "start_time": "2021-11-03T04:38:55.013340Z"
    },
    "colab": {
     "base_uri": "https://localhost:8080/"
    },
    "id": "55e5f2ab",
    "outputId": "c42b20e8-aa48-4db7-c33b-23b0f52c755f"
   },
   "outputs": [
    {
     "data": {
      "text/plain": [
       "ReviewTitle       0\n",
       "CompleteReview    0\n",
       "URL               0\n",
       "Rating            0\n",
       "ReviewDetails     0\n",
       "dtype: int64"
      ]
     },
     "execution_count": 7,
     "metadata": {},
     "output_type": "execute_result"
    }
   ],
   "source": [
    "df.isnull().sum()"
   ]
  },
  {
   "cell_type": "markdown",
   "id": "c4135400",
   "metadata": {
    "id": "c4135400"
   },
   "source": [
    "Tidak ada data yang kosong."
   ]
  },
  {
   "cell_type": "markdown",
   "id": "56dc3138",
   "metadata": {
    "id": "56dc3138"
   },
   "source": [
    "Untuk membuang data duplikat, dapat digunakan `.drop_duplicates()`."
   ]
  },
  {
   "cell_type": "code",
   "execution_count": 8,
   "id": "f3ffdda8",
   "metadata": {
    "ExecuteTime": {
     "end_time": "2021-11-03T04:38:55.510832Z",
     "start_time": "2021-11-03T04:38:55.077511Z"
    },
    "colab": {
     "base_uri": "https://localhost:8080/"
    },
    "id": "f3ffdda8",
    "outputId": "40e7b2f2-fec3-497f-c5ed-e973be18beae"
   },
   "outputs": [
    {
     "name": "stdout",
     "output_type": "stream",
     "text": [
      "Ukuran data sebelum drop duplicate : (145209, 5)\n",
      "Ukuran data setelah drop duplicate : (145191, 5)\n"
     ]
    }
   ],
   "source": [
    "print('Ukuran data sebelum drop duplicate :', df.shape)\n",
    "df = df.drop_duplicates(keep='first')\n",
    "df.reset_index(drop=True, inplace=True)\n",
    "print('Ukuran data setelah drop duplicate :', df.shape)"
   ]
  },
  {
   "cell_type": "markdown",
   "id": "69103a7c",
   "metadata": {
    "id": "69103a7c"
   },
   "source": [
    "Jumlah data setelah dibuang data duplikat adalah 145191 baris."
   ]
  },
  {
   "cell_type": "markdown",
   "id": "167e1824",
   "metadata": {
    "id": "167e1824"
   },
   "source": [
    "### Summary Data"
   ]
  },
  {
   "cell_type": "code",
   "execution_count": 9,
   "id": "e5c5ea2b",
   "metadata": {
    "ExecuteTime": {
     "end_time": "2021-11-03T04:38:55.600157Z",
     "start_time": "2021-11-03T04:38:55.513339Z"
    },
    "colab": {
     "base_uri": "https://localhost:8080/",
     "height": 0
    },
    "id": "e5c5ea2b",
    "outputId": "48442581-d1b1-4f90-e1d7-41598893a19e"
   },
   "outputs": [
    {
     "data": {
      "text/html": [
       "<div>\n",
       "<style scoped>\n",
       "    .dataframe tbody tr th:only-of-type {\n",
       "        vertical-align: middle;\n",
       "    }\n",
       "\n",
       "    .dataframe tbody tr th {\n",
       "        vertical-align: top;\n",
       "    }\n",
       "\n",
       "    .dataframe thead th {\n",
       "        text-align: right;\n",
       "    }\n",
       "</style>\n",
       "<table border=\"1\" class=\"dataframe\">\n",
       "  <thead>\n",
       "    <tr style=\"text-align: right;\">\n",
       "      <th></th>\n",
       "      <th>Rating</th>\n",
       "    </tr>\n",
       "  </thead>\n",
       "  <tbody>\n",
       "    <tr>\n",
       "      <th>count</th>\n",
       "      <td>145191.000000</td>\n",
       "    </tr>\n",
       "    <tr>\n",
       "      <th>mean</th>\n",
       "      <td>4.053605</td>\n",
       "    </tr>\n",
       "    <tr>\n",
       "      <th>std</th>\n",
       "      <td>0.925825</td>\n",
       "    </tr>\n",
       "    <tr>\n",
       "      <th>min</th>\n",
       "      <td>1.000000</td>\n",
       "    </tr>\n",
       "    <tr>\n",
       "      <th>25%</th>\n",
       "      <td>4.000000</td>\n",
       "    </tr>\n",
       "    <tr>\n",
       "      <th>50%</th>\n",
       "      <td>4.000000</td>\n",
       "    </tr>\n",
       "    <tr>\n",
       "      <th>75%</th>\n",
       "      <td>5.000000</td>\n",
       "    </tr>\n",
       "    <tr>\n",
       "      <th>max</th>\n",
       "      <td>5.000000</td>\n",
       "    </tr>\n",
       "  </tbody>\n",
       "</table>\n",
       "</div>"
      ],
      "text/plain": [
       "              Rating\n",
       "count  145191.000000\n",
       "mean        4.053605\n",
       "std         0.925825\n",
       "min         1.000000\n",
       "25%         4.000000\n",
       "50%         4.000000\n",
       "75%         5.000000\n",
       "max         5.000000"
      ]
     },
     "execution_count": 9,
     "metadata": {},
     "output_type": "execute_result"
    }
   ],
   "source": [
    "df.describe()"
   ]
  },
  {
   "cell_type": "markdown",
   "id": "b3dd4afa",
   "metadata": {
    "id": "b3dd4afa"
   },
   "source": [
    "Berdasarkan statistika deskriptif di atas, terlihat untuk rataan Rating yang diberikan oleh pegawai terhadap organisasi atau perusahaannya adalah 4,053."
   ]
  },
  {
   "cell_type": "markdown",
   "id": "cebd3790",
   "metadata": {
    "id": "cebd3790"
   },
   "source": [
    "## Feature Extraction"
   ]
  },
  {
   "cell_type": "markdown",
   "id": "e308439a",
   "metadata": {
    "id": "e308439a"
   },
   "source": [
    "Dikarenakan jumlah kolom atau *feature* yang kita miliki masih sedikit, akan sulit untuk melakukan tahapan eksplorasi pada data kita. Oleh karena itu, akan dibentuk *feature* atau kolom baru berdasarkan kolom yang telah ada."
   ]
  },
  {
   "cell_type": "markdown",
   "id": "13b65ba3",
   "metadata": {
    "id": "13b65ba3"
   },
   "source": [
    "### Create a `Company Name` Column"
   ]
  },
  {
   "cell_type": "markdown",
   "id": "011cbc1d",
   "metadata": {
    "id": "011cbc1d"
   },
   "source": [
    "Pada kolom `URL`, dapat diperoleh informasi terkait nama perusahaan yang diberikan *review* oleh pegawainya. Untuk dapat mengambil nama, dapat dilakukan proses *slicing* data menggunakan acessor `.str` yang dapat digunakan untuk data bertipe string/object dan method `.split()` dengan parameter `/`. Kolom yang memuat nama perusahaan tersebut akan kita simpan ke dalam `Company Name`."
   ]
  },
  {
   "cell_type": "code",
   "execution_count": 10,
   "id": "038e16a9",
   "metadata": {
    "ExecuteTime": {
     "end_time": "2021-11-03T04:38:56.153098Z",
     "start_time": "2021-11-03T04:38:55.602663Z"
    },
    "colab": {
     "base_uri": "https://localhost:8080/"
    },
    "id": "038e16a9",
    "outputId": "d4911e78-96ea-40f1-9475-74021fc3219d"
   },
   "outputs": [
    {
     "data": {
      "text/plain": [
       "array(['Reliance-Industries-Ltd', 'Mphasis', 'Kpmg', 'Yes-Bank',\n",
       "       'Sutherland', 'Marriott-International,-Inc.', 'DHL', 'Jio',\n",
       "       'Vodafoneziggo', 'HP', 'Maersk', 'Ride.swiggy', 'Jll', 'Alstom',\n",
       "       'UnitedHealth-Group', 'Tata-Consultancy-Services-(tcs)',\n",
       "       'Capgemini', 'Teleperformance', 'Cognizant-Technology-Solutions',\n",
       "       'Mahindra-&-Mahindra-Ltd', 'L&T-Technology-Services-Ltd.',\n",
       "       'Bharti-Airtel-Limited', 'Indeed', 'Hyatt',\n",
       "       'Icici-Prudential-Life-Insurance', 'Accenture', 'Honeywell',\n",
       "       'Standard-Chartered-Bank', 'Nokia', 'Apollo-Hospitals',\n",
       "       'Tata-Aia-Life', 'Hdfc-Bank', 'Bosch', 'Deloitte', 'Ey',\n",
       "       'Microsoft', 'Barclays', 'JPMorgan-Chase', 'Muthoot-Finance',\n",
       "       'Wns-Global-Services', 'Kotak-Mahindra-Bank', 'Infosys', 'Oracle',\n",
       "       \"Byju's\", 'Deutsche-Bank', 'Hinduja-Global-Solutions', 'Ericsson',\n",
       "       'Axis-Bank', 'IBM', 'Concentrix', 'Wells-Fargo', 'Google',\n",
       "       'Dell-Technologies', 'Facebook', 'Amazon.com', 'Flipkart.com',\n",
       "       'American-Express', 'Citi', 'HSBC'], dtype=object)"
      ]
     },
     "execution_count": 10,
     "metadata": {},
     "output_type": "execute_result"
    }
   ],
   "source": [
    "df['Company Name'] = df['URL'].str.split('/')\n",
    "df['Company Name'] = df['Company Name'].str[4]\n",
    "df['Company Name'].unique()"
   ]
  },
  {
   "cell_type": "markdown",
   "id": "98d10608",
   "metadata": {
    "id": "98d10608"
   },
   "source": [
    "Terlihat nama perusahaan yang ada pada dataset kita setelah dilakukan proses *slicing*."
   ]
  },
  {
   "cell_type": "code",
   "execution_count": 11,
   "id": "b6c72716",
   "metadata": {
    "ExecuteTime": {
     "end_time": "2021-11-03T04:38:56.169642Z",
     "start_time": "2021-11-03T04:38:56.156107Z"
    },
    "colab": {
     "base_uri": "https://localhost:8080/",
     "height": 0
    },
    "id": "b6c72716",
    "outputId": "02a642ad-d861-4ba2-a38c-257551fc6d78"
   },
   "outputs": [
    {
     "data": {
      "text/html": [
       "<div>\n",
       "<style scoped>\n",
       "    .dataframe tbody tr th:only-of-type {\n",
       "        vertical-align: middle;\n",
       "    }\n",
       "\n",
       "    .dataframe tbody tr th {\n",
       "        vertical-align: top;\n",
       "    }\n",
       "\n",
       "    .dataframe thead th {\n",
       "        text-align: right;\n",
       "    }\n",
       "</style>\n",
       "<table border=\"1\" class=\"dataframe\">\n",
       "  <thead>\n",
       "    <tr style=\"text-align: right;\">\n",
       "      <th></th>\n",
       "      <th>ReviewTitle</th>\n",
       "      <th>CompleteReview</th>\n",
       "      <th>URL</th>\n",
       "      <th>Rating</th>\n",
       "      <th>ReviewDetails</th>\n",
       "      <th>Company Name</th>\n",
       "    </tr>\n",
       "  </thead>\n",
       "  <tbody>\n",
       "    <tr>\n",
       "      <th>0</th>\n",
       "      <td>Productive</td>\n",
       "      <td>Good company, cool workplace, work load little...</td>\n",
       "      <td>https://in.indeed.com/cmp/Reliance-Industries-...</td>\n",
       "      <td>3</td>\n",
       "      <td>(Current Employee)  -  Ghansoli  -  August 30,...</td>\n",
       "      <td>Reliance-Industries-Ltd</td>\n",
       "    </tr>\n",
       "    <tr>\n",
       "      <th>1</th>\n",
       "      <td>Stressful</td>\n",
       "      <td>1. Need to work on boss's whims and fancies 2....</td>\n",
       "      <td>https://in.indeed.com/cmp/Reliance-Industries-...</td>\n",
       "      <td>3</td>\n",
       "      <td>(Former Employee)  -   -  August 26, 2021</td>\n",
       "      <td>Reliance-Industries-Ltd</td>\n",
       "    </tr>\n",
       "    <tr>\n",
       "      <th>2</th>\n",
       "      <td>Good Company for Every employee</td>\n",
       "      <td>Good company for every Engineers dream, Full M...</td>\n",
       "      <td>https://in.indeed.com/cmp/Reliance-Industries-...</td>\n",
       "      <td>5</td>\n",
       "      <td>(Former Employee)  -   -  August 17, 2021</td>\n",
       "      <td>Reliance-Industries-Ltd</td>\n",
       "    </tr>\n",
       "    <tr>\n",
       "      <th>3</th>\n",
       "      <td>Productive</td>\n",
       "      <td>I am just pass out bsc in chemistry Typical da...</td>\n",
       "      <td>https://in.indeed.com/cmp/Reliance-Industries-...</td>\n",
       "      <td>5</td>\n",
       "      <td>(Current Employee)  -   -  August 17, 2021</td>\n",
       "      <td>Reliance-Industries-Ltd</td>\n",
       "    </tr>\n",
       "    <tr>\n",
       "      <th>4</th>\n",
       "      <td>Non productive</td>\n",
       "      <td>Not so fun at work just blame games  Target pe...</td>\n",
       "      <td>https://in.indeed.com/cmp/Reliance-Industries-...</td>\n",
       "      <td>1</td>\n",
       "      <td>(Former Employee)  -   -  August 9, 2021</td>\n",
       "      <td>Reliance-Industries-Ltd</td>\n",
       "    </tr>\n",
       "  </tbody>\n",
       "</table>\n",
       "</div>"
      ],
      "text/plain": [
       "                       ReviewTitle  \\\n",
       "0                       Productive   \n",
       "1                        Stressful   \n",
       "2  Good Company for Every employee   \n",
       "3                       Productive   \n",
       "4                   Non productive   \n",
       "\n",
       "                                      CompleteReview  \\\n",
       "0  Good company, cool workplace, work load little...   \n",
       "1  1. Need to work on boss's whims and fancies 2....   \n",
       "2  Good company for every Engineers dream, Full M...   \n",
       "3  I am just pass out bsc in chemistry Typical da...   \n",
       "4  Not so fun at work just blame games  Target pe...   \n",
       "\n",
       "                                                 URL  Rating  \\\n",
       "0  https://in.indeed.com/cmp/Reliance-Industries-...       3   \n",
       "1  https://in.indeed.com/cmp/Reliance-Industries-...       3   \n",
       "2  https://in.indeed.com/cmp/Reliance-Industries-...       5   \n",
       "3  https://in.indeed.com/cmp/Reliance-Industries-...       5   \n",
       "4  https://in.indeed.com/cmp/Reliance-Industries-...       1   \n",
       "\n",
       "                                       ReviewDetails             Company Name  \n",
       "0  (Current Employee)  -  Ghansoli  -  August 30,...  Reliance-Industries-Ltd  \n",
       "1          (Former Employee)  -   -  August 26, 2021  Reliance-Industries-Ltd  \n",
       "2          (Former Employee)  -   -  August 17, 2021  Reliance-Industries-Ltd  \n",
       "3         (Current Employee)  -   -  August 17, 2021  Reliance-Industries-Ltd  \n",
       "4           (Former Employee)  -   -  August 9, 2021  Reliance-Industries-Ltd  "
      ]
     },
     "execution_count": 11,
     "metadata": {},
     "output_type": "execute_result"
    }
   ],
   "source": [
    "df.head()"
   ]
  },
  {
   "cell_type": "markdown",
   "id": "a1886f28",
   "metadata": {
    "id": "a1886f28"
   },
   "source": [
    "### Create a `Date` Column"
   ]
  },
  {
   "cell_type": "markdown",
   "id": "5a187999",
   "metadata": {
    "id": "5a187999"
   },
   "source": [
    "Selain membuat kolom `Company Name`, akan dibuat juga kolom `Date` yang memuat tanggal *review* diberikan. Untuk mendapatkan tanggal, dapat dilakukan proses *slicing* pada kolom `ReviewDetails` menggunakan acessor `.str` dan method `.split()`."
   ]
  },
  {
   "cell_type": "code",
   "execution_count": 12,
   "id": "e60e37d7",
   "metadata": {
    "ExecuteTime": {
     "end_time": "2021-11-03T04:38:56.811716Z",
     "start_time": "2021-11-03T04:38:56.172151Z"
    },
    "id": "e60e37d7"
   },
   "outputs": [],
   "source": [
    "df['Date'] = df['ReviewDetails'].str.split('-', expand=True)[2]"
   ]
  },
  {
   "cell_type": "code",
   "execution_count": 13,
   "id": "d239437d",
   "metadata": {
    "ExecuteTime": {
     "end_time": "2021-11-03T04:38:56.825872Z",
     "start_time": "2021-11-03T04:38:56.813840Z"
    },
    "colab": {
     "base_uri": "https://localhost:8080/",
     "height": 0
    },
    "id": "d239437d",
    "outputId": "85632906-22c6-43cd-f960-4dcc89375f23"
   },
   "outputs": [
    {
     "data": {
      "text/html": [
       "<div>\n",
       "<style scoped>\n",
       "    .dataframe tbody tr th:only-of-type {\n",
       "        vertical-align: middle;\n",
       "    }\n",
       "\n",
       "    .dataframe tbody tr th {\n",
       "        vertical-align: top;\n",
       "    }\n",
       "\n",
       "    .dataframe thead th {\n",
       "        text-align: right;\n",
       "    }\n",
       "</style>\n",
       "<table border=\"1\" class=\"dataframe\">\n",
       "  <thead>\n",
       "    <tr style=\"text-align: right;\">\n",
       "      <th></th>\n",
       "      <th>ReviewTitle</th>\n",
       "      <th>CompleteReview</th>\n",
       "      <th>URL</th>\n",
       "      <th>Rating</th>\n",
       "      <th>ReviewDetails</th>\n",
       "      <th>Company Name</th>\n",
       "      <th>Date</th>\n",
       "    </tr>\n",
       "  </thead>\n",
       "  <tbody>\n",
       "    <tr>\n",
       "      <th>0</th>\n",
       "      <td>Productive</td>\n",
       "      <td>Good company, cool workplace, work load little...</td>\n",
       "      <td>https://in.indeed.com/cmp/Reliance-Industries-...</td>\n",
       "      <td>3</td>\n",
       "      <td>(Current Employee)  -  Ghansoli  -  August 30,...</td>\n",
       "      <td>Reliance-Industries-Ltd</td>\n",
       "      <td>August 30, 2021</td>\n",
       "    </tr>\n",
       "    <tr>\n",
       "      <th>1</th>\n",
       "      <td>Stressful</td>\n",
       "      <td>1. Need to work on boss's whims and fancies 2....</td>\n",
       "      <td>https://in.indeed.com/cmp/Reliance-Industries-...</td>\n",
       "      <td>3</td>\n",
       "      <td>(Former Employee)  -   -  August 26, 2021</td>\n",
       "      <td>Reliance-Industries-Ltd</td>\n",
       "      <td>August 26, 2021</td>\n",
       "    </tr>\n",
       "    <tr>\n",
       "      <th>2</th>\n",
       "      <td>Good Company for Every employee</td>\n",
       "      <td>Good company for every Engineers dream, Full M...</td>\n",
       "      <td>https://in.indeed.com/cmp/Reliance-Industries-...</td>\n",
       "      <td>5</td>\n",
       "      <td>(Former Employee)  -   -  August 17, 2021</td>\n",
       "      <td>Reliance-Industries-Ltd</td>\n",
       "      <td>August 17, 2021</td>\n",
       "    </tr>\n",
       "    <tr>\n",
       "      <th>3</th>\n",
       "      <td>Productive</td>\n",
       "      <td>I am just pass out bsc in chemistry Typical da...</td>\n",
       "      <td>https://in.indeed.com/cmp/Reliance-Industries-...</td>\n",
       "      <td>5</td>\n",
       "      <td>(Current Employee)  -   -  August 17, 2021</td>\n",
       "      <td>Reliance-Industries-Ltd</td>\n",
       "      <td>August 17, 2021</td>\n",
       "    </tr>\n",
       "    <tr>\n",
       "      <th>4</th>\n",
       "      <td>Non productive</td>\n",
       "      <td>Not so fun at work just blame games  Target pe...</td>\n",
       "      <td>https://in.indeed.com/cmp/Reliance-Industries-...</td>\n",
       "      <td>1</td>\n",
       "      <td>(Former Employee)  -   -  August 9, 2021</td>\n",
       "      <td>Reliance-Industries-Ltd</td>\n",
       "      <td>August 9, 2021</td>\n",
       "    </tr>\n",
       "  </tbody>\n",
       "</table>\n",
       "</div>"
      ],
      "text/plain": [
       "                       ReviewTitle  \\\n",
       "0                       Productive   \n",
       "1                        Stressful   \n",
       "2  Good Company for Every employee   \n",
       "3                       Productive   \n",
       "4                   Non productive   \n",
       "\n",
       "                                      CompleteReview  \\\n",
       "0  Good company, cool workplace, work load little...   \n",
       "1  1. Need to work on boss's whims and fancies 2....   \n",
       "2  Good company for every Engineers dream, Full M...   \n",
       "3  I am just pass out bsc in chemistry Typical da...   \n",
       "4  Not so fun at work just blame games  Target pe...   \n",
       "\n",
       "                                                 URL  Rating  \\\n",
       "0  https://in.indeed.com/cmp/Reliance-Industries-...       3   \n",
       "1  https://in.indeed.com/cmp/Reliance-Industries-...       3   \n",
       "2  https://in.indeed.com/cmp/Reliance-Industries-...       5   \n",
       "3  https://in.indeed.com/cmp/Reliance-Industries-...       5   \n",
       "4  https://in.indeed.com/cmp/Reliance-Industries-...       1   \n",
       "\n",
       "                                       ReviewDetails             Company Name  \\\n",
       "0  (Current Employee)  -  Ghansoli  -  August 30,...  Reliance-Industries-Ltd   \n",
       "1          (Former Employee)  -   -  August 26, 2021  Reliance-Industries-Ltd   \n",
       "2          (Former Employee)  -   -  August 17, 2021  Reliance-Industries-Ltd   \n",
       "3         (Current Employee)  -   -  August 17, 2021  Reliance-Industries-Ltd   \n",
       "4           (Former Employee)  -   -  August 9, 2021  Reliance-Industries-Ltd   \n",
       "\n",
       "                Date  \n",
       "0    August 30, 2021  \n",
       "1    August 26, 2021  \n",
       "2    August 17, 2021  \n",
       "3    August 17, 2021  \n",
       "4     August 9, 2021  "
      ]
     },
     "execution_count": 13,
     "metadata": {},
     "output_type": "execute_result"
    }
   ],
   "source": [
    "df.head()"
   ]
  },
  {
   "cell_type": "markdown",
   "id": "7fd04c32",
   "metadata": {
    "id": "7fd04c32"
   },
   "source": [
    "### Create `Year`, `Month`, `Day` Column"
   ]
  },
  {
   "cell_type": "markdown",
   "id": "d1819789",
   "metadata": {
    "id": "d1819789"
   },
   "source": [
    "Dilakukan proses pembentukan kolom `Year`, `Month`, dan `Day` yang memuat tahun, bulan, dan tanggal *review* diberikan."
   ]
  },
  {
   "cell_type": "code",
   "execution_count": 14,
   "id": "75b3e69b",
   "metadata": {
    "ExecuteTime": {
     "end_time": "2021-11-03T04:38:58.443595Z",
     "start_time": "2021-11-03T04:38:56.832389Z"
    },
    "id": "75b3e69b"
   },
   "outputs": [],
   "source": [
    "df['Year'] = df['Date'].str.split(',', expand=True)[1]\n",
    "df['Month'] = df['Date'].str.split(' ', expand=True)[2]\n",
    "df['Day'] = df['Date'].str.split(' ', expand=True)[3]\n",
    "df['Day'] = df['Day'].str.replace(',','')"
   ]
  },
  {
   "cell_type": "markdown",
   "id": "589ec56d",
   "metadata": {
    "id": "589ec56d"
   },
   "source": [
    "#### Check `Year` Column"
   ]
  },
  {
   "cell_type": "code",
   "execution_count": 15,
   "id": "19a40b71",
   "metadata": {
    "ExecuteTime": {
     "end_time": "2021-11-03T04:38:58.482198Z",
     "start_time": "2021-11-03T04:38:58.445601Z"
    },
    "colab": {
     "base_uri": "https://localhost:8080/"
    },
    "id": "19a40b71",
    "outputId": "97bea04b-c209-4893-8e06-9d9828934c45"
   },
   "outputs": [
    {
     "data": {
      "text/plain": [
       "array([' 2021', ' 2020', ' 2019', ' 2018', ' 2017', ' 2016', None,\n",
       "       ' 2015', ' 2014', ' 2013', ' 2012', ' 2011',\n",
       "       ' GWAL PAHARI GURGAON  ', ' airoli  ', ' Malad west  ',\n",
       "       ' Sp Infocity & Quadra ', ' New Delhi', ' Tamil nadu  ',\n",
       "       'Gurgaon  '], dtype=object)"
      ]
     },
     "execution_count": 15,
     "metadata": {},
     "output_type": "execute_result"
    }
   ],
   "source": [
    "df['Year'].unique()"
   ]
  },
  {
   "cell_type": "markdown",
   "id": "aa0ba3b1",
   "metadata": {
    "id": "aa0ba3b1"
   },
   "source": [
    "Ketika kita mengecek kolom `Year`, terlihat bahwa terdapat beberapa nilai yang tidak sesuai. Oleh karena itu, kita akan membuang beberapa nilai yang bukanlah tahun dimana *review* diberikan."
   ]
  },
  {
   "cell_type": "code",
   "execution_count": 16,
   "id": "f012ee4a",
   "metadata": {
    "ExecuteTime": {
     "end_time": "2021-11-03T04:38:58.725937Z",
     "start_time": "2021-11-03T04:38:58.486211Z"
    },
    "id": "f012ee4a"
   },
   "outputs": [],
   "source": [
    "df['Year'] = df['Year'].str.replace(' ','')"
   ]
  },
  {
   "cell_type": "code",
   "execution_count": 17,
   "id": "818e9991",
   "metadata": {
    "ExecuteTime": {
     "end_time": "2021-11-03T04:38:58.791104Z",
     "start_time": "2021-11-03T04:38:58.728447Z"
    },
    "colab": {
     "base_uri": "https://localhost:8080/"
    },
    "id": "818e9991",
    "outputId": "743d25b5-0d5c-49ac-f129-e27cca0c2505"
   },
   "outputs": [
    {
     "data": {
      "text/plain": [
       "array(['2021', '2020', '2019', '2018', '2017', '2016', None, '2015',\n",
       "       '2014', '2013', '2012', '2011', 'GWALPAHARIGURGAON', 'airoli',\n",
       "       'Maladwest', 'SpInfocity&Quadra', 'NewDelhi', 'Tamilnadu',\n",
       "       'Gurgaon'], dtype=object)"
      ]
     },
     "execution_count": 17,
     "metadata": {},
     "output_type": "execute_result"
    }
   ],
   "source": [
    "df['Year'].unique()"
   ]
  },
  {
   "cell_type": "code",
   "execution_count": 18,
   "id": "c95c3bde",
   "metadata": {
    "ExecuteTime": {
     "end_time": "2021-11-03T04:38:58.915582Z",
     "start_time": "2021-11-03T04:38:58.793112Z"
    },
    "colab": {
     "base_uri": "https://localhost:8080/"
    },
    "id": "c95c3bde",
    "outputId": "51a61c0b-c778-4df1-e8b7-30082b68550b"
   },
   "outputs": [
    {
     "data": {
      "text/plain": [
       "2021                  2967\n",
       "2020                 12674\n",
       "2019                 16985\n",
       "2018                 15782\n",
       "2017                 37335\n",
       "2016                 15295\n",
       "2015                 13664\n",
       "2014                 15016\n",
       "2013                 11140\n",
       "2012                  4153\n",
       "2011                    38\n",
       "GWALPAHARIGURGAON        1\n",
       "airoli                   1\n",
       "Maladwest                1\n",
       "SpInfocity&Quadra        1\n",
       "NewDelhi                 1\n",
       "Tamilnadu                1\n",
       "Gurgaon                  1\n",
       "Name: Year, dtype: int64"
      ]
     },
     "execution_count": 18,
     "metadata": {},
     "output_type": "execute_result"
    }
   ],
   "source": [
    "df['Year'].value_counts(sort=False)"
   ]
  },
  {
   "cell_type": "code",
   "execution_count": 19,
   "id": "3ee600c0",
   "metadata": {
    "ExecuteTime": {
     "end_time": "2021-11-03T04:38:59.080612Z",
     "start_time": "2021-11-03T04:38:58.918089Z"
    },
    "id": "3ee600c0"
   },
   "outputs": [],
   "source": [
    "valid_year = ['2011', '2012', '2013', '2014', '2014', '2015', \n",
    "               '2016', '2017', '2018', '2019', '2020', '2021']\n",
    "df['Year'] = df['Year'].apply(lambda x:x if x in valid_year else np.nan)"
   ]
  },
  {
   "cell_type": "code",
   "execution_count": 20,
   "id": "a4a7c4a4",
   "metadata": {
    "ExecuteTime": {
     "end_time": "2021-11-03T04:38:59.149980Z",
     "start_time": "2021-11-03T04:38:59.082618Z"
    },
    "colab": {
     "base_uri": "https://localhost:8080/"
    },
    "id": "a4a7c4a4",
    "outputId": "b0a62afd-0493-423b-ae29-61bd3d4f2566"
   },
   "outputs": [
    {
     "data": {
      "text/plain": [
       "2017    37335\n",
       "2019    16985\n",
       "2018    15782\n",
       "2016    15295\n",
       "2014    15016\n",
       "2015    13664\n",
       "2020    12674\n",
       "2013    11140\n",
       "2012     4153\n",
       "2021     2967\n",
       "2011       38\n",
       "Name: Year, dtype: int64"
      ]
     },
     "execution_count": 20,
     "metadata": {},
     "output_type": "execute_result"
    }
   ],
   "source": [
    "df['Year'].value_counts()"
   ]
  },
  {
   "cell_type": "markdown",
   "id": "d9d3288d",
   "metadata": {
    "id": "d9d3288d"
   },
   "source": [
    "Nilai pada kolom `Year` sudah sesuai."
   ]
  },
  {
   "cell_type": "markdown",
   "id": "e4e76bbf",
   "metadata": {
    "id": "e4e76bbf"
   },
   "source": [
    "#### Check `Month` Column"
   ]
  },
  {
   "cell_type": "code",
   "execution_count": 21,
   "id": "dc1a1db0",
   "metadata": {
    "ExecuteTime": {
     "end_time": "2021-11-03T04:38:59.325049Z",
     "start_time": "2021-11-03T04:38:59.152489Z"
    },
    "colab": {
     "base_uri": "https://localhost:8080/"
    },
    "id": "dc1a1db0",
    "outputId": "b8fea29d-0af4-4f4f-ab64-62c7d81e3d58"
   },
   "outputs": [
    {
     "data": {
      "text/plain": [
       "array(['August', 'July', 'September', 'May', 'June', 'April', 'March',\n",
       "       'February', 'January', 'December', 'November', 'October', '',\n",
       "       'Africa', 'bagh', 'Consultant', 'Road', '9', '.CLUSTER', '(west)',\n",
       "       'West', 'PAHARI', 'mumbai', None, 'west', 'Ramannagar', 'West.',\n",
       "       'Raman', 'park', 'Technohub', 'Solutions', 'Office', 'Estate',\n",
       "       'Infocity', 'Nagar', 'Delhi,', 'Tamil', 'parel', ')', 'Locatino',\n",
       "       'complex'], dtype=object)"
      ]
     },
     "execution_count": 21,
     "metadata": {},
     "output_type": "execute_result"
    }
   ],
   "source": [
    "df['Month'].unique()"
   ]
  },
  {
   "cell_type": "markdown",
   "id": "721f455d",
   "metadata": {
    "id": "721f455d"
   },
   "source": [
    "Pada kolom `Month` juga memuat beberapa nilai yang tidak merupakan nama bulan, sama seperti sebelumnya, akan dibuang beberapa nilai."
   ]
  },
  {
   "cell_type": "code",
   "execution_count": 22,
   "id": "b6fbb431",
   "metadata": {
    "ExecuteTime": {
     "end_time": "2021-11-03T04:38:59.456119Z",
     "start_time": "2021-11-03T04:38:59.327556Z"
    },
    "colab": {
     "base_uri": "https://localhost:8080/"
    },
    "id": "b6fbb431",
    "outputId": "07bc1e41-0a9a-4dfc-c9a7-b3f7d6c4be98"
   },
   "outputs": [
    {
     "data": {
      "text/plain": [
       "March         15438\n",
       "January       12626\n",
       "June          12573\n",
       "July          12214\n",
       "September     12090\n",
       "February      12008\n",
       "May           11848\n",
       "April         11667\n",
       "August        11635\n",
       "November      11397\n",
       "October       10945\n",
       "December      10608\n",
       "                114\n",
       "Infocity          1\n",
       "Technohub         1\n",
       "Solutions         1\n",
       "Office            1\n",
       "Estate            1\n",
       "Locatino          1\n",
       "Nagar             1\n",
       "Delhi,            1\n",
       "Tamil             1\n",
       "parel             1\n",
       ")                 1\n",
       "Raman             1\n",
       "park              1\n",
       "West              1\n",
       "West.             1\n",
       "Ramannagar        1\n",
       "west              1\n",
       "mumbai            1\n",
       "PAHARI            1\n",
       "(west)            1\n",
       ".CLUSTER          1\n",
       "9                 1\n",
       "Road              1\n",
       "Consultant        1\n",
       "bagh              1\n",
       "Africa            1\n",
       "complex           1\n",
       "Name: Month, dtype: int64"
      ]
     },
     "execution_count": 22,
     "metadata": {},
     "output_type": "execute_result"
    }
   ],
   "source": [
    "df['Month'].value_counts()"
   ]
  },
  {
   "cell_type": "code",
   "execution_count": 23,
   "id": "298d30cb",
   "metadata": {
    "ExecuteTime": {
     "end_time": "2021-11-03T04:38:59.619667Z",
     "start_time": "2021-11-03T04:38:59.458585Z"
    },
    "id": "298d30cb"
   },
   "outputs": [],
   "source": [
    "valid_month = ['January', 'February', 'March', 'April', 'May', 'June',\n",
    "               'July', 'August', 'September', 'October', 'November', 'December']\n",
    "df['Month'] = df['Month'].apply(lambda x:x if x in valid_month else np.nan)"
   ]
  },
  {
   "cell_type": "code",
   "execution_count": 24,
   "id": "f588d08c",
   "metadata": {
    "ExecuteTime": {
     "end_time": "2021-11-03T04:38:59.706656Z",
     "start_time": "2021-11-03T04:38:59.621670Z"
    },
    "colab": {
     "base_uri": "https://localhost:8080/"
    },
    "id": "f588d08c",
    "outputId": "7c5ccf1d-c497-4f29-beba-b51dc290e165"
   },
   "outputs": [
    {
     "data": {
      "text/plain": [
       "March        15438\n",
       "January      12626\n",
       "June         12573\n",
       "July         12214\n",
       "September    12090\n",
       "February     12008\n",
       "May          11848\n",
       "April        11667\n",
       "August       11635\n",
       "November     11397\n",
       "October      10945\n",
       "December     10608\n",
       "Name: Month, dtype: int64"
      ]
     },
     "execution_count": 24,
     "metadata": {},
     "output_type": "execute_result"
    }
   ],
   "source": [
    "df['Month'].value_counts()"
   ]
  },
  {
   "cell_type": "markdown",
   "id": "c2ae2945",
   "metadata": {
    "id": "c2ae2945"
   },
   "source": [
    "Nilai pada kolom `Month` sudah sesuai."
   ]
  },
  {
   "cell_type": "markdown",
   "id": "af4030e6",
   "metadata": {
    "id": "af4030e6"
   },
   "source": [
    "#### Check `Day` Column"
   ]
  },
  {
   "cell_type": "code",
   "execution_count": 25,
   "id": "f7d1e0fd",
   "metadata": {
    "ExecuteTime": {
     "end_time": "2021-11-03T04:38:59.863615Z",
     "start_time": "2021-11-03T04:38:59.709162Z"
    },
    "colab": {
     "base_uri": "https://localhost:8080/"
    },
    "id": "f7d1e0fd",
    "outputId": "6bfab953-f666-4c0d-eba7-bd4b5a86a504"
   },
   "outputs": [
    {
     "data": {
      "text/plain": [
       "array(['30', '26', '17', '9', '22', '18', '7', '8', '5', '3', '15', '6',\n",
       "       '20', '2', '16', '10', '31', '23', '11', '28', '24', '21', '19',\n",
       "       '13', '1', '4', '25', '12', '27', '29', '14', None, '',\n",
       "       'chandigarh', '&', 'GURGAON', 'Nagar', 'malad', 'India', 'nadu'],\n",
       "      dtype=object)"
      ]
     },
     "execution_count": 25,
     "metadata": {},
     "output_type": "execute_result"
    }
   ],
   "source": [
    "df['Day'].unique()"
   ]
  },
  {
   "cell_type": "markdown",
   "id": "11c0cf07",
   "metadata": {
    "id": "11c0cf07"
   },
   "source": [
    "Pada kolom `Day` juga terdapat nilai yang bukan merupakan tanggal. Dilakukan proses serupa seperti pada kolom `Year` dan `Month`."
   ]
  },
  {
   "cell_type": "code",
   "execution_count": 26,
   "id": "e679fd96",
   "metadata": {
    "ExecuteTime": {
     "end_time": "2021-11-03T04:38:59.982350Z",
     "start_time": "2021-11-03T04:38:59.865620Z"
    },
    "colab": {
     "base_uri": "https://localhost:8080/"
    },
    "id": "e679fd96",
    "outputId": "50ef6745-bc65-45c9-fc64-54fa3a0f537a"
   },
   "outputs": [
    {
     "data": {
      "text/plain": [
       "5             5159\n",
       "2             4992\n",
       "4             4969\n",
       "21            4929\n",
       "9             4920\n",
       "3             4910\n",
       "8             4910\n",
       "7             4881\n",
       "17            4864\n",
       "12            4842\n",
       "6             4829\n",
       "22            4828\n",
       "20            4825\n",
       "23            4824\n",
       "18            4823\n",
       "16            4812\n",
       "11            4793\n",
       "19            4721\n",
       "25            4709\n",
       "24            4705\n",
       "28            4691\n",
       "26            4684\n",
       "10            4680\n",
       "15            4664\n",
       "27            4660\n",
       "13            4572\n",
       "1             4557\n",
       "14            4466\n",
       "29            4311\n",
       "30            4138\n",
       "31            2381\n",
       "                80\n",
       "&                2\n",
       "chandigarh       1\n",
       "GURGAON          1\n",
       "Nagar            1\n",
       "malad            1\n",
       "India            1\n",
       "nadu             1\n",
       "Name: Day, dtype: int64"
      ]
     },
     "execution_count": 26,
     "metadata": {},
     "output_type": "execute_result"
    }
   ],
   "source": [
    "df['Day'].value_counts()"
   ]
  },
  {
   "cell_type": "code",
   "execution_count": 27,
   "id": "eef33e8e",
   "metadata": {
    "ExecuteTime": {
     "end_time": "2021-11-03T04:39:00.175023Z",
     "start_time": "2021-11-03T04:38:59.984857Z"
    },
    "id": "eef33e8e"
   },
   "outputs": [],
   "source": [
    "valid_day = ['1', '2', '3', '4', '5', '6', '7', '8', '9', '10', '11',\n",
    "             '12', '13', '14', '15', '16', '17', '18', '19', '20', '21',\n",
    "             '22', '23', '24', '25', '26', '27', '28', '29', '30', '31']\n",
    "df['Day'] = df['Day'].apply(lambda x:x if x in valid_day else np.nan)"
   ]
  },
  {
   "cell_type": "code",
   "execution_count": 28,
   "id": "23a75bd9",
   "metadata": {
    "ExecuteTime": {
     "end_time": "2021-11-03T04:39:00.217994Z",
     "start_time": "2021-11-03T04:39:00.176916Z"
    },
    "colab": {
     "base_uri": "https://localhost:8080/"
    },
    "id": "23a75bd9",
    "outputId": "a3b31db0-1fa3-498e-db98-f748b826e16f"
   },
   "outputs": [
    {
     "data": {
      "text/plain": [
       "5     5159\n",
       "2     4992\n",
       "4     4969\n",
       "21    4929\n",
       "9     4920\n",
       "8     4910\n",
       "3     4910\n",
       "7     4881\n",
       "17    4864\n",
       "12    4842\n",
       "6     4829\n",
       "22    4828\n",
       "20    4825\n",
       "23    4824\n",
       "18    4823\n",
       "16    4812\n",
       "11    4793\n",
       "19    4721\n",
       "25    4709\n",
       "24    4705\n",
       "28    4691\n",
       "26    4684\n",
       "10    4680\n",
       "15    4664\n",
       "27    4660\n",
       "13    4572\n",
       "1     4557\n",
       "14    4466\n",
       "29    4311\n",
       "30    4138\n",
       "31    2381\n",
       "Name: Day, dtype: int64"
      ]
     },
     "execution_count": 28,
     "metadata": {},
     "output_type": "execute_result"
    }
   ],
   "source": [
    "df['Day'].value_counts()"
   ]
  },
  {
   "cell_type": "markdown",
   "id": "f2dadf22",
   "metadata": {
    "id": "f2dadf22"
   },
   "source": [
    "Nilai pada kolom `Day` sudah sesuai."
   ]
  },
  {
   "cell_type": "markdown",
   "id": "41d15833",
   "metadata": {
    "id": "41d15833"
   },
   "source": [
    "#### Check Missing Value"
   ]
  },
  {
   "cell_type": "code",
   "execution_count": 29,
   "id": "12b667ec",
   "metadata": {
    "ExecuteTime": {
     "end_time": "2021-11-03T04:39:00.461601Z",
     "start_time": "2021-11-03T04:39:00.220503Z"
    },
    "colab": {
     "base_uri": "https://localhost:8080/"
    },
    "id": "12b667ec",
    "outputId": "8f862839-138b-4488-9a49-17c4925fac4d"
   },
   "outputs": [
    {
     "data": {
      "text/plain": [
       "ReviewTitle         0\n",
       "CompleteReview      0\n",
       "URL                 0\n",
       "Rating              0\n",
       "ReviewDetails       0\n",
       "Company Name        0\n",
       "Date                0\n",
       "Year              142\n",
       "Month             142\n",
       "Day               142\n",
       "dtype: int64"
      ]
     },
     "execution_count": 29,
     "metadata": {},
     "output_type": "execute_result"
    }
   ],
   "source": [
    "df.isnull().sum()"
   ]
  },
  {
   "cell_type": "markdown",
   "id": "b377dc44",
   "metadata": {
    "id": "b377dc44"
   },
   "source": [
    "Terlihat bahwa terdapat missing value pada kolom `Year`, `Month`, dan `Day`."
   ]
  },
  {
   "cell_type": "code",
   "execution_count": 30,
   "id": "2f3d8be3",
   "metadata": {
    "ExecuteTime": {
     "end_time": "2021-11-03T04:39:00.984517Z",
     "start_time": "2021-11-03T04:39:00.464109Z"
    },
    "colab": {
     "base_uri": "https://localhost:8080/"
    },
    "id": "2f3d8be3",
    "outputId": "123f0d78-4005-451f-f11f-267ed14c9111"
   },
   "outputs": [
    {
     "name": "stdout",
     "output_type": "stream",
     "text": [
      "Ukuran data sebelum drop missing value : (145191, 10)\n",
      "Ukuran data setelah drop missing value : (145049, 10)\n"
     ]
    }
   ],
   "source": [
    "print('Ukuran data sebelum drop missing value :', df.shape)\n",
    "df = df.dropna()\n",
    "print('Ukuran data setelah drop missing value :', df.shape)"
   ]
  },
  {
   "cell_type": "markdown",
   "id": "815f3520",
   "metadata": {
    "id": "815f3520"
   },
   "source": [
    "### Create `Date` Column"
   ]
  },
  {
   "cell_type": "markdown",
   "id": "9e2bbec6",
   "metadata": {
    "id": "9e2bbec6"
   },
   "source": [
    "Akan diubah tipe data pada kolom `Date` menjadi *datetime* untuk memudahkan proses pada tahap eksplorasi data."
   ]
  },
  {
   "cell_type": "code",
   "execution_count": 31,
   "id": "a34806de",
   "metadata": {
    "ExecuteTime": {
     "end_time": "2021-11-03T04:39:01.285140Z",
     "start_time": "2021-11-03T04:39:00.987025Z"
    },
    "id": "a34806de"
   },
   "outputs": [],
   "source": [
    "df['Date'] = df['Year']+df['Month']+df['Day']\n",
    "df['Date'] = pd.to_datetime(df['Date'], format='%Y%B%d')"
   ]
  },
  {
   "cell_type": "code",
   "execution_count": 32,
   "id": "c5561d10",
   "metadata": {
    "ExecuteTime": {
     "end_time": "2021-11-03T04:39:01.311208Z",
     "start_time": "2021-11-03T04:39:01.287144Z"
    },
    "colab": {
     "base_uri": "https://localhost:8080/",
     "height": 0
    },
    "id": "c5561d10",
    "outputId": "372e7fe7-3bd0-47ea-8c76-fde764d5d098"
   },
   "outputs": [
    {
     "data": {
      "text/html": [
       "<div>\n",
       "<style scoped>\n",
       "    .dataframe tbody tr th:only-of-type {\n",
       "        vertical-align: middle;\n",
       "    }\n",
       "\n",
       "    .dataframe tbody tr th {\n",
       "        vertical-align: top;\n",
       "    }\n",
       "\n",
       "    .dataframe thead th {\n",
       "        text-align: right;\n",
       "    }\n",
       "</style>\n",
       "<table border=\"1\" class=\"dataframe\">\n",
       "  <thead>\n",
       "    <tr style=\"text-align: right;\">\n",
       "      <th></th>\n",
       "      <th>ReviewTitle</th>\n",
       "      <th>CompleteReview</th>\n",
       "      <th>URL</th>\n",
       "      <th>Rating</th>\n",
       "      <th>ReviewDetails</th>\n",
       "      <th>Company Name</th>\n",
       "      <th>Date</th>\n",
       "      <th>Year</th>\n",
       "      <th>Month</th>\n",
       "      <th>Day</th>\n",
       "    </tr>\n",
       "  </thead>\n",
       "  <tbody>\n",
       "    <tr>\n",
       "      <th>0</th>\n",
       "      <td>Productive</td>\n",
       "      <td>Good company, cool workplace, work load little...</td>\n",
       "      <td>https://in.indeed.com/cmp/Reliance-Industries-...</td>\n",
       "      <td>3</td>\n",
       "      <td>(Current Employee)  -  Ghansoli  -  August 30,...</td>\n",
       "      <td>Reliance-Industries-Ltd</td>\n",
       "      <td>2021-08-30</td>\n",
       "      <td>2021</td>\n",
       "      <td>August</td>\n",
       "      <td>30</td>\n",
       "    </tr>\n",
       "    <tr>\n",
       "      <th>1</th>\n",
       "      <td>Stressful</td>\n",
       "      <td>1. Need to work on boss's whims and fancies 2....</td>\n",
       "      <td>https://in.indeed.com/cmp/Reliance-Industries-...</td>\n",
       "      <td>3</td>\n",
       "      <td>(Former Employee)  -   -  August 26, 2021</td>\n",
       "      <td>Reliance-Industries-Ltd</td>\n",
       "      <td>2021-08-26</td>\n",
       "      <td>2021</td>\n",
       "      <td>August</td>\n",
       "      <td>26</td>\n",
       "    </tr>\n",
       "    <tr>\n",
       "      <th>2</th>\n",
       "      <td>Good Company for Every employee</td>\n",
       "      <td>Good company for every Engineers dream, Full M...</td>\n",
       "      <td>https://in.indeed.com/cmp/Reliance-Industries-...</td>\n",
       "      <td>5</td>\n",
       "      <td>(Former Employee)  -   -  August 17, 2021</td>\n",
       "      <td>Reliance-Industries-Ltd</td>\n",
       "      <td>2021-08-17</td>\n",
       "      <td>2021</td>\n",
       "      <td>August</td>\n",
       "      <td>17</td>\n",
       "    </tr>\n",
       "    <tr>\n",
       "      <th>3</th>\n",
       "      <td>Productive</td>\n",
       "      <td>I am just pass out bsc in chemistry Typical da...</td>\n",
       "      <td>https://in.indeed.com/cmp/Reliance-Industries-...</td>\n",
       "      <td>5</td>\n",
       "      <td>(Current Employee)  -   -  August 17, 2021</td>\n",
       "      <td>Reliance-Industries-Ltd</td>\n",
       "      <td>2021-08-17</td>\n",
       "      <td>2021</td>\n",
       "      <td>August</td>\n",
       "      <td>17</td>\n",
       "    </tr>\n",
       "    <tr>\n",
       "      <th>4</th>\n",
       "      <td>Non productive</td>\n",
       "      <td>Not so fun at work just blame games  Target pe...</td>\n",
       "      <td>https://in.indeed.com/cmp/Reliance-Industries-...</td>\n",
       "      <td>1</td>\n",
       "      <td>(Former Employee)  -   -  August 9, 2021</td>\n",
       "      <td>Reliance-Industries-Ltd</td>\n",
       "      <td>2021-08-09</td>\n",
       "      <td>2021</td>\n",
       "      <td>August</td>\n",
       "      <td>9</td>\n",
       "    </tr>\n",
       "  </tbody>\n",
       "</table>\n",
       "</div>"
      ],
      "text/plain": [
       "                       ReviewTitle  \\\n",
       "0                       Productive   \n",
       "1                        Stressful   \n",
       "2  Good Company for Every employee   \n",
       "3                       Productive   \n",
       "4                   Non productive   \n",
       "\n",
       "                                      CompleteReview  \\\n",
       "0  Good company, cool workplace, work load little...   \n",
       "1  1. Need to work on boss's whims and fancies 2....   \n",
       "2  Good company for every Engineers dream, Full M...   \n",
       "3  I am just pass out bsc in chemistry Typical da...   \n",
       "4  Not so fun at work just blame games  Target pe...   \n",
       "\n",
       "                                                 URL  Rating  \\\n",
       "0  https://in.indeed.com/cmp/Reliance-Industries-...       3   \n",
       "1  https://in.indeed.com/cmp/Reliance-Industries-...       3   \n",
       "2  https://in.indeed.com/cmp/Reliance-Industries-...       5   \n",
       "3  https://in.indeed.com/cmp/Reliance-Industries-...       5   \n",
       "4  https://in.indeed.com/cmp/Reliance-Industries-...       1   \n",
       "\n",
       "                                       ReviewDetails             Company Name  \\\n",
       "0  (Current Employee)  -  Ghansoli  -  August 30,...  Reliance-Industries-Ltd   \n",
       "1          (Former Employee)  -   -  August 26, 2021  Reliance-Industries-Ltd   \n",
       "2          (Former Employee)  -   -  August 17, 2021  Reliance-Industries-Ltd   \n",
       "3         (Current Employee)  -   -  August 17, 2021  Reliance-Industries-Ltd   \n",
       "4           (Former Employee)  -   -  August 9, 2021  Reliance-Industries-Ltd   \n",
       "\n",
       "        Date  Year   Month Day  \n",
       "0 2021-08-30  2021  August  30  \n",
       "1 2021-08-26  2021  August  26  \n",
       "2 2021-08-17  2021  August  17  \n",
       "3 2021-08-17  2021  August  17  \n",
       "4 2021-08-09  2021  August   9  "
      ]
     },
     "execution_count": 32,
     "metadata": {},
     "output_type": "execute_result"
    }
   ],
   "source": [
    "df.head()"
   ]
  },
  {
   "cell_type": "markdown",
   "id": "e0615472",
   "metadata": {
    "id": "e0615472"
   },
   "source": [
    "### Create a `Employee Status` Column"
   ]
  },
  {
   "cell_type": "markdown",
   "id": "105e9648",
   "metadata": {
    "id": "105e9648"
   },
   "source": [
    "Dibentuk kolom baru yaitu `Employee Status` yang memuat status pegawai terhadap perusahaannya saat ia memberikan *review*."
   ]
  },
  {
   "cell_type": "code",
   "execution_count": 33,
   "id": "b289192e",
   "metadata": {
    "ExecuteTime": {
     "end_time": "2021-11-03T04:39:01.896583Z",
     "start_time": "2021-11-03T04:39:01.315220Z"
    },
    "colab": {
     "base_uri": "https://localhost:8080/"
    },
    "id": "b289192e",
    "outputId": "72e83f6b-0a9d-45d1-8487-212e72ffc273"
   },
   "outputs": [
    {
     "data": {
      "text/plain": [
       "array(['(Current Employee)  ', '(Former Employee)  ',\n",
       "       'Training   (Former Employee)  ', 'Officer   (Former Employee)  ',\n",
       "       'Leader   (Current Employee)  ',\n",
       "       'health care   (Current Employee)  ',\n",
       "       'Good team worker   (Former Employee)  ',\n",
       "       'Officer   (Current Employee)  ',\n",
       "       'Sr.G.M.Engineering and projects .   (Former Employee)  ',\n",
       "       'Hospitality   (Former Employee)  ',\n",
       "       'Employee   (Current Employee)  ',\n",
       "       'Employee   (Former Employee)  ', 'Worker   (Former Employee)  ',\n",
       "       'SBI PR outbound    (Current Employee)  ',\n",
       "       'PR in SBI outbound    (Current Employee)  ',\n",
       "       'SBI PR    (Former Employee)  ', 'Senior   (Former Employee)  ',\n",
       "       'Sbi inbound    (Current Employee)  ',\n",
       "       'KOTAK CARD    (Current Employee)  ',\n",
       "       'Marketing   (Current Employee)  ', 'Yes   (Current Employee)  ',\n",
       "       'Kotak cardit card    (Current Employee)  ',\n",
       "       'Kotak cards    (Current Employee)  ',\n",
       "       'OFFICER   (Current Employee)  ',\n",
       "       'Marketing   (Former Employee)  ',\n",
       "       'Ocwen, loan verification process    (Current Employee)  ',\n",
       "       'Accounts   (Former Employee)  ', 'officer   (Former Employee)  ',\n",
       "       'Ocwen process    (Current Employee)  ',\n",
       "       'officer   (Current Employee)  ',\n",
       "       'Communications   (Current Employee)  ',\n",
       "       'N/A   (Former Employee)  ', 'SA   (Current Employee)  ',\n",
       "       'Store   (Former Employee)  ', 'Generalist   (Former Employee)  ',\n",
       "       'part time job   (Current Employee)  ',\n",
       "       'Handle the Corportae clients for Sim activations.   (Former Employee)  ',\n",
       "       'training   (Former Employee)  ', 'TRAINING   (Former Employee)  ',\n",
       "       'Inbound process    (Current Employee)  ',\n",
       "       'excellent    (Current Employee)  ',\n",
       "       'health care   (Former Employee)  ',\n",
       "       'Student   (Former Employee)  ', 'yes   (Current Employee)  ',\n",
       "       'hospitality   (Former Employee)  ',\n",
       "       'Good team worker   (Current Employee)  ',\n",
       "       'New Joining    (Current Employee)  ',\n",
       "       'Customer   (Current Employee)  ',\n",
       "       'Applicant   (Current Employee)  ',\n",
       "       'Scenior Transaction Processing Officer.   (Former Employee)  ',\n",
       "       'Expert   (Former Employee)  ', 'Vitality    (Current Employee)  ',\n",
       "       'any job   (Former Employee)  ', 'Support   (Former Employee)  ',\n",
       "       'Yes bank    (Current Employee)  ',\n",
       "       'senior   (Current Employee)  ',\n",
       "       'contracted employee   (Former Employee)  ',\n",
       "       'Floater   (Current Employee)  ', 'Senior   (Current Employee)  ',\n",
       "       'SENIOR   (Current Employee)  ',\n",
       "       'Service Department   (Current Employee)  ',\n",
       "       'work from home   (Former Employee)  ',\n",
       "       'Resident   (Former Employee)  ',\n",
       "       'Serco BPO Pvt. Ltd.   (Current Employee)  ',\n",
       "       'Trainee, Shared Access Distribution Dept.   (Former Employee)  ',\n",
       "       'anonymous   (Former Employee)  ',\n",
       "       'Health care   (Current Employee)  ',\n",
       "       'https://www.indeed.co.in/   (Former Employee)  ',\n",
       "       'Intership   (Former Employee)  ',\n",
       "       'marketing   (Former Employee)  ',\n",
       "       'customer satisfaction offcier, credit cards    (Former Employee)  ',\n",
       "       'contract employee   (Current Employee)  ',\n",
       "       'employee   (Former Employee)  ',\n",
       "       'Training   (Current Employee)  ',\n",
       "       'During B COM.   (Former Employee)  ',\n",
       "       'Team Worker   (Current Employee)  ',\n",
       "       'Leader   (Former Employee)  ',\n",
       "       'Confidential   (Current Employee)  ',\n",
       "       'Current Employee   (Current Employee)  ',\n",
       "       'Anonymous   (Former Employee)  ',\n",
       "       'Sr.Technician ( Mech).   (Former Employee)  ',\n",
       "       'A.F.S.M.   (Current Employee)  ',\n",
       "       'Migrate the project from iway to software AG.   (Former Employee)  ',\n",
       "       'Head   (Former Employee)  ', 'SA   (Former Employee)  ',\n",
       "       'Administration CCO.   (Former Employee)  ',\n",
       "       'Nokia India Pvt Ltd.,   (Current Employee)  ',\n",
       "       'Job seeker for accountancy and fnance fields.   (Current Employee)  ',\n",
       "       'active member   (Former Employee)  ',\n",
       "       'Anonymous   (Current Employee)  ',\n",
       "       'Expert   (Current Employee)  ',\n",
       "       'Gold loan company.   (Former Employee)  ',\n",
       "       'finance   (Former Employee)  ',\n",
       "       'sr T. P.O.   (Current Employee)  ',\n",
       "       'Member   (Current Employee)  ', 'worker   (Former Employee)  ',\n",
       "       'ANY   (Current Employee)  ',\n",
       "       'AS A CSO IN SBI PROCESS    (Current Employee)  ',\n",
       "       'Contract employee   (Former Employee)  ',\n",
       "       'Specialised Infrastructure Er.   (Current Employee)  ',\n",
       "       'Network   (Current Employee)  ', 'any job   (Current Employee)  ',\n",
       "       'N/A   (Current Employee)  ', 'good work    (Former Employee)  ',\n",
       "       'airtel broad bond,   (Former Employee)  ',\n",
       "       'part time   (Current Employee)  ',\n",
       "       'MARKETING   (Former Employee)  ', 'Project   (Former Employee)  ',\n",
       "       'ACCOUNTS   (Current Employee)  ', 'G.A.   (Former Employee)  ',\n",
       "       'part time job   (Former Employee)  ',\n",
       "       'Lead    (Former Employee)  ',\n",
       "       'work from home   (Current Employee)  ',\n",
       "       'L3 level    (Former Employee)  ',\n",
       "       'ANY JOB   (Current Employee)  ',\n",
       "       'Projects   (Current Employee)  ', 'yes   (Former Employee)  ',\n",
       "       'worker   (Current Employee)  ',\n",
       "       'Contract Employee   (Current Employee)  ',\n",
       "       'Alaknanda Hydro Power Co. Ltd.   (Former Employee)  ',\n",
       "       'Part time   (Former Employee)  ',\n",
       "       'Transaction Processing spc.   (Current Employee)  ',\n",
       "       'Worked for the Bank Procurement and customers across the UK.   (Former Employee)  ',\n",
       "       'Aanlyst    (Current Employee)  ', '.   (Current Employee)  ',\n",
       "       'Accounts   (Current Employee)  ',\n",
       "       'I have experience with Transport.   (Current Employee)  ',\n",
       "       'Sr.Technical Sup.(Rotary/Static Equipt.).   (Former Employee)  ',\n",
       "       'Training new staff   (Current Employee)  ',\n",
       "       'DIA (Digital Interactive Advisor).   (Former Employee)  ',\n",
       "       'enthusiastically doing work taking challenges etc.   (Former Employee)  ',\n",
       "       'Former Employee   (Former Employee)  ',\n",
       "       'Test   (Current Employee)  ',\n",
       "       'Oracle Apps Technical    (Current Employee)  ',\n",
       "       'Work Experience   (Current Employee)  ',\n",
       "       'Service   (Former Employee)  ',\n",
       "       'Technology   (Former Employee)  ', 'Staff   (Former Employee)  ',\n",
       "       'confidential   (Former Employee)  ',\n",
       "       'finance   (Current Employee)  ',\n",
       "       'Contract Employee   (Former Employee)  ',\n",
       "       'Head   (Current Employee)  ', 'OFFICER   (Former Employee)  ',\n",
       "       'Middleware Admin MQ/MB/WAS/   (Current Employee)  ',\n",
       "       'Looking for jobs.   (Former Employee)  ',\n",
       "       'head   (Former Employee)  ',\n",
       "       'claims processing excutive    (Former Employee)  ',\n",
       "       'Accenture Solutions Pvt. Ltd.   (Former Employee)  ',\n",
       "       'scanning   (Former Employee)  ',\n",
       "       'HUB ACCOUNT OPERATION ( FOR 89 DAYS ).   (Former Employee)  ',\n",
       "       'Finance department   (Former Employee)  ',\n",
       "       'coex liab.   (Former Employee)  ',\n",
       "       'Admin Dept.   (Former Employee)  ',\n",
       "       'C.P.A.   (Current Employee)  ',\n",
       "       'Full Time Employee   (Current Employee)  ',\n",
       "       'Project ,Change, Major Incident ,Problem.   (Former Employee)  ',\n",
       "       'acting   (Current Employee)  ',\n",
       "       'Health care   (Former Employee)  ',\n",
       "       'operation    (Current Employee)  ',\n",
       "       'Co. Ex.   (Current Employee)  ',\n",
       "       'it is good co. and i learned many thing .   (Current Employee)  ',\n",
       "       'Center of excellence, Quality.   (Current Employee)  ',\n",
       "       'contract employee   (Former Employee)  ',\n",
       "       'I have resigned my job.   (Former Employee)  ',\n",
       "       'member   (Former Employee)  ',\n",
       "       'Full Time Employee   (Former Employee)  ',\n",
       "       'Juniour SAP Support.   (Current Employee)  ',\n",
       "       'Worked as an CSE in IBM concentrix for One Year.   (Former Employee)  ',\n",
       "       'Regular Employee   (Current Employee)  ',\n",
       "       'any jobs   (Former Employee)  ',\n",
       "       'finance department   (Former Employee)  ',\n",
       "       '3+ years of experience in Java Technologies.   (Current Employee)  ',\n",
       "       'SSE , testing    (Current Employee)  ',\n",
       "       'System Egg.   (Former Employee)  ',\n",
       "       'Senior Telecom Engr.   (Current Employee)  ',\n",
       "       'WORKER   (Current Employee)  ',\n",
       "       'Various Positions   (Current Employee)  ',\n",
       "       'Airline Fares and GDS.   (Current Employee)  ',\n",
       "       'QUALITY   (Former Employee)  ',\n",
       "       'PROGRAMER .........   (Former Employee)  '], dtype=object)"
      ]
     },
     "execution_count": 33,
     "metadata": {},
     "output_type": "execute_result"
    }
   ],
   "source": [
    "df['Employee Status'] = df['ReviewDetails'].str.split('-', expand=True)[0]\n",
    "df['Employee Status'].unique()"
   ]
  },
  {
   "cell_type": "markdown",
   "id": "d0e39bbe",
   "metadata": {
    "id": "d0e39bbe"
   },
   "source": [
    "Dikarenakan pada kolom `Employee Status` memuat banyak nilai data yang beragam, akan dilakukan proses simplifikasi kategori ke dalam dua buah kategori yaitu *Former Employee* dan *Current Employee*."
   ]
  },
  {
   "cell_type": "code",
   "execution_count": 34,
   "id": "d1e2cc9b",
   "metadata": {
    "ExecuteTime": {
     "end_time": "2021-11-03T04:39:04.687426Z",
     "start_time": "2021-11-03T04:39:01.899592Z"
    },
    "id": "d1e2cc9b"
   },
   "outputs": [],
   "source": [
    "def get_status_employee(row_value):\n",
    "    return 'Former Employee' if 'Former Employee' in row_value else 'Current Employee'\n",
    "df['Employee Status'] = df.apply(lambda x: get_status_employee(x['Employee Status']), axis=1)"
   ]
  },
  {
   "cell_type": "code",
   "execution_count": 35,
   "id": "0158862f",
   "metadata": {
    "ExecuteTime": {
     "end_time": "2021-11-03T04:39:04.707486Z",
     "start_time": "2021-11-03T04:39:04.688933Z"
    },
    "colab": {
     "base_uri": "https://localhost:8080/",
     "height": 0
    },
    "id": "0158862f",
    "outputId": "29e6ebad-45eb-4574-f143-0872799fff39"
   },
   "outputs": [
    {
     "data": {
      "text/html": [
       "<div>\n",
       "<style scoped>\n",
       "    .dataframe tbody tr th:only-of-type {\n",
       "        vertical-align: middle;\n",
       "    }\n",
       "\n",
       "    .dataframe tbody tr th {\n",
       "        vertical-align: top;\n",
       "    }\n",
       "\n",
       "    .dataframe thead th {\n",
       "        text-align: right;\n",
       "    }\n",
       "</style>\n",
       "<table border=\"1\" class=\"dataframe\">\n",
       "  <thead>\n",
       "    <tr style=\"text-align: right;\">\n",
       "      <th></th>\n",
       "      <th>ReviewTitle</th>\n",
       "      <th>CompleteReview</th>\n",
       "      <th>URL</th>\n",
       "      <th>Rating</th>\n",
       "      <th>ReviewDetails</th>\n",
       "      <th>Company Name</th>\n",
       "      <th>Date</th>\n",
       "      <th>Year</th>\n",
       "      <th>Month</th>\n",
       "      <th>Day</th>\n",
       "      <th>Employee Status</th>\n",
       "    </tr>\n",
       "  </thead>\n",
       "  <tbody>\n",
       "    <tr>\n",
       "      <th>0</th>\n",
       "      <td>Productive</td>\n",
       "      <td>Good company, cool workplace, work load little...</td>\n",
       "      <td>https://in.indeed.com/cmp/Reliance-Industries-...</td>\n",
       "      <td>3</td>\n",
       "      <td>(Current Employee)  -  Ghansoli  -  August 30,...</td>\n",
       "      <td>Reliance-Industries-Ltd</td>\n",
       "      <td>2021-08-30</td>\n",
       "      <td>2021</td>\n",
       "      <td>August</td>\n",
       "      <td>30</td>\n",
       "      <td>Current Employee</td>\n",
       "    </tr>\n",
       "    <tr>\n",
       "      <th>1</th>\n",
       "      <td>Stressful</td>\n",
       "      <td>1. Need to work on boss's whims and fancies 2....</td>\n",
       "      <td>https://in.indeed.com/cmp/Reliance-Industries-...</td>\n",
       "      <td>3</td>\n",
       "      <td>(Former Employee)  -   -  August 26, 2021</td>\n",
       "      <td>Reliance-Industries-Ltd</td>\n",
       "      <td>2021-08-26</td>\n",
       "      <td>2021</td>\n",
       "      <td>August</td>\n",
       "      <td>26</td>\n",
       "      <td>Former Employee</td>\n",
       "    </tr>\n",
       "    <tr>\n",
       "      <th>2</th>\n",
       "      <td>Good Company for Every employee</td>\n",
       "      <td>Good company for every Engineers dream, Full M...</td>\n",
       "      <td>https://in.indeed.com/cmp/Reliance-Industries-...</td>\n",
       "      <td>5</td>\n",
       "      <td>(Former Employee)  -   -  August 17, 2021</td>\n",
       "      <td>Reliance-Industries-Ltd</td>\n",
       "      <td>2021-08-17</td>\n",
       "      <td>2021</td>\n",
       "      <td>August</td>\n",
       "      <td>17</td>\n",
       "      <td>Former Employee</td>\n",
       "    </tr>\n",
       "    <tr>\n",
       "      <th>3</th>\n",
       "      <td>Productive</td>\n",
       "      <td>I am just pass out bsc in chemistry Typical da...</td>\n",
       "      <td>https://in.indeed.com/cmp/Reliance-Industries-...</td>\n",
       "      <td>5</td>\n",
       "      <td>(Current Employee)  -   -  August 17, 2021</td>\n",
       "      <td>Reliance-Industries-Ltd</td>\n",
       "      <td>2021-08-17</td>\n",
       "      <td>2021</td>\n",
       "      <td>August</td>\n",
       "      <td>17</td>\n",
       "      <td>Current Employee</td>\n",
       "    </tr>\n",
       "    <tr>\n",
       "      <th>4</th>\n",
       "      <td>Non productive</td>\n",
       "      <td>Not so fun at work just blame games  Target pe...</td>\n",
       "      <td>https://in.indeed.com/cmp/Reliance-Industries-...</td>\n",
       "      <td>1</td>\n",
       "      <td>(Former Employee)  -   -  August 9, 2021</td>\n",
       "      <td>Reliance-Industries-Ltd</td>\n",
       "      <td>2021-08-09</td>\n",
       "      <td>2021</td>\n",
       "      <td>August</td>\n",
       "      <td>9</td>\n",
       "      <td>Former Employee</td>\n",
       "    </tr>\n",
       "  </tbody>\n",
       "</table>\n",
       "</div>"
      ],
      "text/plain": [
       "                       ReviewTitle  \\\n",
       "0                       Productive   \n",
       "1                        Stressful   \n",
       "2  Good Company for Every employee   \n",
       "3                       Productive   \n",
       "4                   Non productive   \n",
       "\n",
       "                                      CompleteReview  \\\n",
       "0  Good company, cool workplace, work load little...   \n",
       "1  1. Need to work on boss's whims and fancies 2....   \n",
       "2  Good company for every Engineers dream, Full M...   \n",
       "3  I am just pass out bsc in chemistry Typical da...   \n",
       "4  Not so fun at work just blame games  Target pe...   \n",
       "\n",
       "                                                 URL  Rating  \\\n",
       "0  https://in.indeed.com/cmp/Reliance-Industries-...       3   \n",
       "1  https://in.indeed.com/cmp/Reliance-Industries-...       3   \n",
       "2  https://in.indeed.com/cmp/Reliance-Industries-...       5   \n",
       "3  https://in.indeed.com/cmp/Reliance-Industries-...       5   \n",
       "4  https://in.indeed.com/cmp/Reliance-Industries-...       1   \n",
       "\n",
       "                                       ReviewDetails             Company Name  \\\n",
       "0  (Current Employee)  -  Ghansoli  -  August 30,...  Reliance-Industries-Ltd   \n",
       "1          (Former Employee)  -   -  August 26, 2021  Reliance-Industries-Ltd   \n",
       "2          (Former Employee)  -   -  August 17, 2021  Reliance-Industries-Ltd   \n",
       "3         (Current Employee)  -   -  August 17, 2021  Reliance-Industries-Ltd   \n",
       "4           (Former Employee)  -   -  August 9, 2021  Reliance-Industries-Ltd   \n",
       "\n",
       "        Date  Year   Month Day   Employee Status  \n",
       "0 2021-08-30  2021  August  30  Current Employee  \n",
       "1 2021-08-26  2021  August  26   Former Employee  \n",
       "2 2021-08-17  2021  August  17   Former Employee  \n",
       "3 2021-08-17  2021  August  17  Current Employee  \n",
       "4 2021-08-09  2021  August   9   Former Employee  "
      ]
     },
     "execution_count": 35,
     "metadata": {},
     "output_type": "execute_result"
    }
   ],
   "source": [
    "df.head()"
   ]
  },
  {
   "cell_type": "markdown",
   "id": "645b8933",
   "metadata": {
    "id": "645b8933"
   },
   "source": [
    "## Exploratory Data Analysis"
   ]
  },
  {
   "cell_type": "markdown",
   "id": "c4130c4e",
   "metadata": {
    "id": "c4130c4e"
   },
   "source": [
    "Definisikan beberapa fungsi yang dapat memudahkan dalam membuat plot pada saat mengeksplor data."
   ]
  },
  {
   "cell_type": "code",
   "execution_count": 36,
   "id": "543211d6",
   "metadata": {
    "ExecuteTime": {
     "end_time": "2021-11-03T04:39:04.855348Z",
     "start_time": "2021-11-03T04:39:04.710490Z"
    },
    "id": "543211d6"
   },
   "outputs": [],
   "source": [
    "def make_count_plot(data, xlabel, size_x, size_y):\n",
    "    plt.figure(figsize=(size_x, size_y))\n",
    "    sns.countplot(data)\n",
    "    plt.xlabel(xlabel, fontsize=12)\n",
    "    plt.ylabel('Frequency', fontsize=12)\n",
    "    plt.title(f'Number of Reviews Based on {xlabel}', fontsize=15)\n",
    "    plt.show()\n",
    "\n",
    "def make_count_plot_hue(data, xlabel, size_x, size_y, hue):\n",
    "    plt.figure(figsize=(size_x, size_y))\n",
    "    sns.countplot(data, hue=hue)\n",
    "    plt.xlabel(xlabel, fontsize=12)\n",
    "    plt.ylabel('Frequency', fontsize=12)\n",
    "    plt.title(f'Number of Reviews Based on {xlabel}', fontsize=15)\n",
    "    plt.show()\n",
    "\n",
    "def make_count_plot_order(data, xlabel, size_x, size_y, order):\n",
    "    plt.figure(figsize=(size_x, size_y))\n",
    "    sns.countplot(data, order=order)\n",
    "    plt.xlabel(xlabel, fontsize=12)\n",
    "    plt.ylabel('Frequency', fontsize=12)\n",
    "    plt.title(f'Number of Reviews Based on {xlabel}', fontsize=15)\n",
    "    plt.show()"
   ]
  },
  {
   "cell_type": "markdown",
   "id": "f143c628",
   "metadata": {
    "id": "f143c628"
   },
   "source": [
    "### Status Employee"
   ]
  },
  {
   "cell_type": "code",
   "execution_count": 37,
   "id": "d35692ab",
   "metadata": {
    "ExecuteTime": {
     "end_time": "2021-11-03T04:39:05.762817Z",
     "start_time": "2021-11-03T04:39:04.857356Z"
    },
    "colab": {
     "base_uri": "https://localhost:8080/",
     "height": 0
    },
    "id": "d35692ab",
    "outputId": "b728d390-8d70-427a-b13a-b4083c3783db"
   },
   "outputs": [
    {
     "data": {
      "image/png": "[encoded data removed]",
      "text/plain": [
       "<Figure size 432x432 with 1 Axes>"
      ]
     },
     "metadata": {},
     "output_type": "display_data"
    }
   ],
   "source": [
    "make_count_plot(df['Employee Status'], 'Employee Status', 6, 6)"
   ]
  },
  {
   "cell_type": "code",
   "execution_count": 38,
   "id": "3294e49d",
   "metadata": {
    "ExecuteTime": {
     "end_time": "2021-11-03T04:39:05.915769Z",
     "start_time": "2021-11-03T04:39:05.765324Z"
    },
    "colab": {
     "base_uri": "https://localhost:8080/"
    },
    "id": "3294e49d",
    "outputId": "4bae5e78-b09e-47fc-95b3-11cdbebdfc54"
   },
   "outputs": [
    {
     "name": "stdout",
     "output_type": "stream",
     "text": [
      "Jumlah Review dari Current Employee : 65672\n",
      "Jumlah Review dari Former Employee : 79377\n",
      "\n",
      "Persentase Review dari Current Employee : 45.28%\n",
      "Persentase Review dari Former Employee : 54.72%\n"
     ]
    }
   ],
   "source": [
    "print('Jumlah Review dari Current Employee : {}'.format(sum(df['Employee Status']=='Current Employee')))\n",
    "print('Jumlah Review dari Former Employee : {}'.format(sum(df['Employee Status']=='Former Employee')))\n",
    "print('')\n",
    "print('Persentase Review dari Current Employee : {:.2f}%'.format(sum(df['Employee Status']=='Current Employee')/df.shape[0]*100))\n",
    "print('Persentase Review dari Former Employee : {:.2f}%'.format(sum(df['Employee Status']=='Former Employee')/df.shape[0]*100))"
   ]
  },
  {
   "cell_type": "markdown",
   "id": "6c2cc802",
   "metadata": {
    "id": "6c2cc802"
   },
   "source": [
    "Berdasarkan gambar di atas, terlihat bahwa dari semua *review* yang diberikan oleh pegawai terhadap perusahaannya, jumlah *review* yang diberikan oleh *Former Employee* lebih banyak dibandingkan dengan *Current Employee*."
   ]
  },
  {
   "cell_type": "markdown",
   "id": "39cda917",
   "metadata": {
    "id": "39cda917"
   },
   "source": [
    "### Based on Year"
   ]
  },
  {
   "cell_type": "code",
   "execution_count": 40,
   "id": "8022cf50",
   "metadata": {
    "colab": {
     "base_uri": "https://localhost:8080/",
     "height": 0
    },
    "id": "8022cf50",
    "outputId": "0b67d27e-88b6-41d2-c38d-1ce4fb335ff8"
   },
   "outputs": [
    {
     "data": {
      "image/png": "[encoded data removed]",
      "text/plain": [
       "<Figure size 1152x360 with 1 Axes>"
      ]
     },
     "metadata": {
      "needs_background": "light"
     },
     "output_type": "display_data"
    }
   ],
   "source": [
    "make_count_plot_order(df['Year'], 'Year', 16, 5, valid_year)"
   ]
  },
  {
   "cell_type": "markdown",
   "id": "47086bcc",
   "metadata": {
    "id": "47086bcc"
   },
   "source": [
    "Berdasarkan gambar di atas, terlihat bahwa tahun dengan jumlah *review* terbanyak yang diberikan pegawai terhadap perusahaannya adalah tahun 2017."
   ]
  },
  {
   "cell_type": "markdown",
   "id": "89787633",
   "metadata": {
    "id": "89787633"
   },
   "source": [
    "### Based on Month"
   ]
  },
  {
   "cell_type": "code",
   "execution_count": 41,
   "id": "7aa04970",
   "metadata": {
    "colab": {
     "base_uri": "https://localhost:8080/",
     "height": 0
    },
    "id": "7aa04970",
    "outputId": "73b73664-af70-4673-e493-3b9305ba7266"
   },
   "outputs": [
    {
     "data": {
      "image/png": "[encoded data removed]",
      "text/plain": [
       "<Figure size 1152x360 with 1 Axes>"
      ]
     },
     "metadata": {
      "needs_background": "light"
     },
     "output_type": "display_data"
    }
   ],
   "source": [
    "make_count_plot_order(df['Month'], 'Month', 16, 5, valid_month)"
   ]
  },
  {
   "cell_type": "markdown",
   "id": "04993bb1",
   "metadata": {
    "id": "04993bb1"
   },
   "source": [
    "Berdasarkan gambar di atas, terlihat bahwa bulan dengan jumlah *review* terbanyak yang diberikan pegawai terhadap perusahaannya adalah bulan Maret."
   ]
  },
  {
   "cell_type": "markdown",
   "id": "ff3069e4",
   "metadata": {
    "id": "ff3069e4"
   },
   "source": [
    "### Rating"
   ]
  },
  {
   "cell_type": "code",
   "execution_count": 42,
   "id": "ae5a33da",
   "metadata": {
    "colab": {
     "base_uri": "https://localhost:8080/",
     "height": 0
    },
    "id": "ae5a33da",
    "outputId": "c7d63554-5d86-4593-8d76-ea3a3cab6deb"
   },
   "outputs": [
    {
     "data": {
      "image/png": "[encoded data removed]",
      "text/plain": [
       "<Figure size 1152x360 with 1 Axes>"
      ]
     },
     "metadata": {
      "needs_background": "light"
     },
     "output_type": "display_data"
    }
   ],
   "source": [
    "make_count_plot(df['Rating'], 'Rating', 16, 5)"
   ]
  },
  {
   "cell_type": "markdown",
   "id": "12850c53",
   "metadata": {
    "id": "12850c53"
   },
   "source": [
    "Berdasarkan rating yang diberikan, *rating* dengan jumlah *review* terbanyak adalah 4 kemudian disusul oleh 5. Hal ini menandakan bahwa rata-rata pegawai memberikan nilai rating yang cukup tinggi terhadap perusahannya."
   ]
  },
  {
   "cell_type": "markdown",
   "id": "4479d2e2",
   "metadata": {
    "id": "4479d2e2"
   },
   "source": [
    "### Company Name"
   ]
  },
  {
   "cell_type": "code",
   "execution_count": 43,
   "id": "f3bde8db",
   "metadata": {
    "colab": {
     "base_uri": "https://localhost:8080/",
     "height": 0
    },
    "id": "f3bde8db",
    "outputId": "e0884d9c-b2a6-433b-f6e3-6438f66e2d6a"
   },
   "outputs": [
    {
     "data": {
      "image/png": "[encoded data removed]",
      "text/plain": [
       "<Figure size 1152x360 with 1 Axes>"
      ]
     },
     "metadata": {
      "needs_background": "light"
     },
     "output_type": "display_data"
    }
   ],
   "source": [
    "plt.figure(figsize=(16,5))\n",
    "df_company = df['Company Name'].value_counts().head(10)\n",
    "sns.barplot(x=df_company,\n",
    "            y=df_company.index)\n",
    "plt.xlabel('Frequency', fontsize=12)\n",
    "plt.title('Top 10 Company With The Most Number of Reviews', fontsize=15)\n",
    "plt.show()"
   ]
  },
  {
   "cell_type": "markdown",
   "id": "a2188a67",
   "metadata": {},
   "source": [
    "Berdasarkan gambar di atas, 5 buah perusahaan dengan jumlah *review* terbanyak adalah Tata-Consultancy-Service, IBM, Infosys, Accenture, dan Cognizant Technology Solutions dengan jumlah melebihi 8000 *review*."
   ]
  },
  {
   "cell_type": "markdown",
   "id": "62fe2ce8",
   "metadata": {
    "id": "62fe2ce8"
   },
   "source": [
    "### Rating Based on Employee Status"
   ]
  },
  {
   "cell_type": "code",
   "execution_count": 44,
   "id": "99644d64",
   "metadata": {
    "colab": {
     "base_uri": "https://localhost:8080/",
     "height": 0
    },
    "id": "99644d64",
    "outputId": "19f962c1-2071-491c-9628-37e0561395cf"
   },
   "outputs": [
    {
     "data": {
      "image/png": "[encoded data removed]",
      "text/plain": [
       "<Figure size 1152x360 with 1 Axes>"
      ]
     },
     "metadata": {
      "needs_background": "light"
     },
     "output_type": "display_data"
    }
   ],
   "source": [
    "make_count_plot_hue(df['Rating'], 'Rating', 16, 5, hue=df['Employee Status'])"
   ]
  },
  {
   "cell_type": "markdown",
   "id": "d627ed0b",
   "metadata": {
    "id": "d627ed0b"
   },
   "source": [
    "Berdasarkan gambar di atas, terlihat bahwa untuk pegawai dengan status *Former Employee* memberikan nilai *rating* tinggi lebih banyak dibandingkan dengan pegawai dengan status *Current Employee*."
   ]
  },
  {
   "cell_type": "markdown",
   "id": "092bb801",
   "metadata": {
    "id": "092bb801"
   },
   "source": [
    "## Building Model"
   ]
  },
  {
   "cell_type": "markdown",
   "id": "6476cd97",
   "metadata": {
    "id": "6476cd97"
   },
   "source": [
    "Definisikan target variabel dengan kolom `Category` yang memuat kategori dari *review* yang diberikan pegawai. Untuk *review* dengan nilai rating sebesar 1 atau 2 akan dikelompokkan ke dalam kategori *Negative*, 3 ke dalam kategori *Neutral*, 4 dan 5 ke dalam kategori *Positive*."
   ]
  },
  {
   "cell_type": "code",
   "execution_count": 45,
   "id": "f71bfd3a",
   "metadata": {
    "colab": {
     "base_uri": "https://localhost:8080/",
     "height": 261
    },
    "id": "f71bfd3a",
    "outputId": "542ceb49-d155-4f73-c66e-fcb315a76e8b"
   },
   "outputs": [
    {
     "data": {
      "text/html": [
       "<div>\n",
       "<style scoped>\n",
       "    .dataframe tbody tr th:only-of-type {\n",
       "        vertical-align: middle;\n",
       "    }\n",
       "\n",
       "    .dataframe tbody tr th {\n",
       "        vertical-align: top;\n",
       "    }\n",
       "\n",
       "    .dataframe thead th {\n",
       "        text-align: right;\n",
       "    }\n",
       "</style>\n",
       "<table border=\"1\" class=\"dataframe\">\n",
       "  <thead>\n",
       "    <tr style=\"text-align: right;\">\n",
       "      <th></th>\n",
       "      <th>ReviewTitle</th>\n",
       "      <th>CompleteReview</th>\n",
       "      <th>URL</th>\n",
       "      <th>Rating</th>\n",
       "      <th>ReviewDetails</th>\n",
       "      <th>Company Name</th>\n",
       "      <th>Date</th>\n",
       "      <th>Year</th>\n",
       "      <th>Month</th>\n",
       "      <th>Day</th>\n",
       "      <th>Employee Status</th>\n",
       "      <th>Category</th>\n",
       "    </tr>\n",
       "  </thead>\n",
       "  <tbody>\n",
       "    <tr>\n",
       "      <th>0</th>\n",
       "      <td>Productive</td>\n",
       "      <td>Good company, cool workplace, work load little...</td>\n",
       "      <td>https://in.indeed.com/cmp/Reliance-Industries-...</td>\n",
       "      <td>3</td>\n",
       "      <td>(Current Employee)  -  Ghansoli  -  August 30,...</td>\n",
       "      <td>Reliance-Industries-Ltd</td>\n",
       "      <td>2021-08-30</td>\n",
       "      <td>2021</td>\n",
       "      <td>August</td>\n",
       "      <td>30</td>\n",
       "      <td>Current Employee</td>\n",
       "      <td>Neutral</td>\n",
       "    </tr>\n",
       "    <tr>\n",
       "      <th>1</th>\n",
       "      <td>Stressful</td>\n",
       "      <td>1. Need to work on boss's whims and fancies 2....</td>\n",
       "      <td>https://in.indeed.com/cmp/Reliance-Industries-...</td>\n",
       "      <td>3</td>\n",
       "      <td>(Former Employee)  -   -  August 26, 2021</td>\n",
       "      <td>Reliance-Industries-Ltd</td>\n",
       "      <td>2021-08-26</td>\n",
       "      <td>2021</td>\n",
       "      <td>August</td>\n",
       "      <td>26</td>\n",
       "      <td>Former Employee</td>\n",
       "      <td>Neutral</td>\n",
       "    </tr>\n",
       "    <tr>\n",
       "      <th>2</th>\n",
       "      <td>Good Company for Every employee</td>\n",
       "      <td>Good company for every Engineers dream, Full M...</td>\n",
       "      <td>https://in.indeed.com/cmp/Reliance-Industries-...</td>\n",
       "      <td>5</td>\n",
       "      <td>(Former Employee)  -   -  August 17, 2021</td>\n",
       "      <td>Reliance-Industries-Ltd</td>\n",
       "      <td>2021-08-17</td>\n",
       "      <td>2021</td>\n",
       "      <td>August</td>\n",
       "      <td>17</td>\n",
       "      <td>Former Employee</td>\n",
       "      <td>Positive</td>\n",
       "    </tr>\n",
       "  </tbody>\n",
       "</table>\n",
       "</div>"
      ],
      "text/plain": [
       "                       ReviewTitle  ...  Category\n",
       "0                       Productive  ...   Neutral\n",
       "1                        Stressful  ...   Neutral\n",
       "2  Good Company for Every employee  ...  Positive\n",
       "\n",
       "[3 rows x 12 columns]"
      ]
     },
     "execution_count": 45,
     "metadata": {},
     "output_type": "execute_result"
    }
   ],
   "source": [
    "df['Category'] = df['Rating'].replace({1:'Negative', 2:'Negative', 3:'Neutral', 4:'Positive', 5:'Positive'})\n",
    "df = df.reset_index(drop=True)\n",
    "df.head(3)"
   ]
  },
  {
   "cell_type": "code",
   "execution_count": 46,
   "id": "66c03a93",
   "metadata": {
    "colab": {
     "base_uri": "https://localhost:8080/",
     "height": 412
    },
    "id": "66c03a93",
    "outputId": "0b32dfb0-0d38-4235-9b12-d9c361cb21a3"
   },
   "outputs": [
    {
     "data": {
      "image/png": "[encoded data removed]",
      "text/plain": [
       "<Figure size 432x432 with 1 Axes>"
      ]
     },
     "metadata": {
      "needs_background": "light"
     },
     "output_type": "display_data"
    }
   ],
   "source": [
    "plt.figure(figsize=(6,6))\n",
    "sns.barplot(x=df['Category'].value_counts().index, \n",
    "            y=df['Category'].value_counts())\n",
    "plt.xlabel('Class', fontsize=12)\n",
    "plt.ylabel('Frequency', fontsize=12)\n",
    "plt.title('Number of Reviews based on class', fontsize=15)\n",
    "plt.show()"
   ]
  },
  {
   "cell_type": "markdown",
   "id": "28f7eef7",
   "metadata": {
    "id": "28f7eef7"
   },
   "source": [
    "Berdasarkan gambar di atas, *review* dengan kategori *Positive* adalah *review* dengan jumlah terbanyak dengan total lebih dari 4x lipat dibandingkan *review* dengan kategori *Neutral*. Oleh karena itu, kita akan membangun dua buah jenis model yaitu model tanpa dilakukan proses *upsampling/oversampling* dan model dengan proses *upsampling/oversampling*."
   ]
  },
  {
   "cell_type": "markdown",
   "id": "5e3e92f2",
   "metadata": {
    "id": "5e3e92f2"
   },
   "source": [
    "### Model Without Oversampling"
   ]
  },
  {
   "cell_type": "code",
   "execution_count": 47,
   "id": "599b0587",
   "metadata": {
    "colab": {
     "base_uri": "https://localhost:8080/",
     "height": 142
    },
    "id": "599b0587",
    "outputId": "809ceb6c-10e2-4418-cd3a-7cdfcd9be270"
   },
   "outputs": [
    {
     "data": {
      "text/html": [
       "<div>\n",
       "<style scoped>\n",
       "    .dataframe tbody tr th:only-of-type {\n",
       "        vertical-align: middle;\n",
       "    }\n",
       "\n",
       "    .dataframe tbody tr th {\n",
       "        vertical-align: top;\n",
       "    }\n",
       "\n",
       "    .dataframe thead th {\n",
       "        text-align: right;\n",
       "    }\n",
       "</style>\n",
       "<table border=\"1\" class=\"dataframe\">\n",
       "  <thead>\n",
       "    <tr style=\"text-align: right;\">\n",
       "      <th></th>\n",
       "      <th>CompleteReview</th>\n",
       "      <th>Category</th>\n",
       "    </tr>\n",
       "  </thead>\n",
       "  <tbody>\n",
       "    <tr>\n",
       "      <th>0</th>\n",
       "      <td>Good company, cool workplace, work load little...</td>\n",
       "      <td>Neutral</td>\n",
       "    </tr>\n",
       "    <tr>\n",
       "      <th>1</th>\n",
       "      <td>1. Need to work on boss's whims and fancies 2....</td>\n",
       "      <td>Neutral</td>\n",
       "    </tr>\n",
       "    <tr>\n",
       "      <th>2</th>\n",
       "      <td>Good company for every Engineers dream, Full M...</td>\n",
       "      <td>Positive</td>\n",
       "    </tr>\n",
       "  </tbody>\n",
       "</table>\n",
       "</div>"
      ],
      "text/plain": [
       "                                      CompleteReview  Category\n",
       "0  Good company, cool workplace, work load little...   Neutral\n",
       "1  1. Need to work on boss's whims and fancies 2....   Neutral\n",
       "2  Good company for every Engineers dream, Full M...  Positive"
      ]
     },
     "execution_count": 47,
     "metadata": {},
     "output_type": "execute_result"
    }
   ],
   "source": [
    "df_not_over = df[['CompleteReview', 'Category']].copy()\n",
    "df_not_over.head(3)"
   ]
  },
  {
   "cell_type": "markdown",
   "id": "b7449198",
   "metadata": {
    "id": "b7449198"
   },
   "source": [
    "Saat kita melihat data pada kolom `CompleteReview`, kita melihat bahwa *review* yang diberikan oleh pegawai mengandung unsur seperti angka, tanda baca, dan banyak mengandung *stop word*. Secara umum *stop word* adalah kata umum yang biasanya muncul dalam jumlah yang besar dan dianggap tidak memiliki makna. Adapun contoh *stop word* dalam kamus Bahasa Inggris adalah \"the\", \"a\", \"an\", dan \"in\". Selain membuang angka, tanda baca, dan *stop word*, kita juga perlu melakukan *stemming* pada kalimat yang akan kita olah. *Stemming* adalah salah satu proses untuk menentukan kata dasar dari suatu kata. Misalnya terdapat kata \"likes\", \"liked\", \"likely\", dan \"liking\" yang setelah dilakukan *stemming* akan berubah menjadi kata dasarnya yaitu \"like\". Untuk melakukan itu semua, kita dapat menggunakan 2 buah library yaitu `Regular Expression` dan `NLTK (Natural Language Toolkit)`. Untuk melihat prosesnya, dapat dilihat pada bagian *example*."
   ]
  },
  {
   "cell_type": "markdown",
   "id": "f275e9ed",
   "metadata": {
    "id": "f275e9ed"
   },
   "source": [
    "**Example**"
   ]
  },
  {
   "cell_type": "markdown",
   "id": "1b71b86b",
   "metadata": {
    "id": "1b71b86b"
   },
   "source": [
    "Pertama akan dibangun sebuah objek `example` yang menyimpan *review* pada baris kedua."
   ]
  },
  {
   "cell_type": "code",
   "execution_count": 48,
   "id": "e02ad1ff",
   "metadata": {
    "colab": {
     "base_uri": "https://localhost:8080/",
     "height": 69
    },
    "id": "e02ad1ff",
    "outputId": "de7d042e-c6b5-4d53-dc09-b1c8aedc791f"
   },
   "outputs": [
    {
     "data": {
      "application/vnd.google.colaboratory.intrinsic+json": {
       "type": "string"
      },
      "text/plain": [
       "\"1. Need to work on boss's whims and fancies 2. Priorities keep changing 3. No regards for work life balance 4. Completing the work before time is stressed too much than completing it well. Involves lots of reworking, blame games; etc. 5. No job boundaries, you will be asked to do any work depending on the requirements.\""
      ]
     },
     "execution_count": 48,
     "metadata": {},
     "output_type": "execute_result"
    }
   ],
   "source": [
    "example = df_not_over['CompleteReview'].copy()[1]\n",
    "example"
   ]
  },
  {
   "cell_type": "markdown",
   "id": "ee229f0c",
   "metadata": {
    "id": "ee229f0c"
   },
   "source": [
    "Untuk melakukan proses *stemming* dan membuat daftar *stop word*, dapat digunakan `PorterStemmer()` untuk melakukan *stem* dan mendownload daftar *stop word* untuk Bahasa Inggris menggunakan `stopwords.words('english')`."
   ]
  },
  {
   "cell_type": "code",
   "execution_count": 49,
   "id": "271901db",
   "metadata": {
    "id": "271901db"
   },
   "outputs": [],
   "source": [
    "ps = PorterStemmer()\n",
    "stop_en = stopwords.words('english')"
   ]
  },
  {
   "cell_type": "markdown",
   "id": "1b9af936",
   "metadata": {
    "id": "1b9af936"
   },
   "source": [
    "Untuk membuang angka dan tanda baca dapat digunakan `re.sub()` dan dilakukan proses *chaining* dengan method `lower()` untuk mengubah seluruh huruf menjadi *lower case* dan method `split()` untuk memisahkan kata."
   ]
  },
  {
   "cell_type": "code",
   "execution_count": 50,
   "id": "0a617365",
   "metadata": {
    "colab": {
     "base_uri": "https://localhost:8080/"
    },
    "id": "0a617365",
    "outputId": "bce3955c-306c-47e0-99e3-eeade5042c14"
   },
   "outputs": [
    {
     "data": {
      "text/plain": [
       "['need', 'to', 'work', 'on', 'boss']"
      ]
     },
     "execution_count": 50,
     "metadata": {},
     "output_type": "execute_result"
    }
   ],
   "source": [
    "text_process = re.sub('[^a-zA-Z]', ' ', example).lower().split()\n",
    "text_process[:5]"
   ]
  },
  {
   "cell_type": "markdown",
   "id": "4c59f6c8",
   "metadata": {
    "id": "4c59f6c8"
   },
   "source": [
    "Setelah itu dapat dilakukan pengecekan untuk tiap kata apakah termasuk ke dalam daftar *stop word* atau tidak."
   ]
  },
  {
   "cell_type": "code",
   "execution_count": 51,
   "id": "5aea31cf",
   "metadata": {
    "colab": {
     "base_uri": "https://localhost:8080/"
    },
    "id": "5aea31cf",
    "outputId": "e2e93251-1fdd-4f8d-e274-3d9d019dd04e"
   },
   "outputs": [
    {
     "data": {
      "text/plain": [
       "['need', 'work', 'boss', 'whims', 'fancies']"
      ]
     },
     "execution_count": 51,
     "metadata": {},
     "output_type": "execute_result"
    }
   ],
   "source": [
    "text_process = [word for word in text_process if not word in stop_en]\n",
    "text_process[:5]"
   ]
  },
  {
   "cell_type": "markdown",
   "id": "42b99bd3",
   "metadata": {
    "id": "42b99bd3"
   },
   "source": [
    "Setelah itu dapat dilakukan proses *stemming* untuk tiap kata yang ada."
   ]
  },
  {
   "cell_type": "code",
   "execution_count": 52,
   "id": "45f5736e",
   "metadata": {
    "colab": {
     "base_uri": "https://localhost:8080/"
    },
    "id": "45f5736e",
    "outputId": "405ace05-18eb-4c59-f4d5-38db1a03a168"
   },
   "outputs": [
    {
     "data": {
      "text/plain": [
       "['need', 'work', 'boss', 'whim', 'fanci']"
      ]
     },
     "execution_count": 52,
     "metadata": {},
     "output_type": "execute_result"
    }
   ],
   "source": [
    "text_process = [ps.stem(word) for word in text_process]\n",
    "text_process[:5]"
   ]
  },
  {
   "cell_type": "code",
   "execution_count": 53,
   "id": "605fdf48",
   "metadata": {
    "colab": {
     "base_uri": "https://localhost:8080/",
     "height": 52
    },
    "id": "605fdf48",
    "outputId": "7c8df655-daa9-4d0f-c934-d184c25df37e"
   },
   "outputs": [
    {
     "data": {
      "application/vnd.google.colaboratory.intrinsic+json": {
       "type": "string"
      },
      "text/plain": [
       "'need work boss whim fanci prioriti keep chang regard work life balanc complet work time stress much complet well involv lot rework blame game etc job boundari ask work depend requir '"
      ]
     },
     "execution_count": 53,
     "metadata": {},
     "output_type": "execute_result"
    }
   ],
   "source": [
    "combined = ''\n",
    "for text in text_process:\n",
    "    combined = combined + text + ' '\n",
    "combined"
   ]
  },
  {
   "cell_type": "markdown",
   "id": "db256ff0",
   "metadata": {
    "id": "db256ff0"
   },
   "source": [
    "Terlihat setelah dilakukan proses di atas, kalimat *review* pada baris kedua telah berubah."
   ]
  },
  {
   "cell_type": "markdown",
   "id": "3719f846",
   "metadata": {
    "id": "3719f846"
   },
   "source": [
    "**Create Function for Text Processing**"
   ]
  },
  {
   "cell_type": "markdown",
   "id": "4601c2f9",
   "metadata": {
    "id": "4601c2f9"
   },
   "source": [
    "Setelah kita melihat pada data, akan dibangun dua buah tipe untuk model tanpa proses *oversampling* dan model dengan proses *oversampling*. Pertama adalah model tanpa dilakukan penghapusan *stopwords* dan kedua model dengan dilakukan penghapusan *stopwords*. Hal ini dikarenakan penghapusan beberapa *stopwords* seperti '*no*' dapat merubah makna dari suatu *review* yang sebelumnya bernilai *negative* menjadi *positive*. Definisikan fungsi `text_preprocessing_withstop` untuk melakukan *processing* pada teks dengan penghapusan *stopwords* dan fungsi `text_preprocessing` untuk melakukan *preprocessing* pada teks tanpa penghapusan *stopwords*."
   ]
  },
  {
   "cell_type": "code",
   "execution_count": 54,
   "id": "937c0fd7",
   "metadata": {
    "id": "937c0fd7"
   },
   "outputs": [],
   "source": [
    "def text_preprocessing_withstop(texts):\n",
    "    text_list = []\n",
    "    for i in range(len(texts)):\n",
    "        text_process = re.sub('[^a-zA-Z]', ' ', texts[i]).lower().split()\n",
    "        text_process = [word for word in text_process if not word in stop_en]\n",
    "        text_process = [ps.stem(word) for word in text_process]\n",
    "        combined = ''\n",
    "        for text in text_process:\n",
    "            combined = combined + text + ' '\n",
    "        text_list.append(combined)\n",
    "    return text_list"
   ]
  },
  {
   "cell_type": "code",
   "execution_count": 55,
   "id": "cfe536af",
   "metadata": {
    "id": "cfe536af"
   },
   "outputs": [],
   "source": [
    "def text_preprocessing(texts):\n",
    "    text_list = []\n",
    "    for i in range(len(texts)):\n",
    "        text_process = re.sub('[^a-zA-Z]', ' ', texts[i]).lower().split()\n",
    "        text_process = [ps.stem(word) for word in text_process]\n",
    "        combined = ''\n",
    "        for text in text_process:\n",
    "            combined = combined + text + ' '\n",
    "        text_list.append(combined)\n",
    "    return text_list"
   ]
  },
  {
   "cell_type": "code",
   "execution_count": 56,
   "id": "5cc16a18",
   "metadata": {
    "id": "5cc16a18"
   },
   "outputs": [],
   "source": [
    "review = df_not_over['CompleteReview']\n",
    "target = df_not_over['Category']"
   ]
  },
  {
   "cell_type": "code",
   "execution_count": 57,
   "id": "72cdc895",
   "metadata": {
    "id": "72cdc895"
   },
   "outputs": [],
   "source": [
    "review_without_stopword = text_preprocessing(review)\n",
    "review_with_stopword = text_preprocessing_withstop(review)"
   ]
  },
  {
   "cell_type": "markdown",
   "id": "7b3d6875",
   "metadata": {
    "id": "7b3d6875"
   },
   "source": [
    "Definisikan fungsi untuk menggabungkan semua list menjadi satu."
   ]
  },
  {
   "cell_type": "code",
   "execution_count": 58,
   "id": "c8a35a0f",
   "metadata": {
    "id": "c8a35a0f"
   },
   "outputs": [],
   "source": [
    "def combine_list(list_text):\n",
    "    all_list = []\n",
    "    for i in range(len(list_text)):\n",
    "        all_list += list_text[i].split()\n",
    "    return all_list"
   ]
  },
  {
   "cell_type": "markdown",
   "id": "be97e037",
   "metadata": {
    "id": "be97e037"
   },
   "source": [
    "#### Model Without Oversampling (Without Removing Stopword)"
   ]
  },
  {
   "cell_type": "markdown",
   "id": "2c04eec3",
   "metadata": {
    "id": "2c04eec3"
   },
   "source": [
    "Bangun model pertama tanpa melakukan proses oversamping dan tanpa menghapus *stopwords*."
   ]
  },
  {
   "cell_type": "markdown",
   "id": "83ca0627",
   "metadata": {
    "id": "83ca0627"
   },
   "source": [
    "**Split into Train and Test Data**"
   ]
  },
  {
   "cell_type": "markdown",
   "id": "d9ad3159",
   "metadata": {
    "id": "d9ad3159"
   },
   "source": [
    "Sebelum membangun model, akan dibagi dataset kita ke dalam *train data* dan *test data* dengan proporsi *train data* sebanyak 80% dan *test data* sebanyak 20%."
   ]
  },
  {
   "cell_type": "code",
   "execution_count": 59,
   "id": "54616a2f",
   "metadata": {
    "id": "54616a2f"
   },
   "outputs": [],
   "source": [
    "X_train_1, X_test_1, y_train_1, y_test_1 = train_test_split(review_without_stopword, \n",
    "                                                            target, \n",
    "                                                            test_size=0.2, \n",
    "                                                            random_state=0)"
   ]
  },
  {
   "cell_type": "markdown",
   "id": "aa24c224",
   "metadata": {},
   "source": [
    "Lakukan proses *One Hot Encoding* pada *target* variabel."
   ]
  },
  {
   "cell_type": "code",
   "execution_count": 60,
   "id": "720c530d",
   "metadata": {
    "id": "720c530d"
   },
   "outputs": [],
   "source": [
    "ohe = OneHotEncoder(sparse=False, handle_unknown='ignore')\n",
    "y_train_1 = ohe.fit_transform(pd.DataFrame(y_train_1))\n",
    "y_test_1 = ohe.transform(pd.DataFrame(y_test_1))"
   ]
  },
  {
   "cell_type": "markdown",
   "id": "433f0c7b",
   "metadata": {
    "id": "433f0c7b"
   },
   "source": [
    "Setelah membagi dataset ke dalam *train data* dan *test data*, definisikan objek `tokenizer` yang akan melakukan proses *Tokenizer* atau tokenisasi. Tokenisasi adalah proses pemisahan kata dari sebuah teks untuk kemudian dianalisa lebih lanjut. Tokenisasi diperlukan untuk menghindari kompleksitas langsung dari teks asal dan sebagai salah satu cara untuk merubah *unstructured* data menjadi terstruktur. Dalam *class* `Tokenizer` akan menerima parameter `num_words` yang merupakan jumlah maksimum kata yang akan diubah menjadi token atau bilangan numerik. Selain parameter `num_words`, terdapat juga parameter `oov_token` yang akan mengganti kata-kata yang tidak dilakukan proses tokenisasi. Dalam praktiknya, tentunya akan lebih baik untuk mengganti kata yang tidak dikenakan proses tokenisasi dengan suatu kata tertentu dibandingkan melewatkannya."
   ]
  },
  {
   "cell_type": "markdown",
   "id": "bc197f77",
   "metadata": {
    "id": "bc197f77"
   },
   "source": [
    "Setelah dilakukan pendefinisian tokenisasi, perlu dilakukan method `.fit_on_texts()` untuk melakukan tokenisasi pada objek `tokenizer` dan teks sebagai argumennya. Selanjutnya dapat digunakan `texts_to_sequences()` untuk mengubah teks sebelumnya ke dalam bentuk *sequence*. Setelah mengubah ke dalam bentuk *sequence*, tentunya setiap baris pada teks akan mempunyai panjang yang berbeda. Dalam mengatasi hal ini, perlu dilakukan proses *padding* agar panjang setiap kalimat pada teks mempunyai panjang yang sama. Untuk melakukan *padding*, dapat digunakan `pad_sequence()`."
   ]
  },
  {
   "cell_type": "markdown",
   "id": "8bec555b",
   "metadata": {
    "id": "8bec555b"
   },
   "source": [
    "Permasalahan yang muncul adalah, bagaimana cara kita untuk menentukan parameter `num_words` pada `Tokenizer` yang efektif ?. Untuk itu kita perlu melihat frekuensi dari tiap kata yang muncul pada *review* kita."
   ]
  },
  {
   "cell_type": "code",
   "execution_count": 61,
   "id": "b8b0babb",
   "metadata": {
    "colab": {
     "base_uri": "https://localhost:8080/",
     "height": 204
    },
    "id": "b8b0babb",
    "outputId": "0f58e826-bb20-454e-ccbc-dddcfed95ed1"
   },
   "outputs": [
    {
     "data": {
      "text/html": [
       "<div>\n",
       "<style scoped>\n",
       "    .dataframe tbody tr th:only-of-type {\n",
       "        vertical-align: middle;\n",
       "    }\n",
       "\n",
       "    .dataframe tbody tr th {\n",
       "        vertical-align: top;\n",
       "    }\n",
       "\n",
       "    .dataframe thead th {\n",
       "        text-align: right;\n",
       "    }\n",
       "</style>\n",
       "<table border=\"1\" class=\"dataframe\">\n",
       "  <thead>\n",
       "    <tr style=\"text-align: right;\">\n",
       "      <th></th>\n",
       "      <th>Word</th>\n",
       "      <th>Frequency</th>\n",
       "    </tr>\n",
       "  </thead>\n",
       "  <tbody>\n",
       "    <tr>\n",
       "      <th>0</th>\n",
       "      <td>good</td>\n",
       "      <td>117869</td>\n",
       "    </tr>\n",
       "    <tr>\n",
       "      <th>1</th>\n",
       "      <td>compani</td>\n",
       "      <td>51987</td>\n",
       "    </tr>\n",
       "    <tr>\n",
       "      <th>2</th>\n",
       "      <td>cool</td>\n",
       "      <td>1031</td>\n",
       "    </tr>\n",
       "    <tr>\n",
       "      <th>3</th>\n",
       "      <td>workplac</td>\n",
       "      <td>6234</td>\n",
       "    </tr>\n",
       "    <tr>\n",
       "      <th>4</th>\n",
       "      <td>work</td>\n",
       "      <td>183478</td>\n",
       "    </tr>\n",
       "  </tbody>\n",
       "</table>\n",
       "</div>"
      ],
      "text/plain": [
       "       Word  Frequency\n",
       "0      good     117869\n",
       "1   compani      51987\n",
       "2      cool       1031\n",
       "3  workplac       6234\n",
       "4      work     183478"
      ]
     },
     "execution_count": 61,
     "metadata": {},
     "output_type": "execute_result"
    }
   ],
   "source": [
    "list_without_stopword = combine_list(review_without_stopword)\n",
    "count_dict_without_stopword = collections.Counter(list_without_stopword)\n",
    "count_freq_without_stopword = pd.DataFrame.from_dict(\n",
    "    count_dict_without_stopword, orient='index').reset_index().rename(\n",
    "    columns={'index':'Word', 0:'Frequency'}\n",
    ")\n",
    "count_freq_without_stopword.head()"
   ]
  },
  {
   "cell_type": "code",
   "execution_count": 62,
   "id": "fb95a1f8",
   "metadata": {
    "colab": {
     "base_uri": "https://localhost:8080/",
     "height": 357
    },
    "id": "fb95a1f8",
    "outputId": "d8711a89-4768-4ea5-dfe5-cfcbef892ced"
   },
   "outputs": [
    {
     "data": {
      "image/png": "[encoded data removed]",
      "text/plain": [
       "<Figure size 1152x360 with 1 Axes>"
      ]
     },
     "metadata": {
      "needs_background": "light"
     },
     "output_type": "display_data"
    }
   ],
   "source": [
    "plt.figure(figsize=(16,5))\n",
    "top_15_word_1 = count_freq_without_stopword.sort_values(by='Frequency', ascending=False).head(15)\n",
    "sns.barplot(y=top_15_word_1['Word'],\n",
    "            x=top_15_word_1['Frequency'],\n",
    "            color=\"b\")\n",
    "plt.xlabel('Frequency', fontsize=12)\n",
    "plt.title('Top 15 Common Words in Review Without Oversampling (Without Removing Stopword)', fontsize=15)\n",
    "plt.show()"
   ]
  },
  {
   "cell_type": "markdown",
   "id": "443b44a4",
   "metadata": {
    "id": "443b44a4"
   },
   "source": [
    "Berdasarkan gambar di atas, untuk 15 kata dengan frekuensi kemunculan tertinggi masih didominasi oleh *stopwords*. Terlihat bahwa kata *and* dan *to* adalah dua kata dengan jumlah frekuensi terbanyak. Selanjutnya, kita akan melihat jumlah kata yang memiliki frekuensi kemunculan lebih dari 10."
   ]
  },
  {
   "cell_type": "code",
   "execution_count": 63,
   "id": "078b6f68",
   "metadata": {
    "colab": {
     "base_uri": "https://localhost:8080/"
    },
    "id": "078b6f68",
    "outputId": "1060c087-4159-4bf6-9ba4-b2c61ea3b79d"
   },
   "outputs": [
    {
     "name": "stdout",
     "output_type": "stream",
     "text": [
      "Jumlah kata dengan frekuensi kemunculan lebih dari 10 : 5614\n"
     ]
    }
   ],
   "source": [
    "number_words_1 = len(count_freq_without_stopword[count_freq_without_stopword['Frequency']>10])\n",
    "print('Jumlah kata dengan frekuensi kemunculan lebih dari 10 :', number_words_1)"
   ]
  },
  {
   "cell_type": "markdown",
   "id": "4e843bb7",
   "metadata": {
    "id": "4e843bb7"
   },
   "source": [
    "Terdapat 5614 kata dengan jumlah frekuensi kemunculan lebih dari 10. Oleh karena itu, akan kita berikan nilai parameter `num_words` pada model pertama sebesar 5614."
   ]
  },
  {
   "cell_type": "markdown",
   "id": "a74f48ab",
   "metadata": {
    "id": "a74f48ab"
   },
   "source": [
    "**Tokenizer**"
   ]
  },
  {
   "cell_type": "code",
   "execution_count": 64,
   "id": "4610c34e",
   "metadata": {
    "id": "4610c34e"
   },
   "outputs": [],
   "source": [
    "tokenizer_1 = Tokenizer(num_words=number_words_1, oov_token='-')\n",
    "tokenizer_1.fit_on_texts(X_train_1)\n",
    "\n",
    "sequence_train_1 = tokenizer_1.texts_to_sequences(X_train_1)\n",
    "sequence_test_1 = tokenizer_1.texts_to_sequences(X_test_1)\n",
    "\n",
    "pad_train_1 = pad_sequences(sequence_train_1)\n",
    "pad_test_1 = pad_sequences(sequence_test_1)"
   ]
  },
  {
   "cell_type": "markdown",
   "id": "a89981c2",
   "metadata": {
    "id": "a89981c2"
   },
   "source": [
    "**Create Sequential Model**"
   ]
  },
  {
   "cell_type": "markdown",
   "id": "0002e102",
   "metadata": {
    "id": "0002e102"
   },
   "source": [
    "Definisikan arsitektur *neural network* yang akan kita gunakan sebagai model *sequential*. Pada klasifikasi teks, hal yang paling utama adalah melakukan proses *embedding*. *Embedding* memungkinkan model memahami makna yang terkandung pada setiap kata dan akan mengelompokkan kata yang memiliki makna yang mirip. Pengelompokkan ini dilakukan dengan memetakan setiap kata ke dalam sebuah vektor dan untuk kata yang memiliki makna yang berdekatan akan memiliki nilai vektor yang mirip. Dalam `Embedding()` dapat diberikan parameter `input_dim` berupa total kata yang dilakukan proses tokenisasi dan `output_dim` berupa dimensi *embedding* yang diinginkan."
   ]
  },
  {
   "cell_type": "markdown",
   "id": "b599f37f",
   "metadata": {
    "id": "b599f37f"
   },
   "source": [
    "Selain melakukan proses *embedding* untuk mengelompokkan kata yang memiliki makna yang mirip, model yang ada belum bisa memahami sebuah kalimat berdasarkan kata-katanya saja. Beberapa kalimat seperti \"Saya suka belajar *Machine Learning*\" dan \"Saya tidak suka belajar *Machine Learning*\" akan mempunyai kata-kata yang mirip namun mempunyai makna yang berlawanan. Oleh karena itu, urutan dari suatu kata dapat memengaruhi makna yang ada dalam suatu kalimat. LSTM atau *Long Short Term Memory* adalah salah satu dari jenis *Recurrent Neural Network (RNN)* dan dilakukan modifikasi untuk menambahkan *memory cell* yang dapat menyimpan informasi dalam waktu yang lama. Proses ini adalah cara yang digunakan untuk mengenali makna dari suatu kalimat berdasarkan urutan kata pada kalimat kita. Penempatan *layer* LSTM dapat dilakukan setelah *layer embedding* dan sebelum *layer dense*. Pada *layer dense* kita akan menggunakan fungsi aktivasi *relu* dan pada *layer output* akan berisi 3 unit yang mewakilkan jumlah kelas pada klasifikasi teks kita berupa *Negative*, *Neutral*, dan *Positive* dengan fungsi aktivasi *softmax* yang akan mengembalikan nilai peluang dari ketiga kelas tersebut."
   ]
  },
  {
   "cell_type": "code",
   "execution_count": 65,
   "id": "371f6eef",
   "metadata": {
    "id": "371f6eef"
   },
   "outputs": [],
   "source": [
    "model_1 = tf.keras.models.Sequential([\n",
    "    tf.keras.layers.Embedding(input_dim=number_words_1, output_dim=64),\n",
    "    tf.keras.layers.Dropout(0.4),\n",
    "    tf.keras.layers.LSTM(64),\n",
    "    tf.keras.layers.Dropout(0.3),\n",
    "    tf.keras.layers.Dense(64, activation='relu'),\n",
    "    tf.keras.layers.Dropout(0.2),\n",
    "    tf.keras.layers.Dense(64, activation='relu'),\n",
    "    tf.keras.layers.Dense(3, activation='softmax')\n",
    "])"
   ]
  },
  {
   "cell_type": "code",
   "execution_count": 66,
   "id": "3cf936bd",
   "metadata": {
    "colab": {
     "base_uri": "https://localhost:8080/"
    },
    "id": "3cf936bd",
    "outputId": "13412364-6539-4755-a7f7-462c1f063e0e"
   },
   "outputs": [
    {
     "name": "stdout",
     "output_type": "stream",
     "text": [
      "Model: \"sequential\"\n",
      "_________________________________________________________________\n",
      "Layer (type)                 Output Shape              Param #   \n",
      "=================================================================\n",
      "embedding (Embedding)        (None, None, 64)          359296    \n",
      "_________________________________________________________________\n",
      "dropout (Dropout)            (None, None, 64)          0         \n",
      "_________________________________________________________________\n",
      "lstm (LSTM)                  (None, 64)                33024     \n",
      "_________________________________________________________________\n",
      "dropout_1 (Dropout)          (None, 64)                0         \n",
      "_________________________________________________________________\n",
      "dense (Dense)                (None, 64)                4160      \n",
      "_________________________________________________________________\n",
      "dropout_2 (Dropout)          (None, 64)                0         \n",
      "_________________________________________________________________\n",
      "dense_1 (Dense)              (None, 64)                4160      \n",
      "_________________________________________________________________\n",
      "dense_2 (Dense)              (None, 3)                 195       \n",
      "=================================================================\n",
      "Total params: 400,835\n",
      "Trainable params: 400,835\n",
      "Non-trainable params: 0\n",
      "_________________________________________________________________\n"
     ]
    }
   ],
   "source": [
    "model_1.summary()"
   ]
  },
  {
   "cell_type": "markdown",
   "id": "386b01fa",
   "metadata": {
    "id": "386b01fa"
   },
   "source": [
    "Pada proses `.compile()`, digunakan *optimizer* berupa `Adam`, dengan *loss function* berupa *categorical_crossentropy* dikarenakan kelas yang kita miliki lebih dari dua, dan penggunaaan *metrics* berupa *accuracy* untuk melihat seberapa baik model kita melakukan klasifikasi pada teks."
   ]
  },
  {
   "cell_type": "code",
   "execution_count": 67,
   "id": "fLr2oMa1uMl8",
   "metadata": {
    "id": "fLr2oMa1uMl8"
   },
   "outputs": [],
   "source": [
    "model_1.compile(\n",
    "    optimizer='Adam',\n",
    "    loss = 'categorical_crossentropy',\n",
    "    metrics = ['accuracy']\n",
    ")"
   ]
  },
  {
   "cell_type": "markdown",
   "id": "6ac65b57",
   "metadata": {
    "id": "6ac65b57"
   },
   "source": [
    "Lakukan `.fit()` untuk melakukan proses training pada model. Definisikan parameter `epochs` sebanyak 10 dan `batch_size` sebesar 32."
   ]
  },
  {
   "cell_type": "code",
   "execution_count": 68,
   "id": "t6c6npjsue-L",
   "metadata": {
    "colab": {
     "base_uri": "https://localhost:8080/"
    },
    "id": "t6c6npjsue-L",
    "outputId": "61f06b3d-0930-4097-f506-432ba0046e28"
   },
   "outputs": [
    {
     "name": "stdout",
     "output_type": "stream",
     "text": [
      "Epoch 1/10\n",
      "3627/3627 [==============================] - 279s 75ms/step - loss: 0.5933 - accuracy: 0.7734 - val_loss: 0.5755 - val_accuracy: 0.7781\n",
      "Epoch 2/10\n",
      "3627/3627 [==============================] - 269s 74ms/step - loss: 0.5619 - accuracy: 0.7822 - val_loss: 0.5719 - val_accuracy: 0.7797\n",
      "Epoch 3/10\n",
      "3627/3627 [==============================] - 269s 74ms/step - loss: 0.5483 - accuracy: 0.7858 - val_loss: 0.5697 - val_accuracy: 0.7815\n",
      "Epoch 4/10\n",
      "3627/3627 [==============================] - 269s 74ms/step - loss: 0.5377 - accuracy: 0.7909 - val_loss: 0.5746 - val_accuracy: 0.7720\n",
      "Epoch 5/10\n",
      "3627/3627 [==============================] - 268s 74ms/step - loss: 0.5265 - accuracy: 0.7949 - val_loss: 0.5692 - val_accuracy: 0.7821\n",
      "Epoch 6/10\n",
      "3627/3627 [==============================] - 268s 74ms/step - loss: 0.5178 - accuracy: 0.7985 - val_loss: 0.5725 - val_accuracy: 0.7804\n",
      "Epoch 7/10\n",
      "3627/3627 [==============================] - 267s 74ms/step - loss: 0.5078 - accuracy: 0.8016 - val_loss: 0.5792 - val_accuracy: 0.7801\n",
      "Epoch 8/10\n",
      "3627/3627 [==============================] - 269s 74ms/step - loss: 0.5000 - accuracy: 0.8041 - val_loss: 0.5944 - val_accuracy: 0.7696\n",
      "Epoch 9/10\n",
      "3627/3627 [==============================] - 270s 74ms/step - loss: 0.4901 - accuracy: 0.8079 - val_loss: 0.5999 - val_accuracy: 0.7795\n",
      "Epoch 10/10\n",
      "3627/3627 [==============================] - 269s 74ms/step - loss: 0.4818 - accuracy: 0.8114 - val_loss: 0.5991 - val_accuracy: 0.7740\n"
     ]
    }
   ],
   "source": [
    "history_1 = model_1.fit(\n",
    "    pad_train_1,\n",
    "    y_train_1,\n",
    "    epochs = 10,\n",
    "    batch_size = 32,\n",
    "    validation_data = (pad_test_1, y_test_1),\n",
    "    verbose = 1\n",
    ")"
   ]
  },
  {
   "cell_type": "markdown",
   "id": "010e0272",
   "metadata": {
    "id": "010e0272"
   },
   "source": [
    "Simpan model pertama ke dalam `Model Without Oversampling (Without Stopwords).h5`."
   ]
  },
  {
   "cell_type": "code",
   "execution_count": 69,
   "id": "_8AQMubwwSXy",
   "metadata": {
    "id": "_8AQMubwwSXy"
   },
   "outputs": [],
   "source": [
    "model_1.save('Model Without Oversampling (Without Removing Stopwords).h5')"
   ]
  },
  {
   "cell_type": "markdown",
   "id": "v65HenJ-uliE",
   "metadata": {
    "id": "v65HenJ-uliE"
   },
   "source": [
    "**Plot Accuracy and Loss Function**"
   ]
  },
  {
   "cell_type": "markdown",
   "id": "a1166c45",
   "metadata": {
    "id": "a1166c45"
   },
   "source": [
    "Definisikan fungsi untuk melakukan plot *accuracy* dan *loss* dari model yang telah dilakukan proses *training*."
   ]
  },
  {
   "cell_type": "code",
   "execution_count": 70,
   "id": "JNpLkUXBuqnM",
   "metadata": {
    "id": "JNpLkUXBuqnM"
   },
   "outputs": [],
   "source": [
    "def plot_accuracy(history):\n",
    "    plt.figure(figsize=(18,5))\n",
    "    acc = history.history['accuracy']\n",
    "    val_acc = history.history['val_accuracy']\n",
    "    epochs = range(len(acc))\n",
    "    plot_acc = plt.plot(epochs, acc, 'red', label='Training Accuracy')\n",
    "    plot_val_acc = plt.plot(epochs, val_acc, 'blue', label='Validation Accuracy')\n",
    "    plt.xlabel('Epoch', fontsize=15)\n",
    "    plt.ylabel('Accuracy', fontsize=15)\n",
    "    plt.title('Training and Validation Accuracy', fontsize=25)\n",
    "    plt.legend(bbox_to_anchor=(1,1), loc='best')\n",
    "    plt.grid()\n",
    "    plt.show()\n",
    "\n",
    "def plot_loss(history):\n",
    "    plt.figure(figsize=(18,5))\n",
    "    loss = history.history['loss']\n",
    "    val_loss = history.history['val_loss']\n",
    "    epochs = range(len(loss))\n",
    "    plot_loss = plt.plot(epochs, loss, 'red', label='Training Loss')\n",
    "    plot_val_loss = plt.plot(epochs, val_loss, 'blue', label='Validation Loss')\n",
    "    plt.xlabel('Epoch', fontsize=15)\n",
    "    plt.ylabel('Loss', fontsize=15)\n",
    "    plt.title('Training and Validation Loss', fontsize=25)\n",
    "    plt.legend(bbox_to_anchor=(1,1), loc='best')\n",
    "    plt.grid()\n",
    "    plt.show()"
   ]
  },
  {
   "cell_type": "code",
   "execution_count": 71,
   "id": "RZyEnSJ_wFSe",
   "metadata": {
    "colab": {
     "base_uri": "https://localhost:8080/",
     "height": 366
    },
    "id": "RZyEnSJ_wFSe",
    "outputId": "8c6f6bf6-e37a-47e3-9ee5-c7e4b4c26bb5"
   },
   "outputs": [
    {
     "data": {
      "image/png": "[encoded data removed]",
      "text/plain": [
       "<Figure size 1296x360 with 1 Axes>"
      ]
     },
     "metadata": {
      "needs_background": "light"
     },
     "output_type": "display_data"
    }
   ],
   "source": [
    "plot_accuracy(history_1)"
   ]
  },
  {
   "cell_type": "code",
   "execution_count": 72,
   "id": "iP0BQj2wwFVQ",
   "metadata": {
    "colab": {
     "base_uri": "https://localhost:8080/",
     "height": 366
    },
    "id": "iP0BQj2wwFVQ",
    "outputId": "d3be304d-f4bc-40d9-dae2-9fc8c148571a"
   },
   "outputs": [
    {
     "data": {
      "image/png": "[encoded data removed]",
      "text/plain": [
       "<Figure size 1296x360 with 1 Axes>"
      ]
     },
     "metadata": {
      "needs_background": "light"
     },
     "output_type": "display_data"
    }
   ],
   "source": [
    "plot_loss(history_1)"
   ]
  },
  {
   "cell_type": "markdown",
   "id": "f0476212",
   "metadata": {
    "id": "f0476212"
   },
   "source": [
    "Melihat pada dua gambar di atas, terlihat bahwa model yang telah dibangun akan mengalami tingkat kenaikan *accuracy* pada *training data* dan mengalami penurunan *accuary* pada *testing/validation data*. Selain itu, untuk grafik *loss*, model mengalami penurunan *loss* pada *training data* dan kenaikan *loss* pada *testing/validation* data."
   ]
  },
  {
   "cell_type": "markdown",
   "id": "Z0ZEi936wHgj",
   "metadata": {
    "id": "Z0ZEi936wHgj"
   },
   "source": [
    "**Evaluate**"
   ]
  },
  {
   "cell_type": "code",
   "execution_count": 73,
   "id": "xSrYIbdcwJJD",
   "metadata": {
    "id": "xSrYIbdcwJJD"
   },
   "outputs": [],
   "source": [
    "y_pred_1 = model_1.predict(pad_test_1)"
   ]
  },
  {
   "cell_type": "code",
   "execution_count": 74,
   "id": "qhDE7U4g2TKF",
   "metadata": {
    "id": "qhDE7U4g2TKF"
   },
   "outputs": [],
   "source": [
    "def make_confusion_matrix(y_pred, y_test):\n",
    "    cam = confusion_matrix(np.argmax(y_test, axis=1), np.argmax(y_pred,axis=1))\n",
    "    sns.heatmap(cam, annot=True, cmap='viridis', \n",
    "                xticklabels=['Negative', 'Neutral', 'Positive'],\n",
    "                yticklabels=['Negative', 'Neutral', 'Positive'],\n",
    "                fmt=\"d\")\n",
    "    plt.xlabel('Predicted Label')\n",
    "    plt.ylabel('True Label')\n",
    "    plt.title('Confusion Matrix')\n",
    "    plt.show()"
   ]
  },
  {
   "cell_type": "code",
   "execution_count": 75,
   "id": "r2OCS3Lv2u3c",
   "metadata": {
    "colab": {
     "base_uri": "https://localhost:8080/",
     "height": 301
    },
    "id": "r2OCS3Lv2u3c",
    "outputId": "bdebce6e-af00-470d-f396-66e3b6aad7b8"
   },
   "outputs": [
    {
     "data": {
      "image/png": "[encoded data removed]",
      "text/plain": [
       "<Figure size 432x288 with 2 Axes>"
      ]
     },
     "metadata": {
      "needs_background": "light"
     },
     "output_type": "display_data"
    }
   ],
   "source": [
    "make_confusion_matrix(y_pred_1, y_test_1)"
   ]
  },
  {
   "cell_type": "code",
   "execution_count": 76,
   "id": "5pQ1QFi5wJOF",
   "metadata": {
    "colab": {
     "base_uri": "https://localhost:8080/"
    },
    "id": "5pQ1QFi5wJOF",
    "outputId": "35a17da8-f487-4af7-8966-b1ef760649f5"
   },
   "outputs": [
    {
     "name": "stdout",
     "output_type": "stream",
     "text": [
      "Accuracy Model : 0.7740434332988625\n"
     ]
    }
   ],
   "source": [
    "print('Accuracy Model :', accuracy_score(np.argmax(y_test_1, axis=1), np.argmax(y_pred_1, axis=1)))"
   ]
  },
  {
   "cell_type": "markdown",
   "id": "6330cd46",
   "metadata": {
    "id": "6330cd46"
   },
   "source": [
    "Nilai *accuracy* pada model pertama sebesar 77,40%."
   ]
  },
  {
   "cell_type": "markdown",
   "id": "818dbc75",
   "metadata": {
    "id": "818dbc75"
   },
   "source": [
    "#### Model Without Oversampling (With Stopword)"
   ]
  },
  {
   "cell_type": "markdown",
   "id": "6f453b7f",
   "metadata": {
    "id": "6f453b7f"
   },
   "source": [
    "Bangun model kedua tanpa melakukan proses oversamping dan melakukan proses penghapusan *stopwords*."
   ]
  },
  {
   "cell_type": "code",
   "execution_count": 77,
   "id": "c_s3yCpgwOWt",
   "metadata": {
    "id": "c_s3yCpgwOWt"
   },
   "outputs": [],
   "source": [
    "X_train_2, X_test_2, y_train_2, y_test_2 = train_test_split(review_with_stopword, \n",
    "                                                            target, \n",
    "                                                            test_size=0.2, \n",
    "                                                            random_state=0)"
   ]
  },
  {
   "cell_type": "markdown",
   "id": "5a2d2704",
   "metadata": {},
   "source": [
    "Lakukan proses *One Hot Encoding* pada *target* variabel."
   ]
  },
  {
   "cell_type": "code",
   "execution_count": 78,
   "id": "OFsGX_l1wOWx",
   "metadata": {
    "id": "OFsGX_l1wOWx"
   },
   "outputs": [],
   "source": [
    "ohe = OneHotEncoder(sparse=False, handle_unknown='ignore')\n",
    "y_train_2 = ohe.fit_transform(pd.DataFrame(y_train_2))\n",
    "y_test_2 = ohe.transform(pd.DataFrame(y_test_2))"
   ]
  },
  {
   "cell_type": "code",
   "execution_count": 79,
   "id": "QZ7A_lq0wefR",
   "metadata": {
    "colab": {
     "base_uri": "https://localhost:8080/",
     "height": 204
    },
    "id": "QZ7A_lq0wefR",
    "outputId": "61ada470-207a-490e-d343-ccbdf376bf54"
   },
   "outputs": [
    {
     "data": {
      "text/html": [
       "<div>\n",
       "<style scoped>\n",
       "    .dataframe tbody tr th:only-of-type {\n",
       "        vertical-align: middle;\n",
       "    }\n",
       "\n",
       "    .dataframe tbody tr th {\n",
       "        vertical-align: top;\n",
       "    }\n",
       "\n",
       "    .dataframe thead th {\n",
       "        text-align: right;\n",
       "    }\n",
       "</style>\n",
       "<table border=\"1\" class=\"dataframe\">\n",
       "  <thead>\n",
       "    <tr style=\"text-align: right;\">\n",
       "      <th></th>\n",
       "      <th>Word</th>\n",
       "      <th>Frequency</th>\n",
       "    </tr>\n",
       "  </thead>\n",
       "  <tbody>\n",
       "    <tr>\n",
       "      <th>0</th>\n",
       "      <td>good</td>\n",
       "      <td>117869</td>\n",
       "    </tr>\n",
       "    <tr>\n",
       "      <th>1</th>\n",
       "      <td>compani</td>\n",
       "      <td>51987</td>\n",
       "    </tr>\n",
       "    <tr>\n",
       "      <th>2</th>\n",
       "      <td>cool</td>\n",
       "      <td>1031</td>\n",
       "    </tr>\n",
       "    <tr>\n",
       "      <th>3</th>\n",
       "      <td>workplac</td>\n",
       "      <td>6234</td>\n",
       "    </tr>\n",
       "    <tr>\n",
       "      <th>4</th>\n",
       "      <td>work</td>\n",
       "      <td>183478</td>\n",
       "    </tr>\n",
       "  </tbody>\n",
       "</table>\n",
       "</div>"
      ],
      "text/plain": [
       "       Word  Frequency\n",
       "0      good     117869\n",
       "1   compani      51987\n",
       "2      cool       1031\n",
       "3  workplac       6234\n",
       "4      work     183478"
      ]
     },
     "execution_count": 79,
     "metadata": {},
     "output_type": "execute_result"
    }
   ],
   "source": [
    "list_with_stopword = combine_list(review_with_stopword)\n",
    "count_dict_with_stopword = collections.Counter(list_with_stopword)\n",
    "count_freq_with_stopword = pd.DataFrame.from_dict(\n",
    "    count_dict_with_stopword, orient='index').reset_index().rename(\n",
    "    columns={'index':'Word', 0:'Frequency'}\n",
    ")\n",
    "count_freq_with_stopword.head()"
   ]
  },
  {
   "cell_type": "code",
   "execution_count": 80,
   "id": "xk7m0wm_wefY",
   "metadata": {
    "colab": {
     "base_uri": "https://localhost:8080/",
     "height": 357
    },
    "id": "xk7m0wm_wefY",
    "outputId": "c1c65e25-03bc-4fbc-fe56-6f7764b26f96"
   },
   "outputs": [
    {
     "data": {
      "image/png": "[encoded data removed]",
      "text/plain": [
       "<Figure size 1152x360 with 1 Axes>"
      ]
     },
     "metadata": {
      "needs_background": "light"
     },
     "output_type": "display_data"
    }
   ],
   "source": [
    "plt.figure(figsize=(16,5))\n",
    "top_15_word_2 = count_freq_with_stopword.sort_values(by='Frequency', ascending=False).head(15)\n",
    "sns.barplot(y=top_15_word_2['Word'],\n",
    "            x=top_15_word_2['Frequency'],\n",
    "            color=\"b\")\n",
    "plt.xlabel('Frequency', fontsize=12)\n",
    "plt.title('Top 15 Common Words in Review Without Oversampling (With Removing Stopword)', fontsize=15)\n",
    "plt.show()"
   ]
  },
  {
   "cell_type": "markdown",
   "id": "0b7a842f",
   "metadata": {
    "id": "443b44a4"
   },
   "source": [
    "Berdasarkan gambar di atas, untuk 15 kata dengan frekuensi kemunculan tertinggi sudah tidak didominasi oleh *stopwords*. Terlihat bahwa kata *work* dan *good* adalah dua kata dengan jumlah frekuensi terbanyak. Selanjutnya, kita akan melihat jumlah kata yang memiliki frekuensi kemunculan lebih dari 10."
   ]
  },
  {
   "cell_type": "code",
   "execution_count": 81,
   "id": "wQ05wTkBwefZ",
   "metadata": {
    "colab": {
     "base_uri": "https://localhost:8080/"
    },
    "id": "wQ05wTkBwefZ",
    "outputId": "c8fff7b8-3a20-47e7-e9eb-e9d1fd277397"
   },
   "outputs": [
    {
     "name": "stdout",
     "output_type": "stream",
     "text": [
      "Jumlah kata dengan frekuensi kemunculan lebih dari 10 : 5500\n"
     ]
    }
   ],
   "source": [
    "number_words_2 = len(count_freq_with_stopword[count_freq_with_stopword['Frequency']>10])\n",
    "print('Jumlah kata dengan frekuensi kemunculan lebih dari 10 :', number_words_2)"
   ]
  },
  {
   "cell_type": "markdown",
   "id": "wLsfkMP8wefZ",
   "metadata": {
    "id": "wLsfkMP8wefZ"
   },
   "source": [
    "Terdapat 5500 kata dengan jumlah frekuensi kemunculan lebih dari 10. Oleh karena itu, akan kita berikan nilai parameter `num_words` pada model kedua sebesar 5500."
   ]
  },
  {
   "cell_type": "markdown",
   "id": "Ruecsa-lw7_i",
   "metadata": {
    "id": "Ruecsa-lw7_i"
   },
   "source": [
    "**Tokenizer**"
   ]
  },
  {
   "cell_type": "code",
   "execution_count": 82,
   "id": "RPQ-mt-tw7_i",
   "metadata": {
    "id": "RPQ-mt-tw7_i"
   },
   "outputs": [],
   "source": [
    "tokenizer_2 = Tokenizer(num_words=number_words_2, oov_token='-')\n",
    "tokenizer_2.fit_on_texts(X_train_2)\n",
    "\n",
    "sequence_train_2 = tokenizer_2.texts_to_sequences(X_train_2)\n",
    "sequence_test_2 = tokenizer_2.texts_to_sequences(X_test_2)\n",
    "\n",
    "pad_train_2 = pad_sequences(sequence_train_2)\n",
    "pad_test_2 = pad_sequences(sequence_test_2)"
   ]
  },
  {
   "cell_type": "markdown",
   "id": "2hWE7A2Yw7_j",
   "metadata": {
    "id": "2hWE7A2Yw7_j"
   },
   "source": [
    "**Create Sequential Model**"
   ]
  },
  {
   "cell_type": "code",
   "execution_count": 83,
   "id": "Ja1b4hLzw7_k",
   "metadata": {
    "id": "Ja1b4hLzw7_k"
   },
   "outputs": [],
   "source": [
    "model_2 = tf.keras.models.Sequential([\n",
    "    tf.keras.layers.Embedding(input_dim=number_words_2, output_dim=64),\n",
    "    tf.keras.layers.Dropout(0.4),\n",
    "    tf.keras.layers.LSTM(64),\n",
    "    tf.keras.layers.Dropout(0.3),\n",
    "    tf.keras.layers.Dense(64, activation='relu'),\n",
    "    tf.keras.layers.Dropout(0.2),\n",
    "    tf.keras.layers.Dense(64, activation='relu'),\n",
    "    tf.keras.layers.Dense(3, activation='softmax')\n",
    "])"
   ]
  },
  {
   "cell_type": "code",
   "execution_count": 84,
   "id": "xj1pUEdNw7_k",
   "metadata": {
    "colab": {
     "base_uri": "https://localhost:8080/"
    },
    "id": "xj1pUEdNw7_k",
    "outputId": "b8a8b108-8db2-4611-8dca-4c4aa7f19c97"
   },
   "outputs": [
    {
     "name": "stdout",
     "output_type": "stream",
     "text": [
      "Model: \"sequential_1\"\n",
      "_________________________________________________________________\n",
      "Layer (type)                 Output Shape              Param #   \n",
      "=================================================================\n",
      "embedding_1 (Embedding)      (None, None, 64)          352000    \n",
      "_________________________________________________________________\n",
      "dropout_3 (Dropout)          (None, None, 64)          0         \n",
      "_________________________________________________________________\n",
      "lstm_1 (LSTM)                (None, 64)                33024     \n",
      "_________________________________________________________________\n",
      "dropout_4 (Dropout)          (None, 64)                0         \n",
      "_________________________________________________________________\n",
      "dense_3 (Dense)              (None, 64)                4160      \n",
      "_________________________________________________________________\n",
      "dropout_5 (Dropout)          (None, 64)                0         \n",
      "_________________________________________________________________\n",
      "dense_4 (Dense)              (None, 64)                4160      \n",
      "_________________________________________________________________\n",
      "dense_5 (Dense)              (None, 3)                 195       \n",
      "=================================================================\n",
      "Total params: 393,539\n",
      "Trainable params: 393,539\n",
      "Non-trainable params: 0\n",
      "_________________________________________________________________\n"
     ]
    }
   ],
   "source": [
    "model_2.summary()"
   ]
  },
  {
   "cell_type": "markdown",
   "id": "8wYVOBBww7_l",
   "metadata": {
    "id": "8wYVOBBww7_l"
   },
   "source": [
    "Pada proses `.compile()`, digunakan *optimizer* berupa `Adam`, dengan *loss function* berupa *categorical_crossentropy* dikarenakan kelas yang kita miliki lebih dari dua, dan penggunaaan *metrics* berupa *accuracy* untuk melihat seberapa baik model kita melakukan klasifikasi pada teks."
   ]
  },
  {
   "cell_type": "code",
   "execution_count": 85,
   "id": "TnsgMBCiw7_l",
   "metadata": {
    "id": "TnsgMBCiw7_l"
   },
   "outputs": [],
   "source": [
    "model_2.compile(\n",
    "    optimizer='Adam',\n",
    "    loss = 'categorical_crossentropy',\n",
    "    metrics = ['accuracy']\n",
    ")"
   ]
  },
  {
   "cell_type": "markdown",
   "id": "-zxgjlHmw7_m",
   "metadata": {
    "id": "-zxgjlHmw7_m"
   },
   "source": [
    "Lakukan `.fit()` untuk melakukan proses training pada model. Definisikan parameter `epochs` sebanyak 10 dan `batch_size` sebesar 32."
   ]
  },
  {
   "cell_type": "code",
   "execution_count": 86,
   "id": "RdyzH9n-w7_m",
   "metadata": {
    "colab": {
     "base_uri": "https://localhost:8080/"
    },
    "id": "RdyzH9n-w7_m",
    "outputId": "1a51e627-b709-4a26-b2d1-b8486767820a"
   },
   "outputs": [
    {
     "name": "stdout",
     "output_type": "stream",
     "text": [
      "Epoch 1/10\n",
      "3627/3627 [==============================] - 155s 42ms/step - loss: 0.6076 - accuracy: 0.7702 - val_loss: 0.5901 - val_accuracy: 0.7744\n",
      "Epoch 2/10\n",
      "3627/3627 [==============================] - 152s 42ms/step - loss: 0.5759 - accuracy: 0.7775 - val_loss: 0.5867 - val_accuracy: 0.7761\n",
      "Epoch 3/10\n",
      "3627/3627 [==============================] - 152s 42ms/step - loss: 0.5628 - accuracy: 0.7820 - val_loss: 0.5838 - val_accuracy: 0.7760\n",
      "Epoch 4/10\n",
      "3627/3627 [==============================] - 150s 41ms/step - loss: 0.5507 - accuracy: 0.7848 - val_loss: 0.5955 - val_accuracy: 0.7777\n",
      "Epoch 5/10\n",
      "3627/3627 [==============================] - 151s 42ms/step - loss: 0.5408 - accuracy: 0.7884 - val_loss: 0.5891 - val_accuracy: 0.7761\n",
      "Epoch 6/10\n",
      "3627/3627 [==============================] - 150s 41ms/step - loss: 0.5318 - accuracy: 0.7914 - val_loss: 0.5910 - val_accuracy: 0.7756\n",
      "Epoch 7/10\n",
      "3627/3627 [==============================] - 154s 42ms/step - loss: 0.5226 - accuracy: 0.7951 - val_loss: 0.5990 - val_accuracy: 0.7739\n",
      "Epoch 8/10\n",
      "3627/3627 [==============================] - 155s 43ms/step - loss: 0.5130 - accuracy: 0.7984 - val_loss: 0.6111 - val_accuracy: 0.7705\n",
      "Epoch 9/10\n",
      "3627/3627 [==============================] - 155s 43ms/step - loss: 0.5040 - accuracy: 0.8021 - val_loss: 0.6118 - val_accuracy: 0.7713\n",
      "Epoch 10/10\n",
      "3627/3627 [==============================] - 154s 43ms/step - loss: 0.4955 - accuracy: 0.8056 - val_loss: 0.6215 - val_accuracy: 0.7702\n"
     ]
    }
   ],
   "source": [
    "history_2 = model_2.fit(\n",
    "    pad_train_2,\n",
    "    y_train_2,\n",
    "    epochs = 10,\n",
    "    batch_size = 32,\n",
    "    validation_data = (pad_test_2, y_test_2),\n",
    "    verbose = 1\n",
    ")"
   ]
  },
  {
   "cell_type": "markdown",
   "id": "IHGqS8Maw7_m",
   "metadata": {
    "id": "IHGqS8Maw7_m"
   },
   "source": [
    "Simpan model kedua ke dalam `Model Without Oversampling (With Removing Stopwords).h5`."
   ]
  },
  {
   "cell_type": "code",
   "execution_count": 87,
   "id": "v_uV6zJIw7_m",
   "metadata": {
    "id": "v_uV6zJIw7_m"
   },
   "outputs": [],
   "source": [
    "model_2.save('Model Without Oversampling (With Removing Stopwords).h5')"
   ]
  },
  {
   "cell_type": "code",
   "execution_count": 88,
   "id": "ucowBLeQ-gFW",
   "metadata": {
    "colab": {
     "base_uri": "https://localhost:8080/",
     "height": 366
    },
    "id": "ucowBLeQ-gFW",
    "outputId": "922f1a34-4d2f-4492-8346-184e1a72086b"
   },
   "outputs": [
    {
     "data": {
      "image/png": "[encoded data removed]",
      "text/plain": [
       "<Figure size 1296x360 with 1 Axes>"
      ]
     },
     "metadata": {
      "needs_background": "light"
     },
     "output_type": "display_data"
    }
   ],
   "source": [
    "plot_accuracy(history_2)"
   ]
  },
  {
   "cell_type": "code",
   "execution_count": 89,
   "id": "oQZEcq-C-gFd",
   "metadata": {
    "colab": {
     "base_uri": "https://localhost:8080/",
     "height": 366
    },
    "id": "oQZEcq-C-gFd",
    "outputId": "3bdeb6d1-56f4-4415-827b-c2689c355484"
   },
   "outputs": [
    {
     "data": {
      "image/png": "[encoded data removed]",
      "text/plain": [
       "<Figure size 1296x360 with 1 Axes>"
      ]
     },
     "metadata": {
      "needs_background": "light"
     },
     "output_type": "display_data"
    }
   ],
   "source": [
    "plot_loss(history_2)"
   ]
  },
  {
   "cell_type": "markdown",
   "id": "NAzN1UfQ-gFd",
   "metadata": {
    "id": "NAzN1UfQ-gFd"
   },
   "source": [
    "Melihat pada dua gambar di atas, terlihat bahwa model yang telah dibangun akan mengalami tingkat kenaikan *accuracy* pada *training data* dan mengalami penurunan *accuary* pada *testing/validation data*. Selain itu, untuk grafik *loss*, model mengalami penurunan *loss* pada *training data* dan kenaikan *loss* pada *testing/validation* data."
   ]
  },
  {
   "cell_type": "markdown",
   "id": "k2Wjtr2X-gFe",
   "metadata": {
    "id": "k2Wjtr2X-gFe"
   },
   "source": [
    "**Evaluate**"
   ]
  },
  {
   "cell_type": "code",
   "execution_count": 90,
   "id": "IvgPH4Wa-gFe",
   "metadata": {
    "id": "IvgPH4Wa-gFe"
   },
   "outputs": [],
   "source": [
    "y_pred_2 = model_2.predict(pad_test_2)"
   ]
  },
  {
   "cell_type": "code",
   "execution_count": 91,
   "id": "9dH7OTmw-gFf",
   "metadata": {
    "colab": {
     "base_uri": "https://localhost:8080/",
     "height": 301
    },
    "id": "9dH7OTmw-gFf",
    "outputId": "52b77ac3-d69c-4f7c-b2ee-d0776eef00c4"
   },
   "outputs": [
    {
     "data": {
      "image/png": "[encoded data removed]",
      "text/plain": [
       "<Figure size 432x288 with 2 Axes>"
      ]
     },
     "metadata": {
      "needs_background": "light"
     },
     "output_type": "display_data"
    }
   ],
   "source": [
    "make_confusion_matrix(y_pred_2, y_test_2)"
   ]
  },
  {
   "cell_type": "code",
   "execution_count": 92,
   "id": "jyY_HVd1-gFf",
   "metadata": {
    "colab": {
     "base_uri": "https://localhost:8080/"
    },
    "id": "jyY_HVd1-gFf",
    "outputId": "026b49ff-867b-4303-90d7-0a162854a659"
   },
   "outputs": [
    {
     "name": "stdout",
     "output_type": "stream",
     "text": [
      "Accuracy Model : 0.7702171664943123\n"
     ]
    }
   ],
   "source": [
    "print('Accuracy Model :', accuracy_score(np.argmax(y_test_2, axis=1), np.argmax(y_pred_2, axis=1)))"
   ]
  },
  {
   "cell_type": "markdown",
   "id": "Cs8HzsxT-gFf",
   "metadata": {
    "id": "Cs8HzsxT-gFf"
   },
   "source": [
    "Nilai *accuracy* pada model kedua sebesar 77,02%."
   ]
  },
  {
   "cell_type": "markdown",
   "id": "e561386e",
   "metadata": {
    "id": "e561386e"
   },
   "source": [
    "### Model With Oversampling"
   ]
  },
  {
   "cell_type": "code",
   "execution_count": 93,
   "id": "24ae77f8",
   "metadata": {
    "colab": {
     "base_uri": "https://localhost:8080/",
     "height": 142
    },
    "id": "24ae77f8",
    "outputId": "3308a596-08a0-48cc-aca3-3e068941b4c1"
   },
   "outputs": [
    {
     "data": {
      "text/html": [
       "<div>\n",
       "<style scoped>\n",
       "    .dataframe tbody tr th:only-of-type {\n",
       "        vertical-align: middle;\n",
       "    }\n",
       "\n",
       "    .dataframe tbody tr th {\n",
       "        vertical-align: top;\n",
       "    }\n",
       "\n",
       "    .dataframe thead th {\n",
       "        text-align: right;\n",
       "    }\n",
       "</style>\n",
       "<table border=\"1\" class=\"dataframe\">\n",
       "  <thead>\n",
       "    <tr style=\"text-align: right;\">\n",
       "      <th></th>\n",
       "      <th>CompleteReview</th>\n",
       "      <th>Category</th>\n",
       "    </tr>\n",
       "  </thead>\n",
       "  <tbody>\n",
       "    <tr>\n",
       "      <th>0</th>\n",
       "      <td>Good company, cool workplace, work load little...</td>\n",
       "      <td>Neutral</td>\n",
       "    </tr>\n",
       "    <tr>\n",
       "      <th>1</th>\n",
       "      <td>1. Need to work on boss's whims and fancies 2....</td>\n",
       "      <td>Neutral</td>\n",
       "    </tr>\n",
       "    <tr>\n",
       "      <th>2</th>\n",
       "      <td>Good company for every Engineers dream, Full M...</td>\n",
       "      <td>Positive</td>\n",
       "    </tr>\n",
       "  </tbody>\n",
       "</table>\n",
       "</div>"
      ],
      "text/plain": [
       "                                      CompleteReview  Category\n",
       "0  Good company, cool workplace, work load little...   Neutral\n",
       "1  1. Need to work on boss's whims and fancies 2....   Neutral\n",
       "2  Good company for every Engineers dream, Full M...  Positive"
      ]
     },
     "execution_count": 93,
     "metadata": {},
     "output_type": "execute_result"
    }
   ],
   "source": [
    "df_over = df[['CompleteReview', 'Category']].copy()\n",
    "df_over.head(3)"
   ]
  },
  {
   "cell_type": "code",
   "execution_count": 94,
   "id": "48cc098d",
   "metadata": {
    "id": "48cc098d"
   },
   "outputs": [],
   "source": [
    "review_over = df_over['CompleteReview']\n",
    "target_over = df_over['Category']"
   ]
  },
  {
   "cell_type": "code",
   "execution_count": 95,
   "id": "ffe24d92",
   "metadata": {
    "id": "ffe24d92"
   },
   "outputs": [],
   "source": [
    "review_over_without_stopword = text_preprocessing(review_over)\n",
    "review_over_with_stopword = text_preprocessing_withstop(review_over)"
   ]
  },
  {
   "cell_type": "markdown",
   "id": "73f2b91a",
   "metadata": {
    "id": "73f2b91a"
   },
   "source": [
    "#### Model With Oversampling (Without Removing Stopword)"
   ]
  },
  {
   "cell_type": "markdown",
   "id": "cb49de9e",
   "metadata": {
    "id": "cb49de9e"
   },
   "source": [
    "Bangun model ketiga dengan melakukan proses *oversampling* dan tanpa menghapus *stopwords*."
   ]
  },
  {
   "cell_type": "markdown",
   "id": "229c82ee",
   "metadata": {
    "id": "229c82ee"
   },
   "source": [
    "**Train Test Split**"
   ]
  },
  {
   "cell_type": "markdown",
   "id": "cd3d44c4",
   "metadata": {
    "id": "cd3d44c4"
   },
   "source": [
    "Sebelum membangun model, akan dibagi dataset kita ke dalam *train data* dan *test data* dengan proporsi *train data* sebanyak 80% dan *test data* sebanyak 20%."
   ]
  },
  {
   "cell_type": "code",
   "execution_count": 96,
   "id": "f32e045a",
   "metadata": {
    "id": "f32e045a"
   },
   "outputs": [],
   "source": [
    "X_train_3, X_test_3, y_train_3, y_test_3 = train_test_split(review_over_without_stopword, \n",
    "                                                            target_over, \n",
    "                                                            test_size=0.2, \n",
    "                                                            random_state=0)"
   ]
  },
  {
   "cell_type": "markdown",
   "id": "610f6b3e",
   "metadata": {
    "id": "610f6b3e"
   },
   "source": [
    "Kita akan melakukan proses *oversampling* pada *training data*. Oleh karena itu, definisikan fungsi `oversampling` yang akan melakukan proses *oversampling* pada `X_train` dan `y_train`. Definisikan fungsi `oversampling` yang akan melakukan proses *oversampling* untuk `X_train` dan `y_train` dan mengembalikan hasil berupa `X_train_over` dan `y_train_over`dengan tetap menjaga ukuran sampel tetap."
   ]
  },
  {
   "cell_type": "code",
   "execution_count": 97,
   "id": "57a4044d",
   "metadata": {
    "id": "57a4044d"
   },
   "outputs": [],
   "source": [
    "def oversampling(X_train, y_train):\n",
    "    temp = pd.DataFrame()\n",
    "    temp['Review'] = X_train\n",
    "    temp['Category'] = y_train.reset_index()['Category']\n",
    "    temp['Class'] = temp['Category'].replace({'Negative':0, 'Neutral':1, 'Positive':2})\n",
    "    \n",
    "    ros = RandomOverSampler(random_state=0)\n",
    "    X_over, y_over = ros.fit_resample(temp[['Review']], temp['Class'])\n",
    "    \n",
    "    df_over_new = pd.concat([pd.DataFrame(X_over), pd.DataFrame(y_over)], axis=1)\n",
    "    frac = len(X_train)/(pd.DataFrame(y_over).value_counts()[0]*3)\n",
    "    df_over_new.columns = ['Review', 'Class']\n",
    "    df_over_new = df_over_new.sample(len(X_train), random_state=0).reset_index()\n",
    "    df_over_new['Category'] = df_over_new['Class'].replace({0:'Negative', 1:'Neutral', 2:'Positive'})\n",
    "\n",
    "    X_train_over = df_over_new['Review']\n",
    "    y_train_over = df_over_new['Category']\n",
    "    return X_train_over, y_train_over"
   ]
  },
  {
   "cell_type": "code",
   "execution_count": 98,
   "id": "2a70607f",
   "metadata": {
    "id": "2a70607f"
   },
   "outputs": [],
   "source": [
    "X_train_3, y_train_3 = oversampling(X_train_3, y_train_3)"
   ]
  },
  {
   "cell_type": "markdown",
   "id": "c2d46fca",
   "metadata": {},
   "source": [
    "Lakukan proses *One Hot Encoding* pada *target* variabel."
   ]
  },
  {
   "cell_type": "code",
   "execution_count": 99,
   "id": "077d0279",
   "metadata": {
    "id": "077d0279"
   },
   "outputs": [],
   "source": [
    "ohe = OneHotEncoder(sparse=False, handle_unknown='ignore')\n",
    "y_train_3 = ohe.fit_transform(pd.DataFrame(y_train_3))\n",
    "y_test_3 = ohe.transform(pd.DataFrame(y_test_3))"
   ]
  },
  {
   "cell_type": "code",
   "execution_count": 100,
   "id": "c6e0c447",
   "metadata": {
    "colab": {
     "base_uri": "https://localhost:8080/",
     "height": 204
    },
    "id": "c6e0c447",
    "outputId": "3080362f-21e8-48d4-d692-06ba1f4cca59"
   },
   "outputs": [
    {
     "data": {
      "text/html": [
       "<div>\n",
       "<style scoped>\n",
       "    .dataframe tbody tr th:only-of-type {\n",
       "        vertical-align: middle;\n",
       "    }\n",
       "\n",
       "    .dataframe tbody tr th {\n",
       "        vertical-align: top;\n",
       "    }\n",
       "\n",
       "    .dataframe thead th {\n",
       "        text-align: right;\n",
       "    }\n",
       "</style>\n",
       "<table border=\"1\" class=\"dataframe\">\n",
       "  <thead>\n",
       "    <tr style=\"text-align: right;\">\n",
       "      <th></th>\n",
       "      <th>Word</th>\n",
       "      <th>Frequency</th>\n",
       "    </tr>\n",
       "  </thead>\n",
       "  <tbody>\n",
       "    <tr>\n",
       "      <th>0</th>\n",
       "      <td>best</td>\n",
       "      <td>13459</td>\n",
       "    </tr>\n",
       "    <tr>\n",
       "      <th>1</th>\n",
       "      <td>place</td>\n",
       "      <td>30171</td>\n",
       "    </tr>\n",
       "    <tr>\n",
       "      <th>2</th>\n",
       "      <td>to</td>\n",
       "      <td>186045</td>\n",
       "    </tr>\n",
       "    <tr>\n",
       "      <th>3</th>\n",
       "      <td>work</td>\n",
       "      <td>174115</td>\n",
       "    </tr>\n",
       "    <tr>\n",
       "      <th>4</th>\n",
       "      <td>as</td>\n",
       "      <td>36837</td>\n",
       "    </tr>\n",
       "  </tbody>\n",
       "</table>\n",
       "</div>"
      ],
      "text/plain": [
       "    Word  Frequency\n",
       "0   best      13459\n",
       "1  place      30171\n",
       "2     to     186045\n",
       "3   work     174115\n",
       "4     as      36837"
      ]
     },
     "execution_count": 100,
     "metadata": {},
     "output_type": "execute_result"
    }
   ],
   "source": [
    "list_over_without_stopword = combine_list(list(X_train_3) + list(X_test_3))\n",
    "count_dict_over_without_stopword = collections.Counter(list_over_without_stopword)\n",
    "count_freq_over_without_stopword = pd.DataFrame.from_dict(\n",
    "    count_dict_over_without_stopword, orient='index').reset_index().rename(\n",
    "    columns={'index':'Word', 0:'Frequency'}\n",
    ")\n",
    "count_freq_over_without_stopword.head()"
   ]
  },
  {
   "cell_type": "code",
   "execution_count": 101,
   "id": "c7e67e14",
   "metadata": {
    "colab": {
     "base_uri": "https://localhost:8080/",
     "height": 357
    },
    "id": "c7e67e14",
    "outputId": "6c8e5e5b-99de-4697-ee8e-9a049f3c4b4f"
   },
   "outputs": [
    {
     "data": {
      "image/png": "[encoded data removed]",
      "text/plain": [
       "<Figure size 1152x360 with 1 Axes>"
      ]
     },
     "metadata": {
      "needs_background": "light"
     },
     "output_type": "display_data"
    }
   ],
   "source": [
    "plt.figure(figsize=(16,5))\n",
    "top_15_word_3 = count_freq_over_without_stopword.sort_values(by='Frequency', ascending=False).head(15)\n",
    "sns.barplot(y=top_15_word_3['Word'],\n",
    "            x=top_15_word_3['Frequency'],\n",
    "            color=\"b\")\n",
    "plt.xlabel('Frequency', fontsize=12)\n",
    "plt.title('Top 15 Common Words in Review With Oversampling (Without Removing Stopword)', fontsize=15)\n",
    "plt.show()"
   ]
  },
  {
   "cell_type": "markdown",
   "id": "700d4b91",
   "metadata": {
    "id": "443b44a4"
   },
   "source": [
    "Berdasarkan gambar di atas, untuk 15 kata dengan frekuensi kemunculan tertinggi masih didominasi oleh *stopwords*. Terlihat bahwa kata *and* dan *to* adalah dua kata dengan jumlah frekuensi terbanyak. Selanjutnya, kita akan melihat jumlah kata yang memiliki frekuensi kemunculan lebih dari 10."
   ]
  },
  {
   "cell_type": "code",
   "execution_count": 102,
   "id": "41e5988c",
   "metadata": {
    "colab": {
     "base_uri": "https://localhost:8080/"
    },
    "id": "41e5988c",
    "outputId": "b3e49642-73ba-4e33-8b11-14f1494d87fa"
   },
   "outputs": [
    {
     "name": "stdout",
     "output_type": "stream",
     "text": [
      "Jumlah kata dengan frekuensi kemunculan lebih dari 10 : 6169\n"
     ]
    }
   ],
   "source": [
    "number_words_3 = len(count_freq_over_without_stopword[count_freq_over_without_stopword['Frequency']>10])\n",
    "print('Jumlah kata dengan frekuensi kemunculan lebih dari 10 :', number_words_3)"
   ]
  },
  {
   "cell_type": "markdown",
   "id": "879147bd",
   "metadata": {
    "id": "879147bd"
   },
   "source": [
    "Terdapat 6169 kata dengan jumlah frekuensi kemunculan lebih dari 10. Oleh karena itu, akan kita berikan nilai parameter `num_words` pada model ketiga sebesar 6169."
   ]
  },
  {
   "cell_type": "markdown",
   "id": "30e7f175",
   "metadata": {
    "id": "30e7f175"
   },
   "source": [
    "**Tokenizer**"
   ]
  },
  {
   "cell_type": "code",
   "execution_count": 103,
   "id": "013773ff",
   "metadata": {
    "id": "013773ff"
   },
   "outputs": [],
   "source": [
    "tokenizer_3 = Tokenizer(num_words=number_words_3, oov_token='-')\n",
    "tokenizer_3.fit_on_texts(X_train_3)\n",
    "\n",
    "sequence_train_3 = tokenizer_3.texts_to_sequences(X_train_3)\n",
    "sequence_test_3 = tokenizer_3.texts_to_sequences(X_test_3)\n",
    "\n",
    "pad_train_3 = pad_sequences(sequence_train_3)\n",
    "pad_test_3 = pad_sequences(sequence_test_3)"
   ]
  },
  {
   "cell_type": "markdown",
   "id": "0565fd68",
   "metadata": {
    "id": "0565fd68"
   },
   "source": [
    "**Create Sequential Model**"
   ]
  },
  {
   "cell_type": "code",
   "execution_count": 104,
   "id": "3c2c0289",
   "metadata": {
    "id": "3c2c0289"
   },
   "outputs": [],
   "source": [
    "model_3 = tf.keras.models.Sequential([\n",
    "    tf.keras.layers.Embedding(input_dim=number_words_3, output_dim=64),\n",
    "    tf.keras.layers.Dropout(0.4),\n",
    "    tf.keras.layers.LSTM(64),\n",
    "    tf.keras.layers.Dropout(0.3),\n",
    "    tf.keras.layers.Dense(64, activation='relu'),\n",
    "    tf.keras.layers.Dropout(0.2),\n",
    "    tf.keras.layers.Dense(64, activation='relu'),\n",
    "    tf.keras.layers.Dense(3, activation='softmax')\n",
    "])"
   ]
  },
  {
   "cell_type": "code",
   "execution_count": 105,
   "id": "858e8c0a",
   "metadata": {
    "colab": {
     "base_uri": "https://localhost:8080/"
    },
    "id": "858e8c0a",
    "outputId": "2b160e15-9daa-46b3-feaf-3ec4f506ff2e"
   },
   "outputs": [
    {
     "name": "stdout",
     "output_type": "stream",
     "text": [
      "Model: \"sequential_2\"\n",
      "_________________________________________________________________\n",
      "Layer (type)                 Output Shape              Param #   \n",
      "=================================================================\n",
      "embedding_2 (Embedding)      (None, None, 64)          394816    \n",
      "_________________________________________________________________\n",
      "dropout_6 (Dropout)          (None, None, 64)          0         \n",
      "_________________________________________________________________\n",
      "lstm_2 (LSTM)                (None, 64)                33024     \n",
      "_________________________________________________________________\n",
      "dropout_7 (Dropout)          (None, 64)                0         \n",
      "_________________________________________________________________\n",
      "dense_6 (Dense)              (None, 64)                4160      \n",
      "_________________________________________________________________\n",
      "dropout_8 (Dropout)          (None, 64)                0         \n",
      "_________________________________________________________________\n",
      "dense_7 (Dense)              (None, 64)                4160      \n",
      "_________________________________________________________________\n",
      "dense_8 (Dense)              (None, 3)                 195       \n",
      "=================================================================\n",
      "Total params: 436,355\n",
      "Trainable params: 436,355\n",
      "Non-trainable params: 0\n",
      "_________________________________________________________________\n"
     ]
    }
   ],
   "source": [
    "model_3.summary()"
   ]
  },
  {
   "cell_type": "markdown",
   "id": "4534ce30",
   "metadata": {
    "id": "4534ce30"
   },
   "source": [
    "Pada proses `.compile()`, digunakan optimizer berupa `Adam`, dengan *loss function* berupa `categorical_crossentropy` dikarenakan kelas yang kita miliki lebih dari dua, dan penggunaaan *metrics* berupa *accuracy* untuk melihat seberapa baik model kita melakukan klasifikasi pada teks."
   ]
  },
  {
   "cell_type": "code",
   "execution_count": 106,
   "id": "5f30ad2f",
   "metadata": {
    "id": "5f30ad2f"
   },
   "outputs": [],
   "source": [
    "model_3.compile(\n",
    "    optimizer='Adam',\n",
    "    loss = 'categorical_crossentropy',\n",
    "    metrics = ['accuracy']\n",
    ")"
   ]
  },
  {
   "cell_type": "markdown",
   "id": "a403bc4c",
   "metadata": {
    "id": "a403bc4c"
   },
   "source": [
    "Lakukan `.fit()` untuk melakukan proses training pada model. Definisikan parameter `epochs` sebanyak 10 dan `batch_size` sebesar 32."
   ]
  },
  {
   "cell_type": "code",
   "execution_count": 107,
   "id": "4f0464ef",
   "metadata": {
    "colab": {
     "base_uri": "https://localhost:8080/"
    },
    "id": "4f0464ef",
    "outputId": "fd55fa75-ddc2-4463-a01c-64886c4b0119"
   },
   "outputs": [
    {
     "name": "stdout",
     "output_type": "stream",
     "text": [
      "Epoch 1/10\n",
      "3627/3627 [==============================] - 280s 77ms/step - loss: 0.8745 - accuracy: 0.5781 - val_loss: 0.8223 - val_accuracy: 0.6496\n",
      "Epoch 2/10\n",
      "3627/3627 [==============================] - 276s 76ms/step - loss: 0.7384 - accuracy: 0.6605 - val_loss: 0.7637 - val_accuracy: 0.6711\n",
      "Epoch 3/10\n",
      "3627/3627 [==============================] - 270s 75ms/step - loss: 0.6652 - accuracy: 0.6979 - val_loss: 0.9114 - val_accuracy: 0.6336\n",
      "Epoch 4/10\n",
      "3627/3627 [==============================] - 275s 76ms/step - loss: 0.6092 - accuracy: 0.7234 - val_loss: 0.8262 - val_accuracy: 0.6510\n",
      "Epoch 5/10\n",
      "3627/3627 [==============================] - 274s 76ms/step - loss: 0.5702 - accuracy: 0.7429 - val_loss: 0.8907 - val_accuracy: 0.6051\n",
      "Epoch 6/10\n",
      "3627/3627 [==============================] - 269s 74ms/step - loss: 0.5393 - accuracy: 0.7556 - val_loss: 0.9258 - val_accuracy: 0.5988\n",
      "Epoch 7/10\n",
      "3627/3627 [==============================] - 271s 75ms/step - loss: 0.5135 - accuracy: 0.7673 - val_loss: 0.9238 - val_accuracy: 0.6130\n",
      "Epoch 8/10\n",
      "3627/3627 [==============================] - 274s 76ms/step - loss: 0.4929 - accuracy: 0.7775 - val_loss: 0.8966 - val_accuracy: 0.6345\n",
      "Epoch 9/10\n",
      "3627/3627 [==============================] - 270s 75ms/step - loss: 0.4734 - accuracy: 0.7870 - val_loss: 0.9500 - val_accuracy: 0.6129\n",
      "Epoch 10/10\n",
      "3627/3627 [==============================] - 271s 75ms/step - loss: 0.4563 - accuracy: 0.7948 - val_loss: 0.9769 - val_accuracy: 0.6088\n"
     ]
    }
   ],
   "source": [
    "history_3 = model_3.fit(\n",
    "    pad_train_3,\n",
    "    y_train_3,\n",
    "    epochs = 10,\n",
    "    batch_size = 32,\n",
    "    validation_data = (pad_test_3, y_test_3),\n",
    "    verbose = 1\n",
    ")"
   ]
  },
  {
   "cell_type": "markdown",
   "id": "67a9c90d",
   "metadata": {
    "id": "67a9c90d"
   },
   "source": [
    "Simpan model ketiga ke dalam `Model With Oversampling (Without Stopwords).h5`."
   ]
  },
  {
   "cell_type": "code",
   "execution_count": 108,
   "id": "1e1642d3",
   "metadata": {
    "id": "1e1642d3"
   },
   "outputs": [],
   "source": [
    "model_3.save('Model With Oversampling (Without Removing Stopwords).h5')"
   ]
  },
  {
   "cell_type": "code",
   "execution_count": 109,
   "id": "a4552162",
   "metadata": {
    "colab": {
     "base_uri": "https://localhost:8080/",
     "height": 366
    },
    "id": "a4552162",
    "outputId": "2eefe0ec-effc-443d-908a-e2db594a4789"
   },
   "outputs": [
    {
     "data": {
      "image/png": "[encoded data removed]",
      "text/plain": [
       "<Figure size 1296x360 with 1 Axes>"
      ]
     },
     "metadata": {
      "needs_background": "light"
     },
     "output_type": "display_data"
    }
   ],
   "source": [
    "plot_accuracy(history_3)"
   ]
  },
  {
   "cell_type": "code",
   "execution_count": 110,
   "id": "12b40f51",
   "metadata": {
    "colab": {
     "base_uri": "https://localhost:8080/",
     "height": 366
    },
    "id": "12b40f51",
    "outputId": "8f551b4f-7b37-4fd9-9f99-531a9691b7c5"
   },
   "outputs": [
    {
     "data": {
      "image/png": "[encoded data removed]",
      "text/plain": [
       "<Figure size 1296x360 with 1 Axes>"
      ]
     },
     "metadata": {
      "needs_background": "light"
     },
     "output_type": "display_data"
    }
   ],
   "source": [
    "plot_loss(history_3)"
   ]
  },
  {
   "cell_type": "markdown",
   "id": "7d398cc3",
   "metadata": {
    "id": "7d398cc3"
   },
   "source": [
    "**Evaluate**"
   ]
  },
  {
   "cell_type": "code",
   "execution_count": 111,
   "id": "25727cfe",
   "metadata": {
    "id": "25727cfe"
   },
   "outputs": [],
   "source": [
    "y_pred_3 = model_3.predict(pad_test_3)"
   ]
  },
  {
   "cell_type": "code",
   "execution_count": 112,
   "id": "fdb1ac30",
   "metadata": {
    "colab": {
     "base_uri": "https://localhost:8080/",
     "height": 301
    },
    "id": "fdb1ac30",
    "outputId": "d1fe1741-b3f5-4917-c200-f9ee65770e02"
   },
   "outputs": [
    {
     "data": {
      "image/png": "[encoded data removed]",
      "text/plain": [
       "<Figure size 432x288 with 2 Axes>"
      ]
     },
     "metadata": {
      "needs_background": "light"
     },
     "output_type": "display_data"
    }
   ],
   "source": [
    "make_confusion_matrix(y_pred_3, y_test_3)"
   ]
  },
  {
   "cell_type": "code",
   "execution_count": 113,
   "id": "c7d9b792",
   "metadata": {
    "colab": {
     "base_uri": "https://localhost:8080/"
    },
    "id": "c7d9b792",
    "outputId": "cc6e9f0a-1c28-48cc-c7cf-974e82434e6f"
   },
   "outputs": [
    {
     "name": "stdout",
     "output_type": "stream",
     "text": [
      "Accuracy Model : 0.6087556015167184\n"
     ]
    }
   ],
   "source": [
    "print('Accuracy Model :', accuracy_score(np.argmax(y_test_3, axis=1), np.argmax(y_pred_3, axis=1)))"
   ]
  },
  {
   "cell_type": "markdown",
   "id": "f72e1128",
   "metadata": {},
   "source": [
    "Nilai *accuracy* pada model ketiga sebesar 60,87%."
   ]
  },
  {
   "cell_type": "markdown",
   "id": "921ea1ab",
   "metadata": {
    "id": "921ea1ab"
   },
   "source": [
    "#### Model With Oversampling (With Removing Stopword)"
   ]
  },
  {
   "cell_type": "markdown",
   "id": "87a4bf1a",
   "metadata": {
    "id": "87a4bf1a"
   },
   "source": [
    "Bangun model keempat dengan melakukan proses *oversampling* dan dengan menghapus *stopwords*."
   ]
  },
  {
   "cell_type": "markdown",
   "id": "b5e1bbe9",
   "metadata": {
    "id": "b5e1bbe9"
   },
   "source": [
    "**Train Test Split**"
   ]
  },
  {
   "cell_type": "markdown",
   "id": "dd73151a",
   "metadata": {
    "id": "dd73151a"
   },
   "source": [
    "Sebelum membangun model, akan dibagi dataset kita ke dalam *train data* dan *test data* dengan proporsi *train data* sebanyak 80% dan *test data* sebanyak 20%."
   ]
  },
  {
   "cell_type": "code",
   "execution_count": 114,
   "id": "4afcd21d",
   "metadata": {
    "id": "4afcd21d"
   },
   "outputs": [],
   "source": [
    "X_train_4, X_test_4, y_train_4, y_test_4 = train_test_split(review_over_with_stopword, \n",
    "                                                            target_over, \n",
    "                                                            test_size=0.2, \n",
    "                                                            random_state=0)"
   ]
  },
  {
   "cell_type": "code",
   "execution_count": 115,
   "id": "ea78a2b9",
   "metadata": {
    "id": "ea78a2b9"
   },
   "outputs": [],
   "source": [
    "X_train_4, y_train_4 = oversampling(X_train_4, y_train_4)"
   ]
  },
  {
   "cell_type": "markdown",
   "id": "451cd908",
   "metadata": {},
   "source": [
    "Lakukan proses *One Hot Encoding* pada *target* variabel."
   ]
  },
  {
   "cell_type": "code",
   "execution_count": 116,
   "id": "22549b3b",
   "metadata": {
    "id": "22549b3b"
   },
   "outputs": [],
   "source": [
    "ohe = OneHotEncoder(sparse=False, handle_unknown='ignore')\n",
    "y_train_4 = ohe.fit_transform(pd.DataFrame(y_train_4))\n",
    "y_test_4 = ohe.transform(pd.DataFrame(y_test_4))"
   ]
  },
  {
   "cell_type": "code",
   "execution_count": 117,
   "id": "884e8a06",
   "metadata": {
    "colab": {
     "base_uri": "https://localhost:8080/",
     "height": 204
    },
    "id": "884e8a06",
    "outputId": "3dc02529-fb21-4095-8a29-323d625fac69"
   },
   "outputs": [
    {
     "data": {
      "text/html": [
       "<div>\n",
       "<style scoped>\n",
       "    .dataframe tbody tr th:only-of-type {\n",
       "        vertical-align: middle;\n",
       "    }\n",
       "\n",
       "    .dataframe tbody tr th {\n",
       "        vertical-align: top;\n",
       "    }\n",
       "\n",
       "    .dataframe thead th {\n",
       "        text-align: right;\n",
       "    }\n",
       "</style>\n",
       "<table border=\"1\" class=\"dataframe\">\n",
       "  <thead>\n",
       "    <tr style=\"text-align: right;\">\n",
       "      <th></th>\n",
       "      <th>Word</th>\n",
       "      <th>Frequency</th>\n",
       "    </tr>\n",
       "  </thead>\n",
       "  <tbody>\n",
       "    <tr>\n",
       "      <th>0</th>\n",
       "      <td>best</td>\n",
       "      <td>13459</td>\n",
       "    </tr>\n",
       "    <tr>\n",
       "      <th>1</th>\n",
       "      <td>place</td>\n",
       "      <td>30171</td>\n",
       "    </tr>\n",
       "    <tr>\n",
       "      <th>2</th>\n",
       "      <td>work</td>\n",
       "      <td>174115</td>\n",
       "    </tr>\n",
       "    <tr>\n",
       "      <th>3</th>\n",
       "      <td>profession</td>\n",
       "      <td>6687</td>\n",
       "    </tr>\n",
       "    <tr>\n",
       "      <th>4</th>\n",
       "      <td>environ</td>\n",
       "      <td>19134</td>\n",
       "    </tr>\n",
       "  </tbody>\n",
       "</table>\n",
       "</div>"
      ],
      "text/plain": [
       "         Word  Frequency\n",
       "0        best      13459\n",
       "1       place      30171\n",
       "2        work     174115\n",
       "3  profession       6687\n",
       "4     environ      19134"
      ]
     },
     "execution_count": 117,
     "metadata": {},
     "output_type": "execute_result"
    }
   ],
   "source": [
    "list_over_with_stopword = combine_list(list(X_train_4) + list(X_test_4))\n",
    "count_dict_over_with_stopword = collections.Counter(list_over_with_stopword)\n",
    "count_freq_over_with_stopword = pd.DataFrame.from_dict(\n",
    "    count_dict_over_with_stopword, orient='index').reset_index().rename(\n",
    "    columns={'index':'Word', 0:'Frequency'}\n",
    ")\n",
    "count_freq_over_with_stopword.head()"
   ]
  },
  {
   "cell_type": "code",
   "execution_count": 118,
   "id": "e3ff6491",
   "metadata": {
    "colab": {
     "base_uri": "https://localhost:8080/",
     "height": 357
    },
    "id": "e3ff6491",
    "outputId": "87256ced-adfa-4465-fc17-1aee5daa2d18"
   },
   "outputs": [
    {
     "data": {
      "image/png": "[encoded data removed]",
      "text/plain": [
       "<Figure size 1152x360 with 1 Axes>"
      ]
     },
     "metadata": {
      "needs_background": "light"
     },
     "output_type": "display_data"
    }
   ],
   "source": [
    "plt.figure(figsize=(16,5))\n",
    "top_15_word_4 = count_freq_over_with_stopword.sort_values(by='Frequency', ascending=False).head(15)\n",
    "sns.barplot(y=top_15_word_4['Word'],\n",
    "            x=top_15_word_4['Frequency'],\n",
    "            color=\"b\")\n",
    "plt.xlabel('Frequency', fontsize=12)\n",
    "plt.title('Top 15 Common Words in Review With Oversampling (With Removing Stopword)', fontsize=15)\n",
    "plt.show()"
   ]
  },
  {
   "cell_type": "markdown",
   "id": "211640b2",
   "metadata": {
    "id": "211640b2"
   },
   "source": [
    "Berdasarkan gambar di atas, untuk 15 kata dengan frekuensi kemunculan tertinggi sudah tidak didominasi oleh *stopwords*. Terlihat bahwa kata *work* dan *good* adalah dua kata dengan jumlah frekuensi terbanyak. Selanjutnya, kita akan melihat jumlah kata yang memiliki frekuensi kemunculan lebih dari 10."
   ]
  },
  {
   "cell_type": "code",
   "execution_count": 119,
   "id": "6a21178c",
   "metadata": {
    "colab": {
     "base_uri": "https://localhost:8080/"
    },
    "id": "6a21178c",
    "outputId": "4987eb88-6819-4081-955b-0a9d03dd0e88"
   },
   "outputs": [
    {
     "name": "stdout",
     "output_type": "stream",
     "text": [
      "Jumlah kata dengan frekuensi kemunculan lebih dari 10 : 6058\n"
     ]
    }
   ],
   "source": [
    "number_words_4 = len(count_freq_over_with_stopword[count_freq_over_with_stopword['Frequency']>10])\n",
    "print('Jumlah kata dengan frekuensi kemunculan lebih dari 10 :', number_words_4)"
   ]
  },
  {
   "cell_type": "markdown",
   "id": "06381f84",
   "metadata": {
    "id": "06381f84"
   },
   "source": [
    "Terdapat 6058 kata dengan jumlah frekuensi kemunculan lebih dari 10. Oleh karena itu, akan kita berikan nilai parameter `num_words` pada model keempat sebesar 6058."
   ]
  },
  {
   "cell_type": "markdown",
   "id": "82364138",
   "metadata": {
    "id": "82364138"
   },
   "source": [
    "**Tokenizer**"
   ]
  },
  {
   "cell_type": "code",
   "execution_count": 120,
   "id": "727c1d86",
   "metadata": {
    "id": "727c1d86"
   },
   "outputs": [],
   "source": [
    "tokenizer_4 = Tokenizer(num_words=number_words_4, oov_token='-')\n",
    "tokenizer_4.fit_on_texts(X_train_4)\n",
    "\n",
    "sequence_train_4 = tokenizer_4.texts_to_sequences(X_train_4)\n",
    "sequence_test_4 = tokenizer_4.texts_to_sequences(X_test_4)\n",
    "\n",
    "pad_train_4 = pad_sequences(sequence_train_4)\n",
    "pad_test_4 = pad_sequences(sequence_test_4)"
   ]
  },
  {
   "cell_type": "markdown",
   "id": "d703e16e",
   "metadata": {
    "id": "d703e16e"
   },
   "source": [
    "**Create Sequential Model**"
   ]
  },
  {
   "cell_type": "code",
   "execution_count": 121,
   "id": "c437ba1b",
   "metadata": {
    "id": "c437ba1b"
   },
   "outputs": [],
   "source": [
    "model_4 = tf.keras.models.Sequential([\n",
    "    tf.keras.layers.Embedding(input_dim=number_words_4, output_dim=64),\n",
    "    tf.keras.layers.Dropout(0.4),\n",
    "    tf.keras.layers.LSTM(64),\n",
    "    tf.keras.layers.Dropout(0.3),\n",
    "    tf.keras.layers.Dense(64, activation='relu'),\n",
    "    tf.keras.layers.Dropout(0.2),\n",
    "    tf.keras.layers.Dense(64, activation='relu'),\n",
    "    tf.keras.layers.Dense(3, activation='softmax')\n",
    "])"
   ]
  },
  {
   "cell_type": "code",
   "execution_count": 122,
   "id": "e448f7a0",
   "metadata": {
    "colab": {
     "base_uri": "https://localhost:8080/"
    },
    "id": "e448f7a0",
    "outputId": "f91f34d9-23f1-4961-f475-410254894103"
   },
   "outputs": [
    {
     "name": "stdout",
     "output_type": "stream",
     "text": [
      "Model: \"sequential_3\"\n",
      "_________________________________________________________________\n",
      "Layer (type)                 Output Shape              Param #   \n",
      "=================================================================\n",
      "embedding_3 (Embedding)      (None, None, 64)          387712    \n",
      "_________________________________________________________________\n",
      "dropout_9 (Dropout)          (None, None, 64)          0         \n",
      "_________________________________________________________________\n",
      "lstm_3 (LSTM)                (None, 64)                33024     \n",
      "_________________________________________________________________\n",
      "dropout_10 (Dropout)         (None, 64)                0         \n",
      "_________________________________________________________________\n",
      "dense_9 (Dense)              (None, 64)                4160      \n",
      "_________________________________________________________________\n",
      "dropout_11 (Dropout)         (None, 64)                0         \n",
      "_________________________________________________________________\n",
      "dense_10 (Dense)             (None, 64)                4160      \n",
      "_________________________________________________________________\n",
      "dense_11 (Dense)             (None, 3)                 195       \n",
      "=================================================================\n",
      "Total params: 429,251\n",
      "Trainable params: 429,251\n",
      "Non-trainable params: 0\n",
      "_________________________________________________________________\n"
     ]
    }
   ],
   "source": [
    "model_4.summary()"
   ]
  },
  {
   "cell_type": "markdown",
   "id": "f8bdb4a9",
   "metadata": {
    "id": "f8bdb4a9"
   },
   "source": [
    "Pada proses `.compile()`, digunakan optimizer berupa `Adam`, dengan *loss function* berupa `categorical_crossentropy` dikarenakan kelas yang kita miliki lebih dari dua, dan penggunaaan *metrics* berupa *accuracy* untuk melihat seberapa baik model kita melakukan klasifikasi pada teks."
   ]
  },
  {
   "cell_type": "code",
   "execution_count": 123,
   "id": "7032e74a",
   "metadata": {
    "id": "7032e74a"
   },
   "outputs": [],
   "source": [
    "model_4.compile(\n",
    "    optimizer='Adam',\n",
    "    loss = 'categorical_crossentropy',\n",
    "    metrics = ['accuracy']\n",
    ")"
   ]
  },
  {
   "cell_type": "markdown",
   "id": "5f093f6a",
   "metadata": {
    "id": "5f093f6a"
   },
   "source": [
    "Lakukan `.fit()` untuk melakukan proses training pada model. Definisikan parameter `epochs` sebanyak 10 dan `batch_size` sebesar 32."
   ]
  },
  {
   "cell_type": "code",
   "execution_count": 124,
   "id": "7e1314cf",
   "metadata": {
    "colab": {
     "base_uri": "https://localhost:8080/"
    },
    "id": "7e1314cf",
    "outputId": "10f40fe9-e938-4cee-fc5a-9fec03c6f9d6"
   },
   "outputs": [
    {
     "name": "stdout",
     "output_type": "stream",
     "text": [
      "Epoch 1/10\n",
      "3627/3627 [==============================] - 160s 43ms/step - loss: 0.8906 - accuracy: 0.5653 - val_loss: 0.8394 - val_accuracy: 0.6356\n",
      "Epoch 2/10\n",
      "3627/3627 [==============================] - 156s 43ms/step - loss: 0.7609 - accuracy: 0.6473 - val_loss: 0.8642 - val_accuracy: 0.6006\n",
      "Epoch 3/10\n",
      "3627/3627 [==============================] - 152s 42ms/step - loss: 0.6781 - accuracy: 0.6879 - val_loss: 0.8677 - val_accuracy: 0.6218\n",
      "Epoch 4/10\n",
      "3627/3627 [==============================] - 150s 41ms/step - loss: 0.6226 - accuracy: 0.7153 - val_loss: 0.8935 - val_accuracy: 0.6244\n",
      "Epoch 5/10\n",
      "3627/3627 [==============================] - 160s 44ms/step - loss: 0.5815 - accuracy: 0.7334 - val_loss: 0.8782 - val_accuracy: 0.6379\n",
      "Epoch 6/10\n",
      "3627/3627 [==============================] - 165s 45ms/step - loss: 0.5481 - accuracy: 0.7489 - val_loss: 0.9023 - val_accuracy: 0.5908\n",
      "Epoch 7/10\n",
      "3627/3627 [==============================] - 156s 43ms/step - loss: 0.5203 - accuracy: 0.7616 - val_loss: 0.9827 - val_accuracy: 0.5923\n",
      "Epoch 8/10\n",
      "3627/3627 [==============================] - 154s 43ms/step - loss: 0.5021 - accuracy: 0.7717 - val_loss: 0.9703 - val_accuracy: 0.5981\n",
      "Epoch 9/10\n",
      "3627/3627 [==============================] - 152s 42ms/step - loss: 0.4838 - accuracy: 0.7801 - val_loss: 0.9329 - val_accuracy: 0.6296\n",
      "Epoch 10/10\n",
      "3627/3627 [==============================] - 151s 42ms/step - loss: 0.4674 - accuracy: 0.7882 - val_loss: 0.9778 - val_accuracy: 0.5776\n"
     ]
    }
   ],
   "source": [
    "history_4 = model_4.fit(\n",
    "    pad_train_4,\n",
    "    y_train_4,\n",
    "    epochs = 10,\n",
    "    batch_size = 32,\n",
    "    validation_data = (pad_test_4, y_test_4),\n",
    "    verbose = 1\n",
    ")"
   ]
  },
  {
   "cell_type": "markdown",
   "id": "50d7ef3b",
   "metadata": {
    "id": "50d7ef3b"
   },
   "source": [
    "Simpan model keempat ke dalam `Model With Oversampling (With Removing Stopwords).h5`."
   ]
  },
  {
   "cell_type": "code",
   "execution_count": 125,
   "id": "dd7f68d3",
   "metadata": {
    "id": "dd7f68d3"
   },
   "outputs": [],
   "source": [
    "model_4.save('Model With Oversampling (With Removing Stopwords).h5')"
   ]
  },
  {
   "cell_type": "code",
   "execution_count": 126,
   "id": "8e3e6d08",
   "metadata": {
    "colab": {
     "base_uri": "https://localhost:8080/",
     "height": 366
    },
    "id": "8e3e6d08",
    "outputId": "58f94594-5094-4483-d7e4-67b1b2f0b145"
   },
   "outputs": [
    {
     "data": {
      "image/png": "[encoded data removed]",
      "text/plain": [
       "<Figure size 1296x360 with 1 Axes>"
      ]
     },
     "metadata": {
      "needs_background": "light"
     },
     "output_type": "display_data"
    }
   ],
   "source": [
    "plot_accuracy(history_4)"
   ]
  },
  {
   "cell_type": "code",
   "execution_count": 127,
   "id": "d207dbef",
   "metadata": {
    "colab": {
     "base_uri": "https://localhost:8080/",
     "height": 366
    },
    "id": "d207dbef",
    "outputId": "837a48cc-238c-4535-a48a-1587dee145de"
   },
   "outputs": [
    {
     "data": {
      "image/png": "[encoded data removed]",
      "text/plain": [
       "<Figure size 1296x360 with 1 Axes>"
      ]
     },
     "metadata": {
      "needs_background": "light"
     },
     "output_type": "display_data"
    }
   ],
   "source": [
    "plot_loss(history_4)"
   ]
  },
  {
   "cell_type": "markdown",
   "id": "51337d32",
   "metadata": {
    "id": "51337d32"
   },
   "source": [
    "**Evaluate**"
   ]
  },
  {
   "cell_type": "code",
   "execution_count": 128,
   "id": "73451f75",
   "metadata": {
    "id": "73451f75"
   },
   "outputs": [],
   "source": [
    "y_pred_4 = model_4.predict(pad_test_4)"
   ]
  },
  {
   "cell_type": "code",
   "execution_count": 129,
   "id": "812b1b00",
   "metadata": {
    "colab": {
     "base_uri": "https://localhost:8080/",
     "height": 301
    },
    "id": "812b1b00",
    "outputId": "ae1c9919-aedc-462a-ffaa-b09ce568a617"
   },
   "outputs": [
    {
     "data": {
      "image/png": "[encoded data removed]",
      "text/plain": [
       "<Figure size 432x288 with 2 Axes>"
      ]
     },
     "metadata": {
      "needs_background": "light"
     },
     "output_type": "display_data"
    }
   ],
   "source": [
    "make_confusion_matrix(y_pred_4, y_test_4)"
   ]
  },
  {
   "cell_type": "code",
   "execution_count": 130,
   "id": "582d631e",
   "metadata": {
    "colab": {
     "base_uri": "https://localhost:8080/"
    },
    "id": "582d631e",
    "outputId": "541aa275-b1c6-470e-adbb-a7d1d48a2e1c"
   },
   "outputs": [
    {
     "name": "stdout",
     "output_type": "stream",
     "text": [
      "Accuracy Model : 0.5776284039986211\n"
     ]
    }
   ],
   "source": [
    "print('Accuracy Model :', accuracy_score(np.argmax(y_test_4, axis=1), np.argmax(y_pred_4, axis=1)))"
   ]
  },
  {
   "cell_type": "markdown",
   "id": "4bfb6c15",
   "metadata": {},
   "source": [
    "Nilai *accuracy* pada model keempat sebesar 57,76%."
   ]
  },
  {
   "cell_type": "markdown",
   "id": "63aa19fc",
   "metadata": {
    "id": "63aa19fc"
   },
   "source": [
    "## Comparing Model"
   ]
  },
  {
   "cell_type": "code",
   "execution_count": 131,
   "id": "583914ab",
   "metadata": {
    "id": "583914ab"
   },
   "outputs": [],
   "source": [
    "names = [\n",
    "    'Model Without Oversampling (Without Removing Stopwords)', \n",
    "    'Model Without Oversampling (With Removing Stopwords)',\n",
    "    'Model With Oversampling (Without Removing Stopwords)',\n",
    "    'Model With Oversampling (With Removing Stopwords)'\n",
    "]\n",
    "acc_score = [\n",
    "    accuracy_score(np.argmax(y_test_1, axis=1), np.argmax(y_pred_1, axis=1)),\n",
    "    accuracy_score(np.argmax(y_test_2, axis=1), np.argmax(y_pred_2, axis=1)),\n",
    "    accuracy_score(np.argmax(y_test_3, axis=1), np.argmax(y_pred_3, axis=1)),\n",
    "    accuracy_score(np.argmax(y_test_4, axis=1), np.argmax(y_pred_4, axis=1)),\n",
    "]"
   ]
  },
  {
   "cell_type": "code",
   "execution_count": 132,
   "id": "e8e81789",
   "metadata": {
    "colab": {
     "base_uri": "https://localhost:8080/",
     "height": 173
    },
    "id": "e8e81789",
    "outputId": "bc4d4b46-b901-4c46-fb60-bc47f9fb9018"
   },
   "outputs": [
    {
     "data": {
      "text/html": [
       "<div>\n",
       "<style scoped>\n",
       "    .dataframe tbody tr th:only-of-type {\n",
       "        vertical-align: middle;\n",
       "    }\n",
       "\n",
       "    .dataframe tbody tr th {\n",
       "        vertical-align: top;\n",
       "    }\n",
       "\n",
       "    .dataframe thead th {\n",
       "        text-align: right;\n",
       "    }\n",
       "</style>\n",
       "<table border=\"1\" class=\"dataframe\">\n",
       "  <thead>\n",
       "    <tr style=\"text-align: right;\">\n",
       "      <th></th>\n",
       "      <th>Model</th>\n",
       "      <th>Accuracy Score</th>\n",
       "    </tr>\n",
       "  </thead>\n",
       "  <tbody>\n",
       "    <tr>\n",
       "      <th>0</th>\n",
       "      <td>Model Without Oversampling (Without Removing S...</td>\n",
       "      <td>0.774043</td>\n",
       "    </tr>\n",
       "    <tr>\n",
       "      <th>1</th>\n",
       "      <td>Model Without Oversampling (With Removing Stop...</td>\n",
       "      <td>0.770217</td>\n",
       "    </tr>\n",
       "    <tr>\n",
       "      <th>2</th>\n",
       "      <td>Model With Oversampling (Without Removing Stop...</td>\n",
       "      <td>0.608756</td>\n",
       "    </tr>\n",
       "    <tr>\n",
       "      <th>3</th>\n",
       "      <td>Model With Oversampling (With Removing Stopwords)</td>\n",
       "      <td>0.577628</td>\n",
       "    </tr>\n",
       "  </tbody>\n",
       "</table>\n",
       "</div>"
      ],
      "text/plain": [
       "                                               Model  Accuracy Score\n",
       "0  Model Without Oversampling (Without Removing S...        0.774043\n",
       "1  Model Without Oversampling (With Removing Stop...        0.770217\n",
       "2  Model With Oversampling (Without Removing Stop...        0.608756\n",
       "3  Model With Oversampling (With Removing Stopwords)        0.577628"
      ]
     },
     "execution_count": 132,
     "metadata": {},
     "output_type": "execute_result"
    }
   ],
   "source": [
    "compare = pd.DataFrame()\n",
    "compare['Model'] = names\n",
    "compare['Accuracy Score'] = acc_score\n",
    "compare"
   ]
  },
  {
   "cell_type": "markdown",
   "id": "017fca23",
   "metadata": {},
   "source": [
    "Berdasarkan tabel di atas, terlihat bahwa `model_1` atau model pertama dengan tanpa proses *oversampling* dan tanpa penghapusan *stopwords* adalah model dengan nilai *accuracy* tertinggi dengan nilai *accuracy* sebesar 0,774043."
   ]
  },
  {
   "cell_type": "markdown",
   "id": "850ae8d1",
   "metadata": {
    "id": "850ae8d1"
   },
   "source": [
    "## Predict Text"
   ]
  },
  {
   "cell_type": "markdown",
   "id": "a0c451f6",
   "metadata": {
    "id": "a0c451f6"
   },
   "source": [
    "Setelah membangun empat buah model yang akan digunakan untuk melakukan klasifikasi pada *review* yang diberikan pegawai terhadap perusahaannya. Kita melihat bahwa pada model pertama mempunyai nilai *accuracy* sebesar 77,40%, 77,02% untuk model kedua, 60,87% untuk model ketiga, dan 57,76% untuk model keempat. Oleh karena itu, kita akan menggunakan model pertama untuk melakukan klasifikasi pada *review* selanjutnya."
   ]
  },
  {
   "cell_type": "markdown",
   "id": "AFAnreVmVkPX",
   "metadata": {
    "id": "AFAnreVmVkPX"
   },
   "source": [
    "**Create Function To Predict Text**"
   ]
  },
  {
   "cell_type": "markdown",
   "id": "fd5d0764",
   "metadata": {
    "id": "fd5d0764"
   },
   "source": [
    "Definisikan fungsi `predict_text` untuk melakukan prediksi pada *review* yang diberikan pegawai."
   ]
  },
  {
   "cell_type": "code",
   "execution_count": 143,
   "id": "tdWwBnHUVnXt",
   "metadata": {
    "id": "tdWwBnHUVnXt"
   },
   "outputs": [],
   "source": [
    "def predict_text(sentence, tokenizer, model):\n",
    "    sentence = text_preprocessing(sentence)\n",
    "    seq = tokenizer.texts_to_sequences(sentence)\n",
    "    pad = pad_sequences(seq)\n",
    "    pred = model.predict(pad)\n",
    "    class_pred = np.argmax(pred, axis=1)\n",
    "    labels = []\n",
    "    for i in range(len(class_pred)):\n",
    "        if class_pred[i] == 0:\n",
    "            labels.append('Negative')\n",
    "        elif class_pred[i] == 1:\n",
    "            labels.append('Neutral')\n",
    "        else:\n",
    "            labels.append('Positive')\n",
    "    return labels "
   ]
  },
  {
   "cell_type": "markdown",
   "id": "c40da0fe",
   "metadata": {
    "id": "c40da0fe"
   },
   "source": [
    "Berikan 3 buah *review* baru untuk melihat bagaimana model yang telah dibangun dapat melakukan klasifikasi pada *review* tersebut."
   ]
  },
  {
   "cell_type": "code",
   "execution_count": 156,
   "id": "viwNlFxITWrF",
   "metadata": {
    "id": "viwNlFxITWrF"
   },
   "outputs": [],
   "source": [
    "data = pd.DataFrame([{'Review': \n",
    "                      '''\n",
    "                      Excellent work-life balance with top-notch benefits. \n",
    "                      The management team really seems to care about their employees. \n",
    "                      You may have to work late/from home sometimes when the company needs you to, \n",
    "                      but that is balanced with the ability to work from home when you need to; its a fair trade\n",
    "                      '''}, \n",
    "                     {'Review': \n",
    "                      '''\n",
    "                      No work life balance for sales Division in head office. \n",
    "                      Everything have tight deadline and must be fulfilled. \n",
    "                      But good starting salary compared to other companies in Surabaya and the benefits is good as well.\n",
    "                      '''}, \n",
    "                     {'Review': \n",
    "                      '''\n",
    "                      Manager driven and manager has more power. \n",
    "                      All are depends on your manager. \n",
    "                      No hike for last 2 yrs. \n",
    "                      You should say 'yes' for what ever manager says. \n",
    "                      Else you won't get any hike for sure. \n",
    "                      Manager does not know how to run a project. \n",
    "                      Non technical manager won't understand any technical issues. \n",
    "                      HR can't take any decision and they needs to depend / obey with the BU Directer.\n",
    "                      '''}])"
   ]
  },
  {
   "cell_type": "code",
   "execution_count": 157,
   "id": "iPmQWOi6YNiG",
   "metadata": {
    "id": "iPmQWOi6YNiG"
   },
   "outputs": [],
   "source": [
    "label = predict_text(data['Review'], tokenizer_1, model_1)"
   ]
  },
  {
   "cell_type": "code",
   "execution_count": 158,
   "id": "muk9NufoVeJo",
   "metadata": {
    "id": "muk9NufoVeJo"
   },
   "outputs": [],
   "source": [
    "data['Category'] = label"
   ]
  },
  {
   "cell_type": "code",
   "execution_count": 159,
   "id": "9AiTIRiOaJux",
   "metadata": {
    "colab": {
     "base_uri": "https://localhost:8080/",
     "height": 142
    },
    "id": "9AiTIRiOaJux",
    "outputId": "42223703-07db-4615-dbdf-17f42affbd22"
   },
   "outputs": [
    {
     "data": {
      "text/html": [
       "<div>\n",
       "<style scoped>\n",
       "    .dataframe tbody tr th:only-of-type {\n",
       "        vertical-align: middle;\n",
       "    }\n",
       "\n",
       "    .dataframe tbody tr th {\n",
       "        vertical-align: top;\n",
       "    }\n",
       "\n",
       "    .dataframe thead th {\n",
       "        text-align: right;\n",
       "    }\n",
       "</style>\n",
       "<table border=\"1\" class=\"dataframe\">\n",
       "  <thead>\n",
       "    <tr style=\"text-align: right;\">\n",
       "      <th></th>\n",
       "      <th>Review</th>\n",
       "      <th>Category</th>\n",
       "    </tr>\n",
       "  </thead>\n",
       "  <tbody>\n",
       "    <tr>\n",
       "      <th>0</th>\n",
       "      <td>\\n                      Excellent work-life ba...</td>\n",
       "      <td>Positive</td>\n",
       "    </tr>\n",
       "    <tr>\n",
       "      <th>1</th>\n",
       "      <td>\\n                      No work life balance f...</td>\n",
       "      <td>Neutral</td>\n",
       "    </tr>\n",
       "    <tr>\n",
       "      <th>2</th>\n",
       "      <td>\\n                      Manager driven and man...</td>\n",
       "      <td>Negative</td>\n",
       "    </tr>\n",
       "  </tbody>\n",
       "</table>\n",
       "</div>"
      ],
      "text/plain": [
       "                                              Review  Category\n",
       "0  \\n                      Excellent work-life ba...  Positive\n",
       "1  \\n                      No work life balance f...   Neutral\n",
       "2  \\n                      Manager driven and man...  Negative"
      ]
     },
     "execution_count": 159,
     "metadata": {},
     "output_type": "execute_result"
    }
   ],
   "source": [
    "data"
   ]
  },
  {
   "cell_type": "markdown",
   "id": "c7d0e83b",
   "metadata": {
    "id": "c7d0e83b"
   },
   "source": [
    "Terlihat bahwa untuk *review* pertama model mengklasifikasikan *review* tersebut ke dalam kelas *Positive*, *Neutral* untuk *review* kedua, dan *Negative* untuk *review* ketiga. Berdasarkan 3 contoh *review* yang diberikan, dapat dikatakan model dapat melakukan klasifikasi *review* dengan baik."
   ]
  },
  {
   "cell_type": "markdown",
   "id": "c5073cee",
   "metadata": {
    "id": "c5073cee"
   },
   "source": [
    "# Conclusion"
   ]
  },
  {
   "cell_type": "markdown",
   "id": "34c69fd8",
   "metadata": {
    "id": "34c69fd8"
   },
   "source": [
    "Berdasarkan proses yang telah dilakukan, dapat diperoleh beberapa kesimpulan yang dapat menjawab permasalahan sebelumnya.\n",
    "\n",
    "1. Mengetahui review yang diberikan oleh pegawai terhadap perusahaan. <br>\n",
    "Jawab: <br>\n",
    "Setelah melakukan proses *Exploratory Data Analysis*, diperoleh rata-rata *rating* yang diberikan oleh pegawai terhadap perusahaan adalah **4,053/5** yang mengindikasikan bahwa mayoritas *review* yang diberikan adalah positif. Berdasarkan jenis pegawai, *review* lebih banyak diberikan oleh *Former Employee* yaitu sebanyak **79377** *review* dibandingkan dengan *Current Employee* dengan **65672** *review*. Berdasarkan tahunnya, tahun **2017** adalah tahun dengan jumlah *review* terbanyak dibandingkan tahun lainnya. Berdasarkan bulannya, bulan *Maret* adalah bulan dengan jumlah *review* terbanyak dibandingkan bulan lainnya. 5 Perusahaan dengan jumlah *review* terbanyak adalah **Tata-Consultancy-Service**, **IBM**, **Infosys**, **Accenture**, dan **Cognizant Technology Solutions** dengan jumlah *review* untuk tiap perusahaan melebihi 8000 *review*.\n",
    "Dilihat berdasarkan jenis pegawai, pegawai dengan status *Former Employee* memberikan nilai *rating* tinggi lebih banyak dibandingkan dengan pegawai dengan status *Current Employee*.\n",
    "\n",
    "    \n",
    "2. Memprediksi *review* yang diberikan dan mengkategorikannya ke dalam review yang bersifat positif, netral, atau negatif. <br>\n",
    "Jawab: <br>\n",
    "Proses prediksi *review* yang diberikan pegawai terhadap perusahaannya dapat diprediksi menggunakan proses *Deep Learning* dengan arsitektur *Neural Network*. Proses dilakukan dengan melakukan **Tokenizer** dengan parameter `num_words` disesuaikan dengan pemilihan jumlah kata efektif dengan melihat kemunculan frekuensi tiap kata yang ada pada teks dan dilakukan proses *padding* untuk membuat panjang tiap kalimat sama. Kemudian pembuatan arsitektur *Neural Network* dilakukan dengan menggunakan layer **Embedding** untuk mengelompokkan kata yang memiliki makna yang mirip dan diberikan *layer* **Long Short Term Memory (LSTM)** untuk mengenali makna dari suatu kalimat berdasarkan urutan kata pada kalimat. Berdasarkan arsitektur *Neural Network* ini, dibangun 4 buah model yaitu `model_1` untuk model tanpa proses *oversampling* dan tanpa penghapusan *stopwords*, `model_2` untuk model tanpa proses *oversampling* dan dengan penghapusan *stopwords*, `model_3` untuk model dengan proses *oversampling* dan tanpa penghapusan *stopwords*, dan `model_4` untuk model dengan proses *oversampling* dan dengan penghapusan *stopwords*. Menggunakan empat model tersebut, diperoleh nilai *accuracy* sebesar **77,40%** untuk model `model_1`, **77,02%** untuk model `model_2`, **60,87%** untuk model `model_3`, dan **57,76%** untuk model `model_4`. Sehingga, untuk melakukan prediksi dalam klasifikasi *review* selanjutnya, dapat digunakan `model_1` yaitu model tanpa dilakukan proses *oversampling* dan tanpa penghapusan *stopwords*."
   ]
  }
 ],
 "metadata": {
  "accelerator": "GPU",
  "colab": {
   "collapsed_sections": [
    "628c0b56",
    "2312d137",
    "3d2dad27",
    "fbf861ed",
    "167e1824",
    "cebd3790",
    "13b65ba3",
    "a1886f28",
    "7fd04c32",
    "589ec56d",
    "e4e76bbf",
    "af4030e6",
    "41d15833",
    "815f3520",
    "e0615472",
    "645b8933",
    "f143c628"
   ],
   "name": "Employer_Review_Prediction_(For_Algoritma_ML_Industry).ipynb",
   "provenance": []
  },
  "kernelspec": {
   "display_name": "NLP",
   "language": "python",
   "name": "nlp"
  },
  "language_info": {
   "codemirror_mode": {
    "name": "ipython",
    "version": 3
   },
   "file_extension": ".py",
   "mimetype": "text/x-python",
   "name": "python",
   "nbconvert_exporter": "python",
   "pygments_lexer": "ipython3",
   "version": "3.8.11"
  },
  "toc": {
   "base_numbering": 1,
   "nav_menu": {},
   "number_sections": true,
   "sideBar": true,
   "skip_h1_title": false,
   "title_cell": "Table of Contents",
   "title_sidebar": "Contents",
   "toc_cell": false,
   "toc_position": {},
   "toc_section_display": true,
   "toc_window_display": true
  },
  "varInspector": {
   "cols": {
    "lenName": 16,
    "lenType": 16,
    "lenVar": 40
   },
   "kernels_config": {
    "python": {
     "delete_cmd_postfix": "",
     "delete_cmd_prefix": "del ",
     "library": "var_list.py",
     "varRefreshCmd": "print(var_dic_list())"
    },
    "r": {
     "delete_cmd_postfix": ") ",
     "delete_cmd_prefix": "rm(",
     "library": "var_list.r",
     "varRefreshCmd": "cat(var_dic_list()) "
    }
   },
   "types_to_exclude": [
    "module",
    "function",
    "builtin_function_or_method",
    "instance",
    "_Feature"
   ],
   "window_display": false
  }
 },
 "nbformat": 4,
 "nbformat_minor": 5
}
