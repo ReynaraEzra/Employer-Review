{
  "nbformat": 4,
  "nbformat_minor": 5,
  "metadata": {
    "kernelspec": {
      "display_name": "NLP",
      "language": "python",
      "name": "nlp"
    },
    "language_info": {
      "codemirror_mode": {
        "name": "ipython",
        "version": 3
      },
      "file_extension": ".py",
      "mimetype": "text/x-python",
      "name": "python",
      "nbconvert_exporter": "python",
      "pygments_lexer": "ipython3",
      "version": "3.8.11"
    },
    "toc": {
      "base_numbering": 1,
      "nav_menu": {},
      "number_sections": false,
      "sideBar": true,
      "skip_h1_title": false,
      "title_cell": "Table of Contents",
      "title_sidebar": "Contents",
      "toc_cell": false,
      "toc_position": {},
      "toc_section_display": true,
      "toc_window_display": false
    },
    "varInspector": {
      "cols": {
        "lenName": 16,
        "lenType": 16,
        "lenVar": 40
      },
      "kernels_config": {
        "python": {
          "delete_cmd_postfix": "",
          "delete_cmd_prefix": "del ",
          "library": "var_list.py",
          "varRefreshCmd": "print(var_dic_list())"
        },
        "r": {
          "delete_cmd_postfix": ") ",
          "delete_cmd_prefix": "rm(",
          "library": "var_list.r",
          "varRefreshCmd": "cat(var_dic_list()) "
        }
      },
      "types_to_exclude": [
        "module",
        "function",
        "builtin_function_or_method",
        "instance",
        "_Feature"
      ],
      "window_display": false
    },
    "colab": {
      "name": "Employer Review Prediction.ipynb",
      "provenance": []
    },
    "accelerator": "GPU"
  },
  "cells": [
    {
      "cell_type": "markdown",
      "metadata": {
        "id": "4bd2e5a9"
      },
      "source": [
        "# Employer Review Prediction\n",
        "## Reynara Ezra Pratama"
      ],
      "id": "4bd2e5a9"
    },
    {
      "cell_type": "markdown",
      "metadata": {
        "id": "cea14dc2"
      },
      "source": [
        "## Background"
      ],
      "id": "cea14dc2"
    },
    {
      "cell_type": "markdown",
      "metadata": {
        "id": "16bef603"
      },
      "source": [
        ""
      ],
      "id": "16bef603"
    },
    {
      "cell_type": "markdown",
      "metadata": {
        "id": "fbb2ecc8"
      },
      "source": [
        "## Business Understanding"
      ],
      "id": "fbb2ecc8"
    },
    {
      "cell_type": "markdown",
      "metadata": {
        "id": "7835786a"
      },
      "source": [
        "1. Mengetahui *review* yang diberikan oleh pegawai terhadap perusahaan.\n",
        "2. Memprediksi *review* yang diberikan dan mengkategorikannya ke dalam *review* yang bersifat positif, netral, atau negatif."
      ],
      "id": "7835786a"
    },
    {
      "cell_type": "markdown",
      "metadata": {
        "id": "9ce6765f"
      },
      "source": [
        "## Data Understanding"
      ],
      "id": "9ce6765f"
    },
    {
      "cell_type": "markdown",
      "metadata": {
        "id": "d6c2e1e6"
      },
      "source": [
        "1. `ReviewTitle` : Topik dari *review*.\n",
        "2. `CompleteReview` : *Review* yang diberikan pegawai perusahaan.\n",
        "3. `URL` : *Uniform Resource Locator*.\n",
        "4. `Rating` : Penilaian yang diberikan pegawai perusahaan.\n",
        "5. `ReviewDetails` : Detail mengenai *review*."
      ],
      "id": "d6c2e1e6"
    },
    {
      "cell_type": "markdown",
      "metadata": {
        "id": "e23e821e"
      },
      "source": [
        "## Import Library"
      ],
      "id": "e23e821e"
    },
    {
      "cell_type": "code",
      "metadata": {
        "ExecuteTime": {
          "end_time": "2021-09-27T14:50:13.457311Z",
          "start_time": "2021-09-27T14:50:13.144414Z"
        },
        "id": "9748b717"
      },
      "source": [
        "import pandas as pd\n",
        "import numpy as np\n",
        "import matplotlib.pyplot as plt\n",
        "import seaborn as sns\n",
        "sns.set_theme()\n",
        "\n",
        "from sklearn.preprocessing import OneHotEncoder\n",
        "\n",
        "from sklearn.model_selection import train_test_split\n",
        "\n",
        "from sklearn.metrics import confusion_matrix\n",
        "from sklearn.metrics import accuracy_score\n",
        "from sklearn.metrics import recall_score\n",
        "from sklearn.metrics import precision_score\n",
        "from sklearn.metrics import f1_score\n",
        "\n",
        "import tensorflow as tf\n",
        "import nltk\n",
        "\n",
        "from tensorflow.keras.preprocessing.text import Tokenizer\n",
        "from tensorflow.keras.preprocessing.sequence import pad_sequences\n",
        "\n",
        "import warnings \n",
        "warnings.filterwarnings('ignore')"
      ],
      "id": "9748b717",
      "execution_count": 1,
      "outputs": []
    },
    {
      "cell_type": "markdown",
      "metadata": {
        "id": "e7c61f81"
      },
      "source": [
        "## Loading Dataset"
      ],
      "id": "e7c61f81"
    },
    {
      "cell_type": "markdown",
      "metadata": {
        "id": "e5629108"
      },
      "source": [
        "**Load Data From Github**"
      ],
      "id": "e5629108"
    },
    {
      "cell_type": "code",
      "metadata": {
        "ExecuteTime": {
          "end_time": "2021-09-27T13:15:18.252959Z",
          "start_time": "2021-09-27T13:15:18.249490Z"
        },
        "id": "8a9ad1b5"
      },
      "source": [
        "url = \"https://raw.githubusercontent.com/ReynaraEzra/Employer-Review/main/data_input/results.json\"\n",
        "df = pd.read_json(url)"
      ],
      "id": "8a9ad1b5",
      "execution_count": 2,
      "outputs": []
    },
    {
      "cell_type": "markdown",
      "metadata": {
        "id": "244cba15"
      },
      "source": [
        "**Load Data From Local File**"
      ],
      "id": "244cba15"
    },
    {
      "cell_type": "code",
      "metadata": {
        "ExecuteTime": {
          "end_time": "2021-09-27T13:15:20.254277Z",
          "start_time": "2021-09-27T13:15:18.255466Z"
        },
        "id": "4e4c39e0"
      },
      "source": [
        "# df = pd.read_json('data_input/results.json')"
      ],
      "id": "4e4c39e0",
      "execution_count": 3,
      "outputs": []
    },
    {
      "cell_type": "markdown",
      "metadata": {
        "id": "d9c301e5"
      },
      "source": [
        "## Checking Dataset"
      ],
      "id": "d9c301e5"
    },
    {
      "cell_type": "code",
      "metadata": {
        "ExecuteTime": {
          "end_time": "2021-09-27T13:15:20.687651Z",
          "start_time": "2021-09-27T13:15:20.256735Z"
        },
        "id": "d9532c99",
        "outputId": "542f6f69-698b-4c6e-914c-f767d61624d7",
        "colab": {
          "base_uri": "https://localhost:8080/",
          "height": 289
        }
      },
      "source": [
        "df.head()"
      ],
      "id": "d9532c99",
      "execution_count": 4,
      "outputs": [
        {
          "output_type": "execute_result",
          "data": {
            "text/html": [
              "<div>\n",
              "<style scoped>\n",
              "    .dataframe tbody tr th:only-of-type {\n",
              "        vertical-align: middle;\n",
              "    }\n",
              "\n",
              "    .dataframe tbody tr th {\n",
              "        vertical-align: top;\n",
              "    }\n",
              "\n",
              "    .dataframe thead th {\n",
              "        text-align: right;\n",
              "    }\n",
              "</style>\n",
              "<table border=\"1\" class=\"dataframe\">\n",
              "  <thead>\n",
              "    <tr style=\"text-align: right;\">\n",
              "      <th></th>\n",
              "      <th>ReviewTitle</th>\n",
              "      <th>CompleteReview</th>\n",
              "      <th>URL</th>\n",
              "      <th>Rating</th>\n",
              "      <th>ReviewDetails</th>\n",
              "    </tr>\n",
              "  </thead>\n",
              "  <tbody>\n",
              "    <tr>\n",
              "      <th>0</th>\n",
              "      <td>Productive</td>\n",
              "      <td>Good company, cool workplace, work load little...</td>\n",
              "      <td>https://in.indeed.com/cmp/Reliance-Industries-...</td>\n",
              "      <td>3</td>\n",
              "      <td>(Current Employee)  -  Ghansoli  -  August 30,...</td>\n",
              "    </tr>\n",
              "    <tr>\n",
              "      <th>1</th>\n",
              "      <td>Stressful</td>\n",
              "      <td>1. Need to work on boss's whims and fancies 2....</td>\n",
              "      <td>https://in.indeed.com/cmp/Reliance-Industries-...</td>\n",
              "      <td>3</td>\n",
              "      <td>(Former Employee)  -   -  August 26, 2021</td>\n",
              "    </tr>\n",
              "    <tr>\n",
              "      <th>2</th>\n",
              "      <td>Good Company for Every employee</td>\n",
              "      <td>Good company for every Engineers dream, Full M...</td>\n",
              "      <td>https://in.indeed.com/cmp/Reliance-Industries-...</td>\n",
              "      <td>5</td>\n",
              "      <td>(Former Employee)  -   -  August 17, 2021</td>\n",
              "    </tr>\n",
              "    <tr>\n",
              "      <th>3</th>\n",
              "      <td>Productive</td>\n",
              "      <td>I am just pass out bsc in chemistry Typical da...</td>\n",
              "      <td>https://in.indeed.com/cmp/Reliance-Industries-...</td>\n",
              "      <td>5</td>\n",
              "      <td>(Current Employee)  -   -  August 17, 2021</td>\n",
              "    </tr>\n",
              "    <tr>\n",
              "      <th>4</th>\n",
              "      <td>Non productive</td>\n",
              "      <td>Not so fun at work just blame games  Target pe...</td>\n",
              "      <td>https://in.indeed.com/cmp/Reliance-Industries-...</td>\n",
              "      <td>1</td>\n",
              "      <td>(Former Employee)  -   -  August 9, 2021</td>\n",
              "    </tr>\n",
              "  </tbody>\n",
              "</table>\n",
              "</div>"
            ],
            "text/plain": [
              "                       ReviewTitle  ...                                      ReviewDetails\n",
              "0                       Productive  ...  (Current Employee)  -  Ghansoli  -  August 30,...\n",
              "1                        Stressful  ...          (Former Employee)  -   -  August 26, 2021\n",
              "2  Good Company for Every employee  ...          (Former Employee)  -   -  August 17, 2021\n",
              "3                       Productive  ...         (Current Employee)  -   -  August 17, 2021\n",
              "4                   Non productive  ...           (Former Employee)  -   -  August 9, 2021\n",
              "\n",
              "[5 rows x 5 columns]"
            ]
          },
          "metadata": {},
          "execution_count": 4
        }
      ]
    },
    {
      "cell_type": "code",
      "metadata": {
        "ExecuteTime": {
          "end_time": "2021-09-27T13:15:20.705198Z",
          "start_time": "2021-09-27T13:15:20.690158Z"
        },
        "id": "1e0bc3f9",
        "outputId": "d69d7afc-3f02-43e2-ec05-349f95da505a",
        "colab": {
          "base_uri": "https://localhost:8080/",
          "height": 289
        }
      },
      "source": [
        "df.tail()"
      ],
      "id": "1e0bc3f9",
      "execution_count": 5,
      "outputs": [
        {
          "output_type": "execute_result",
          "data": {
            "text/html": [
              "<div>\n",
              "<style scoped>\n",
              "    .dataframe tbody tr th:only-of-type {\n",
              "        vertical-align: middle;\n",
              "    }\n",
              "\n",
              "    .dataframe tbody tr th {\n",
              "        vertical-align: top;\n",
              "    }\n",
              "\n",
              "    .dataframe thead th {\n",
              "        text-align: right;\n",
              "    }\n",
              "</style>\n",
              "<table border=\"1\" class=\"dataframe\">\n",
              "  <thead>\n",
              "    <tr style=\"text-align: right;\">\n",
              "      <th></th>\n",
              "      <th>ReviewTitle</th>\n",
              "      <th>CompleteReview</th>\n",
              "      <th>URL</th>\n",
              "      <th>Rating</th>\n",
              "      <th>ReviewDetails</th>\n",
              "    </tr>\n",
              "  </thead>\n",
              "  <tbody>\n",
              "    <tr>\n",
              "      <th>145204</th>\n",
              "      <td>Definitely very good place to work and can hav...</td>\n",
              "      <td>We get a lot to learn in the company. Very sys...</td>\n",
              "      <td>https://in.indeed.com/cmp/Tata-Consultancy-Ser...</td>\n",
              "      <td>4</td>\n",
              "      <td>(Former Employee)  -   -  January 20, 2012</td>\n",
              "    </tr>\n",
              "    <tr>\n",
              "      <th>145205</th>\n",
              "      <td>IT Services Company; Great scope for improvement.</td>\n",
              "      <td>Lot of scope to learn different technologies u...</td>\n",
              "      <td>https://in.indeed.com/cmp/Tata-Consultancy-Ser...</td>\n",
              "      <td>4</td>\n",
              "      <td>(Former Employee)  -   -  January 19, 2012</td>\n",
              "    </tr>\n",
              "    <tr>\n",
              "      <th>145206</th>\n",
              "      <td>Productive, fun to work, great place to do cer...</td>\n",
              "      <td>An overall positive experience, nice environme...</td>\n",
              "      <td>https://in.indeed.com/cmp/Tata-Consultancy-Ser...</td>\n",
              "      <td>4</td>\n",
              "      <td>(Former Employee)  -   -  January 19, 2012</td>\n",
              "    </tr>\n",
              "    <tr>\n",
              "      <th>145207</th>\n",
              "      <td>Great place to start the career.</td>\n",
              "      <td>Happy that I've started my career from such a ...</td>\n",
              "      <td>https://in.indeed.com/cmp/Tata-Consultancy-Ser...</td>\n",
              "      <td>3</td>\n",
              "      <td>(Former Employee)  -   -  January 7, 2012</td>\n",
              "    </tr>\n",
              "    <tr>\n",
              "      <th>145208</th>\n",
              "      <td>Nice place to work</td>\n",
              "      <td>Got good experience and knowledge about my wor...</td>\n",
              "      <td>https://in.indeed.com/cmp/Tata-Consultancy-Ser...</td>\n",
              "      <td>5</td>\n",
              "      <td>(Former Employee)  -   -  December 19, 2011</td>\n",
              "    </tr>\n",
              "  </tbody>\n",
              "</table>\n",
              "</div>"
            ],
            "text/plain": [
              "                                              ReviewTitle  ...                                ReviewDetails\n",
              "145204  Definitely very good place to work and can hav...  ...   (Former Employee)  -   -  January 20, 2012\n",
              "145205  IT Services Company; Great scope for improvement.  ...   (Former Employee)  -   -  January 19, 2012\n",
              "145206  Productive, fun to work, great place to do cer...  ...   (Former Employee)  -   -  January 19, 2012\n",
              "145207                   Great place to start the career.  ...    (Former Employee)  -   -  January 7, 2012\n",
              "145208                                 Nice place to work  ...  (Former Employee)  -   -  December 19, 2011\n",
              "\n",
              "[5 rows x 5 columns]"
            ]
          },
          "metadata": {},
          "execution_count": 5
        }
      ]
    },
    {
      "cell_type": "code",
      "metadata": {
        "ExecuteTime": {
          "end_time": "2021-09-27T13:15:21.121608Z",
          "start_time": "2021-09-27T13:15:20.707704Z"
        },
        "id": "9da0f684",
        "outputId": "1ec44583-51fc-4c03-b4b7-bc89d57fe273",
        "colab": {
          "base_uri": "https://localhost:8080/",
          "height": 289
        }
      },
      "source": [
        "df.sample(5)"
      ],
      "id": "9da0f684",
      "execution_count": 6,
      "outputs": [
        {
          "output_type": "execute_result",
          "data": {
            "text/html": [
              "<div>\n",
              "<style scoped>\n",
              "    .dataframe tbody tr th:only-of-type {\n",
              "        vertical-align: middle;\n",
              "    }\n",
              "\n",
              "    .dataframe tbody tr th {\n",
              "        vertical-align: top;\n",
              "    }\n",
              "\n",
              "    .dataframe thead th {\n",
              "        text-align: right;\n",
              "    }\n",
              "</style>\n",
              "<table border=\"1\" class=\"dataframe\">\n",
              "  <thead>\n",
              "    <tr style=\"text-align: right;\">\n",
              "      <th></th>\n",
              "      <th>ReviewTitle</th>\n",
              "      <th>CompleteReview</th>\n",
              "      <th>URL</th>\n",
              "      <th>Rating</th>\n",
              "      <th>ReviewDetails</th>\n",
              "    </tr>\n",
              "  </thead>\n",
              "  <tbody>\n",
              "    <tr>\n",
              "      <th>103543</th>\n",
              "      <td>Accounts, Secretarial and Administration</td>\n",
              "      <td>Handling Payroll related work, reporting, reco...</td>\n",
              "      <td>https://in.indeed.com/cmp/HSBC/reviews?start=2080</td>\n",
              "      <td>3</td>\n",
              "      <td>(Current Employee)  -   -  November 9, 2015</td>\n",
              "    </tr>\n",
              "    <tr>\n",
              "      <th>107317</th>\n",
              "      <td>Place to work</td>\n",
              "      <td>I was recruited and got trained at Mysore camp...</td>\n",
              "      <td>https://in.indeed.com/cmp/Infosys/reviews?star...</td>\n",
              "      <td>5</td>\n",
              "      <td>(Former Employee)  -   -  September 29, 2017</td>\n",
              "    </tr>\n",
              "    <tr>\n",
              "      <th>117192</th>\n",
              "      <td>Bank</td>\n",
              "      <td>To work in an error free environment and ensur...</td>\n",
              "      <td>https://in.indeed.com/cmp/Hdfc-Bank/reviews?st...</td>\n",
              "      <td>4</td>\n",
              "      <td>(Current Employee)  -   -  February 15, 2014</td>\n",
              "    </tr>\n",
              "    <tr>\n",
              "      <th>102296</th>\n",
              "      <td>Making Automation to more production</td>\n",
              "      <td>I done my work everyday  as very perfect. I'm ...</td>\n",
              "      <td>https://in.indeed.com/cmp/Dell-Technologies/re...</td>\n",
              "      <td>4</td>\n",
              "      <td>(Current Employee)  -   -  March 14, 2014</td>\n",
              "    </tr>\n",
              "    <tr>\n",
              "      <th>126832</th>\n",
              "      <td>Good Learning experience</td>\n",
              "      <td>A typical day at work will have some status ca...</td>\n",
              "      <td>https://in.indeed.com/cmp/Infosys/reviews?star...</td>\n",
              "      <td>4</td>\n",
              "      <td>(Former Employee)  -   -  July 7, 2016</td>\n",
              "    </tr>\n",
              "  </tbody>\n",
              "</table>\n",
              "</div>"
            ],
            "text/plain": [
              "                                     ReviewTitle  ...                                 ReviewDetails\n",
              "103543  Accounts, Secretarial and Administration  ...   (Current Employee)  -   -  November 9, 2015\n",
              "107317                             Place to work  ...  (Former Employee)  -   -  September 29, 2017\n",
              "117192                                      Bank  ...  (Current Employee)  -   -  February 15, 2014\n",
              "102296      Making Automation to more production  ...     (Current Employee)  -   -  March 14, 2014\n",
              "126832                  Good Learning experience  ...        (Former Employee)  -   -  July 7, 2016\n",
              "\n",
              "[5 rows x 5 columns]"
            ]
          },
          "metadata": {},
          "execution_count": 6
        }
      ]
    },
    {
      "cell_type": "markdown",
      "metadata": {
        "id": "d2551457"
      },
      "source": [
        "## Check Characteristic Data"
      ],
      "id": "d2551457"
    },
    {
      "cell_type": "markdown",
      "metadata": {
        "id": "21b0d3e9"
      },
      "source": [
        "**Data Shape**"
      ],
      "id": "21b0d3e9"
    },
    {
      "cell_type": "code",
      "metadata": {
        "ExecuteTime": {
          "end_time": "2021-09-27T13:15:21.130598Z",
          "start_time": "2021-09-27T13:15:21.124084Z"
        },
        "id": "4d278d52",
        "outputId": "4a19e33e-b513-4098-a47a-671464fc44a2",
        "colab": {
          "base_uri": "https://localhost:8080/"
        }
      },
      "source": [
        "df.shape"
      ],
      "id": "4d278d52",
      "execution_count": 7,
      "outputs": [
        {
          "output_type": "execute_result",
          "data": {
            "text/plain": [
              "(145209, 5)"
            ]
          },
          "metadata": {},
          "execution_count": 7
        }
      ]
    },
    {
      "cell_type": "markdown",
      "metadata": {
        "id": "8bb6189e"
      },
      "source": [
        "**Data Columns**"
      ],
      "id": "8bb6189e"
    },
    {
      "cell_type": "code",
      "metadata": {
        "ExecuteTime": {
          "end_time": "2021-09-27T13:15:21.277750Z",
          "start_time": "2021-09-27T13:15:21.133103Z"
        },
        "id": "f48b4037",
        "outputId": "ce31e21f-ca82-476f-ebe4-10ca314bc1e6",
        "colab": {
          "base_uri": "https://localhost:8080/"
        }
      },
      "source": [
        "df.columns"
      ],
      "id": "f48b4037",
      "execution_count": 8,
      "outputs": [
        {
          "output_type": "execute_result",
          "data": {
            "text/plain": [
              "Index(['ReviewTitle', 'CompleteReview', 'URL', 'Rating', 'ReviewDetails'], dtype='object')"
            ]
          },
          "metadata": {},
          "execution_count": 8
        }
      ]
    },
    {
      "cell_type": "markdown",
      "metadata": {
        "id": "0e054852"
      },
      "source": [
        "**Data Info**"
      ],
      "id": "0e054852"
    },
    {
      "cell_type": "code",
      "metadata": {
        "ExecuteTime": {
          "end_time": "2021-09-27T13:15:21.701541Z",
          "start_time": "2021-09-27T13:15:21.281257Z"
        },
        "id": "4d040556",
        "outputId": "bf22689e-e775-4988-dc45-be5e33351cf7",
        "colab": {
          "base_uri": "https://localhost:8080/"
        }
      },
      "source": [
        "df.info()"
      ],
      "id": "4d040556",
      "execution_count": 9,
      "outputs": [
        {
          "output_type": "stream",
          "name": "stdout",
          "text": [
            "<class 'pandas.core.frame.DataFrame'>\n",
            "RangeIndex: 145209 entries, 0 to 145208\n",
            "Data columns (total 5 columns):\n",
            " #   Column          Non-Null Count   Dtype \n",
            "---  ------          --------------   ----- \n",
            " 0   ReviewTitle     145209 non-null  object\n",
            " 1   CompleteReview  145209 non-null  object\n",
            " 2   URL             145209 non-null  object\n",
            " 3   Rating          145209 non-null  int64 \n",
            " 4   ReviewDetails   145209 non-null  object\n",
            "dtypes: int64(1), object(4)\n",
            "memory usage: 5.5+ MB\n"
          ]
        }
      ]
    },
    {
      "cell_type": "markdown",
      "metadata": {
        "id": "d9de53a1"
      },
      "source": [
        "**Descriptive Statistic**"
      ],
      "id": "d9de53a1"
    },
    {
      "cell_type": "code",
      "metadata": {
        "ExecuteTime": {
          "end_time": "2021-09-27T13:15:21.847361Z",
          "start_time": "2021-09-27T13:15:21.706012Z"
        },
        "id": "fc26453b",
        "outputId": "08aac700-b260-4e5b-9c97-efbd98e70da2",
        "colab": {
          "base_uri": "https://localhost:8080/",
          "height": 297
        }
      },
      "source": [
        "df.describe()"
      ],
      "id": "fc26453b",
      "execution_count": 10,
      "outputs": [
        {
          "output_type": "execute_result",
          "data": {
            "text/html": [
              "<div>\n",
              "<style scoped>\n",
              "    .dataframe tbody tr th:only-of-type {\n",
              "        vertical-align: middle;\n",
              "    }\n",
              "\n",
              "    .dataframe tbody tr th {\n",
              "        vertical-align: top;\n",
              "    }\n",
              "\n",
              "    .dataframe thead th {\n",
              "        text-align: right;\n",
              "    }\n",
              "</style>\n",
              "<table border=\"1\" class=\"dataframe\">\n",
              "  <thead>\n",
              "    <tr style=\"text-align: right;\">\n",
              "      <th></th>\n",
              "      <th>Rating</th>\n",
              "    </tr>\n",
              "  </thead>\n",
              "  <tbody>\n",
              "    <tr>\n",
              "      <th>count</th>\n",
              "      <td>145209.000000</td>\n",
              "    </tr>\n",
              "    <tr>\n",
              "      <th>mean</th>\n",
              "      <td>4.053661</td>\n",
              "    </tr>\n",
              "    <tr>\n",
              "      <th>std</th>\n",
              "      <td>0.925805</td>\n",
              "    </tr>\n",
              "    <tr>\n",
              "      <th>min</th>\n",
              "      <td>1.000000</td>\n",
              "    </tr>\n",
              "    <tr>\n",
              "      <th>25%</th>\n",
              "      <td>4.000000</td>\n",
              "    </tr>\n",
              "    <tr>\n",
              "      <th>50%</th>\n",
              "      <td>4.000000</td>\n",
              "    </tr>\n",
              "    <tr>\n",
              "      <th>75%</th>\n",
              "      <td>5.000000</td>\n",
              "    </tr>\n",
              "    <tr>\n",
              "      <th>max</th>\n",
              "      <td>5.000000</td>\n",
              "    </tr>\n",
              "  </tbody>\n",
              "</table>\n",
              "</div>"
            ],
            "text/plain": [
              "              Rating\n",
              "count  145209.000000\n",
              "mean        4.053661\n",
              "std         0.925805\n",
              "min         1.000000\n",
              "25%         4.000000\n",
              "50%         4.000000\n",
              "75%         5.000000\n",
              "max         5.000000"
            ]
          },
          "metadata": {},
          "execution_count": 10
        }
      ]
    },
    {
      "cell_type": "markdown",
      "metadata": {
        "id": "4925163d"
      },
      "source": [
        "**Check Missing Value**"
      ],
      "id": "4925163d"
    },
    {
      "cell_type": "code",
      "metadata": {
        "ExecuteTime": {
          "end_time": "2021-09-27T13:15:21.924886Z",
          "start_time": "2021-09-27T13:15:21.849830Z"
        },
        "id": "a01554af",
        "outputId": "de148b09-8ecc-4b79-fcb0-178a5318e08e",
        "colab": {
          "base_uri": "https://localhost:8080/"
        }
      },
      "source": [
        "df.isnull().sum()"
      ],
      "id": "a01554af",
      "execution_count": 11,
      "outputs": [
        {
          "output_type": "execute_result",
          "data": {
            "text/plain": [
              "ReviewTitle       0\n",
              "CompleteReview    0\n",
              "URL               0\n",
              "Rating            0\n",
              "ReviewDetails     0\n",
              "dtype: int64"
            ]
          },
          "metadata": {},
          "execution_count": 11
        }
      ]
    },
    {
      "cell_type": "markdown",
      "metadata": {
        "id": "6cac95ab"
      },
      "source": [
        "**Check and Drop Duplicate Data**"
      ],
      "id": "6cac95ab"
    },
    {
      "cell_type": "code",
      "metadata": {
        "ExecuteTime": {
          "end_time": "2021-09-27T13:15:22.375487Z",
          "start_time": "2021-09-27T13:15:21.926853Z"
        },
        "id": "8708b1af"
      },
      "source": [
        "df = df.drop_duplicates(keep='first')\n",
        "df.reset_index(drop=True, inplace=True)"
      ],
      "id": "8708b1af",
      "execution_count": 12,
      "outputs": []
    },
    {
      "cell_type": "code",
      "metadata": {
        "ExecuteTime": {
          "end_time": "2021-09-27T13:15:22.384455Z",
          "start_time": "2021-09-27T13:15:22.378941Z"
        },
        "id": "ddce1445",
        "outputId": "312bb032-1b76-401a-d5c9-4781587a47eb",
        "colab": {
          "base_uri": "https://localhost:8080/"
        }
      },
      "source": [
        "df.shape"
      ],
      "id": "ddce1445",
      "execution_count": 13,
      "outputs": [
        {
          "output_type": "execute_result",
          "data": {
            "text/plain": [
              "(145191, 5)"
            ]
          },
          "metadata": {},
          "execution_count": 13
        }
      ]
    },
    {
      "cell_type": "markdown",
      "metadata": {
        "id": "080e9bf4"
      },
      "source": [
        "## Feature Extraction"
      ],
      "id": "080e9bf4"
    },
    {
      "cell_type": "code",
      "metadata": {
        "ExecuteTime": {
          "end_time": "2021-09-27T13:15:22.521343Z",
          "start_time": "2021-09-27T13:15:22.387465Z"
        },
        "id": "0028767a",
        "outputId": "1cc44fc6-efa5-46fc-9863-6043bbbb6c28",
        "colab": {
          "base_uri": "https://localhost:8080/",
          "height": 193
        }
      },
      "source": [
        "df.head(3)"
      ],
      "id": "0028767a",
      "execution_count": 14,
      "outputs": [
        {
          "output_type": "execute_result",
          "data": {
            "text/html": [
              "<div>\n",
              "<style scoped>\n",
              "    .dataframe tbody tr th:only-of-type {\n",
              "        vertical-align: middle;\n",
              "    }\n",
              "\n",
              "    .dataframe tbody tr th {\n",
              "        vertical-align: top;\n",
              "    }\n",
              "\n",
              "    .dataframe thead th {\n",
              "        text-align: right;\n",
              "    }\n",
              "</style>\n",
              "<table border=\"1\" class=\"dataframe\">\n",
              "  <thead>\n",
              "    <tr style=\"text-align: right;\">\n",
              "      <th></th>\n",
              "      <th>ReviewTitle</th>\n",
              "      <th>CompleteReview</th>\n",
              "      <th>URL</th>\n",
              "      <th>Rating</th>\n",
              "      <th>ReviewDetails</th>\n",
              "    </tr>\n",
              "  </thead>\n",
              "  <tbody>\n",
              "    <tr>\n",
              "      <th>0</th>\n",
              "      <td>Productive</td>\n",
              "      <td>Good company, cool workplace, work load little...</td>\n",
              "      <td>https://in.indeed.com/cmp/Reliance-Industries-...</td>\n",
              "      <td>3</td>\n",
              "      <td>(Current Employee)  -  Ghansoli  -  August 30,...</td>\n",
              "    </tr>\n",
              "    <tr>\n",
              "      <th>1</th>\n",
              "      <td>Stressful</td>\n",
              "      <td>1. Need to work on boss's whims and fancies 2....</td>\n",
              "      <td>https://in.indeed.com/cmp/Reliance-Industries-...</td>\n",
              "      <td>3</td>\n",
              "      <td>(Former Employee)  -   -  August 26, 2021</td>\n",
              "    </tr>\n",
              "    <tr>\n",
              "      <th>2</th>\n",
              "      <td>Good Company for Every employee</td>\n",
              "      <td>Good company for every Engineers dream, Full M...</td>\n",
              "      <td>https://in.indeed.com/cmp/Reliance-Industries-...</td>\n",
              "      <td>5</td>\n",
              "      <td>(Former Employee)  -   -  August 17, 2021</td>\n",
              "    </tr>\n",
              "  </tbody>\n",
              "</table>\n",
              "</div>"
            ],
            "text/plain": [
              "                       ReviewTitle  ...                                      ReviewDetails\n",
              "0                       Productive  ...  (Current Employee)  -  Ghansoli  -  August 30,...\n",
              "1                        Stressful  ...          (Former Employee)  -   -  August 26, 2021\n",
              "2  Good Company for Every employee  ...          (Former Employee)  -   -  August 17, 2021\n",
              "\n",
              "[3 rows x 5 columns]"
            ]
          },
          "metadata": {},
          "execution_count": 14
        }
      ]
    },
    {
      "cell_type": "markdown",
      "metadata": {
        "id": "5737277f"
      },
      "source": [
        "**Make Company Name Columns**"
      ],
      "id": "5737277f"
    },
    {
      "cell_type": "code",
      "metadata": {
        "ExecuteTime": {
          "end_time": "2021-09-27T13:15:23.169645Z",
          "start_time": "2021-09-27T13:15:22.523852Z"
        },
        "id": "abf25c2b"
      },
      "source": [
        "df['Company Name'] = df['URL'].str.split('/')\n",
        "df['Company Name'] = df['Company Name'].str[4]"
      ],
      "id": "abf25c2b",
      "execution_count": 15,
      "outputs": []
    },
    {
      "cell_type": "code",
      "metadata": {
        "ExecuteTime": {
          "end_time": "2021-09-27T13:15:23.179675Z",
          "start_time": "2021-09-27T13:15:23.171692Z"
        },
        "id": "adc0fb20",
        "outputId": "b6ff8ed6-0494-4ba0-c994-e626f8aac543",
        "colab": {
          "base_uri": "https://localhost:8080/"
        }
      },
      "source": [
        "df['Company Name'].head()"
      ],
      "id": "adc0fb20",
      "execution_count": 16,
      "outputs": [
        {
          "output_type": "execute_result",
          "data": {
            "text/plain": [
              "0    Reliance-Industries-Ltd\n",
              "1    Reliance-Industries-Ltd\n",
              "2    Reliance-Industries-Ltd\n",
              "3    Reliance-Industries-Ltd\n",
              "4    Reliance-Industries-Ltd\n",
              "Name: Company Name, dtype: object"
            ]
          },
          "metadata": {},
          "execution_count": 16
        }
      ]
    },
    {
      "cell_type": "code",
      "metadata": {
        "ExecuteTime": {
          "end_time": "2021-09-27T13:15:23.328246Z",
          "start_time": "2021-09-27T13:15:23.182683Z"
        },
        "id": "b0b573e0",
        "outputId": "2ff2396d-2ec5-4ccc-bfd1-8391ee9579be",
        "colab": {
          "base_uri": "https://localhost:8080/"
        }
      },
      "source": [
        "df['Company Name'].unique()"
      ],
      "id": "b0b573e0",
      "execution_count": 17,
      "outputs": [
        {
          "output_type": "execute_result",
          "data": {
            "text/plain": [
              "array(['Reliance-Industries-Ltd', 'Mphasis', 'Kpmg', 'Yes-Bank',\n",
              "       'Sutherland', 'Marriott-International,-Inc.', 'DHL', 'Jio',\n",
              "       'Vodafoneziggo', 'HP', 'Maersk', 'Ride.swiggy', 'Jll', 'Alstom',\n",
              "       'UnitedHealth-Group', 'Tata-Consultancy-Services-(tcs)',\n",
              "       'Capgemini', 'Teleperformance', 'Cognizant-Technology-Solutions',\n",
              "       'Mahindra-&-Mahindra-Ltd', 'L&T-Technology-Services-Ltd.',\n",
              "       'Bharti-Airtel-Limited', 'Indeed', 'Hyatt',\n",
              "       'Icici-Prudential-Life-Insurance', 'Accenture', 'Honeywell',\n",
              "       'Standard-Chartered-Bank', 'Nokia', 'Apollo-Hospitals',\n",
              "       'Tata-Aia-Life', 'Hdfc-Bank', 'Bosch', 'Deloitte', 'Ey',\n",
              "       'Microsoft', 'Barclays', 'JPMorgan-Chase', 'Muthoot-Finance',\n",
              "       'Wns-Global-Services', 'Kotak-Mahindra-Bank', 'Infosys', 'Oracle',\n",
              "       \"Byju's\", 'Deutsche-Bank', 'Hinduja-Global-Solutions', 'Ericsson',\n",
              "       'Axis-Bank', 'IBM', 'Concentrix', 'Wells-Fargo', 'Google',\n",
              "       'Dell-Technologies', 'Facebook', 'Amazon.com', 'Flipkart.com',\n",
              "       'American-Express', 'Citi', 'HSBC'], dtype=object)"
            ]
          },
          "metadata": {},
          "execution_count": 17
        }
      ]
    },
    {
      "cell_type": "code",
      "metadata": {
        "ExecuteTime": {
          "end_time": "2021-09-27T13:15:23.425793Z",
          "start_time": "2021-09-27T13:15:23.331252Z"
        },
        "id": "02c2bf3c",
        "outputId": "47f9de28-3113-4bb5-8fdf-4111806c2d8d",
        "colab": {
          "base_uri": "https://localhost:8080/",
          "height": 289
        }
      },
      "source": [
        "df.head()"
      ],
      "id": "02c2bf3c",
      "execution_count": 18,
      "outputs": [
        {
          "output_type": "execute_result",
          "data": {
            "text/html": [
              "<div>\n",
              "<style scoped>\n",
              "    .dataframe tbody tr th:only-of-type {\n",
              "        vertical-align: middle;\n",
              "    }\n",
              "\n",
              "    .dataframe tbody tr th {\n",
              "        vertical-align: top;\n",
              "    }\n",
              "\n",
              "    .dataframe thead th {\n",
              "        text-align: right;\n",
              "    }\n",
              "</style>\n",
              "<table border=\"1\" class=\"dataframe\">\n",
              "  <thead>\n",
              "    <tr style=\"text-align: right;\">\n",
              "      <th></th>\n",
              "      <th>ReviewTitle</th>\n",
              "      <th>CompleteReview</th>\n",
              "      <th>URL</th>\n",
              "      <th>Rating</th>\n",
              "      <th>ReviewDetails</th>\n",
              "      <th>Company Name</th>\n",
              "    </tr>\n",
              "  </thead>\n",
              "  <tbody>\n",
              "    <tr>\n",
              "      <th>0</th>\n",
              "      <td>Productive</td>\n",
              "      <td>Good company, cool workplace, work load little...</td>\n",
              "      <td>https://in.indeed.com/cmp/Reliance-Industries-...</td>\n",
              "      <td>3</td>\n",
              "      <td>(Current Employee)  -  Ghansoli  -  August 30,...</td>\n",
              "      <td>Reliance-Industries-Ltd</td>\n",
              "    </tr>\n",
              "    <tr>\n",
              "      <th>1</th>\n",
              "      <td>Stressful</td>\n",
              "      <td>1. Need to work on boss's whims and fancies 2....</td>\n",
              "      <td>https://in.indeed.com/cmp/Reliance-Industries-...</td>\n",
              "      <td>3</td>\n",
              "      <td>(Former Employee)  -   -  August 26, 2021</td>\n",
              "      <td>Reliance-Industries-Ltd</td>\n",
              "    </tr>\n",
              "    <tr>\n",
              "      <th>2</th>\n",
              "      <td>Good Company for Every employee</td>\n",
              "      <td>Good company for every Engineers dream, Full M...</td>\n",
              "      <td>https://in.indeed.com/cmp/Reliance-Industries-...</td>\n",
              "      <td>5</td>\n",
              "      <td>(Former Employee)  -   -  August 17, 2021</td>\n",
              "      <td>Reliance-Industries-Ltd</td>\n",
              "    </tr>\n",
              "    <tr>\n",
              "      <th>3</th>\n",
              "      <td>Productive</td>\n",
              "      <td>I am just pass out bsc in chemistry Typical da...</td>\n",
              "      <td>https://in.indeed.com/cmp/Reliance-Industries-...</td>\n",
              "      <td>5</td>\n",
              "      <td>(Current Employee)  -   -  August 17, 2021</td>\n",
              "      <td>Reliance-Industries-Ltd</td>\n",
              "    </tr>\n",
              "    <tr>\n",
              "      <th>4</th>\n",
              "      <td>Non productive</td>\n",
              "      <td>Not so fun at work just blame games  Target pe...</td>\n",
              "      <td>https://in.indeed.com/cmp/Reliance-Industries-...</td>\n",
              "      <td>1</td>\n",
              "      <td>(Former Employee)  -   -  August 9, 2021</td>\n",
              "      <td>Reliance-Industries-Ltd</td>\n",
              "    </tr>\n",
              "  </tbody>\n",
              "</table>\n",
              "</div>"
            ],
            "text/plain": [
              "                       ReviewTitle  ...             Company Name\n",
              "0                       Productive  ...  Reliance-Industries-Ltd\n",
              "1                        Stressful  ...  Reliance-Industries-Ltd\n",
              "2  Good Company for Every employee  ...  Reliance-Industries-Ltd\n",
              "3                       Productive  ...  Reliance-Industries-Ltd\n",
              "4                   Non productive  ...  Reliance-Industries-Ltd\n",
              "\n",
              "[5 rows x 6 columns]"
            ]
          },
          "metadata": {},
          "execution_count": 18
        }
      ]
    },
    {
      "cell_type": "markdown",
      "metadata": {
        "id": "ba88c2d8"
      },
      "source": [
        "**Make Date Columns**"
      ],
      "id": "ba88c2d8"
    },
    {
      "cell_type": "code",
      "metadata": {
        "ExecuteTime": {
          "end_time": "2021-09-27T13:15:23.994211Z",
          "start_time": "2021-09-27T13:15:23.429805Z"
        },
        "id": "2d90f022"
      },
      "source": [
        "df['Date'] = df['ReviewDetails'].str.split('-', expand=True)[2]"
      ],
      "id": "2d90f022",
      "execution_count": 19,
      "outputs": []
    },
    {
      "cell_type": "code",
      "metadata": {
        "ExecuteTime": {
          "end_time": "2021-09-27T13:15:24.011083Z",
          "start_time": "2021-09-27T13:15:23.997044Z"
        },
        "id": "8a86ca08",
        "outputId": "feed9147-ec1d-47d4-c16f-45554f101a17",
        "colab": {
          "base_uri": "https://localhost:8080/",
          "height": 289
        }
      },
      "source": [
        "df.head()"
      ],
      "id": "8a86ca08",
      "execution_count": 20,
      "outputs": [
        {
          "output_type": "execute_result",
          "data": {
            "text/html": [
              "<div>\n",
              "<style scoped>\n",
              "    .dataframe tbody tr th:only-of-type {\n",
              "        vertical-align: middle;\n",
              "    }\n",
              "\n",
              "    .dataframe tbody tr th {\n",
              "        vertical-align: top;\n",
              "    }\n",
              "\n",
              "    .dataframe thead th {\n",
              "        text-align: right;\n",
              "    }\n",
              "</style>\n",
              "<table border=\"1\" class=\"dataframe\">\n",
              "  <thead>\n",
              "    <tr style=\"text-align: right;\">\n",
              "      <th></th>\n",
              "      <th>ReviewTitle</th>\n",
              "      <th>CompleteReview</th>\n",
              "      <th>URL</th>\n",
              "      <th>Rating</th>\n",
              "      <th>ReviewDetails</th>\n",
              "      <th>Company Name</th>\n",
              "      <th>Date</th>\n",
              "    </tr>\n",
              "  </thead>\n",
              "  <tbody>\n",
              "    <tr>\n",
              "      <th>0</th>\n",
              "      <td>Productive</td>\n",
              "      <td>Good company, cool workplace, work load little...</td>\n",
              "      <td>https://in.indeed.com/cmp/Reliance-Industries-...</td>\n",
              "      <td>3</td>\n",
              "      <td>(Current Employee)  -  Ghansoli  -  August 30,...</td>\n",
              "      <td>Reliance-Industries-Ltd</td>\n",
              "      <td>August 30, 2021</td>\n",
              "    </tr>\n",
              "    <tr>\n",
              "      <th>1</th>\n",
              "      <td>Stressful</td>\n",
              "      <td>1. Need to work on boss's whims and fancies 2....</td>\n",
              "      <td>https://in.indeed.com/cmp/Reliance-Industries-...</td>\n",
              "      <td>3</td>\n",
              "      <td>(Former Employee)  -   -  August 26, 2021</td>\n",
              "      <td>Reliance-Industries-Ltd</td>\n",
              "      <td>August 26, 2021</td>\n",
              "    </tr>\n",
              "    <tr>\n",
              "      <th>2</th>\n",
              "      <td>Good Company for Every employee</td>\n",
              "      <td>Good company for every Engineers dream, Full M...</td>\n",
              "      <td>https://in.indeed.com/cmp/Reliance-Industries-...</td>\n",
              "      <td>5</td>\n",
              "      <td>(Former Employee)  -   -  August 17, 2021</td>\n",
              "      <td>Reliance-Industries-Ltd</td>\n",
              "      <td>August 17, 2021</td>\n",
              "    </tr>\n",
              "    <tr>\n",
              "      <th>3</th>\n",
              "      <td>Productive</td>\n",
              "      <td>I am just pass out bsc in chemistry Typical da...</td>\n",
              "      <td>https://in.indeed.com/cmp/Reliance-Industries-...</td>\n",
              "      <td>5</td>\n",
              "      <td>(Current Employee)  -   -  August 17, 2021</td>\n",
              "      <td>Reliance-Industries-Ltd</td>\n",
              "      <td>August 17, 2021</td>\n",
              "    </tr>\n",
              "    <tr>\n",
              "      <th>4</th>\n",
              "      <td>Non productive</td>\n",
              "      <td>Not so fun at work just blame games  Target pe...</td>\n",
              "      <td>https://in.indeed.com/cmp/Reliance-Industries-...</td>\n",
              "      <td>1</td>\n",
              "      <td>(Former Employee)  -   -  August 9, 2021</td>\n",
              "      <td>Reliance-Industries-Ltd</td>\n",
              "      <td>August 9, 2021</td>\n",
              "    </tr>\n",
              "  </tbody>\n",
              "</table>\n",
              "</div>"
            ],
            "text/plain": [
              "                       ReviewTitle  ...               Date\n",
              "0                       Productive  ...    August 30, 2021\n",
              "1                        Stressful  ...    August 26, 2021\n",
              "2  Good Company for Every employee  ...    August 17, 2021\n",
              "3                       Productive  ...    August 17, 2021\n",
              "4                   Non productive  ...     August 9, 2021\n",
              "\n",
              "[5 rows x 7 columns]"
            ]
          },
          "metadata": {},
          "execution_count": 20
        }
      ]
    },
    {
      "cell_type": "markdown",
      "metadata": {
        "id": "932dbcca"
      },
      "source": [
        "**Make Year, Month, Day Columns**"
      ],
      "id": "932dbcca"
    },
    {
      "cell_type": "code",
      "metadata": {
        "ExecuteTime": {
          "end_time": "2021-09-27T13:15:24.594443Z",
          "start_time": "2021-09-27T13:15:24.014090Z"
        },
        "id": "75b3e69b"
      },
      "source": [
        "df['Year'] = df['Date'].str.split(',', expand=True)[1]"
      ],
      "id": "75b3e69b",
      "execution_count": 21,
      "outputs": []
    },
    {
      "cell_type": "code",
      "metadata": {
        "ExecuteTime": {
          "end_time": "2021-09-27T13:15:25.057340Z",
          "start_time": "2021-09-27T13:15:24.596951Z"
        },
        "id": "19c61624"
      },
      "source": [
        "df['Month'] = df['Date'].str.split(' ', expand=True)[2]"
      ],
      "id": "19c61624",
      "execution_count": 22,
      "outputs": []
    },
    {
      "cell_type": "code",
      "metadata": {
        "ExecuteTime": {
          "end_time": "2021-09-27T13:15:25.772238Z",
          "start_time": "2021-09-27T13:15:25.059364Z"
        },
        "id": "00f5ab15"
      },
      "source": [
        "df['Day'] = df['Date'].str.split(' ', expand=True)[3]\n",
        "df['Day'] = df['Day'].str.replace(',','')"
      ],
      "id": "00f5ab15",
      "execution_count": 23,
      "outputs": []
    },
    {
      "cell_type": "markdown",
      "metadata": {
        "id": "c2ff8759"
      },
      "source": [
        "**Check Columns**"
      ],
      "id": "c2ff8759"
    },
    {
      "cell_type": "markdown",
      "metadata": {
        "id": "31fcefd0"
      },
      "source": [
        "Column `Year`"
      ],
      "id": "31fcefd0"
    },
    {
      "cell_type": "code",
      "metadata": {
        "ExecuteTime": {
          "end_time": "2021-09-27T13:15:25.808782Z",
          "start_time": "2021-09-27T13:15:25.774188Z"
        },
        "id": "40f19cfb",
        "outputId": "29e47e09-c8ff-4849-e988-a090497eb911",
        "colab": {
          "base_uri": "https://localhost:8080/"
        }
      },
      "source": [
        "df['Year'].unique()"
      ],
      "id": "40f19cfb",
      "execution_count": 24,
      "outputs": [
        {
          "output_type": "execute_result",
          "data": {
            "text/plain": [
              "array([' 2021', ' 2020', ' 2019', ' 2018', ' 2017', ' 2016', None,\n",
              "       ' 2015', ' 2014', ' 2013', ' 2012', ' 2011',\n",
              "       ' GWAL PAHARI GURGAON  ', ' airoli  ', ' Malad west  ',\n",
              "       ' Sp Infocity & Quadra ', ' New Delhi', ' Tamil nadu  ',\n",
              "       'Gurgaon  '], dtype=object)"
            ]
          },
          "metadata": {},
          "execution_count": 24
        }
      ]
    },
    {
      "cell_type": "code",
      "metadata": {
        "ExecuteTime": {
          "end_time": "2021-09-27T13:15:26.065024Z",
          "start_time": "2021-09-27T13:15:25.813293Z"
        },
        "id": "45782d18"
      },
      "source": [
        "df['Year'] = df['Year'].str.replace(' ','')"
      ],
      "id": "45782d18",
      "execution_count": 25,
      "outputs": []
    },
    {
      "cell_type": "code",
      "metadata": {
        "ExecuteTime": {
          "end_time": "2021-09-27T13:15:26.222147Z",
          "start_time": "2021-09-27T13:15:26.068536Z"
        },
        "id": "574ecfa5",
        "outputId": "7fadd5e1-5a0c-4fbd-cad2-6a4a0a3407b5",
        "colab": {
          "base_uri": "https://localhost:8080/"
        }
      },
      "source": [
        "df['Year'].unique()"
      ],
      "id": "574ecfa5",
      "execution_count": 26,
      "outputs": [
        {
          "output_type": "execute_result",
          "data": {
            "text/plain": [
              "array(['2021', '2020', '2019', '2018', '2017', '2016', None, '2015',\n",
              "       '2014', '2013', '2012', '2011', 'GWALPAHARIGURGAON', 'airoli',\n",
              "       'Maladwest', 'SpInfocity&Quadra', 'NewDelhi', 'Tamilnadu',\n",
              "       'Gurgaon'], dtype=object)"
            ]
          },
          "metadata": {},
          "execution_count": 26
        }
      ]
    },
    {
      "cell_type": "code",
      "metadata": {
        "ExecuteTime": {
          "end_time": "2021-09-27T13:15:26.350753Z",
          "start_time": "2021-09-27T13:15:26.224654Z"
        },
        "id": "73c2e9ba",
        "outputId": "059f4927-9f7c-4b32-afd2-2594f22eeffc",
        "colab": {
          "base_uri": "https://localhost:8080/"
        }
      },
      "source": [
        "df['Year'].value_counts(sort=False)"
      ],
      "id": "73c2e9ba",
      "execution_count": 27,
      "outputs": [
        {
          "output_type": "execute_result",
          "data": {
            "text/plain": [
              "2012                  4153\n",
              "2016                 15295\n",
              "2014                 15016\n",
              "2018                 15782\n",
              "2021                  2967\n",
              "Tamilnadu                1\n",
              "2020                 12674\n",
              "2013                 11140\n",
              "2011                    38\n",
              "2015                 13664\n",
              "NewDelhi                 1\n",
              "Gurgaon                  1\n",
              "GWALPAHARIGURGAON        1\n",
              "2019                 16985\n",
              "airoli                   1\n",
              "Maladwest                1\n",
              "SpInfocity&Quadra        1\n",
              "2017                 37335\n",
              "Name: Year, dtype: int64"
            ]
          },
          "metadata": {},
          "execution_count": 27
        }
      ]
    },
    {
      "cell_type": "code",
      "metadata": {
        "ExecuteTime": {
          "end_time": "2021-09-27T13:15:26.520263Z",
          "start_time": "2021-09-27T13:15:26.357270Z"
        },
        "id": "4868a061",
        "outputId": "9aebf4f5-a6de-449d-f601-49bd07f9cde7",
        "colab": {
          "base_uri": "https://localhost:8080/"
        }
      },
      "source": [
        "df['Year'].isnull().sum()"
      ],
      "id": "4868a061",
      "execution_count": 28,
      "outputs": [
        {
          "output_type": "execute_result",
          "data": {
            "text/plain": [
              "135"
            ]
          },
          "metadata": {},
          "execution_count": 28
        }
      ]
    },
    {
      "cell_type": "code",
      "metadata": {
        "ExecuteTime": {
          "end_time": "2021-09-27T13:15:26.885667Z",
          "start_time": "2021-09-27T13:15:26.523771Z"
        },
        "id": "577c3f03"
      },
      "source": [
        "valid_year = ['2011', '2012', '2013', '2014', '2014', '2015', \n",
        "               '2016', '2017', '2018', '2019', '2020', '2021']\n",
        "df['Year'] = df['Year'].apply(lambda x:x if x in valid_year else np.nan)"
      ],
      "id": "577c3f03",
      "execution_count": 29,
      "outputs": []
    },
    {
      "cell_type": "code",
      "metadata": {
        "ExecuteTime": {
          "end_time": "2021-09-27T13:15:27.105027Z",
          "start_time": "2021-09-27T13:15:26.887674Z"
        },
        "id": "421ba2c0",
        "outputId": "e140409a-069b-4606-f895-80313bacdeb5",
        "colab": {
          "base_uri": "https://localhost:8080/"
        }
      },
      "source": [
        "df['Year'].value_counts()"
      ],
      "id": "421ba2c0",
      "execution_count": 30,
      "outputs": [
        {
          "output_type": "execute_result",
          "data": {
            "text/plain": [
              "2017    37335\n",
              "2019    16985\n",
              "2018    15782\n",
              "2016    15295\n",
              "2014    15016\n",
              "2015    13664\n",
              "2020    12674\n",
              "2013    11140\n",
              "2012     4153\n",
              "2021     2967\n",
              "2011       38\n",
              "Name: Year, dtype: int64"
            ]
          },
          "metadata": {},
          "execution_count": 30
        }
      ]
    },
    {
      "cell_type": "code",
      "metadata": {
        "ExecuteTime": {
          "end_time": "2021-09-27T13:15:27.294476Z",
          "start_time": "2021-09-27T13:15:27.107534Z"
        },
        "id": "84ccc942",
        "outputId": "87433e1c-f319-46b9-8e17-ca690823d575",
        "colab": {
          "base_uri": "https://localhost:8080/"
        }
      },
      "source": [
        "df['Year'].isnull().sum()"
      ],
      "id": "84ccc942",
      "execution_count": 31,
      "outputs": [
        {
          "output_type": "execute_result",
          "data": {
            "text/plain": [
              "142"
            ]
          },
          "metadata": {},
          "execution_count": 31
        }
      ]
    },
    {
      "cell_type": "markdown",
      "metadata": {
        "id": "de7588ac"
      },
      "source": [
        "Column `Month`"
      ],
      "id": "de7588ac"
    },
    {
      "cell_type": "code",
      "metadata": {
        "ExecuteTime": {
          "end_time": "2021-09-27T13:15:27.458002Z",
          "start_time": "2021-09-27T13:15:27.299489Z"
        },
        "id": "145c8d55",
        "outputId": "37e792d5-b6ed-434d-fa1e-3fd670f13d0e",
        "colab": {
          "base_uri": "https://localhost:8080/"
        }
      },
      "source": [
        "df['Month'].unique()"
      ],
      "id": "145c8d55",
      "execution_count": 32,
      "outputs": [
        {
          "output_type": "execute_result",
          "data": {
            "text/plain": [
              "array(['August', 'July', 'September', 'May', 'June', 'April', 'March',\n",
              "       'February', 'January', 'December', 'November', 'October', '',\n",
              "       'Africa', 'bagh', 'Consultant', 'Road', '9', '.CLUSTER', '(west)',\n",
              "       'West', 'PAHARI', 'mumbai', None, 'west', 'Ramannagar', 'West.',\n",
              "       'Raman', 'park', 'Technohub', 'Solutions', 'Office', 'Estate',\n",
              "       'Infocity', 'Nagar', 'Delhi,', 'Tamil', 'parel', ')', 'Locatino',\n",
              "       'complex'], dtype=object)"
            ]
          },
          "metadata": {},
          "execution_count": 32
        }
      ]
    },
    {
      "cell_type": "code",
      "metadata": {
        "ExecuteTime": {
          "end_time": "2021-09-27T13:15:27.609216Z",
          "start_time": "2021-09-27T13:15:27.460008Z"
        },
        "id": "4a44543e",
        "outputId": "8c52fcc6-8de3-464d-a8e5-050f4eb8395a",
        "colab": {
          "base_uri": "https://localhost:8080/"
        }
      },
      "source": [
        "df['Month'].value_counts()"
      ],
      "id": "4a44543e",
      "execution_count": 33,
      "outputs": [
        {
          "output_type": "execute_result",
          "data": {
            "text/plain": [
              "March         15438\n",
              "January       12626\n",
              "June          12573\n",
              "July          12214\n",
              "September     12090\n",
              "February      12008\n",
              "May           11848\n",
              "April         11667\n",
              "August        11635\n",
              "November      11397\n",
              "October       10945\n",
              "December      10608\n",
              "                114\n",
              "Infocity          1\n",
              "Solutions         1\n",
              "Raman             1\n",
              "(west)            1\n",
              "Tamil             1\n",
              "Office            1\n",
              "complex           1\n",
              "West              1\n",
              "parel             1\n",
              "West.             1\n",
              "Locatino          1\n",
              "bagh              1\n",
              ".CLUSTER          1\n",
              "Nagar             1\n",
              "Estate            1\n",
              "park              1\n",
              "Consultant        1\n",
              "9                 1\n",
              "Technohub         1\n",
              "Road              1\n",
              "PAHARI            1\n",
              "west              1\n",
              "Delhi,            1\n",
              "mumbai            1\n",
              ")                 1\n",
              "Africa            1\n",
              "Ramannagar        1\n",
              "Name: Month, dtype: int64"
            ]
          },
          "metadata": {},
          "execution_count": 33
        }
      ]
    },
    {
      "cell_type": "code",
      "metadata": {
        "ExecuteTime": {
          "end_time": "2021-09-27T13:15:27.710087Z",
          "start_time": "2021-09-27T13:15:27.614735Z"
        },
        "id": "7a4f4119",
        "outputId": "242811c7-2cc3-409e-8391-916c5a55f477",
        "colab": {
          "base_uri": "https://localhost:8080/"
        }
      },
      "source": [
        "df['Month'].isnull().sum()"
      ],
      "id": "7a4f4119",
      "execution_count": 34,
      "outputs": [
        {
          "output_type": "execute_result",
          "data": {
            "text/plain": [
              "1"
            ]
          },
          "metadata": {},
          "execution_count": 34
        }
      ]
    },
    {
      "cell_type": "code",
      "metadata": {
        "ExecuteTime": {
          "end_time": "2021-09-27T13:15:27.885943Z",
          "start_time": "2021-09-27T13:15:27.712594Z"
        },
        "id": "7312a87f"
      },
      "source": [
        "valid_month = ['January', 'February', 'March', 'April', 'May', 'June',\n",
        "               'July', 'August', 'September', 'October', 'November', 'December']\n",
        "df['Month'] = df['Month'].apply(lambda x:x if x in valid_month else np.nan)"
      ],
      "id": "7312a87f",
      "execution_count": 35,
      "outputs": []
    },
    {
      "cell_type": "code",
      "metadata": {
        "ExecuteTime": {
          "end_time": "2021-09-27T13:15:27.984197Z",
          "start_time": "2021-09-27T13:15:27.887505Z"
        },
        "id": "b46d4c0b",
        "outputId": "93a385b6-9ab6-4d2d-b8e9-81bd4153522f",
        "colab": {
          "base_uri": "https://localhost:8080/"
        }
      },
      "source": [
        "df['Month'].value_counts()"
      ],
      "id": "b46d4c0b",
      "execution_count": 36,
      "outputs": [
        {
          "output_type": "execute_result",
          "data": {
            "text/plain": [
              "March        15438\n",
              "January      12626\n",
              "June         12573\n",
              "July         12214\n",
              "September    12090\n",
              "February     12008\n",
              "May          11848\n",
              "April        11667\n",
              "August       11635\n",
              "November     11397\n",
              "October      10945\n",
              "December     10608\n",
              "Name: Month, dtype: int64"
            ]
          },
          "metadata": {},
          "execution_count": 36
        }
      ]
    },
    {
      "cell_type": "code",
      "metadata": {
        "ExecuteTime": {
          "end_time": "2021-09-27T13:15:28.121980Z",
          "start_time": "2021-09-27T13:15:27.986666Z"
        },
        "id": "6da8ca0a",
        "outputId": "7b2fd2f2-04bc-4c27-fb30-1ee1b55f37a6",
        "colab": {
          "base_uri": "https://localhost:8080/"
        }
      },
      "source": [
        "df['Month'].isnull().sum()"
      ],
      "id": "6da8ca0a",
      "execution_count": 37,
      "outputs": [
        {
          "output_type": "execute_result",
          "data": {
            "text/plain": [
              "142"
            ]
          },
          "metadata": {},
          "execution_count": 37
        }
      ]
    },
    {
      "cell_type": "markdown",
      "metadata": {
        "id": "93853548"
      },
      "source": [
        "Column `Day`"
      ],
      "id": "93853548"
    },
    {
      "cell_type": "code",
      "metadata": {
        "ExecuteTime": {
          "end_time": "2021-09-27T13:15:28.257886Z",
          "start_time": "2021-09-27T13:15:28.124486Z"
        },
        "id": "183e1c52",
        "outputId": "bcf0abf7-90dd-4c6a-ce77-cee19a85c731",
        "colab": {
          "base_uri": "https://localhost:8080/"
        }
      },
      "source": [
        "df['Day'].unique()"
      ],
      "id": "183e1c52",
      "execution_count": 38,
      "outputs": [
        {
          "output_type": "execute_result",
          "data": {
            "text/plain": [
              "array(['30', '26', '17', '9', '22', '18', '7', '8', '5', '3', '15', '6',\n",
              "       '20', '2', '16', '10', '31', '23', '11', '28', '24', '21', '19',\n",
              "       '13', '1', '4', '25', '12', '27', '29', '14', None, '',\n",
              "       'chandigarh', '&', 'GURGAON', 'Nagar', 'malad', 'India', 'nadu'],\n",
              "      dtype=object)"
            ]
          },
          "metadata": {},
          "execution_count": 38
        }
      ]
    },
    {
      "cell_type": "code",
      "metadata": {
        "ExecuteTime": {
          "end_time": "2021-09-27T13:15:28.379168Z",
          "start_time": "2021-09-27T13:15:28.260354Z"
        },
        "id": "bd78bc3a",
        "outputId": "6968b21d-47cb-4365-daea-82c25634e01e",
        "colab": {
          "base_uri": "https://localhost:8080/"
        }
      },
      "source": [
        "df['Day'].value_counts()"
      ],
      "id": "bd78bc3a",
      "execution_count": 39,
      "outputs": [
        {
          "output_type": "execute_result",
          "data": {
            "text/plain": [
              "5             5159\n",
              "2             4992\n",
              "4             4969\n",
              "21            4929\n",
              "9             4920\n",
              "8             4910\n",
              "3             4910\n",
              "7             4881\n",
              "17            4864\n",
              "12            4842\n",
              "6             4829\n",
              "22            4828\n",
              "20            4825\n",
              "23            4824\n",
              "18            4823\n",
              "16            4812\n",
              "11            4793\n",
              "19            4721\n",
              "25            4709\n",
              "24            4705\n",
              "28            4691\n",
              "26            4684\n",
              "10            4680\n",
              "15            4664\n",
              "27            4660\n",
              "13            4572\n",
              "1             4557\n",
              "14            4466\n",
              "29            4311\n",
              "30            4138\n",
              "31            2381\n",
              "                80\n",
              "&                2\n",
              "nadu             1\n",
              "malad            1\n",
              "chandigarh       1\n",
              "India            1\n",
              "Nagar            1\n",
              "GURGAON          1\n",
              "Name: Day, dtype: int64"
            ]
          },
          "metadata": {},
          "execution_count": 39
        }
      ]
    },
    {
      "cell_type": "code",
      "metadata": {
        "ExecuteTime": {
          "end_time": "2021-09-27T13:15:28.578009Z",
          "start_time": "2021-09-27T13:15:28.381171Z"
        },
        "id": "348f5fce"
      },
      "source": [
        "valid_day = ['1', '2', '3', '4', '5', '6', '7', '8', '9', '10', '11',\n",
        "             '12', '13', '14', '15', '16', '17', '18', '19', '20', '21',\n",
        "             '22', '23', '24', '25', '26', '27', '28', '29', '30', '31']\n",
        "df['Day'] = df['Day'].apply(lambda x:x if x in valid_day else np.nan)"
      ],
      "id": "348f5fce",
      "execution_count": 40,
      "outputs": []
    },
    {
      "cell_type": "code",
      "metadata": {
        "ExecuteTime": {
          "end_time": "2021-09-27T13:15:28.629230Z",
          "start_time": "2021-09-27T13:15:28.579784Z"
        },
        "id": "b4d2aeff",
        "outputId": "5b7dfbf3-519a-4b70-ab4a-0ce3ca3d2726",
        "colab": {
          "base_uri": "https://localhost:8080/"
        }
      },
      "source": [
        "df['Day'].isnull().sum()"
      ],
      "id": "b4d2aeff",
      "execution_count": 41,
      "outputs": [
        {
          "output_type": "execute_result",
          "data": {
            "text/plain": [
              "142"
            ]
          },
          "metadata": {},
          "execution_count": 41
        }
      ]
    },
    {
      "cell_type": "markdown",
      "metadata": {
        "id": "8d8a8e22"
      },
      "source": [
        "**Check Missing Value**"
      ],
      "id": "8d8a8e22"
    },
    {
      "cell_type": "code",
      "metadata": {
        "ExecuteTime": {
          "end_time": "2021-09-27T13:15:28.820417Z",
          "start_time": "2021-09-27T13:15:28.631197Z"
        },
        "id": "41932416",
        "outputId": "a62bf5bf-324e-4a4c-fcdb-fafc219bd55d",
        "colab": {
          "base_uri": "https://localhost:8080/"
        }
      },
      "source": [
        "df.isnull().sum()"
      ],
      "id": "41932416",
      "execution_count": 42,
      "outputs": [
        {
          "output_type": "execute_result",
          "data": {
            "text/plain": [
              "ReviewTitle         0\n",
              "CompleteReview      0\n",
              "URL                 0\n",
              "Rating              0\n",
              "ReviewDetails       0\n",
              "Company Name        0\n",
              "Date                0\n",
              "Year              142\n",
              "Month             142\n",
              "Day               142\n",
              "dtype: int64"
            ]
          },
          "metadata": {},
          "execution_count": 42
        }
      ]
    },
    {
      "cell_type": "code",
      "metadata": {
        "ExecuteTime": {
          "end_time": "2021-09-27T13:15:28.876999Z",
          "start_time": "2021-09-27T13:15:28.822423Z"
        },
        "id": "fa116825",
        "outputId": "baad37a8-fe10-4b48-d050-8a047cc5fe0f",
        "colab": {
          "base_uri": "https://localhost:8080/"
        }
      },
      "source": [
        "df.shape"
      ],
      "id": "fa116825",
      "execution_count": 43,
      "outputs": [
        {
          "output_type": "execute_result",
          "data": {
            "text/plain": [
              "(145191, 10)"
            ]
          },
          "metadata": {},
          "execution_count": 43
        }
      ]
    },
    {
      "cell_type": "code",
      "metadata": {
        "ExecuteTime": {
          "end_time": "2021-09-27T13:15:29.274558Z",
          "start_time": "2021-09-27T13:15:28.880009Z"
        },
        "id": "308b5742"
      },
      "source": [
        "df = df.dropna()"
      ],
      "id": "308b5742",
      "execution_count": 44,
      "outputs": []
    },
    {
      "cell_type": "code",
      "metadata": {
        "ExecuteTime": {
          "end_time": "2021-09-27T13:15:29.282579Z",
          "start_time": "2021-09-27T13:15:29.276565Z"
        },
        "id": "9404cdfd",
        "outputId": "0d3f0193-a759-4766-b0bb-a497eaac5f21",
        "colab": {
          "base_uri": "https://localhost:8080/"
        }
      },
      "source": [
        "df.shape"
      ],
      "id": "9404cdfd",
      "execution_count": 45,
      "outputs": [
        {
          "output_type": "execute_result",
          "data": {
            "text/plain": [
              "(145049, 10)"
            ]
          },
          "metadata": {},
          "execution_count": 45
        }
      ]
    },
    {
      "cell_type": "code",
      "metadata": {
        "ExecuteTime": {
          "end_time": "2021-09-27T13:15:29.559056Z",
          "start_time": "2021-09-27T13:15:29.285086Z"
        },
        "id": "d12ca592",
        "outputId": "44da9264-bd8d-49dd-bf71-569bbd6c21f6",
        "colab": {
          "base_uri": "https://localhost:8080/"
        }
      },
      "source": [
        "df.isnull().sum()"
      ],
      "id": "d12ca592",
      "execution_count": 46,
      "outputs": [
        {
          "output_type": "execute_result",
          "data": {
            "text/plain": [
              "ReviewTitle       0\n",
              "CompleteReview    0\n",
              "URL               0\n",
              "Rating            0\n",
              "ReviewDetails     0\n",
              "Company Name      0\n",
              "Date              0\n",
              "Year              0\n",
              "Month             0\n",
              "Day               0\n",
              "dtype: int64"
            ]
          },
          "metadata": {},
          "execution_count": 46
        }
      ]
    },
    {
      "cell_type": "markdown",
      "metadata": {
        "id": "52e367c6"
      },
      "source": [
        "**Create Date Columns**"
      ],
      "id": "52e367c6"
    },
    {
      "cell_type": "code",
      "metadata": {
        "ExecuteTime": {
          "end_time": "2021-09-27T13:15:30.001315Z",
          "start_time": "2021-09-27T13:15:29.565574Z"
        },
        "id": "eba7c9af"
      },
      "source": [
        "df['Date'] = df['Year']+df['Month']+df['Day']\n",
        "df['Date'] = pd.to_datetime(df['Date'], format='%Y%B%d')"
      ],
      "id": "eba7c9af",
      "execution_count": 47,
      "outputs": []
    },
    {
      "cell_type": "code",
      "metadata": {
        "ExecuteTime": {
          "end_time": "2021-09-27T13:15:30.025985Z",
          "start_time": "2021-09-27T13:15:30.003059Z"
        },
        "id": "fa8fc147",
        "outputId": "69937884-84fc-4165-c8c7-e80923dca4c6",
        "colab": {
          "base_uri": "https://localhost:8080/",
          "height": 289
        }
      },
      "source": [
        "df.head()"
      ],
      "id": "fa8fc147",
      "execution_count": 48,
      "outputs": [
        {
          "output_type": "execute_result",
          "data": {
            "text/html": [
              "<div>\n",
              "<style scoped>\n",
              "    .dataframe tbody tr th:only-of-type {\n",
              "        vertical-align: middle;\n",
              "    }\n",
              "\n",
              "    .dataframe tbody tr th {\n",
              "        vertical-align: top;\n",
              "    }\n",
              "\n",
              "    .dataframe thead th {\n",
              "        text-align: right;\n",
              "    }\n",
              "</style>\n",
              "<table border=\"1\" class=\"dataframe\">\n",
              "  <thead>\n",
              "    <tr style=\"text-align: right;\">\n",
              "      <th></th>\n",
              "      <th>ReviewTitle</th>\n",
              "      <th>CompleteReview</th>\n",
              "      <th>URL</th>\n",
              "      <th>Rating</th>\n",
              "      <th>ReviewDetails</th>\n",
              "      <th>Company Name</th>\n",
              "      <th>Date</th>\n",
              "      <th>Year</th>\n",
              "      <th>Month</th>\n",
              "      <th>Day</th>\n",
              "    </tr>\n",
              "  </thead>\n",
              "  <tbody>\n",
              "    <tr>\n",
              "      <th>0</th>\n",
              "      <td>Productive</td>\n",
              "      <td>Good company, cool workplace, work load little...</td>\n",
              "      <td>https://in.indeed.com/cmp/Reliance-Industries-...</td>\n",
              "      <td>3</td>\n",
              "      <td>(Current Employee)  -  Ghansoli  -  August 30,...</td>\n",
              "      <td>Reliance-Industries-Ltd</td>\n",
              "      <td>2021-08-30</td>\n",
              "      <td>2021</td>\n",
              "      <td>August</td>\n",
              "      <td>30</td>\n",
              "    </tr>\n",
              "    <tr>\n",
              "      <th>1</th>\n",
              "      <td>Stressful</td>\n",
              "      <td>1. Need to work on boss's whims and fancies 2....</td>\n",
              "      <td>https://in.indeed.com/cmp/Reliance-Industries-...</td>\n",
              "      <td>3</td>\n",
              "      <td>(Former Employee)  -   -  August 26, 2021</td>\n",
              "      <td>Reliance-Industries-Ltd</td>\n",
              "      <td>2021-08-26</td>\n",
              "      <td>2021</td>\n",
              "      <td>August</td>\n",
              "      <td>26</td>\n",
              "    </tr>\n",
              "    <tr>\n",
              "      <th>2</th>\n",
              "      <td>Good Company for Every employee</td>\n",
              "      <td>Good company for every Engineers dream, Full M...</td>\n",
              "      <td>https://in.indeed.com/cmp/Reliance-Industries-...</td>\n",
              "      <td>5</td>\n",
              "      <td>(Former Employee)  -   -  August 17, 2021</td>\n",
              "      <td>Reliance-Industries-Ltd</td>\n",
              "      <td>2021-08-17</td>\n",
              "      <td>2021</td>\n",
              "      <td>August</td>\n",
              "      <td>17</td>\n",
              "    </tr>\n",
              "    <tr>\n",
              "      <th>3</th>\n",
              "      <td>Productive</td>\n",
              "      <td>I am just pass out bsc in chemistry Typical da...</td>\n",
              "      <td>https://in.indeed.com/cmp/Reliance-Industries-...</td>\n",
              "      <td>5</td>\n",
              "      <td>(Current Employee)  -   -  August 17, 2021</td>\n",
              "      <td>Reliance-Industries-Ltd</td>\n",
              "      <td>2021-08-17</td>\n",
              "      <td>2021</td>\n",
              "      <td>August</td>\n",
              "      <td>17</td>\n",
              "    </tr>\n",
              "    <tr>\n",
              "      <th>4</th>\n",
              "      <td>Non productive</td>\n",
              "      <td>Not so fun at work just blame games  Target pe...</td>\n",
              "      <td>https://in.indeed.com/cmp/Reliance-Industries-...</td>\n",
              "      <td>1</td>\n",
              "      <td>(Former Employee)  -   -  August 9, 2021</td>\n",
              "      <td>Reliance-Industries-Ltd</td>\n",
              "      <td>2021-08-09</td>\n",
              "      <td>2021</td>\n",
              "      <td>August</td>\n",
              "      <td>9</td>\n",
              "    </tr>\n",
              "  </tbody>\n",
              "</table>\n",
              "</div>"
            ],
            "text/plain": [
              "                       ReviewTitle  ... Day\n",
              "0                       Productive  ...  30\n",
              "1                        Stressful  ...  26\n",
              "2  Good Company for Every employee  ...  17\n",
              "3                       Productive  ...  17\n",
              "4                   Non productive  ...   9\n",
              "\n",
              "[5 rows x 10 columns]"
            ]
          },
          "metadata": {},
          "execution_count": 48
        }
      ]
    },
    {
      "cell_type": "markdown",
      "metadata": {
        "id": "f2b656c6"
      },
      "source": [
        "**Create Employee Status Columns**"
      ],
      "id": "f2b656c6"
    },
    {
      "cell_type": "code",
      "metadata": {
        "ExecuteTime": {
          "end_time": "2021-09-27T13:15:30.599819Z",
          "start_time": "2021-09-27T13:15:30.028454Z"
        },
        "id": "2d0a9204"
      },
      "source": [
        "df['Employee Status'] = df['ReviewDetails'].str.split('-', expand=True)[0]"
      ],
      "id": "2d0a9204",
      "execution_count": 49,
      "outputs": []
    },
    {
      "cell_type": "code",
      "metadata": {
        "ExecuteTime": {
          "end_time": "2021-09-27T13:15:30.627839Z",
          "start_time": "2021-09-27T13:15:30.601768Z"
        },
        "id": "2838ef37",
        "outputId": "641eba1e-9780-4d1f-d492-45eadd2e0875",
        "colab": {
          "base_uri": "https://localhost:8080/"
        }
      },
      "source": [
        "df['Employee Status'].unique()"
      ],
      "id": "2838ef37",
      "execution_count": 50,
      "outputs": [
        {
          "output_type": "execute_result",
          "data": {
            "text/plain": [
              "array(['(Current Employee)  ', '(Former Employee)  ',\n",
              "       'Training   (Former Employee)  ', 'Officer   (Former Employee)  ',\n",
              "       'Leader   (Current Employee)  ',\n",
              "       'health care   (Current Employee)  ',\n",
              "       'Good team worker   (Former Employee)  ',\n",
              "       'Officer   (Current Employee)  ',\n",
              "       'Sr.G.M.Engineering and projects .   (Former Employee)  ',\n",
              "       'Hospitality   (Former Employee)  ',\n",
              "       'Employee   (Current Employee)  ',\n",
              "       'Employee   (Former Employee)  ', 'Worker   (Former Employee)  ',\n",
              "       'SBI PR outbound    (Current Employee)  ',\n",
              "       'PR in SBI outbound    (Current Employee)  ',\n",
              "       'SBI PR    (Former Employee)  ', 'Senior   (Former Employee)  ',\n",
              "       'Sbi inbound    (Current Employee)  ',\n",
              "       'KOTAK CARD    (Current Employee)  ',\n",
              "       'Marketing   (Current Employee)  ', 'Yes   (Current Employee)  ',\n",
              "       'Kotak cardit card    (Current Employee)  ',\n",
              "       'Kotak cards    (Current Employee)  ',\n",
              "       'OFFICER   (Current Employee)  ',\n",
              "       'Marketing   (Former Employee)  ',\n",
              "       'Ocwen, loan verification process    (Current Employee)  ',\n",
              "       'Accounts   (Former Employee)  ', 'officer   (Former Employee)  ',\n",
              "       'Ocwen process    (Current Employee)  ',\n",
              "       'officer   (Current Employee)  ',\n",
              "       'Communications   (Current Employee)  ',\n",
              "       'N/A   (Former Employee)  ', 'SA   (Current Employee)  ',\n",
              "       'Store   (Former Employee)  ', 'Generalist   (Former Employee)  ',\n",
              "       'part time job   (Current Employee)  ',\n",
              "       'Handle the Corportae clients for Sim activations.   (Former Employee)  ',\n",
              "       'training   (Former Employee)  ', 'TRAINING   (Former Employee)  ',\n",
              "       'Inbound process    (Current Employee)  ',\n",
              "       'excellent    (Current Employee)  ',\n",
              "       'health care   (Former Employee)  ',\n",
              "       'Student   (Former Employee)  ', 'yes   (Current Employee)  ',\n",
              "       'hospitality   (Former Employee)  ',\n",
              "       'Good team worker   (Current Employee)  ',\n",
              "       'New Joining    (Current Employee)  ',\n",
              "       'Customer   (Current Employee)  ',\n",
              "       'Applicant   (Current Employee)  ',\n",
              "       'Scenior Transaction Processing Officer.   (Former Employee)  ',\n",
              "       'Expert   (Former Employee)  ', 'Vitality    (Current Employee)  ',\n",
              "       'any job   (Former Employee)  ', 'Support   (Former Employee)  ',\n",
              "       'Yes bank    (Current Employee)  ',\n",
              "       'senior   (Current Employee)  ',\n",
              "       'contracted employee   (Former Employee)  ',\n",
              "       'Floater   (Current Employee)  ', 'Senior   (Current Employee)  ',\n",
              "       'SENIOR   (Current Employee)  ',\n",
              "       'Service Department   (Current Employee)  ',\n",
              "       'work from home   (Former Employee)  ',\n",
              "       'Resident   (Former Employee)  ',\n",
              "       'Serco BPO Pvt. Ltd.   (Current Employee)  ',\n",
              "       'Trainee, Shared Access Distribution Dept.   (Former Employee)  ',\n",
              "       'anonymous   (Former Employee)  ',\n",
              "       'Health care   (Current Employee)  ',\n",
              "       'https://www.indeed.co.in/   (Former Employee)  ',\n",
              "       'Intership   (Former Employee)  ',\n",
              "       'marketing   (Former Employee)  ',\n",
              "       'customer satisfaction offcier, credit cards    (Former Employee)  ',\n",
              "       'contract employee   (Current Employee)  ',\n",
              "       'employee   (Former Employee)  ',\n",
              "       'Training   (Current Employee)  ',\n",
              "       'During B COM.   (Former Employee)  ',\n",
              "       'Team Worker   (Current Employee)  ',\n",
              "       'Leader   (Former Employee)  ',\n",
              "       'Confidential   (Current Employee)  ',\n",
              "       'Current Employee   (Current Employee)  ',\n",
              "       'Anonymous   (Former Employee)  ',\n",
              "       'Sr.Technician ( Mech).   (Former Employee)  ',\n",
              "       'A.F.S.M.   (Current Employee)  ',\n",
              "       'Migrate the project from iway to software AG.   (Former Employee)  ',\n",
              "       'Head   (Former Employee)  ', 'SA   (Former Employee)  ',\n",
              "       'Administration CCO.   (Former Employee)  ',\n",
              "       'Nokia India Pvt Ltd.,   (Current Employee)  ',\n",
              "       'Job seeker for accountancy and fnance fields.   (Current Employee)  ',\n",
              "       'active member   (Former Employee)  ',\n",
              "       'Anonymous   (Current Employee)  ',\n",
              "       'Expert   (Current Employee)  ',\n",
              "       'Gold loan company.   (Former Employee)  ',\n",
              "       'finance   (Former Employee)  ',\n",
              "       'sr T. P.O.   (Current Employee)  ',\n",
              "       'Member   (Current Employee)  ', 'worker   (Former Employee)  ',\n",
              "       'ANY   (Current Employee)  ',\n",
              "       'AS A CSO IN SBI PROCESS    (Current Employee)  ',\n",
              "       'Contract employee   (Former Employee)  ',\n",
              "       'Specialised Infrastructure Er.   (Current Employee)  ',\n",
              "       'Network   (Current Employee)  ', 'any job   (Current Employee)  ',\n",
              "       'N/A   (Current Employee)  ', 'good work    (Former Employee)  ',\n",
              "       'airtel broad bond,   (Former Employee)  ',\n",
              "       'part time   (Current Employee)  ',\n",
              "       'MARKETING   (Former Employee)  ', 'Project   (Former Employee)  ',\n",
              "       'ACCOUNTS   (Current Employee)  ', 'G.A.   (Former Employee)  ',\n",
              "       'part time job   (Former Employee)  ',\n",
              "       'Lead    (Former Employee)  ',\n",
              "       'work from home   (Current Employee)  ',\n",
              "       'L3 level    (Former Employee)  ',\n",
              "       'ANY JOB   (Current Employee)  ',\n",
              "       'Projects   (Current Employee)  ', 'yes   (Former Employee)  ',\n",
              "       'worker   (Current Employee)  ',\n",
              "       'Contract Employee   (Current Employee)  ',\n",
              "       'Alaknanda Hydro Power Co. Ltd.   (Former Employee)  ',\n",
              "       'Part time   (Former Employee)  ',\n",
              "       'Transaction Processing spc.   (Current Employee)  ',\n",
              "       'Worked for the Bank Procurement and customers across the UK.   (Former Employee)  ',\n",
              "       'Aanlyst    (Current Employee)  ', '.   (Current Employee)  ',\n",
              "       'Accounts   (Current Employee)  ',\n",
              "       'I have experience with Transport.   (Current Employee)  ',\n",
              "       'Sr.Technical Sup.(Rotary/Static Equipt.).   (Former Employee)  ',\n",
              "       'Training new staff   (Current Employee)  ',\n",
              "       'DIA (Digital Interactive Advisor).   (Former Employee)  ',\n",
              "       'enthusiastically doing work taking challenges etc.   (Former Employee)  ',\n",
              "       'Former Employee   (Former Employee)  ',\n",
              "       'Test   (Current Employee)  ',\n",
              "       'Oracle Apps Technical    (Current Employee)  ',\n",
              "       'Work Experience   (Current Employee)  ',\n",
              "       'Service   (Former Employee)  ',\n",
              "       'Technology   (Former Employee)  ', 'Staff   (Former Employee)  ',\n",
              "       'confidential   (Former Employee)  ',\n",
              "       'finance   (Current Employee)  ',\n",
              "       'Contract Employee   (Former Employee)  ',\n",
              "       'Head   (Current Employee)  ', 'OFFICER   (Former Employee)  ',\n",
              "       'Middleware Admin MQ/MB/WAS/   (Current Employee)  ',\n",
              "       'Looking for jobs.   (Former Employee)  ',\n",
              "       'head   (Former Employee)  ',\n",
              "       'claims processing excutive    (Former Employee)  ',\n",
              "       'Accenture Solutions Pvt. Ltd.   (Former Employee)  ',\n",
              "       'scanning   (Former Employee)  ',\n",
              "       'HUB ACCOUNT OPERATION ( FOR 89 DAYS ).   (Former Employee)  ',\n",
              "       'Finance department   (Former Employee)  ',\n",
              "       'coex liab.   (Former Employee)  ',\n",
              "       'Admin Dept.   (Former Employee)  ',\n",
              "       'C.P.A.   (Current Employee)  ',\n",
              "       'Full Time Employee   (Current Employee)  ',\n",
              "       'Project ,Change, Major Incident ,Problem.   (Former Employee)  ',\n",
              "       'acting   (Current Employee)  ',\n",
              "       'Health care   (Former Employee)  ',\n",
              "       'operation    (Current Employee)  ',\n",
              "       'Co. Ex.   (Current Employee)  ',\n",
              "       'it is good co. and i learned many thing .   (Current Employee)  ',\n",
              "       'Center of excellence, Quality.   (Current Employee)  ',\n",
              "       'contract employee   (Former Employee)  ',\n",
              "       'I have resigned my job.   (Former Employee)  ',\n",
              "       'member   (Former Employee)  ',\n",
              "       'Full Time Employee   (Former Employee)  ',\n",
              "       'Juniour SAP Support.   (Current Employee)  ',\n",
              "       'Worked as an CSE in IBM concentrix for One Year.   (Former Employee)  ',\n",
              "       'Regular Employee   (Current Employee)  ',\n",
              "       'any jobs   (Former Employee)  ',\n",
              "       'finance department   (Former Employee)  ',\n",
              "       '3+ years of experience in Java Technologies.   (Current Employee)  ',\n",
              "       'SSE , testing    (Current Employee)  ',\n",
              "       'System Egg.   (Former Employee)  ',\n",
              "       'Senior Telecom Engr.   (Current Employee)  ',\n",
              "       'WORKER   (Current Employee)  ',\n",
              "       'Various Positions   (Current Employee)  ',\n",
              "       'Airline Fares and GDS.   (Current Employee)  ',\n",
              "       'QUALITY   (Former Employee)  ',\n",
              "       'PROGRAMER .........   (Former Employee)  '], dtype=object)"
            ]
          },
          "metadata": {},
          "execution_count": 50
        }
      ]
    },
    {
      "cell_type": "code",
      "metadata": {
        "ExecuteTime": {
          "end_time": "2021-09-27T13:15:30.803679Z",
          "start_time": "2021-09-27T13:15:30.630345Z"
        },
        "id": "fe45ca9c",
        "outputId": "34ef76c8-e7e3-4290-8bd1-5f9d54cd657a",
        "colab": {
          "base_uri": "https://localhost:8080/"
        }
      },
      "source": [
        "df['Employee Status']"
      ],
      "id": "fe45ca9c",
      "execution_count": 51,
      "outputs": [
        {
          "output_type": "execute_result",
          "data": {
            "text/plain": [
              "0         (Current Employee)  \n",
              "1          (Former Employee)  \n",
              "2          (Former Employee)  \n",
              "3         (Current Employee)  \n",
              "4          (Former Employee)  \n",
              "                  ...         \n",
              "145186     (Former Employee)  \n",
              "145187     (Former Employee)  \n",
              "145188     (Former Employee)  \n",
              "145189     (Former Employee)  \n",
              "145190     (Former Employee)  \n",
              "Name: Employee Status, Length: 145049, dtype: object"
            ]
          },
          "metadata": {},
          "execution_count": 51
        }
      ]
    },
    {
      "cell_type": "code",
      "metadata": {
        "ExecuteTime": {
          "end_time": "2021-09-27T13:15:30.908287Z",
          "start_time": "2021-09-27T13:15:30.806686Z"
        },
        "id": "2c0fe212"
      },
      "source": [
        "def get_status_employee(row_value):\n",
        "    return 'Former Employee' if 'Former Employee' in row_value else 'Current Employee'"
      ],
      "id": "2c0fe212",
      "execution_count": 52,
      "outputs": []
    },
    {
      "cell_type": "code",
      "metadata": {
        "ExecuteTime": {
          "end_time": "2021-09-27T13:15:34.491315Z",
          "start_time": "2021-09-27T13:15:30.913250Z"
        },
        "id": "d0fd844c"
      },
      "source": [
        "df['Employee Status'] = df.apply(lambda x: get_status_employee(x['Employee Status']), axis=1)"
      ],
      "id": "d0fd844c",
      "execution_count": 53,
      "outputs": []
    },
    {
      "cell_type": "code",
      "metadata": {
        "ExecuteTime": {
          "end_time": "2021-09-27T13:15:34.516381Z",
          "start_time": "2021-09-27T13:15:34.494326Z"
        },
        "id": "b88310a2",
        "outputId": "5dae7a77-7e15-4c68-d018-d26fb6b44437",
        "colab": {
          "base_uri": "https://localhost:8080/",
          "height": 306
        }
      },
      "source": [
        "df.head()"
      ],
      "id": "b88310a2",
      "execution_count": 54,
      "outputs": [
        {
          "output_type": "execute_result",
          "data": {
            "text/html": [
              "<div>\n",
              "<style scoped>\n",
              "    .dataframe tbody tr th:only-of-type {\n",
              "        vertical-align: middle;\n",
              "    }\n",
              "\n",
              "    .dataframe tbody tr th {\n",
              "        vertical-align: top;\n",
              "    }\n",
              "\n",
              "    .dataframe thead th {\n",
              "        text-align: right;\n",
              "    }\n",
              "</style>\n",
              "<table border=\"1\" class=\"dataframe\">\n",
              "  <thead>\n",
              "    <tr style=\"text-align: right;\">\n",
              "      <th></th>\n",
              "      <th>ReviewTitle</th>\n",
              "      <th>CompleteReview</th>\n",
              "      <th>URL</th>\n",
              "      <th>Rating</th>\n",
              "      <th>ReviewDetails</th>\n",
              "      <th>Company Name</th>\n",
              "      <th>Date</th>\n",
              "      <th>Year</th>\n",
              "      <th>Month</th>\n",
              "      <th>Day</th>\n",
              "      <th>Employee Status</th>\n",
              "    </tr>\n",
              "  </thead>\n",
              "  <tbody>\n",
              "    <tr>\n",
              "      <th>0</th>\n",
              "      <td>Productive</td>\n",
              "      <td>Good company, cool workplace, work load little...</td>\n",
              "      <td>https://in.indeed.com/cmp/Reliance-Industries-...</td>\n",
              "      <td>3</td>\n",
              "      <td>(Current Employee)  -  Ghansoli  -  August 30,...</td>\n",
              "      <td>Reliance-Industries-Ltd</td>\n",
              "      <td>2021-08-30</td>\n",
              "      <td>2021</td>\n",
              "      <td>August</td>\n",
              "      <td>30</td>\n",
              "      <td>Current Employee</td>\n",
              "    </tr>\n",
              "    <tr>\n",
              "      <th>1</th>\n",
              "      <td>Stressful</td>\n",
              "      <td>1. Need to work on boss's whims and fancies 2....</td>\n",
              "      <td>https://in.indeed.com/cmp/Reliance-Industries-...</td>\n",
              "      <td>3</td>\n",
              "      <td>(Former Employee)  -   -  August 26, 2021</td>\n",
              "      <td>Reliance-Industries-Ltd</td>\n",
              "      <td>2021-08-26</td>\n",
              "      <td>2021</td>\n",
              "      <td>August</td>\n",
              "      <td>26</td>\n",
              "      <td>Former Employee</td>\n",
              "    </tr>\n",
              "    <tr>\n",
              "      <th>2</th>\n",
              "      <td>Good Company for Every employee</td>\n",
              "      <td>Good company for every Engineers dream, Full M...</td>\n",
              "      <td>https://in.indeed.com/cmp/Reliance-Industries-...</td>\n",
              "      <td>5</td>\n",
              "      <td>(Former Employee)  -   -  August 17, 2021</td>\n",
              "      <td>Reliance-Industries-Ltd</td>\n",
              "      <td>2021-08-17</td>\n",
              "      <td>2021</td>\n",
              "      <td>August</td>\n",
              "      <td>17</td>\n",
              "      <td>Former Employee</td>\n",
              "    </tr>\n",
              "    <tr>\n",
              "      <th>3</th>\n",
              "      <td>Productive</td>\n",
              "      <td>I am just pass out bsc in chemistry Typical da...</td>\n",
              "      <td>https://in.indeed.com/cmp/Reliance-Industries-...</td>\n",
              "      <td>5</td>\n",
              "      <td>(Current Employee)  -   -  August 17, 2021</td>\n",
              "      <td>Reliance-Industries-Ltd</td>\n",
              "      <td>2021-08-17</td>\n",
              "      <td>2021</td>\n",
              "      <td>August</td>\n",
              "      <td>17</td>\n",
              "      <td>Current Employee</td>\n",
              "    </tr>\n",
              "    <tr>\n",
              "      <th>4</th>\n",
              "      <td>Non productive</td>\n",
              "      <td>Not so fun at work just blame games  Target pe...</td>\n",
              "      <td>https://in.indeed.com/cmp/Reliance-Industries-...</td>\n",
              "      <td>1</td>\n",
              "      <td>(Former Employee)  -   -  August 9, 2021</td>\n",
              "      <td>Reliance-Industries-Ltd</td>\n",
              "      <td>2021-08-09</td>\n",
              "      <td>2021</td>\n",
              "      <td>August</td>\n",
              "      <td>9</td>\n",
              "      <td>Former Employee</td>\n",
              "    </tr>\n",
              "  </tbody>\n",
              "</table>\n",
              "</div>"
            ],
            "text/plain": [
              "                       ReviewTitle  ...   Employee Status\n",
              "0                       Productive  ...  Current Employee\n",
              "1                        Stressful  ...   Former Employee\n",
              "2  Good Company for Every employee  ...   Former Employee\n",
              "3                       Productive  ...  Current Employee\n",
              "4                   Non productive  ...   Former Employee\n",
              "\n",
              "[5 rows x 11 columns]"
            ]
          },
          "metadata": {},
          "execution_count": 54
        }
      ]
    },
    {
      "cell_type": "markdown",
      "metadata": {
        "id": "394a3db6"
      },
      "source": [
        "## Exploratory Data Analysis (EDA)"
      ],
      "id": "394a3db6"
    },
    {
      "cell_type": "code",
      "metadata": {
        "ExecuteTime": {
          "end_time": "2021-09-27T13:37:59.861580Z",
          "start_time": "2021-09-27T13:37:59.857068Z"
        },
        "id": "7eaf4d31"
      },
      "source": [
        "def make_count_plot(data, xlabel, size_x, size_y):\n",
        "    plt.figure(figsize=(size_x, size_y))\n",
        "    sns.countplot(data)\n",
        "    plt.xlabel(xlabel, fontsize=12)\n",
        "    plt.ylabel('Frequency', fontsize=12)\n",
        "    plt.title(f'Number of Reviews Based on {xlabel}', fontsize=15)\n",
        "    plt.show()"
      ],
      "id": "7eaf4d31",
      "execution_count": 55,
      "outputs": []
    },
    {
      "cell_type": "code",
      "metadata": {
        "ExecuteTime": {
          "end_time": "2021-09-27T13:38:00.127193Z",
          "start_time": "2021-09-27T13:38:00.123179Z"
        },
        "id": "e404eacb"
      },
      "source": [
        "def make_count_plot_hue(data, xlabel, size_x, size_y, hue):\n",
        "    plt.figure(figsize=(size_x, size_y))\n",
        "    sns.countplot(data, hue=hue)\n",
        "    plt.xlabel(xlabel, fontsize=12)\n",
        "    plt.ylabel('Frequency', fontsize=12)\n",
        "    plt.title(f'Number of Reviews Based on {xlabel}', fontsize=15)\n",
        "    plt.show()"
      ],
      "id": "e404eacb",
      "execution_count": 56,
      "outputs": []
    },
    {
      "cell_type": "code",
      "metadata": {
        "ExecuteTime": {
          "end_time": "2021-09-27T13:38:00.486403Z",
          "start_time": "2021-09-27T13:38:00.480388Z"
        },
        "id": "2321ebb9"
      },
      "source": [
        "def make_count_plot_order(data, xlabel, size_x, size_y, order):\n",
        "    plt.figure(figsize=(size_x, size_y))\n",
        "    sns.countplot(data, order=order)\n",
        "    plt.xlabel(xlabel, fontsize=12)\n",
        "    plt.ylabel('Frequency', fontsize=12)\n",
        "    plt.title(f'Number of Reviews Based on {xlabel}', fontsize=15)\n",
        "    plt.show()"
      ],
      "id": "2321ebb9",
      "execution_count": 57,
      "outputs": []
    },
    {
      "cell_type": "markdown",
      "metadata": {
        "id": "3cef8a4b"
      },
      "source": [
        "**Status Employee**"
      ],
      "id": "3cef8a4b"
    },
    {
      "cell_type": "code",
      "metadata": {
        "ExecuteTime": {
          "end_time": "2021-09-27T13:38:03.125357Z",
          "start_time": "2021-09-27T13:38:02.912448Z"
        },
        "id": "7cecd88c",
        "outputId": "8a1abb6f-a6e9-4160-9861-4cc7fcfb8d5d",
        "colab": {
          "base_uri": "https://localhost:8080/",
          "height": 412
        }
      },
      "source": [
        "make_count_plot(df['Employee Status'], 'Employee Status', 6, 6)"
      ],
      "id": "7cecd88c",
      "execution_count": 58,
      "outputs": [
        {
          "output_type": "display_data",
          "data": {
            "image/png": "[encoded data removed]",
            "text/plain": [
              "<Figure size 432x432 with 1 Axes>"
            ]
          },
          "metadata": {
            "needs_background": "light"
          }
        }
      ]
    },
    {
      "cell_type": "markdown",
      "metadata": {
        "id": "d5ef4964"
      },
      "source": [
        "**Based on Year**"
      ],
      "id": "d5ef4964"
    },
    {
      "cell_type": "code",
      "metadata": {
        "ExecuteTime": {
          "end_time": "2021-09-27T13:38:13.150742Z",
          "start_time": "2021-09-27T13:38:12.817080Z"
        },
        "id": "f28709f6",
        "outputId": "8f7daea9-071b-454a-9711-e66a80f194e2",
        "colab": {
          "base_uri": "https://localhost:8080/",
          "height": 357
        }
      },
      "source": [
        "make_count_plot_order(df['Year'], 'Year', 16, 5, valid_year)"
      ],
      "id": "f28709f6",
      "execution_count": 59,
      "outputs": [
        {
          "output_type": "display_data",
          "data": {
            "image/png": "[encoded data removed]",
            "text/plain": [
              "<Figure size 1152x360 with 1 Axes>"
            ]
          },
          "metadata": {
            "needs_background": "light"
          }
        }
      ]
    },
    {
      "cell_type": "markdown",
      "metadata": {
        "id": "2d28f403"
      },
      "source": [
        "**Based on Month**"
      ],
      "id": "2d28f403"
    },
    {
      "cell_type": "code",
      "metadata": {
        "ExecuteTime": {
          "end_time": "2021-09-27T13:38:28.733581Z",
          "start_time": "2021-09-27T13:38:28.382650Z"
        },
        "id": "6f9c1e5d",
        "outputId": "ce650415-86be-4e83-cf5d-339d257617bf",
        "colab": {
          "base_uri": "https://localhost:8080/",
          "height": 357
        }
      },
      "source": [
        "make_count_plot_order(df['Month'], 'Month', 16, 5, valid_month)"
      ],
      "id": "6f9c1e5d",
      "execution_count": 60,
      "outputs": [
        {
          "output_type": "display_data",
          "data": {
            "image/png": "[encoded data removed]",
            "text/plain": [
              "<Figure size 1152x360 with 1 Axes>"
            ]
          },
          "metadata": {
            "needs_background": "light"
          }
        }
      ]
    },
    {
      "cell_type": "markdown",
      "metadata": {
        "id": "55c2f569"
      },
      "source": [
        "**Rating**"
      ],
      "id": "55c2f569"
    },
    {
      "cell_type": "code",
      "metadata": {
        "ExecuteTime": {
          "end_time": "2021-09-27T13:38:36.466905Z",
          "start_time": "2021-09-27T13:38:36.288794Z"
        },
        "id": "86b45e49",
        "outputId": "56d47737-257f-4bdb-cf8a-344cff207b75",
        "colab": {
          "base_uri": "https://localhost:8080/",
          "height": 357
        }
      },
      "source": [
        "make_count_plot(df['Rating'], 'Rating', 16, 5)"
      ],
      "id": "86b45e49",
      "execution_count": 61,
      "outputs": [
        {
          "output_type": "display_data",
          "data": {
            "image/png": "[encoded data removed]",
            "text/plain": [
              "<Figure size 1152x360 with 1 Axes>"
            ]
          },
          "metadata": {
            "needs_background": "light"
          }
        }
      ]
    },
    {
      "cell_type": "markdown",
      "metadata": {
        "id": "2a50d931"
      },
      "source": [
        "**Company Name**"
      ],
      "id": "2a50d931"
    },
    {
      "cell_type": "code",
      "metadata": {
        "ExecuteTime": {
          "end_time": "2021-09-27T14:09:59.412448Z",
          "start_time": "2021-09-27T14:09:56.946608Z"
        },
        "id": "55b261a4",
        "outputId": "5e6f479d-180d-4327-f9f2-323089e30e61",
        "colab": {
          "base_uri": "https://localhost:8080/",
          "height": 487
        }
      },
      "source": [
        "plt.figure(figsize=(16,5))\n",
        "df_company = df['Company Name'].value_counts()\n",
        "sns.barplot(x=df_company.index,\n",
        "            y=df_company)\n",
        "plt.xticks(rotation=90)\n",
        "plt.show()"
      ],
      "id": "55b261a4",
      "execution_count": 62,
      "outputs": [
        {
          "output_type": "display_data",
          "data": {
            "image/png": "[encoded data removed]",
            "text/plain": [
              "<Figure size 1152x360 with 1 Axes>"
            ]
          },
          "metadata": {
            "needs_background": "light"
          }
        }
      ]
    },
    {
      "cell_type": "markdown",
      "metadata": {
        "id": "16025e6d"
      },
      "source": [
        "**Rating Based on Employee Status**"
      ],
      "id": "16025e6d"
    },
    {
      "cell_type": "code",
      "metadata": {
        "ExecuteTime": {
          "end_time": "2021-09-27T14:15:04.102625Z",
          "start_time": "2021-09-27T14:15:02.996029Z"
        },
        "id": "252c5c94",
        "outputId": "db6c1262-6871-42cc-ddb1-028864d7f3f9",
        "colab": {
          "base_uri": "https://localhost:8080/",
          "height": 357
        }
      },
      "source": [
        "make_count_plot_hue(df['Rating'], 'Rating', 16, 5, hue=df['Employee Status'])"
      ],
      "id": "252c5c94",
      "execution_count": 63,
      "outputs": [
        {
          "output_type": "display_data",
          "data": {
            "image/png": "[encoded data removed]",
            "text/plain": [
              "<Figure size 1152x360 with 1 Axes>"
            ]
          },
          "metadata": {
            "needs_background": "light"
          }
        }
      ]
    },
    {
      "cell_type": "markdown",
      "metadata": {
        "id": "e787a527"
      },
      "source": [
        "## Build Model"
      ],
      "id": "e787a527"
    },
    {
      "cell_type": "code",
      "metadata": {
        "ExecuteTime": {
          "end_time": "2021-09-27T14:32:04.961917Z",
          "start_time": "2021-09-27T14:32:04.944871Z"
        },
        "id": "b934b683"
      },
      "source": [
        "df['Category'] = df['Rating'].replace({1:'Negative', 2:'Negative', 3:'Neutral', 4:'Positive', 5:'Positive'})"
      ],
      "id": "b934b683",
      "execution_count": 64,
      "outputs": []
    },
    {
      "cell_type": "code",
      "metadata": {
        "ExecuteTime": {
          "end_time": "2021-09-27T14:35:09.569875Z",
          "start_time": "2021-09-27T14:35:08.091301Z"
        },
        "id": "986631d1"
      },
      "source": [
        "df = df.reset_index(drop=True)"
      ],
      "id": "986631d1",
      "execution_count": 65,
      "outputs": []
    },
    {
      "cell_type": "code",
      "metadata": {
        "ExecuteTime": {
          "end_time": "2021-09-27T14:35:28.561875Z",
          "start_time": "2021-09-27T14:35:28.516804Z"
        },
        "id": "8db90a32",
        "outputId": "dbb58826-4170-43bc-eaa0-b7d125e99f7e",
        "colab": {
          "base_uri": "https://localhost:8080/",
          "height": 261
        }
      },
      "source": [
        "df.head(3)"
      ],
      "id": "8db90a32",
      "execution_count": 66,
      "outputs": [
        {
          "output_type": "execute_result",
          "data": {
            "text/html": [
              "<div>\n",
              "<style scoped>\n",
              "    .dataframe tbody tr th:only-of-type {\n",
              "        vertical-align: middle;\n",
              "    }\n",
              "\n",
              "    .dataframe tbody tr th {\n",
              "        vertical-align: top;\n",
              "    }\n",
              "\n",
              "    .dataframe thead th {\n",
              "        text-align: right;\n",
              "    }\n",
              "</style>\n",
              "<table border=\"1\" class=\"dataframe\">\n",
              "  <thead>\n",
              "    <tr style=\"text-align: right;\">\n",
              "      <th></th>\n",
              "      <th>ReviewTitle</th>\n",
              "      <th>CompleteReview</th>\n",
              "      <th>URL</th>\n",
              "      <th>Rating</th>\n",
              "      <th>ReviewDetails</th>\n",
              "      <th>Company Name</th>\n",
              "      <th>Date</th>\n",
              "      <th>Year</th>\n",
              "      <th>Month</th>\n",
              "      <th>Day</th>\n",
              "      <th>Employee Status</th>\n",
              "      <th>Category</th>\n",
              "    </tr>\n",
              "  </thead>\n",
              "  <tbody>\n",
              "    <tr>\n",
              "      <th>0</th>\n",
              "      <td>Productive</td>\n",
              "      <td>Good company, cool workplace, work load little...</td>\n",
              "      <td>https://in.indeed.com/cmp/Reliance-Industries-...</td>\n",
              "      <td>3</td>\n",
              "      <td>(Current Employee)  -  Ghansoli  -  August 30,...</td>\n",
              "      <td>Reliance-Industries-Ltd</td>\n",
              "      <td>2021-08-30</td>\n",
              "      <td>2021</td>\n",
              "      <td>August</td>\n",
              "      <td>30</td>\n",
              "      <td>Current Employee</td>\n",
              "      <td>Neutral</td>\n",
              "    </tr>\n",
              "    <tr>\n",
              "      <th>1</th>\n",
              "      <td>Stressful</td>\n",
              "      <td>1. Need to work on boss's whims and fancies 2....</td>\n",
              "      <td>https://in.indeed.com/cmp/Reliance-Industries-...</td>\n",
              "      <td>3</td>\n",
              "      <td>(Former Employee)  -   -  August 26, 2021</td>\n",
              "      <td>Reliance-Industries-Ltd</td>\n",
              "      <td>2021-08-26</td>\n",
              "      <td>2021</td>\n",
              "      <td>August</td>\n",
              "      <td>26</td>\n",
              "      <td>Former Employee</td>\n",
              "      <td>Neutral</td>\n",
              "    </tr>\n",
              "    <tr>\n",
              "      <th>2</th>\n",
              "      <td>Good Company for Every employee</td>\n",
              "      <td>Good company for every Engineers dream, Full M...</td>\n",
              "      <td>https://in.indeed.com/cmp/Reliance-Industries-...</td>\n",
              "      <td>5</td>\n",
              "      <td>(Former Employee)  -   -  August 17, 2021</td>\n",
              "      <td>Reliance-Industries-Ltd</td>\n",
              "      <td>2021-08-17</td>\n",
              "      <td>2021</td>\n",
              "      <td>August</td>\n",
              "      <td>17</td>\n",
              "      <td>Former Employee</td>\n",
              "      <td>Positive</td>\n",
              "    </tr>\n",
              "  </tbody>\n",
              "</table>\n",
              "</div>"
            ],
            "text/plain": [
              "                       ReviewTitle  ...  Category\n",
              "0                       Productive  ...   Neutral\n",
              "1                        Stressful  ...   Neutral\n",
              "2  Good Company for Every employee  ...  Positive\n",
              "\n",
              "[3 rows x 12 columns]"
            ]
          },
          "metadata": {},
          "execution_count": 66
        }
      ]
    },
    {
      "cell_type": "code",
      "metadata": {
        "ExecuteTime": {
          "end_time": "2021-09-27T14:36:35.837538Z",
          "start_time": "2021-09-27T14:36:35.820532Z"
        },
        "id": "db5826af",
        "outputId": "73ca70b7-b48a-470f-8d5e-a615ec3ca4d1",
        "colab": {
          "base_uri": "https://localhost:8080/"
        }
      },
      "source": [
        "df['Category'].value_counts()"
      ],
      "id": "db5826af",
      "execution_count": 67,
      "outputs": [
        {
          "output_type": "execute_result",
          "data": {
            "text/plain": [
              "Positive    110796\n",
              "Neutral      26465\n",
              "Negative      7788\n",
              "Name: Category, dtype: int64"
            ]
          },
          "metadata": {},
          "execution_count": 67
        }
      ]
    },
    {
      "cell_type": "code",
      "metadata": {
        "ExecuteTime": {
          "end_time": "2021-09-27T14:35:32.112802Z",
          "start_time": "2021-09-27T14:35:32.093752Z"
        },
        "id": "8afcceea"
      },
      "source": [
        "df_category = pd.get_dummies(df['Category'])"
      ],
      "id": "8afcceea",
      "execution_count": 68,
      "outputs": []
    },
    {
      "cell_type": "code",
      "metadata": {
        "ExecuteTime": {
          "end_time": "2021-09-27T14:35:34.827894Z",
          "start_time": "2021-09-27T14:35:34.816364Z"
        },
        "id": "e5af74b1",
        "outputId": "78dd68c5-80bb-496f-ebf0-18af2540468d",
        "colab": {
          "base_uri": "https://localhost:8080/",
          "height": 419
        }
      },
      "source": [
        "df_category"
      ],
      "id": "e5af74b1",
      "execution_count": 69,
      "outputs": [
        {
          "output_type": "execute_result",
          "data": {
            "text/html": [
              "<div>\n",
              "<style scoped>\n",
              "    .dataframe tbody tr th:only-of-type {\n",
              "        vertical-align: middle;\n",
              "    }\n",
              "\n",
              "    .dataframe tbody tr th {\n",
              "        vertical-align: top;\n",
              "    }\n",
              "\n",
              "    .dataframe thead th {\n",
              "        text-align: right;\n",
              "    }\n",
              "</style>\n",
              "<table border=\"1\" class=\"dataframe\">\n",
              "  <thead>\n",
              "    <tr style=\"text-align: right;\">\n",
              "      <th></th>\n",
              "      <th>Negative</th>\n",
              "      <th>Neutral</th>\n",
              "      <th>Positive</th>\n",
              "    </tr>\n",
              "  </thead>\n",
              "  <tbody>\n",
              "    <tr>\n",
              "      <th>0</th>\n",
              "      <td>0</td>\n",
              "      <td>1</td>\n",
              "      <td>0</td>\n",
              "    </tr>\n",
              "    <tr>\n",
              "      <th>1</th>\n",
              "      <td>0</td>\n",
              "      <td>1</td>\n",
              "      <td>0</td>\n",
              "    </tr>\n",
              "    <tr>\n",
              "      <th>2</th>\n",
              "      <td>0</td>\n",
              "      <td>0</td>\n",
              "      <td>1</td>\n",
              "    </tr>\n",
              "    <tr>\n",
              "      <th>3</th>\n",
              "      <td>0</td>\n",
              "      <td>0</td>\n",
              "      <td>1</td>\n",
              "    </tr>\n",
              "    <tr>\n",
              "      <th>4</th>\n",
              "      <td>1</td>\n",
              "      <td>0</td>\n",
              "      <td>0</td>\n",
              "    </tr>\n",
              "    <tr>\n",
              "      <th>...</th>\n",
              "      <td>...</td>\n",
              "      <td>...</td>\n",
              "      <td>...</td>\n",
              "    </tr>\n",
              "    <tr>\n",
              "      <th>145044</th>\n",
              "      <td>0</td>\n",
              "      <td>0</td>\n",
              "      <td>1</td>\n",
              "    </tr>\n",
              "    <tr>\n",
              "      <th>145045</th>\n",
              "      <td>0</td>\n",
              "      <td>0</td>\n",
              "      <td>1</td>\n",
              "    </tr>\n",
              "    <tr>\n",
              "      <th>145046</th>\n",
              "      <td>0</td>\n",
              "      <td>0</td>\n",
              "      <td>1</td>\n",
              "    </tr>\n",
              "    <tr>\n",
              "      <th>145047</th>\n",
              "      <td>0</td>\n",
              "      <td>1</td>\n",
              "      <td>0</td>\n",
              "    </tr>\n",
              "    <tr>\n",
              "      <th>145048</th>\n",
              "      <td>0</td>\n",
              "      <td>0</td>\n",
              "      <td>1</td>\n",
              "    </tr>\n",
              "  </tbody>\n",
              "</table>\n",
              "<p>145049 rows × 3 columns</p>\n",
              "</div>"
            ],
            "text/plain": [
              "        Negative  Neutral  Positive\n",
              "0              0        1         0\n",
              "1              0        1         0\n",
              "2              0        0         1\n",
              "3              0        0         1\n",
              "4              1        0         0\n",
              "...          ...      ...       ...\n",
              "145044         0        0         1\n",
              "145045         0        0         1\n",
              "145046         0        0         1\n",
              "145047         0        1         0\n",
              "145048         0        0         1\n",
              "\n",
              "[145049 rows x 3 columns]"
            ]
          },
          "metadata": {},
          "execution_count": 69
        }
      ]
    },
    {
      "cell_type": "code",
      "metadata": {
        "ExecuteTime": {
          "end_time": "2021-09-27T14:36:14.446573Z",
          "start_time": "2021-09-27T14:36:14.068819Z"
        },
        "id": "355a1cb8"
      },
      "source": [
        "df_new = pd.concat([df['CompleteReview'], df_category], axis=1)"
      ],
      "id": "355a1cb8",
      "execution_count": 70,
      "outputs": []
    },
    {
      "cell_type": "code",
      "metadata": {
        "ExecuteTime": {
          "end_time": "2021-09-27T14:36:16.131847Z",
          "start_time": "2021-09-27T14:36:16.119313Z"
        },
        "id": "d726b9e5",
        "outputId": "4dafad84-6816-416c-e0a0-73e7b526425c",
        "colab": {
          "base_uri": "https://localhost:8080/",
          "height": 419
        }
      },
      "source": [
        "df_new"
      ],
      "id": "d726b9e5",
      "execution_count": 71,
      "outputs": [
        {
          "output_type": "execute_result",
          "data": {
            "text/html": [
              "<div>\n",
              "<style scoped>\n",
              "    .dataframe tbody tr th:only-of-type {\n",
              "        vertical-align: middle;\n",
              "    }\n",
              "\n",
              "    .dataframe tbody tr th {\n",
              "        vertical-align: top;\n",
              "    }\n",
              "\n",
              "    .dataframe thead th {\n",
              "        text-align: right;\n",
              "    }\n",
              "</style>\n",
              "<table border=\"1\" class=\"dataframe\">\n",
              "  <thead>\n",
              "    <tr style=\"text-align: right;\">\n",
              "      <th></th>\n",
              "      <th>CompleteReview</th>\n",
              "      <th>Negative</th>\n",
              "      <th>Neutral</th>\n",
              "      <th>Positive</th>\n",
              "    </tr>\n",
              "  </thead>\n",
              "  <tbody>\n",
              "    <tr>\n",
              "      <th>0</th>\n",
              "      <td>Good company, cool workplace, work load little...</td>\n",
              "      <td>0</td>\n",
              "      <td>1</td>\n",
              "      <td>0</td>\n",
              "    </tr>\n",
              "    <tr>\n",
              "      <th>1</th>\n",
              "      <td>1. Need to work on boss's whims and fancies 2....</td>\n",
              "      <td>0</td>\n",
              "      <td>1</td>\n",
              "      <td>0</td>\n",
              "    </tr>\n",
              "    <tr>\n",
              "      <th>2</th>\n",
              "      <td>Good company for every Engineers dream, Full M...</td>\n",
              "      <td>0</td>\n",
              "      <td>0</td>\n",
              "      <td>1</td>\n",
              "    </tr>\n",
              "    <tr>\n",
              "      <th>3</th>\n",
              "      <td>I am just pass out bsc in chemistry Typical da...</td>\n",
              "      <td>0</td>\n",
              "      <td>0</td>\n",
              "      <td>1</td>\n",
              "    </tr>\n",
              "    <tr>\n",
              "      <th>4</th>\n",
              "      <td>Not so fun at work just blame games  Target pe...</td>\n",
              "      <td>1</td>\n",
              "      <td>0</td>\n",
              "      <td>0</td>\n",
              "    </tr>\n",
              "    <tr>\n",
              "      <th>...</th>\n",
              "      <td>...</td>\n",
              "      <td>...</td>\n",
              "      <td>...</td>\n",
              "      <td>...</td>\n",
              "    </tr>\n",
              "    <tr>\n",
              "      <th>145044</th>\n",
              "      <td>We get a lot to learn in the company. Very sys...</td>\n",
              "      <td>0</td>\n",
              "      <td>0</td>\n",
              "      <td>1</td>\n",
              "    </tr>\n",
              "    <tr>\n",
              "      <th>145045</th>\n",
              "      <td>Lot of scope to learn different technologies u...</td>\n",
              "      <td>0</td>\n",
              "      <td>0</td>\n",
              "      <td>1</td>\n",
              "    </tr>\n",
              "    <tr>\n",
              "      <th>145046</th>\n",
              "      <td>An overall positive experience, nice environme...</td>\n",
              "      <td>0</td>\n",
              "      <td>0</td>\n",
              "      <td>1</td>\n",
              "    </tr>\n",
              "    <tr>\n",
              "      <th>145047</th>\n",
              "      <td>Happy that I've started my career from such a ...</td>\n",
              "      <td>0</td>\n",
              "      <td>1</td>\n",
              "      <td>0</td>\n",
              "    </tr>\n",
              "    <tr>\n",
              "      <th>145048</th>\n",
              "      <td>Got good experience and knowledge about my wor...</td>\n",
              "      <td>0</td>\n",
              "      <td>0</td>\n",
              "      <td>1</td>\n",
              "    </tr>\n",
              "  </tbody>\n",
              "</table>\n",
              "<p>145049 rows × 4 columns</p>\n",
              "</div>"
            ],
            "text/plain": [
              "                                           CompleteReview  ...  Positive\n",
              "0       Good company, cool workplace, work load little...  ...         0\n",
              "1       1. Need to work on boss's whims and fancies 2....  ...         0\n",
              "2       Good company for every Engineers dream, Full M...  ...         1\n",
              "3       I am just pass out bsc in chemistry Typical da...  ...         1\n",
              "4       Not so fun at work just blame games  Target pe...  ...         0\n",
              "...                                                   ...  ...       ...\n",
              "145044  We get a lot to learn in the company. Very sys...  ...         1\n",
              "145045  Lot of scope to learn different technologies u...  ...         1\n",
              "145046  An overall positive experience, nice environme...  ...         1\n",
              "145047  Happy that I've started my career from such a ...  ...         0\n",
              "145048  Got good experience and knowledge about my wor...  ...         1\n",
              "\n",
              "[145049 rows x 4 columns]"
            ]
          },
          "metadata": {},
          "execution_count": 71
        }
      ]
    },
    {
      "cell_type": "markdown",
      "metadata": {
        "id": "e1c82653"
      },
      "source": [
        "## Build Model Without Oversampling"
      ],
      "id": "e1c82653"
    },
    {
      "cell_type": "code",
      "metadata": {
        "ExecuteTime": {
          "end_time": "2021-09-27T14:47:23.133254Z",
          "start_time": "2021-09-27T14:47:23.026612Z"
        },
        "id": "6ef5bca8"
      },
      "source": [
        "review = df_new['CompleteReview'].values\n",
        "category = df_new[['Negative', 'Neutral', 'Positive']].values"
      ],
      "id": "6ef5bca8",
      "execution_count": 72,
      "outputs": []
    },
    {
      "cell_type": "code",
      "metadata": {
        "ExecuteTime": {
          "end_time": "2021-09-27T14:49:38.967894Z",
          "start_time": "2021-09-27T14:49:38.683328Z"
        },
        "id": "9bd0d58f"
      },
      "source": [
        "X_train, X_test, y_train, y_test = train_test_split(review, category, test_size=0.2, random_state=0)"
      ],
      "id": "9bd0d58f",
      "execution_count": 73,
      "outputs": []
    },
    {
      "cell_type": "code",
      "metadata": {
        "ExecuteTime": {
          "end_time": "2021-09-27T14:51:56.776298Z",
          "start_time": "2021-09-27T14:51:39.547666Z"
        },
        "id": "fd886c8a"
      },
      "source": [
        "tokenizer = Tokenizer(num_words=50000, oov_token='-')\n",
        "tokenizer.fit_on_texts(X_train)\n",
        "tokenizer.fit_on_texts(X_test)\n",
        "\n",
        "sequence_train = tokenizer.texts_to_sequences(X_train)\n",
        "sequence_test = tokenizer.texts_to_sequences(X_test)\n",
        "\n",
        "pad_train = pad_sequences(sequence_train)\n",
        "pad_test = pad_sequences(sequence_test)"
      ],
      "id": "fd886c8a",
      "execution_count": 74,
      "outputs": []
    },
    {
      "cell_type": "markdown",
      "metadata": {
        "id": "3d7afbfc"
      },
      "source": [
        "**Callback**"
      ],
      "id": "3d7afbfc"
    },
    {
      "cell_type": "code",
      "metadata": {
        "id": "e52be599"
      },
      "source": [
        "reduce_LR = tf.keras.callbacks.ReduceLROnPlateau(\n",
        "    monitor=\"val_loss\",\n",
        "    factor=0.15,\n",
        "    patience=5,\n",
        "    min_lr=2.e-5\n",
        ")\n",
        "\n",
        "stop_early = tf.keras.callbacks.EarlyStopping(\n",
        "    monitor=\"val_loss\",\n",
        "    min_delta=0,\n",
        "    patience=10,\n",
        "    verbose=0,\n",
        "    mode=\"auto\",\n",
        "    baseline=None,\n",
        "    restore_best_weights=True\n",
        ")"
      ],
      "id": "e52be599",
      "execution_count": 75,
      "outputs": []
    },
    {
      "cell_type": "markdown",
      "metadata": {
        "ExecuteTime": {
          "end_time": "2021-09-27T14:52:36.318634Z",
          "start_time": "2021-09-27T14:52:36.313119Z"
        },
        "id": "656bf816"
      },
      "source": [
        "**Create Sequential Model**"
      ],
      "id": "656bf816"
    },
    {
      "cell_type": "code",
      "metadata": {
        "id": "67f6b474"
      },
      "source": [
        "model = tf.keras.models.Sequential([\n",
        "   tf.keras.layers.Embedding(input_dim=50000, output_dim=64),\n",
        "   tf.keras.layers.Dropout(0.4),\n",
        "   tf.keras.layers.LSTM(64),\n",
        "   tf.keras.layers.Dropout(0.3),\n",
        "   tf.keras.layers.Dense(64, activation='relu'),\n",
        "   tf.keras.layers.Dropout(0.2),\n",
        "   tf.keras.layers.Dense(64, activation='relu'),\n",
        "   tf.keras.layers.Dense(3, activation='softmax')\n",
        "])"
      ],
      "id": "67f6b474",
      "execution_count": 76,
      "outputs": []
    },
    {
      "cell_type": "code",
      "metadata": {
        "id": "fBj1TDXXMwtG",
        "outputId": "a79e0fcf-debc-4ccc-e6c9-eef374f00d75",
        "colab": {
          "base_uri": "https://localhost:8080/"
        }
      },
      "source": [
        "model.summary()"
      ],
      "id": "fBj1TDXXMwtG",
      "execution_count": 77,
      "outputs": [
        {
          "output_type": "stream",
          "name": "stdout",
          "text": [
            "Model: \"sequential\"\n",
            "_________________________________________________________________\n",
            "Layer (type)                 Output Shape              Param #   \n",
            "=================================================================\n",
            "embedding (Embedding)        (None, None, 64)          3200000   \n",
            "_________________________________________________________________\n",
            "dropout (Dropout)            (None, None, 64)          0         \n",
            "_________________________________________________________________\n",
            "lstm (LSTM)                  (None, 64)                33024     \n",
            "_________________________________________________________________\n",
            "dropout_1 (Dropout)          (None, 64)                0         \n",
            "_________________________________________________________________\n",
            "dense (Dense)                (None, 64)                4160      \n",
            "_________________________________________________________________\n",
            "dropout_2 (Dropout)          (None, 64)                0         \n",
            "_________________________________________________________________\n",
            "dense_1 (Dense)              (None, 64)                4160      \n",
            "_________________________________________________________________\n",
            "dense_2 (Dense)              (None, 3)                 195       \n",
            "=================================================================\n",
            "Total params: 3,241,539\n",
            "Trainable params: 3,241,539\n",
            "Non-trainable params: 0\n",
            "_________________________________________________________________\n"
          ]
        }
      ]
    },
    {
      "cell_type": "code",
      "metadata": {
        "id": "hkvHI4hJGkxX"
      },
      "source": [
        "model.compile(\n",
        "    optimizer='Adam',\n",
        "    loss = 'categorical_crossentropy',\n",
        "    metrics = ['accuracy']\n",
        ")"
      ],
      "id": "hkvHI4hJGkxX",
      "execution_count": 78,
      "outputs": []
    },
    {
      "cell_type": "code",
      "metadata": {
        "id": "P_iOT67JbKRJ",
        "outputId": "c0460a7f-3b29-4994-a277-57cdc51d3f4f",
        "colab": {
          "base_uri": "https://localhost:8080/"
        }
      },
      "source": [
        "pad_train.shape[0]"
      ],
      "id": "P_iOT67JbKRJ",
      "execution_count": 79,
      "outputs": [
        {
          "output_type": "execute_result",
          "data": {
            "text/plain": [
              "116039"
            ]
          },
          "metadata": {},
          "execution_count": 79
        }
      ]
    },
    {
      "cell_type": "code",
      "metadata": {
        "id": "-O48Hrg3bRzM",
        "outputId": "1478f465-5042-4898-8d6c-be6d3356286f",
        "colab": {
          "base_uri": "https://localhost:8080/"
        }
      },
      "source": [
        "y_train.shape[0]"
      ],
      "id": "-O48Hrg3bRzM",
      "execution_count": 80,
      "outputs": [
        {
          "output_type": "execute_result",
          "data": {
            "text/plain": [
              "116039"
            ]
          },
          "metadata": {},
          "execution_count": 80
        }
      ]
    },
    {
      "cell_type": "code",
      "metadata": {
        "id": "6lYlcTOFbUSq",
        "outputId": "fbef71af-f98a-4fe6-da28-44559fd8a01c",
        "colab": {
          "base_uri": "https://localhost:8080/"
        }
      },
      "source": [
        "y_test.shape[0]"
      ],
      "id": "6lYlcTOFbUSq",
      "execution_count": 81,
      "outputs": [
        {
          "output_type": "execute_result",
          "data": {
            "text/plain": [
              "29010"
            ]
          },
          "metadata": {},
          "execution_count": 81
        }
      ]
    },
    {
      "cell_type": "code",
      "metadata": {
        "id": "8T6YqP1_Gmns",
        "outputId": "73dc82a7-08b7-47f0-a316-b59ba9c5875d",
        "colab": {
          "base_uri": "https://localhost:8080/"
        }
      },
      "source": [
        "history = model.fit(\n",
        "    pad_train,\n",
        "    y_train,\n",
        "    epochs = 30,\n",
        "    steps_per_epoch = 3867,\n",
        "    callbacks = [reduce_LR, stop_early],\n",
        "    validation_data = (pad_test, y_test),\n",
        "    validation_steps = 967,\n",
        "    verbose = 1\n",
        ")"
      ],
      "id": "8T6YqP1_Gmns",
      "execution_count": 82,
      "outputs": [
        {
          "output_type": "stream",
          "name": "stdout",
          "text": [
            "Epoch 1/30\n",
            "3867/3867 [==============================] - 304s 78ms/step - loss: 0.5917 - accuracy: 0.7737 - val_loss: 0.5714 - val_accuracy: 0.7794\n",
            "Epoch 2/30\n",
            "3867/3867 [==============================] - 319s 82ms/step - loss: 0.5476 - accuracy: 0.7859 - val_loss: 0.5760 - val_accuracy: 0.7767\n",
            "Epoch 3/30\n",
            "3867/3867 [==============================] - 318s 82ms/step - loss: 0.5205 - accuracy: 0.7953 - val_loss: 0.6380 - val_accuracy: 0.7768\n",
            "Epoch 4/30\n",
            "3867/3867 [==============================] - 321s 83ms/step - loss: 0.4887 - accuracy: 0.8093 - val_loss: 0.6309 - val_accuracy: 0.7681\n",
            "Epoch 5/30\n",
            "3867/3867 [==============================] - 300s 78ms/step - loss: 0.4599 - accuracy: 0.8207 - val_loss: 0.6312 - val_accuracy: 0.7640\n",
            "Epoch 6/30\n",
            "3867/3867 [==============================] - 299s 77ms/step - loss: 0.4318 - accuracy: 0.8350 - val_loss: 0.7233 - val_accuracy: 0.7545\n",
            "Epoch 7/30\n",
            "3867/3867 [==============================] - 319s 82ms/step - loss: 0.3848 - accuracy: 0.8539 - val_loss: 0.7171 - val_accuracy: 0.7594\n",
            "Epoch 8/30\n",
            "3867/3867 [==============================] - 298s 77ms/step - loss: 0.3631 - accuracy: 0.8632 - val_loss: 0.7291 - val_accuracy: 0.7554\n",
            "Epoch 9/30\n",
            "3867/3867 [==============================] - 318s 82ms/step - loss: 0.3544 - accuracy: 0.8660 - val_loss: 0.7695 - val_accuracy: 0.7518\n",
            "Epoch 10/30\n",
            "3867/3867 [==============================] - 296s 77ms/step - loss: 0.3483 - accuracy: 0.8692 - val_loss: 0.7559 - val_accuracy: 0.7547\n",
            "Epoch 11/30\n",
            "3867/3867 [==============================] - 318s 82ms/step - loss: 0.3416 - accuracy: 0.8711 - val_loss: 0.7702 - val_accuracy: 0.7503\n"
          ]
        }
      ]
    },
    {
      "cell_type": "markdown",
      "metadata": {
        "id": "QuTrtMgfGsKk"
      },
      "source": [
        "**Plot Accuracy and Loss**"
      ],
      "id": "QuTrtMgfGsKk"
    },
    {
      "cell_type": "code",
      "metadata": {
        "id": "nAnpZG1fGrb2"
      },
      "source": [
        "def plot_accuracy(history):\n",
        "  plt.figure(figsize=(18,5))\n",
        "  acc = history.history['accuracy']\n",
        "  val_acc = history.history['val_accuracy']\n",
        "  epochs = range(len(acc))\n",
        "  plot_acc = plt.plot(epochs, acc, 'red', label='Training Accuracy')\n",
        "  plot_val_acc = plt.plot(epochs, val_acc, 'blue', label='Validation Accuracy')\n",
        "  plt.xlabel('Epoch', fontsize=15)\n",
        "  plt.ylabel('Accuracy', fontsize=15)\n",
        "  plt.title('Training and Validation Accuracy', fontsize=25)\n",
        "  plt.legend(bbox_to_anchor=(1,1), loc='best')\n",
        "  plt.grid()\n",
        "  plt.show()\n",
        "\n",
        "def plot_loss(history):\n",
        "  plt.figure(figsize=(18,5))\n",
        "  loss = history.history['loss']\n",
        "  val_loss = history.history['val_loss']\n",
        "  epochs = range(len(loss))\n",
        "  plot_loss = plt.plot(epochs, loss, 'red', label='Training Loss')\n",
        "  plot_val_loss = plt.plot(epochs, val_loss, 'blue', label='Validation Loss')\n",
        "  plt.xlabel('Epoch', fontsize=15)\n",
        "  plt.ylabel('Loss', fontsize=15)\n",
        "  plt.title('Training and Validation Loss', fontsize=25)\n",
        "  plt.legend(bbox_to_anchor=(1,1), loc='best')\n",
        "  plt.grid()\n",
        "  plt.show()"
      ],
      "id": "nAnpZG1fGrb2",
      "execution_count": 83,
      "outputs": []
    },
    {
      "cell_type": "code",
      "metadata": {
        "id": "4jCo5QmupaqW",
        "outputId": "28aae28d-bd56-4bef-d372-889725fe6767",
        "colab": {
          "base_uri": "https://localhost:8080/",
          "height": 366
        }
      },
      "source": [
        "plot_accuracy(history)"
      ],
      "id": "4jCo5QmupaqW",
      "execution_count": 84,
      "outputs": [
        {
          "output_type": "display_data",
          "data": {
            "image/png": "[encoded data removed]",
            "text/plain": [
              "<Figure size 1296x360 with 1 Axes>"
            ]
          },
          "metadata": {
            "needs_background": "light"
          }
        }
      ]
    },
    {
      "cell_type": "code",
      "metadata": {
        "id": "9fY1bTtTpaxS",
        "outputId": "0d63bd79-4659-447d-ef9a-a2249e5d578f",
        "colab": {
          "base_uri": "https://localhost:8080/",
          "height": 366
        }
      },
      "source": [
        "plot_loss(history)"
      ],
      "id": "9fY1bTtTpaxS",
      "execution_count": 85,
      "outputs": [
        {
          "output_type": "display_data",
          "data": {
            "image/png": "[encoded data removed]",
            "text/plain": [
              "<Figure size 1296x360 with 1 Axes>"
            ]
          },
          "metadata": {
            "needs_background": "light"
          }
        }
      ]
    },
    {
      "cell_type": "code",
      "metadata": {
        "id": "eYPB8hYEpdR4"
      },
      "source": [
        "y_pred = model.predict(pad_test)"
      ],
      "id": "eYPB8hYEpdR4",
      "execution_count": 88,
      "outputs": []
    },
    {
      "cell_type": "code",
      "metadata": {
        "id": "Ti8y_flGp7fP",
        "outputId": "d9051719-e64c-4c13-9e63-87e51377aed0",
        "colab": {
          "base_uri": "https://localhost:8080/"
        }
      },
      "source": [
        "np.argmax(y_pred,axis=1)"
      ],
      "id": "Ti8y_flGp7fP",
      "execution_count": 93,
      "outputs": [
        {
          "output_type": "execute_result",
          "data": {
            "text/plain": [
              "array([2, 2, 2, ..., 2, 1, 2])"
            ]
          },
          "metadata": {},
          "execution_count": 93
        }
      ]
    },
    {
      "cell_type": "code",
      "metadata": {
        "id": "idiJIjxdqAEr",
        "outputId": "c6950b70-1d00-492e-92dd-71d7c4b4f802",
        "colab": {
          "base_uri": "https://localhost:8080/"
        }
      },
      "source": [
        "np.argmax(y_test, axis=1)"
      ],
      "id": "idiJIjxdqAEr",
      "execution_count": 94,
      "outputs": [
        {
          "output_type": "execute_result",
          "data": {
            "text/plain": [
              "array([2, 1, 1, ..., 2, 2, 2])"
            ]
          },
          "metadata": {},
          "execution_count": 94
        }
      ]
    },
    {
      "cell_type": "code",
      "metadata": {
        "id": "APMDZmFzpnWe",
        "outputId": "8b19b75f-476f-460c-e77e-649c8ebb5936",
        "colab": {
          "base_uri": "https://localhost:8080/"
        }
      },
      "source": [
        "from sklearn.metrics import confusion_matrix\n",
        "confusion_matrix(np.argmax(y_pred,axis=1), np.argmax(y_test, axis=1))"
      ],
      "id": "APMDZmFzpnWe",
      "execution_count": 95,
      "outputs": [
        {
          "output_type": "execute_result",
          "data": {
            "text/plain": [
              "array([[  449,   225,   104],\n",
              "       [  455,   815,   667],\n",
              "       [  727,  4222, 21346]])"
            ]
          },
          "metadata": {},
          "execution_count": 95
        }
      ]
    },
    {
      "cell_type": "code",
      "metadata": {
        "id": "2d8BUpu4p5IG"
      },
      "source": [
        ""
      ],
      "id": "2d8BUpu4p5IG",
      "execution_count": null,
      "outputs": []
    }
  ]
}